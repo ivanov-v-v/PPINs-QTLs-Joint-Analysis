{
 "cells": [
  {
   "cell_type": "code",
   "execution_count": 2,
   "metadata": {
    "collapsed": false
   },
   "outputs": [],
   "source": [
    "# TODO: перевести все файлы либо в .soft, либо в .csv\n",
    "\n",
    "from GEOparse import *\n",
    "import pandas as pd\n",
    "import numpy as np\n",
    "import matplotlib.pyplot as plt\n",
    "import os\n",
    "import warnings"
   ]
  },
  {
   "cell_type": "code",
   "execution_count": 3,
   "metadata": {
    "collapsed": true
   },
   "outputs": [],
   "source": [
    "# retrieve all strain phenotypes available\n",
    "strains_genotyped = pd.DataFrame(pd.read_table(\"./data/jbloom_strains_genotyped.tab\"))\n",
    "# find a place where the metadata starts to dump it\n",
    "last_segregant_col = strains_genotyped.columns.tolist().index(\"17_1_a\")\n",
    "\n",
    "\n",
    "# sort the strain names\n",
    "def strain_to_list(item):\n",
    "    l = item.split('_')\n",
    "    return [int(l[0]), int(l[1]), ord(l[2])]\n",
    "\n",
    "strain_names_full = sorted(\n",
    "    strains_genotyped.columns.tolist()[1:last_segregant_col+1],\n",
    "    key=strain_to_list\n",
    ")"
   ]
  },
  {
   "cell_type": "code",
   "execution_count": 4,
   "metadata": {
    "collapsed": true
   },
   "outputs": [
    {
     "name": "stderr",
     "output_type": "stream",
     "text": [
      " - DATABASE : Geo\n - DATASET : GDS1115\n - SUBSET : GDS1115_1\n - SUBSET : GDS1115_2\n - SUBSET : GDS1115_3\n - DATASET : GDS1115\nUnknown subset type: strain for subset GDS1115_2\nUnknown subset type: strain for subset GDS1115_2\nUnknown subset type: strain for subset GDS1115_2\nUnknown subset type: strain for subset GDS1115_2\nUnknown subset type: strain for subset GDS1115_2\nUnknown subset type: strain for subset GDS1115_2\nUnknown subset type: strain for subset GDS1115_2\nUnknown subset type: strain for subset GDS1115_2\nUnknown subset type: strain for subset GDS1115_2\nUnknown subset type: strain for subset GDS1115_2\nUnknown subset type: strain for subset GDS1115_2\nUnknown subset type: strain for subset GDS1115_2\nUnknown subset type: strain for subset GDS1115_1\nUnknown subset type: strain for subset GDS1115_1\nUnknown subset type: strain for subset GDS1115_1\nUnknown subset type: strain for subset GDS1115_1\nUnknown subset type: strain for subset GDS1115_1\nUnknown subset type: strain for subset GDS1115_1\nUnknown subset type: strain for subset GDS1115_3\nUnknown subset type: strain for subset GDS1115_3\nUnknown subset type: strain for subset GDS1115_3\nUnknown subset type: strain for subset GDS1115_3\nUnknown subset type: strain for subset GDS1115_3\nUnknown subset type: strain for subset GDS1115_3\nUnknown subset type: strain for subset GDS1115_3\nUnknown subset type: strain for subset GDS1115_3\nUnknown subset type: strain for subset GDS1115_3\nUnknown subset type: strain for subset GDS1115_3\nUnknown subset type: strain for subset GDS1115_3\nUnknown subset type: strain for subset GDS1115_3\nUnknown subset type: strain for subset GDS1115_3\nUnknown subset type: strain for subset GDS1115_3\nUnknown subset type: strain for subset GDS1115_3\nUnknown subset type: strain for subset GDS1115_3\nUnknown subset type: strain for subset GDS1115_3\nUnknown subset type: strain for subset GDS1115_3\nUnknown subset type: strain for subset GDS1115_3\nUnknown subset type: strain for subset GDS1115_3\nUnknown subset type: strain for subset GDS1115_3\nUnknown subset type: strain for subset GDS1115_3\nUnknown subset type: strain for subset GDS1115_3\nUnknown subset type: strain for subset GDS1115_3\nUnknown subset type: strain for subset GDS1115_3\nUnknown subset type: strain for subset GDS1115_3\nUnknown subset type: strain for subset GDS1115_3\nUnknown subset type: strain for subset GDS1115_3\nUnknown subset type: strain for subset GDS1115_3\nUnknown subset type: strain for subset GDS1115_3\nUnknown subset type: strain for subset GDS1115_3\nUnknown subset type: strain for subset GDS1115_3\nUnknown subset type: strain for subset GDS1115_3\nUnknown subset type: strain for subset GDS1115_3\nUnknown subset type: strain for subset GDS1115_3\nUnknown subset type: strain for subset GDS1115_3\nUnknown subset type: strain for subset GDS1115_3\nUnknown subset type: strain for subset GDS1115_3\nUnknown subset type: strain for subset GDS1115_3\nUnknown subset type: strain for subset GDS1115_3\nUnknown subset type: strain for subset GDS1115_3\nUnknown subset type: strain for subset GDS1115_3\nUnknown subset type: strain for subset GDS1115_3\nUnknown subset type: strain for subset GDS1115_3\nUnknown subset type: strain for subset GDS1115_3\nUnknown subset type: strain for subset GDS1115_3\nUnknown subset type: strain for subset GDS1115_3\nUnknown subset type: strain for subset GDS1115_3\nUnknown subset type: strain for subset GDS1115_3\nUnknown subset type: strain for subset GDS1115_3\nUnknown subset type: strain for subset GDS1115_3\nUnknown subset type: strain for subset GDS1115_3\nUnknown subset type: strain for subset GDS1115_3\nUnknown subset type: strain for subset GDS1115_3\nUnknown subset type: strain for subset GDS1115_3\nUnknown subset type: strain for subset GDS1115_3\nUnknown subset type: strain for subset GDS1115_3\nUnknown subset type: strain for subset GDS1115_3\nUnknown subset type: strain for subset GDS1115_3\nUnknown subset type: strain for subset GDS1115_3\nUnknown subset type: strain for subset GDS1115_3\nUnknown subset type: strain for subset GDS1115_3\nUnknown subset type: strain for subset GDS1115_3\nUnknown subset type: strain for subset GDS1115_3\nUnknown subset type: strain for subset GDS1115_3\nUnknown subset type: strain for subset GDS1115_3\nUnknown subset type: strain for subset GDS1115_3\nUnknown subset type: strain for subset GDS1115_3\nUnknown subset type: strain for subset GDS1115_3\nUnknown subset type: strain for subset GDS1115_3\nUnknown subset type: strain for subset GDS1115_3\nUnknown subset type: strain for subset GDS1115_3\nUnknown subset type: strain for subset GDS1115_3\nUnknown subset type: strain for subset GDS1115_3\nUnknown subset type: strain for subset GDS1115_3\nUnknown subset type: strain for subset GDS1115_3\nUnknown subset type: strain for subset GDS1115_3\nUnknown subset type: strain for subset GDS1115_3\nUnknown subset type: strain for subset GDS1115_3\nUnknown subset type: strain for subset GDS1115_3\nUnknown subset type: strain for subset GDS1115_3\nUnknown subset type: strain for subset GDS1115_3\nUnknown subset type: strain for subset GDS1115_3\nUnknown subset type: strain for subset GDS1115_3\nUnknown subset type: strain for subset GDS1115_3\nUnknown subset type: strain for subset GDS1115_3\nUnknown subset type: strain for subset GDS1115_3\nUnknown subset type: strain for subset GDS1115_3\nUnknown subset type: strain for subset GDS1115_3\nUnknown subset type: strain for subset GDS1115_3\nUnknown subset type: strain for subset GDS1115_3\nUnknown subset type: strain for subset GDS1115_3\nUnknown subset type: strain for subset GDS1115_3\nUnknown subset type: strain for subset GDS1115_3\nUnknown subset type: strain for subset GDS1115_3\nUnknown subset type: strain for subset GDS1115_3\nUnknown subset type: strain for subset GDS1115_3\nUnknown subset type: strain for subset GDS1115_3\nUnknown subset type: strain for subset GDS1115_3\nUnknown subset type: strain for subset GDS1115_3\nUnknown subset type: strain for subset GDS1115_3\nUnknown subset type: strain for subset GDS1115_3\nUnknown subset type: strain for subset GDS1115_3\nUnknown subset type: strain for subset GDS1115_3\nUnknown subset type: strain for subset GDS1115_3\nUnknown subset type: strain for subset GDS1115_3\nUnknown subset type: strain for subset GDS1115_3\nUnknown subset type: strain for subset GDS1115_3\nUnknown subset type: strain for subset GDS1115_3\nUnknown subset type: strain for subset GDS1115_3\nUnknown subset type: strain for subset GDS1115_3\nUnknown subset type: strain for subset GDS1115_3\nUnknown subset type: strain for subset GDS1115_3\n"
     ]
    },
    {
     "name": "stderr",
     "output_type": "stream",
     "text": [
      " - DATABASE : Geo\n - DATASET : GDS1116\n - SUBSET : GDS1116_1\n - SUBSET : GDS1116_2\n - SUBSET : GDS1116_3\n - DATASET : GDS1116\nUnknown subset type: strain for subset GDS1116_1\nUnknown subset type: strain for subset GDS1116_1\nUnknown subset type: strain for subset GDS1116_1\nUnknown subset type: strain for subset GDS1116_1\nUnknown subset type: strain for subset GDS1116_1\nUnknown subset type: strain for subset GDS1116_1\nUnknown subset type: strain for subset GDS1116_3\nUnknown subset type: strain for subset GDS1116_3\nUnknown subset type: strain for subset GDS1116_3\nUnknown subset type: strain for subset GDS1116_3\nUnknown subset type: strain for subset GDS1116_3\nUnknown subset type: strain for subset GDS1116_3\nUnknown subset type: strain for subset GDS1116_3\nUnknown subset type: strain for subset GDS1116_3\nUnknown subset type: strain for subset GDS1116_3\nUnknown subset type: strain for subset GDS1116_3\nUnknown subset type: strain for subset GDS1116_3\nUnknown subset type: strain for subset GDS1116_3\nUnknown subset type: strain for subset GDS1116_3\nUnknown subset type: strain for subset GDS1116_3\nUnknown subset type: strain for subset GDS1116_3\nUnknown subset type: strain for subset GDS1116_3\nUnknown subset type: strain for subset GDS1116_3\nUnknown subset type: strain for subset GDS1116_3\nUnknown subset type: strain for subset GDS1116_3\nUnknown subset type: strain for subset GDS1116_3\nUnknown subset type: strain for subset GDS1116_3\nUnknown subset type: strain for subset GDS1116_3\nUnknown subset type: strain for subset GDS1116_3\nUnknown subset type: strain for subset GDS1116_3\nUnknown subset type: strain for subset GDS1116_3\nUnknown subset type: strain for subset GDS1116_3\nUnknown subset type: strain for subset GDS1116_3\nUnknown subset type: strain for subset GDS1116_3\nUnknown subset type: strain for subset GDS1116_3\nUnknown subset type: strain for subset GDS1116_3\nUnknown subset type: strain for subset GDS1116_3\nUnknown subset type: strain for subset GDS1116_3\nUnknown subset type: strain for subset GDS1116_3\nUnknown subset type: strain for subset GDS1116_3\nUnknown subset type: strain for subset GDS1116_3\nUnknown subset type: strain for subset GDS1116_3\nUnknown subset type: strain for subset GDS1116_3\nUnknown subset type: strain for subset GDS1116_3\nUnknown subset type: strain for subset GDS1116_3\nUnknown subset type: strain for subset GDS1116_3\nUnknown subset type: strain for subset GDS1116_3\nUnknown subset type: strain for subset GDS1116_3\nUnknown subset type: strain for subset GDS1116_3\nUnknown subset type: strain for subset GDS1116_3\nUnknown subset type: strain for subset GDS1116_3\nUnknown subset type: strain for subset GDS1116_3\nUnknown subset type: strain for subset GDS1116_3\nUnknown subset type: strain for subset GDS1116_3\nUnknown subset type: strain for subset GDS1116_3\nUnknown subset type: strain for subset GDS1116_3\nUnknown subset type: strain for subset GDS1116_3\nUnknown subset type: strain for subset GDS1116_3\nUnknown subset type: strain for subset GDS1116_3\nUnknown subset type: strain for subset GDS1116_3\nUnknown subset type: strain for subset GDS1116_3\nUnknown subset type: strain for subset GDS1116_3\nUnknown subset type: strain for subset GDS1116_3\nUnknown subset type: strain for subset GDS1116_3\nUnknown subset type: strain for subset GDS1116_3\nUnknown subset type: strain for subset GDS1116_3\nUnknown subset type: strain for subset GDS1116_3\nUnknown subset type: strain for subset GDS1116_3\nUnknown subset type: strain for subset GDS1116_3\nUnknown subset type: strain for subset GDS1116_3\nUnknown subset type: strain for subset GDS1116_3\nUnknown subset type: strain for subset GDS1116_3\nUnknown subset type: strain for subset GDS1116_3\nUnknown subset type: strain for subset GDS1116_3\nUnknown subset type: strain for subset GDS1116_3\nUnknown subset type: strain for subset GDS1116_3\nUnknown subset type: strain for subset GDS1116_3\nUnknown subset type: strain for subset GDS1116_3\nUnknown subset type: strain for subset GDS1116_3\nUnknown subset type: strain for subset GDS1116_3\nUnknown subset type: strain for subset GDS1116_3\nUnknown subset type: strain for subset GDS1116_3\nUnknown subset type: strain for subset GDS1116_3\nUnknown subset type: strain for subset GDS1116_3\nUnknown subset type: strain for subset GDS1116_3\nUnknown subset type: strain for subset GDS1116_3\nUnknown subset type: strain for subset GDS1116_3\nUnknown subset type: strain for subset GDS1116_3\nUnknown subset type: strain for subset GDS1116_3\nUnknown subset type: strain for subset GDS1116_3\nUnknown subset type: strain for subset GDS1116_3\nUnknown subset type: strain for subset GDS1116_3\nUnknown subset type: strain for subset GDS1116_3\nUnknown subset type: strain for subset GDS1116_3\nUnknown subset type: strain for subset GDS1116_3\nUnknown subset type: strain for subset GDS1116_3\nUnknown subset type: strain for subset GDS1116_3\nUnknown subset type: strain for subset GDS1116_3\nUnknown subset type: strain for subset GDS1116_3\nUnknown subset type: strain for subset GDS1116_3\nUnknown subset type: strain for subset GDS1116_3\nUnknown subset type: strain for subset GDS1116_3\nUnknown subset type: strain for subset GDS1116_3\nUnknown subset type: strain for subset GDS1116_3\nUnknown subset type: strain for subset GDS1116_3\nUnknown subset type: strain for subset GDS1116_3\nUnknown subset type: strain for subset GDS1116_3\nUnknown subset type: strain for subset GDS1116_3\nUnknown subset type: strain for subset GDS1116_3\nUnknown subset type: strain for subset GDS1116_3\nUnknown subset type: strain for subset GDS1116_3\nUnknown subset type: strain for subset GDS1116_3\nUnknown subset type: strain for subset GDS1116_3\nUnknown subset type: strain for subset GDS1116_3\nUnknown subset type: strain for subset GDS1116_3\nUnknown subset type: strain for subset GDS1116_3\nUnknown subset type: strain for subset GDS1116_3\nUnknown subset type: strain for subset GDS1116_3\nUnknown subset type: strain for subset GDS1116_3\nUnknown subset type: strain for subset GDS1116_2\nUnknown subset type: strain for subset GDS1116_2\nUnknown subset type: strain for subset GDS1116_2\nUnknown subset type: strain for subset GDS1116_2\nUnknown subset type: strain for subset GDS1116_2\nUnknown subset type: strain for subset GDS1116_2\nUnknown subset type: strain for subset GDS1116_2\nUnknown subset type: strain for subset GDS1116_2\nUnknown subset type: strain for subset GDS1116_2\nUnknown subset type: strain for subset GDS1116_2\nUnknown subset type: strain for subset GDS1116_2\nUnknown subset type: strain for subset GDS1116_2\n"
     ]
    }
   ],
   "source": [
    "# %%javascript\n",
    "# # suppressing annoying \"Unknown subset type\" warnings\n",
    "# # (btw, where do they come from?)\n",
    "# {$(\"div.output_stderr\").toggle();}\n",
    "\n",
    "GDS1115 = GEOparse.parse_GDS(\n",
    "    filepath=\"./data/GDS1115.soft\"\n",
    ")\n",
    "GDS1116 = GEOparse.parse_GDS(\n",
    "    filepath=\"./data/GDS1116.soft\"\n",
    ")\n",
    "# I wasn't provided with genotype data for 23_2_d,\n",
    "# hence, I dropped the corresponding columns\n",
    "GDS1115.table.drop(\"GSM62170\", axis=1, inplace=True)\n",
    "GDS1116.table.drop(\"GSM62171\", axis=1, inplace=True)"
   ]
  },
  {
   "cell_type": "code",
   "execution_count": 5,
   "metadata": {},
   "outputs": [],
   "source": [
    "# Display the GEO-samples used in brem2005 paper\n",
    "# Both from GDS1115 and GDS1116,they are equally important\n",
    "GDS1115_GSMs = GDS1115.table.columns.tolist()[:2]\n",
    "GDS1116_GSMs = GDS1116.table.columns.tolist()[:2]"
   ]
  },
  {
   "cell_type": "code",
   "execution_count": 6,
   "metadata": {},
   "outputs": [],
   "source": [
    "# Display all genotyped strains \n",
    "print(\"{}: {}\".format(\n",
    "        len(strain_names_full), \n",
    "        strain_names_full\n",
    "    )\n",
    ")"
   ]
  },
  {
   "cell_type": "code",
   "execution_count": 7,
   "metadata": {
    "collapsed": false
   },
   "outputs": [
    {
     "name": "stderr",
     "output_type": "stream",
     "text": [
      "/home/vvi/anaconda3/lib/python3.5/site-packages/ipykernel_launcher.py:6: FutureWarning: convert_objects is deprecated.  Use the data-type specific converters pd.to_datetime, pd.to_timedelta and pd.to_numeric.\n  \n"
     ]
    },
    {
     "name": "stderr",
     "output_type": "stream",
     "text": [
      "/home/vvi/anaconda3/lib/python3.5/site-packages/ipykernel_launcher.py:7: FutureWarning: convert_objects is deprecated.  Use the data-type specific converters pd.to_datetime, pd.to_timedelta and pd.to_numeric.\n  import sys\n"
     ]
    }
   ],
   "source": [
    "# Read the strain ids used in the paper\n",
    "strain_data_brem = pd.read_csv('./data/brem2005_strains.csv')\n",
    "strain_names_brem = strain_data_brem['Strain name'].tolist()\n",
    "# Extract expression data from two microarrays\n",
    "# into numpy matrices\n",
    "GDS1115_m = pd.DataFrame.copy(GDS1115.table.iloc[:, 2:])\\\n",
    "                        .convert_objects(convert_numeric=True).values\n",
    "GDS1116_m = pd.DataFrame.copy(GDS1116.table.iloc[:, 2:])\\\n",
    "                        .convert_objects(convert_numeric=True).values\n",
    "expr_avg_m = np.zeros(shape=GDS1115_m.shape)\n",
    "# Extract averaged expression data:\n",
    "# -- If both values are available, take their mean\n",
    "# -- If only one value is available, take that value\n",
    "# -- Otherwise, set expression value to numpy.nan\n",
    "for i in range(GDS1115_m.shape[0]):\n",
    "    for j in range(GDS1115_m.shape[1]):\n",
    "        if not np.isnan(GDS1115_m[i, j]) and not np.isnan(GDS1116_m[i, j]):\n",
    "            expr_avg_m[i, j] = (GDS1115_m[i, j] + GDS1116_m[i, j]) / 2.\n",
    "        elif not np.isnan(GDS1115_m[i, j]):\n",
    "            expr_avg_m[i, j] = GDS1115_m[i, j]\n",
    "        elif not np.isnan(GDS1116_m[i, j]):\n",
    "            expr_avg_m[i, j] = GDS1116_m[i, j]\n",
    "        else:\n",
    "            expr_avg_m[i, j] = np.nan\n",
    "# Construct resulting dataframe with expression data,\n",
    "# averaged and cleaned up. Firstly, replace irrelevant\n",
    "# GSMs with strain names\n",
    "expr_df = pd.DataFrame(\n",
    "    data=expr_avg_m,\n",
    "    columns=strain_names_brem\n",
    ")"
   ]
  },
  {
   "cell_type": "code",
   "execution_count": 8,
   "metadata": {},
   "outputs": [],
   "source": [
    "# Then, insert columns \"ID_REF\" and \"IDENTIFIER\"\n",
    "# to make new dataframe similar to old ones\n",
    "expr_df.insert(loc=0, column=\"ID_REF\", value=0)\n",
    "expr_df.insert(loc=1, column=\"IDENTIFIER\", value='')\n",
    "# And fill those columns with annotation values\n",
    "expr_df[\"ID_REF\"] = GDS1115.table[\"ID_REF\"]\n",
    "expr_df[\"IDENTIFIER\"] = GDS1115.table[\"IDENTIFIER\"]\n",
    "# Drop the empty rows\n",
    "expr_df = expr_df[(expr_df.IDENTIFIER != 'blank') \n",
    "        & (expr_df.IDENTIFIER != 'empty')]\n",
    "# And save everything to file\n",
    "expr_df.to_csv('./data/brem2005_RNA_expression.csv', sep='\\t')"
   ]
  },
  {
   "cell_type": "code",
   "execution_count": null,
   "metadata": {},
   "outputs": [],
   "source": [
    ""
   ]
  }
 ],
 "metadata": {
  "kernelspec": {
   "display_name": "Python 2",
   "language": "python",
   "name": "python2"
  },
  "language_info": {
   "codemirror_mode": {
    "name": "ipython",
    "version": 2.0
   },
   "file_extension": ".py",
   "mimetype": "text/x-python",
   "name": "python",
   "nbconvert_exporter": "python",
   "pygments_lexer": "ipython2",
   "version": "2.7.6"
  }
 },
 "nbformat": 4,
 "nbformat_minor": 0
}