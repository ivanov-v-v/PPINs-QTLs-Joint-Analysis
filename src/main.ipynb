{
 "cells": [
  {
   "cell_type": "code",
   "execution_count": 61,
   "metadata": {
    "collapsed": false
   },
   "outputs": [],
   "source": [
    "# TODO: перевести все файлы либо в .soft, либо в .csv\n",
    "\n",
    "from GEOparse import *\n",
    "import pandas as pd\n",
    "import numpy as np\n",
    "import matplotlib.pyplot as plt\n",
    "import os\n",
    "import warnings\n",
    "from functools import cmp_to_key"
   ]
  },
  {
   "cell_type": "code",
   "execution_count": 62,
   "metadata": {
    "collapsed": true
   },
   "outputs": [
    {
     "data": {
      "text/plain": [
       "['1_1_d',\n '1_2_d',\n '1_3_d',\n '1_4_d',\n '1_5_c',\n '2_1_d',\n '2_2_d',\n '2_3_d',\n '2_4_a',\n '2_5_d',\n '2_6_d',\n '2_7_a',\n '2_7_b',\n '2_7_c',\n '2_7_d',\n '3_1_d',\n '3_2_d',\n '3_3_d',\n '3_4_d',\n '3_5_d',\n '4_1_c',\n '4_2_a',\n '4_3_d',\n '4_4_d',\n '5_1_d',\n '5_2_d',\n '5_3_d',\n '5_4_d',\n '5_5_d',\n '6_1_d',\n '6_2_b',\n '6_3_c',\n '6_4_d',\n '6_5_d',\n '6_6_d',\n '6_7_d',\n '7_1_d',\n '7_2_c',\n '7_3_d',\n '7_4_c',\n '7_5_d',\n '7_6_c',\n '7_7_c',\n '7_8_d',\n '8_1_a',\n '8_2_d',\n '8_3_a',\n '8_4_c',\n '8_5_b',\n '8_6_c',\n '8_7_b',\n '9_1_d',\n '9_2_d',\n '9_3_d',\n '9_4_d',\n '9_5_d',\n '9_6_d',\n '9_7_d',\n '10_1_c',\n '10_2_d',\n '10_3_c',\n '10_4_d',\n '11_1_a',\n '11_2_d',\n '11_3_b',\n '12_1_d',\n '12_2_b',\n '13_1_a',\n '13_2_c',\n '13_3_b',\n '13_4_a',\n '13_5_c',\n '14_1_b',\n '14_2_c',\n '14_3_d',\n '14_4_a',\n '14_5_b',\n '14_6_d',\n '14_7_c',\n '15_2_d',\n '15_3_b',\n '15_4_d',\n '15_5_b',\n '15_6_c',\n '16_1_d',\n '17_1_a',\n '17_2_d',\n '17_4_a',\n '17_5_b',\n '18_1_d',\n '18_2_d',\n '18_3_d',\n '18_4_c',\n '18_6_d',\n '19_1_c',\n '19_2_c',\n '19_3_c',\n '19_4_b',\n '19_5_b',\n '20_1_d',\n '20_2_d',\n '20_3_c',\n '20_4_c',\n '20_5_d',\n '21_1_d',\n '21_2_d',\n '21_3_d',\n '21_4_d',\n '21_5_c',\n '22_1_d',\n '22_2_d',\n '22_3_b',\n '22_4_d',\n '22_5_d',\n '23_3_d',\n '23_4_d',\n '23_5_d',\n '24_1_d',\n '25_1_d',\n '25_3_d',\n '25_4_d',\n '26_1_d',\n '26_2_d',\n '26_3_d']"
      ]
     },
     "execution_count": 62,
     "metadata": {},
     "output_type": "execute_result"
    }
   ],
   "source": [
    "# retrieve all strain phenotypes available\n",
    "strains_genotyped = pd.DataFrame(pd.read_table(\"./data/jbloom_strains_genotyped.tab\"))\n",
    "# find a place where the metadata starts to dump it\n",
    "last_segregant_col = strains_genotyped.columns.tolist().index(\"17_1_a\")\n",
    "\n",
    "\n",
    "# sort the strain names\n",
    "def strain_to_list(item):\n",
    "    l = item.split('_')\n",
    "    return [int(l[0]), int(l[1]), ord(l[2])]\n",
    "\n",
    "strain_names_full = sorted(\n",
    "    strains_genotyped.columns.tolist()[1:last_segregant_col+1],\n",
    "    key=strain_to_list\n",
    ")\n",
    "\n",
    "strain_names_full"
   ]
  },
  {
   "cell_type": "code",
   "execution_count": 63,
   "metadata": {
    "collapsed": true
   },
   "outputs": [
    {
     "name": "stderr",
     "output_type": "stream",
     "text": [
      " - DATABASE : Geo\n - DATASET : GDS1115\n - SUBSET : GDS1115_1\n - SUBSET : GDS1115_2\n - SUBSET : GDS1115_3\n - DATASET : GDS1115\nUnknown subset type: strain for subset GDS1115_3\nUnknown subset type: strain for subset GDS1115_3\nUnknown subset type: strain for subset GDS1115_3\nUnknown subset type: strain for subset GDS1115_3\nUnknown subset type: strain for subset GDS1115_3\nUnknown subset type: strain for subset GDS1115_3\nUnknown subset type: strain for subset GDS1115_3\nUnknown subset type: strain for subset GDS1115_3\nUnknown subset type: strain for subset GDS1115_3\nUnknown subset type: strain for subset GDS1115_3\nUnknown subset type: strain for subset GDS1115_3\nUnknown subset type: strain for subset GDS1115_3\nUnknown subset type: strain for subset GDS1115_3\nUnknown subset type: strain for subset GDS1115_3\nUnknown subset type: strain for subset GDS1115_3\nUnknown subset type: strain for subset GDS1115_3\nUnknown subset type: strain for subset GDS1115_3\nUnknown subset type: strain for subset GDS1115_3\nUnknown subset type: strain for subset GDS1115_3\nUnknown subset type: strain for subset GDS1115_3\nUnknown subset type: strain for subset GDS1115_3\nUnknown subset type: strain for subset GDS1115_3\nUnknown subset type: strain for subset GDS1115_3\nUnknown subset type: strain for subset GDS1115_3\nUnknown subset type: strain for subset GDS1115_3\nUnknown subset type: strain for subset GDS1115_3\nUnknown subset type: strain for subset GDS1115_3\nUnknown subset type: strain for subset GDS1115_3\nUnknown subset type: strain for subset GDS1115_3\nUnknown subset type: strain for subset GDS1115_3\nUnknown subset type: strain for subset GDS1115_3\nUnknown subset type: strain for subset GDS1115_3\nUnknown subset type: strain for subset GDS1115_3\nUnknown subset type: strain for subset GDS1115_3\nUnknown subset type: strain for subset GDS1115_3\nUnknown subset type: strain for subset GDS1115_3\nUnknown subset type: strain for subset GDS1115_3\nUnknown subset type: strain for subset GDS1115_3\nUnknown subset type: strain for subset GDS1115_3\nUnknown subset type: strain for subset GDS1115_3\nUnknown subset type: strain for subset GDS1115_3\nUnknown subset type: strain for subset GDS1115_3\nUnknown subset type: strain for subset GDS1115_3\nUnknown subset type: strain for subset GDS1115_3\nUnknown subset type: strain for subset GDS1115_3\nUnknown subset type: strain for subset GDS1115_3\nUnknown subset type: strain for subset GDS1115_3\nUnknown subset type: strain for subset GDS1115_3\nUnknown subset type: strain for subset GDS1115_3\nUnknown subset type: strain for subset GDS1115_3\nUnknown subset type: strain for subset GDS1115_3\nUnknown subset type: strain for subset GDS1115_3\nUnknown subset type: strain for subset GDS1115_3\nUnknown subset type: strain for subset GDS1115_3\nUnknown subset type: strain for subset GDS1115_3\nUnknown subset type: strain for subset GDS1115_3\nUnknown subset type: strain for subset GDS1115_3\nUnknown subset type: strain for subset GDS1115_3\nUnknown subset type: strain for subset GDS1115_3\nUnknown subset type: strain for subset GDS1115_3\nUnknown subset type: strain for subset GDS1115_3\nUnknown subset type: strain for subset GDS1115_3\nUnknown subset type: strain for subset GDS1115_3\nUnknown subset type: strain for subset GDS1115_3\nUnknown subset type: strain for subset GDS1115_3\nUnknown subset type: strain for subset GDS1115_3\nUnknown subset type: strain for subset GDS1115_3\nUnknown subset type: strain for subset GDS1115_3\nUnknown subset type: strain for subset GDS1115_3\nUnknown subset type: strain for subset GDS1115_3\nUnknown subset type: strain for subset GDS1115_3\nUnknown subset type: strain for subset GDS1115_3\nUnknown subset type: strain for subset GDS1115_3\nUnknown subset type: strain for subset GDS1115_3\nUnknown subset type: strain for subset GDS1115_3\nUnknown subset type: strain for subset GDS1115_3\nUnknown subset type: strain for subset GDS1115_3\nUnknown subset type: strain for subset GDS1115_3\nUnknown subset type: strain for subset GDS1115_3\nUnknown subset type: strain for subset GDS1115_3\nUnknown subset type: strain for subset GDS1115_3\nUnknown subset type: strain for subset GDS1115_3\nUnknown subset type: strain for subset GDS1115_3\nUnknown subset type: strain for subset GDS1115_3\nUnknown subset type: strain for subset GDS1115_3\nUnknown subset type: strain for subset GDS1115_3\nUnknown subset type: strain for subset GDS1115_3\nUnknown subset type: strain for subset GDS1115_3\nUnknown subset type: strain for subset GDS1115_3\nUnknown subset type: strain for subset GDS1115_3\nUnknown subset type: strain for subset GDS1115_3\nUnknown subset type: strain for subset GDS1115_3\nUnknown subset type: strain for subset GDS1115_3\nUnknown subset type: strain for subset GDS1115_3\nUnknown subset type: strain for subset GDS1115_3\nUnknown subset type: strain for subset GDS1115_3\nUnknown subset type: strain for subset GDS1115_3\nUnknown subset type: strain for subset GDS1115_3\nUnknown subset type: strain for subset GDS1115_3\nUnknown subset type: strain for subset GDS1115_3\nUnknown subset type: strain for subset GDS1115_3\nUnknown subset type: strain for subset GDS1115_3\nUnknown subset type: strain for subset GDS1115_3\nUnknown subset type: strain for subset GDS1115_3\nUnknown subset type: strain for subset GDS1115_3\nUnknown subset type: strain for subset GDS1115_3\nUnknown subset type: strain for subset GDS1115_3\nUnknown subset type: strain for subset GDS1115_3\nUnknown subset type: strain for subset GDS1115_3\nUnknown subset type: strain for subset GDS1115_3\nUnknown subset type: strain for subset GDS1115_3\nUnknown subset type: strain for subset GDS1115_3\nUnknown subset type: strain for subset GDS1115_3\nUnknown subset type: strain for subset GDS1115_2\nUnknown subset type: strain for subset GDS1115_2\nUnknown subset type: strain for subset GDS1115_2\nUnknown subset type: strain for subset GDS1115_2\nUnknown subset type: strain for subset GDS1115_2\nUnknown subset type: strain for subset GDS1115_2\nUnknown subset type: strain for subset GDS1115_2\nUnknown subset type: strain for subset GDS1115_2\nUnknown subset type: strain for subset GDS1115_2\nUnknown subset type: strain for subset GDS1115_2\nUnknown subset type: strain for subset GDS1115_2\nUnknown subset type: strain for subset GDS1115_2\nUnknown subset type: strain for subset GDS1115_1\nUnknown subset type: strain for subset GDS1115_1\nUnknown subset type: strain for subset GDS1115_1\nUnknown subset type: strain for subset GDS1115_1\nUnknown subset type: strain for subset GDS1115_1\nUnknown subset type: strain for subset GDS1115_1\n"
     ]
    },
    {
     "name": "stderr",
     "output_type": "stream",
     "text": [
      " - DATABASE : Geo\n - DATASET : GDS1116\n - SUBSET : GDS1116_1\n - SUBSET : GDS1116_2\n - SUBSET : GDS1116_3\n - DATASET : GDS1116\nUnknown subset type: strain for subset GDS1116_3\nUnknown subset type: strain for subset GDS1116_3\nUnknown subset type: strain for subset GDS1116_3\nUnknown subset type: strain for subset GDS1116_3\nUnknown subset type: strain for subset GDS1116_3\nUnknown subset type: strain for subset GDS1116_3\nUnknown subset type: strain for subset GDS1116_3\nUnknown subset type: strain for subset GDS1116_3\nUnknown subset type: strain for subset GDS1116_3\nUnknown subset type: strain for subset GDS1116_3\nUnknown subset type: strain for subset GDS1116_3\nUnknown subset type: strain for subset GDS1116_3\nUnknown subset type: strain for subset GDS1116_3\nUnknown subset type: strain for subset GDS1116_3\nUnknown subset type: strain for subset GDS1116_3\nUnknown subset type: strain for subset GDS1116_3\nUnknown subset type: strain for subset GDS1116_3\nUnknown subset type: strain for subset GDS1116_3\nUnknown subset type: strain for subset GDS1116_3\nUnknown subset type: strain for subset GDS1116_3\nUnknown subset type: strain for subset GDS1116_3\nUnknown subset type: strain for subset GDS1116_3\nUnknown subset type: strain for subset GDS1116_3\nUnknown subset type: strain for subset GDS1116_3\nUnknown subset type: strain for subset GDS1116_3\nUnknown subset type: strain for subset GDS1116_3\nUnknown subset type: strain for subset GDS1116_3\nUnknown subset type: strain for subset GDS1116_3\nUnknown subset type: strain for subset GDS1116_3\nUnknown subset type: strain for subset GDS1116_3\nUnknown subset type: strain for subset GDS1116_3\nUnknown subset type: strain for subset GDS1116_3\nUnknown subset type: strain for subset GDS1116_3\nUnknown subset type: strain for subset GDS1116_3\nUnknown subset type: strain for subset GDS1116_3\nUnknown subset type: strain for subset GDS1116_3\nUnknown subset type: strain for subset GDS1116_3\nUnknown subset type: strain for subset GDS1116_3\nUnknown subset type: strain for subset GDS1116_3\nUnknown subset type: strain for subset GDS1116_3\nUnknown subset type: strain for subset GDS1116_3\nUnknown subset type: strain for subset GDS1116_3\nUnknown subset type: strain for subset GDS1116_3\nUnknown subset type: strain for subset GDS1116_3\nUnknown subset type: strain for subset GDS1116_3\nUnknown subset type: strain for subset GDS1116_3\nUnknown subset type: strain for subset GDS1116_3\nUnknown subset type: strain for subset GDS1116_3\nUnknown subset type: strain for subset GDS1116_3\nUnknown subset type: strain for subset GDS1116_3\nUnknown subset type: strain for subset GDS1116_3\nUnknown subset type: strain for subset GDS1116_3\nUnknown subset type: strain for subset GDS1116_3\nUnknown subset type: strain for subset GDS1116_3\nUnknown subset type: strain for subset GDS1116_3\nUnknown subset type: strain for subset GDS1116_3\nUnknown subset type: strain for subset GDS1116_3\nUnknown subset type: strain for subset GDS1116_3\nUnknown subset type: strain for subset GDS1116_3\nUnknown subset type: strain for subset GDS1116_3\nUnknown subset type: strain for subset GDS1116_3\nUnknown subset type: strain for subset GDS1116_3\nUnknown subset type: strain for subset GDS1116_3\nUnknown subset type: strain for subset GDS1116_3\nUnknown subset type: strain for subset GDS1116_3\nUnknown subset type: strain for subset GDS1116_3\nUnknown subset type: strain for subset GDS1116_3\nUnknown subset type: strain for subset GDS1116_3\nUnknown subset type: strain for subset GDS1116_3\nUnknown subset type: strain for subset GDS1116_3\nUnknown subset type: strain for subset GDS1116_3\nUnknown subset type: strain for subset GDS1116_3\nUnknown subset type: strain for subset GDS1116_3\nUnknown subset type: strain for subset GDS1116_3\nUnknown subset type: strain for subset GDS1116_3\nUnknown subset type: strain for subset GDS1116_3\nUnknown subset type: strain for subset GDS1116_3\nUnknown subset type: strain for subset GDS1116_3\nUnknown subset type: strain for subset GDS1116_3\nUnknown subset type: strain for subset GDS1116_3\nUnknown subset type: strain for subset GDS1116_3\nUnknown subset type: strain for subset GDS1116_3\nUnknown subset type: strain for subset GDS1116_3\nUnknown subset type: strain for subset GDS1116_3\nUnknown subset type: strain for subset GDS1116_3\nUnknown subset type: strain for subset GDS1116_3\nUnknown subset type: strain for subset GDS1116_3\nUnknown subset type: strain for subset GDS1116_3\nUnknown subset type: strain for subset GDS1116_3\nUnknown subset type: strain for subset GDS1116_3\nUnknown subset type: strain for subset GDS1116_3\nUnknown subset type: strain for subset GDS1116_3\nUnknown subset type: strain for subset GDS1116_3\nUnknown subset type: strain for subset GDS1116_3\nUnknown subset type: strain for subset GDS1116_3\nUnknown subset type: strain for subset GDS1116_3\nUnknown subset type: strain for subset GDS1116_3\nUnknown subset type: strain for subset GDS1116_3\nUnknown subset type: strain for subset GDS1116_3\nUnknown subset type: strain for subset GDS1116_3\nUnknown subset type: strain for subset GDS1116_3\nUnknown subset type: strain for subset GDS1116_3\nUnknown subset type: strain for subset GDS1116_3\nUnknown subset type: strain for subset GDS1116_3\nUnknown subset type: strain for subset GDS1116_3\nUnknown subset type: strain for subset GDS1116_3\nUnknown subset type: strain for subset GDS1116_3\nUnknown subset type: strain for subset GDS1116_3\nUnknown subset type: strain for subset GDS1116_3\nUnknown subset type: strain for subset GDS1116_3\nUnknown subset type: strain for subset GDS1116_3\nUnknown subset type: strain for subset GDS1116_3\nUnknown subset type: strain for subset GDS1116_3\nUnknown subset type: strain for subset GDS1116_2\nUnknown subset type: strain for subset GDS1116_2\nUnknown subset type: strain for subset GDS1116_2\nUnknown subset type: strain for subset GDS1116_2\nUnknown subset type: strain for subset GDS1116_2\nUnknown subset type: strain for subset GDS1116_2\nUnknown subset type: strain for subset GDS1116_2\nUnknown subset type: strain for subset GDS1116_2\nUnknown subset type: strain for subset GDS1116_2\nUnknown subset type: strain for subset GDS1116_2\nUnknown subset type: strain for subset GDS1116_2\nUnknown subset type: strain for subset GDS1116_2\nUnknown subset type: strain for subset GDS1116_1\nUnknown subset type: strain for subset GDS1116_1\nUnknown subset type: strain for subset GDS1116_1\nUnknown subset type: strain for subset GDS1116_1\nUnknown subset type: strain for subset GDS1116_1\nUnknown subset type: strain for subset GDS1116_1\n"
     ]
    }
   ],
   "source": [
    "# %%javascript\n",
    "# # suppressing annoying \"Unknown subset type\" warnings\n",
    "# # (btw, where do they come from?)\n",
    "# {$(\"div.output_stderr\").toggle();}\n",
    "\n",
    "GDS1115 = GEOparse.parse_GDS(\n",
    "    filepath=\"./data/GDS1115.soft\"\n",
    ")\n",
    "GDS1116 = GEOparse.parse_GDS(\n",
    "    filepath=\"./data/GDS1116.soft\"\n",
    ")\n",
    "# I wasn't provided with genotype data for 23_2_d,\n",
    "# hence, I dropped the corresponding columns\n",
    "GDS1115.table.drop(\"GSM62170\", axis=1, inplace=True)\n",
    "GDS1116.table.drop(\"GSM62171\", axis=1, inplace=True)"
   ]
  },
  {
   "cell_type": "code",
   "execution_count": 64,
   "metadata": {},
   "outputs": [],
   "source": [
    "# Display the GEO-samples used in brem2005 paper\n",
    "# Both from GDS1115 and GDS1116,they are equally important\n",
    "GDS1115_GSMs = GDS1115.table.columns.tolist()[:2]\n",
    "GDS1116_GSMs = GDS1116.table.columns.tolist()[:2]"
   ]
  },
  {
   "cell_type": "code",
   "execution_count": 65,
   "metadata": {},
   "outputs": [
    {
     "name": "stdout",
     "output_type": "stream",
     "text": [
      "124: ['1_1_d', '1_2_d', '1_3_d', '1_4_d', '1_5_c', '2_1_d', '2_2_d', '2_3_d', '2_4_a', '2_5_d', '2_6_d', '2_7_a', '2_7_b', '2_7_c', '2_7_d', '3_1_d', '3_2_d', '3_3_d', '3_4_d', '3_5_d', '4_1_c', '4_2_a', '4_3_d', '4_4_d', '5_1_d', '5_2_d', '5_3_d', '5_4_d', '5_5_d', '6_1_d', '6_2_b', '6_3_c', '6_4_d', '6_5_d', '6_6_d', '6_7_d', '7_1_d', '7_2_c', '7_3_d', '7_4_c', '7_5_d', '7_6_c', '7_7_c', '7_8_d', '8_1_a', '8_2_d', '8_3_a', '8_4_c', '8_5_b', '8_6_c', '8_7_b', '9_1_d', '9_2_d', '9_3_d', '9_4_d', '9_5_d', '9_6_d', '9_7_d', '10_1_c', '10_2_d', '10_3_c', '10_4_d', '11_1_a', '11_2_d', '11_3_b', '12_1_d', '12_2_b', '13_1_a', '13_2_c', '13_3_b', '13_4_a', '13_5_c', '14_1_b', '14_2_c', '14_3_d', '14_4_a', '14_5_b', '14_6_d', '14_7_c', '15_2_d', '15_3_b', '15_4_d', '15_5_b', '15_6_c', '16_1_d', '17_1_a', '17_2_d', '17_4_a', '17_5_b', '18_1_d', '18_2_d', '18_3_d', '18_4_c', '18_6_d', '19_1_c', '19_2_c', '19_3_c', '19_4_b', '19_5_b', '20_1_d', '20_2_d', '20_3_c', '20_4_c', '20_5_d', '21_1_d', '21_2_d', '21_3_d', '21_4_d', '21_5_c', '22_1_d', '22_2_d', '22_3_b', '22_4_d', '22_5_d', '23_3_d', '23_4_d', '23_5_d', '24_1_d', '25_1_d', '25_3_d', '25_4_d', '26_1_d', '26_2_d', '26_3_d']\n"
     ]
    }
   ],
   "source": [
    "# Display all genotyped strains \n",
    "print(\"{}: {}\".format(\n",
    "        len(strain_names_full), \n",
    "        strain_names_full\n",
    "    )\n",
    ")"
   ]
  },
  {
   "cell_type": "code",
   "execution_count": 66,
   "metadata": {
    "collapsed": false
   },
   "outputs": [
    {
     "name": "stdout",
     "output_type": "stream",
     "text": [
      "['ID_REF', 'IDENTIFIER', 'By1', 'By2', 'BY3', 'BY4', 'BY5', 'BY6', 'RM1_1', 'RM2_1', 'RM3_1', 'RM4_1', 'RM5', 'RM6', 'RM3_2', 'RM4_2', 'RM1_2', 'RM2_2', 'RM3_2', 'RM4_2', '1_1_d', '1_3_d', '1_4_d', '1_5_c', '2_2_d', '2_3_d', '2_4_a', '2_5_d', '2_6_d', '3_1_d', '3_3_d', '3_4_d', '3_5_d', '4_1_c', '4_3_d', '4_4_d', '5_1_d', '5_2_d', '5_3_d', '5_4_d', '5_5_d', '6_1_d', '6_2_b', '6_3_c', '6_4_d', '6_5_d', '6_6_d', '6_7_d', '7_1_d', '7_2_c', '7_3_d', '7_4_c', '7_5_d', '7_6_c', '7_7_c', '7_8_d', '8_1_a', '8_2_d', '8_3_a', '8_4_c', '8_5_b', '8_6_c', '8_7_b', '9_1_d', '9_2_d', '9_3_d', '9_4_d', '9_5_d', '9_6_d', '9_7_d', '10_1_c', '10_2_d', '10_3_c', '10_4_d', '11_1_a', '11_2_d', '11_3_b', '12_1_d', '12_2_b', '13_1_a', '13_2_c', '13_3_b', '13_4_a', '13_5_c', '14_1_b', '14_2_c', '14_3_d', '14_4_a', '14_5_b', '14_6_d', '14_7_c', '15_2_d', '15_3_b', '15_4_d', '15_5_b', '15_6_c', '16_1_d', '17_1_a', '17_2_d', '17_4_a', '17_5_b', '18_1_d', '18_2_d', '18_3_d', '18_4_c', '18_6_d', '19_1_c', '19_2_c', '19_3_c', '19_4_b', '19_5_b', '20_1_d', '20_2_d', '20_3_c', '20_4_c', '21_1_d', '21_2_d', '21_3_d', '21_4_d', '21_5_c', '22_2_d', '22_3_b', '22_4_d', '22_5_d', '23_3_d', '23_5_d', '24_1_d', '25_1_d', '25_3_d', '25_4_d', '26_1_d', '26_2_d']\n"
     ]
    }
   ],
   "source": [
    "# Read the strain ids used in the paper\n",
    "strain_data_brem = pd.read_csv('./data/brem2005_strains.csv')\n",
    "strain_names_brem = strain_data_brem['Strain name'].tolist()\n",
    "expression_df = GDS1115.table\n",
    "expression_df.columns = [\"ID_REF\", \"IDENTIFIER\"] + strain_names_brem\n",
    "print(expression_df.columns.tolist())"
   ]
  }
 ],
 "metadata": {
  "kernelspec": {
   "display_name": "Python 2",
   "language": "python",
   "name": "python2"
  },
  "language_info": {
   "codemirror_mode": {
    "name": "ipython",
    "version": 2.0
   },
   "file_extension": ".py",
   "mimetype": "text/x-python",
   "name": "python",
   "nbconvert_exporter": "python",
   "pygments_lexer": "ipython2",
   "version": "2.7.6"
  }
 },
 "nbformat": 4,
 "nbformat_minor": 0
}