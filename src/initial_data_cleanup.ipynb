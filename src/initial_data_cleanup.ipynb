{
 "cells": [
  {
   "cell_type": "code",
   "execution_count": null,
   "metadata": {
    "collapsed": false
   },
   "outputs": [],
   "source": [
    "from GEOparse import *\n",
    "import pandas as pd\n",
    "import numpy as np\n",
    "import os\n",
    "import sys"
   ]
  },
  {
   "cell_type": "code",
   "execution_count": 10,
   "metadata": {
    "collapsed": true
   },
   "outputs": [
    {
     "name": "stdout",
     "output_type": "stream",
     "text": [
      "124: ['1_1_d', '1_2_d', '1_3_d', '1_4_d', '1_5_c', '2_1_d', '2_2_d', '2_3_d', '2_4_a', '2_5_d', '2_6_d', '2_7_a', '2_7_b', '2_7_c', '2_7_d', '3_1_d', '3_2_d', '3_3_d', '3_4_d', '3_5_d', '4_1_c', '4_2_a', '4_3_d', '4_4_d', '5_1_d', '5_2_d', '5_3_d', '5_4_d', '5_5_d', '6_1_d', '6_2_b', '6_3_c', '6_4_d', '6_5_d', '6_6_d', '6_7_d', '7_1_d', '7_2_c', '7_3_d', '7_4_c', '7_5_d', '7_6_c', '7_7_c', '7_8_d', '8_1_a', '8_2_d', '8_3_a', '8_4_c', '8_5_b', '8_6_c', '8_7_b', '9_1_d', '9_2_d', '9_3_d', '9_4_d', '9_5_d', '9_6_d', '9_7_d', '10_1_c', '10_2_d', '10_3_c', '10_4_d', '11_1_a', '11_2_d', '11_3_b', '12_1_d', '12_2_b', '13_1_a', '13_2_c', '13_3_b', '13_4_a', '13_5_c', '14_1_b', '14_2_c', '14_3_d', '14_4_a', '14_5_b', '14_6_d', '14_7_c', '15_2_d', '15_3_b', '15_4_d', '15_5_b', '15_6_c', '16_1_d', '17_1_a', '17_2_d', '17_4_a', '17_5_b', '18_1_d', '18_2_d', '18_3_d', '18_4_c', '18_6_d', '19_1_c', '19_2_c', '19_3_c', '19_4_b', '19_5_b', '20_1_d', '20_2_d', '20_3_c', '20_4_c', '20_5_d', '21_1_d', '21_2_d', '21_3_d', '21_4_d', '21_5_c', '22_1_d', '22_2_d', '22_3_b', '22_4_d', '22_5_d', '23_3_d', '23_4_d', '23_5_d', '24_1_d', '25_1_d', '25_3_d', '25_4_d', '26_1_d', '26_2_d', '26_3_d']\n"
     ]
    }
   ],
   "source": [
    "# retrieve all strain phenotypes available\n",
    "strains_genotyped = pd.DataFrame(pd.read_table(\"./data/jbloom_strains_genotyped.tab\"))\n",
    "# find a place where the metadata starts to dump it\n",
    "last_segregant_col = strains_genotyped.columns.tolist().index(\"17_1_a\")\n",
    "\n",
    "\n",
    "# sort the strain names\n",
    "def strain_to_list(item):\n",
    "    l = item.split('_')\n",
    "    return [int(l[0]), int(l[1]), ord(l[2])]\n",
    "\n",
    "strain_names_full = sorted(\n",
    "    strains_genotyped.columns.tolist()[1:last_segregant_col+1],\n",
    "    key=strain_to_list\n",
    ")\n",
    "\n",
    "# Display all genotyped strains \n",
    "print(\"{}: {}\".format(\n",
    "        len(strain_names_full), \n",
    "        strain_names_full\n",
    "    )\n",
    ")"
   ]
  },
  {
   "cell_type": "code",
   "execution_count": 10,
   "metadata": {
    "collapsed": true
   },
   "outputs": [
    {
     "name": "stderr",
     "output_type": "stream",
     "text": [
      " - DATABASE : Geo\n - DATASET : GDS1115\n - SUBSET : GDS1115_1\n - SUBSET : GDS1115_2\n - SUBSET : GDS1115_3\n - DATASET : GDS1115\nUnknown subset type: strain for subset GDS1115_3\nUnknown subset type: strain for subset GDS1115_3\nUnknown subset type: strain for subset GDS1115_3\nUnknown subset type: strain for subset GDS1115_3\nUnknown subset type: strain for subset GDS1115_3\nUnknown subset type: strain for subset GDS1115_3\nUnknown subset type: strain for subset GDS1115_3\nUnknown subset type: strain for subset GDS1115_3\nUnknown subset type: strain for subset GDS1115_3\nUnknown subset type: strain for subset GDS1115_3\nUnknown subset type: strain for subset GDS1115_3\nUnknown subset type: strain for subset GDS1115_3\nUnknown subset type: strain for subset GDS1115_3\nUnknown subset type: strain for subset GDS1115_3\nUnknown subset type: strain for subset GDS1115_3\nUnknown subset type: strain for subset GDS1115_3\nUnknown subset type: strain for subset GDS1115_3\nUnknown subset type: strain for subset GDS1115_3\nUnknown subset type: strain for subset GDS1115_3\nUnknown subset type: strain for subset GDS1115_3\nUnknown subset type: strain for subset GDS1115_3\nUnknown subset type: strain for subset GDS1115_3\nUnknown subset type: strain for subset GDS1115_3\nUnknown subset type: strain for subset GDS1115_3\nUnknown subset type: strain for subset GDS1115_3\nUnknown subset type: strain for subset GDS1115_3\nUnknown subset type: strain for subset GDS1115_3\nUnknown subset type: strain for subset GDS1115_3\nUnknown subset type: strain for subset GDS1115_3\nUnknown subset type: strain for subset GDS1115_3\nUnknown subset type: strain for subset GDS1115_3\nUnknown subset type: strain for subset GDS1115_3\nUnknown subset type: strain for subset GDS1115_3\nUnknown subset type: strain for subset GDS1115_3\nUnknown subset type: strain for subset GDS1115_3\nUnknown subset type: strain for subset GDS1115_3\nUnknown subset type: strain for subset GDS1115_3\nUnknown subset type: strain for subset GDS1115_3\nUnknown subset type: strain for subset GDS1115_3\nUnknown subset type: strain for subset GDS1115_3\nUnknown subset type: strain for subset GDS1115_3\nUnknown subset type: strain for subset GDS1115_3\nUnknown subset type: strain for subset GDS1115_3\nUnknown subset type: strain for subset GDS1115_3\nUnknown subset type: strain for subset GDS1115_3\nUnknown subset type: strain for subset GDS1115_3\nUnknown subset type: strain for subset GDS1115_3\nUnknown subset type: strain for subset GDS1115_3\nUnknown subset type: strain for subset GDS1115_3\nUnknown subset type: strain for subset GDS1115_3\nUnknown subset type: strain for subset GDS1115_3\nUnknown subset type: strain for subset GDS1115_3\nUnknown subset type: strain for subset GDS1115_3\nUnknown subset type: strain for subset GDS1115_3\nUnknown subset type: strain for subset GDS1115_3\nUnknown subset type: strain for subset GDS1115_3\nUnknown subset type: strain for subset GDS1115_3\nUnknown subset type: strain for subset GDS1115_3\nUnknown subset type: strain for subset GDS1115_3\nUnknown subset type: strain for subset GDS1115_3\nUnknown subset type: strain for subset GDS1115_3\nUnknown subset type: strain for subset GDS1115_3\nUnknown subset type: strain for subset GDS1115_3\nUnknown subset type: strain for subset GDS1115_3\nUnknown subset type: strain for subset GDS1115_3\nUnknown subset type: strain for subset GDS1115_3\nUnknown subset type: strain for subset GDS1115_3\nUnknown subset type: strain for subset GDS1115_3\nUnknown subset type: strain for subset GDS1115_3\nUnknown subset type: strain for subset GDS1115_3\nUnknown subset type: strain for subset GDS1115_3\nUnknown subset type: strain for subset GDS1115_3\nUnknown subset type: strain for subset GDS1115_3\nUnknown subset type: strain for subset GDS1115_3\nUnknown subset type: strain for subset GDS1115_3\nUnknown subset type: strain for subset GDS1115_3\nUnknown subset type: strain for subset GDS1115_3\nUnknown subset type: strain for subset GDS1115_3\nUnknown subset type: strain for subset GDS1115_3\nUnknown subset type: strain for subset GDS1115_3\nUnknown subset type: strain for subset GDS1115_3\nUnknown subset type: strain for subset GDS1115_3\nUnknown subset type: strain for subset GDS1115_3\nUnknown subset type: strain for subset GDS1115_3\nUnknown subset type: strain for subset GDS1115_3\nUnknown subset type: strain for subset GDS1115_3\nUnknown subset type: strain for subset GDS1115_3\nUnknown subset type: strain for subset GDS1115_3\nUnknown subset type: strain for subset GDS1115_3\nUnknown subset type: strain for subset GDS1115_3\nUnknown subset type: strain for subset GDS1115_3\nUnknown subset type: strain for subset GDS1115_3\nUnknown subset type: strain for subset GDS1115_3\nUnknown subset type: strain for subset GDS1115_3\nUnknown subset type: strain for subset GDS1115_3\nUnknown subset type: strain for subset GDS1115_3\nUnknown subset type: strain for subset GDS1115_3\nUnknown subset type: strain for subset GDS1115_3\nUnknown subset type: strain for subset GDS1115_3\nUnknown subset type: strain for subset GDS1115_3\nUnknown subset type: strain for subset GDS1115_3\nUnknown subset type: strain for subset GDS1115_3\nUnknown subset type: strain for subset GDS1115_3\nUnknown subset type: strain for subset GDS1115_3\nUnknown subset type: strain for subset GDS1115_3\nUnknown subset type: strain for subset GDS1115_3\nUnknown subset type: strain for subset GDS1115_3\nUnknown subset type: strain for subset GDS1115_3\nUnknown subset type: strain for subset GDS1115_3\nUnknown subset type: strain for subset GDS1115_3\nUnknown subset type: strain for subset GDS1115_3\nUnknown subset type: strain for subset GDS1115_3\nUnknown subset type: strain for subset GDS1115_3\nUnknown subset type: strain for subset GDS1115_2\nUnknown subset type: strain for subset GDS1115_2\nUnknown subset type: strain for subset GDS1115_2\nUnknown subset type: strain for subset GDS1115_2\nUnknown subset type: strain for subset GDS1115_2\nUnknown subset type: strain for subset GDS1115_2\nUnknown subset type: strain for subset GDS1115_2\nUnknown subset type: strain for subset GDS1115_2\nUnknown subset type: strain for subset GDS1115_2\nUnknown subset type: strain for subset GDS1115_2\nUnknown subset type: strain for subset GDS1115_2\nUnknown subset type: strain for subset GDS1115_2\nUnknown subset type: strain for subset GDS1115_1\nUnknown subset type: strain for subset GDS1115_1\nUnknown subset type: strain for subset GDS1115_1\nUnknown subset type: strain for subset GDS1115_1\nUnknown subset type: strain for subset GDS1115_1\nUnknown subset type: strain for subset GDS1115_1\n"
     ]
    },
    {
     "name": "stderr",
     "output_type": "stream",
     "text": [
      " - DATABASE : Geo\n - DATASET : GDS1116\n - SUBSET : GDS1116_1\n - SUBSET : GDS1116_2\n - SUBSET : GDS1116_3\n - DATASET : GDS1116\nUnknown subset type: strain for subset GDS1116_2\nUnknown subset type: strain for subset GDS1116_2\nUnknown subset type: strain for subset GDS1116_2\nUnknown subset type: strain for subset GDS1116_2\nUnknown subset type: strain for subset GDS1116_2\nUnknown subset type: strain for subset GDS1116_2\nUnknown subset type: strain for subset GDS1116_2\nUnknown subset type: strain for subset GDS1116_2\nUnknown subset type: strain for subset GDS1116_2\nUnknown subset type: strain for subset GDS1116_2\nUnknown subset type: strain for subset GDS1116_2\nUnknown subset type: strain for subset GDS1116_2\nUnknown subset type: strain for subset GDS1116_1\nUnknown subset type: strain for subset GDS1116_1\nUnknown subset type: strain for subset GDS1116_1\nUnknown subset type: strain for subset GDS1116_1\nUnknown subset type: strain for subset GDS1116_1\nUnknown subset type: strain for subset GDS1116_1\nUnknown subset type: strain for subset GDS1116_3\nUnknown subset type: strain for subset GDS1116_3\nUnknown subset type: strain for subset GDS1116_3\nUnknown subset type: strain for subset GDS1116_3\nUnknown subset type: strain for subset GDS1116_3\nUnknown subset type: strain for subset GDS1116_3\nUnknown subset type: strain for subset GDS1116_3\nUnknown subset type: strain for subset GDS1116_3\nUnknown subset type: strain for subset GDS1116_3\nUnknown subset type: strain for subset GDS1116_3\nUnknown subset type: strain for subset GDS1116_3\nUnknown subset type: strain for subset GDS1116_3\nUnknown subset type: strain for subset GDS1116_3\nUnknown subset type: strain for subset GDS1116_3\nUnknown subset type: strain for subset GDS1116_3\nUnknown subset type: strain for subset GDS1116_3\nUnknown subset type: strain for subset GDS1116_3\nUnknown subset type: strain for subset GDS1116_3\nUnknown subset type: strain for subset GDS1116_3\nUnknown subset type: strain for subset GDS1116_3\nUnknown subset type: strain for subset GDS1116_3\nUnknown subset type: strain for subset GDS1116_3\nUnknown subset type: strain for subset GDS1116_3\nUnknown subset type: strain for subset GDS1116_3\nUnknown subset type: strain for subset GDS1116_3\nUnknown subset type: strain for subset GDS1116_3\nUnknown subset type: strain for subset GDS1116_3\nUnknown subset type: strain for subset GDS1116_3\nUnknown subset type: strain for subset GDS1116_3\nUnknown subset type: strain for subset GDS1116_3\nUnknown subset type: strain for subset GDS1116_3\nUnknown subset type: strain for subset GDS1116_3\nUnknown subset type: strain for subset GDS1116_3\nUnknown subset type: strain for subset GDS1116_3\nUnknown subset type: strain for subset GDS1116_3\nUnknown subset type: strain for subset GDS1116_3\nUnknown subset type: strain for subset GDS1116_3\nUnknown subset type: strain for subset GDS1116_3\nUnknown subset type: strain for subset GDS1116_3\nUnknown subset type: strain for subset GDS1116_3\nUnknown subset type: strain for subset GDS1116_3\nUnknown subset type: strain for subset GDS1116_3\nUnknown subset type: strain for subset GDS1116_3\nUnknown subset type: strain for subset GDS1116_3\nUnknown subset type: strain for subset GDS1116_3\nUnknown subset type: strain for subset GDS1116_3\nUnknown subset type: strain for subset GDS1116_3\nUnknown subset type: strain for subset GDS1116_3\nUnknown subset type: strain for subset GDS1116_3\nUnknown subset type: strain for subset GDS1116_3\nUnknown subset type: strain for subset GDS1116_3\nUnknown subset type: strain for subset GDS1116_3\nUnknown subset type: strain for subset GDS1116_3\nUnknown subset type: strain for subset GDS1116_3\nUnknown subset type: strain for subset GDS1116_3\nUnknown subset type: strain for subset GDS1116_3\nUnknown subset type: strain for subset GDS1116_3\nUnknown subset type: strain for subset GDS1116_3\nUnknown subset type: strain for subset GDS1116_3\nUnknown subset type: strain for subset GDS1116_3\nUnknown subset type: strain for subset GDS1116_3\nUnknown subset type: strain for subset GDS1116_3\nUnknown subset type: strain for subset GDS1116_3\nUnknown subset type: strain for subset GDS1116_3\nUnknown subset type: strain for subset GDS1116_3\nUnknown subset type: strain for subset GDS1116_3\nUnknown subset type: strain for subset GDS1116_3\nUnknown subset type: strain for subset GDS1116_3\nUnknown subset type: strain for subset GDS1116_3\nUnknown subset type: strain for subset GDS1116_3\nUnknown subset type: strain for subset GDS1116_3\nUnknown subset type: strain for subset GDS1116_3\nUnknown subset type: strain for subset GDS1116_3\nUnknown subset type: strain for subset GDS1116_3\nUnknown subset type: strain for subset GDS1116_3\nUnknown subset type: strain for subset GDS1116_3\nUnknown subset type: strain for subset GDS1116_3\nUnknown subset type: strain for subset GDS1116_3\nUnknown subset type: strain for subset GDS1116_3\nUnknown subset type: strain for subset GDS1116_3\nUnknown subset type: strain for subset GDS1116_3\nUnknown subset type: strain for subset GDS1116_3\nUnknown subset type: strain for subset GDS1116_3\nUnknown subset type: strain for subset GDS1116_3\nUnknown subset type: strain for subset GDS1116_3\nUnknown subset type: strain for subset GDS1116_3\nUnknown subset type: strain for subset GDS1116_3\nUnknown subset type: strain for subset GDS1116_3\nUnknown subset type: strain for subset GDS1116_3\nUnknown subset type: strain for subset GDS1116_3\nUnknown subset type: strain for subset GDS1116_3\nUnknown subset type: strain for subset GDS1116_3\nUnknown subset type: strain for subset GDS1116_3\nUnknown subset type: strain for subset GDS1116_3\nUnknown subset type: strain for subset GDS1116_3\nUnknown subset type: strain for subset GDS1116_3\nUnknown subset type: strain for subset GDS1116_3\nUnknown subset type: strain for subset GDS1116_3\nUnknown subset type: strain for subset GDS1116_3\nUnknown subset type: strain for subset GDS1116_3\nUnknown subset type: strain for subset GDS1116_3\nUnknown subset type: strain for subset GDS1116_3\nUnknown subset type: strain for subset GDS1116_3\nUnknown subset type: strain for subset GDS1116_3\nUnknown subset type: strain for subset GDS1116_3\nUnknown subset type: strain for subset GDS1116_3\nUnknown subset type: strain for subset GDS1116_3\nUnknown subset type: strain for subset GDS1116_3\nUnknown subset type: strain for subset GDS1116_3\nUnknown subset type: strain for subset GDS1116_3\nUnknown subset type: strain for subset GDS1116_3\nUnknown subset type: strain for subset GDS1116_3\nUnknown subset type: strain for subset GDS1116_3\n"
     ]
    }
   ],
   "source": [
    "# Parse GDS with experiment data\n",
    "# Ignore annoying \"Unknown subset type\" warnings\n",
    "null_device = open(os.devnull, 'w')\n",
    "original_stderr = sys.__stderr__\n",
    "sys.__stderr__ = null_device  \n",
    "\n",
    "GDS1115 = GEOparse.parse_GDS(\n",
    "    filepath=\"./data/GDS1115.soft\"\n",
    ")\n",
    "   \n",
    "GDS1116 = GEOparse.parse_GDS(\n",
    "    filepath=\"./data/GDS1116.soft\"\n",
    ")\n",
    "# I wasn't provided with genotype data for 23_2_d,\n",
    "# hence, I dropped the corresponding columns\n",
    "GDS1115.table.drop(\"GSM62170\", axis=1, inplace=True)\n",
    "GDS1116.table.drop(\"GSM62171\", axis=1, inplace=True)\n",
    "sys.__stderr__ = original_stderr"
   ]
  },
  {
   "cell_type": "code",
   "execution_count": 13,
   "metadata": {
    "collapsed": false
   },
   "outputs": [
    {
     "name": "stderr",
     "output_type": "stream",
     "text": [
      "/home/vvi/anaconda3/lib/python3.5/site-packages/ipykernel_launcher.py:6: FutureWarning: convert_objects is deprecated.  Use the data-type specific converters pd.to_datetime, pd.to_timedelta and pd.to_numeric.\n  \n"
     ]
    },
    {
     "name": "stderr",
     "output_type": "stream",
     "text": [
      "/home/vvi/anaconda3/lib/python3.5/site-packages/ipykernel_launcher.py:7: FutureWarning: convert_objects is deprecated.  Use the data-type specific converters pd.to_datetime, pd.to_timedelta and pd.to_numeric.\n  import sys\n"
     ]
    }
   ],
   "source": [
    "# Read the strain ids used in the paper\n",
    "strain_data_brem = pd.read_csv('./data/brem2005_strains.csv')\n",
    "strain_names_brem = strain_data_brem['Strain name'].tolist()\n",
    "# Extract expression data from two microarrays\n",
    "# into numpy matrices\n",
    "GDS1115_m = pd.DataFrame.copy(GDS1115.table.iloc[:, 2:])\\\n",
    "                        .convert_objects(convert_numeric=True).values\n",
    "GDS1116_m = pd.DataFrame.copy(GDS1116.table.iloc[:, 2:])\\\n",
    "                        .convert_objects(convert_numeric=True).values\n",
    "expr_avg_m = np.zeros(shape=GDS1115_m.shape)\n",
    "# Extract averaged expression data:\n",
    "# -- If both values are available, take their mean\n",
    "# -- If only one value is available, take that value\n",
    "# -- Otherwise, set expression value to numpy.nan\n",
    "for i in range(GDS1115_m.shape[0]):\n",
    "    for j in range(GDS1115_m.shape[1]):\n",
    "        if not np.isnan(GDS1115_m[i, j]) and not np.isnan(GDS1116_m[i, j]):\n",
    "            expr_avg_m[i, j] = (GDS1115_m[i, j] + GDS1116_m[i, j]) / 2.\n",
    "        elif not np.isnan(GDS1115_m[i, j]):\n",
    "            expr_avg_m[i, j] = GDS1115_m[i, j]\n",
    "        elif not np.isnan(GDS1116_m[i, j]):\n",
    "            expr_avg_m[i, j] = GDS1116_m[i, j]\n",
    "        else:\n",
    "            expr_avg_m[i, j] = np.nan\n",
    "# Construct resulting dataframe with expression data,g\n",
    "# averaged and cleaned up. Firstly, replace irrelevant\n",
    "# GSMs with strain names\n",
    "expr_df = pd.DataFrame(\n",
    "    data=expr_avg_m,\n",
    "    columns=strain_names_brem\n",
    ")"
   ]
  },
  {
   "cell_type": "code",
   "execution_count": 1,
   "metadata": {},
   "outputs": [
    {
     "ename": "NameError",
     "evalue": "name 'expr_df' is not defined",
     "traceback": [
      "\u001b[0;31m---------------------------------------------------------------------------\u001b[0m",
      "\u001b[0;31mNameError\u001b[0m                                 Traceback (most recent call last)",
      "\u001b[0;32m<ipython-input-1-ca5d4c534ff6>\u001b[0m in \u001b[0;36m<module>\u001b[0;34m()\u001b[0m\n\u001b[1;32m      1\u001b[0m \u001b[0;31m# Then, insert columns \"ID_REF\" and \"IDENTIFIER\"\u001b[0m\u001b[0;34m\u001b[0m\u001b[0;34m\u001b[0m\u001b[0m\n\u001b[1;32m      2\u001b[0m \u001b[0;31m# to make new dataframe similar to old ones\u001b[0m\u001b[0;34m\u001b[0m\u001b[0;34m\u001b[0m\u001b[0m\n\u001b[0;32m----> 3\u001b[0;31m \u001b[0mexpr_df\u001b[0m\u001b[0;34m.\u001b[0m\u001b[0minsert\u001b[0m\u001b[0;34m(\u001b[0m\u001b[0mloc\u001b[0m\u001b[0;34m=\u001b[0m\u001b[0;36m0\u001b[0m\u001b[0;34m,\u001b[0m \u001b[0mcolumn\u001b[0m\u001b[0;34m=\u001b[0m\u001b[0;34m\"ID_REF\"\u001b[0m\u001b[0;34m,\u001b[0m \u001b[0mvalue\u001b[0m\u001b[0;34m=\u001b[0m\u001b[0;36m0\u001b[0m\u001b[0;34m)\u001b[0m\u001b[0;34m\u001b[0m\u001b[0m\n\u001b[0m\u001b[1;32m      4\u001b[0m \u001b[0mexpr_df\u001b[0m\u001b[0;34m.\u001b[0m\u001b[0minsert\u001b[0m\u001b[0;34m(\u001b[0m\u001b[0mloc\u001b[0m\u001b[0;34m=\u001b[0m\u001b[0;36m1\u001b[0m\u001b[0;34m,\u001b[0m \u001b[0mcolumn\u001b[0m\u001b[0;34m=\u001b[0m\u001b[0;34m\"IDENTIFIER\"\u001b[0m\u001b[0;34m,\u001b[0m \u001b[0mvalue\u001b[0m\u001b[0;34m=\u001b[0m\u001b[0;34m''\u001b[0m\u001b[0;34m)\u001b[0m\u001b[0;34m\u001b[0m\u001b[0m\n\u001b[1;32m      5\u001b[0m \u001b[0;31m# And fill those columns with annotation values\u001b[0m\u001b[0;34m\u001b[0m\u001b[0;34m\u001b[0m\u001b[0m\n",
      "\u001b[0;31mNameError\u001b[0m: name 'expr_df' is not defined"
     ],
     "output_type": "error"
    }
   ],
   "source": [
    "# Then, insert columns \"ID_REF\" and \"IDENTIFIER\"\n",
    "# to make new dataframe similar to old ones\n",
    "expr_df.insert(loc=0, column=\"ID_REF\", value=0)\n",
    "expr_df.insert(loc=1, column=\"IDENTIFIER\", value='')\n",
    "# And fill those columns with annotation values\n",
    "expr_df[\"ID_REF\"] = GDS1115.table[\"ID_REF\"]\n",
    "expr_df[\"IDENTIFIER\"] = GDS1115.table[\"IDENTIFIER\"]\n",
    "# Drop the empty rows\n",
    "expr_df = expr_df[(expr_df.IDENTIFIER != 'blank') \n",
    "        & (expr_df.IDENTIFIER != 'empty')]\n",
    "# And save everything to csv file\n",
    "expr_df.to_csv(\n",
    "    './data/brem2005_RNA_expression.csv',\n",
    "    index=False,\n",
    "    sep='\\t'\n",
    ")"
   ]
  },
  {
   "cell_type": "code",
   "execution_count": 2,
   "metadata": {},
   "outputs": [
    {
     "ename": "NameError",
     "evalue": "name 'pd' is not defined",
     "traceback": [
      "\u001b[0;31m---------------------------------------------------------------------------\u001b[0m",
      "\u001b[0;31mNameError\u001b[0m                                 Traceback (most recent call last)",
      "\u001b[0;32m<ipython-input-2-1d417e2bbdd1>\u001b[0m in \u001b[0;36m<module>\u001b[0;34m()\u001b[0m\n\u001b[1;32m      1\u001b[0m \u001b[0;31m# BY and RM strains values must be averaged and placed into two separate columns\u001b[0m\u001b[0;34m\u001b[0m\u001b[0;34m\u001b[0m\u001b[0m\n\u001b[1;32m      2\u001b[0m \u001b[0;34m\u001b[0m\u001b[0m\n\u001b[0;32m----> 3\u001b[0;31m \u001b[0mexpression_df\u001b[0m \u001b[0;34m=\u001b[0m \u001b[0mpd\u001b[0m\u001b[0;34m.\u001b[0m\u001b[0mread_table\u001b[0m\u001b[0;34m(\u001b[0m\u001b[0;34m'./data/brem2005_RNA_expression.csv'\u001b[0m\u001b[0;34m)\u001b[0m\u001b[0;34m\u001b[0m\u001b[0m\n\u001b[0m\u001b[1;32m      4\u001b[0m \u001b[0mgenotypes_df_raw\u001b[0m \u001b[0;34m=\u001b[0m \u001b[0mpd\u001b[0m\u001b[0;34m.\u001b[0m\u001b[0mread_table\u001b[0m\u001b[0;34m(\u001b[0m\u001b[0;34m'./data/jbloom_strains_genotyped.tab'\u001b[0m\u001b[0;34m)\u001b[0m\u001b[0;34m\u001b[0m\u001b[0m\n\u001b[1;32m      5\u001b[0m \u001b[0;34m\u001b[0m\u001b[0m\n",
      "\u001b[0;31mNameError\u001b[0m: name 'pd' is not defined"
     ],
     "output_type": "error"
    }
   ],
   "source": [
    "# BY and RM strains values must be averaged and placed into two separate columns\n",
    "\n",
    "expression_df = pd.read_table('./data/brem2005_RNA_expression.csv')\n",
    "genotypes_df_raw = pd.read_table('./data/jbloom_strains_genotyped.tab')\n",
    "\n",
    "# Add columns with the parental genotypes\n",
    "# to use their averaged expression data\n",
    "\n",
    "genotypes_df_raw.insert(\n",
    "    loc=1, \n",
    "    column=\"BY\", \n",
    "    value=np.zeros(markers_n, dtype=\"int\")\n",
    ") \n",
    "genotypes_df_raw.insert(\n",
    "    loc=2,\n",
    "    column=\"RM\",\n",
    "    value=np.ones(markers_n, dtype=\"int\")\n",
    ")"
   ]
  },
  {
   "cell_type": "code",
   "execution_count": null,
   "metadata": {},
   "outputs": [],
   "source": [
    "# Average the expression values over all parental strains.\n",
    "# Add averaged columns called \"BY\" and \"RM\" to expression dataframe\n",
    "# and remove the parental strains' columns\n",
    "\n",
    "BY_expr_df = expression_df.iloc[:, 2:8]\n",
    "RM_expr_df = expression_df.iloc[:, 8:20]\n",
    "\n",
    "\n",
    "def avg_expr_df(df):\n",
    "    row_n, col_n = df.shape \n",
    "    averaged = np.full(shape=row_n, fill_value=np.nan)\n",
    "    # iterate over rows of a dataframe\n",
    "    for i, row in enumerate(df.itertuples()):\n",
    "        expr_sum, cnt = 0., 0.\n",
    "        # and average non-NaN values of the columns\n",
    "        # presence of NaNs is exactly the reason why the columns \n",
    "        # cannot be simply added together and averaged\n",
    "        for j in range(1, col_n + 1):\n",
    "            if not np.isnan(row[j]):\n",
    "                expr_sum += row[j]\n",
    "                cnt += 1\n",
    "        if cnt:\n",
    "            averaged[i] = expr_sum / cnt\n",
    "    return averaged\n",
    "\n",
    "\n",
    "pd.DataFrame.to_csv(\n",
    "    expression_df,\n",
    "    \"./data/rna_expression_full.csv\",\n",
    "    sep='\\t'\n",
    ")\n",
    "\n",
    "expression_df.insert(\n",
    "    loc=2,\n",
    "    column=\"BY\",\n",
    "    value=pd.DataFrame(avg_expr_df(BY_expr_df))\n",
    ")\n",
    "\n",
    "expression_df.insert(\n",
    "    loc=3,\n",
    "    column=\"RM\",\n",
    "    value=pd.DataFrame(avg_expr_df(RM_expr_df))\n",
    ")\n",
    "\n",
    "# Non-averaged expression data of parental strains is no longer necessary,\n",
    "# so the appropriate columns are dropped from the dataframe\n",
    "\n",
    "\n",
    "expression_df = expression_df.drop(\n",
    "    BY_expr_df.columns.tolist() + RM_expr_df.columns.tolist(), \n",
    "    axis=1\n",
    ")\n",
    "\n",
    "pd.DataFrame.to_csv(\n",
    "    expression_df,\n",
    "    \"./data/rna_expression_avg.csv\",\n",
    "    sep='\\t'\n",
    ")"
   ]
  },
  {
   "cell_type": "code",
   "execution_count": null,
   "metadata": {},
   "outputs": [],
   "source": [
    "strain_names = expression_df.columns.tolist()[2:]\n",
    "strain_names\n",
    "\n",
    "pd.DataFrame.to_csv(\n",
    "    genotypes_df_raw[[\"RQTL_name\"] + strain_names],\n",
    "    \"./data/genotypes.csv\",\n",
    "    sep='\\t'\n",
    ")\n",
    "\n",
    "pd.DataFrame.to_csv(\n",
    "    genotypes_df_raw[\n",
    "        [\"RQTL_name\", \"name\", \"chromosome\", \n",
    "         \"position\", \"sequence\", \n",
    "         \"rec_fractions\", \"_affyID\"]\n",
    "    ],\n",
    "    \"./data/genotypes_annotation.csv\",\n",
    "    sep='\\t'\n",
    ")\n"
   ]
  }
 ],
 "metadata": {
  "kernelspec": {
   "display_name": "Python 2",
   "language": "python",
   "name": "python2"
  },
  "language_info": {
   "codemirror_mode": {
    "name": "ipython",
    "version": 2
   },
   "file_extension": ".py",
   "mimetype": "text/x-python",
   "name": "python",
   "nbconvert_exporter": "python",
   "pygments_lexer": "ipython2",
   "version": "2.7.6"
  }
 },
 "nbformat": 4,
 "nbformat_minor": 0
}
