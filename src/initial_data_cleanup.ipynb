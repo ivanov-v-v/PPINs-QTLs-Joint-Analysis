{
 "cells": [
  {
   "cell_type": "code",
   "execution_count": 39,
   "metadata": {
    "collapsed": false
   },
   "outputs": [],
   "source": [
    "from GEOparse import *\n",
    "import pandas as pd\n",
    "import numpy as np\n",
    "import matplotlib.pyplot as plt\n",
    "import os\n",
    "import sys"
   ]
  },
  {
   "cell_type": "code",
   "execution_count": 40,
   "metadata": {
    "collapsed": true
   },
   "outputs": [
    {
     "name": "stdout",
     "output_type": "stream",
     "text": [
      "124: ['1_1_d', '1_2_d', '1_3_d', '1_4_d', '1_5_c', '2_1_d', '2_2_d', '2_3_d', '2_4_a', '2_5_d', '2_6_d', '2_7_a', '2_7_b', '2_7_c', '2_7_d', '3_1_d', '3_2_d', '3_3_d', '3_4_d', '3_5_d', '4_1_c', '4_2_a', '4_3_d', '4_4_d', '5_1_d', '5_2_d', '5_3_d', '5_4_d', '5_5_d', '6_1_d', '6_2_b', '6_3_c', '6_4_d', '6_5_d', '6_6_d', '6_7_d', '7_1_d', '7_2_c', '7_3_d', '7_4_c', '7_5_d', '7_6_c', '7_7_c', '7_8_d', '8_1_a', '8_2_d', '8_3_a', '8_4_c', '8_5_b', '8_6_c', '8_7_b', '9_1_d', '9_2_d', '9_3_d', '9_4_d', '9_5_d', '9_6_d', '9_7_d', '10_1_c', '10_2_d', '10_3_c', '10_4_d', '11_1_a', '11_2_d', '11_3_b', '12_1_d', '12_2_b', '13_1_a', '13_2_c', '13_3_b', '13_4_a', '13_5_c', '14_1_b', '14_2_c', '14_3_d', '14_4_a', '14_5_b', '14_6_d', '14_7_c', '15_2_d', '15_3_b', '15_4_d', '15_5_b', '15_6_c', '16_1_d', '17_1_a', '17_2_d', '17_4_a', '17_5_b', '18_1_d', '18_2_d', '18_3_d', '18_4_c', '18_6_d', '19_1_c', '19_2_c', '19_3_c', '19_4_b', '19_5_b', '20_1_d', '20_2_d', '20_3_c', '20_4_c', '20_5_d', '21_1_d', '21_2_d', '21_3_d', '21_4_d', '21_5_c', '22_1_d', '22_2_d', '22_3_b', '22_4_d', '22_5_d', '23_3_d', '23_4_d', '23_5_d', '24_1_d', '25_1_d', '25_3_d', '25_4_d', '26_1_d', '26_2_d', '26_3_d']\n"
     ]
    }
   ],
   "source": [
    "# retrieve all strain phenotypes available\n",
    "strains_genotyped = pd.DataFrame(pd.read_table(\"./data/jbloom_strains_genotyped.tab\"))\n",
    "# find a place where the metadata starts to dump it\n",
    "last_segregant_col = strains_genotyped.columns.tolist().index(\"17_1_a\")\n",
    "\n",
    "\n",
    "# sort the strain names\n",
    "def strain_to_list(item):\n",
    "    l = item.split('_')\n",
    "    return [int(l[0]), int(l[1]), ord(l[2])]\n",
    "\n",
    "strain_names_full = sorted(\n",
    "    strains_genotyped.columns.tolist()[1:last_segregant_col+1],\n",
    "    key=strain_to_list\n",
    ")\n",
    "\n",
    "# Display all genotyped strains \n",
    "print(\"{}: {}\".format(\n",
    "        len(strain_names_full), \n",
    "        strain_names_full\n",
    "    )\n",
    ")"
   ]
  },
  {
   "cell_type": "code",
   "execution_count": 41,
   "metadata": {
    "collapsed": true
   },
   "outputs": [],
   "source": [
    "# Parse GDS with experiment data\n",
    "# Ignore annoying \"Unknown subset type\" warnings\n",
    "null_device = open(os.devnull, 'w')\n",
    "original_stderr = sys.__stderr__\n",
    "sys.__stderr__ = null_device  \n",
    "\n",
    "GDS1115 = GEOparse.parse_GDS(\n",
    "    filepath=\"./data/GDS1115.soft\"\n",
    ")\n",
    "   \n",
    "GDS1116 = GEOparse.parse_GDS(\n",
    "    filepath=\"./data/GDS1116.soft\"\n",
    ")\n",
    "# I wasn't provided with genotype data for 23_2_d,\n",
    "# hence, I dropped the corresponding columns\n",
    "GDS1115.table.drop(\"GSM62170\", axis=1, inplace=True)\n",
    "GDS1116.table.drop(\"GSM62171\", axis=1, inplace=True)\n",
    "sys.__stderr__ = original_stderr"
   ]
  },
  {
   "cell_type": "code",
   "execution_count": 42,
   "metadata": {},
   "outputs": [],
   "source": [
    "# Display the GEO-samples used in brem2005 paper\n",
    "# Both from GDS1115 and GDS1116,they are equally important\n",
    "GDS1115_GSMs = GDS1115.table.columns.tolist()[:2]\n",
    "GDS1116_GSMs = GDS1116.table.columns.tolist()[:2]"
   ]
  },
  {
   "cell_type": "code",
   "execution_count": 43,
   "metadata": {
    "collapsed": false
   },
   "outputs": [],
   "source": [
    "# Read the strain ids used in the paper\n",
    "strain_data_brem = pd.read_csv('./data/brem2005_strains.csv')\n",
    "strain_names_brem = strain_data_brem['Strain name'].tolist()\n",
    "# Extract expression data from two microarrays\n",
    "# into numpy matrices\n",
    "GDS1115_m = pd.DataFrame.copy(GDS1115.table.iloc[:, 2:])\\\n",
    "                        .convert_objects(convert_numeric=True).values\n",
    "GDS1116_m = pd.DataFrame.copy(GDS1116.table.iloc[:, 2:])\\\n",
    "                        .convert_objects(convert_numeric=True).values\n",
    "expr_avg_m = np.zeros(shape=GDS1115_m.shape)\n",
    "# Extract averaged expression data:\n",
    "# -- If both values are available, take their mean\n",
    "# -- If only one value is available, take that value\n",
    "# -- Otherwise, set expression value to numpy.nan\n",
    "for i in range(GDS1115_m.shape[0]):\n",
    "    for j in range(GDS1115_m.shape[1]):\n",
    "        if not np.isnan(GDS1115_m[i, j]) and not np.isnan(GDS1116_m[i, j]):\n",
    "            expr_avg_m[i, j] = (GDS1115_m[i, j] + GDS1116_m[i, j]) / 2.\n",
    "        elif not np.isnan(GDS1115_m[i, j]):\n",
    "            expr_avg_m[i, j] = GDS1115_m[i, j]\n",
    "        elif not np.isnan(GDS1116_m[i, j]):\n",
    "            expr_avg_m[i, j] = GDS1116_m[i, j]\n",
    "        else:\n",
    "            expr_avg_m[i, j] = np.nan\n",
    "# Construct resulting dataframe with expression data,\n",
    "# averaged and cleaned up. Firstly, replace irrelevant\n",
    "# GSMs with strain names\n",
    "expr_df = pd.DataFrame(\n",
    "    data=expr_avg_m,\n",
    "    columns=strain_names_brem\n",
    ")"
   ]
  },
  {
   "cell_type": "code",
   "execution_count": 44,
   "metadata": {},
   "outputs": [],
   "source": [
    "# Then, insert columns \"ID_REF\" and \"IDENTIFIER\"\n",
    "# to make new dataframe similar to old ones\n",
    "expr_df.insert(loc=0, column=\"ID_REF\", value=0)\n",
    "expr_df.insert(loc=1, column=\"IDENTIFIER\", value='')\n",
    "# And fill those columns with annotation values\n",
    "expr_df[\"ID_REF\"] = GDS1115.table[\"ID_REF\"]\n",
    "expr_df[\"IDENTIFIER\"] = GDS1115.table[\"IDENTIFIER\"]\n",
    "# Drop the empty rows\n",
    "expr_df = expr_df[(expr_df.IDENTIFIER != 'blank') \n",
    "        & (expr_df.IDENTIFIER != 'empty')]\n",
    "# And save everything to file\n",
    "expr_df.to_csv('./data/brem2005_RNA_expression.csv', sep='\\t')"
   ]
  }
 ],
 "metadata": {
  "kernelspec": {
   "display_name": "Python 2",
   "language": "python",
   "name": "python2"
  },
  "language_info": {
   "codemirror_mode": {
    "name": "ipython",
    "version": 2.0
   },
   "file_extension": ".py",
   "mimetype": "text/x-python",
   "name": "python",
   "nbconvert_exporter": "python",
   "pygments_lexer": "ipython2",
   "version": "2.7.6"
  }
 },
 "nbformat": 4,
 "nbformat_minor": 0
}