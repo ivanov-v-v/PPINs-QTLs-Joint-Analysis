{
 "cells": [
  {
   "cell_type": "markdown",
   "metadata": {},
   "source": [
    "In this notebook the eQTLs and pQTLs indentified with statistical package MatrixEQTL are analysed with respect to yeast interactome (various kinds of genetic and physical interactions, with particular emphasis on protein-protein interactions)."
   ]
  },
  {
   "cell_type": "code",
   "execution_count": 1,
   "metadata": {
    "collapsed": false
   },
   "outputs": [
    {
     "name": "stdout",
     "output_type": "stream",
     "text": [
      "Autosaving every 15 seconds\n"
     ]
    }
   ],
   "source": [
    "%matplotlib inline\n",
    "\n",
    "# utilities\n",
    "from functools import partial\n",
    "import time\n",
    "import os\n",
    "\n",
    "# data analysis tools\n",
    "import random\n",
    "import numpy as np\n",
    "import pandas as pd\n",
    "from scipy import stats\n",
    "from statsmodels.sandbox.stats.multicomp import multipletests\n",
    "\n",
    "# network analysis tools\n",
    "import igraph as ig\n",
    "\n",
    "# multiprocessing tools\n",
    "import multiprocessing as mp\n",
    "\n",
    "\n",
    "# visualization tools\n",
    "import matplotlib.pyplot as plt\n",
    "from matplotlib import cm\n",
    "\n",
    "%autosave 15\n"
   ]
  },
  {
   "cell_type": "code",
   "execution_count": 13,
   "metadata": {},
   "outputs": [],
   "source": [
    "random.seed(int(time.time()))\n",
    "# 112 segregants genotyped by inherited marker variants\n",
    "full_genotypes_df = pd.read_table(\"./data/genotypes_full.csv\")\n",
    "# mRNA expression and genotypes of strains the data is available for\n",
    "eQTLs_expression_df = pd.read_table(\"./data/eQTLs_expression_avg.csv\")\n",
    "eQTLs_genotypes_df = pd.read_table(\"./data/eQTLs_genotypes.csv\")\n",
    "# Protein expression and genotypes of strains the data is available for \n",
    "pQTLs_expression_df = pd.read_table(\"./data/pQTLs_expression_avg.csv\")\n",
    "pQTLs_genotypes_df = pd.read_table(\"./data/pQTLs_genotypes.csv\")\n",
    "# Physical and genetic interactions taken from BioGrid project\n",
    "full_interactome_df = pd.read_table(\"./data/yeast_interactome.csv\")\n",
    "# full_interactome_df = full_interactome_df[full_interactome_df['Publication year'] <= 2011]\n",
    "genetic_interaction_categories = [\n",
    "    'additive genetic interaction defined by inequality',\n",
    "    'suppressive genetic interaction defined by inequality',\n",
    "    'synthetic genetic interaction defined by inequality'\n",
    "]\n",
    "physical_interaction_categories = [\n",
    "    'association',\n",
    "    'colocalization',   \n",
    "    'direct interaction',\n",
    "    'physical association'\n",
    "]"
   ]
  },
  {
   "cell_type": "code",
   "execution_count": 3,
   "metadata": {
    "collapsed": true
   },
   "outputs": [],
   "source": [
    "def assemble_graph_of_interactions(edges, directed = False, randomize=False):\n",
    "    interaction_graph = ig.Graph(directed=directed)\n",
    "    # For some weird reason, igraph can add multiple copies of the same\n",
    "    # vertex without even signalling about it, therefore the duplicates\n",
    "    # require manual removal from the dataset \n",
    "    vertices = set()\n",
    "    for source, target in edges:\n",
    "        vertices |= {source, target}\n",
    "    vertex_names = list(vertices)\n",
    "    interaction_graph.add_vertices(vertex_names)\n",
    "    interaction_graph.add_edges(edges)\n",
    "    if randomize:\n",
    "        if directed:\n",
    "            interaction_graph = interaction_graph.Degree_Sequence(\n",
    "                interaction_graph.outdegree(),\n",
    "                interaction_graph.indegree(),\n",
    "                method='vl'\n",
    "            )\n",
    "        else:\n",
    "            interaction_graph = interaction_graph.Degree_Sequence(\n",
    "                interaction_graph.degree(),\n",
    "                method='vl'\n",
    "            )\n",
    "    interaction_graph.vs[\"name\"] = vertex_names\n",
    "    return interaction_graph\n",
    "    \n",
    "# Стоит попробовать более совершенные метрики\n",
    "# подобия, а также добиться лучшей скорости работы\n",
    "def mean_linkage_similarity(interaction_graph, QTL_graph):\n",
    "    linked_genes = set([vertex[\"name\"] for vertex in QTL_graph.vs])\n",
    "    interacting_genes = [vertex[\"name\"] for vertex in interaction_graph.vs]\n",
    "\n",
    "    mean_coeff = 0.\n",
    "    # Перебрать все рёбра и сопоставить каждой вершине \n",
    "    # пару множеств: eQTLs и pQTLs, которые с ней линкуются,\n",
    "    # а затем рассмотреть меру пересечения их объединения с мерой пересечения\n",
    "    if interaction_graph.ecount():\n",
    "        for edge in interaction_graph.es:\n",
    "            s_id, t_id = edge.source, edge.target\n",
    "            s_name = interacting_genes[s_id]\n",
    "            t_name = interacting_genes[t_id]\n",
    "            if s_name in linked_genes and t_name in linked_genes:\n",
    "                ''' \n",
    "                    Can subsampling be done faster?\n",
    "                    And does it matter? \n",
    "                '''\n",
    "                s_neigh = set(QTL_graph.neighbors(s_name, mode=\"IN\"))\n",
    "                t_neigh = set(QTL_graph.neighbors(t_name, mode=\"IN\"))\n",
    "                mean_coeff += len(s_neigh & t_neigh) / len(s_neigh | t_neigh)\n",
    "        mean_coeff /= interaction_graph.ecount()\n",
    "    return mean_coeff"
   ]
  },
  {
   "cell_type": "code",
   "execution_count": 10,
   "metadata": {
    "collapsed": true
   },
   "outputs": [],
   "source": [
    "# for q-value threshold in range [1e-8; 1e-3] \n",
    "# rebuild graph of interactions and calculate  \n",
    "# mean value of Jaccard coefficient among graph vertices.\n",
    "\n",
    "eQTL_df = pd.read_table(\"./data/eQTLs.csv\")\n",
    "pQTL_df = pd.read_table(\"./data/pQTLs.csv\")"
   ]
  },
  {
   "cell_type": "code",
   "execution_count": 5,
   "metadata": {
    "collapsed": true
   },
   "outputs": [],
   "source": [
    "interactome_df = full_interactome_df.copy()\n",
    "interactome_df.set_index('Interaction Type', inplace=True)\n",
    "\n",
    "genetic_interactions_df = interactome_df[\n",
    "    interactome_df.index.isin(genetic_interaction_categories)\n",
    "]\n",
    "physical_interactions_df = interactome_df[\n",
    "    interactome_df.index.isin(physical_interaction_categories)\n",
    "]"
   ]
  },
  {
   "cell_type": "code",
   "execution_count": 6,
   "metadata": {
    "collapsed": true
   },
   "outputs": [],
   "source": [
    "# TODO: parallelize threshold processing \n",
    "# and run on cluster to achieve sufficient statistical power\n",
    "# of at least 1000 thresholds\n",
    "interaction_categories = genetic_interaction_categories + physical_interaction_categories\n",
    "def analyze_interactions(QTL_df, Q_RANGE, REWIRE_FLAG=False):\n",
    "    t0 = time.time()\n",
    "    avg_similarity_by_category = {}\n",
    "    # TODO: how to add more subcategories in a uniform way?\n",
    "    for name in ['genetic', 'physical'] + interaction_categories:\n",
    "        avg_similarity_by_category[name] = []\n",
    "    interaction_graphs_dict = {}\n",
    "    for category_name in interaction_categories:\n",
    "        interacting_genes_df = interactome_df[interactome_df.index == category_name]\n",
    "        interaction_graphs_dict[category_name] = assemble_graph_of_interactions(\n",
    "            interacting_genes_df[[\"Interactor A\", \"Interactor B\"]].values,\n",
    "            randomize=REWIRE_FLAG\n",
    "        )\n",
    "    # TODO: Code duplication\n",
    "    genetic_interactions_graph = assemble_graph_of_interactions(\n",
    "        edges=genetic_interactions_df[[\"Interactor A\", \"Interactor B\"]].values,\n",
    "        randomize=REWIRE_FLAG\n",
    "    )\n",
    "    physical_interactions_graph = assemble_graph_of_interactions(\n",
    "        edges=physical_interactions_df[[\"Interactor A\", \"Interactor B\"]].values,\n",
    "        randomize=REWIRE_FLAG\n",
    "    )\n",
    "\n",
    "    for Q_THRESHOLD in Q_RANGE[::-1]:\n",
    "        # Accordingly to qvalue package in R, all estimated linkages\n",
    "        # are significant, thereby p- and q-values are interchangeable.\n",
    "        QTL_df = QTL_df[QTL_df['p.value'] <= Q_THRESHOLD]\n",
    "        QTL_graph = assemble_graph_of_interactions (\n",
    "            edges=QTL_df[[\"SNP\", \"gene\"]].values,\n",
    "            directed=True\n",
    "        )\n",
    "        avg_similarity_by_category['genetic'].append(\n",
    "            mean_linkage_similarity(genetic_interactions_graph, QTL_graph)\n",
    "        )\n",
    "        avg_similarity_by_category['physical'].append(\n",
    "            mean_linkage_similarity(physical_interactions_graph, QTL_graph)\n",
    "        )\n",
    "        for category_name, interaction_graph in interaction_graphs_dict.items():\n",
    "            avg_similarity_by_category[category_name].append(\n",
    "                mean_linkage_similarity(interaction_graph, QTL_graph)\n",
    "            )\n",
    "                \n",
    "    print(time.time() - t0)\n",
    "    return avg_similarity_by_category\n"
   ]
  },
  {
   "cell_type": "code",
   "execution_count": 11,
   "metadata": {
    "collapsed": false
   },
   "outputs": [],
   "source": [
    "def make_plots(avg_sim_by_category, avg_sim_by_category_randomized, type_of_QTLs, Q_RANGE):\n",
    "   for name in avg_sim_by_category.keys():\n",
    "        plt.figure(figsize=(20, 10))\n",
    "        plt.xscale('log')\n",
    "        plt.plot(Q_RANGE, avg_sim_by_category[name][::-1], label=\"original\")\n",
    "        plt.plot(Q_RANGE, avg_sim_by_category_randomized[name][::-1], label=\"randomized\")\n",
    "        plt.title('{} average linkage similarity'.format(type_of_QTLs))\n",
    "        plt.xlabel(name)\n",
    "        plt.legend()\n",
    "        plt.savefig(\"./img/interactions/\" + type_of_QTLs + '_' + name + \".png\")\n",
    "        plt.close()"
   ]
  },
  {
   "cell_type": "code",
   "execution_count": null,
   "metadata": {
    "collapsed": false
   },
   "outputs": [],
   "source": [
    "Q_RANGE = np.linspace(1e-8, 1e-3, 20)\n",
    "\n",
    "avg_eQTLs_similarity = analyze_interactions(\n",
    "    QTL_df=eQTL_df,  \n",
    "    Q_RANGE=Q_RANGE\n",
    ")\n",
    "avg_eQTLs_similarity_for_randomized_interactions = analyze_interactions(\n",
    "    QTL_df=eQTL_df,  \n",
    "    Q_RANGE=Q_RANGE,\n",
    "    REWIRE_FLAG=True\n",
    ")\n",
    "avg_pQTLs_similarity = analyze_interactions(\n",
    "    QTL_df=pQTL_df, \n",
    "    Q_RANGE=Q_RANGE\n",
    ")\n",
    "avg_pQTLs_similarity_for_randomized_interactions = analyze_interactions(\n",
    "    QTL_df=pQTL_df,\n",
    "    Q_RANGE=Q_RANGE,\n",
    "    REWIRE_FLAG=True\n",
    ")\n"
   ]
  },
  {
   "cell_type": "code",
   "execution_count": 102,
   "metadata": {
    "collapsed": false
   },
   "outputs": [],
   "source": [
    "make_plots(avg_eQTLs_similarity, avg_eQTLs_similarity_for_randomized_interactions, 'eQTLs', Q_RANGE)\n",
    "make_plots(avg_pQTLs_similarity, avg_pQTLs_similarity_for_randomized_interactions, 'pQTLs', Q_RANGE)\n"
   ]
  }
 ],
 "metadata": {
  "kernelspec": {
   "display_name": "Python 2",
   "language": "python",
   "name": "python2"
  },
  "language_info": {
   "codemirror_mode": {
    "name": "ipython",
    "version": 2
   },
   "file_extension": ".py",
   "mimetype": "text/x-python",
   "name": "python",
   "nbconvert_exporter": "python",
   "pygments_lexer": "ipython2",
   "version": "2.7.6"
  }
 },
 "nbformat": 4,
 "nbformat_minor": 0
}
