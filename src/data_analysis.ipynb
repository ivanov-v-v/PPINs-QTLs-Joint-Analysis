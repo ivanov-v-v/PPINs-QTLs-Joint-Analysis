{
 "cells": [
  {
   "cell_type": "markdown",
   "metadata": {},
   "source": [
    "In this notebook the eQTLs and pQTLs indentified with statistical package MatrixEQTL are analysed with respect to yeast interactome (various kinds of genetic and physical interactions, with particular emphasis on protein-protein interactions)."
   ]
  },
  {
   "cell_type": "code",
   "execution_count": 425,
   "metadata": {
    "collapsed": false
   },
   "outputs": [
    {
     "name": "stdout",
     "output_type": "stream",
     "text": [
      "Autosaving every 15 seconds\n"
     ]
    }
   ],
   "source": [
    "%matplotlib inline\n",
    "\n",
    "# utilities\n",
    "from functools import partial\n",
    "import time\n",
    "import os\n",
    "\n",
    "# data analysis tools\n",
    "import random\n",
    "import numpy as np\n",
    "import pandas as pd\n",
    "from scipy import stats\n",
    "from statsmodels.sandbox.stats.multicomp import multipletests\n",
    "\n",
    "# network analysis tools\n",
    "import networkx as nx\n",
    "import igraph as ig\n",
    "\n",
    "# multiprocessing tools\n",
    "import multiprocessing as mp\n",
    "\n",
    "# visualization tools\n",
    "import matplotlib.pyplot as plt\n",
    "from matplotlib import cm\n",
    "\n",
    "%autosave 15\n"
   ]
  },
  {
   "cell_type": "code",
   "execution_count": 442,
   "metadata": {},
   "outputs": [],
   "source": [
    "random.seed(int(time.time()))\n",
    "# Expression data wasn't measured for all of the strains genotyped, \n",
    "# thereby some of them need to be filtered out beforehand\n",
    "genotype_df = pd.read_table(\"./data/genotypes_full.csv\")\n",
    "\n",
    "rna_expression_df = pd.read_table(\"./data/rna_expression_avg.csv\")\n",
    "rna_genotype_df = pd.read_table(\"./data/rna_genotypes.csv\")\n",
    "\n",
    "protein_expression_df = pd.read_table(\"./data/protein_expression_avg.csv\")\n",
    "protein_genotype_df = pd.read_table(\"./data/protein_genotypes.csv\")\n",
    "\n",
    "full_interactome_df = pd.read_table(\"./data/yeast_interactome.csv\")\n",
    "# full_interactome_df = full_interactome_df[full_interactome_df['Publication year'] <= 2011]\n",
    "genetic_interaction_codes = [\n",
    "    'additive genetic interaction defined by inequality',\n",
    "    'suppressive genetic interaction defined by inequality',\n",
    "    'synthetic genetic interaction defined by inequality'\n",
    "]\n",
    "physical_interaction_codes = [\n",
    "    'association',\n",
    "    'colocalization',   \n",
    "    'direct interaction',\n",
    "    'physical association'\n",
    "]\n",
    "# where is it used?\n",
    "# what is it, at all?\n",
    "biogrid_mi_mapping_df = pd.read_table(\n",
    "    './data/biogrid_mi_mapping.csv'\n",
    ")   "
   ]
  },
  {
   "cell_type": "code",
   "execution_count": 427,
   "metadata": {},
   "outputs": [],
   "source": [
    "# Estimate QTLs from the data. Average runtime — 10 seconds.  \n",
    "# os.system(\"Rscript ./src/identify_QTLs.R\")"
   ]
  },
  {
   "cell_type": "code",
   "execution_count": 431,
   "metadata": {
    "collapsed": true
   },
   "outputs": [],
   "source": [
    "def assemble_linkage_graph(QTL_df, shuffle_markers=False):\n",
    "    linkage_graph = ig.Graph(directed=True)\n",
    "    # For some weird reason, igraph can add multiple copies of the same\n",
    "    # vertex without even signalling about it, therefore the duplicates\n",
    "    # require manual removal from the dataset \n",
    "    vertices = set(QTL_df['SNP'] ) | set(QTL_df['gene'])\n",
    "    linkage_graph.add_vertices(list(vertices))\n",
    "    edges = QTL_df[['SNP', 'gene']].values\n",
    "    m = len(edges) \n",
    "    if shuffle_markers:\n",
    "        for iter in range(m):\n",
    "            i = random.randint(0, m)\n",
    "            j = random.randint(0, m)\n",
    "            edges[i][1], edges[j][1] = edges[j][1], edges[i][1]  \n",
    "    linkage_graph.add_edges(edges)\n",
    "    return linkage_graph\n",
    "    \n",
    "def assemble_interactions_graph(interaction_df, shuffle=False):\n",
    "    interaction_graph = ig.Graph()\n",
    "    # Same reason as in \"assemble_linkage_graph\"\n",
    "    vertices = set(interaction_df['Interactor A']) | set(interaction_df['Interactor B'])\n",
    "    interaction_graph.add_vertices(list(vertices))\n",
    "    edges = interaction_df[['Interactor A', 'Interactor B']].values\n",
    "    m = len(edges) \n",
    "    if shuffle:\n",
    "        for iter in range(m):\n",
    "            i = random.randint(0, m - 1)\n",
    "            j = random.randint(0, m - 1)\n",
    "            edges[i][1], edges[j][1] = edges[j][1], edges[i][1]  \n",
    "    interaction_graph.add_edges(edges)\n",
    "    return interaction_graph\n",
    "\n",
    "def mean_jaccard_coefficient(interaction_graph, QTL_graph):\n",
    "    global t1\n",
    "    linked_genes = set([vertex[\"name\"] for vertex in QTL_graph.vs])\n",
    "    interacting_genes = [vertex[\"name\"] for vertex in interaction_graph.vs]\n",
    "\n",
    "    mean_jaccard = 0.\n",
    "    # Перебрать все рёбра и сопоставить каждой вершине \n",
    "    # пару множеств: eQTLs и pQTLs, которые с ней линкуются,\n",
    "    # а затем рассмотреть меру пересечения их объединения с мерой пересечения\n",
    "    if interaction_graph.ecount():\n",
    "        for edge in interaction_graph.es:\n",
    "            s_id, t_id = edge.source, edge.target\n",
    "            s_name = interacting_genes[s_id]\n",
    "            t_name = interacting_genes[t_id]\n",
    "            if s_name in linked_genes and t_name in linked_genes:\n",
    "                tmp = time.time()\n",
    "                s_neigh = set(QTL_graph.neighbors(s_name, mode=\"IN\"))\n",
    "                t_neigh = set(QTL_graph.neighbors(t_name, mode=\"IN\"))\n",
    "                mean_jaccard += len(s_neigh & t_neigh) / len(s_neigh | t_neigh)\n",
    "                t1 += time.time() - tmp\n",
    "        mean_jaccard /= interaction_graph.ecount()\n",
    "    return mean_jaccard"
   ]
  },
  {
   "cell_type": "code",
   "execution_count": 432,
   "metadata": {
    "collapsed": true
   },
   "outputs": [],
   "source": [
    "# for q-value threshold in range [1e-8; 1e-3] \n",
    "# rebuild graph of interactions and calculate  \n",
    "# mean value of Jaccard coefficient among graph vertices.\n",
    "\n",
    "eQTL_df = pd.read_table(\"./data/eQTLsUpdated.csv\")\n",
    "pQTL_df = pd.read_table(\"./data/pQTLsUpdated.csv\")"
   ]
  },
  {
   "cell_type": "code",
   "execution_count": 435,
   "metadata": {
    "collapsed": true
   },
   "outputs": [],
   "source": [
    "\n",
    "# Почему получается так мало рёбер в графах взаимодействий?\n",
    "# Это ОЧЕНЬ странно. Их должны быть десятки тысяч!\n",
    "\n",
    "interactome_df = full_interactome_df.copy()\n",
    "interactome_df.set_index('Interaction Type', inplace=True)\n",
    "\n",
    "genetic_interactions_df = interactome_df[\n",
    "    interactome_df.index.isin(genetic_interaction_codes)\n",
    "]\n",
    "physical_interactions_df = interactome_df[\n",
    "    interactome_df.index.isin(physical_interaction_codes)\n",
    "]\n",
    "\n",
    "interactions_graphs_dict = {}\n",
    "for interaction_type in genetic_interaction_codes + physical_interaction_codes:\n",
    "    interacting_genes_df = interactome_df[interactome_df.index == interaction_type]\n",
    "    interactions_graphs_dict[interaction_type] = assemble_interactions_graph(interacting_genes_df)\n",
    "t1 = time.time()\n",
    "genetic_interactions_graph = assemble_interactions_graph(genetic_interactions_df)\n",
    "physical_interactions_graph = assemble_interactions_graph(physical_interactions_df)"
   ]
  },
  {
   "cell_type": "code",
   "execution_count": 439,
   "metadata": {
    "collapsed": true
   },
   "outputs": [],
   "source": [
    "PROB = 0.5\n",
    "# можно ускорить: не ворочать сам граф, а тупо сохранить\n",
    "# в отдельный список рёбра, поворочать их случайным образом\n",
    "# и затем по ним построить граф заново\n",
    "# если я правильно понимаю, как реализован внутри ig.Graph(),\n",
    "# то все сложности проистекают именно из необходимости динамического\n",
    "# выделения памяти и линейного сдвига массивов, т.е. там внутри\n",
    "# сидит вектор и с insert/erase у него всё тупо очень плохо\n",
    "# это нужно \n",
    "\n",
    "def analyze_interactions(QTL_df, Q_RANGE, REWIRE_FLAG=False):\n",
    "    global PROB\n",
    "    t0 = time.time()\n",
    "    average_similarity = {}\n",
    "    for name in {'genetic', 'physical'}:# | set(genetic_interaction_codes) | set(physical_interaction_codes):\n",
    "        average_similarity[name] = []\n",
    "    interactions_graphs_dict = {}\n",
    "    # for interaction_type in genetic_interaction_codes + physical_interaction_codes:\n",
    "    #     interacting_genes_df = interactome_df[interactome_df.index == interaction_type]\n",
    "    #     interactions_graphs_dict[interaction_type] = assemble_interactions_graph(interacting_genes_df)\n",
    "    #     if REWIRE_FLAG:\n",
    "    #         interactions_graphs_dict[interaction_type].rewire(interactions_graphs_dict[interaction_type].ecount() * 10)#rewire_edges(prob=PROB)\n",
    "    t1 = time.time()\n",
    "    genetic_interactions_graph = assemble_interactions_graph(genetic_interactions_df, REWIRE_FLAG)\n",
    "    physical_interactions_graph = assemble_interactions_graph(physical_interactions_df, REWIRE_FLAG)\n",
    "    print(\"SHUFFLING: {}\".format(time.time() - t1))\n",
    "    # if REWIRE_FLAG:\n",
    "    #     t1 = time.time()\n",
    "    #     genetic_interactions_graph.rewire(n=10000)#genetic_interactions_graph.ecount() * 10)#rewire_edges(prob=PROB)\n",
    "    #     physical_interactions_graph.rewire(n=10000)#physical_interactions_graph.ecount() * 10)#rewire_edges(prob=PROB)\n",
    "    #     print(\"REWIRE: {}\".format(time.time() - t1))\n",
    "    \n",
    "    for Q_THRESHOLD in Q_RANGE[::-1]:\n",
    "        # Accordingly to qvalue package in R, all estimated linkages\n",
    "        # are significant, thereby p- and q-values are interchangeable.\n",
    "        QTL_df = QTL_df[QTL_df['p.value'] <= Q_THRESHOLD]\n",
    "        QTL_graph = assemble_linkage_graph(QTL_df)\n",
    "        average_similarity['genetic'].append(mean_jaccard_coefficient(genetic_interactions_graph, QTL_graph))\n",
    "        # for name, graph in interactions_graphs_dict.items():\n",
    "        #     if name in genetic_interaction_codes:\n",
    "        #         average_similarity[name].append(mean_jaccard_coefficient(graph, QTL_graph))\n",
    "        average_similarity['physical'].append(mean_jaccard_coefficient(physical_interactions_graph, QTL_graph))\n",
    "        # for name, graph in interactions_graphs_dict.items():\n",
    "        #     if name in physical_interaction_codes:\n",
    "        #         average_similarity[name].append(mean_jaccard_coefficient(graph, QTL_graph))\n",
    "                \n",
    "    print(time.time() - t0)\n",
    "    return average_similarity\n"
   ]
  },
  {
   "cell_type": "code",
   "execution_count": 438,
   "metadata": {
    "collapsed": false
   },
   "outputs": [
    {
     "name": "stdout",
     "output_type": "stream",
     "text": [
      "24.207005262374878\n"
     ]
    },
    {
     "name": "stdout",
     "output_type": "stream",
     "text": [
      "27.92242956161499\n"
     ]
    },
    {
     "name": "stdout",
     "output_type": "stream",
     "text": [
      "8.48112678527832\n"
     ]
    },
    {
     "name": "stdout",
     "output_type": "stream",
     "text": [
      "10.126733541488647\n"
     ]
    }
   ],
   "source": [
    "Q_RANGE = np.linspace(1e-8, 1e-3, 20)\n",
    "average_similarity_eQTL = analyze_interactions(\n",
    "    QTL_df=eQTL_df,  \n",
    "    Q_RANGE=Q_RANGE\n",
    ")\n",
    "average_similarity_eQTL_shuffled = analyze_interactions(\n",
    "    QTL_df=eQTL_df,  \n",
    "    Q_RANGE=Q_RANGE,\n",
    "    REWIRE_FLAG=True\n",
    ")\n",
    "average_similarity_pQTL = analyze_interactions(\n",
    "    QTL_df=pQTL_df, \n",
    "    Q_RANGE=Q_RANGE\n",
    ")\n",
    "average_similarity_pQTL_shuffled = analyze_interactions(\n",
    "    QTL_df=pQTL_df,\n",
    "    Q_RANGE=Q_RANGE,\n",
    "    REWIRE_FLAG=True\n",
    ")\n"
   ]
  },
  {
   "cell_type": "code",
   "execution_count": 443,
   "metadata": {
    "collapsed": false
   },
   "outputs": [],
   "source": [
    "def make_plots(average_similarity, average_similarity_shuffled, type_of_QTLs, Q_RANGE):\n",
    "   for name in average_similarity.keys():\n",
    "        plt.figure(figsize=(20, 10))\n",
    "        plt.xscale('log')\n",
    "        plt.plot(\n",
    "            Q_RANGE, average_similarity[name][::-1], \n",
    "            Q_RANGE, average_similarity_shuffled[name][::-1]\n",
    "        )\n",
    "        # plt.xticks(Q_RANGE[1::10])\n",
    "        plt.title('{} average linkage similarity'.format(type_of_QTLs))\n",
    "        plt.xlabel(name)\n",
    "        plt.savefig(\"./img/interactions/\" + type_of_QTLs + '_' + name + \".png\")\n",
    "        plt.close()\n",
    "    # plt.show()\n",
    "        \n",
    "make_plots(average_similarity_eQTL, average_similarity_eQTL_shuffled, 'eQTLs', Q_RANGE)\n",
    "make_plots(average_similarity_pQTL, average_similarity_pQTL_shuffled, 'pQTLs', Q_RANGE)\n"
   ]
  },
  {
   "cell_type": "code",
   "execution_count": null,
   "metadata": {},
   "outputs": [],
   "source": []
  }
 ],
 "metadata": {
  "kernelspec": {
   "display_name": "Python 2",
   "language": "python",
   "name": "python2"
  },
  "language_info": {
   "codemirror_mode": {
    "name": "ipython",
    "version": 2
   },
   "file_extension": ".py",
   "mimetype": "text/x-python",
   "name": "python",
   "nbconvert_exporter": "python",
   "pygments_lexer": "ipython2",
   "version": "2.7.6"
  }
 },
 "nbformat": 4,
 "nbformat_minor": 0
}
