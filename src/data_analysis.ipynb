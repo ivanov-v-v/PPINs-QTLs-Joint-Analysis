{
 "cells": [
  {
   "cell_type": "markdown",
   "metadata": {},
   "source": [
    "In this notebook the eQTLs and pQTLs indentified with statistical package MatrixEQTL are analysed with respect to the network of protein-protein interactions in yeast."
   ]
  },
  {
   "cell_type": "code",
   "execution_count": 1,
   "metadata": {
    "collapsed": false
   },
   "outputs": [
    {
     "name": "stdout",
     "output_type": "stream",
     "text": [
      "Autosaving every 15 seconds\n"
     ]
    }
   ],
   "source": [
    "%matplotlib inline\n",
    "\n",
    "# utilities\n",
    "import gc\n",
    "import time\n",
    "import os\n",
    "\n",
    "import collections\n",
    "import itertools\n",
    "from importlib import reload\n",
    "import pickle\n",
    "\n",
    "# data analysis tools\n",
    "import joblib\n",
    "import random\n",
    "import numpy as np\n",
    "import pandas as pd\n",
    "from scipy import stats\n",
    "from statsmodels.sandbox.stats.multicomp import multipletests\n",
    "from tqdm import *\n",
    "import qgrid\n",
    "\n",
    "# network analysis tools\n",
    "import igraph as ig\n",
    "\n",
    "# multiprocessing tools\n",
    "import subprocess\n",
    "import multiprocessing as mp\n",
    "\n",
    "os.chdir(\"/home/vvi/Science/eQTL_analysis/\")\n",
    "\n",
    "# visualization tools\n",
    "import matplotlib.pyplot as plt\n",
    "from mpl_toolkits.mplot3d import Axes3D\n",
    "\n",
    "import networks\n",
    "import qtls\n",
    "import util\n",
    "import ontologies\n",
    "\n",
    "gc.enable()\n",
    "\n",
    "%autosave 15"
   ]
  },
  {
   "cell_type": "markdown",
   "metadata": {},
   "source": [
    "## Datasets used\n",
    "\n",
    "Take a look at readme.md in /data folder for data description. (currently unavailable)"
   ]
  },
  {
   "cell_type": "code",
   "execution_count": 2,
   "metadata": {},
   "outputs": [],
   "source": [
    "random.seed(int(time.time()))\n",
    "\n",
    "# 112 segregants genotyped by inherited marker variants\n",
    "full_genotypes_df = pd.read_table(\"./data/genotypes/processed_genotypes.csv\")\n",
    "\n",
    "''' Where possible, gene names were converted from systematic to standard notation '''\n",
    "# mRNA expression and genotypes of strains the data is available for\n",
    "eQTLs_expression_df = pd.read_table(\"./data/eQTLs/expression.csv\")\n",
    "eQTLs_genotypes_df = pd.read_table(\"./data/eQTLs/genotypes.csv\")\n",
    "# Protein expression and genotypes of strains the data is available for \n",
    "pQTLs_expression_df = pd.read_table(\"./data/pQTLs/expression.csv\")\n",
    "pQTLs_genotypes_df = pd.read_table(\"./data/pQTLs/genotypes.csv\")\n",
    "\n",
    "# pandas DataFrame —> numpy matrix = 2x speedup\n",
    "# pQTLs_expression_mx = pQTLs_expression_df.as_matrix(columns=pQTLs_expression_df.columns[1:])\n",
    "# pQTLs_genotypes_mx = pQTLs_genotypes_df.as_matrix(columns=pQTLs_genotypes_df.columns[1:])\n",
    "\n",
    "# QTLs estimated with MatrixEQTL package for R\n",
    "eQTLs_df = pd.read_table(\"./data/eQTLs/qtls.csv\").query(\"q_value <= 0.05\")\n",
    "# eQTLs_df[\"gene\"] = eQTLs_df[\"gene\"].apply(networks.convert_to_std)\n",
    "pQTLs_df = pd.read_table(\"./data/pQTLs/qtls.csv\").query(\"q_value <= 0.05\")\n",
    "\n",
    "# Physical and genetic interactions taken from TheBioGrid project\n",
    "full_interactome_df = pd.read_table(\"./data/interactions/yeast_interactome.csv\")\n",
    "# full_interactome_df = full_interactome_df[full_interactome_df['Publication year'] <= 2011]\n",
    "\n",
    "genetic_interaction_categories = [\n",
    "    \"additive genetic interaction defined by inequality\",\n",
    "    \"suppressive genetic interaction defined by inequality\",\n",
    "    \"synthetic genetic interaction defined by inequality\"\n",
    "]\n",
    "physical_interaction_categories = [\n",
    "    \"association\",\n",
    "    \"colocalization\",   \n",
    "    \"direct interaction\",\n",
    "    \"physical association\"\n",
    "]\n",
    "\n",
    "interaction_categories = genetic_interaction_categories + physical_interaction_categories\n",
    "interactome_df = full_interactome_df.copy()\n",
    "interactome_df.set_index('Interaction Type', inplace=True)\n",
    "genetic_interactions_df = interactome_df[\n",
    "    interactome_df.index.isin(genetic_interaction_categories)\n",
    "]\n",
    "physical_interactions_df = interactome_df[\n",
    "    interactome_df.index.isin(physical_interaction_categories)\n",
    "]\n",
    "\n",
    "def extract_interactions(interactions_df):\n",
    "    ''' Helper function to retrieve the edges of the graph of interactions '''\n",
    "    return interactions_df[[\"Interactor A\", \"Interactor B\"]].values\n",
    "\n",
    "interactome_graphs_dict = {}\n",
    "thebiogrid_modules_dict = collections.defaultdict(list)\n",
    "for category_name in interaction_categories + [\"all\", \"genetic\", \"physical\"]:\n",
    "    with open(\"./data/interactions/{}_interactions_graph.pkl\".format(category_name), \"rb\") as pickle_file:\n",
    "        interactome_graphs_dict[category_name] = pickle.load(pickle_file)\n",
    "        thebiogrid_modules_dict[category_name] = interactome_graphs_dict[category_name].vs[\"name\"]\n",
    "interactome_graph = interactome_graphs_dict[\"physical\"]"
   ]
  },
  {
   "cell_type": "markdown",
   "metadata": {},
   "source": [
    "## Introduction and problem formulation"
   ]
  },
  {
   "cell_type": "markdown",
   "metadata": {},
   "source": [
    "It seems rational to suppose that transcription and translation levels must be controlled by similar genetic mechanisms.  \n",
    "Unfortunately, at the first sight there is no evidence to support that intuition: sets of eQTLs and pQTLs linked to given gene show no significant overlap for almost all genes. This is illustrated by the histogram below."
   ]
  },
  {
   "cell_type": "code",
   "execution_count": 26,
   "metadata": {
    "collapsed": false
   },
   "outputs": [],
   "source": [
    "reload(util)\n",
    "gene_pool = np.union1d(eQTLs_expression_df[\"gene\"], pQTLs_expression_df[\"gene\"])\n",
    "\n",
    "linkage_overlap_data = []\n",
    "for gene_name in gene_pool:\n",
    "    linked_eQTLs = qtls.linked_markers(eQTLs_df, [gene_name])\n",
    "    linked_pQTLs = qtls.linked_markers(pQTLs_df, [gene_name])\n",
    "    linkage_overlap_data.append(qtls.jaccard(set(linked_eQTLs), set(linked_pQTLs)))\n",
    "\n",
    "qtls.qtl_overlap_hist(linkage_overlap_data, \"eQTLs_pQTLs\")\n"
   ]
  },
  {
   "cell_type": "markdown",
   "metadata": {},
   "source": [
    "Hypothesis arises: maybe not single genes, but functional modules tend to share linkages.  \n",
    "The goal of this work is to test that hypothesis using yeast interactome data."
   ]
  },
  {
   "cell_type": "markdown",
   "metadata": {},
   "source": [
    "## Module processing"
   ]
  },
  {
   "cell_type": "code",
   "execution_count": 186,
   "metadata": {
    "collapsed": false
   },
   "outputs": [
    {
     "name": "stdout",
     "output_type": "stream",
     "text": [
      "CPU times: user 608 ms, sys: 244 ms, total: 852 ms\nWall time: 14min 40s\n"
     ]
    }
   ],
   "source": [
    "%%time\n",
    "\n",
    "'''\n",
    "    Randomize the interactome graph 1024 times and save each version. \n",
    "    These randomized copies will be used throughout the project to do perform PPI-network-based significance tests.\n",
    "'''\n",
    "\n",
    "def _produce_randomized_interactome_copy(i):\n",
    "    randomized_interactome = interactome_graph.Degree_Sequence(\n",
    "        interactome_graphs_dict[\"physical\"].degree(),\n",
    "        method='vl'\n",
    "    )\n",
    "    randomized_interactome.vs[\"name\"] = interactome_graph.vs[\"name\"]\n",
    "    ig.write(\n",
    "        graph=randomized_interactome,\n",
    "        filename=\"./data/randomized_interactome_copies/{}.pkl\".format(i),\n",
    "        format=\"pickle\"\n",
    "    )\n",
    "\n",
    "joblib.Parallel(n_jobs=mp.cpu_count())(\n",
    "    joblib.delayed(_produce_randomized_interactome_copy)(i) \n",
    "    for i in range(1024)\n",
    ")"
   ]
  },
  {
   "cell_type": "markdown",
   "metadata": {},
   "source": [
    "## Predicting pQTLs from eQTLs using PPI networks"
   ]
  },
  {
   "cell_type": "markdown",
   "metadata": {},
   "source": [
    "Now, when approach using interaction networks is justified, it's time to provide solid ground: if significant fraction of pQTLs can be rediscovered from eQTLs linked to genes interacting with given (including itself), it will serve as an additional evidence for hypothesis being actually true (once again, no sophisticated clustering was performed here, while it would possibly yield better results).  \n",
    "\n",
    "The main idea is not to test all (marker, gene) pairs but to filter for trusted only. In order to get rid of the pairs that will not link (or at least to dump more false than real linkages), the following approach is proposed: \n",
    "1. For each gene with measured protein abundance select its eQTL linkages as candidates into pQTLs. \n",
    "2. Extend eQTL linkages with those of the interacting genes. \n",
    "\n",
    "FDR decreases for the same q-value threshold, which results in more trustworthy observations."
   ]
  },
  {
   "cell_type": "markdown",
   "metadata": {},
   "source": [
    "Here is some statistics computed from some subgraphs of the interactome. \n",
    "\n",
    "**Physical interactions only**:   \n",
    "- Common linkages: 2021, 32.7977929243752%\n",
    "- Old linkages, total: 6162\n",
    "- New linkages, total: 4048\n",
    "- New linkages found: 2027\n",
    "\n",
    "**Full interactome**:\n",
    "- Common linkages: 3688, 59.85069782538137%\n",
    "- Old linkages, total: 6162\n",
    "- New linkages, total: 6219\n",
    "- New linkages found: 2531\n",
    "\n",
    "It becomes evident, that a significant fraction of estimated pQTLs can be reproduced using this approach.  \n",
    "**Nevertheless, many questions arise**:\n",
    "- Which fraction of trans-pQTLs is reproduced? (and is this approach capable of detecting those)\n",
    "- Are all the hotspots reproduced? If some are not, why then? It is worth mentioning, that some of those were given cryptic names which are nowhere to be found. \n",
    "- How robust the results are? So far results are not compared with those computed from simulated, perturbed graphs. "
   ]
  },
  {
   "cell_type": "code",
   "execution_count": 3,
   "metadata": {},
   "outputs": [],
   "source": [
    "modules_type = \"thebiogrid\"\n",
    "with open(\"./results/{}/modules_dict.pkl\".format(modules_type), \"rb\") as pickle_file:\n",
    "    modules_dict = pickle.load(pickle_file)\n",
    "fdr_cutoffs = np.logspace(-5, -2, 10)"
   ]
  },
  {
   "cell_type": "code",
   "execution_count": 13,
   "metadata": {
    "collapsed": true
   },
   "outputs": [
    {
     "data": {
      "text/html": [
       "<div>\n",
       "<style scoped>\n",
       "    .dataframe tbody tr th:only-of-type {\n",
       "        vertical-align: middle;\n",
       "    }\n",
       "\n",
       "    .dataframe tbody tr th {\n",
       "        vertical-align: top;\n",
       "    }\n",
       "\n",
       "    .dataframe thead th {\n",
       "        text-align: right;\n",
       "    }\n",
       "</style>\n",
       "<table border=\"1\" class=\"dataframe\">\n",
       "  <thead>\n",
       "    <tr style=\"text-align: right;\">\n",
       "      <th></th>\n",
       "      <th>module_name</th>\n",
       "      <th>genes_count</th>\n",
       "      <th>genes_with_interactions</th>\n",
       "      <th>interactions_count</th>\n",
       "    </tr>\n",
       "  </thead>\n",
       "  <tbody>\n",
       "    <tr>\n",
       "      <th>6</th>\n",
       "      <td>Mitosis &amp; chromosome segregation</td>\n",
       "      <td>199</td>\n",
       "      <td>149</td>\n",
       "      <td>2478</td>\n",
       "    </tr>\n",
       "    <tr>\n",
       "      <th>12</th>\n",
       "      <td>Glycosylation, protein folding|targeting, cell...</td>\n",
       "      <td>160</td>\n",
       "      <td>140</td>\n",
       "      <td>549</td>\n",
       "    </tr>\n",
       "    <tr>\n",
       "      <th>5</th>\n",
       "      <td>Respiration, oxidative phosphorylation, mitoch...</td>\n",
       "      <td>138</td>\n",
       "      <td>135</td>\n",
       "      <td>318</td>\n",
       "    </tr>\n",
       "    <tr>\n",
       "      <th>15</th>\n",
       "      <td>Transcription &amp; chromatin organization</td>\n",
       "      <td>110</td>\n",
       "      <td>85</td>\n",
       "      <td>1575</td>\n",
       "    </tr>\n",
       "    <tr>\n",
       "      <th>3</th>\n",
       "      <td>Cell polarity &amp; morphogenesis</td>\n",
       "      <td>102</td>\n",
       "      <td>64</td>\n",
       "      <td>966</td>\n",
       "    </tr>\n",
       "    <tr>\n",
       "      <th>14</th>\n",
       "      <td>mRNA &amp; tRNA processing</td>\n",
       "      <td>96</td>\n",
       "      <td>84</td>\n",
       "      <td>1126</td>\n",
       "    </tr>\n",
       "    <tr>\n",
       "      <th>4</th>\n",
       "      <td>Vesicle traffic</td>\n",
       "      <td>95</td>\n",
       "      <td>84</td>\n",
       "      <td>770</td>\n",
       "    </tr>\n",
       "    <tr>\n",
       "      <th>7</th>\n",
       "      <td>DNA replication &amp; repair</td>\n",
       "      <td>95</td>\n",
       "      <td>75</td>\n",
       "      <td>926</td>\n",
       "    </tr>\n",
       "    <tr>\n",
       "      <th>0</th>\n",
       "      <td>rDNA &amp; ncDNA processing</td>\n",
       "      <td>90</td>\n",
       "      <td>76</td>\n",
       "      <td>1055</td>\n",
       "    </tr>\n",
       "    <tr>\n",
       "      <th>13</th>\n",
       "      <td>Ribosome biogenesis</td>\n",
       "      <td>74</td>\n",
       "      <td>70</td>\n",
       "      <td>65</td>\n",
       "    </tr>\n",
       "    <tr>\n",
       "      <th>9</th>\n",
       "      <td>Protein degradation|turnover</td>\n",
       "      <td>59</td>\n",
       "      <td>44</td>\n",
       "      <td>1310</td>\n",
       "    </tr>\n",
       "    <tr>\n",
       "      <th>1</th>\n",
       "      <td>Nuclear-cytoplasmic transport</td>\n",
       "      <td>39</td>\n",
       "      <td>35</td>\n",
       "      <td>361</td>\n",
       "    </tr>\n",
       "    <tr>\n",
       "      <th>8</th>\n",
       "      <td>Peroxisome</td>\n",
       "      <td>24</td>\n",
       "      <td>22</td>\n",
       "      <td>295</td>\n",
       "    </tr>\n",
       "    <tr>\n",
       "      <th>10</th>\n",
       "      <td>MVB sorting and pH depending signaling</td>\n",
       "      <td>21</td>\n",
       "      <td>21</td>\n",
       "      <td>155</td>\n",
       "    </tr>\n",
       "    <tr>\n",
       "      <th>2</th>\n",
       "      <td>tRNA wobble modification</td>\n",
       "      <td>16</td>\n",
       "      <td>14</td>\n",
       "      <td>249</td>\n",
       "    </tr>\n",
       "    <tr>\n",
       "      <th>11</th>\n",
       "      <td>Cytokinesis</td>\n",
       "      <td>13</td>\n",
       "      <td>4</td>\n",
       "      <td>135</td>\n",
       "    </tr>\n",
       "    <tr>\n",
       "      <th>16</th>\n",
       "      <td>Metabolism</td>\n",
       "      <td>11</td>\n",
       "      <td>11</td>\n",
       "      <td>1</td>\n",
       "    </tr>\n",
       "  </tbody>\n",
       "</table>\n",
       "</div>"
      ],
      "text/plain": [
       "<div>\n",
       "<style scoped>\n",
       "    .dataframe tbody tr th:only-of-type {\n",
       "        vertical-align: middle;\n",
       "    }\n",
       "\n",
       "    .dataframe tbody tr th {\n",
       "        vertical-align: top;\n",
       "    }\n",
       "\n",
       "    .dataframe thead th {\n",
       "        text-align: right;\n",
       "    }\n",
       "</style>\n",
       "<table border=\"1\" class=\"dataframe\">\n",
       "  <thead>\n",
       "    <tr style=\"text-align: right;\">\n",
       "      <th></th>\n",
       "      <th>module_name</th>\n",
       "      <th>genes_count</th>\n",
       "      <th>genes_with_interactions</th>\n",
       "      <th>interactions_count</th>\n",
       "    </tr>\n",
       "  </thead>\n",
       "  <tbody>\n",
       "    <tr>\n",
       "      <th>6</th>\n",
       "      <td>Mitosis &amp; chromosome segregation</td>\n",
       "      <td>199</td>\n",
       "      <td>149</td>\n",
       "      <td>2478</td>\n",
       "    </tr>\n",
       "    <tr>\n",
       "      <th>12</th>\n",
       "      <td>Glycosylation, protein folding|targeting, cell...</td>\n",
       "      <td>160</td>\n",
       "      <td>140</td>\n",
       "      <td>549</td>\n",
       "    </tr>\n",
       "    <tr>\n",
       "      <th>5</th>\n",
       "      <td>Respiration, oxidative phosphorylation, mitoch...</td>\n",
       "      <td>138</td>\n",
       "      <td>135</td>\n",
       "      <td>318</td>\n",
       "    </tr>\n",
       "    <tr>\n",
       "      <th>15</th>\n",
       "      <td>Transcription &amp; chromatin organization</td>\n",
       "      <td>110</td>\n",
       "      <td>85</td>\n",
       "      <td>1575</td>\n",
       "    </tr>\n",
       "    <tr>\n",
       "      <th>3</th>\n",
       "      <td>Cell polarity &amp; morphogenesis</td>\n",
       "      <td>102</td>\n",
       "      <td>64</td>\n",
       "      <td>966</td>\n",
       "    </tr>\n",
       "    <tr>\n",
       "      <th>14</th>\n",
       "      <td>mRNA &amp; tRNA processing</td>\n",
       "      <td>96</td>\n",
       "      <td>84</td>\n",
       "      <td>1126</td>\n",
       "    </tr>\n",
       "    <tr>\n",
       "      <th>4</th>\n",
       "      <td>Vesicle traffic</td>\n",
       "      <td>95</td>\n",
       "      <td>84</td>\n",
       "      <td>770</td>\n",
       "    </tr>\n",
       "    <tr>\n",
       "      <th>7</th>\n",
       "      <td>DNA replication &amp; repair</td>\n",
       "      <td>95</td>\n",
       "      <td>75</td>\n",
       "      <td>926</td>\n",
       "    </tr>\n",
       "    <tr>\n",
       "      <th>0</th>\n",
       "      <td>rDNA &amp; ncDNA processing</td>\n",
       "      <td>90</td>\n",
       "      <td>76</td>\n",
       "      <td>1055</td>\n",
       "    </tr>\n",
       "    <tr>\n",
       "      <th>13</th>\n",
       "      <td>Ribosome biogenesis</td>\n",
       "      <td>74</td>\n",
       "      <td>70</td>\n",
       "      <td>65</td>\n",
       "    </tr>\n",
       "    <tr>\n",
       "      <th>9</th>\n",
       "      <td>Protein degradation|turnover</td>\n",
       "      <td>59</td>\n",
       "      <td>44</td>\n",
       "      <td>1310</td>\n",
       "    </tr>\n",
       "    <tr>\n",
       "      <th>1</th>\n",
       "      <td>Nuclear-cytoplasmic transport</td>\n",
       "      <td>39</td>\n",
       "      <td>35</td>\n",
       "      <td>361</td>\n",
       "    </tr>\n",
       "    <tr>\n",
       "      <th>8</th>\n",
       "      <td>Peroxisome</td>\n",
       "      <td>24</td>\n",
       "      <td>22</td>\n",
       "      <td>295</td>\n",
       "    </tr>\n",
       "    <tr>\n",
       "      <th>10</th>\n",
       "      <td>MVB sorting and pH depending signaling</td>\n",
       "      <td>21</td>\n",
       "      <td>21</td>\n",
       "      <td>155</td>\n",
       "    </tr>\n",
       "    <tr>\n",
       "      <th>2</th>\n",
       "      <td>tRNA wobble modification</td>\n",
       "      <td>16</td>\n",
       "      <td>14</td>\n",
       "      <td>249</td>\n",
       "    </tr>\n",
       "    <tr>\n",
       "      <th>11</th>\n",
       "      <td>Cytokinesis</td>\n",
       "      <td>13</td>\n",
       "      <td>4</td>\n",
       "      <td>135</td>\n",
       "    </tr>\n",
       "    <tr>\n",
       "      <th>16</th>\n",
       "      <td>Metabolism</td>\n",
       "      <td>11</td>\n",
       "      <td>11</td>\n",
       "      <td>1</td>\n",
       "    </tr>\n",
       "  </tbody>\n",
       "</table>\n",
       "</div>"
      ]
     },
     "execution_count": 0,
     "metadata": {},
     "output_type": "execute_result"
    },
    {
     "data": {
      "text/html": [
       "<div>\n",
       "<style scoped>\n",
       "    .dataframe tbody tr th:only-of-type {\n",
       "        vertical-align: middle;\n",
       "    }\n",
       "\n",
       "    .dataframe tbody tr th {\n",
       "        vertical-align: top;\n",
       "    }\n",
       "\n",
       "    .dataframe thead th {\n",
       "        text-align: right;\n",
       "    }\n",
       "</style>\n",
       "<table border=\"1\" class=\"dataframe\">\n",
       "  <thead>\n",
       "    <tr style=\"text-align: right;\">\n",
       "      <th></th>\n",
       "      <th>module_name</th>\n",
       "      <th>genes_count</th>\n",
       "      <th>genes_with_interactions</th>\n",
       "      <th>interactions_count</th>\n",
       "    </tr>\n",
       "  </thead>\n",
       "  <tbody>\n",
       "    <tr>\n",
       "      <th>6</th>\n",
       "      <td>Mitosis &amp; chromosome segregation</td>\n",
       "      <td>199</td>\n",
       "      <td>145</td>\n",
       "      <td>667</td>\n",
       "    </tr>\n",
       "    <tr>\n",
       "      <th>12</th>\n",
       "      <td>Glycosylation, protein folding|targeting, cell...</td>\n",
       "      <td>160</td>\n",
       "      <td>96</td>\n",
       "      <td>185</td>\n",
       "    </tr>\n",
       "    <tr>\n",
       "      <th>5</th>\n",
       "      <td>Respiration, oxidative phosphorylation, mitoch...</td>\n",
       "      <td>138</td>\n",
       "      <td>88</td>\n",
       "      <td>165</td>\n",
       "    </tr>\n",
       "    <tr>\n",
       "      <th>15</th>\n",
       "      <td>Transcription &amp; chromatin organization</td>\n",
       "      <td>110</td>\n",
       "      <td>81</td>\n",
       "      <td>303</td>\n",
       "    </tr>\n",
       "    <tr>\n",
       "      <th>3</th>\n",
       "      <td>Cell polarity &amp; morphogenesis</td>\n",
       "      <td>102</td>\n",
       "      <td>60</td>\n",
       "      <td>225</td>\n",
       "    </tr>\n",
       "    <tr>\n",
       "      <th>14</th>\n",
       "      <td>mRNA &amp; tRNA processing</td>\n",
       "      <td>96</td>\n",
       "      <td>80</td>\n",
       "      <td>456</td>\n",
       "    </tr>\n",
       "    <tr>\n",
       "      <th>4</th>\n",
       "      <td>Vesicle traffic</td>\n",
       "      <td>95</td>\n",
       "      <td>73</td>\n",
       "      <td>169</td>\n",
       "    </tr>\n",
       "    <tr>\n",
       "      <th>7</th>\n",
       "      <td>DNA replication &amp; repair</td>\n",
       "      <td>95</td>\n",
       "      <td>71</td>\n",
       "      <td>183</td>\n",
       "    </tr>\n",
       "    <tr>\n",
       "      <th>0</th>\n",
       "      <td>rDNA &amp; ncDNA processing</td>\n",
       "      <td>90</td>\n",
       "      <td>68</td>\n",
       "      <td>424</td>\n",
       "    </tr>\n",
       "    <tr>\n",
       "      <th>13</th>\n",
       "      <td>Ribosome biogenesis</td>\n",
       "      <td>74</td>\n",
       "      <td>35</td>\n",
       "      <td>45</td>\n",
       "    </tr>\n",
       "    <tr>\n",
       "      <th>9</th>\n",
       "      <td>Protein degradation|turnover</td>\n",
       "      <td>59</td>\n",
       "      <td>40</td>\n",
       "      <td>253</td>\n",
       "    </tr>\n",
       "    <tr>\n",
       "      <th>1</th>\n",
       "      <td>Nuclear-cytoplasmic transport</td>\n",
       "      <td>39</td>\n",
       "      <td>32</td>\n",
       "      <td>137</td>\n",
       "    </tr>\n",
       "    <tr>\n",
       "      <th>8</th>\n",
       "      <td>Peroxisome</td>\n",
       "      <td>24</td>\n",
       "      <td>16</td>\n",
       "      <td>65</td>\n",
       "    </tr>\n",
       "    <tr>\n",
       "      <th>10</th>\n",
       "      <td>MVB sorting and pH depending signaling</td>\n",
       "      <td>21</td>\n",
       "      <td>19</td>\n",
       "      <td>32</td>\n",
       "    </tr>\n",
       "    <tr>\n",
       "      <th>2</th>\n",
       "      <td>tRNA wobble modification</td>\n",
       "      <td>16</td>\n",
       "      <td>13</td>\n",
       "      <td>33</td>\n",
       "    </tr>\n",
       "    <tr>\n",
       "      <th>11</th>\n",
       "      <td>Cytokinesis</td>\n",
       "      <td>13</td>\n",
       "      <td>4</td>\n",
       "      <td>6</td>\n",
       "    </tr>\n",
       "    <tr>\n",
       "      <th>16</th>\n",
       "      <td>Metabolism</td>\n",
       "      <td>11</td>\n",
       "      <td>0</td>\n",
       "      <td>0</td>\n",
       "    </tr>\n",
       "  </tbody>\n",
       "</table>\n",
       "</div>"
      ],
      "text/plain": [
       "<div>\n",
       "<style scoped>\n",
       "    .dataframe tbody tr th:only-of-type {\n",
       "        vertical-align: middle;\n",
       "    }\n",
       "\n",
       "    .dataframe tbody tr th {\n",
       "        vertical-align: top;\n",
       "    }\n",
       "\n",
       "    .dataframe thead th {\n",
       "        text-align: right;\n",
       "    }\n",
       "</style>\n",
       "<table border=\"1\" class=\"dataframe\">\n",
       "  <thead>\n",
       "    <tr style=\"text-align: right;\">\n",
       "      <th></th>\n",
       "      <th>module_name</th>\n",
       "      <th>genes_count</th>\n",
       "      <th>genes_with_interactions</th>\n",
       "      <th>interactions_count</th>\n",
       "    </tr>\n",
       "  </thead>\n",
       "  <tbody>\n",
       "    <tr>\n",
       "      <th>6</th>\n",
       "      <td>Mitosis &amp; chromosome segregation</td>\n",
       "      <td>199</td>\n",
       "      <td>145</td>\n",
       "      <td>667</td>\n",
       "    </tr>\n",
       "    <tr>\n",
       "      <th>12</th>\n",
       "      <td>Glycosylation, protein folding|targeting, cell...</td>\n",
       "      <td>160</td>\n",
       "      <td>96</td>\n",
       "      <td>185</td>\n",
       "    </tr>\n",
       "    <tr>\n",
       "      <th>5</th>\n",
       "      <td>Respiration, oxidative phosphorylation, mitoch...</td>\n",
       "      <td>138</td>\n",
       "      <td>88</td>\n",
       "      <td>165</td>\n",
       "    </tr>\n",
       "    <tr>\n",
       "      <th>15</th>\n",
       "      <td>Transcription &amp; chromatin organization</td>\n",
       "      <td>110</td>\n",
       "      <td>81</td>\n",
       "      <td>303</td>\n",
       "    </tr>\n",
       "    <tr>\n",
       "      <th>3</th>\n",
       "      <td>Cell polarity &amp; morphogenesis</td>\n",
       "      <td>102</td>\n",
       "      <td>60</td>\n",
       "      <td>225</td>\n",
       "    </tr>\n",
       "    <tr>\n",
       "      <th>14</th>\n",
       "      <td>mRNA &amp; tRNA processing</td>\n",
       "      <td>96</td>\n",
       "      <td>80</td>\n",
       "      <td>456</td>\n",
       "    </tr>\n",
       "    <tr>\n",
       "      <th>4</th>\n",
       "      <td>Vesicle traffic</td>\n",
       "      <td>95</td>\n",
       "      <td>73</td>\n",
       "      <td>169</td>\n",
       "    </tr>\n",
       "    <tr>\n",
       "      <th>7</th>\n",
       "      <td>DNA replication &amp; repair</td>\n",
       "      <td>95</td>\n",
       "      <td>71</td>\n",
       "      <td>183</td>\n",
       "    </tr>\n",
       "    <tr>\n",
       "      <th>0</th>\n",
       "      <td>rDNA &amp; ncDNA processing</td>\n",
       "      <td>90</td>\n",
       "      <td>68</td>\n",
       "      <td>424</td>\n",
       "    </tr>\n",
       "    <tr>\n",
       "      <th>13</th>\n",
       "      <td>Ribosome biogenesis</td>\n",
       "      <td>74</td>\n",
       "      <td>35</td>\n",
       "      <td>45</td>\n",
       "    </tr>\n",
       "    <tr>\n",
       "      <th>9</th>\n",
       "      <td>Protein degradation|turnover</td>\n",
       "      <td>59</td>\n",
       "      <td>40</td>\n",
       "      <td>253</td>\n",
       "    </tr>\n",
       "    <tr>\n",
       "      <th>1</th>\n",
       "      <td>Nuclear-cytoplasmic transport</td>\n",
       "      <td>39</td>\n",
       "      <td>32</td>\n",
       "      <td>137</td>\n",
       "    </tr>\n",
       "    <tr>\n",
       "      <th>8</th>\n",
       "      <td>Peroxisome</td>\n",
       "      <td>24</td>\n",
       "      <td>16</td>\n",
       "      <td>65</td>\n",
       "    </tr>\n",
       "    <tr>\n",
       "      <th>10</th>\n",
       "      <td>MVB sorting and pH depending signaling</td>\n",
       "      <td>21</td>\n",
       "      <td>19</td>\n",
       "      <td>32</td>\n",
       "    </tr>\n",
       "    <tr>\n",
       "      <th>2</th>\n",
       "      <td>tRNA wobble modification</td>\n",
       "      <td>16</td>\n",
       "      <td>13</td>\n",
       "      <td>33</td>\n",
       "    </tr>\n",
       "    <tr>\n",
       "      <th>11</th>\n",
       "      <td>Cytokinesis</td>\n",
       "      <td>13</td>\n",
       "      <td>4</td>\n",
       "      <td>6</td>\n",
       "    </tr>\n",
       "    <tr>\n",
       "      <th>16</th>\n",
       "      <td>Metabolism</td>\n",
       "      <td>11</td>\n",
       "      <td>0</td>\n",
       "      <td>0</td>\n",
       "    </tr>\n",
       "  </tbody>\n",
       "</table>\n",
       "</div>"
      ]
     },
     "execution_count": 0,
     "metadata": {},
     "output_type": "execute_result"
    },
    {
     "name": "stdout",
     "output_type": "stream",
     "text": [
      "CPU times: user 8.65 s, sys: 16 ms, total: 8.66 s\nWall time: 9.33 s\n"
     ]
    }
   ],
   "source": [
    "%%time\n",
    "\n",
    "for simplify_flag in [False, True]:\n",
    "    modules_stats = networks.basic_module_info(\n",
    "         interactome_graph=interactome_graph, \n",
    "         modules_dict=modules_dict, \n",
    "         modules_type=modules_type,\n",
    "         simplify=simplify_flag)\n",
    "    modules_stats.to_csv(\"./results/{}/\".format(modules_type) \n",
    "              + (\"simplified\" if simplify_flag else \"raw\") \n",
    "              + \"_module_stats.csv\", sep='\\t', index=False)\n",
    "    display(modules_stats.sort_values(by=\"genes_count\", ascending=False))"
   ]
  },
  {
   "cell_type": "code",
   "execution_count": 4,
   "metadata": {},
   "outputs": [],
   "source": [
    "gene_pool = np.union1d(eQTLs_expression_df[\"gene\"], pQTLs_expression_df[\"gene\"])"
   ]
  },
  {
   "cell_type": "code",
   "execution_count": 56,
   "metadata": {
    "collapsed": false
   },
   "outputs": [
    {
     "name": "stdout",
     "output_type": "stream",
     "text": [
      "0.05317220280074159 0.0\n"
     ]
    }
   ],
   "source": [
    "jacc = []\n",
    "for _ in range(1000):\n",
    "    gene_set = np.random.RandomState().choice(gene_pool, 10, replace=False)\n",
    "    linked_eQTLs = qtls.linked_markers(eQTLs_df, gene_set)\n",
    "    linked_pQTLs = qtls.linked_markers(pQTLs_df, gene_set)\n",
    "    jacc.append(qtls.jaccard(set(linked_eQTLs), set(linked_pQTLs)))\n",
    "print(np.mean(jacc), np.median(jacc))"
   ]
  },
  {
   "cell_type": "code",
   "execution_count": 5,
   "metadata": {},
   "outputs": [
    {
     "name": "stdout",
     "output_type": "stream",
     "text": [
      "kegg_modules\n"
     ]
    },
    {
     "data": {
      "text/html": [
       "<div>\n",
       "<style scoped>\n",
       "    .dataframe tbody tr th:only-of-type {\n",
       "        vertical-align: middle;\n",
       "    }\n",
       "\n",
       "    .dataframe tbody tr th {\n",
       "        vertical-align: top;\n",
       "    }\n",
       "\n",
       "    .dataframe thead th {\n",
       "        text-align: right;\n",
       "    }\n",
       "</style>\n",
       "<table border=\"1\" class=\"dataframe\">\n",
       "  <thead>\n",
       "    <tr style=\"text-align: right;\">\n",
       "      <th></th>\n",
       "      <th>q_value_cutoff</th>\n",
       "      <th>real_modules</th>\n",
       "      <th>random_modules</th>\n",
       "    </tr>\n",
       "  </thead>\n",
       "  <tbody>\n",
       "    <tr>\n",
       "      <th>0</th>\n",
       "      <td>1.000000e-08</td>\n",
       "      <td>0.229927</td>\n",
       "      <td>0.031213</td>\n",
       "    </tr>\n",
       "    <tr>\n",
       "      <th>1</th>\n",
       "      <td>1.000000e-07</td>\n",
       "      <td>0.239130</td>\n",
       "      <td>0.052010</td>\n",
       "    </tr>\n",
       "    <tr>\n",
       "      <th>2</th>\n",
       "      <td>1.000000e-06</td>\n",
       "      <td>0.221354</td>\n",
       "      <td>0.067761</td>\n",
       "    </tr>\n",
       "    <tr>\n",
       "      <th>3</th>\n",
       "      <td>1.000000e-05</td>\n",
       "      <td>0.168459</td>\n",
       "      <td>0.087292</td>\n",
       "    </tr>\n",
       "    <tr>\n",
       "      <th>4</th>\n",
       "      <td>1.000000e-04</td>\n",
       "      <td>0.173217</td>\n",
       "      <td>0.107421</td>\n",
       "    </tr>\n",
       "    <tr>\n",
       "      <th>5</th>\n",
       "      <td>1.000000e-03</td>\n",
       "      <td>0.186992</td>\n",
       "      <td>0.120255</td>\n",
       "    </tr>\n",
       "    <tr>\n",
       "      <th>6</th>\n",
       "      <td>1.000000e-02</td>\n",
       "      <td>0.191358</td>\n",
       "      <td>0.160969</td>\n",
       "    </tr>\n",
       "  </tbody>\n",
       "</table>\n",
       "</div>"
      ],
      "text/plain": [
       "<div>\n",
       "<style scoped>\n",
       "    .dataframe tbody tr th:only-of-type {\n",
       "        vertical-align: middle;\n",
       "    }\n",
       "\n",
       "    .dataframe tbody tr th {\n",
       "        vertical-align: top;\n",
       "    }\n",
       "\n",
       "    .dataframe thead th {\n",
       "        text-align: right;\n",
       "    }\n",
       "</style>\n",
       "<table border=\"1\" class=\"dataframe\">\n",
       "  <thead>\n",
       "    <tr style=\"text-align: right;\">\n",
       "      <th></th>\n",
       "      <th>q_value_cutoff</th>\n",
       "      <th>real_modules</th>\n",
       "      <th>random_modules</th>\n",
       "    </tr>\n",
       "  </thead>\n",
       "  <tbody>\n",
       "    <tr>\n",
       "      <th>0</th>\n",
       "      <td>1.000000e-08</td>\n",
       "      <td>0.229927</td>\n",
       "      <td>0.031213</td>\n",
       "    </tr>\n",
       "    <tr>\n",
       "      <th>1</th>\n",
       "      <td>1.000000e-07</td>\n",
       "      <td>0.239130</td>\n",
       "      <td>0.052010</td>\n",
       "    </tr>\n",
       "    <tr>\n",
       "      <th>2</th>\n",
       "      <td>1.000000e-06</td>\n",
       "      <td>0.221354</td>\n",
       "      <td>0.067761</td>\n",
       "    </tr>\n",
       "    <tr>\n",
       "      <th>3</th>\n",
       "      <td>1.000000e-05</td>\n",
       "      <td>0.168459</td>\n",
       "      <td>0.087292</td>\n",
       "    </tr>\n",
       "    <tr>\n",
       "      <th>4</th>\n",
       "      <td>1.000000e-04</td>\n",
       "      <td>0.173217</td>\n",
       "      <td>0.107421</td>\n",
       "    </tr>\n",
       "    <tr>\n",
       "      <th>5</th>\n",
       "      <td>1.000000e-03</td>\n",
       "      <td>0.186992</td>\n",
       "      <td>0.120255</td>\n",
       "    </tr>\n",
       "    <tr>\n",
       "      <th>6</th>\n",
       "      <td>1.000000e-02</td>\n",
       "      <td>0.191358</td>\n",
       "      <td>0.160969</td>\n",
       "    </tr>\n",
       "  </tbody>\n",
       "</table>\n",
       "</div>"
      ]
     },
     "execution_count": 0,
     "metadata": {},
     "output_type": "execute_result"
    },
    {
     "name": "stdout",
     "output_type": "stream",
     "text": [
      "CPU times: user 1min 54s, sys: 108 ms, total: 1min 54s\nWall time: 1min 54s\n"
     ]
    }
   ],
   "source": [
    "%%time\n",
    "print(modules_type)\n",
    "display(\n",
    "    pd.DataFrame(\n",
    "        [\n",
    "            (q_cutoff, *qtls.qtl_overlap_test(eQTLs_df.query(\"q_value < {}\".format(q_cutoff)), \n",
    "                                              pQTLs_df.query(\"q_value < {}\".format(q_cutoff)), \n",
    "                                              gene_pool, modules_dict))\n",
    "            for q_cutoff in 10.**np.arange(-8, -1)\n",
    "        ],\n",
    "        columns = [\"q_value_cutoff\", \"real_modules\", \"random_modules\"],\n",
    "        dtype=np.float32\n",
    "    )\n",
    ")"
   ]
  },
  {
   "cell_type": "code",
   "execution_count": 6,
   "metadata": {
    "collapsed": false
   },
   "outputs": [
    {
     "name": "stderr",
     "output_type": "stream",
     "text": [
      "\rrandom samples generated:   0%|          | 0/108 [00:00<?, ?it/s]"
     ]
    },
    {
     "name": "stderr",
     "output_type": "stream",
     "text": [
      "\rrandom samples generated:   1%|          | 1/108 [00:00<00:31,  3.38it/s]"
     ]
    },
    {
     "name": "stderr",
     "output_type": "stream",
     "text": [
      "\rrandom samples generated:   2%|▏         | 2/108 [00:00<00:30,  3.53it/s]"
     ]
    },
    {
     "name": "stderr",
     "output_type": "stream",
     "text": [
      "\rrandom samples generated:   3%|▎         | 3/108 [00:00<00:29,  3.53it/s]"
     ]
    },
    {
     "name": "stderr",
     "output_type": "stream",
     "text": [
      "\rrandom samples generated:   4%|▎         | 4/108 [00:01<00:29,  3.49it/s]"
     ]
    },
    {
     "name": "stderr",
     "output_type": "stream",
     "text": [
      "\rrandom samples generated:   5%|▍         | 5/108 [00:01<00:30,  3.34it/s]"
     ]
    },
    {
     "name": "stderr",
     "output_type": "stream",
     "text": [
      "\rrandom samples generated:   6%|▌         | 6/108 [00:01<00:31,  3.25it/s]"
     ]
    },
    {
     "name": "stderr",
     "output_type": "stream",
     "text": [
      "\rrandom samples generated:   6%|▋         | 7/108 [00:02<00:30,  3.28it/s]"
     ]
    },
    {
     "name": "stderr",
     "output_type": "stream",
     "text": [
      "\rrandom samples generated:   7%|▋         | 8/108 [00:02<00:32,  3.11it/s]"
     ]
    },
    {
     "name": "stderr",
     "output_type": "stream",
     "text": [
      "\rrandom samples generated:   8%|▊         | 9/108 [00:02<00:31,  3.14it/s]"
     ]
    },
    {
     "name": "stderr",
     "output_type": "stream",
     "text": [
      "\rrandom samples generated:   9%|▉         | 10/108 [00:03<00:30,  3.17it/s]"
     ]
    },
    {
     "name": "stderr",
     "output_type": "stream",
     "text": [
      "\rrandom samples generated:  10%|█         | 11/108 [00:03<00:30,  3.20it/s]"
     ]
    },
    {
     "name": "stderr",
     "output_type": "stream",
     "text": [
      "\rrandom samples generated:  11%|█         | 12/108 [00:03<00:30,  3.10it/s]"
     ]
    },
    {
     "name": "stderr",
     "output_type": "stream",
     "text": [
      "\rrandom samples generated:  12%|█▏        | 13/108 [00:04<00:30,  3.10it/s]"
     ]
    },
    {
     "name": "stderr",
     "output_type": "stream",
     "text": [
      "\rrandom samples generated:  13%|█▎        | 14/108 [00:04<00:30,  3.11it/s]"
     ]
    },
    {
     "name": "stderr",
     "output_type": "stream",
     "text": [
      "\rrandom samples generated:  14%|█▍        | 15/108 [00:04<00:29,  3.12it/s]"
     ]
    },
    {
     "name": "stderr",
     "output_type": "stream",
     "text": [
      "\rrandom samples generated:  15%|█▍        | 16/108 [00:05<00:29,  3.10it/s]"
     ]
    },
    {
     "name": "stderr",
     "output_type": "stream",
     "text": [
      "\rrandom samples generated:  16%|█▌        | 17/108 [00:05<00:29,  3.07it/s]"
     ]
    },
    {
     "name": "stderr",
     "output_type": "stream",
     "text": [
      "\rrandom samples generated:  17%|█▋        | 18/108 [00:05<00:28,  3.10it/s]"
     ]
    },
    {
     "name": "stderr",
     "output_type": "stream",
     "text": [
      "\rrandom samples generated:  18%|█▊        | 19/108 [00:06<00:28,  3.12it/s]"
     ]
    },
    {
     "name": "stderr",
     "output_type": "stream",
     "text": [
      "\rrandom samples generated:  19%|█▊        | 20/108 [00:06<00:27,  3.15it/s]"
     ]
    },
    {
     "name": "stderr",
     "output_type": "stream",
     "text": [
      "\rrandom samples generated:  19%|█▉        | 21/108 [00:06<00:27,  3.15it/s]"
     ]
    },
    {
     "name": "stderr",
     "output_type": "stream",
     "text": [
      "\rrandom samples generated:  20%|██        | 22/108 [00:06<00:27,  3.16it/s]"
     ]
    },
    {
     "name": "stderr",
     "output_type": "stream",
     "text": [
      "\rrandom samples generated:  21%|██▏       | 23/108 [00:07<00:26,  3.17it/s]"
     ]
    },
    {
     "name": "stderr",
     "output_type": "stream",
     "text": [
      "\rrandom samples generated:  22%|██▏       | 24/108 [00:07<00:27,  3.09it/s]"
     ]
    },
    {
     "name": "stderr",
     "output_type": "stream",
     "text": [
      "\rrandom samples generated:  23%|██▎       | 25/108 [00:08<00:27,  3.07it/s]"
     ]
    },
    {
     "name": "stderr",
     "output_type": "stream",
     "text": [
      "\rrandom samples generated:  24%|██▍       | 26/108 [00:08<00:26,  3.06it/s]"
     ]
    },
    {
     "name": "stderr",
     "output_type": "stream",
     "text": [
      "\rrandom samples generated:  25%|██▌       | 27/108 [00:08<00:26,  3.05it/s]"
     ]
    },
    {
     "name": "stderr",
     "output_type": "stream",
     "text": [
      "\rrandom samples generated:  26%|██▌       | 28/108 [00:09<00:26,  3.05it/s]"
     ]
    },
    {
     "name": "stderr",
     "output_type": "stream",
     "text": [
      "\rrandom samples generated:  27%|██▋       | 29/108 [00:09<00:25,  3.04it/s]"
     ]
    },
    {
     "name": "stderr",
     "output_type": "stream",
     "text": [
      "\rrandom samples generated:  28%|██▊       | 30/108 [00:09<00:25,  3.06it/s]"
     ]
    },
    {
     "name": "stderr",
     "output_type": "stream",
     "text": [
      "\rrandom samples generated:  29%|██▊       | 31/108 [00:10<00:25,  3.05it/s]"
     ]
    },
    {
     "name": "stderr",
     "output_type": "stream",
     "text": [
      "\rrandom samples generated:  30%|██▉       | 32/108 [00:10<00:24,  3.05it/s]"
     ]
    },
    {
     "name": "stderr",
     "output_type": "stream",
     "text": [
      "\rrandom samples generated:  31%|███       | 33/108 [00:10<00:24,  3.06it/s]"
     ]
    },
    {
     "name": "stderr",
     "output_type": "stream",
     "text": [
      "\rrandom samples generated:  31%|███▏      | 34/108 [00:11<00:24,  3.05it/s]"
     ]
    },
    {
     "name": "stderr",
     "output_type": "stream",
     "text": [
      "\rrandom samples generated:  32%|███▏      | 35/108 [00:11<00:23,  3.06it/s]"
     ]
    },
    {
     "name": "stderr",
     "output_type": "stream",
     "text": [
      "\rrandom samples generated:  33%|███▎      | 36/108 [00:11<00:23,  3.04it/s]"
     ]
    },
    {
     "name": "stderr",
     "output_type": "stream",
     "text": [
      "\rrandom samples generated:  34%|███▍      | 37/108 [00:12<00:23,  3.02it/s]"
     ]
    },
    {
     "name": "stderr",
     "output_type": "stream",
     "text": [
      "\rrandom samples generated:  35%|███▌      | 38/108 [00:12<00:23,  3.01it/s]"
     ]
    },
    {
     "name": "stderr",
     "output_type": "stream",
     "text": [
      "\rrandom samples generated:  36%|███▌      | 39/108 [00:12<00:22,  3.02it/s]"
     ]
    },
    {
     "name": "stderr",
     "output_type": "stream",
     "text": [
      "\rrandom samples generated:  37%|███▋      | 40/108 [00:13<00:22,  3.03it/s]"
     ]
    },
    {
     "name": "stderr",
     "output_type": "stream",
     "text": [
      "\rrandom samples generated:  38%|███▊      | 41/108 [00:13<00:22,  3.03it/s]"
     ]
    },
    {
     "name": "stderr",
     "output_type": "stream",
     "text": [
      "\rrandom samples generated:  39%|███▉      | 42/108 [00:13<00:21,  3.04it/s]"
     ]
    },
    {
     "name": "stderr",
     "output_type": "stream",
     "text": [
      "\rrandom samples generated:  40%|███▉      | 43/108 [00:14<00:21,  3.04it/s]"
     ]
    },
    {
     "name": "stderr",
     "output_type": "stream",
     "text": [
      "\rrandom samples generated:  41%|████      | 44/108 [00:14<00:21,  3.05it/s]"
     ]
    },
    {
     "name": "stderr",
     "output_type": "stream",
     "text": [
      "\rrandom samples generated:  42%|████▏     | 45/108 [00:14<00:20,  3.05it/s]"
     ]
    },
    {
     "name": "stderr",
     "output_type": "stream",
     "text": [
      "\rrandom samples generated:  43%|████▎     | 46/108 [00:15<00:20,  3.05it/s]"
     ]
    },
    {
     "name": "stderr",
     "output_type": "stream",
     "text": [
      "\rrandom samples generated:  44%|████▎     | 47/108 [00:15<00:20,  3.05it/s]"
     ]
    },
    {
     "name": "stderr",
     "output_type": "stream",
     "text": [
      "\rrandom samples generated:  44%|████▍     | 48/108 [00:15<00:19,  3.03it/s]"
     ]
    },
    {
     "name": "stderr",
     "output_type": "stream",
     "text": [
      "\rrandom samples generated:  45%|████▌     | 49/108 [00:16<00:19,  3.04it/s]"
     ]
    },
    {
     "name": "stderr",
     "output_type": "stream",
     "text": [
      "\rrandom samples generated:  46%|████▋     | 50/108 [00:16<00:19,  3.05it/s]"
     ]
    },
    {
     "name": "stderr",
     "output_type": "stream",
     "text": [
      "\rrandom samples generated:  47%|████▋     | 51/108 [00:16<00:18,  3.05it/s]"
     ]
    },
    {
     "name": "stderr",
     "output_type": "stream",
     "text": [
      "\rrandom samples generated:  48%|████▊     | 52/108 [00:16<00:18,  3.06it/s]"
     ]
    },
    {
     "name": "stderr",
     "output_type": "stream",
     "text": [
      "\rrandom samples generated:  49%|████▉     | 53/108 [00:17<00:17,  3.06it/s]"
     ]
    },
    {
     "name": "stderr",
     "output_type": "stream",
     "text": [
      "\rrandom samples generated:  50%|█████     | 54/108 [00:17<00:17,  3.07it/s]"
     ]
    },
    {
     "name": "stderr",
     "output_type": "stream",
     "text": [
      "\rrandom samples generated:  51%|█████     | 55/108 [00:18<00:17,  3.05it/s]"
     ]
    },
    {
     "name": "stderr",
     "output_type": "stream",
     "text": [
      "\rrandom samples generated:  52%|█████▏    | 56/108 [00:18<00:17,  3.05it/s]"
     ]
    },
    {
     "name": "stderr",
     "output_type": "stream",
     "text": [
      "\rrandom samples generated:  53%|█████▎    | 57/108 [00:18<00:16,  3.04it/s]"
     ]
    },
    {
     "name": "stderr",
     "output_type": "stream",
     "text": [
      "\rrandom samples generated:  54%|█████▎    | 58/108 [00:19<00:16,  3.04it/s]"
     ]
    },
    {
     "name": "stderr",
     "output_type": "stream",
     "text": [
      "\rrandom samples generated:  55%|█████▍    | 59/108 [00:19<00:16,  3.05it/s]"
     ]
    },
    {
     "name": "stderr",
     "output_type": "stream",
     "text": [
      "\rrandom samples generated:  56%|█████▌    | 60/108 [00:19<00:15,  3.03it/s]"
     ]
    },
    {
     "name": "stderr",
     "output_type": "stream",
     "text": [
      "\rrandom samples generated:  56%|█████▋    | 61/108 [00:20<00:15,  3.04it/s]"
     ]
    },
    {
     "name": "stderr",
     "output_type": "stream",
     "text": [
      "\rrandom samples generated:  57%|█████▋    | 62/108 [00:20<00:15,  3.04it/s]"
     ]
    },
    {
     "name": "stderr",
     "output_type": "stream",
     "text": [
      "\rrandom samples generated:  58%|█████▊    | 63/108 [00:20<00:14,  3.04it/s]"
     ]
    },
    {
     "name": "stderr",
     "output_type": "stream",
     "text": [
      "\rrandom samples generated:  59%|█████▉    | 64/108 [00:21<00:14,  3.03it/s]"
     ]
    },
    {
     "name": "stderr",
     "output_type": "stream",
     "text": [
      "\rrandom samples generated:  60%|██████    | 65/108 [00:21<00:14,  3.03it/s]"
     ]
    },
    {
     "name": "stderr",
     "output_type": "stream",
     "text": [
      "\rrandom samples generated:  61%|██████    | 66/108 [00:21<00:13,  3.04it/s]"
     ]
    },
    {
     "name": "stderr",
     "output_type": "stream",
     "text": [
      "\rrandom samples generated:  62%|██████▏   | 67/108 [00:22<00:13,  3.04it/s]"
     ]
    },
    {
     "name": "stderr",
     "output_type": "stream",
     "text": [
      "\rrandom samples generated:  63%|██████▎   | 68/108 [00:22<00:13,  3.04it/s]"
     ]
    },
    {
     "name": "stderr",
     "output_type": "stream",
     "text": [
      "\rrandom samples generated:  64%|██████▍   | 69/108 [00:22<00:12,  3.02it/s]"
     ]
    },
    {
     "name": "stderr",
     "output_type": "stream",
     "text": [
      "\rrandom samples generated:  65%|██████▍   | 70/108 [00:23<00:12,  3.02it/s]"
     ]
    },
    {
     "name": "stderr",
     "output_type": "stream",
     "text": [
      "\rrandom samples generated:  66%|██████▌   | 71/108 [00:23<00:12,  3.02it/s]"
     ]
    },
    {
     "name": "stderr",
     "output_type": "stream",
     "text": [
      "\rrandom samples generated:  67%|██████▋   | 72/108 [00:23<00:11,  3.03it/s]"
     ]
    },
    {
     "name": "stderr",
     "output_type": "stream",
     "text": [
      "\rrandom samples generated:  68%|██████▊   | 73/108 [00:24<00:11,  3.03it/s]"
     ]
    },
    {
     "name": "stderr",
     "output_type": "stream",
     "text": [
      "\rrandom samples generated:  69%|██████▊   | 74/108 [00:24<00:11,  3.04it/s]"
     ]
    },
    {
     "name": "stderr",
     "output_type": "stream",
     "text": [
      "\rrandom samples generated:  69%|██████▉   | 75/108 [00:24<00:10,  3.03it/s]"
     ]
    },
    {
     "name": "stderr",
     "output_type": "stream",
     "text": [
      "\rrandom samples generated:  70%|███████   | 76/108 [00:25<00:10,  3.03it/s]"
     ]
    },
    {
     "name": "stderr",
     "output_type": "stream",
     "text": [
      "\rrandom samples generated:  71%|███████▏  | 77/108 [00:25<00:10,  3.04it/s]"
     ]
    },
    {
     "name": "stderr",
     "output_type": "stream",
     "text": [
      "\rrandom samples generated:  72%|███████▏  | 78/108 [00:25<00:09,  3.03it/s]"
     ]
    },
    {
     "name": "stderr",
     "output_type": "stream",
     "text": [
      "\rrandom samples generated:  73%|███████▎  | 79/108 [00:26<00:09,  3.03it/s]"
     ]
    },
    {
     "name": "stderr",
     "output_type": "stream",
     "text": [
      "\rrandom samples generated:  74%|███████▍  | 80/108 [00:26<00:09,  3.04it/s]"
     ]
    },
    {
     "name": "stderr",
     "output_type": "stream",
     "text": [
      "\rrandom samples generated:  75%|███████▌  | 81/108 [00:26<00:08,  3.03it/s]"
     ]
    },
    {
     "name": "stderr",
     "output_type": "stream",
     "text": [
      "\rrandom samples generated:  76%|███████▌  | 82/108 [00:26<00:08,  3.04it/s]"
     ]
    },
    {
     "name": "stderr",
     "output_type": "stream",
     "text": [
      "\rrandom samples generated:  77%|███████▋  | 83/108 [00:27<00:08,  3.03it/s]"
     ]
    },
    {
     "name": "stderr",
     "output_type": "stream",
     "text": [
      "\rrandom samples generated:  78%|███████▊  | 84/108 [00:27<00:07,  3.03it/s]"
     ]
    },
    {
     "name": "stderr",
     "output_type": "stream",
     "text": [
      "\rrandom samples generated:  79%|███████▊  | 85/108 [00:28<00:07,  3.03it/s]"
     ]
    },
    {
     "name": "stderr",
     "output_type": "stream",
     "text": [
      "\rrandom samples generated:  80%|███████▉  | 86/108 [00:28<00:07,  3.02it/s]"
     ]
    },
    {
     "name": "stderr",
     "output_type": "stream",
     "text": [
      "\rrandom samples generated:  81%|████████  | 87/108 [00:28<00:06,  3.01it/s]"
     ]
    },
    {
     "name": "stderr",
     "output_type": "stream",
     "text": [
      "\rrandom samples generated:  81%|████████▏ | 88/108 [00:29<00:06,  3.00it/s]"
     ]
    },
    {
     "name": "stderr",
     "output_type": "stream",
     "text": [
      "\rrandom samples generated:  82%|████████▏ | 89/108 [00:29<00:06,  3.01it/s]"
     ]
    },
    {
     "name": "stderr",
     "output_type": "stream",
     "text": [
      "\rrandom samples generated:  83%|████████▎ | 90/108 [00:29<00:05,  3.01it/s]"
     ]
    },
    {
     "name": "stderr",
     "output_type": "stream",
     "text": [
      "\rrandom samples generated:  84%|████████▍ | 91/108 [00:30<00:05,  3.00it/s]"
     ]
    },
    {
     "name": "stderr",
     "output_type": "stream",
     "text": [
      "\rrandom samples generated:  85%|████████▌ | 92/108 [00:30<00:05,  3.01it/s]"
     ]
    },
    {
     "name": "stderr",
     "output_type": "stream",
     "text": [
      "\rrandom samples generated:  86%|████████▌ | 93/108 [00:30<00:04,  3.00it/s]"
     ]
    },
    {
     "name": "stderr",
     "output_type": "stream",
     "text": [
      "\rrandom samples generated:  87%|████████▋ | 94/108 [00:31<00:04,  3.00it/s]"
     ]
    },
    {
     "name": "stderr",
     "output_type": "stream",
     "text": [
      "\rrandom samples generated:  88%|████████▊ | 95/108 [00:31<00:04,  3.00it/s]"
     ]
    },
    {
     "name": "stderr",
     "output_type": "stream",
     "text": [
      "\rrandom samples generated:  89%|████████▉ | 96/108 [00:31<00:03,  3.00it/s]"
     ]
    },
    {
     "name": "stderr",
     "output_type": "stream",
     "text": [
      "\rrandom samples generated:  90%|████████▉ | 97/108 [00:32<00:03,  2.99it/s]"
     ]
    },
    {
     "name": "stderr",
     "output_type": "stream",
     "text": [
      "\rrandom samples generated:  91%|█████████ | 98/108 [00:32<00:03,  2.99it/s]"
     ]
    },
    {
     "name": "stderr",
     "output_type": "stream",
     "text": [
      "\rrandom samples generated:  92%|█████████▏| 99/108 [00:33<00:03,  2.99it/s]"
     ]
    },
    {
     "name": "stderr",
     "output_type": "stream",
     "text": [
      "\rrandom samples generated:  93%|█████████▎| 100/108 [00:33<00:02,  2.99it/s]"
     ]
    },
    {
     "name": "stderr",
     "output_type": "stream",
     "text": [
      "\rrandom samples generated:  94%|█████████▎| 101/108 [00:33<00:02,  2.99it/s]"
     ]
    },
    {
     "name": "stderr",
     "output_type": "stream",
     "text": [
      "\rrandom samples generated:  94%|█████████▍| 102/108 [00:34<00:02,  2.99it/s]"
     ]
    },
    {
     "name": "stderr",
     "output_type": "stream",
     "text": [
      "\rrandom samples generated:  95%|█████████▌| 103/108 [00:34<00:01,  2.98it/s]"
     ]
    },
    {
     "name": "stderr",
     "output_type": "stream",
     "text": [
      "\rrandom samples generated:  96%|█████████▋| 104/108 [00:34<00:01,  2.99it/s]"
     ]
    },
    {
     "name": "stderr",
     "output_type": "stream",
     "text": [
      "\rrandom samples generated:  97%|█████████▋| 105/108 [00:35<00:01,  2.99it/s]"
     ]
    },
    {
     "name": "stderr",
     "output_type": "stream",
     "text": [
      "\rrandom samples generated:  98%|█████████▊| 106/108 [00:35<00:00,  2.98it/s]"
     ]
    },
    {
     "name": "stderr",
     "output_type": "stream",
     "text": [
      "\rrandom samples generated:  99%|█████████▉| 107/108 [00:35<00:00,  2.98it/s]"
     ]
    },
    {
     "name": "stderr",
     "output_type": "stream",
     "text": [
      "\rrandom samples generated: 100%|██████████| 108/108 [00:36<00:00,  2.97it/s]"
     ]
    },
    {
     "name": "stderr",
     "output_type": "stream",
     "text": [
      "\n"
     ]
    },
    {
     "name": "stdout",
     "output_type": "stream",
     "text": [
      "CPU times: user 39.8 s, sys: 184 ms, total: 40 s\nWall time: 39.8 s\n"
     ]
    }
   ],
   "source": [
    "%%time\n",
    "\n",
    "intersection_j, randomized_intersection_j = \\\n",
    "    qtls.qtl_overlap_by_module_test(eQTLs_df, pQTLs_df, gene_pool, modules_dict)\n",
    "\n",
    "qtls.qtl_overlap_hist(intersection_j, modules_type)\n",
    "qtls.qtl_overlap_hist(randomized_intersection_j, modules_type + \"_randomized\")"
   ]
  },
  {
   "cell_type": "code",
   "execution_count": 29,
   "metadata": {
    "collapsed": false
   },
   "outputs": [
    {
     "name": "stdout",
     "output_type": "stream",
     "text": [
      "CPU times: user 320 ms, sys: 0 ns, total: 320 ms\nWall time: 380 ms\n"
     ]
    }
   ],
   "source": [
    "%%time\n",
    "reload(qtls)\n",
    "\n",
    "modules_for_ppi_test = qtls.filter_modules(\n",
    "    modules_type=modules_type,\n",
    "    expression_dfs=[eQTLs_expression_df, pQTLs_expression_df],\n",
    "    qtl_dfs=[eQTLs_df, pQTLs_df],\n",
    "    qtl_types=[\"eQTLs\", \"pQTLs\"],\n",
    "    interactome_graph=interactome_graph,\n",
    "    raw_modules_dict=modules_dict,\n",
    "    q_thresholds=fdr_cutoffs\n",
    ")\n",
    "\n",
    "with open(\"./results/{}/modules_for_ppi_test.pkl\".format(modules_type), \"wb\") as pickle_file:\n",
    "    pickle.dump(modules_for_ppi_test, pickle_file)\n"
   ]
  },
  {
   "cell_type": "code",
   "execution_count": 24,
   "metadata": {
    "collapsed": true
   },
   "outputs": [
    {
     "name": "stderr",
     "output_type": "stream",
     "text": [
      "\rsubdirectories processed:   0%|          | 0/8 [00:00<?, ?it/s]"
     ]
    },
    {
     "name": "stderr",
     "output_type": "stream",
     "text": [
      "\rsubdirectories processed: 100%|██████████| 8/8 [00:00<00:00, 10655.58it/s]"
     ]
    },
    {
     "name": "stderr",
     "output_type": "stream",
     "text": [
      "\n\rgraphs and hists plotted: 0it [00:00, ?it/s]"
     ]
    },
    {
     "name": "stderr",
     "output_type": "stream",
     "text": [
      "\n\rvignettes plotted: 0it [00:00, ?it/s]"
     ]
    },
    {
     "name": "stderr",
     "output_type": "stream",
     "text": [
      "\n\rsubdirectories processed:   0%|          | 0/8 [00:00<?, ?it/s]"
     ]
    },
    {
     "name": "stderr",
     "output_type": "stream",
     "text": [
      "\rsubdirectories processed: 100%|██████████| 8/8 [00:00<00:00, 15040.09it/s]"
     ]
    },
    {
     "name": "stderr",
     "output_type": "stream",
     "text": [
      "\n\rgraphs and hists plotted: 0it [00:00, ?it/s]"
     ]
    },
    {
     "name": "stderr",
     "output_type": "stream",
     "text": [
      "\n\rvignettes plotted: 0it [00:00, ?it/s]"
     ]
    },
    {
     "name": "stdout",
     "output_type": "stream",
     "text": [
      "CPU times: user 164 ms, sys: 28 ms, total: 192 ms\nWall time: 187 ms\n"
     ]
    },
    {
     "name": "stderr",
     "output_type": "stream",
     "text": [
      "\n"
     ]
    }
   ],
   "source": [
    "%%time\n",
    "reload(qtls)\n",
    "for expression_df, qtl_df, qtl_type in [(eQTLs_expression_df, eQTLs_df, \"eQTLs\"),\n",
    "                                        (pQTLs_expression_df, pQTLs_df, \"pQTLs\")]:\n",
    "    qtls.plot_analysis_results(\n",
    "        expression_df=expression_df,\n",
    "        interactions_type=\"physical\",\n",
    "        interactome_graph=interactome_graph,\n",
    "        modules_dict=modules_dict,\n",
    "        modules_type=modules_type,\n",
    "        qtl_df=qtl_df,\n",
    "        qtl_type=qtl_type\n",
    "    )\n",
    "    \n"
   ]
  },
  {
   "cell_type": "code",
   "execution_count": 64,
   "metadata": {
    "collapsed": false
   },
   "outputs": [
    {
     "name": "stdout",
     "output_type": "stream",
     "text": [
      "CPU times: user 37.8 s, sys: 3.33 s, total: 41.2 s\nWall time: 3min 1s\n"
     ]
    }
   ],
   "source": [
    "%%time \n",
    "\n",
    "reload(qtls)\n",
    "module_name = \"physical\"\n",
    "module_genes = modules_dict[module_name]\n",
    "predictions_dict = {}\n",
    "# for module_name, module_genes in tqdm(modules_dict.items()):\n",
    "module_graph = interactome_graphs_dict[\"all\"].subgraph(\n",
    "    np.intersect1d(interactome_graphs_dict[\"all\"].vs[\"name\"], module_genes)\n",
    ")\n",
    "if len(qtls.linked_markers(pQTLs_df, module_genes)) == 0\\\n",
    "        or len(qtls.linked_markers(eQTLs_df, module_genes)) == 0:\n",
    "    predictions_dict[module_name] = \"No linkages\"\n",
    "else:\n",
    "    predictions_dict[module_name] = qtls.PqtlPredictor(\n",
    "        eQTLs_df[eQTLs_df[\"gene\"].isin(module_graph.vs[\"name\"]) & (eQTLs_df[\"q_value\"] < 0.001)], \n",
    "        pQTLs_df[pQTLs_df[\"gene\"].isin(module_graph.vs[\"name\"]) & (pQTLs_df[\"q_value\"] < 0.001)],\n",
    "        eQTLs_expression_df, eQTLs_genotypes_df,\n",
    "        pQTLs_expression_df, pQTLs_genotypes_df,\n",
    "        full_genotypes_df,\n",
    "        module_name, module_graph\n",
    "    ).predict()"
   ]
  },
  {
   "cell_type": "code",
   "execution_count": 65,
   "metadata": {},
   "outputs": [
    {
     "name": "stdout",
     "output_type": "stream",
     "text": [
      "physical\nCommon linkages:\t1790, 44.01278583722646%\nOld linkages, total:\t4067\nNew linkages, total:\t2533\nNew linkages found:\t743 \n\n"
     ]
    }
   ],
   "source": [
    "for marker_name in predictions_dict.keys():\n",
    "    print(marker_name)\n",
    "    print(predictions_dict[marker_name], '\\n')"
   ]
  },
  {
   "cell_type": "markdown",
   "metadata": {},
   "source": [
    "## GeneOntology"
   ]
  },
  {
   "cell_type": "code",
   "execution_count": 5,
   "metadata": {},
   "outputs": [
    {
     "name": "stdout",
     "output_type": "stream",
     "text": [
      "./data/geneontology/go-basic.obo: fmt(1.2) rel(2018-07-02) 47,231 GO Terms; optional_attrs(relationship)\n"
     ]
    },
    {
     "name": "stderr",
     "output_type": "stream",
     "text": [
      "\r  0%|          | 0/4136 [00:00<?, ?it/s]"
     ]
    },
    {
     "name": "stderr",
     "output_type": "stream",
     "text": [
      "\r 17%|█▋        | 687/4136 [00:00<00:00, 6862.20it/s]"
     ]
    },
    {
     "name": "stderr",
     "output_type": "stream",
     "text": [
      "\r 29%|██▉       | 1218/4136 [00:00<00:00, 6084.30it/s]"
     ]
    },
    {
     "name": "stderr",
     "output_type": "stream",
     "text": [
      "\r 47%|████▋     | 1960/4136 [00:00<00:00, 6528.53it/s]"
     ]
    },
    {
     "name": "stderr",
     "output_type": "stream",
     "text": [
      "\r 65%|██████▍   | 2682/4136 [00:00<00:00, 6686.99it/s]"
     ]
    },
    {
     "name": "stderr",
     "output_type": "stream",
     "text": [
      "\r 78%|███████▊  | 3226/4136 [00:00<00:00, 6437.86it/s]"
     ]
    },
    {
     "name": "stderr",
     "output_type": "stream",
     "text": [
      "\r 95%|█████████▍| 3915/4136 [00:00<00:00, 6509.87it/s]"
     ]
    },
    {
     "name": "stderr",
     "output_type": "stream",
     "text": [
      "\r100%|██████████| 4136/4136 [00:00<00:00, 6431.32it/s]"
     ]
    },
    {
     "name": "stderr",
     "output_type": "stream",
     "text": [
      "\n"
     ]
    }
   ],
   "source": [
    "from goatools import obo_parser\n",
    "\n",
    "# building the GeneOntology DAG\n",
    "obodag = obo_parser.GODag(\n",
    "    \"./data/geneontology/go-basic.obo\",\n",
    "    optional_attrs=[\"relationship\"]\n",
    ")\n",
    "from Bio.UniProt.GOA import gafiterator\n",
    "\n",
    "# how many of them are present in actual yeast genome?\n",
    "yeast_gaf = './data/geneontology/goa_yeast.gaf'\n",
    "goid2genes = collections.defaultdict(list)\n",
    "with open(yeast_gaf) as handle:\n",
    "    for rec in gafiterator(handle):\n",
    "        go_term = obodag[rec[\"GO_ID\"]]\n",
    "        for par in go_term.parents:\n",
    "            goid2genes[par.id].append(rec[\"DB_Object_Symbol\"])\n",
    "            \n",
    "for key, val in goid2genes.items():\n",
    "    goid2genes[key] = np.unique(val)\n",
    "\n",
    "physically_interacting_genes = set(interactome_graphs_dict[\"physical\"].vs[\"name\"])\n",
    "geneontology_modules_dict = {\n",
    "    obodag[go_id].name.replace('/', '|') : genes \n",
    "    for go_id, genes in tqdm(goid2genes.items()) \n",
    "    if 10 <= len(interactome_graphs_dict[\"physical\"].subgraph(\n",
    "            set(genes) & physically_interacting_genes\n",
    "        ).simplify().vs.select(_degree_gt=0)) <= 150\n",
    "}\n",
    "\n",
    "with open(\"./results/geneontology/modules_dict.pkl\", \"wb+\") as pickle_file:\n",
    "    pickle.dump(geneontology_modules_dict, pickle_file)\n",
    "# with open(\"./results/geneontology/modules_dict.pkl\", \"rb+\") as pickle_file:\n",
    "#     geneontology_modules_dict = pickle.load(pickle_file)"
   ]
  },
  {
   "cell_type": "markdown",
   "metadata": {},
   "source": [
    "## KEGG pathways"
   ]
  },
  {
   "cell_type": "code",
   "execution_count": 6,
   "metadata": {
    "collapsed": false
   },
   "outputs": [
    {
     "name": "stderr",
     "output_type": "stream",
     "text": [
      "\rmodules retrieved:   0%|          | 0/116 [00:00<?, ?it/s]"
     ]
    },
    {
     "name": "stderr",
     "output_type": "stream",
     "text": [
      "\rmodules retrieved:   1%|          | 1/116 [00:01<02:12,  1.15s/it]"
     ]
    },
    {
     "name": "stderr",
     "output_type": "stream",
     "text": [
      "\rmodules retrieved:   2%|▏         | 2/116 [00:02<02:12,  1.16s/it]"
     ]
    },
    {
     "name": "stderr",
     "output_type": "stream",
     "text": [
      "\rmodules retrieved:   3%|▎         | 3/116 [00:07<04:25,  2.35s/it]"
     ]
    },
    {
     "name": "stderr",
     "output_type": "stream",
     "text": [
      "\rmodules retrieved:   3%|▎         | 4/116 [00:08<03:47,  2.03s/it]"
     ]
    },
    {
     "name": "stderr",
     "output_type": "stream",
     "text": [
      "\rmodules retrieved:   4%|▍         | 5/116 [00:09<03:27,  1.87s/it]"
     ]
    },
    {
     "name": "stderr",
     "output_type": "stream",
     "text": [
      "\rmodules retrieved:   5%|▌         | 6/116 [00:10<03:04,  1.68s/it]"
     ]
    },
    {
     "name": "stderr",
     "output_type": "stream",
     "text": [
      "\rmodules retrieved:   6%|▌         | 7/116 [00:10<02:48,  1.54s/it]"
     ]
    },
    {
     "name": "stderr",
     "output_type": "stream",
     "text": [
      "\rmodules retrieved:   7%|▋         | 8/116 [00:11<02:39,  1.48s/it]"
     ]
    },
    {
     "name": "stderr",
     "output_type": "stream",
     "text": [
      "\rmodules retrieved:   8%|▊         | 9/116 [00:12<02:29,  1.39s/it]"
     ]
    },
    {
     "name": "stderr",
     "output_type": "stream",
     "text": [
      "\rmodules retrieved:   9%|▊         | 10/116 [00:13<02:20,  1.32s/it]"
     ]
    },
    {
     "name": "stderr",
     "output_type": "stream",
     "text": [
      "\rmodules retrieved:   9%|▉         | 11/116 [00:14<02:16,  1.30s/it]"
     ]
    },
    {
     "name": "stderr",
     "output_type": "stream",
     "text": [
      "\rmodules retrieved:  10%|█         | 12/116 [00:17<02:29,  1.43s/it]"
     ]
    },
    {
     "name": "stderr",
     "output_type": "stream",
     "text": [
      "\rmodules retrieved:  11%|█         | 13/116 [00:18<02:25,  1.41s/it]"
     ]
    },
    {
     "name": "stderr",
     "output_type": "stream",
     "text": [
      "\rmodules retrieved:  12%|█▏        | 14/116 [00:19<02:19,  1.37s/it]"
     ]
    },
    {
     "name": "stderr",
     "output_type": "stream",
     "text": [
      "\rmodules retrieved:  13%|█▎        | 15/116 [00:20<02:16,  1.35s/it]"
     ]
    },
    {
     "name": "stderr",
     "output_type": "stream",
     "text": [
      "\rmodules retrieved:  14%|█▍        | 16/116 [00:21<02:14,  1.35s/it]"
     ]
    },
    {
     "name": "stderr",
     "output_type": "stream",
     "text": [
      "\rmodules retrieved:  15%|█▍        | 17/116 [00:22<02:13,  1.35s/it]"
     ]
    },
    {
     "name": "stderr",
     "output_type": "stream",
     "text": [
      "\rmodules retrieved:  16%|█▌        | 18/116 [00:24<02:12,  1.36s/it]"
     ]
    },
    {
     "name": "stderr",
     "output_type": "stream",
     "text": [
      "\rmodules retrieved:  16%|█▋        | 19/116 [00:25<02:11,  1.36s/it]"
     ]
    },
    {
     "name": "stderr",
     "output_type": "stream",
     "text": [
      "\rmodules retrieved:  17%|█▋        | 20/116 [00:26<02:09,  1.35s/it]"
     ]
    },
    {
     "name": "stderr",
     "output_type": "stream",
     "text": [
      "\rmodules retrieved:  18%|█▊        | 21/116 [00:27<02:04,  1.31s/it]"
     ]
    },
    {
     "name": "stderr",
     "output_type": "stream",
     "text": [
      "\rmodules retrieved:  19%|█▉        | 22/116 [00:28<02:00,  1.29s/it]"
     ]
    },
    {
     "name": "stderr",
     "output_type": "stream",
     "text": [
      "\rmodules retrieved:  20%|█▉        | 23/116 [00:29<01:57,  1.26s/it]"
     ]
    },
    {
     "name": "stderr",
     "output_type": "stream",
     "text": [
      "\rmodules retrieved:  21%|██        | 24/116 [00:31<02:00,  1.31s/it]"
     ]
    },
    {
     "name": "stderr",
     "output_type": "stream",
     "text": [
      "\rmodules retrieved:  22%|██▏       | 25/116 [00:32<01:57,  1.30s/it]"
     ]
    },
    {
     "name": "stderr",
     "output_type": "stream",
     "text": [
      "\rmodules retrieved:  22%|██▏       | 26/116 [00:33<01:55,  1.29s/it]"
     ]
    },
    {
     "name": "stderr",
     "output_type": "stream",
     "text": [
      "\rmodules retrieved:  23%|██▎       | 27/116 [00:34<01:52,  1.27s/it]"
     ]
    },
    {
     "name": "stderr",
     "output_type": "stream",
     "text": [
      "\rmodules retrieved:  24%|██▍       | 28/116 [00:34<01:49,  1.25s/it]"
     ]
    },
    {
     "name": "stderr",
     "output_type": "stream",
     "text": [
      "\rmodules retrieved:  25%|██▌       | 29/116 [00:36<01:48,  1.25s/it]"
     ]
    },
    {
     "name": "stderr",
     "output_type": "stream",
     "text": [
      "\rmodules retrieved:  26%|██▌       | 30/116 [00:36<01:45,  1.23s/it]"
     ]
    },
    {
     "name": "stderr",
     "output_type": "stream",
     "text": [
      "\rmodules retrieved:  27%|██▋       | 31/116 [00:37<01:43,  1.22s/it]"
     ]
    },
    {
     "name": "stderr",
     "output_type": "stream",
     "text": [
      "\rmodules retrieved:  28%|██▊       | 32/116 [00:38<01:40,  1.20s/it]"
     ]
    },
    {
     "name": "stderr",
     "output_type": "stream",
     "text": [
      "\rmodules retrieved:  28%|██▊       | 33/116 [00:39<01:38,  1.19s/it]"
     ]
    },
    {
     "name": "stderr",
     "output_type": "stream",
     "text": [
      "\rmodules retrieved:  29%|██▉       | 34/116 [00:40<01:36,  1.18s/it]"
     ]
    },
    {
     "name": "stderr",
     "output_type": "stream",
     "text": [
      "\rmodules retrieved:  30%|███       | 35/116 [00:40<01:34,  1.17s/it]"
     ]
    },
    {
     "name": "stderr",
     "output_type": "stream",
     "text": [
      "\rmodules retrieved:  31%|███       | 36/116 [00:41<01:32,  1.15s/it]"
     ]
    },
    {
     "name": "stderr",
     "output_type": "stream",
     "text": [
      "\rmodules retrieved:  32%|███▏      | 37/116 [00:42<01:31,  1.15s/it]"
     ]
    },
    {
     "name": "stderr",
     "output_type": "stream",
     "text": [
      "\rmodules retrieved:  33%|███▎      | 38/116 [00:43<01:29,  1.15s/it]"
     ]
    },
    {
     "name": "stderr",
     "output_type": "stream",
     "text": [
      "\rmodules retrieved:  34%|███▎      | 39/116 [00:44<01:28,  1.15s/it]"
     ]
    },
    {
     "name": "stderr",
     "output_type": "stream",
     "text": [
      "\rmodules retrieved:  34%|███▍      | 40/116 [00:45<01:26,  1.14s/it]"
     ]
    },
    {
     "name": "stderr",
     "output_type": "stream",
     "text": [
      "\rmodules retrieved:  35%|███▌      | 41/116 [00:46<01:25,  1.14s/it]"
     ]
    },
    {
     "name": "stderr",
     "output_type": "stream",
     "text": [
      "\rmodules retrieved:  36%|███▌      | 42/116 [00:47<01:23,  1.13s/it]"
     ]
    },
    {
     "name": "stderr",
     "output_type": "stream",
     "text": [
      "\rmodules retrieved:  37%|███▋      | 43/116 [00:48<01:22,  1.12s/it]"
     ]
    },
    {
     "name": "stderr",
     "output_type": "stream",
     "text": [
      "\rmodules retrieved:  38%|███▊      | 44/116 [00:49<01:20,  1.12s/it]"
     ]
    },
    {
     "name": "stderr",
     "output_type": "stream",
     "text": [
      "\rmodules retrieved:  39%|███▉      | 45/116 [00:50<01:19,  1.12s/it]"
     ]
    },
    {
     "name": "stderr",
     "output_type": "stream",
     "text": [
      "\rmodules retrieved:  40%|███▉      | 46/116 [00:51<01:17,  1.11s/it]"
     ]
    },
    {
     "name": "stderr",
     "output_type": "stream",
     "text": [
      "\rmodules retrieved:  41%|████      | 47/116 [00:52<01:16,  1.11s/it]"
     ]
    },
    {
     "name": "stderr",
     "output_type": "stream",
     "text": [
      "\rmodules retrieved:  41%|████▏     | 48/116 [00:53<01:15,  1.11s/it]"
     ]
    },
    {
     "name": "stderr",
     "output_type": "stream",
     "text": [
      "\rmodules retrieved:  42%|████▏     | 49/116 [00:53<01:13,  1.10s/it]"
     ]
    },
    {
     "name": "stderr",
     "output_type": "stream",
     "text": [
      "\rmodules retrieved:  43%|████▎     | 50/116 [00:54<01:12,  1.10s/it]"
     ]
    },
    {
     "name": "stderr",
     "output_type": "stream",
     "text": [
      "\rmodules retrieved:  44%|████▍     | 51/116 [00:55<01:10,  1.09s/it]"
     ]
    },
    {
     "name": "stderr",
     "output_type": "stream",
     "text": [
      "\rmodules retrieved:  45%|████▍     | 52/116 [00:56<01:09,  1.08s/it]"
     ]
    },
    {
     "name": "stderr",
     "output_type": "stream",
     "text": [
      "\rmodules retrieved:  46%|████▌     | 53/116 [00:57<01:07,  1.08s/it]"
     ]
    },
    {
     "name": "stderr",
     "output_type": "stream",
     "text": [
      "\rmodules retrieved:  47%|████▋     | 54/116 [00:58<01:06,  1.08s/it]"
     ]
    },
    {
     "name": "stderr",
     "output_type": "stream",
     "text": [
      "\rmodules retrieved:  47%|████▋     | 55/116 [00:58<01:05,  1.07s/it]"
     ]
    },
    {
     "name": "stderr",
     "output_type": "stream",
     "text": [
      "\rmodules retrieved:  48%|████▊     | 56/116 [00:59<01:03,  1.06s/it]"
     ]
    },
    {
     "name": "stderr",
     "output_type": "stream",
     "text": [
      "\rmodules retrieved:  49%|████▉     | 57/116 [01:00<01:02,  1.06s/it]"
     ]
    },
    {
     "name": "stderr",
     "output_type": "stream",
     "text": [
      "\rmodules retrieved:  50%|█████     | 58/116 [01:00<01:00,  1.05s/it]"
     ]
    },
    {
     "name": "stderr",
     "output_type": "stream",
     "text": [
      "\rmodules retrieved:  51%|█████     | 59/116 [01:02<00:59,  1.05s/it]"
     ]
    },
    {
     "name": "stderr",
     "output_type": "stream",
     "text": [
      "\rmodules retrieved:  52%|█████▏    | 60/116 [01:03<00:58,  1.05s/it]"
     ]
    },
    {
     "name": "stderr",
     "output_type": "stream",
     "text": [
      "\rmodules retrieved:  53%|█████▎    | 61/116 [01:03<00:57,  1.04s/it]"
     ]
    },
    {
     "name": "stderr",
     "output_type": "stream",
     "text": [
      "\rmodules retrieved:  53%|█████▎    | 62/116 [01:04<00:56,  1.05s/it]"
     ]
    },
    {
     "name": "stderr",
     "output_type": "stream",
     "text": [
      "\rmodules retrieved:  54%|█████▍    | 63/116 [01:05<00:55,  1.05s/it]"
     ]
    },
    {
     "name": "stderr",
     "output_type": "stream",
     "text": [
      "\rmodules retrieved:  55%|█████▌    | 64/116 [01:06<00:54,  1.04s/it]"
     ]
    },
    {
     "name": "stderr",
     "output_type": "stream",
     "text": [
      "\rmodules retrieved:  56%|█████▌    | 65/116 [01:07<00:53,  1.04s/it]"
     ]
    },
    {
     "name": "stderr",
     "output_type": "stream",
     "text": [
      "\rmodules retrieved:  57%|█████▋    | 66/116 [01:08<00:51,  1.04s/it]"
     ]
    },
    {
     "name": "stderr",
     "output_type": "stream",
     "text": [
      "\rmodules retrieved:  58%|█████▊    | 67/116 [01:09<00:50,  1.04s/it]"
     ]
    },
    {
     "name": "stderr",
     "output_type": "stream",
     "text": [
      "\rmodules retrieved:  59%|█████▊    | 68/116 [01:10<00:49,  1.03s/it]"
     ]
    },
    {
     "name": "stderr",
     "output_type": "stream",
     "text": [
      "\rmodules retrieved:  59%|█████▉    | 69/116 [01:11<00:48,  1.03s/it]"
     ]
    },
    {
     "name": "stderr",
     "output_type": "stream",
     "text": [
      "\rmodules retrieved:  60%|██████    | 70/116 [01:12<00:47,  1.03s/it]"
     ]
    },
    {
     "name": "stderr",
     "output_type": "stream",
     "text": [
      "\rmodules retrieved:  61%|██████    | 71/116 [01:13<00:46,  1.04s/it]"
     ]
    },
    {
     "name": "stderr",
     "output_type": "stream",
     "text": [
      "\rmodules retrieved:  62%|██████▏   | 72/116 [01:14<00:45,  1.04s/it]"
     ]
    },
    {
     "name": "stderr",
     "output_type": "stream",
     "text": [
      "\rmodules retrieved:  63%|██████▎   | 73/116 [01:15<00:44,  1.04s/it]"
     ]
    },
    {
     "name": "stderr",
     "output_type": "stream",
     "text": [
      "\rmodules retrieved:  64%|██████▍   | 74/116 [01:17<00:44,  1.05s/it]"
     ]
    },
    {
     "name": "stderr",
     "output_type": "stream",
     "text": [
      "\rmodules retrieved:  65%|██████▍   | 75/116 [01:18<00:43,  1.05s/it]"
     ]
    },
    {
     "name": "stderr",
     "output_type": "stream",
     "text": [
      "\rmodules retrieved:  66%|██████▌   | 76/116 [01:19<00:41,  1.04s/it]"
     ]
    },
    {
     "name": "stderr",
     "output_type": "stream",
     "text": [
      "\rmodules retrieved:  66%|██████▋   | 77/116 [01:20<00:40,  1.04s/it]"
     ]
    },
    {
     "name": "stderr",
     "output_type": "stream",
     "text": [
      "\rmodules retrieved:  67%|██████▋   | 78/116 [01:20<00:39,  1.04s/it]"
     ]
    },
    {
     "name": "stderr",
     "output_type": "stream",
     "text": [
      "\rmodules retrieved:  68%|██████▊   | 79/116 [01:21<00:38,  1.03s/it]"
     ]
    },
    {
     "name": "stderr",
     "output_type": "stream",
     "text": [
      "\rmodules retrieved:  69%|██████▉   | 80/116 [01:22<00:37,  1.03s/it]"
     ]
    },
    {
     "name": "stderr",
     "output_type": "stream",
     "text": [
      "\rmodules retrieved:  70%|██████▉   | 81/116 [01:22<00:35,  1.02s/it]"
     ]
    },
    {
     "name": "stderr",
     "output_type": "stream",
     "text": [
      "\rmodules retrieved:  71%|███████   | 82/116 [01:23<00:34,  1.02s/it]"
     ]
    },
    {
     "name": "stderr",
     "output_type": "stream",
     "text": [
      "\rmodules retrieved:  72%|███████▏  | 83/116 [01:24<00:33,  1.02s/it]"
     ]
    },
    {
     "name": "stderr",
     "output_type": "stream",
     "text": [
      "\rmodules retrieved:  72%|███████▏  | 84/116 [01:25<00:32,  1.02s/it]"
     ]
    },
    {
     "name": "stderr",
     "output_type": "stream",
     "text": [
      "\rmodules retrieved:  73%|███████▎  | 85/116 [01:27<00:31,  1.03s/it]"
     ]
    },
    {
     "name": "stderr",
     "output_type": "stream",
     "text": [
      "\rmodules retrieved:  74%|███████▍  | 86/116 [01:28<00:30,  1.03s/it]"
     ]
    },
    {
     "name": "stderr",
     "output_type": "stream",
     "text": [
      "\rmodules retrieved:  75%|███████▌  | 87/116 [01:29<00:29,  1.03s/it]"
     ]
    },
    {
     "name": "stderr",
     "output_type": "stream",
     "text": [
      "\rmodules retrieved:  76%|███████▌  | 88/116 [01:30<00:28,  1.03s/it]"
     ]
    },
    {
     "name": "stderr",
     "output_type": "stream",
     "text": [
      "\rmodules retrieved:  77%|███████▋  | 89/116 [01:31<00:27,  1.03s/it]"
     ]
    },
    {
     "name": "stderr",
     "output_type": "stream",
     "text": [
      "\rmodules retrieved:  78%|███████▊  | 90/116 [01:32<00:26,  1.03s/it]"
     ]
    },
    {
     "name": "stderr",
     "output_type": "stream",
     "text": [
      "\rmodules retrieved:  78%|███████▊  | 91/116 [01:33<00:25,  1.02s/it]"
     ]
    },
    {
     "name": "stderr",
     "output_type": "stream",
     "text": [
      "\rmodules retrieved:  79%|███████▉  | 92/116 [01:34<00:24,  1.02s/it]"
     ]
    },
    {
     "name": "stderr",
     "output_type": "stream",
     "text": [
      "\rmodules retrieved:  80%|████████  | 93/116 [01:35<00:23,  1.03s/it]"
     ]
    },
    {
     "name": "stderr",
     "output_type": "stream",
     "text": [
      "\rmodules retrieved:  81%|████████  | 94/116 [01:36<00:22,  1.03s/it]"
     ]
    },
    {
     "name": "stderr",
     "output_type": "stream",
     "text": [
      "\rmodules retrieved:  82%|████████▏ | 95/116 [01:38<00:21,  1.04s/it]"
     ]
    },
    {
     "name": "stderr",
     "output_type": "stream",
     "text": [
      "\rmodules retrieved:  83%|████████▎ | 96/116 [01:39<00:20,  1.03s/it]"
     ]
    },
    {
     "name": "stderr",
     "output_type": "stream",
     "text": [
      "\rmodules retrieved:  84%|████████▎ | 97/116 [01:39<00:19,  1.03s/it]"
     ]
    },
    {
     "name": "stderr",
     "output_type": "stream",
     "text": [
      "\rmodules retrieved:  84%|████████▍ | 98/116 [01:40<00:18,  1.03s/it]"
     ]
    },
    {
     "name": "stderr",
     "output_type": "stream",
     "text": [
      "\rmodules retrieved:  85%|████████▌ | 99/116 [01:41<00:17,  1.02s/it]"
     ]
    },
    {
     "name": "stderr",
     "output_type": "stream",
     "text": [
      "\rmodules retrieved:  86%|████████▌ | 100/116 [01:42<00:16,  1.02s/it]"
     ]
    },
    {
     "name": "stderr",
     "output_type": "stream",
     "text": [
      "\rmodules retrieved:  87%|████████▋ | 101/116 [01:43<00:15,  1.02s/it]"
     ]
    },
    {
     "name": "stderr",
     "output_type": "stream",
     "text": [
      "\rmodules retrieved:  88%|████████▊ | 102/116 [01:44<00:14,  1.03s/it]"
     ]
    },
    {
     "name": "stderr",
     "output_type": "stream",
     "text": [
      "\rmodules retrieved:  89%|████████▉ | 103/116 [01:46<00:13,  1.03s/it]"
     ]
    },
    {
     "name": "stderr",
     "output_type": "stream",
     "text": [
      "\rmodules retrieved:  90%|████████▉ | 104/116 [01:47<00:12,  1.03s/it]"
     ]
    },
    {
     "name": "stderr",
     "output_type": "stream",
     "text": [
      "\rmodules retrieved:  91%|█████████ | 105/116 [01:47<00:11,  1.03s/it]"
     ]
    },
    {
     "name": "stderr",
     "output_type": "stream",
     "text": [
      "\rmodules retrieved:  91%|█████████▏| 106/116 [01:49<00:10,  1.03s/it]"
     ]
    },
    {
     "name": "stderr",
     "output_type": "stream",
     "text": [
      "\rmodules retrieved:  92%|█████████▏| 107/116 [01:50<00:09,  1.03s/it]"
     ]
    },
    {
     "name": "stderr",
     "output_type": "stream",
     "text": [
      "\rmodules retrieved:  93%|█████████▎| 108/116 [01:50<00:08,  1.03s/it]"
     ]
    },
    {
     "name": "stderr",
     "output_type": "stream",
     "text": [
      "\rmodules retrieved:  94%|█████████▍| 109/116 [01:51<00:07,  1.03s/it]"
     ]
    },
    {
     "name": "stderr",
     "output_type": "stream",
     "text": [
      "\rmodules retrieved:  95%|█████████▍| 110/116 [01:52<00:06,  1.03s/it]"
     ]
    },
    {
     "name": "stderr",
     "output_type": "stream",
     "text": [
      "\rmodules retrieved:  96%|█████████▌| 111/116 [01:53<00:05,  1.03s/it]"
     ]
    },
    {
     "name": "stderr",
     "output_type": "stream",
     "text": [
      "\rmodules retrieved:  97%|█████████▋| 112/116 [01:54<00:04,  1.02s/it]"
     ]
    },
    {
     "name": "stderr",
     "output_type": "stream",
     "text": [
      "\rmodules retrieved:  97%|█████████▋| 113/116 [01:55<00:03,  1.02s/it]"
     ]
    },
    {
     "name": "stderr",
     "output_type": "stream",
     "text": [
      "\rmodules retrieved:  98%|█████████▊| 114/116 [01:56<00:02,  1.02s/it]"
     ]
    },
    {
     "name": "stderr",
     "output_type": "stream",
     "text": [
      "\rmodules retrieved:  99%|█████████▉| 115/116 [01:57<00:01,  1.02s/it]"
     ]
    },
    {
     "name": "stderr",
     "output_type": "stream",
     "text": [
      "\rmodules retrieved: 100%|██████████| 116/116 [01:58<00:00,  1.02s/it]"
     ]
    },
    {
     "name": "stdout",
     "output_type": "stream",
     "text": [
      "CPU times: user 7.33 s, sys: 308 ms, total: 7.64 s\nWall time: 2min\n"
     ]
    },
    {
     "name": "stderr",
     "output_type": "stream",
     "text": [
      "\n"
     ]
    }
   ],
   "source": [
    "%%time \n",
    "kegg_pathways_dict = {(\"-\".join(key.split('-')[:-1])):value for key, value in \n",
    "                     ontologies.query_KEGG(database=\"pathway\", organism=\"sce\").items()}\n",
    "\n",
    "with open(\"./results/kegg_pathways/modules_dict.pkl\", \"wb+\") as pickle_file:\n",
    "    pickle.dump(kegg_pathways_dict, pickle_file)\n",
    "# with open(\"./results/kegg_pathways/modules_dict.pkl\", \"rb+\") as pickle_file:\n",
    "#     kegg_pathways_dict = pickle.load(pickle_file)"
   ]
  },
  {
   "cell_type": "markdown",
   "metadata": {},
   "source": [
    "## KEGG modules"
   ]
  },
  {
   "cell_type": "code",
   "execution_count": 7,
   "metadata": {
    "collapsed": true
   },
   "outputs": [
    {
     "name": "stderr",
     "output_type": "stream",
     "text": [
      "\rmodules retrieved:   0%|          | 0/108 [00:00<?, ?it/s]"
     ]
    },
    {
     "name": "stderr",
     "output_type": "stream",
     "text": [
      "\rmodules retrieved:   1%|          | 1/108 [00:00<01:18,  1.36it/s]"
     ]
    },
    {
     "name": "stderr",
     "output_type": "stream",
     "text": [
      "\rmodules retrieved:   2%|▏         | 2/108 [00:02<02:22,  1.35s/it]"
     ]
    },
    {
     "name": "stderr",
     "output_type": "stream",
     "text": [
      "\rmodules retrieved:   3%|▎         | 3/108 [00:03<01:59,  1.14s/it]"
     ]
    },
    {
     "name": "stderr",
     "output_type": "stream",
     "text": [
      "\rmodules retrieved:   4%|▎         | 4/108 [00:04<01:48,  1.05s/it]"
     ]
    },
    {
     "name": "stderr",
     "output_type": "stream",
     "text": [
      "\rmodules retrieved:   5%|▍         | 5/108 [00:04<01:40,  1.02it/s]"
     ]
    },
    {
     "name": "stderr",
     "output_type": "stream",
     "text": [
      "\rmodules retrieved:   6%|▌         | 6/108 [00:05<01:34,  1.08it/s]"
     ]
    },
    {
     "name": "stderr",
     "output_type": "stream",
     "text": [
      "\rmodules retrieved:   6%|▋         | 7/108 [00:06<01:29,  1.12it/s]"
     ]
    },
    {
     "name": "stderr",
     "output_type": "stream",
     "text": [
      "\rmodules retrieved:   7%|▋         | 8/108 [00:06<01:26,  1.16it/s]"
     ]
    },
    {
     "name": "stderr",
     "output_type": "stream",
     "text": [
      "\rmodules retrieved:   8%|▊         | 9/108 [00:07<01:23,  1.19it/s]"
     ]
    },
    {
     "name": "stderr",
     "output_type": "stream",
     "text": [
      "\rmodules retrieved:   9%|▉         | 10/108 [00:08<01:21,  1.20it/s]"
     ]
    },
    {
     "name": "stderr",
     "output_type": "stream",
     "text": [
      "\rmodules retrieved:  10%|█         | 11/108 [00:09<01:19,  1.22it/s]"
     ]
    },
    {
     "name": "stderr",
     "output_type": "stream",
     "text": [
      "\rmodules retrieved:  11%|█         | 12/108 [00:09<01:17,  1.24it/s]"
     ]
    },
    {
     "name": "stderr",
     "output_type": "stream",
     "text": [
      "\rmodules retrieved:  12%|█▏        | 13/108 [00:10<01:15,  1.26it/s]"
     ]
    },
    {
     "name": "stderr",
     "output_type": "stream",
     "text": [
      "\rmodules retrieved:  13%|█▎        | 14/108 [00:10<01:13,  1.28it/s]"
     ]
    },
    {
     "name": "stderr",
     "output_type": "stream",
     "text": [
      "\rmodules retrieved:  14%|█▍        | 15/108 [00:11<01:13,  1.27it/s]"
     ]
    },
    {
     "name": "stderr",
     "output_type": "stream",
     "text": [
      "\rmodules retrieved:  15%|█▍        | 16/108 [00:12<01:11,  1.28it/s]"
     ]
    },
    {
     "name": "stderr",
     "output_type": "stream",
     "text": [
      "\rmodules retrieved:  16%|█▌        | 17/108 [00:13<01:11,  1.26it/s]"
     ]
    },
    {
     "name": "stderr",
     "output_type": "stream",
     "text": [
      "\rmodules retrieved:  17%|█▋        | 18/108 [00:14<01:10,  1.28it/s]"
     ]
    },
    {
     "name": "stderr",
     "output_type": "stream",
     "text": [
      "\rmodules retrieved:  18%|█▊        | 19/108 [00:14<01:09,  1.28it/s]"
     ]
    },
    {
     "name": "stderr",
     "output_type": "stream",
     "text": [
      "\rmodules retrieved:  19%|█▊        | 20/108 [00:15<01:07,  1.29it/s]"
     ]
    },
    {
     "name": "stderr",
     "output_type": "stream",
     "text": [
      "\rmodules retrieved:  19%|█▉        | 21/108 [00:16<01:06,  1.30it/s]"
     ]
    },
    {
     "name": "stderr",
     "output_type": "stream",
     "text": [
      "\rmodules retrieved:  20%|██        | 22/108 [00:16<01:05,  1.31it/s]"
     ]
    },
    {
     "name": "stderr",
     "output_type": "stream",
     "text": [
      "\rmodules retrieved:  21%|██▏       | 23/108 [00:17<01:04,  1.32it/s]"
     ]
    },
    {
     "name": "stderr",
     "output_type": "stream",
     "text": [
      "\rmodules retrieved:  22%|██▏       | 24/108 [00:18<01:03,  1.32it/s]"
     ]
    },
    {
     "name": "stderr",
     "output_type": "stream",
     "text": [
      "\rmodules retrieved:  23%|██▎       | 25/108 [00:18<01:02,  1.33it/s]"
     ]
    },
    {
     "name": "stderr",
     "output_type": "stream",
     "text": [
      "\rmodules retrieved:  24%|██▍       | 26/108 [00:19<01:01,  1.33it/s]"
     ]
    },
    {
     "name": "stderr",
     "output_type": "stream",
     "text": [
      "\rmodules retrieved:  25%|██▌       | 27/108 [00:20<01:00,  1.34it/s]"
     ]
    },
    {
     "name": "stderr",
     "output_type": "stream",
     "text": [
      "\rmodules retrieved:  26%|██▌       | 28/108 [00:20<00:59,  1.34it/s]"
     ]
    },
    {
     "name": "stderr",
     "output_type": "stream",
     "text": [
      "\rmodules retrieved:  27%|██▋       | 29/108 [00:21<00:59,  1.32it/s]"
     ]
    },
    {
     "name": "stderr",
     "output_type": "stream",
     "text": [
      "\rmodules retrieved:  28%|██▊       | 30/108 [00:22<00:59,  1.31it/s]"
     ]
    },
    {
     "name": "stderr",
     "output_type": "stream",
     "text": [
      "\rmodules retrieved:  29%|██▊       | 31/108 [00:24<00:59,  1.29it/s]"
     ]
    },
    {
     "name": "stderr",
     "output_type": "stream",
     "text": [
      "\rmodules retrieved:  30%|██▉       | 32/108 [00:27<01:05,  1.15it/s]"
     ]
    },
    {
     "name": "stderr",
     "output_type": "stream",
     "text": [
      "\rmodules retrieved:  31%|███       | 33/108 [00:28<01:04,  1.16it/s]"
     ]
    },
    {
     "name": "stderr",
     "output_type": "stream",
     "text": [
      "\rmodules retrieved:  31%|███▏      | 34/108 [00:29<01:03,  1.17it/s]"
     ]
    },
    {
     "name": "stderr",
     "output_type": "stream",
     "text": [
      "\rmodules retrieved:  32%|███▏      | 35/108 [00:29<01:02,  1.17it/s]"
     ]
    },
    {
     "name": "stderr",
     "output_type": "stream",
     "text": [
      "\rmodules retrieved:  33%|███▎      | 36/108 [00:30<01:00,  1.18it/s]"
     ]
    },
    {
     "name": "stderr",
     "output_type": "stream",
     "text": [
      "\rmodules retrieved:  34%|███▍      | 37/108 [00:31<00:59,  1.19it/s]"
     ]
    },
    {
     "name": "stderr",
     "output_type": "stream",
     "text": [
      "\rmodules retrieved:  35%|███▌      | 38/108 [00:31<00:58,  1.19it/s]"
     ]
    },
    {
     "name": "stderr",
     "output_type": "stream",
     "text": [
      "\rmodules retrieved:  36%|███▌      | 39/108 [00:32<00:57,  1.20it/s]"
     ]
    },
    {
     "name": "stderr",
     "output_type": "stream",
     "text": [
      "\rmodules retrieved:  37%|███▋      | 40/108 [00:33<00:56,  1.20it/s]"
     ]
    },
    {
     "name": "stderr",
     "output_type": "stream",
     "text": [
      "\rmodules retrieved:  38%|███▊      | 41/108 [00:33<00:55,  1.21it/s]"
     ]
    },
    {
     "name": "stderr",
     "output_type": "stream",
     "text": [
      "\rmodules retrieved:  39%|███▉      | 42/108 [00:34<00:54,  1.21it/s]"
     ]
    },
    {
     "name": "stderr",
     "output_type": "stream",
     "text": [
      "\rmodules retrieved:  40%|███▉      | 43/108 [00:35<00:53,  1.22it/s]"
     ]
    },
    {
     "name": "stderr",
     "output_type": "stream",
     "text": [
      "\rmodules retrieved:  41%|████      | 44/108 [00:36<00:52,  1.22it/s]"
     ]
    },
    {
     "name": "stderr",
     "output_type": "stream",
     "text": [
      "\rmodules retrieved:  42%|████▏     | 45/108 [00:36<00:51,  1.22it/s]"
     ]
    },
    {
     "name": "stderr",
     "output_type": "stream",
     "text": [
      "\rmodules retrieved:  43%|████▎     | 46/108 [00:37<00:50,  1.22it/s]"
     ]
    },
    {
     "name": "stderr",
     "output_type": "stream",
     "text": [
      "\rmodules retrieved:  44%|████▎     | 47/108 [00:38<00:49,  1.23it/s]"
     ]
    },
    {
     "name": "stderr",
     "output_type": "stream",
     "text": [
      "\rmodules retrieved:  44%|████▍     | 48/108 [00:39<00:48,  1.23it/s]"
     ]
    },
    {
     "name": "stderr",
     "output_type": "stream",
     "text": [
      "\rmodules retrieved:  45%|████▌     | 49/108 [00:39<00:47,  1.23it/s]"
     ]
    },
    {
     "name": "stderr",
     "output_type": "stream",
     "text": [
      "\rmodules retrieved:  46%|████▋     | 50/108 [00:40<00:46,  1.24it/s]"
     ]
    },
    {
     "name": "stderr",
     "output_type": "stream",
     "text": [
      "\rmodules retrieved:  47%|████▋     | 51/108 [00:41<00:46,  1.24it/s]"
     ]
    },
    {
     "name": "stderr",
     "output_type": "stream",
     "text": [
      "\rmodules retrieved:  48%|████▊     | 52/108 [00:41<00:45,  1.24it/s]"
     ]
    },
    {
     "name": "stderr",
     "output_type": "stream",
     "text": [
      "\rmodules retrieved:  49%|████▉     | 53/108 [00:42<00:44,  1.24it/s]"
     ]
    },
    {
     "name": "stderr",
     "output_type": "stream",
     "text": [
      "\rmodules retrieved:  50%|█████     | 54/108 [00:43<00:43,  1.25it/s]"
     ]
    },
    {
     "name": "stderr",
     "output_type": "stream",
     "text": [
      "\rmodules retrieved:  51%|█████     | 55/108 [00:44<00:43,  1.23it/s]"
     ]
    },
    {
     "name": "stderr",
     "output_type": "stream",
     "text": [
      "\rmodules retrieved:  52%|█████▏    | 56/108 [00:46<00:43,  1.19it/s]"
     ]
    },
    {
     "name": "stderr",
     "output_type": "stream",
     "text": [
      "\rmodules retrieved:  53%|█████▎    | 57/108 [00:47<00:42,  1.19it/s]"
     ]
    },
    {
     "name": "stderr",
     "output_type": "stream",
     "text": [
      "\rmodules retrieved:  54%|█████▎    | 58/108 [00:48<00:41,  1.20it/s]"
     ]
    },
    {
     "name": "stderr",
     "output_type": "stream",
     "text": [
      "\rmodules retrieved:  55%|█████▍    | 59/108 [00:49<00:40,  1.20it/s]"
     ]
    },
    {
     "name": "stderr",
     "output_type": "stream",
     "text": [
      "\rmodules retrieved:  56%|█████▌    | 60/108 [00:49<00:39,  1.20it/s]"
     ]
    },
    {
     "name": "stderr",
     "output_type": "stream",
     "text": [
      "\rmodules retrieved:  56%|█████▋    | 61/108 [00:50<00:38,  1.21it/s]"
     ]
    },
    {
     "name": "stderr",
     "output_type": "stream",
     "text": [
      "\rmodules retrieved:  57%|█████▋    | 62/108 [00:51<00:38,  1.21it/s]"
     ]
    },
    {
     "name": "stderr",
     "output_type": "stream",
     "text": [
      "\rmodules retrieved:  58%|█████▊    | 63/108 [00:51<00:37,  1.21it/s]"
     ]
    },
    {
     "name": "stderr",
     "output_type": "stream",
     "text": [
      "\rmodules retrieved:  59%|█████▉    | 64/108 [00:52<00:36,  1.21it/s]"
     ]
    },
    {
     "name": "stderr",
     "output_type": "stream",
     "text": [
      "\rmodules retrieved:  60%|██████    | 65/108 [00:53<00:35,  1.22it/s]"
     ]
    },
    {
     "name": "stderr",
     "output_type": "stream",
     "text": [
      "\rmodules retrieved:  61%|██████    | 66/108 [00:54<00:34,  1.22it/s]"
     ]
    },
    {
     "name": "stderr",
     "output_type": "stream",
     "text": [
      "\rmodules retrieved:  62%|██████▏   | 67/108 [00:54<00:33,  1.22it/s]"
     ]
    },
    {
     "name": "stderr",
     "output_type": "stream",
     "text": [
      "\rmodules retrieved:  63%|██████▎   | 68/108 [00:55<00:32,  1.23it/s]"
     ]
    },
    {
     "name": "stderr",
     "output_type": "stream",
     "text": [
      "\rmodules retrieved:  64%|██████▍   | 69/108 [00:56<00:31,  1.23it/s]"
     ]
    },
    {
     "name": "stderr",
     "output_type": "stream",
     "text": [
      "\rmodules retrieved:  65%|██████▍   | 70/108 [00:56<00:30,  1.23it/s]"
     ]
    },
    {
     "name": "stderr",
     "output_type": "stream",
     "text": [
      "\rmodules retrieved:  66%|██████▌   | 71/108 [00:57<00:30,  1.23it/s]"
     ]
    },
    {
     "name": "stderr",
     "output_type": "stream",
     "text": [
      "\rmodules retrieved:  67%|██████▋   | 72/108 [00:58<00:29,  1.23it/s]"
     ]
    },
    {
     "name": "stderr",
     "output_type": "stream",
     "text": [
      "\rmodules retrieved:  68%|██████▊   | 73/108 [00:59<00:28,  1.23it/s]"
     ]
    },
    {
     "name": "stderr",
     "output_type": "stream",
     "text": [
      "\rmodules retrieved:  69%|██████▊   | 74/108 [01:00<00:27,  1.23it/s]"
     ]
    },
    {
     "name": "stderr",
     "output_type": "stream",
     "text": [
      "\rmodules retrieved:  69%|██████▉   | 75/108 [01:00<00:26,  1.23it/s]"
     ]
    },
    {
     "name": "stderr",
     "output_type": "stream",
     "text": [
      "\rmodules retrieved:  70%|███████   | 76/108 [01:01<00:25,  1.24it/s]"
     ]
    },
    {
     "name": "stderr",
     "output_type": "stream",
     "text": [
      "\rmodules retrieved:  71%|███████▏  | 77/108 [01:02<00:25,  1.24it/s]"
     ]
    },
    {
     "name": "stderr",
     "output_type": "stream",
     "text": [
      "\rmodules retrieved:  72%|███████▏  | 78/108 [01:02<00:24,  1.24it/s]"
     ]
    },
    {
     "name": "stderr",
     "output_type": "stream",
     "text": [
      "\rmodules retrieved:  73%|███████▎  | 79/108 [01:03<00:23,  1.24it/s]"
     ]
    },
    {
     "name": "stderr",
     "output_type": "stream",
     "text": [
      "\rmodules retrieved:  74%|███████▍  | 80/108 [01:04<00:22,  1.24it/s]"
     ]
    },
    {
     "name": "stderr",
     "output_type": "stream",
     "text": [
      "\rmodules retrieved:  75%|███████▌  | 81/108 [01:05<00:21,  1.24it/s]"
     ]
    },
    {
     "name": "stderr",
     "output_type": "stream",
     "text": [
      "\rmodules retrieved:  76%|███████▌  | 82/108 [01:05<00:20,  1.25it/s]"
     ]
    },
    {
     "name": "stderr",
     "output_type": "stream",
     "text": [
      "\rmodules retrieved:  77%|███████▋  | 83/108 [01:06<00:20,  1.25it/s]"
     ]
    },
    {
     "name": "stderr",
     "output_type": "stream",
     "text": [
      "\rmodules retrieved:  78%|███████▊  | 84/108 [01:07<00:19,  1.25it/s]"
     ]
    },
    {
     "name": "stderr",
     "output_type": "stream",
     "text": [
      "\rmodules retrieved:  79%|███████▊  | 85/108 [01:07<00:18,  1.25it/s]"
     ]
    },
    {
     "name": "stderr",
     "output_type": "stream",
     "text": [
      "\rmodules retrieved:  80%|███████▉  | 86/108 [01:08<00:17,  1.26it/s]"
     ]
    },
    {
     "name": "stderr",
     "output_type": "stream",
     "text": [
      "\rmodules retrieved:  81%|████████  | 87/108 [01:09<00:16,  1.26it/s]"
     ]
    },
    {
     "name": "stderr",
     "output_type": "stream",
     "text": [
      "\rmodules retrieved:  81%|████████▏ | 88/108 [01:09<00:15,  1.26it/s]"
     ]
    },
    {
     "name": "stderr",
     "output_type": "stream",
     "text": [
      "\rmodules retrieved:  82%|████████▏ | 89/108 [01:10<00:15,  1.26it/s]"
     ]
    },
    {
     "name": "stderr",
     "output_type": "stream",
     "text": [
      "\rmodules retrieved:  83%|████████▎ | 90/108 [01:11<00:14,  1.26it/s]"
     ]
    },
    {
     "name": "stderr",
     "output_type": "stream",
     "text": [
      "\rmodules retrieved:  84%|████████▍ | 91/108 [01:11<00:13,  1.26it/s]"
     ]
    },
    {
     "name": "stderr",
     "output_type": "stream",
     "text": [
      "\rmodules retrieved:  85%|████████▌ | 92/108 [01:12<00:12,  1.27it/s]"
     ]
    },
    {
     "name": "stderr",
     "output_type": "stream",
     "text": [
      "\rmodules retrieved:  86%|████████▌ | 93/108 [01:13<00:11,  1.27it/s]"
     ]
    },
    {
     "name": "stderr",
     "output_type": "stream",
     "text": [
      "\rmodules retrieved:  87%|████████▋ | 94/108 [01:14<00:11,  1.27it/s]"
     ]
    },
    {
     "name": "stderr",
     "output_type": "stream",
     "text": [
      "\rmodules retrieved:  88%|████████▊ | 95/108 [01:14<00:10,  1.27it/s]"
     ]
    },
    {
     "name": "stderr",
     "output_type": "stream",
     "text": [
      "\rmodules retrieved:  89%|████████▉ | 96/108 [01:15<00:09,  1.27it/s]"
     ]
    },
    {
     "name": "stderr",
     "output_type": "stream",
     "text": [
      "\rmodules retrieved:  90%|████████▉ | 97/108 [01:16<00:08,  1.28it/s]"
     ]
    },
    {
     "name": "stderr",
     "output_type": "stream",
     "text": [
      "\rmodules retrieved:  91%|█████████ | 98/108 [01:16<00:07,  1.28it/s]"
     ]
    },
    {
     "name": "stderr",
     "output_type": "stream",
     "text": [
      "\rmodules retrieved:  92%|█████████▏| 99/108 [01:17<00:07,  1.28it/s]"
     ]
    },
    {
     "name": "stderr",
     "output_type": "stream",
     "text": [
      "\rmodules retrieved:  93%|█████████▎| 100/108 [01:18<00:06,  1.28it/s]"
     ]
    },
    {
     "name": "stderr",
     "output_type": "stream",
     "text": [
      "\rmodules retrieved:  94%|█████████▎| 101/108 [01:18<00:05,  1.28it/s]"
     ]
    },
    {
     "name": "stderr",
     "output_type": "stream",
     "text": [
      "\rmodules retrieved:  94%|█████████▍| 102/108 [01:19<00:04,  1.28it/s]"
     ]
    },
    {
     "name": "stderr",
     "output_type": "stream",
     "text": [
      "\rmodules retrieved:  95%|█████████▌| 103/108 [01:20<00:03,  1.28it/s]"
     ]
    },
    {
     "name": "stderr",
     "output_type": "stream",
     "text": [
      "\rmodules retrieved:  96%|█████████▋| 104/108 [01:21<00:03,  1.28it/s]"
     ]
    },
    {
     "name": "stderr",
     "output_type": "stream",
     "text": [
      "\rmodules retrieved:  97%|█████████▋| 105/108 [01:21<00:02,  1.28it/s]"
     ]
    },
    {
     "name": "stderr",
     "output_type": "stream",
     "text": [
      "\rmodules retrieved:  98%|█████████▊| 106/108 [01:22<00:01,  1.29it/s]"
     ]
    },
    {
     "name": "stderr",
     "output_type": "stream",
     "text": [
      "\rmodules retrieved:  99%|█████████▉| 107/108 [01:23<00:00,  1.29it/s]"
     ]
    },
    {
     "name": "stderr",
     "output_type": "stream",
     "text": [
      "\rmodules retrieved: 100%|██████████| 108/108 [01:23<00:00,  1.29it/s]"
     ]
    },
    {
     "name": "stdout",
     "output_type": "stream",
     "text": [
      "CPU times: user 3.08 s, sys: 148 ms, total: 3.22 s\nWall time: 1min 25s\n"
     ]
    },
    {
     "name": "stderr",
     "output_type": "stream",
     "text": [
      "\n"
     ]
    }
   ],
   "source": [
    "%%time\n",
    "reload(ontologies)\n",
    "\n",
    "kegg_modules_dict = {key.replace('=>', 'to'):value for key, value in \n",
    "                     ontologies.query_KEGG(database=\"module\", organism=\"sce\").items()}\n",
    "\n",
    "with open(\"./results/kegg_modules/modules_dict.pkl\", \"wb+\") as pickle_file:\n",
    "    pickle.dump(kegg_modules_dict, pickle_file)\n"
   ]
  },
  {
   "cell_type": "markdown",
   "metadata": {},
   "source": [
    "## Generalization: processing human data"
   ]
  },
  {
   "cell_type": "markdown",
   "metadata": {},
   "source": [
    "## ModuleQTLs: concept introduction and rationale"
   ]
  },
  {
   "cell_type": "code",
   "execution_count": 150,
   "metadata": {},
   "outputs": [
    {
     "name": "stderr",
     "output_type": "stream",
     "text": [
      "\r  0%|          | 0/1276 [00:00<?, ?it/s]"
     ]
    },
    {
     "name": "stderr",
     "output_type": "stream",
     "text": [
      "\r  9%|▊         | 111/1276 [00:00<00:01, 1108.37it/s]"
     ]
    },
    {
     "name": "stderr",
     "output_type": "stream",
     "text": [
      "\r 16%|█▌        | 202/1276 [00:00<00:01, 1000.99it/s]"
     ]
    },
    {
     "name": "stderr",
     "output_type": "stream",
     "text": [
      "\r 22%|██▏       | 278/1276 [00:00<00:01, 919.50it/s] "
     ]
    },
    {
     "name": "stderr",
     "output_type": "stream",
     "text": [
      "\r 29%|██▉       | 370/1276 [00:00<00:00, 918.12it/s]"
     ]
    },
    {
     "name": "stderr",
     "output_type": "stream",
     "text": [
      "\r 36%|███▌      | 457/1276 [00:00<00:00, 907.64it/s]"
     ]
    },
    {
     "name": "stderr",
     "output_type": "stream",
     "text": [
      "\r 43%|████▎     | 554/1276 [00:00<00:00, 916.98it/s]"
     ]
    },
    {
     "name": "stderr",
     "output_type": "stream",
     "text": [
      "\r 52%|█████▏    | 665/1276 [00:00<00:00, 943.72it/s]"
     ]
    },
    {
     "name": "stderr",
     "output_type": "stream",
     "text": [
      "\r 61%|██████    | 776/1276 [00:00<00:00, 963.75it/s]"
     ]
    },
    {
     "name": "stderr",
     "output_type": "stream",
     "text": [
      "\r 71%|███████   | 909/1276 [00:00<00:00, 1003.67it/s]"
     ]
    },
    {
     "name": "stderr",
     "output_type": "stream",
     "text": [
      "\r 80%|███████▉  | 1019/1276 [00:01<00:00, 1013.16it/s]"
     ]
    },
    {
     "name": "stderr",
     "output_type": "stream",
     "text": [
      "\r 88%|████████▊ | 1127/1276 [00:01<00:00, 1005.19it/s]"
     ]
    },
    {
     "name": "stderr",
     "output_type": "stream",
     "text": [
      "\r 96%|█████████▋| 1231/1276 [00:01<00:00, 983.67it/s] "
     ]
    },
    {
     "name": "stderr",
     "output_type": "stream",
     "text": [
      "\r100%|██████████| 1276/1276 [00:01<00:00, 982.56it/s]"
     ]
    },
    {
     "name": "stderr",
     "output_type": "stream",
     "text": [
      "\n\r  0%|          | 0/1276 [00:00<?, ?it/s]"
     ]
    },
    {
     "name": "stderr",
     "output_type": "stream",
     "text": [
      "\r 12%|█▏        | 147/1276 [00:00<00:00, 1467.41it/s]"
     ]
    },
    {
     "name": "stderr",
     "output_type": "stream",
     "text": [
      "\r 25%|██▍       | 318/1276 [00:00<00:00, 1586.99it/s]"
     ]
    },
    {
     "name": "stderr",
     "output_type": "stream",
     "text": [
      "\r 38%|███▊      | 483/1276 [00:00<00:00, 1607.03it/s]"
     ]
    },
    {
     "name": "stderr",
     "output_type": "stream",
     "text": [
      "\r 53%|█████▎    | 676/1276 [00:00<00:00, 1686.89it/s]"
     ]
    },
    {
     "name": "stderr",
     "output_type": "stream",
     "text": [
      "\r 68%|██████▊   | 863/1276 [00:00<00:00, 1721.52it/s]"
     ]
    },
    {
     "name": "stderr",
     "output_type": "stream",
     "text": [
      "\r 81%|████████  | 1032/1276 [00:00<00:00, 1715.32it/s]"
     ]
    },
    {
     "name": "stderr",
     "output_type": "stream",
     "text": [
      "\r 98%|█████████▊| 1247/1276 [00:00<00:00, 1777.10it/s]"
     ]
    },
    {
     "name": "stderr",
     "output_type": "stream",
     "text": [
      "\r100%|██████████| 1276/1276 [00:00<00:00, 1771.79it/s]"
     ]
    },
    {
     "name": "stderr",
     "output_type": "stream",
     "text": [
      "\n"
     ]
    },
    {
     "data": {
      "text/plain": [
       "defaultdict(collections.Counter,\n            {'eQTLs': Counter({False: 729, True: 547}),\n             'pQTLs': Counter({False: 685, True: 591})})"
      ]
     },
     "execution_count": 150,
     "metadata": {},
     "output_type": "execute_result"
    }
   ],
   "source": [
    "has_linkages = collections.defaultdict(collections.Counter)\n",
    "for qtl_type, qtl_df in [(\"eQTLs\", eQTLs_df), (\"pQTLs\", pQTLs_df)]:\n",
    "    for gene_name in tqdm(np.intersect1d(eQTLs_expression_df[\"gene\"], pQTLs_expression_df[\"gene\"])):\n",
    "        has_linkages[qtl_type][len(qtls.linked_markers(qtl_df, [gene_name])) > 0] += 1\n",
    "has_linkages"
   ]
  },
  {
   "cell_type": "code",
   "execution_count": 18,
   "metadata": {},
   "outputs": [
    {
     "data": {
      "text/plain": [
       "0.0"
      ]
     },
     "execution_count": 18,
     "metadata": {},
     "output_type": "execute_result"
    }
   ],
   "source": [
    "df = pd.read_table(\"./df.csv\")\n",
    "np.min([df[\"real\"].min(), df[\"simulated\"].min()])"
   ]
  },
  {
   "cell_type": "code",
   "execution_count": 6,
   "metadata": {
    "collapsed": true
   },
   "outputs": [],
   "source": [
    "from itertools import tee\n",
    "\n",
    "def parse_roman(s):\n",
    "    numerals = {'M':1000, 'D':500, 'C':100, 'L':50, 'X':10, 'V':5, 'I':1}\n",
    "    cur, prev = tee(numerals[c] for c in reversed(s.upper()))\n",
    "    return next(cur) + sum((cur, -cur)[cur < prev] for cur, prev in zip(cur,prev))\n",
    "\n",
    "old_gen_df = pd.read_table(\"./supplementary_materials/josh_formatted_genotypes.csv\")[[\"RQTL_name\", \"name\", \"chromosome\", \"position\", \"sequence\"]]\n",
    "new_gen_df = pd.read_table(\"./data/kruglyak_2018/eQTLs.csv\")[[\"gene\", \"pmarker\", \"chr\", \"markerPlotCoordinate\"]]\n",
    "new_gen_df[\"chr\"] = new_gen_df[\"chr\"].apply(lambda s: s.strip('chr')).apply(parse_roman)"
   ]
  },
  {
   "cell_type": "code",
   "execution_count": 6,
   "metadata": {},
   "outputs": [],
   "source": [
    "old_chr2markpos = {n : old_gen_df.groupby(by=\"chromosome\").get_group(n) for n in range(1, 17)}\n",
    "new_chr2markpos = {n : new_gen_df.groupby(by=\"chr\").get_group(n) for n in range(1, 17)}"
   ]
  },
  {
   "cell_type": "code",
   "execution_count": 7,
   "metadata": {},
   "outputs": [
    {
     "name": "stdout",
     "output_type": "stream",
     "text": [
      "chr1:\t 0\nchr2:\t 1\nchr3:\t 0\nchr4:\t 2\nchr5:\t 1\nchr6:\t 0\nchr7:\t 0\nchr8:\t 2\nchr9:\t 1\nchr10:\t 0\nchr11:\t 0\nchr12:\t 2\nchr13:\t 3\nchr14:\t 2\nchr15:\t 3\nchr16:\t 0\n"
     ]
    }
   ],
   "source": [
    "for n in range(1, 17):\n",
    "    # old_marker_segments = sorted([(int(markpos) - 500, int(markpos) + 500) for markpos, seq \n",
    "    #                               in old_chr2markpos[n][[\"position\", \"sequence\"]].values])\n",
    "    old_marker_positions = old_chr2markpos[n][\"position\"].values\n",
    "    new_marker_positions = [int(mrkr.split(\":\")[1].split('_')[0]) for mrkr in new_chr2markpos[n][\"pmarker\"]]\n",
    "    print(\"chr{}:\\t {}\".format(n, len(np.intersect1d(old_marker_positions, new_marker_positions))))\n",
    "    # contains = collections.Counter()    \n",
    "    # for markpos in new_marker_positions:\n",
    "    #     for markseg in old_marker_segments:\n",
    "    #         if markseg[0] <= markpos <= markseg[1]:\n",
    "    #             contains[markseg] += 1\n",
    "    # display(sum(contains.values()))"
   ]
  },
  {
   "cell_type": "code",
   "execution_count": null,
   "metadata": {},
   "outputs": [],
   "source": [
    "count = collections.Counter()\n",
    "by_marker = new_gen_df.groupby(\"pmarker\")\n",
    "for marker in new_gen_df[\"pmarker\"]:\n",
    "    count[marker] = len(by_marker.get_group(marker))\n",
    "count.most_common(10)"
   ]
  },
  {
   "cell_type": "code",
   "execution_count": 14,
   "metadata": {
    "collapsed": true
   },
   "outputs": [
    {
     "name": "stdout",
     "output_type": "stream",
     "text": [
      "[('gKR08', 47), ('gOL01', 38), ('gKR07', 34), ('COS8', 23), ('ENA5', 16), ('YJL218W', 15), ('YER188W', 15), ('FLO10', 15), ('YKR104W', 14), ('PRM8', 14), ('COS6', 14), ('HO', 14), ('REE1', 14), ('NAR005C', 14), ('ARN2', 13)]\n"
     ]
    }
   ],
   "source": [
    "namegroups = collections.Counter()\n",
    "groups = old_gen_df.groupby(\"name\") \n",
    "for name in set(old_gen_df[\"name\"]): \n",
    "    namegroups[networks.convert_to_std(name)] = len(groups.get_group(name))\n",
    "print(namegroups.most_common(15))"
   ]
  },
  {
   "cell_type": "code",
   "execution_count": 16,
   "metadata": {},
   "outputs": [
    {
     "name": "stdout",
     "output_type": "stream",
     "text": [
      "48637 26540\n"
     ]
    }
   ],
   "source": [
    "marker_count = 0\n",
    "for marker_name in eQTLs_df[\"SNP\"]:\n",
    "    marker_count += namegroups[marker_name]\n",
    "print(marker_count, eQTLs_df.shape[0])"
   ]
  },
  {
   "cell_type": "code",
   "execution_count": 70,
   "metadata": {
    "collapsed": true
   },
   "outputs": [
    {
     "name": "stdout",
     "output_type": "stream",
     "text": [
      "(4231, 5)\n"
     ]
    }
   ],
   "source": [
    "print(pQTLs_df.query(\"q_value <= 0.001\").shape)"
   ]
  },
  {
   "cell_type": "code",
   "execution_count": 31,
   "metadata": {},
   "outputs": [
    {
     "name": "stdout",
     "output_type": "stream",
     "text": [
      "399 ms ± 38.8 ms per loop (mean ± std. dev. of 7 runs, 1 loop each)\n"
     ]
    }
   ],
   "source": [
    "%timeit qtls.linkage_similarity(interactome_graph, networks.graph_from_edges(eQTLs_df[[\"SNP\", \"gene\"]].values))"
   ]
  },
  {
   "cell_type": "code",
   "execution_count": 34,
   "metadata": {},
   "outputs": [
    {
     "name": "stdout",
     "output_type": "stream",
     "text": [
      "28.5 ms ± 4.47 ms per loop (mean ± std. dev. of 7 runs, 10 loops each)\n"
     ]
    }
   ],
   "source": [
    "old_pqtls = pd.read_table(\"./data/pQTLs/qtls.csv\")\n",
    "# np.intersect1d(old_pqtls[[\"SNP\", \"gene\"]].values, new_pqtls[[\"SNP\", \"gene\"]].values)\n",
    "new_pqtls = pd.read_table(\"./data/pQTLs/new_results.csv\")\n",
    "%timeit len(set(map(tuple, old_pqtls[[\"SNP\", \"gene\"]].values)) & set(map(tuple, new_pqtls[[\"SNP\", \"gene\"]].values))) / old_pqtls.shape[0]\n"
   ]
  },
  {
   "cell_type": "code",
   "execution_count": null,
   "metadata": {},
   "outputs": [],
   "source": []
  }
 ],
 "metadata": {
  "kernelspec": {
   "display_name": "Python [conda env:idp]",
   "language": "python",
   "name": "conda-env-idp-py"
  },
  "language_info": {
   "codemirror_mode": {
    "name": "ipython",
    "version": 3
   },
   "file_extension": ".py",
   "mimetype": "text/x-python",
   "name": "python",
   "nbconvert_exporter": "python",
   "pygments_lexer": "ipython3",
   "version": "3.6.3"
  }
 },
 "nbformat": 4,
 "nbformat_minor": 2
}
