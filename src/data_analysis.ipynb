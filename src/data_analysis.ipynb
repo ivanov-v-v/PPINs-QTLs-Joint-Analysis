{
 "cells": [
  {
   "cell_type": "markdown",
   "metadata": {},
   "source": [
    "In this notebook the eQTL identification is performed.\n",
    "\n",
    "General workflow:\n",
    "- Extract two dataframes: marker-based genotype and expression data. Each column represents a strain. All columns are sorted accordingly to the strain name.\n",
    "- Transform them to matrices and perform MWU statistical test for every pair (marker, expressed gene) and save them into list. Use multiprocessing to speed the computation up.\n",
    "\t- For each marker, divide the strains by inherited variant.\n",
    "\t- For each gene, divide the expression data in two groups.\n",
    "\t- Test null hypothesis using MWU test.\n",
    "- Adjust the p-values using Benjamini-Hochberg procedure.\n",
    "- Construct the bipartite linkage graph using calculated q-values.\n",
    "- Plot the graph and the linkage map.\n",
    "\n",
    "TODO: clean the notebook up before writing more code"
   ]
  },
  {
   "cell_type": "code",
   "execution_count": 2,
   "metadata": {
    "collapsed": true
   },
   "outputs": [
    {
     "name": "stdout",
     "output_type": "stream",
     "text": [
      "Autosaving every 15 seconds\n"
     ]
    }
   ],
   "source": [
    "%matplotlib inline\n",
    "\n",
    "import pandas as pd\n",
    "import matplotlib.pyplot as plt\n",
    "from matplotlib import cm\n",
    "import numpy as np\n",
    "import time\n",
    "from scipy import stats\n",
    "import networkx as nx\n",
    "import multiprocessing as mp\n",
    "from statsmodels.sandbox.stats.multicomp import multipletests\n",
    "from functools import partial\n",
    "\n",
    "%autosave 15"
   ]
  },
  {
   "cell_type": "code",
   "execution_count": 3,
   "metadata": {},
   "outputs": [],
   "source": [
    "expression_df = pd.read_table('./data/rna_expression_avg.csv').drop([\"Unnamed: 0\", \"ID_REF\"], axis=1)\n",
    "'''нужно не выбрасывать из файла столбцы, а фильтровать их\n",
    "на этапе создания датафрейма и дальнейшей работы с ним'''\n",
    "genotypes_df = pd.read_table('./data/genotypes.csv').drop(\"Unnamed: 0\", axis=1)\n",
    "\n",
    "# markers_n = genotypes_df.shape[0]\n",
    "# rna_n = expression_df.shape[0]\n",
    "\n",
    "# expression_matrix = expression_df.as_matrix(\n",
    "#     expression_df.columns.tolist()[1:]\n",
    "# )\n",
    "# \n",
    "# genotypes_matrix = genotypes_df.as_matrix(\n",
    "#     genotypes_df.columns.tolist()[1:]\n",
    "# ) \n",
    "# \n",
    "# strain_names = expression_df.columns.tolist()[1:]\n",
    "\n"
   ]
  },
  {
   "cell_type": "code",
   "execution_count": 3,
   "metadata": {},
   "outputs": [],
   "source": [
    "marker_to_loc = dict(zip(genotypes_df[\"RQTL_name\"], np.arange(markers_n)))\n",
    "RNA_to_loc = dict(zip(expression_df[\"IDENTIFIER\"], np.arange(rna_n)))"
   ]
  },
  {
   "cell_type": "code",
   "execution_count": 4,
   "metadata": {},
   "outputs": [],
   "source": [
    "# Divide all progeny into groups by their inheritance pattern\n",
    "# for a given genetic marker, and then plot the data clouds\n",
    "# to visually observe if there is any correlation between marker\n",
    "# and RNA expression \n",
    "\n",
    "# Divide expression data for a given gene in two groups,\n",
    "# based on inheritance pattern of a given marker\n",
    "\n",
    "\n",
    "def expression_by_RNA_and_marker(RNA_name, marker_name):\n",
    "    RNA_pos = RNA_to_loc[RNA_name]\n",
    "    marker_pos = marker_to_loc[marker_name]\n",
    "\n",
    "    expression_values = expression_matrix[RNA_pos]\n",
    "    inheritance_patterns = genotypes_matrix[marker_pos]\n",
    "\n",
    "    # Can this be optimized further?\n",
    "    \n",
    "    from_BY = expression_values[inheritance_patterns == 0]\n",
    "    from_RM = expression_values[inheritance_patterns == 1]\n",
    "    \n",
    "    return from_BY, from_RM\n",
    "\n",
    "\n",
    "# For the given pair (expressed gene, marker) test the hypothesis\n",
    "# that inherited variant of a marker influences gene expression significantly \n",
    "def test_linkage(RNA_name, marker_name, eps=1e-5):\n",
    "    global ftime\n",
    "    fstart_time = time.time()\n",
    "    from_BY, from_RM = expression_by_RNA_and_marker(RNA_name, marker_name)\n",
    "    fend_time = time.time()\n",
    "    ftime += fend_time - fstart_time\n",
    "    statistic, pvalue = stats.mannwhitneyu(x=from_BY, y=from_RM)\n",
    "    return (pvalue <= eps, pvalue)\n",
    "\n",
    "\n",
    "# Divide expression data by inherited marker \n",
    "# variant and then plot the resulting groups \n",
    "def plot_expression_to_marker_correlation(RNA_name, marker_name):\n",
    "    from_BY, from_RM = expression_by_RNA_and_marker(RNA_name, marker_name)\n",
    "    xlabels = np.append(\n",
    "                    np.full((1, len(from_BY)), 1), \n",
    "                    np.full((1, len(from_RM)), 2))\\\n",
    "                    + np.random.normal(0, 0.01, len(from_BY) + len(from_RM)\n",
    "            )  \n",
    "    ylabels = np.array(from_BY + from_RM)\n",
    "    plt.figure(figsize=(20, 10))\n",
    "    plt.rcParams[\"axes.facecolor\"] = 'white'\n",
    "    plt.title(\"p-value: {}\".format(pvalue))\n",
    "    plt.xlabel(\"class label\")\n",
    "    plt.ylabel(\"expression value\")\n",
    "    plt.scatter(\n",
    "        x=xlabels, y=ylabels,\n",
    "        c=ylabels, cmap=cm.jet\n",
    "    )\n",
    "    plt.savefig(\"./img/\" + RNA_name + \"_to_\" + marker_name + \".png\")\n",
    "    plt.close()"
   ]
  },
  {
   "cell_type": "code",
   "execution_count": 81,
   "metadata": {
    "collapsed": false
   },
   "outputs": [],
   "source": [
    "marker_list = genotypes_df[\"RQTL_name\"].as_matrix()\n",
    "RNA_list = expression_df[\"IDENTIFIER\"].as_matrix()\n",
    "\n",
    "CHUNKS_N = mp.cpu_count()\n",
    "marker_chunks = np.array_split(marker_list, CHUNKS_N)\n",
    "chunk_lens = np.roll(\n",
    "    np.cumsum(\n",
    "        [len(chunk) for chunk in marker_chunks]\n",
    "    ), 1\n",
    ")\n",
    "chunk_lens[0] = 0\n",
    "marker_samples = list(zip(marker_chunks, chunk_lens))"
   ]
  },
  {
   "cell_type": "code",
   "execution_count": 6,
   "metadata": {},
   "outputs": [],
   "source": [
    "# Current runtime — 20 minutes\n",
    "# Goal: < 10 minutes\n",
    "\n",
    "# How to get rid of two nested for-loops?\n",
    "# Is it possible to write a vectorized version\n",
    "# of the function that will run faster?\n",
    "# And if it is, how much faster will it run?\n",
    "\n",
    "inh_by = (genotypes_matrix == 0)\n",
    "inh_rm = (genotypes_matrix == 1)\n",
    "\n",
    "def calculate_pvalues(sample_pair):\n",
    "    marker_sample, offset = sample_pair\n",
    "    pvalues = np.zeros(len(marker_sample) * rna_n, dtype=np.float32)\n",
    "    iter = 0\n",
    "    for marker_rownum in range(offset, len(marker_sample) + offset):\n",
    "        BY_allele_pos = inh_by[marker_rownum] #(inheritance_patterns == 0)\n",
    "        RM_allele_pos = inh_rm[marker_rownum] #inheritance_patterns == 1)\n",
    "        for expression_row in expression_matrix:\n",
    "            from_BY = expression_row[BY_allele_pos]\n",
    "            from_RM = expression_row[RM_allele_pos]\n",
    "            # CPU hog\n",
    "            statistics, pvalue = stats.mannwhitneyu(x=from_BY, y=from_RM)\n",
    "            pvalues[iter] = pvalue\n",
    "            iter += 1        \n",
    "    return pvalues"
   ]
  },
  {
   "cell_type": "code",
   "execution_count": 82,
   "metadata": {
    "collapsed": true
   },
   "outputs": [],
   "source": [
    "# Set the seed to ensure either reproducibility\n",
    "# or randomness of the generated sample \n",
    "\n",
    "np.random.seed(int(time.time()))\n",
    "\n",
    "pool = mp.Pool(processes=4)\n",
    "start_time = time.time()\n",
    "results = pool.map(calculate_pvalues, marker_samples)\n",
    "end_time = time.time()\n",
    "pool.close()\n",
    "pool.join()\n",
    "\n",
    "pvalues = np.concatenate([results[i] for i in range(CHUNKS_N)])\n",
    "adjusted_results = multipletests(pvalues, method=\"fdr_bh\")\n",
    "\n",
    "print(\"Calculation of pvalues: {}\".format(end_time - start_time))"
   ]
  },
  {
   "cell_type": "code",
   "execution_count": 84,
   "metadata": {
    "collapsed": true
   },
   "outputs": [],
   "source": [
    "# Build linkage graph from qvalues\n",
    "\n",
    "reject, qvalues = adjusted_results[0], adjusted_results[1]\n",
    "linkage_graph = nx.Graph()\n",
    "idx = 0\n",
    "# this can be optimized\n",
    "for marker_name in marker_list:\n",
    "    for RNA_name in RNA_list:\n",
    "        if reject[idx] == True:\n",
    "            if not linkage_graph.has_node(RNA_name):\n",
    "                linkage_graph.add_node(RNA_name, bipartite=0)\n",
    "            if not linkage_graph.has_node(marker_name):\n",
    "                linkage_graph.add_node(marker_name, bipartite=1)\n",
    "            linkage_graph.add_edge(RNA_name, marker_name)\n",
    "        idx += 1\n"
   ]
  },
  {
   "cell_type": "code",
   "execution_count": 86,
   "metadata": {
    "collapsed": false
   },
   "outputs": [
    {
     "name": "stderr",
     "output_type": "stream",
     "text": [
      "/home/vvi/anaconda3/lib/python3.5/site-packages/networkx/drawing/nx_pylab.py:126: MatplotlibDeprecationWarning: pyplot.hold is deprecated.\n    Future behavior will be consistent with the long-time default:\n    plot commands add elements without first clearing the\n    Axes and/or Figure.\n  b = plt.ishold()\n"
     ]
    },
    {
     "name": "stderr",
     "output_type": "stream",
     "text": [
      "/home/vvi/anaconda3/lib/python3.5/site-packages/networkx/drawing/nx_pylab.py:138: MatplotlibDeprecationWarning: pyplot.hold is deprecated.\n    Future behavior will be consistent with the long-time default:\n    plot commands add elements without first clearing the\n    Axes and/or Figure.\n  plt.hold(b)\n/home/vvi/anaconda3/lib/python3.5/site-packages/matplotlib/__init__.py:917: UserWarning: axes.hold is deprecated. Please remove it from your matplotlibrc and/or style files.\n  warnings.warn(self.msg_depr_set % key)\n/home/vvi/anaconda3/lib/python3.5/site-packages/matplotlib/rcsetup.py:152: UserWarning: axes.hold is deprecated, will be removed in 3.0\n  warnings.warn(\"axes.hold is deprecated, will be removed in 3.0\")\n"
     ]
    }
   ],
   "source": [
    "# Built-in bipartite.sets() works strangely \n",
    "# maybe, it's only so for undirected graphs,\n",
    "# I should check that on some toy example\n",
    "\n",
    "top_v, bottom_v = [], []\n",
    "for node, data in linkage_graph.nodes(data=True):\n",
    "    if data[\"bipartite\"] == 0:\n",
    "        bottom_v.append(node)\n",
    "    else:\n",
    "        top_v.append(node)\n",
    "        \n",
    "# To plot a bipartite graph correctly, the positions\n",
    "# of the vertices must be written down explicitly\n",
    "\n",
    "pos = dict()\n",
    "pos.update((n, (1, 3*i)) for i, n in enumerate(top_v))\n",
    "pos.update((n, (2, 3*i)) for i, n in enumerate(bottom_v))\n",
    "\n",
    "plt.figure(figsize=(20, 100))\n",
    "nx.draw(\n",
    "    linkage_graph,\n",
    "    with_labels=True,\n",
    "    node_size=50,\n",
    "    edge_width=3.0,\n",
    "    pos=pos,\n",
    "    node_color=list(linkage_graph.degree().values()),\n",
    "    edge_color='b',\n",
    "    cmap=plt.cm.Blues,\n",
    "    alpha=0.5,\n",
    "    font_size=8\n",
    ")\n",
    "plt.savefig(\"./img/graph.png\")\n",
    "plt.close()"
   ]
  },
  {
   "cell_type": "code",
   "execution_count": 87,
   "metadata": {
    "collapsed": true
   },
   "outputs": [],
   "source": [
    "# Extract the marker-nodes and number of linkages to them\n",
    "# preserving their order based on genome location\n",
    "\n",
    "marker_nodes = sorted(\n",
    "    list(linkage_graph.degree(top_v).items()), \n",
    "    key=lambda p: marker_to_loc[p[0]]\n",
    ")\n",
    "\n",
    "# Pythonic way of unzipping a list of tuples\n",
    "# into two separate lists of their coordinates\n",
    "\n",
    "m_names, m_degrees = map(list, zip(*marker_nodes))  \n",
    "\n",
    "plt.figure(figsize=(40, 20))\n",
    "plt.plot(m_degrees)\n",
    "plt.xticks(\n",
    "    range(len(marker_nodes)), \n",
    "    m_names,\n",
    "    rotation=\"vertical\"\n",
    ")\n",
    "plt.savefig(\"./img/linkage_map.png\")\n",
    "plt.close()"
   ]
  },
  {
   "cell_type": "code",
   "execution_count": 89,
   "metadata": {},
   "outputs": [],
   "source": [
    "graph_file = open(\"./data/linkage_graph.txt\", \"w+\")\n",
    "for u in top_v:\n",
    "    graph_file.write(\"{}: {}\\n\".format(u, linkage_graph.degree(u)))\n",
    "    for v in linkage_graph[u]:\n",
    "        graph_file.write(\"{}\\n\".format(v))\n",
    "graph_file.close()"
   ]
  },
  {
   "cell_type": "code",
   "execution_count": 27,
   "metadata": {},
   "outputs": [],
   "source": [
    "# Processing measured protein expression data.\n",
    "# Averaged expression data for parents and progeny\n",
    "# is sorted accordingly to the strain name.\n",
    "# Also, I have some problems with naming. Are there guidelines? \n",
    "\n",
    "\n",
    "protein_expr_df_raw = pd.read_table(\"./data/Foss2007_protein_expression.csv\")\n",
    "\n",
    "\n",
    "def strain_to_list(item):\n",
    "    l = item.split('_')\n",
    "    return [int(l[0]), int(l[1]), ord(l[2])]\n",
    " \n",
    "protein_expression_df = protein_expr_df_raw[\n",
    "    [\"protein.group\", \"cond.BY.median\", \"cond.RM.median\"] \n",
    "    + protein_expr_df_raw.columns.tolist()[466:-2]\n",
    "]\n",
    "\n",
    "'''Опять таки, не все штаммы прогенотипированы, нужна фильтрация столбцов'''\n",
    "\n",
    "protein_expression_df.columns = [\n",
    "    [\"protein.goup\", \"BY\", \"RM\"]\n",
    "    + sorted([s.split('.')[1] for s in protein_expr_df_raw.columns.tolist()[466:-2]], \n",
    "             key=strain_to_list\n",
    "     ) \n",
    "]\n",
    "\n",
    "protein_expression_matrix = protein_expression_df.as_matrix(\n",
    "    protein_expression_df.columns.tolist()[1:]\n",
    ")"
   ]
  },
  {
   "cell_type": "code",
   "execution_count": 30,
   "metadata": {},
   "outputs": [
    {
     "data": {
      "text/plain": [
       "array([[  4513887.2012,   2869519.8242,   3783354.5356, ...,\n          2638524.3415,   4641438.8188,   1993342.6091],\n       [ 63938642.9122,  37252853.1776,  51881710.5251, ...,\n         29060944.7803,  46752248.0217,  36006366.7473],\n       [           nan,            nan,   3169922.123 , ...,\n                   nan,   3719106.8478,            nan],\n       ..., \n       [  1255682.7339,    938352.892 ,   1715681.305 , ...,\n          1007082.2408,   1241716.0997,   2496878.6985],\n       [  5502801.0017,   3593143.5214,            nan, ...,\n          7564933.6648,   4613365.695 ,   4189275.739 ],\n       [ 10876790.1347,  22677636.8632,  10756709.7613, ...,\n         13208162.7406,   1709454.2185,   1652464.2568]])"
      ]
     },
     "execution_count": 30,
     "metadata": {},
     "output_type": "execute_result"
    }
   ],
   "source": [
    "protein_expression_matrix"
   ]
  },
  {
   "cell_type": "code",
   "execution_count": 7,
   "metadata": {},
   "outputs": [],
   "source": [
    "def calculate_p_values(genotype_matrix, expression_matrix, sample_pair):\n",
    "        marker_sample, offset = sample_pair\n",
    "        p_values = np.zeros(len(marker_sample) * expression_matrix.shape[0], dtype=np.float32)\n",
    "        iter = 0\n",
    "        for marker_rownum in range(offset, len(marker_sample) + offset):\n",
    "            genotype_row = genotype_matrix[marker_rownum]\n",
    "            BY_allele_pos = (genotype_row == 0)\n",
    "            RM_allele_pos = (genotype_row == 1)\n",
    "            for expression_row in expression_matrix:\n",
    "                from_BY = expression_row[BY_allele_pos]\n",
    "                from_RM = expression_row[RM_allele_pos]\n",
    "                # CPU hog\n",
    "                statistics, p_value = stats.mannwhitneyu(x=from_BY, y=from_RM)\n",
    "                p_values[iter] = p_value\n",
    "                iter += 1        \n",
    "        return p_values\n",
    "\n",
    "def perform_analysis(genotype_df, expression_df, analysis_name):\n",
    "    marker_cnt = genotype_df.shape[0]\n",
    "    gene_cnt = expression_df.shape[0]\n",
    "    \n",
    "    genotype_matrix = genotype_df.as_matrix(\n",
    "        genotype_df.columns.tolist()[1:]\n",
    "    ) \n",
    "    expression_matrix = expression_df.as_matrix(\n",
    "        expression_df.columns.tolist()[1:]\n",
    "    )\n",
    "    \n",
    "    marker_list = genotype_df.iloc[:, 0].as_matrix()\n",
    "    gene_list = expression_df.iloc[:, 0].as_matrix()\n",
    "    \n",
    "    \n",
    "    CHUNKS_N = mp.cpu_count() // 2\n",
    "    marker_chunks = np.array_split(marker_list, CHUNKS_N)\n",
    "    chunk_lens = np.roll(\n",
    "        np.cumsum(\n",
    "            [len(chunk) for chunk in marker_chunks]\n",
    "        ), 1\n",
    "    )\n",
    "    chunk_lens[0] = 0\n",
    "    \n",
    "    marker_samples = list(zip(marker_chunks, chunk_lens))\n",
    "    \n",
    "    # Current runtime — 20 minutes\n",
    "    # Goal: < 10 minutes\n",
    "    \n",
    "    # Set the seed to ensure either reproducibility\n",
    "    # or randomness of the generated sample \n",
    "    \n",
    "    calculate_p_values_subroutine = partial(\n",
    "        calculate_p_values, \n",
    "        genotype_matrix, expression_matrix \n",
    "    )\n",
    "    \n",
    "    np.random.seed(int(time.time()))\n",
    "    \n",
    "    pool = mp.Pool(processes=CHUNKS_N)\n",
    "    start_time = time.time()\n",
    "    results = pool.map(calculate_p_values_subroutine, marker_samples)\n",
    "    end_time = time.time()\n",
    "    pool.close()\n",
    "    pool.join()\n",
    "    \n",
    "    p_values = np.concatenate([results[i] for i in range(CHUNKS_N)])\n",
    "    adjusted_results = multipletests(p_values, method=\"fdr_bh\")\n",
    "    \n",
    "    print(\"Calculation of pvalues: {}\".format(end_time - start_time))\n",
    "    \n",
    "    # Build linkage graph from qvalues\n",
    "    \n",
    "    reject, q_values = adjusted_results[0], adjusted_results[1]\n",
    "    linkage_graph = nx.Graph()\n",
    "    idx = 0\n",
    "    \n",
    "    for marker_name in marker_list:\n",
    "        for gene_name in gene_list:\n",
    "            if reject[idx] == True:\n",
    "                if not linkage_graph.has_node(gene_name):\n",
    "                    linkage_graph.add_node(gene_name, bipartite=0)\n",
    "                if not linkage_graph.has_node(marker_name):\n",
    "                    linkage_graph.add_node(marker_name, bipartite=1)\n",
    "                linkage_graph.add_edge(gene_name, marker_name)\n",
    "            idx += 1\n",
    "\n",
    "    # Built-in bipartite.sets() works strangely \n",
    "    # maybe, it's only so for undirected graphs,\n",
    "    # I should check that on some toy example\n",
    "\n",
    "    top_v, bottom_v = [], []\n",
    "    for node, data in linkage_graph.nodes(data=True):\n",
    "        if data[\"bipartite\"] == 0:\n",
    "            bottom_v.append(node)\n",
    "        else:\n",
    "            top_v.append(node)\n",
    "\n",
    "    # To plot a bipartite graph correctly, the positions\n",
    "    # of the vertices must be written down explicitly\n",
    "\n",
    "    pos = dict()\n",
    "    pos.update((n, (1, 3*i)) for i, n in enumerate(top_v))\n",
    "    pos.update((n, (2, 3*i)) for i, n in enumerate(bottom_v))\n",
    "\n",
    "    plt.figure(figsize=(20, 100))\n",
    "    nx.draw(\n",
    "        linkage_graph,\n",
    "        with_labels=True,\n",
    "        node_size=50,\n",
    "        edge_width=3.0,\n",
    "        pos=pos,\n",
    "        node_color=list(linkage_graph.degree().values()),\n",
    "        edge_color='b',\n",
    "        cmap=plt.cm.Blues,\n",
    "        alpha=0.5,\n",
    "        font_size=8\n",
    "    )\n",
    "    plt.savefig(\"./img/\" + analysis_name + \"_graph.png\")\n",
    "    plt.close()\n",
    "\n",
    "    # Extract the marker-nodes and number of linkages to them\n",
    "    # preserving their order based on genome location\n",
    "\n",
    "    marker_to_rownum = dict(zip(genotype_df.iloc[:, 0], np.arange(marker_cnt)))\n",
    "    marker_nodes = sorted(\n",
    "        list(linkage_graph.degree(top_v).items()), \n",
    "        key=lambda p: marker_to_rownum[p[0]]\n",
    "    )\n",
    "\n",
    "    # Pythonic way of unzipping a list of tuples\n",
    "    # into two separate lists of their coordinates\n",
    "\n",
    "    m_names, m_degrees = map(list, zip(*marker_nodes))  \n",
    "\n",
    "    plt.figure(figsize=(40, 20))\n",
    "    plt.plot(m_degrees)\n",
    "    plt.xticks(\n",
    "        range(len(marker_nodes)), \n",
    "        m_names,\n",
    "        rotation=\"vertical\"\n",
    "    )\n",
    "    plt.savefig(\"./img/\" + analysis_name + \"_linkage_map.png\")\n",
    "    plt.close()\n",
    "\n",
    "    graph_file = open(\"./data/\" + analysis_name + \"_linkage_graph.txt\", \"w+\")\n",
    "    for u in top_v:\n",
    "        graph_file.write(\"{}: {}\\n\".format(u, linkage_graph.degree(u)))\n",
    "        for v in linkage_graph[u]:\n",
    "            graph_file.write(\"{}\\n\".format(v))\n",
    "    graph_file.close()"
   ]
  },
  {
   "cell_type": "code",
   "execution_count": 9,
   "metadata": {},
   "outputs": [
    {
     "name": "stdout",
     "output_type": "stream",
     "text": [
      "Calculation of pvalues: 1115.0005831718445\n"
     ]
    },
    {
     "name": "stderr",
     "output_type": "stream",
     "text": [
      "/home/vvi/anaconda3/lib/python3.5/site-packages/networkx/drawing/nx_pylab.py:126: MatplotlibDeprecationWarning: pyplot.hold is deprecated.\n    Future behavior will be consistent with the long-time default:\n    plot commands add elements without first clearing the\n    Axes and/or Figure.\n  b = plt.ishold()\n"
     ]
    },
    {
     "name": "stderr",
     "output_type": "stream",
     "text": [
      "/home/vvi/anaconda3/lib/python3.5/site-packages/networkx/drawing/nx_pylab.py:138: MatplotlibDeprecationWarning: pyplot.hold is deprecated.\n    Future behavior will be consistent with the long-time default:\n    plot commands add elements without first clearing the\n    Axes and/or Figure.\n  plt.hold(b)\n/home/vvi/anaconda3/lib/python3.5/site-packages/matplotlib/__init__.py:917: UserWarning: axes.hold is deprecated. Please remove it from your matplotlibrc and/or style files.\n  warnings.warn(self.msg_depr_set % key)\n/home/vvi/anaconda3/lib/python3.5/site-packages/matplotlib/rcsetup.py:152: UserWarning: axes.hold is deprecated, will be removed in 3.0\n  warnings.warn(\"axes.hold is deprecated, will be removed in 3.0\")\n"
     ]
    }
   ],
   "source": [
    "# It won't be as simple as that for pQTLs because strain sets differ\n",
    "perform_analysis(genotypes_df, expression_df, \"eQTLs\")"
   ]
  },
  {
   "cell_type": "code",
   "execution_count": 31,
   "metadata": {},
   "outputs": [
    {
     "data": {
      "text/plain": [
       "['2_6_d',\n '14_3_d',\n '14_4_a',\n '15_4_d',\n '15_6_c',\n '18_4_c',\n '18_6_d',\n '19_2_c',\n '19_3_c',\n '19_4_b',\n '21_2_d']"
      ]
     },
     "execution_count": 31,
     "metadata": {},
     "output_type": "execute_result"
    }
   ],
   "source": [
    "sorted(set(expression_df.columns.tolist()[1:]) - set(protein_expression_df.columns.tolist()[1:]), key=strain_to_list)"
   ]
  },
  {
   "cell_type": "code",
   "execution_count": null,
   "metadata": {},
   "outputs": [],
   "source": []
  },
  {
   "cell_type": "code",
   "execution_count": null,
   "metadata": {},
   "outputs": [],
   "source": []
  },
  {
   "cell_type": "code",
   "execution_count": 34,
   "metadata": {},
   "outputs": [
    {
     "data": {
      "text/plain": [
       "['20_5_d', '22_1_d', '23_2_d', '23_4_d', '25_5_d', '26_3_d']"
      ]
     },
     "execution_count": 34,
     "metadata": {},
     "output_type": "execute_result"
    }
   ],
   "source": [
    "sorted(set(protein_expression_df.columns.tolist()[1:]) - set(expression_df.columns.tolist()[1:]), key=strain_to_list)"
   ]
  },
  {
   "cell_type": "code",
   "execution_count": 33,
   "metadata": {},
   "outputs": [
    {
     "data": {
      "text/plain": [
       "(1318, 110)"
      ]
     },
     "execution_count": 33,
     "metadata": {},
     "output_type": "execute_result"
    }
   ],
   "source": [
    "protein_expression_df.shape"
   ]
  }
 ],
 "metadata": {
  "kernelspec": {
   "display_name": "Python 2",
   "language": "python",
   "name": "python2"
  },
  "language_info": {
   "codemirror_mode": {
    "name": "ipython",
    "version": 2
   },
   "file_extension": ".py",
   "mimetype": "text/x-python",
   "name": "python",
   "nbconvert_exporter": "python",
   "pygments_lexer": "ipython2",
   "version": "2.7.6"
  }
 },
 "nbformat": 4,
 "nbformat_minor": 0
}
