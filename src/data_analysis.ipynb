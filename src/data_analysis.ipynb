{
 "cells": [
  {
   "cell_type": "markdown",
   "metadata": {},
   "source": [
    "In this notebook the eQTLs and pQTLs indentified with statistical package MatrixEQTL are analysed with respect to the network of protein-protein interactions in yeast."
   ]
  },
  {
   "cell_type": "code",
   "execution_count": 1,
   "metadata": {
    "collapsed": false
   },
   "outputs": [
    {
     "name": "stderr",
     "output_type": "stream",
     "text": [
      "/home/vvi/anaconda3/lib/python3.5/importlib/_bootstrap.py:222: RuntimeWarning: numpy.dtype size changed, may indicate binary incompatibility. Expected 96, got 88\n  return f(*args, **kwds)\n"
     ]
    },
    {
     "name": "stderr",
     "output_type": "stream",
     "text": [
      "/home/vvi/anaconda3/lib/python3.5/importlib/_bootstrap.py:222: RuntimeWarning: numpy.dtype size changed, may indicate binary incompatibility. Expected 96, got 88\n  return f(*args, **kwds)\n"
     ]
    },
    {
     "name": "stderr",
     "output_type": "stream",
     "text": [
      "/home/vvi/anaconda3/lib/python3.5/importlib/_bootstrap.py:222: RuntimeWarning: numpy.dtype size changed, may indicate binary incompatibility. Expected 96, got 88\n  return f(*args, **kwds)\n"
     ]
    },
    {
     "name": "stdout",
     "output_type": "stream",
     "text": [
      "Autosaving every 15 seconds\n"
     ]
    }
   ],
   "source": [
    "%matplotlib inline\n",
    "\n",
    "# utilities\n",
    "import gc\n",
    "import time\n",
    "import os\n",
    "\n",
    "import collections\n",
    "import itertools\n",
    "from importlib import reload\n",
    "import pickle\n",
    "\n",
    "# data analysis tools\n",
    "import joblib\n",
    "import random\n",
    "import numpy as np\n",
    "import pandas as pd\n",
    "from scipy import stats\n",
    "import seaborn as sns\n",
    "from statsmodels.sandbox.stats.multicomp import multipletests\n",
    "from tqdm import *\n",
    "\n",
    "tqdm.monitor_interval = 0\n",
    "\n",
    "# network analysis tools\n",
    "import igraph as ig\n",
    "\n",
    "# multiprocessing tools\n",
    "import subprocess\n",
    "import multiprocessing as mp\n",
    "\n",
    "os.chdir(\"{}/Science/eQTL_analysis/\".format(os.environ[\"HOME\"]))\n",
    "\n",
    "# visualization tools\n",
    "import matplotlib.pyplot as plt\n",
    "from mpl_toolkits.mplot3d import Axes3D\n",
    "\n",
    "import networks\n",
    "import qtls\n",
    "import util\n",
    "import ontologies\n",
    "\n",
    "gc.enable()\n",
    "\n",
    "%autosave 15"
   ]
  },
  {
   "cell_type": "markdown",
   "metadata": {},
   "source": [
    "## Datasets used\n",
    "\n",
    "Take a look at readme.md in /data folder for data description. (currently unavailable)"
   ]
  },
  {
   "cell_type": "code",
   "execution_count": 2,
   "metadata": {},
   "outputs": [],
   "source": [
    "random.seed(int(time.time()))\n",
    "\n",
    "# 112 segregants genotyped by inherited marker variants\n",
    "\n",
    "''' Where possible, gene names were converted from systematic to standard notation '''\n",
    "\n",
    "expression_df, genotypes_df, qtls_df = {}, {}, {}\n",
    "\n",
    "expression_df[\"eQTLs_old\"] = pd.read_table(\"./data/eQTLs/expression_2011.csv\")\n",
    "expression_df[\"eQTLs_interpolated\"] = pd.read_table(\"./data/eQTLs/expression_2011.csv\")\n",
    "expression_df[\"eQTLs_new\"] = pd.read_table(\"./data/eQTLs/expression_2018.csv\")\n",
    "expression_df[\"pQTLs\"] = pd.read_table(\"./data/pQTLs/expression_2011.csv\")\n",
    "\n",
    "genotypes_df[\"eQTLs_old\"] = pd.read_table(\"./data/eQTLs/genotypes_2011.csv\")\n",
    "genotypes_df[\"eQTLs_new\"] = pd.read_table(\"./data/eQTLs/genotypes_2018.csv\")\n",
    "genotypes_df[\"eQTLs_interpolated\"] = pd.read_table(\"./data/eQTLs/genotypes_interpolated.csv\")\n",
    "genotypes_df[\"pQTLs\"] = pd.read_table(\"./data/pQTLs/genotypes_2011.csv\")\n",
    "\n",
    "# QTLs estimated with MatrixEQTL package for R\n",
    "qtls_df[\"eQTLs_old\"] = pd.read_table(\"./data/eQTLs/qtls_2011.csv\").query(\"q_value <= 0.05\")\n",
    "qtls_df[\"eQTLs_new\"] = pd.read_table(\"./data/eQTLs/qtls_2018.csv\")#.query(\"q_value <= 0.05\")\n",
    "# qtls_df[\"eQTLs_new_recomputed\"] = pd.read_table(\"./data/eQTLs/qtls_2018_recomputed.csv\").query(\"q_value <= 0.001\")\n",
    "qtls_df[\"eQTLs_interpolated\"] = pd.read_table(\"./data/eQTLs/qtls_interpolated.csv\")\n",
    "qtls_df[\"pQTLs\"] = pd.read_table(\"./data/pQTLs/qtls_2011.csv\").query(\"q_value <= 0.05\")\n",
    "\n",
    "# Physical and genetic interactions taken from TheBioGrid project\n",
    "# full_interactome_df = pd.read_table(\"./data/interactions/yeast_interactome.csv\")\n",
    "# full_interactome_df = full_interactome_df[full_interactome_df['Publication year'] <= 2011]\n",
    "\n",
    "# genetic_interaction_categories = [\n",
    "#     \"additive genetic interaction defined by inequality\",\n",
    "#     \"suppressive genetic interaction defined by inequality\",\n",
    "#     \"synthetic genetic interaction defined by inequality\"\n",
    "# ]\n",
    "# physical_interaction_categories = [\n",
    "#     \"association\",\n",
    "#     \"colocalization\",   \n",
    "#     \"direct interaction\",\n",
    "#     \"physical association\"\n",
    "# ]\n",
    "# \n",
    "# interaction_categories = genetic_interaction_categories + physical_interaction_categories\n",
    "# interactome_df = full_interactome_df.copy()\n",
    "# interactome_df.set_index('Interaction Type', inplace=True)\n",
    "# genetic_interactions_df = interactome_df[\n",
    "#     interactome_df.index.isin(genetic_interaction_categories)\n",
    "# ]\n",
    "# physical_interactions_df = interactome_df[\n",
    "#     interactome_df.index.isin(physical_interaction_categories)\n",
    "# ]\n",
    "# \n",
    "# def extract_interactions(interactions_df):\n",
    "#     ''' Helper function to retrieve the edges of the graph of interactions '''\n",
    "#     return interactions_df[[\"Interactor A\", \"Interactor B\"]].values\n",
    "# \n",
    "# interactome_graphs_dict = {}\n",
    "# for category_name in interaction_categories + [\"all\", \"genetic\", \"physical\"]:\n",
    "#     with open(\"./data/interactions/{}_interactions_graph.pkl\".format(category_name), \"rb\") as pickle_file:\n",
    "#         interactome_graphs_dict[category_name] = pickle.load(pickle_file)\n",
    "# interactome_graph = interactome_graphs_dict[\"physical\"]\n"
   ]
  },
  {
   "cell_type": "markdown",
   "metadata": {},
   "source": [
    "## Introduction and problem formulation"
   ]
  },
  {
   "cell_type": "markdown",
   "metadata": {},
   "source": [
    "It seems rational to suppose that transcription and translation levels must be controlled by similar genetic mechanisms.  \n",
    "Unfortunately, at the first sight there is no evidence to support that intuition: sets of eQTLs and pQTLs linked to given gene show no significant overlap for almost all genes. This is illustrated by the histogram below."
   ]
  },
  {
   "cell_type": "code",
   "execution_count": 83,
   "metadata": {
    "collapsed": false
   },
   "outputs": [
    {
     "data": {
      "image/png": "[encoded data removed]",
      "text/plain": [
       "<Figure size 2160x720 with 2 Axes>"
      ]
     },
     "metadata": {},
     "output_type": "display_data"
    },
    {
     "name": "stdout",
     "output_type": "stream",
     "text": [
      "CPU times: user 4.86 s, sys: 24 ms, total: 4.88 s\nWall time: 4.94 s\n"
     ]
    }
   ],
   "source": [
    "%%time\n",
    "\n",
    "reload(qtls)\n",
    "gene_pool = np.intersect1d(expression_df[\"eQTLs_old\"][\"gene\"], expression_df[\"pQTLs\"][\"gene\"])\n",
    "\n",
    "linkage_overlap_data = []\n",
    "for gene_name in gene_pool:\n",
    "    linked_eQTLs = qtls.linked_markers(qtls_df[\"eQTLs_old\"], [gene_name])\n",
    "    linked_pQTLs = qtls.linked_markers(qtls_df[\"pQTLs\"], [gene_name])\n",
    "    linkage_overlap_data.append(qtls.jaccard(set(linked_eQTLs), set(linked_pQTLs)))\n",
    "\n",
    "qtls.qtl_overlap_hist(linkage_overlap_data, \"eQTLs_pQTLs_old\")\n"
   ]
  },
  {
   "cell_type": "code",
   "execution_count": 10,
   "metadata": {},
   "outputs": [
    {
     "data": {
      "text/html": [
       "<div>\n",
       "<style scoped>\n",
       "    .dataframe tbody tr th:only-of-type {\n",
       "        vertical-align: middle;\n",
       "    }\n",
       "\n",
       "    .dataframe tbody tr th {\n",
       "        vertical-align: top;\n",
       "    }\n",
       "\n",
       "    .dataframe thead th {\n",
       "        text-align: right;\n",
       "    }\n",
       "</style>\n",
       "<table border=\"1\" class=\"dataframe\">\n",
       "  <thead>\n",
       "    <tr style=\"text-align: right;\">\n",
       "      <th></th>\n",
       "      <th>q_cutoff</th>\n",
       "      <th>real_mean</th>\n",
       "      <th>random_mean</th>\n",
       "      <th>random_median</th>\n",
       "    </tr>\n",
       "  </thead>\n",
       "  <tbody>\n",
       "    <tr>\n",
       "      <th>0</th>\n",
       "      <td>0.00001</td>\n",
       "      <td>0.037566</td>\n",
       "      <td>0.032253</td>\n",
       "      <td>0.031037</td>\n",
       "    </tr>\n",
       "    <tr>\n",
       "      <th>1</th>\n",
       "      <td>0.00010</td>\n",
       "      <td>0.030541</td>\n",
       "      <td>0.028900</td>\n",
       "      <td>0.027287</td>\n",
       "    </tr>\n",
       "    <tr>\n",
       "      <th>2</th>\n",
       "      <td>0.00100</td>\n",
       "      <td>0.038020</td>\n",
       "      <td>0.029751</td>\n",
       "      <td>0.028188</td>\n",
       "    </tr>\n",
       "    <tr>\n",
       "      <th>3</th>\n",
       "      <td>0.01000</td>\n",
       "      <td>0.027084</td>\n",
       "      <td>0.023223</td>\n",
       "      <td>0.022694</td>\n",
       "    </tr>\n",
       "  </tbody>\n",
       "</table>\n",
       "</div>"
      ],
      "text/plain": [
       "<div>\n",
       "<style scoped>\n",
       "    .dataframe tbody tr th:only-of-type {\n",
       "        vertical-align: middle;\n",
       "    }\n",
       "\n",
       "    .dataframe tbody tr th {\n",
       "        vertical-align: top;\n",
       "    }\n",
       "\n",
       "    .dataframe thead th {\n",
       "        text-align: right;\n",
       "    }\n",
       "</style>\n",
       "<table border=\"1\" class=\"dataframe\">\n",
       "  <thead>\n",
       "    <tr style=\"text-align: right;\">\n",
       "      <th></th>\n",
       "      <th>q_cutoff</th>\n",
       "      <th>real_mean</th>\n",
       "      <th>random_mean</th>\n",
       "      <th>random_median</th>\n",
       "    </tr>\n",
       "  </thead>\n",
       "  <tbody>\n",
       "    <tr>\n",
       "      <th>0</th>\n",
       "      <td>0.00001</td>\n",
       "      <td>0.037566</td>\n",
       "      <td>0.032253</td>\n",
       "      <td>0.031037</td>\n",
       "    </tr>\n",
       "    <tr>\n",
       "      <th>1</th>\n",
       "      <td>0.00010</td>\n",
       "      <td>0.030541</td>\n",
       "      <td>0.028900</td>\n",
       "      <td>0.027287</td>\n",
       "    </tr>\n",
       "    <tr>\n",
       "      <th>2</th>\n",
       "      <td>0.00100</td>\n",
       "      <td>0.038020</td>\n",
       "      <td>0.029751</td>\n",
       "      <td>0.028188</td>\n",
       "    </tr>\n",
       "    <tr>\n",
       "      <th>3</th>\n",
       "      <td>0.01000</td>\n",
       "      <td>0.027084</td>\n",
       "      <td>0.023223</td>\n",
       "      <td>0.022694</td>\n",
       "    </tr>\n",
       "  </tbody>\n",
       "</table>\n",
       "</div>"
      ]
     },
     "execution_count": 0,
     "metadata": {},
     "output_type": "execute_result"
    },
    {
     "name": "stdout",
     "output_type": "stream",
     "text": [
      "CPU times: user 26min 13s, sys: 1.25 s, total: 26min 14s\nWall time: 26min 21s\n"
     ]
    }
   ],
   "source": [
    "%%time\n",
    "\n",
    "\"\"\" Using simple PPIN-based test to assess whether interacting genes really have better eQTL/pQTL intersection \n",
    "    TODO: вычислять доверительные интервалы\n",
    "\"\"\"\n",
    "\n",
    "def eQTL_pQTL_similarity_ppin_test(qtl_type2graph, interactome_graph):\n",
    "    scores = []\n",
    "    for marker in np.intersect1d(qtl_type2graph[\"eQTLs\"].vs.select(part=0)[\"name\"], \n",
    "                                 qtl_type2graph[\"pQTLs\"].vs.select(part=0)[\"name\"]):\n",
    "        linked = {}\n",
    "        for qtl_type in [\"eQTLs\", \"pQTLs\"]:\n",
    "            linked[qtl_type] = set(qtl_type2graph[qtl_type].vs[qtl_type2graph[qtl_type].neighborhood(marker, mode=\"out\")][\"name\"])\n",
    "            linked[qtl_type].remove(marker)\n",
    "        matches = len(linked[\"eQTLs\"] & linked[\"pQTLs\"])\n",
    "        tests_count = len(linked[\"eQTLs\"]) * len(linked[\"pQTLs\"])\n",
    "        for qtl_type in [\"eQTLs\", \"pQTLs\"]:\n",
    "            linked[qtl_type] &= set(interactome_graph.vs[\"name\"])\n",
    "        for eQTL_gene in linked[\"eQTLs\"]:\n",
    "            for pQTL_gene in linked[\"pQTLs\"]:\n",
    "                if eQTL_gene != pQTL_gene \\\n",
    "                        and interactome_graph.are_connected(eQTL_gene, pQTL_gene): \n",
    "                    matches += 1\n",
    "        scores.append(matches / tests_count)\n",
    "    return np.mean(scores)\n",
    "\n",
    "tuples_for_df = []\n",
    "for q_cutoff in 10. ** np.arange(-5, -1):\n",
    "    qtl_graph = {\"eQTLs\" : networks.graph_from_edges(qtls_df[\"eQTLs_old\"].query(\"q_value <= {}\".format(q_cutoff))[[\"SNP\", \"gene\"]].values, directed=True),\n",
    "                 \"pQTLs\" : networks.graph_from_edges(qtls_df[\"pQTLs\"].query(\"q_value <= {}\".format(q_cutoff))[[\"SNP\", \"gene\"]].values, directed=True)}\n",
    "    \n",
    "    real_test_results = eQTL_pQTL_similarity_ppin_test(qtl_graph, interactome_graph)\n",
    "    randomized_test_results = []\n",
    "    for i in range(1024):\n",
    "        with open(\"./data/randomized_interactome_copies/physical/{}.pkl\".format(i), \"rb\") as pickle_file:\n",
    "            randomized_interactome_graph = pickle.load(pickle_file)\n",
    "            randomized_test_results.append(\n",
    "                eQTL_pQTL_similarity_ppin_test(qtl_graph, randomized_interactome_graph)\n",
    "            )\n",
    "    tuples_for_df.append((q_cutoff, real_test_results, np.mean(randomized_test_results)))\n",
    "    \n",
    "results_df = pd.DataFrame(tuples_for_df, columns=[\"q_cutoff\", \"real_mean\", \"random_mean\"])\n",
    "results_df.to_csv(\"./data/interactions/eQTL_pQTL_intersection.csv\", sep='\\t', index=False)\n",
    "display(results_df)\n",
    "\n",
    "        "
   ]
  },
  {
   "cell_type": "code",
   "execution_count": 68,
   "metadata": {},
   "outputs": [
    {
     "name": "stdout",
     "output_type": "stream",
     "text": [
      "q-value threshold: 1e-05\n"
     ]
    },
    {
     "name": "stdout",
     "output_type": "stream",
     "text": [
      "thecellmap\tJ: 0.2638\trJ: 0.2044\n"
     ]
    },
    {
     "name": "stdout",
     "output_type": "stream",
     "text": [
      "kegg_modules\tJ: 0.3941\trJ: 0.21\n"
     ]
    },
    {
     "name": "stdout",
     "output_type": "stream",
     "text": [
      "kegg_pathways\tJ: 0.3736\trJ: 0.1924\n"
     ]
    },
    {
     "name": "stdout",
     "output_type": "stream",
     "text": [
      "geneontology\tJ: 0.1954\trJ: 0.1916\n\n\nq-value threshold: 0.0001\n"
     ]
    },
    {
     "name": "stdout",
     "output_type": "stream",
     "text": [
      "thecellmap\tJ: 0.2617\trJ: 0.2339\n"
     ]
    },
    {
     "name": "stdout",
     "output_type": "stream",
     "text": [
      "kegg_modules\tJ: 0.3454\trJ: 0.2385\n"
     ]
    },
    {
     "name": "stdout",
     "output_type": "stream",
     "text": [
      "kegg_pathways\tJ: 0.3814\trJ: 0.2298\n"
     ]
    },
    {
     "name": "stdout",
     "output_type": "stream",
     "text": [
      "geneontology\tJ: 0.237\trJ: 0.2301\n\n\nq-value threshold: 0.001\n"
     ]
    },
    {
     "name": "stdout",
     "output_type": "stream",
     "text": [
      "thecellmap\tJ: 0.3116\trJ: 0.2699\n"
     ]
    },
    {
     "name": "stdout",
     "output_type": "stream",
     "text": [
      "kegg_modules\tJ: 0.2909\trJ: 0.2763\n"
     ]
    },
    {
     "name": "stdout",
     "output_type": "stream",
     "text": [
      "kegg_pathways\tJ: 0.3397\trJ: 0.2639\n"
     ]
    },
    {
     "name": "stdout",
     "output_type": "stream",
     "text": [
      "geneontology\tJ: 0.2655\trJ: 0.2634\n\n\nq-value threshold: 0.01\n"
     ]
    },
    {
     "name": "stdout",
     "output_type": "stream",
     "text": [
      "thecellmap\tJ: 0.3154\trJ: 0.324\n"
     ]
    },
    {
     "name": "stdout",
     "output_type": "stream",
     "text": [
      "kegg_modules\tJ: 0.2753\trJ: 0.3243\n"
     ]
    },
    {
     "name": "stdout",
     "output_type": "stream",
     "text": [
      "kegg_pathways\tJ: 0.3996\trJ: 0.3426\n"
     ]
    },
    {
     "name": "stdout",
     "output_type": "stream",
     "text": [
      "geneontology\tJ: 0.3491\trJ: 0.3466\n\n\nCPU times: user 5min 53s, sys: 3min 8s, total: 9min 2s\nWall time: 9min 2s\n"
     ]
    }
   ],
   "source": [
    "%%time\n",
    "\n",
    "\"\"\" TODO: доверительные интервалы \"\"\"\n",
    "\n",
    "gene_pool = np.intersect1d(expression_df[\"eQTLs_old\"][\"gene\"].values, expression_df[\"pQTLs\"][\"gene\"].values)\n",
    "for q_cutoff in 10. ** np.arange(-5, -1):\n",
    "    print(\"q-value threshold: {}\".format(q_cutoff))\n",
    "    for modules_type in [\"thecellmap\", \"kegg_modules\", \"kegg_pathways\", \"geneontology\"]:\n",
    "        qtl_graph = {\"eQTLs\" : networks.graph_from_edges(qtls_df[\"eQTLs_old\"].query(\"q_value <= {}\".format(q_cutoff))[[\"SNP\", \"gene\"]].values, directed=True),\n",
    "                     \"pQTLs\" : networks.graph_from_edges(qtls_df[\"pQTLs\"].query(\"q_value <= {}\".format(q_cutoff))[[\"SNP\", \"gene\"]].values, directed=True)}\n",
    "        with open(\"./results/{}/modules_dict.pkl\".format(modules_type), \"rb\") as pickle_file:\n",
    "            modules_dict = pickle.load(pickle_file)\n",
    "        module_genes_union = np.intersect1d(np.unique(np.hstack(modules_dict.values())), gene_pool)\n",
    "        module_qtls = {}\n",
    "        for qtl_type in [\"eQTLs\", \"pQTLs\"]:\n",
    "            genes_with_linkages = np.intersect1d(module_genes_union, qtl_graph[qtl_type].vs.select(part=1)[\"name\"])\n",
    "            induced_subgraph = qtl_graph[qtl_type].subgraph(np.unique(np.hstack(qtl_graph[qtl_type].neighborhood(genes_with_linkages))))\n",
    "            module_qtls[qtl_type] = [(marker, modules_type) for marker in induced_subgraph.vs.select(part=0)[\"name\"]]\n",
    "            \n",
    "        randomized_J_scores = []\n",
    "        for i in range(1024):\n",
    "            randomized_modules = [np.random.RandomState().choice(gene_pool, len(module_genes)) for module_genes in modules_dict.values()]\n",
    "            randomized_module_genes_union = np.unique(np.hstack(randomized_modules))\n",
    "            randomized_module_qtls = {}\n",
    "            for qtl_type in [\"eQTLs\", \"pQTLs\"]:\n",
    "                genes_with_linkages = np.intersect1d(randomized_module_genes_union, qtl_graph[qtl_type].vs.select(part=1)[\"name\"])\n",
    "                induced_subgraph = qtl_graph[qtl_type].subgraph(np.unique(np.hstack(qtl_graph[qtl_type].neighborhood(genes_with_linkages))))\n",
    "                randomized_module_qtls[qtl_type] = [(marker, modules_type) for marker in induced_subgraph.vs.select(part=0)[\"name\"]]\n",
    "            randomized_J_scores.append(qtls.jaccard(set(randomized_module_qtls[\"eQTLs\"]), set(randomized_module_qtls[\"pQTLs\"])))\n",
    "        print(\"{}\\tJ: {:.4}\\trJ: {:.4}\".format(\n",
    "            modules_type, \n",
    "            qtls.jaccard(set(module_qtls[\"eQTLs\"]), set(module_qtls[\"pQTLs\"])),\n",
    "            np.mean(randomized_J_scores)\n",
    "        ))\n",
    "    print(\"\\n\")"
   ]
  },
  {
   "cell_type": "markdown",
   "metadata": {},
   "source": [
    "Hypothesis arises: maybe not single genes, but functional modules tend to share linkages.  \n",
    "The goal of this work is to test that hypothesis using yeast interactome data."
   ]
  },
  {
   "cell_type": "markdown",
   "metadata": {},
   "source": [
    "## Module processing"
   ]
  },
  {
   "cell_type": "markdown",
   "metadata": {},
   "source": [
    "## Predicting pQTLs from eQTLs using PPI networks"
   ]
  },
  {
   "cell_type": "markdown",
   "metadata": {},
   "source": [
    "Now, when approach using interaction networks is justified, it's time to provide solid ground: if significant fraction of pQTLs can be rediscovered from eQTLs linked to genes interacting with given (including itself), it will serve as an additional evidence for hypothesis being actually true (once again, no sophisticated clustering was performed here, while it would possibly yield better results).  \n",
    "\n",
    "The main idea is not to test all (marker, gene) pairs but to filter for trusted only. In order to get rid of the pairs that will not link (or at least to dump more false than real linkages), the following approach is proposed: \n",
    "1. For each gene with measured protein abundance select its eQTL linkages as candidates into pQTLs. \n",
    "2. Extend eQTL linkages with those of the interacting genes. \n",
    "\n",
    "FDR decreases for the same q-value threshold, which results in more trustworthy observations."
   ]
  },
  {
   "cell_type": "markdown",
   "metadata": {},
   "source": [
    "Here is some statistics computed from some subgraphs of the interactome. \n",
    "\n",
    "**Physical interactions only**:   \n",
    "- Common linkages: 2021, 32.7977929243752%\n",
    "- Old linkages, total: 6162\n",
    "- New linkages, total: 4048\n",
    "- New linkages found: 2027\n",
    "\n",
    "**Full interactome**:\n",
    "- Common linkages: 3688, 59.85069782538137%\n",
    "- Old linkages, total: 6162\n",
    "- New linkages, total: 6219\n",
    "- New linkages found: 2531\n",
    "\n",
    "It becomes evident, that a significant fraction of estimated pQTLs can be reproduced using this approach.  \n",
    "**Nevertheless, many questions arise**:\n",
    "- Which fraction of trans-pQTLs is reproduced? (and is this approach capable of detecting those)\n",
    "- Are all the hotspots reproduced? If some are not, why then? It is worth mentioning, that some of those were given cryptic names which are nowhere to be found. \n",
    "- How robust the results are? So far results are not compared with those computed from simulated, perturbed graphs. "
   ]
  },
  {
   "cell_type": "code",
   "execution_count": 12,
   "metadata": {},
   "outputs": [],
   "source": [
    "modules_type = \"thecellmap\"\n",
    "with open(\"./results/{}/modules_dict.pkl\".format(modules_type), \"rb\") as pickle_file:\n",
    "    modules_dict = pickle.load(pickle_file)\n",
    "fdr_cutoffs = np.logspace(-5, -2, 10)"
   ]
  },
  {
   "cell_type": "code",
   "execution_count": 13,
   "metadata": {
    "collapsed": true
   },
   "outputs": [
    {
     "data": {
      "text/html": [
       "<div>\n",
       "<style scoped>\n",
       "    .dataframe tbody tr th:only-of-type {\n",
       "        vertical-align: middle;\n",
       "    }\n",
       "\n",
       "    .dataframe tbody tr th {\n",
       "        vertical-align: top;\n",
       "    }\n",
       "\n",
       "    .dataframe thead th {\n",
       "        text-align: right;\n",
       "    }\n",
       "</style>\n",
       "<table border=\"1\" class=\"dataframe\">\n",
       "  <thead>\n",
       "    <tr style=\"text-align: right;\">\n",
       "      <th></th>\n",
       "      <th>module_name</th>\n",
       "      <th>genes_count</th>\n",
       "      <th>genes_with_interactions</th>\n",
       "      <th>interactions_count</th>\n",
       "    </tr>\n",
       "  </thead>\n",
       "  <tbody>\n",
       "    <tr>\n",
       "      <th>6</th>\n",
       "      <td>Mitosis &amp; chromosome segregation</td>\n",
       "      <td>199</td>\n",
       "      <td>149</td>\n",
       "      <td>2478</td>\n",
       "    </tr>\n",
       "    <tr>\n",
       "      <th>12</th>\n",
       "      <td>Glycosylation, protein folding|targeting, cell...</td>\n",
       "      <td>160</td>\n",
       "      <td>140</td>\n",
       "      <td>549</td>\n",
       "    </tr>\n",
       "    <tr>\n",
       "      <th>5</th>\n",
       "      <td>Respiration, oxidative phosphorylation, mitoch...</td>\n",
       "      <td>138</td>\n",
       "      <td>135</td>\n",
       "      <td>318</td>\n",
       "    </tr>\n",
       "    <tr>\n",
       "      <th>15</th>\n",
       "      <td>Transcription &amp; chromatin organization</td>\n",
       "      <td>110</td>\n",
       "      <td>85</td>\n",
       "      <td>1575</td>\n",
       "    </tr>\n",
       "    <tr>\n",
       "      <th>3</th>\n",
       "      <td>Cell polarity &amp; morphogenesis</td>\n",
       "      <td>102</td>\n",
       "      <td>64</td>\n",
       "      <td>966</td>\n",
       "    </tr>\n",
       "    <tr>\n",
       "      <th>14</th>\n",
       "      <td>mRNA &amp; tRNA processing</td>\n",
       "      <td>96</td>\n",
       "      <td>84</td>\n",
       "      <td>1126</td>\n",
       "    </tr>\n",
       "    <tr>\n",
       "      <th>4</th>\n",
       "      <td>Vesicle traffic</td>\n",
       "      <td>95</td>\n",
       "      <td>84</td>\n",
       "      <td>770</td>\n",
       "    </tr>\n",
       "    <tr>\n",
       "      <th>7</th>\n",
       "      <td>DNA replication &amp; repair</td>\n",
       "      <td>95</td>\n",
       "      <td>75</td>\n",
       "      <td>926</td>\n",
       "    </tr>\n",
       "    <tr>\n",
       "      <th>0</th>\n",
       "      <td>rDNA &amp; ncDNA processing</td>\n",
       "      <td>90</td>\n",
       "      <td>76</td>\n",
       "      <td>1055</td>\n",
       "    </tr>\n",
       "    <tr>\n",
       "      <th>13</th>\n",
       "      <td>Ribosome biogenesis</td>\n",
       "      <td>74</td>\n",
       "      <td>70</td>\n",
       "      <td>65</td>\n",
       "    </tr>\n",
       "    <tr>\n",
       "      <th>9</th>\n",
       "      <td>Protein degradation|turnover</td>\n",
       "      <td>59</td>\n",
       "      <td>44</td>\n",
       "      <td>1310</td>\n",
       "    </tr>\n",
       "    <tr>\n",
       "      <th>1</th>\n",
       "      <td>Nuclear-cytoplasmic transport</td>\n",
       "      <td>39</td>\n",
       "      <td>35</td>\n",
       "      <td>361</td>\n",
       "    </tr>\n",
       "    <tr>\n",
       "      <th>8</th>\n",
       "      <td>Peroxisome</td>\n",
       "      <td>24</td>\n",
       "      <td>22</td>\n",
       "      <td>295</td>\n",
       "    </tr>\n",
       "    <tr>\n",
       "      <th>10</th>\n",
       "      <td>MVB sorting and pH depending signaling</td>\n",
       "      <td>21</td>\n",
       "      <td>21</td>\n",
       "      <td>155</td>\n",
       "    </tr>\n",
       "    <tr>\n",
       "      <th>2</th>\n",
       "      <td>tRNA wobble modification</td>\n",
       "      <td>16</td>\n",
       "      <td>14</td>\n",
       "      <td>249</td>\n",
       "    </tr>\n",
       "    <tr>\n",
       "      <th>11</th>\n",
       "      <td>Cytokinesis</td>\n",
       "      <td>13</td>\n",
       "      <td>4</td>\n",
       "      <td>135</td>\n",
       "    </tr>\n",
       "    <tr>\n",
       "      <th>16</th>\n",
       "      <td>Metabolism</td>\n",
       "      <td>11</td>\n",
       "      <td>11</td>\n",
       "      <td>1</td>\n",
       "    </tr>\n",
       "  </tbody>\n",
       "</table>\n",
       "</div>"
      ],
      "text/plain": [
       "<div>\n",
       "<style scoped>\n",
       "    .dataframe tbody tr th:only-of-type {\n",
       "        vertical-align: middle;\n",
       "    }\n",
       "\n",
       "    .dataframe tbody tr th {\n",
       "        vertical-align: top;\n",
       "    }\n",
       "\n",
       "    .dataframe thead th {\n",
       "        text-align: right;\n",
       "    }\n",
       "</style>\n",
       "<table border=\"1\" class=\"dataframe\">\n",
       "  <thead>\n",
       "    <tr style=\"text-align: right;\">\n",
       "      <th></th>\n",
       "      <th>module_name</th>\n",
       "      <th>genes_count</th>\n",
       "      <th>genes_with_interactions</th>\n",
       "      <th>interactions_count</th>\n",
       "    </tr>\n",
       "  </thead>\n",
       "  <tbody>\n",
       "    <tr>\n",
       "      <th>6</th>\n",
       "      <td>Mitosis &amp; chromosome segregation</td>\n",
       "      <td>199</td>\n",
       "      <td>149</td>\n",
       "      <td>2478</td>\n",
       "    </tr>\n",
       "    <tr>\n",
       "      <th>12</th>\n",
       "      <td>Glycosylation, protein folding|targeting, cell...</td>\n",
       "      <td>160</td>\n",
       "      <td>140</td>\n",
       "      <td>549</td>\n",
       "    </tr>\n",
       "    <tr>\n",
       "      <th>5</th>\n",
       "      <td>Respiration, oxidative phosphorylation, mitoch...</td>\n",
       "      <td>138</td>\n",
       "      <td>135</td>\n",
       "      <td>318</td>\n",
       "    </tr>\n",
       "    <tr>\n",
       "      <th>15</th>\n",
       "      <td>Transcription &amp; chromatin organization</td>\n",
       "      <td>110</td>\n",
       "      <td>85</td>\n",
       "      <td>1575</td>\n",
       "    </tr>\n",
       "    <tr>\n",
       "      <th>3</th>\n",
       "      <td>Cell polarity &amp; morphogenesis</td>\n",
       "      <td>102</td>\n",
       "      <td>64</td>\n",
       "      <td>966</td>\n",
       "    </tr>\n",
       "    <tr>\n",
       "      <th>14</th>\n",
       "      <td>mRNA &amp; tRNA processing</td>\n",
       "      <td>96</td>\n",
       "      <td>84</td>\n",
       "      <td>1126</td>\n",
       "    </tr>\n",
       "    <tr>\n",
       "      <th>4</th>\n",
       "      <td>Vesicle traffic</td>\n",
       "      <td>95</td>\n",
       "      <td>84</td>\n",
       "      <td>770</td>\n",
       "    </tr>\n",
       "    <tr>\n",
       "      <th>7</th>\n",
       "      <td>DNA replication &amp; repair</td>\n",
       "      <td>95</td>\n",
       "      <td>75</td>\n",
       "      <td>926</td>\n",
       "    </tr>\n",
       "    <tr>\n",
       "      <th>0</th>\n",
       "      <td>rDNA &amp; ncDNA processing</td>\n",
       "      <td>90</td>\n",
       "      <td>76</td>\n",
       "      <td>1055</td>\n",
       "    </tr>\n",
       "    <tr>\n",
       "      <th>13</th>\n",
       "      <td>Ribosome biogenesis</td>\n",
       "      <td>74</td>\n",
       "      <td>70</td>\n",
       "      <td>65</td>\n",
       "    </tr>\n",
       "    <tr>\n",
       "      <th>9</th>\n",
       "      <td>Protein degradation|turnover</td>\n",
       "      <td>59</td>\n",
       "      <td>44</td>\n",
       "      <td>1310</td>\n",
       "    </tr>\n",
       "    <tr>\n",
       "      <th>1</th>\n",
       "      <td>Nuclear-cytoplasmic transport</td>\n",
       "      <td>39</td>\n",
       "      <td>35</td>\n",
       "      <td>361</td>\n",
       "    </tr>\n",
       "    <tr>\n",
       "      <th>8</th>\n",
       "      <td>Peroxisome</td>\n",
       "      <td>24</td>\n",
       "      <td>22</td>\n",
       "      <td>295</td>\n",
       "    </tr>\n",
       "    <tr>\n",
       "      <th>10</th>\n",
       "      <td>MVB sorting and pH depending signaling</td>\n",
       "      <td>21</td>\n",
       "      <td>21</td>\n",
       "      <td>155</td>\n",
       "    </tr>\n",
       "    <tr>\n",
       "      <th>2</th>\n",
       "      <td>tRNA wobble modification</td>\n",
       "      <td>16</td>\n",
       "      <td>14</td>\n",
       "      <td>249</td>\n",
       "    </tr>\n",
       "    <tr>\n",
       "      <th>11</th>\n",
       "      <td>Cytokinesis</td>\n",
       "      <td>13</td>\n",
       "      <td>4</td>\n",
       "      <td>135</td>\n",
       "    </tr>\n",
       "    <tr>\n",
       "      <th>16</th>\n",
       "      <td>Metabolism</td>\n",
       "      <td>11</td>\n",
       "      <td>11</td>\n",
       "      <td>1</td>\n",
       "    </tr>\n",
       "  </tbody>\n",
       "</table>\n",
       "</div>"
      ]
     },
     "execution_count": 0,
     "metadata": {},
     "output_type": "execute_result"
    },
    {
     "data": {
      "text/html": [
       "<div>\n",
       "<style scoped>\n",
       "    .dataframe tbody tr th:only-of-type {\n",
       "        vertical-align: middle;\n",
       "    }\n",
       "\n",
       "    .dataframe tbody tr th {\n",
       "        vertical-align: top;\n",
       "    }\n",
       "\n",
       "    .dataframe thead th {\n",
       "        text-align: right;\n",
       "    }\n",
       "</style>\n",
       "<table border=\"1\" class=\"dataframe\">\n",
       "  <thead>\n",
       "    <tr style=\"text-align: right;\">\n",
       "      <th></th>\n",
       "      <th>module_name</th>\n",
       "      <th>genes_count</th>\n",
       "      <th>genes_with_interactions</th>\n",
       "      <th>interactions_count</th>\n",
       "    </tr>\n",
       "  </thead>\n",
       "  <tbody>\n",
       "    <tr>\n",
       "      <th>6</th>\n",
       "      <td>Mitosis &amp; chromosome segregation</td>\n",
       "      <td>199</td>\n",
       "      <td>145</td>\n",
       "      <td>667</td>\n",
       "    </tr>\n",
       "    <tr>\n",
       "      <th>12</th>\n",
       "      <td>Glycosylation, protein folding|targeting, cell...</td>\n",
       "      <td>160</td>\n",
       "      <td>96</td>\n",
       "      <td>185</td>\n",
       "    </tr>\n",
       "    <tr>\n",
       "      <th>5</th>\n",
       "      <td>Respiration, oxidative phosphorylation, mitoch...</td>\n",
       "      <td>138</td>\n",
       "      <td>88</td>\n",
       "      <td>165</td>\n",
       "    </tr>\n",
       "    <tr>\n",
       "      <th>15</th>\n",
       "      <td>Transcription &amp; chromatin organization</td>\n",
       "      <td>110</td>\n",
       "      <td>81</td>\n",
       "      <td>303</td>\n",
       "    </tr>\n",
       "    <tr>\n",
       "      <th>3</th>\n",
       "      <td>Cell polarity &amp; morphogenesis</td>\n",
       "      <td>102</td>\n",
       "      <td>60</td>\n",
       "      <td>225</td>\n",
       "    </tr>\n",
       "    <tr>\n",
       "      <th>14</th>\n",
       "      <td>mRNA &amp; tRNA processing</td>\n",
       "      <td>96</td>\n",
       "      <td>80</td>\n",
       "      <td>456</td>\n",
       "    </tr>\n",
       "    <tr>\n",
       "      <th>4</th>\n",
       "      <td>Vesicle traffic</td>\n",
       "      <td>95</td>\n",
       "      <td>73</td>\n",
       "      <td>169</td>\n",
       "    </tr>\n",
       "    <tr>\n",
       "      <th>7</th>\n",
       "      <td>DNA replication &amp; repair</td>\n",
       "      <td>95</td>\n",
       "      <td>71</td>\n",
       "      <td>183</td>\n",
       "    </tr>\n",
       "    <tr>\n",
       "      <th>0</th>\n",
       "      <td>rDNA &amp; ncDNA processing</td>\n",
       "      <td>90</td>\n",
       "      <td>68</td>\n",
       "      <td>424</td>\n",
       "    </tr>\n",
       "    <tr>\n",
       "      <th>13</th>\n",
       "      <td>Ribosome biogenesis</td>\n",
       "      <td>74</td>\n",
       "      <td>35</td>\n",
       "      <td>45</td>\n",
       "    </tr>\n",
       "    <tr>\n",
       "      <th>9</th>\n",
       "      <td>Protein degradation|turnover</td>\n",
       "      <td>59</td>\n",
       "      <td>40</td>\n",
       "      <td>253</td>\n",
       "    </tr>\n",
       "    <tr>\n",
       "      <th>1</th>\n",
       "      <td>Nuclear-cytoplasmic transport</td>\n",
       "      <td>39</td>\n",
       "      <td>32</td>\n",
       "      <td>137</td>\n",
       "    </tr>\n",
       "    <tr>\n",
       "      <th>8</th>\n",
       "      <td>Peroxisome</td>\n",
       "      <td>24</td>\n",
       "      <td>16</td>\n",
       "      <td>65</td>\n",
       "    </tr>\n",
       "    <tr>\n",
       "      <th>10</th>\n",
       "      <td>MVB sorting and pH depending signaling</td>\n",
       "      <td>21</td>\n",
       "      <td>19</td>\n",
       "      <td>32</td>\n",
       "    </tr>\n",
       "    <tr>\n",
       "      <th>2</th>\n",
       "      <td>tRNA wobble modification</td>\n",
       "      <td>16</td>\n",
       "      <td>13</td>\n",
       "      <td>33</td>\n",
       "    </tr>\n",
       "    <tr>\n",
       "      <th>11</th>\n",
       "      <td>Cytokinesis</td>\n",
       "      <td>13</td>\n",
       "      <td>4</td>\n",
       "      <td>6</td>\n",
       "    </tr>\n",
       "    <tr>\n",
       "      <th>16</th>\n",
       "      <td>Metabolism</td>\n",
       "      <td>11</td>\n",
       "      <td>0</td>\n",
       "      <td>0</td>\n",
       "    </tr>\n",
       "  </tbody>\n",
       "</table>\n",
       "</div>"
      ],
      "text/plain": [
       "<div>\n",
       "<style scoped>\n",
       "    .dataframe tbody tr th:only-of-type {\n",
       "        vertical-align: middle;\n",
       "    }\n",
       "\n",
       "    .dataframe tbody tr th {\n",
       "        vertical-align: top;\n",
       "    }\n",
       "\n",
       "    .dataframe thead th {\n",
       "        text-align: right;\n",
       "    }\n",
       "</style>\n",
       "<table border=\"1\" class=\"dataframe\">\n",
       "  <thead>\n",
       "    <tr style=\"text-align: right;\">\n",
       "      <th></th>\n",
       "      <th>module_name</th>\n",
       "      <th>genes_count</th>\n",
       "      <th>genes_with_interactions</th>\n",
       "      <th>interactions_count</th>\n",
       "    </tr>\n",
       "  </thead>\n",
       "  <tbody>\n",
       "    <tr>\n",
       "      <th>6</th>\n",
       "      <td>Mitosis &amp; chromosome segregation</td>\n",
       "      <td>199</td>\n",
       "      <td>145</td>\n",
       "      <td>667</td>\n",
       "    </tr>\n",
       "    <tr>\n",
       "      <th>12</th>\n",
       "      <td>Glycosylation, protein folding|targeting, cell...</td>\n",
       "      <td>160</td>\n",
       "      <td>96</td>\n",
       "      <td>185</td>\n",
       "    </tr>\n",
       "    <tr>\n",
       "      <th>5</th>\n",
       "      <td>Respiration, oxidative phosphorylation, mitoch...</td>\n",
       "      <td>138</td>\n",
       "      <td>88</td>\n",
       "      <td>165</td>\n",
       "    </tr>\n",
       "    <tr>\n",
       "      <th>15</th>\n",
       "      <td>Transcription &amp; chromatin organization</td>\n",
       "      <td>110</td>\n",
       "      <td>81</td>\n",
       "      <td>303</td>\n",
       "    </tr>\n",
       "    <tr>\n",
       "      <th>3</th>\n",
       "      <td>Cell polarity &amp; morphogenesis</td>\n",
       "      <td>102</td>\n",
       "      <td>60</td>\n",
       "      <td>225</td>\n",
       "    </tr>\n",
       "    <tr>\n",
       "      <th>14</th>\n",
       "      <td>mRNA &amp; tRNA processing</td>\n",
       "      <td>96</td>\n",
       "      <td>80</td>\n",
       "      <td>456</td>\n",
       "    </tr>\n",
       "    <tr>\n",
       "      <th>4</th>\n",
       "      <td>Vesicle traffic</td>\n",
       "      <td>95</td>\n",
       "      <td>73</td>\n",
       "      <td>169</td>\n",
       "    </tr>\n",
       "    <tr>\n",
       "      <th>7</th>\n",
       "      <td>DNA replication &amp; repair</td>\n",
       "      <td>95</td>\n",
       "      <td>71</td>\n",
       "      <td>183</td>\n",
       "    </tr>\n",
       "    <tr>\n",
       "      <th>0</th>\n",
       "      <td>rDNA &amp; ncDNA processing</td>\n",
       "      <td>90</td>\n",
       "      <td>68</td>\n",
       "      <td>424</td>\n",
       "    </tr>\n",
       "    <tr>\n",
       "      <th>13</th>\n",
       "      <td>Ribosome biogenesis</td>\n",
       "      <td>74</td>\n",
       "      <td>35</td>\n",
       "      <td>45</td>\n",
       "    </tr>\n",
       "    <tr>\n",
       "      <th>9</th>\n",
       "      <td>Protein degradation|turnover</td>\n",
       "      <td>59</td>\n",
       "      <td>40</td>\n",
       "      <td>253</td>\n",
       "    </tr>\n",
       "    <tr>\n",
       "      <th>1</th>\n",
       "      <td>Nuclear-cytoplasmic transport</td>\n",
       "      <td>39</td>\n",
       "      <td>32</td>\n",
       "      <td>137</td>\n",
       "    </tr>\n",
       "    <tr>\n",
       "      <th>8</th>\n",
       "      <td>Peroxisome</td>\n",
       "      <td>24</td>\n",
       "      <td>16</td>\n",
       "      <td>65</td>\n",
       "    </tr>\n",
       "    <tr>\n",
       "      <th>10</th>\n",
       "      <td>MVB sorting and pH depending signaling</td>\n",
       "      <td>21</td>\n",
       "      <td>19</td>\n",
       "      <td>32</td>\n",
       "    </tr>\n",
       "    <tr>\n",
       "      <th>2</th>\n",
       "      <td>tRNA wobble modification</td>\n",
       "      <td>16</td>\n",
       "      <td>13</td>\n",
       "      <td>33</td>\n",
       "    </tr>\n",
       "    <tr>\n",
       "      <th>11</th>\n",
       "      <td>Cytokinesis</td>\n",
       "      <td>13</td>\n",
       "      <td>4</td>\n",
       "      <td>6</td>\n",
       "    </tr>\n",
       "    <tr>\n",
       "      <th>16</th>\n",
       "      <td>Metabolism</td>\n",
       "      <td>11</td>\n",
       "      <td>0</td>\n",
       "      <td>0</td>\n",
       "    </tr>\n",
       "  </tbody>\n",
       "</table>\n",
       "</div>"
      ]
     },
     "execution_count": 0,
     "metadata": {},
     "output_type": "execute_result"
    },
    {
     "name": "stdout",
     "output_type": "stream",
     "text": [
      "CPU times: user 8.65 s, sys: 16 ms, total: 8.66 s\nWall time: 9.33 s\n"
     ]
    }
   ],
   "source": [
    "\"\"\"Basic information about the functional modules: numbers of vertices and edges for pseudo- and simple subgraphs spanned by modules' genes\"\"\"\n",
    "%%time\n",
    "\n",
    "for simplify_flag in [False, True]:\n",
    "    modules_stats = networks.basic_module_info(\n",
    "         interactome_graph=interactome_graph, \n",
    "         modules_dict=modules_dict, \n",
    "         modules_type=modules_type,\n",
    "         simplify=simplify_flag)\n",
    "    modules_stats.to_csv(\"./results/{}/\".format(modules_type) \n",
    "              + (\"simplified\" if simplify_flag else \"raw\") \n",
    "              + \"_module_stats.csv\", sep='\\t', index=False)\n",
    "    display(modules_stats.sort_values(by=\"genes_count\", ascending=False))"
   ]
  },
  {
   "cell_type": "code",
   "execution_count": 9,
   "metadata": {},
   "outputs": [],
   "source": [
    "gene_pool = np.intersect1d(expression_df[\"eQTLs_interpolated\"][\"gene\"], expression_df[\"pQTLs\"][\"gene\"])"
   ]
  },
  {
   "cell_type": "code",
   "execution_count": 18,
   "metadata": {},
   "outputs": [
    {
     "name": "stdout",
     "output_type": "stream",
     "text": [
      "CPU times: user 2.1 s, sys: 180 ms, total: 2.28 s\nWall time: 13min 5s\n"
     ]
    }
   ],
   "source": [
    "\n",
    "%%time\n",
    "reload(qtls)\n",
    "\n",
    "def calculate_eqtl_pqtl_intersection(modules_type):\n",
    "    with open(\"./results/{}/modules_dict.pkl\".format(modules_type), \"rb\") as pickle_file:\n",
    "        modules_dict = pickle.load(pickle_file)\n",
    "    for eqtls_type in [\"old\"]:\n",
    "        print(\"{}: {}\".format(modules_type, eqtls_type))\n",
    "        pd.DataFrame(\n",
    "            [\n",
    "                (q_cutoff, *qtls.qtl_overlap_test(qtls_df[\"eQTLs_{}\".format(eqtls_type)].query(\"q_value < {}\".format(q_cutoff)),\n",
    "                                                  qtls_df[\"pQTLs\"].query(\"q_value < {}\".format(q_cutoff)),\n",
    "                                                  gene_pool, modules_dict))\n",
    "                for q_cutoff in 10.**np.arange(-8, -1)\n",
    "            ],\n",
    "            columns = [\"q_value_cutoff\", \"real_modules\", \"random_modules\"],\n",
    "            dtype=np.float32\n",
    "        ).to_csv(\"./results/{}/eQTL_pQTL_intersection_{}.csv\".format(modules_type, eqtls_type), sep='\\t', index=False)\n",
    "        \n",
    "module_types = [\"geneontology\"]        \n",
    "joblib.Parallel(n_jobs=len(modules_type))(\n",
    "    joblib.delayed(calculate_eqtl_pqtl_intersection)(modules_type) \n",
    "    for modules_type in module_types\n",
    ")"
   ]
  },
  {
   "cell_type": "code",
   "execution_count": null,
   "metadata": {},
   "outputs": [],
   "source": []
  },
  {
   "cell_type": "code",
   "execution_count": 6,
   "metadata": {
    "collapsed": false
   },
   "outputs": [
    {
     "name": "stderr",
     "output_type": "stream",
     "text": [
      "\rrandom samples generated:   0%|          | 0/108 [00:00<?, ?it/s]"
     ]
    },
    {
     "name": "stderr",
     "output_type": "stream",
     "text": [
      "\rrandom samples generated:   1%|          | 1/108 [00:00<00:31,  3.38it/s]"
     ]
    },
    {
     "name": "stderr",
     "output_type": "stream",
     "text": [
      "\rrandom samples generated:   2%|▏         | 2/108 [00:00<00:30,  3.53it/s]"
     ]
    },
    {
     "name": "stderr",
     "output_type": "stream",
     "text": [
      "\rrandom samples generated:   3%|▎         | 3/108 [00:00<00:29,  3.53it/s]"
     ]
    },
    {
     "name": "stderr",
     "output_type": "stream",
     "text": [
      "\rrandom samples generated:   4%|▎         | 4/108 [00:01<00:29,  3.49it/s]"
     ]
    },
    {
     "name": "stderr",
     "output_type": "stream",
     "text": [
      "\rrandom samples generated:   5%|▍         | 5/108 [00:01<00:30,  3.34it/s]"
     ]
    },
    {
     "name": "stderr",
     "output_type": "stream",
     "text": [
      "\rrandom samples generated:   6%|▌         | 6/108 [00:01<00:31,  3.25it/s]"
     ]
    },
    {
     "name": "stderr",
     "output_type": "stream",
     "text": [
      "\rrandom samples generated:   6%|▋         | 7/108 [00:02<00:30,  3.28it/s]"
     ]
    },
    {
     "name": "stderr",
     "output_type": "stream",
     "text": [
      "\rrandom samples generated:   7%|▋         | 8/108 [00:02<00:32,  3.11it/s]"
     ]
    },
    {
     "name": "stderr",
     "output_type": "stream",
     "text": [
      "\rrandom samples generated:   8%|▊         | 9/108 [00:02<00:31,  3.14it/s]"
     ]
    },
    {
     "name": "stderr",
     "output_type": "stream",
     "text": [
      "\rrandom samples generated:   9%|▉         | 10/108 [00:03<00:30,  3.17it/s]"
     ]
    },
    {
     "name": "stderr",
     "output_type": "stream",
     "text": [
      "\rrandom samples generated:  10%|█         | 11/108 [00:03<00:30,  3.20it/s]"
     ]
    },
    {
     "name": "stderr",
     "output_type": "stream",
     "text": [
      "\rrandom samples generated:  11%|█         | 12/108 [00:03<00:30,  3.10it/s]"
     ]
    },
    {
     "name": "stderr",
     "output_type": "stream",
     "text": [
      "\rrandom samples generated:  12%|█▏        | 13/108 [00:04<00:30,  3.10it/s]"
     ]
    },
    {
     "name": "stderr",
     "output_type": "stream",
     "text": [
      "\rrandom samples generated:  13%|█▎        | 14/108 [00:04<00:30,  3.11it/s]"
     ]
    },
    {
     "name": "stderr",
     "output_type": "stream",
     "text": [
      "\rrandom samples generated:  14%|█▍        | 15/108 [00:04<00:29,  3.12it/s]"
     ]
    },
    {
     "name": "stderr",
     "output_type": "stream",
     "text": [
      "\rrandom samples generated:  15%|█▍        | 16/108 [00:05<00:29,  3.10it/s]"
     ]
    },
    {
     "name": "stderr",
     "output_type": "stream",
     "text": [
      "\rrandom samples generated:  16%|█▌        | 17/108 [00:05<00:29,  3.07it/s]"
     ]
    },
    {
     "name": "stderr",
     "output_type": "stream",
     "text": [
      "\rrandom samples generated:  17%|█▋        | 18/108 [00:05<00:28,  3.10it/s]"
     ]
    },
    {
     "name": "stderr",
     "output_type": "stream",
     "text": [
      "\rrandom samples generated:  18%|█▊        | 19/108 [00:06<00:28,  3.12it/s]"
     ]
    },
    {
     "name": "stderr",
     "output_type": "stream",
     "text": [
      "\rrandom samples generated:  19%|█▊        | 20/108 [00:06<00:27,  3.15it/s]"
     ]
    },
    {
     "name": "stderr",
     "output_type": "stream",
     "text": [
      "\rrandom samples generated:  19%|█▉        | 21/108 [00:06<00:27,  3.15it/s]"
     ]
    },
    {
     "name": "stderr",
     "output_type": "stream",
     "text": [
      "\rrandom samples generated:  20%|██        | 22/108 [00:06<00:27,  3.16it/s]"
     ]
    },
    {
     "name": "stderr",
     "output_type": "stream",
     "text": [
      "\rrandom samples generated:  21%|██▏       | 23/108 [00:07<00:26,  3.17it/s]"
     ]
    },
    {
     "name": "stderr",
     "output_type": "stream",
     "text": [
      "\rrandom samples generated:  22%|██▏       | 24/108 [00:07<00:27,  3.09it/s]"
     ]
    },
    {
     "name": "stderr",
     "output_type": "stream",
     "text": [
      "\rrandom samples generated:  23%|██▎       | 25/108 [00:08<00:27,  3.07it/s]"
     ]
    },
    {
     "name": "stderr",
     "output_type": "stream",
     "text": [
      "\rrandom samples generated:  24%|██▍       | 26/108 [00:08<00:26,  3.06it/s]"
     ]
    },
    {
     "name": "stderr",
     "output_type": "stream",
     "text": [
      "\rrandom samples generated:  25%|██▌       | 27/108 [00:08<00:26,  3.05it/s]"
     ]
    },
    {
     "name": "stderr",
     "output_type": "stream",
     "text": [
      "\rrandom samples generated:  26%|██▌       | 28/108 [00:09<00:26,  3.05it/s]"
     ]
    },
    {
     "name": "stderr",
     "output_type": "stream",
     "text": [
      "\rrandom samples generated:  27%|██▋       | 29/108 [00:09<00:25,  3.04it/s]"
     ]
    },
    {
     "name": "stderr",
     "output_type": "stream",
     "text": [
      "\rrandom samples generated:  28%|██▊       | 30/108 [00:09<00:25,  3.06it/s]"
     ]
    },
    {
     "name": "stderr",
     "output_type": "stream",
     "text": [
      "\rrandom samples generated:  29%|██▊       | 31/108 [00:10<00:25,  3.05it/s]"
     ]
    },
    {
     "name": "stderr",
     "output_type": "stream",
     "text": [
      "\rrandom samples generated:  30%|██▉       | 32/108 [00:10<00:24,  3.05it/s]"
     ]
    },
    {
     "name": "stderr",
     "output_type": "stream",
     "text": [
      "\rrandom samples generated:  31%|███       | 33/108 [00:10<00:24,  3.06it/s]"
     ]
    },
    {
     "name": "stderr",
     "output_type": "stream",
     "text": [
      "\rrandom samples generated:  31%|███▏      | 34/108 [00:11<00:24,  3.05it/s]"
     ]
    },
    {
     "name": "stderr",
     "output_type": "stream",
     "text": [
      "\rrandom samples generated:  32%|███▏      | 35/108 [00:11<00:23,  3.06it/s]"
     ]
    },
    {
     "name": "stderr",
     "output_type": "stream",
     "text": [
      "\rrandom samples generated:  33%|███▎      | 36/108 [00:11<00:23,  3.04it/s]"
     ]
    },
    {
     "name": "stderr",
     "output_type": "stream",
     "text": [
      "\rrandom samples generated:  34%|███▍      | 37/108 [00:12<00:23,  3.02it/s]"
     ]
    },
    {
     "name": "stderr",
     "output_type": "stream",
     "text": [
      "\rrandom samples generated:  35%|███▌      | 38/108 [00:12<00:23,  3.01it/s]"
     ]
    },
    {
     "name": "stderr",
     "output_type": "stream",
     "text": [
      "\rrandom samples generated:  36%|███▌      | 39/108 [00:12<00:22,  3.02it/s]"
     ]
    },
    {
     "name": "stderr",
     "output_type": "stream",
     "text": [
      "\rrandom samples generated:  37%|███▋      | 40/108 [00:13<00:22,  3.03it/s]"
     ]
    },
    {
     "name": "stderr",
     "output_type": "stream",
     "text": [
      "\rrandom samples generated:  38%|███▊      | 41/108 [00:13<00:22,  3.03it/s]"
     ]
    },
    {
     "name": "stderr",
     "output_type": "stream",
     "text": [
      "\rrandom samples generated:  39%|███▉      | 42/108 [00:13<00:21,  3.04it/s]"
     ]
    },
    {
     "name": "stderr",
     "output_type": "stream",
     "text": [
      "\rrandom samples generated:  40%|███▉      | 43/108 [00:14<00:21,  3.04it/s]"
     ]
    },
    {
     "name": "stderr",
     "output_type": "stream",
     "text": [
      "\rrandom samples generated:  41%|████      | 44/108 [00:14<00:21,  3.05it/s]"
     ]
    },
    {
     "name": "stderr",
     "output_type": "stream",
     "text": [
      "\rrandom samples generated:  42%|████▏     | 45/108 [00:14<00:20,  3.05it/s]"
     ]
    },
    {
     "name": "stderr",
     "output_type": "stream",
     "text": [
      "\rrandom samples generated:  43%|████▎     | 46/108 [00:15<00:20,  3.05it/s]"
     ]
    },
    {
     "name": "stderr",
     "output_type": "stream",
     "text": [
      "\rrandom samples generated:  44%|████▎     | 47/108 [00:15<00:20,  3.05it/s]"
     ]
    },
    {
     "name": "stderr",
     "output_type": "stream",
     "text": [
      "\rrandom samples generated:  44%|████▍     | 48/108 [00:15<00:19,  3.03it/s]"
     ]
    },
    {
     "name": "stderr",
     "output_type": "stream",
     "text": [
      "\rrandom samples generated:  45%|████▌     | 49/108 [00:16<00:19,  3.04it/s]"
     ]
    },
    {
     "name": "stderr",
     "output_type": "stream",
     "text": [
      "\rrandom samples generated:  46%|████▋     | 50/108 [00:16<00:19,  3.05it/s]"
     ]
    },
    {
     "name": "stderr",
     "output_type": "stream",
     "text": [
      "\rrandom samples generated:  47%|████▋     | 51/108 [00:16<00:18,  3.05it/s]"
     ]
    },
    {
     "name": "stderr",
     "output_type": "stream",
     "text": [
      "\rrandom samples generated:  48%|████▊     | 52/108 [00:16<00:18,  3.06it/s]"
     ]
    },
    {
     "name": "stderr",
     "output_type": "stream",
     "text": [
      "\rrandom samples generated:  49%|████▉     | 53/108 [00:17<00:17,  3.06it/s]"
     ]
    },
    {
     "name": "stderr",
     "output_type": "stream",
     "text": [
      "\rrandom samples generated:  50%|█████     | 54/108 [00:17<00:17,  3.07it/s]"
     ]
    },
    {
     "name": "stderr",
     "output_type": "stream",
     "text": [
      "\rrandom samples generated:  51%|█████     | 55/108 [00:18<00:17,  3.05it/s]"
     ]
    },
    {
     "name": "stderr",
     "output_type": "stream",
     "text": [
      "\rrandom samples generated:  52%|█████▏    | 56/108 [00:18<00:17,  3.05it/s]"
     ]
    },
    {
     "name": "stderr",
     "output_type": "stream",
     "text": [
      "\rrandom samples generated:  53%|█████▎    | 57/108 [00:18<00:16,  3.04it/s]"
     ]
    },
    {
     "name": "stderr",
     "output_type": "stream",
     "text": [
      "\rrandom samples generated:  54%|█████▎    | 58/108 [00:19<00:16,  3.04it/s]"
     ]
    },
    {
     "name": "stderr",
     "output_type": "stream",
     "text": [
      "\rrandom samples generated:  55%|█████▍    | 59/108 [00:19<00:16,  3.05it/s]"
     ]
    },
    {
     "name": "stderr",
     "output_type": "stream",
     "text": [
      "\rrandom samples generated:  56%|█████▌    | 60/108 [00:19<00:15,  3.03it/s]"
     ]
    },
    {
     "name": "stderr",
     "output_type": "stream",
     "text": [
      "\rrandom samples generated:  56%|█████▋    | 61/108 [00:20<00:15,  3.04it/s]"
     ]
    },
    {
     "name": "stderr",
     "output_type": "stream",
     "text": [
      "\rrandom samples generated:  57%|█████▋    | 62/108 [00:20<00:15,  3.04it/s]"
     ]
    },
    {
     "name": "stderr",
     "output_type": "stream",
     "text": [
      "\rrandom samples generated:  58%|█████▊    | 63/108 [00:20<00:14,  3.04it/s]"
     ]
    },
    {
     "name": "stderr",
     "output_type": "stream",
     "text": [
      "\rrandom samples generated:  59%|█████▉    | 64/108 [00:21<00:14,  3.03it/s]"
     ]
    },
    {
     "name": "stderr",
     "output_type": "stream",
     "text": [
      "\rrandom samples generated:  60%|██████    | 65/108 [00:21<00:14,  3.03it/s]"
     ]
    },
    {
     "name": "stderr",
     "output_type": "stream",
     "text": [
      "\rrandom samples generated:  61%|██████    | 66/108 [00:21<00:13,  3.04it/s]"
     ]
    },
    {
     "name": "stderr",
     "output_type": "stream",
     "text": [
      "\rrandom samples generated:  62%|██████▏   | 67/108 [00:22<00:13,  3.04it/s]"
     ]
    },
    {
     "name": "stderr",
     "output_type": "stream",
     "text": [
      "\rrandom samples generated:  63%|██████▎   | 68/108 [00:22<00:13,  3.04it/s]"
     ]
    },
    {
     "name": "stderr",
     "output_type": "stream",
     "text": [
      "\rrandom samples generated:  64%|██████▍   | 69/108 [00:22<00:12,  3.02it/s]"
     ]
    },
    {
     "name": "stderr",
     "output_type": "stream",
     "text": [
      "\rrandom samples generated:  65%|██████▍   | 70/108 [00:23<00:12,  3.02it/s]"
     ]
    },
    {
     "name": "stderr",
     "output_type": "stream",
     "text": [
      "\rrandom samples generated:  66%|██████▌   | 71/108 [00:23<00:12,  3.02it/s]"
     ]
    },
    {
     "name": "stderr",
     "output_type": "stream",
     "text": [
      "\rrandom samples generated:  67%|██████▋   | 72/108 [00:23<00:11,  3.03it/s]"
     ]
    },
    {
     "name": "stderr",
     "output_type": "stream",
     "text": [
      "\rrandom samples generated:  68%|██████▊   | 73/108 [00:24<00:11,  3.03it/s]"
     ]
    },
    {
     "name": "stderr",
     "output_type": "stream",
     "text": [
      "\rrandom samples generated:  69%|██████▊   | 74/108 [00:24<00:11,  3.04it/s]"
     ]
    },
    {
     "name": "stderr",
     "output_type": "stream",
     "text": [
      "\rrandom samples generated:  69%|██████▉   | 75/108 [00:24<00:10,  3.03it/s]"
     ]
    },
    {
     "name": "stderr",
     "output_type": "stream",
     "text": [
      "\rrandom samples generated:  70%|███████   | 76/108 [00:25<00:10,  3.03it/s]"
     ]
    },
    {
     "name": "stderr",
     "output_type": "stream",
     "text": [
      "\rrandom samples generated:  71%|███████▏  | 77/108 [00:25<00:10,  3.04it/s]"
     ]
    },
    {
     "name": "stderr",
     "output_type": "stream",
     "text": [
      "\rrandom samples generated:  72%|███████▏  | 78/108 [00:25<00:09,  3.03it/s]"
     ]
    },
    {
     "name": "stderr",
     "output_type": "stream",
     "text": [
      "\rrandom samples generated:  73%|███████▎  | 79/108 [00:26<00:09,  3.03it/s]"
     ]
    },
    {
     "name": "stderr",
     "output_type": "stream",
     "text": [
      "\rrandom samples generated:  74%|███████▍  | 80/108 [00:26<00:09,  3.04it/s]"
     ]
    },
    {
     "name": "stderr",
     "output_type": "stream",
     "text": [
      "\rrandom samples generated:  75%|███████▌  | 81/108 [00:26<00:08,  3.03it/s]"
     ]
    },
    {
     "name": "stderr",
     "output_type": "stream",
     "text": [
      "\rrandom samples generated:  76%|███████▌  | 82/108 [00:26<00:08,  3.04it/s]"
     ]
    },
    {
     "name": "stderr",
     "output_type": "stream",
     "text": [
      "\rrandom samples generated:  77%|███████▋  | 83/108 [00:27<00:08,  3.03it/s]"
     ]
    },
    {
     "name": "stderr",
     "output_type": "stream",
     "text": [
      "\rrandom samples generated:  78%|███████▊  | 84/108 [00:27<00:07,  3.03it/s]"
     ]
    },
    {
     "name": "stderr",
     "output_type": "stream",
     "text": [
      "\rrandom samples generated:  79%|███████▊  | 85/108 [00:28<00:07,  3.03it/s]"
     ]
    },
    {
     "name": "stderr",
     "output_type": "stream",
     "text": [
      "\rrandom samples generated:  80%|███████▉  | 86/108 [00:28<00:07,  3.02it/s]"
     ]
    },
    {
     "name": "stderr",
     "output_type": "stream",
     "text": [
      "\rrandom samples generated:  81%|████████  | 87/108 [00:28<00:06,  3.01it/s]"
     ]
    },
    {
     "name": "stderr",
     "output_type": "stream",
     "text": [
      "\rrandom samples generated:  81%|████████▏ | 88/108 [00:29<00:06,  3.00it/s]"
     ]
    },
    {
     "name": "stderr",
     "output_type": "stream",
     "text": [
      "\rrandom samples generated:  82%|████████▏ | 89/108 [00:29<00:06,  3.01it/s]"
     ]
    },
    {
     "name": "stderr",
     "output_type": "stream",
     "text": [
      "\rrandom samples generated:  83%|████████▎ | 90/108 [00:29<00:05,  3.01it/s]"
     ]
    },
    {
     "name": "stderr",
     "output_type": "stream",
     "text": [
      "\rrandom samples generated:  84%|████████▍ | 91/108 [00:30<00:05,  3.00it/s]"
     ]
    },
    {
     "name": "stderr",
     "output_type": "stream",
     "text": [
      "\rrandom samples generated:  85%|████████▌ | 92/108 [00:30<00:05,  3.01it/s]"
     ]
    },
    {
     "name": "stderr",
     "output_type": "stream",
     "text": [
      "\rrandom samples generated:  86%|████████▌ | 93/108 [00:30<00:04,  3.00it/s]"
     ]
    },
    {
     "name": "stderr",
     "output_type": "stream",
     "text": [
      "\rrandom samples generated:  87%|████████▋ | 94/108 [00:31<00:04,  3.00it/s]"
     ]
    },
    {
     "name": "stderr",
     "output_type": "stream",
     "text": [
      "\rrandom samples generated:  88%|████████▊ | 95/108 [00:31<00:04,  3.00it/s]"
     ]
    },
    {
     "name": "stderr",
     "output_type": "stream",
     "text": [
      "\rrandom samples generated:  89%|████████▉ | 96/108 [00:31<00:03,  3.00it/s]"
     ]
    },
    {
     "name": "stderr",
     "output_type": "stream",
     "text": [
      "\rrandom samples generated:  90%|████████▉ | 97/108 [00:32<00:03,  2.99it/s]"
     ]
    },
    {
     "name": "stderr",
     "output_type": "stream",
     "text": [
      "\rrandom samples generated:  91%|█████████ | 98/108 [00:32<00:03,  2.99it/s]"
     ]
    },
    {
     "name": "stderr",
     "output_type": "stream",
     "text": [
      "\rrandom samples generated:  92%|█████████▏| 99/108 [00:33<00:03,  2.99it/s]"
     ]
    },
    {
     "name": "stderr",
     "output_type": "stream",
     "text": [
      "\rrandom samples generated:  93%|█████████▎| 100/108 [00:33<00:02,  2.99it/s]"
     ]
    },
    {
     "name": "stderr",
     "output_type": "stream",
     "text": [
      "\rrandom samples generated:  94%|█████████▎| 101/108 [00:33<00:02,  2.99it/s]"
     ]
    },
    {
     "name": "stderr",
     "output_type": "stream",
     "text": [
      "\rrandom samples generated:  94%|█████████▍| 102/108 [00:34<00:02,  2.99it/s]"
     ]
    },
    {
     "name": "stderr",
     "output_type": "stream",
     "text": [
      "\rrandom samples generated:  95%|█████████▌| 103/108 [00:34<00:01,  2.98it/s]"
     ]
    },
    {
     "name": "stderr",
     "output_type": "stream",
     "text": [
      "\rrandom samples generated:  96%|█████████▋| 104/108 [00:34<00:01,  2.99it/s]"
     ]
    },
    {
     "name": "stderr",
     "output_type": "stream",
     "text": [
      "\rrandom samples generated:  97%|█████████▋| 105/108 [00:35<00:01,  2.99it/s]"
     ]
    },
    {
     "name": "stderr",
     "output_type": "stream",
     "text": [
      "\rrandom samples generated:  98%|█████████▊| 106/108 [00:35<00:00,  2.98it/s]"
     ]
    },
    {
     "name": "stderr",
     "output_type": "stream",
     "text": [
      "\rrandom samples generated:  99%|█████████▉| 107/108 [00:35<00:00,  2.98it/s]"
     ]
    },
    {
     "name": "stderr",
     "output_type": "stream",
     "text": [
      "\rrandom samples generated: 100%|██████████| 108/108 [00:36<00:00,  2.97it/s]"
     ]
    },
    {
     "name": "stderr",
     "output_type": "stream",
     "text": [
      "\n"
     ]
    },
    {
     "name": "stdout",
     "output_type": "stream",
     "text": [
      "CPU times: user 39.8 s, sys: 184 ms, total: 40 s\nWall time: 39.8 s\n"
     ]
    }
   ],
   "source": [
    "\"\"\" The same information, only visualized. \"\"\"\n",
    "\n",
    "%%time\n",
    "\n",
    "intersection_j, randomized_intersection_j = qtls.qtl_overlap_by_module_test(qtls_df[\"eQTLs_old\"], qtls_df[\"pQTLs\"], \n",
    "                                                                            gene_pool, modules_dict)\n",
    "\n",
    "qtls.qtl_overlap_hist(intersection_j, modules_type)\n",
    "qtls.qtl_overlap_hist(randomized_intersection_j, modules_type + \"_randomized\")"
   ]
  },
  {
   "cell_type": "code",
   "execution_count": 146,
   "metadata": {},
   "outputs": [
    {
     "data": {
      "text/html": [
       "<div>\n",
       "<style scoped>\n",
       "    .dataframe tbody tr th:only-of-type {\n",
       "        vertical-align: middle;\n",
       "    }\n",
       "\n",
       "    .dataframe tbody tr th {\n",
       "        vertical-align: top;\n",
       "    }\n",
       "\n",
       "    .dataframe thead th {\n",
       "        text-align: right;\n",
       "    }\n",
       "</style>\n",
       "<table border=\"1\" class=\"dataframe\">\n",
       "  <thead>\n",
       "    <tr style=\"text-align: right;\">\n",
       "      <th></th>\n",
       "      <th>q_value_cutoff</th>\n",
       "      <th>random_samples_of_size_10</th>\n",
       "    </tr>\n",
       "  </thead>\n",
       "  <tbody>\n",
       "    <tr>\n",
       "      <th>0</th>\n",
       "      <td>1.000000e-08</td>\n",
       "      <td>0.137914</td>\n",
       "    </tr>\n",
       "    <tr>\n",
       "      <th>1</th>\n",
       "      <td>1.000000e-07</td>\n",
       "      <td>0.159089</td>\n",
       "    </tr>\n",
       "    <tr>\n",
       "      <th>2</th>\n",
       "      <td>1.000000e-06</td>\n",
       "      <td>0.160416</td>\n",
       "    </tr>\n",
       "    <tr>\n",
       "      <th>3</th>\n",
       "      <td>1.000000e-05</td>\n",
       "      <td>0.135067</td>\n",
       "    </tr>\n",
       "    <tr>\n",
       "      <th>4</th>\n",
       "      <td>1.000000e-04</td>\n",
       "      <td>0.171282</td>\n",
       "    </tr>\n",
       "    <tr>\n",
       "      <th>5</th>\n",
       "      <td>1.000000e-03</td>\n",
       "      <td>0.156258</td>\n",
       "    </tr>\n",
       "    <tr>\n",
       "      <th>6</th>\n",
       "      <td>1.000000e-02</td>\n",
       "      <td>0.153712</td>\n",
       "    </tr>\n",
       "  </tbody>\n",
       "</table>\n",
       "</div>"
      ],
      "text/plain": [
       "<div>\n",
       "<style scoped>\n",
       "    .dataframe tbody tr th:only-of-type {\n",
       "        vertical-align: middle;\n",
       "    }\n",
       "\n",
       "    .dataframe tbody tr th {\n",
       "        vertical-align: top;\n",
       "    }\n",
       "\n",
       "    .dataframe thead th {\n",
       "        text-align: right;\n",
       "    }\n",
       "</style>\n",
       "<table border=\"1\" class=\"dataframe\">\n",
       "  <thead>\n",
       "    <tr style=\"text-align: right;\">\n",
       "      <th></th>\n",
       "      <th>q_value_cutoff</th>\n",
       "      <th>random_samples_of_size_10</th>\n",
       "    </tr>\n",
       "  </thead>\n",
       "  <tbody>\n",
       "    <tr>\n",
       "      <th>0</th>\n",
       "      <td>1.000000e-08</td>\n",
       "      <td>0.137914</td>\n",
       "    </tr>\n",
       "    <tr>\n",
       "      <th>1</th>\n",
       "      <td>1.000000e-07</td>\n",
       "      <td>0.159089</td>\n",
       "    </tr>\n",
       "    <tr>\n",
       "      <th>2</th>\n",
       "      <td>1.000000e-06</td>\n",
       "      <td>0.160416</td>\n",
       "    </tr>\n",
       "    <tr>\n",
       "      <th>3</th>\n",
       "      <td>1.000000e-05</td>\n",
       "      <td>0.135067</td>\n",
       "    </tr>\n",
       "    <tr>\n",
       "      <th>4</th>\n",
       "      <td>1.000000e-04</td>\n",
       "      <td>0.171282</td>\n",
       "    </tr>\n",
       "    <tr>\n",
       "      <th>5</th>\n",
       "      <td>1.000000e-03</td>\n",
       "      <td>0.156258</td>\n",
       "    </tr>\n",
       "    <tr>\n",
       "      <th>6</th>\n",
       "      <td>1.000000e-02</td>\n",
       "      <td>0.153712</td>\n",
       "    </tr>\n",
       "  </tbody>\n",
       "</table>\n",
       "</div>"
      ]
     },
     "execution_count": 0,
     "metadata": {},
     "output_type": "execute_result"
    }
   ],
   "source": [
    "\"\"\"\n",
    "OBSERVATION: gene pool tends to be biased towards high eQTL/pQTL overlap ration.\n",
    "Reasons and interpretations of such behaviour remain unclear.    \n",
    "\"\"\"\n",
    "\n",
    "sample_size = 10\n",
    "def randomize_and_overlap(sample_size, iter_num=200):\n",
    "    jaccard_coeffs = []\n",
    "    for i in range(iter_num):\n",
    "        gene_sample = np.random.RandomState().choice(gene_pool, sample_size, replace=False)\n",
    "        linked_eQTLs = set(qtls.linked_markers(qtls_df[\"eQTLs_old\"], gene_sample))\n",
    "        linked_pQTLs = set(qtls.linked_markers(qtls_df[\"pQTLs\"], gene_sample))\n",
    "        jaccard_coeffs.append(qtls.jaccard(linked_eQTLs, linked_pQTLs))\n",
    "    return np.mean(jaccard_coeffs)\n",
    "\n",
    "display(\n",
    "    pd.DataFrame(\n",
    "        [\n",
    "            (q_cutoff, randomize_and_overlap(sample_size))\n",
    "            for q_cutoff in 10.**np.arange(-8, -1)\n",
    "        ],\n",
    "        columns = [\"q_value_cutoff\", \"random_samples_of_size_{}\".format(sample_size)],\n",
    "        dtype=np.float32\n",
    "    )\n",
    ")"
   ]
  },
  {
   "cell_type": "code",
   "execution_count": 5,
   "metadata": {
    "collapsed": false
   },
   "outputs": [
    {
     "name": "stderr",
     "output_type": "stream",
     "text": [
      "\rsubdirectories processed:   0%|          | 0/18 [00:00<?, ?it/s]"
     ]
    },
    {
     "name": "stderr",
     "output_type": "stream",
     "text": [
      "\rsubdirectories processed:   6%|▌         | 1/18 [00:00<00:07,  2.28it/s]"
     ]
    },
    {
     "name": "stderr",
     "output_type": "stream",
     "text": [
      "\rsubdirectories processed:  11%|█         | 2/18 [00:00<00:07,  2.22it/s]"
     ]
    },
    {
     "name": "stderr",
     "output_type": "stream",
     "text": [
      "\rsubdirectories processed:  17%|█▋        | 3/18 [00:01<00:07,  2.14it/s]"
     ]
    },
    {
     "name": "stderr",
     "output_type": "stream",
     "text": [
      "\rsubdirectories processed:  33%|███▎      | 6/18 [00:01<00:03,  3.41it/s]"
     ]
    },
    {
     "name": "stderr",
     "output_type": "stream",
     "text": [
      "\rsubdirectories processed:  39%|███▉      | 7/18 [00:02<00:03,  3.30it/s]"
     ]
    },
    {
     "name": "stderr",
     "output_type": "stream",
     "text": [
      "\rsubdirectories processed:  56%|█████▌    | 10/18 [00:02<00:01,  4.04it/s]"
     ]
    },
    {
     "name": "stderr",
     "output_type": "stream",
     "text": [
      "\rsubdirectories processed:  67%|██████▋   | 12/18 [00:02<00:01,  4.23it/s]"
     ]
    },
    {
     "name": "stderr",
     "output_type": "stream",
     "text": [
      "\rsubdirectories processed:  89%|████████▉ | 16/18 [00:03<00:00,  5.00it/s]"
     ]
    },
    {
     "name": "stderr",
     "output_type": "stream",
     "text": [
      "\rsubdirectories processed:  94%|█████████▍| 17/18 [00:03<00:00,  4.77it/s]"
     ]
    },
    {
     "name": "stderr",
     "output_type": "stream",
     "text": [
      "\rsubdirectories processed: 100%|██████████| 18/18 [00:03<00:00,  4.59it/s]"
     ]
    },
    {
     "name": "stderr",
     "output_type": "stream",
     "text": [
      "\n\rgraphs and hists plotted:   0%|          | 0/10 [00:00<?, ?it/s]"
     ]
    },
    {
     "name": "stderr",
     "output_type": "stream",
     "text": [
      "\rgraphs and hists plotted:  10%|█         | 1/10 [00:00<00:03,  2.69it/s]"
     ]
    },
    {
     "name": "stderr",
     "output_type": "stream",
     "text": [
      "\rgraphs and hists plotted:  20%|██        | 2/10 [00:00<00:02,  2.71it/s]"
     ]
    },
    {
     "name": "stderr",
     "output_type": "stream",
     "text": [
      "\rgraphs and hists plotted:  30%|███       | 3/10 [00:01<00:02,  2.71it/s]"
     ]
    },
    {
     "name": "stderr",
     "output_type": "stream",
     "text": [
      "\rgraphs and hists plotted:  40%|████      | 4/10 [00:01<00:02,  2.65it/s]"
     ]
    },
    {
     "name": "stderr",
     "output_type": "stream",
     "text": [
      "\rgraphs and hists plotted:  50%|█████     | 5/10 [00:01<00:01,  2.63it/s]"
     ]
    },
    {
     "name": "stderr",
     "output_type": "stream",
     "text": [
      "\rgraphs and hists plotted:  60%|██████    | 6/10 [00:02<00:01,  2.62it/s]"
     ]
    },
    {
     "name": "stderr",
     "output_type": "stream",
     "text": [
      "\rgraphs and hists plotted:  70%|███████   | 7/10 [00:02<00:01,  2.60it/s]"
     ]
    },
    {
     "name": "stderr",
     "output_type": "stream",
     "text": [
      "\rgraphs and hists plotted:  80%|████████  | 8/10 [00:03<00:00,  2.60it/s]"
     ]
    },
    {
     "name": "stderr",
     "output_type": "stream",
     "text": [
      "\rgraphs and hists plotted:  90%|█████████ | 9/10 [00:03<00:00,  2.61it/s]"
     ]
    },
    {
     "name": "stderr",
     "output_type": "stream",
     "text": [
      "\rgraphs and hists plotted: 100%|██████████| 10/10 [00:03<00:00,  2.61it/s]"
     ]
    },
    {
     "name": "stderr",
     "output_type": "stream",
     "text": [
      "\n\rvignettes plotted:   0%|          | 0/10 [00:00<?, ?it/s]"
     ]
    },
    {
     "name": "stderr",
     "output_type": "stream",
     "text": [
      "\rvignettes plotted:  10%|█         | 1/10 [00:00<00:03,  2.57it/s]"
     ]
    },
    {
     "name": "stderr",
     "output_type": "stream",
     "text": [
      "\rvignettes plotted:  20%|██        | 2/10 [00:00<00:02,  2.93it/s]"
     ]
    },
    {
     "name": "stderr",
     "output_type": "stream",
     "text": [
      "\rvignettes plotted:  30%|███       | 3/10 [00:00<00:02,  3.09it/s]"
     ]
    },
    {
     "name": "stderr",
     "output_type": "stream",
     "text": [
      "\rvignettes plotted:  40%|████      | 4/10 [00:01<00:01,  3.17it/s]"
     ]
    },
    {
     "name": "stderr",
     "output_type": "stream",
     "text": [
      "\rvignettes plotted:  50%|█████     | 5/10 [00:01<00:01,  3.22it/s]"
     ]
    },
    {
     "name": "stderr",
     "output_type": "stream",
     "text": [
      "\rvignettes plotted:  60%|██████    | 6/10 [00:01<00:01,  3.26it/s]"
     ]
    },
    {
     "name": "stderr",
     "output_type": "stream",
     "text": [
      "\rvignettes plotted:  70%|███████   | 7/10 [00:02<00:00,  3.28it/s]"
     ]
    },
    {
     "name": "stderr",
     "output_type": "stream",
     "text": [
      "\rvignettes plotted:  80%|████████  | 8/10 [00:02<00:00,  3.31it/s]"
     ]
    },
    {
     "name": "stderr",
     "output_type": "stream",
     "text": [
      "\rvignettes plotted:  90%|█████████ | 9/10 [00:02<00:00,  3.32it/s]"
     ]
    },
    {
     "name": "stderr",
     "output_type": "stream",
     "text": [
      "\rvignettes plotted: 100%|██████████| 10/10 [00:03<00:00,  3.33it/s]"
     ]
    },
    {
     "name": "stderr",
     "output_type": "stream",
     "text": [
      "\n\rsubdirectories processed:   0%|          | 0/28 [00:00<?, ?it/s]"
     ]
    },
    {
     "name": "stderr",
     "output_type": "stream",
     "text": [
      "\rsubdirectories processed:   4%|▎         | 1/28 [00:00<00:11,  2.35it/s]"
     ]
    },
    {
     "name": "stderr",
     "output_type": "stream",
     "text": [
      "\rsubdirectories processed:  14%|█▍        | 4/28 [00:00<00:05,  4.77it/s]"
     ]
    },
    {
     "name": "stderr",
     "output_type": "stream",
     "text": [
      "\rsubdirectories processed:  18%|█▊        | 5/28 [00:01<00:05,  3.92it/s]"
     ]
    },
    {
     "name": "stderr",
     "output_type": "stream",
     "text": [
      "\rsubdirectories processed:  36%|███▌      | 10/28 [00:01<00:03,  5.89it/s]"
     ]
    },
    {
     "name": "stderr",
     "output_type": "stream",
     "text": [
      "\rsubdirectories processed:  39%|███▉      | 11/28 [00:02<00:03,  5.21it/s]"
     ]
    },
    {
     "name": "stderr",
     "output_type": "stream",
     "text": [
      "\rsubdirectories processed:  54%|█████▎    | 15/28 [00:02<00:02,  5.89it/s]"
     ]
    },
    {
     "name": "stderr",
     "output_type": "stream",
     "text": [
      "\rsubdirectories processed:  61%|██████    | 17/28 [00:02<00:01,  5.69it/s]"
     ]
    },
    {
     "name": "stderr",
     "output_type": "stream",
     "text": [
      "\rsubdirectories processed:  79%|███████▊  | 22/28 [00:03<00:00,  6.42it/s]"
     ]
    },
    {
     "name": "stderr",
     "output_type": "stream",
     "text": [
      "\rsubdirectories processed:  89%|████████▉ | 25/28 [00:03<00:00,  6.43it/s]"
     ]
    },
    {
     "name": "stderr",
     "output_type": "stream",
     "text": [
      "\rsubdirectories processed:  93%|█████████▎| 26/28 [00:04<00:00,  5.95it/s]"
     ]
    },
    {
     "name": "stderr",
     "output_type": "stream",
     "text": [
      "\rsubdirectories processed: 100%|██████████| 28/28 [00:04<00:00,  6.41it/s]"
     ]
    },
    {
     "name": "stderr",
     "output_type": "stream",
     "text": [
      "\n\rgraphs and hists plotted:   0%|          | 0/10 [00:00<?, ?it/s]"
     ]
    },
    {
     "name": "stderr",
     "output_type": "stream",
     "text": [
      "\rgraphs and hists plotted:  10%|█         | 1/10 [00:00<00:04,  2.24it/s]"
     ]
    },
    {
     "name": "stderr",
     "output_type": "stream",
     "text": [
      "\rgraphs and hists plotted:  20%|██        | 2/10 [00:00<00:03,  2.29it/s]"
     ]
    },
    {
     "name": "stderr",
     "output_type": "stream",
     "text": [
      "\rgraphs and hists plotted:  30%|███       | 3/10 [00:01<00:03,  2.31it/s]"
     ]
    },
    {
     "name": "stderr",
     "output_type": "stream",
     "text": [
      "\rgraphs and hists plotted:  40%|████      | 4/10 [00:01<00:02,  2.35it/s]"
     ]
    },
    {
     "name": "stderr",
     "output_type": "stream",
     "text": [
      "\rgraphs and hists plotted:  50%|█████     | 5/10 [00:02<00:02,  2.35it/s]"
     ]
    },
    {
     "name": "stderr",
     "output_type": "stream",
     "text": [
      "\rgraphs and hists plotted:  60%|██████    | 6/10 [00:02<00:01,  2.32it/s]"
     ]
    },
    {
     "name": "stderr",
     "output_type": "stream",
     "text": [
      "\rgraphs and hists plotted:  70%|███████   | 7/10 [00:03<00:01,  2.31it/s]"
     ]
    },
    {
     "name": "stderr",
     "output_type": "stream",
     "text": [
      "\rgraphs and hists plotted:  80%|████████  | 8/10 [00:03<00:00,  2.32it/s]"
     ]
    },
    {
     "name": "stderr",
     "output_type": "stream",
     "text": [
      "\rgraphs and hists plotted:  90%|█████████ | 9/10 [00:03<00:00,  2.32it/s]"
     ]
    },
    {
     "name": "stderr",
     "output_type": "stream",
     "text": [
      "\rgraphs and hists plotted: 100%|██████████| 10/10 [00:04<00:00,  2.32it/s]"
     ]
    },
    {
     "name": "stderr",
     "output_type": "stream",
     "text": [
      "\n\rvignettes plotted:   0%|          | 0/10 [00:00<?, ?it/s]"
     ]
    },
    {
     "name": "stderr",
     "output_type": "stream",
     "text": [
      "\rvignettes plotted:  10%|█         | 1/10 [00:00<00:04,  1.91it/s]"
     ]
    },
    {
     "name": "stderr",
     "output_type": "stream",
     "text": [
      "\rvignettes plotted:  20%|██        | 2/10 [00:01<00:04,  1.92it/s]"
     ]
    },
    {
     "name": "stderr",
     "output_type": "stream",
     "text": [
      "\rvignettes plotted:  30%|███       | 3/10 [00:01<00:03,  1.90it/s]"
     ]
    },
    {
     "name": "stderr",
     "output_type": "stream",
     "text": [
      "\rvignettes plotted:  40%|████      | 4/10 [00:02<00:03,  1.89it/s]"
     ]
    },
    {
     "name": "stderr",
     "output_type": "stream",
     "text": [
      "\rvignettes plotted:  50%|█████     | 5/10 [00:02<00:02,  1.89it/s]"
     ]
    },
    {
     "name": "stderr",
     "output_type": "stream",
     "text": [
      "\rvignettes plotted:  60%|██████    | 6/10 [00:03<00:02,  1.89it/s]"
     ]
    },
    {
     "name": "stderr",
     "output_type": "stream",
     "text": [
      "\rvignettes plotted:  70%|███████   | 7/10 [00:03<00:01,  1.89it/s]"
     ]
    },
    {
     "name": "stderr",
     "output_type": "stream",
     "text": [
      "\rvignettes plotted:  80%|████████  | 8/10 [00:04<00:01,  1.87it/s]"
     ]
    },
    {
     "name": "stderr",
     "output_type": "stream",
     "text": [
      "\rvignettes plotted:  90%|█████████ | 9/10 [00:04<00:00,  1.86it/s]"
     ]
    },
    {
     "name": "stderr",
     "output_type": "stream",
     "text": [
      "\rvignettes plotted: 100%|██████████| 10/10 [00:05<00:00,  1.87it/s]"
     ]
    },
    {
     "name": "stdout",
     "output_type": "stream",
     "text": [
      "CPU times: user 38.8 s, sys: 580 ms, total: 39.4 s\nWall time: 25 s\n"
     ]
    },
    {
     "name": "stderr",
     "output_type": "stream",
     "text": [
      "\n"
     ]
    }
   ],
   "source": [
    "\"\"\" Helper cell. Used to visualize results of full-graph test and PPIN test. \"\"\"\n",
    "\n",
    "%%time\n",
    "reload(qtls)\n",
    "for expression_df, qtl_df, qtl_type in [(expression_df[\"eQTLs_old\"], qtls_df[\"eQTLs_old\"], \"eQTLs\"),\n",
    "                                        (expression_df[\"pQTLs\"], qtls_df[\"pQTLs\"], \"pQTLs\")]:\n",
    "    qtls.plot_analysis_results(\n",
    "        expression_df=expression_df,\n",
    "        interactions_type=\"physical\",\n",
    "        interactome_graph=interactome_graph,\n",
    "        modules_dict=modules_dict,\n",
    "        modules_type=modules_type,\n",
    "        qtl_df=qtl_df,\n",
    "        qtl_type=qtl_type\n",
    "    )\n",
    "    \n"
   ]
  },
  {
   "cell_type": "code",
   "execution_count": 126,
   "metadata": {},
   "outputs": [
    {
     "name": "stdout",
     "output_type": "stream",
     "text": [
      "thecellmap\nRibosome biogenesis\n"
     ]
    },
    {
     "name": "stderr",
     "output_type": "stream",
     "text": [
      "/home/vvi/Science/eQTL_analysis/src/qtls.py:796: FutureWarning: Method .as_matrix will be removed in a future version. Use .values instead.\n  columns=pqtls_expression_df.columns[1:]\n/home/vvi/Science/eQTL_analysis/src/qtls.py:800: FutureWarning: Method .as_matrix will be removed in a future version. Use .values instead.\n  columns=pqtls_genotypes_df.columns[1:]\n"
     ]
    },
    {
     "name": "stdout",
     "output_type": "stream",
     "text": [
      "CPU times: user 2min 56s, sys: 20.3 s, total: 3min 16s\nWall time: 3min 22s\n"
     ]
    }
   ],
   "source": [
    "\"\"\" INVESTIGATION: how precisely can pQTLs be predicted from eQTLs given PPIN? \"\"\"\n",
    "\n",
    "%%time\n",
    "\n",
    "reload(qtls)\n",
    "print(modules_type)\n",
    "\n",
    "predictions_dict = {}\n",
    "for module_name, module_genes in tqdm(modules_dict.items()):\n",
    "    predictions_dict[module_name] = qtls.PqtlPredictor(\n",
    "        eqtls_df=qtls_df[\"eQTLs_old\"], pqtls_df=qtls_df[\"pQTLs\"],\n",
    "        pqtls_expression_df=expression_df[\"pQTLs\"], pqtls_genotypes_df=genotypes_df[\"pQTLs\"],\n",
    "        module_name=module_name, module_genes=module_genes,\n",
    "        interactome_graph=interactome_graph\n",
    "    ).predict()\n",
    "\n",
    "display(pd.DataFrame(\n",
    "    ((key, *values) for key, values in predictions_dict.items()),\n",
    "    columns=[\"module_name\", \"common_pQTLs\", \"overlap_ratio\", \"old_pQTLs\", \"predicted_pQTLs\", \"delta\"]\n",
    ").sort_values(by=\"overlap_ratio\", ascending=False))"
   ]
  },
  {
   "cell_type": "markdown",
   "metadata": {},
   "source": [
    "## GeneOntology"
   ]
  },
  {
   "cell_type": "code",
   "execution_count": 5,
   "metadata": {},
   "outputs": [
    {
     "name": "stdout",
     "output_type": "stream",
     "text": [
      "./data/geneontology/go-basic.obo: fmt(1.2) rel(2018-07-02) 47,231 GO Terms; optional_attrs(relationship)\n"
     ]
    },
    {
     "name": "stderr",
     "output_type": "stream",
     "text": [
      "\r  0%|          | 0/4136 [00:00<?, ?it/s]"
     ]
    },
    {
     "name": "stderr",
     "output_type": "stream",
     "text": [
      "\r 17%|█▋        | 687/4136 [00:00<00:00, 6862.20it/s]"
     ]
    },
    {
     "name": "stderr",
     "output_type": "stream",
     "text": [
      "\r 29%|██▉       | 1218/4136 [00:00<00:00, 6084.30it/s]"
     ]
    },
    {
     "name": "stderr",
     "output_type": "stream",
     "text": [
      "\r 47%|████▋     | 1960/4136 [00:00<00:00, 6528.53it/s]"
     ]
    },
    {
     "name": "stderr",
     "output_type": "stream",
     "text": [
      "\r 65%|██████▍   | 2682/4136 [00:00<00:00, 6686.99it/s]"
     ]
    },
    {
     "name": "stderr",
     "output_type": "stream",
     "text": [
      "\r 78%|███████▊  | 3226/4136 [00:00<00:00, 6437.86it/s]"
     ]
    },
    {
     "name": "stderr",
     "output_type": "stream",
     "text": [
      "\r 95%|█████████▍| 3915/4136 [00:00<00:00, 6509.87it/s]"
     ]
    },
    {
     "name": "stderr",
     "output_type": "stream",
     "text": [
      "\r100%|██████████| 4136/4136 [00:00<00:00, 6431.32it/s]"
     ]
    },
    {
     "name": "stderr",
     "output_type": "stream",
     "text": [
      "\n"
     ]
    }
   ],
   "source": [
    "\"\"\" GO terms covering 10-150 genes are extracted and used to generate functional modules.\"\"\"\n",
    "\n",
    "from goatools import obo_parser\n",
    "\n",
    "# building the GeneOntology DAG\n",
    "obodag = obo_parser.GODag(\n",
    "    \"./data/geneontology/go-basic.obo\",\n",
    "    optional_attrs=[\"relationship\"]\n",
    ")\n",
    "from Bio.UniProt.GOA import gafiterator\n",
    "\n",
    "# how many of them are present in actual yeast genome?\n",
    "yeast_gaf = './data/geneontology/goa_yeast.gaf'\n",
    "goid2genes = collections.defaultdict(list)\n",
    "with open(yeast_gaf) as handle:\n",
    "    for rec in gafiterator(handle):\n",
    "        go_term = obodag[rec[\"GO_ID\"]]\n",
    "        for par in go_term.parents:\n",
    "            goid2genes[par.id].append(rec[\"DB_Object_Symbol\"])\n",
    "            \n",
    "for key, val in goid2genes.items():\n",
    "    goid2genes[key] = np.unique(val)\n",
    "\n",
    "physically_interacting_genes = set(interactome_graphs_dict[\"physical\"].vs[\"name\"])\n",
    "geneontology_modules_dict = {\n",
    "    obodag[go_id].name.replace('/', '|') : genes \n",
    "    for go_id, genes in tqdm(goid2genes.items()) \n",
    "    if 10 <= len(interactome_graphs_dict[\"physical\"].subgraph(\n",
    "            set(genes) & physically_interacting_genes\n",
    "        ).simplify().vs.select(_degree_gt=0)) <= 150\n",
    "}\n",
    "\n",
    "with open(\"./results/geneontology/modules_dict.pkl\", \"wb+\") as pickle_file:\n",
    "    pickle.dump(geneontology_modules_dict, pickle_file)\n",
    "# with open(\"./results/geneontology/modules_dict.pkl\", \"rb+\") as pickle_file:\n",
    "#     geneontology_modules_dict = pickle.load(pickle_file)"
   ]
  },
  {
   "cell_type": "markdown",
   "metadata": {},
   "source": [
    "## KEGG pathways"
   ]
  },
  {
   "cell_type": "code",
   "execution_count": 6,
   "metadata": {
    "collapsed": false
   },
   "outputs": [
    {
     "name": "stderr",
     "output_type": "stream",
     "text": [
      "\rmodules retrieved:   0%|          | 0/116 [00:00<?, ?it/s]"
     ]
    },
    {
     "name": "stderr",
     "output_type": "stream",
     "text": [
      "\rmodules retrieved:   1%|          | 1/116 [00:01<02:12,  1.15s/it]"
     ]
    },
    {
     "name": "stderr",
     "output_type": "stream",
     "text": [
      "\rmodules retrieved:   2%|▏         | 2/116 [00:02<02:12,  1.16s/it]"
     ]
    },
    {
     "name": "stderr",
     "output_type": "stream",
     "text": [
      "\rmodules retrieved:   3%|▎         | 3/116 [00:07<04:25,  2.35s/it]"
     ]
    },
    {
     "name": "stderr",
     "output_type": "stream",
     "text": [
      "\rmodules retrieved:   3%|▎         | 4/116 [00:08<03:47,  2.03s/it]"
     ]
    },
    {
     "name": "stderr",
     "output_type": "stream",
     "text": [
      "\rmodules retrieved:   4%|▍         | 5/116 [00:09<03:27,  1.87s/it]"
     ]
    },
    {
     "name": "stderr",
     "output_type": "stream",
     "text": [
      "\rmodules retrieved:   5%|▌         | 6/116 [00:10<03:04,  1.68s/it]"
     ]
    },
    {
     "name": "stderr",
     "output_type": "stream",
     "text": [
      "\rmodules retrieved:   6%|▌         | 7/116 [00:10<02:48,  1.54s/it]"
     ]
    },
    {
     "name": "stderr",
     "output_type": "stream",
     "text": [
      "\rmodules retrieved:   7%|▋         | 8/116 [00:11<02:39,  1.48s/it]"
     ]
    },
    {
     "name": "stderr",
     "output_type": "stream",
     "text": [
      "\rmodules retrieved:   8%|▊         | 9/116 [00:12<02:29,  1.39s/it]"
     ]
    },
    {
     "name": "stderr",
     "output_type": "stream",
     "text": [
      "\rmodules retrieved:   9%|▊         | 10/116 [00:13<02:20,  1.32s/it]"
     ]
    },
    {
     "name": "stderr",
     "output_type": "stream",
     "text": [
      "\rmodules retrieved:   9%|▉         | 11/116 [00:14<02:16,  1.30s/it]"
     ]
    },
    {
     "name": "stderr",
     "output_type": "stream",
     "text": [
      "\rmodules retrieved:  10%|█         | 12/116 [00:17<02:29,  1.43s/it]"
     ]
    },
    {
     "name": "stderr",
     "output_type": "stream",
     "text": [
      "\rmodules retrieved:  11%|█         | 13/116 [00:18<02:25,  1.41s/it]"
     ]
    },
    {
     "name": "stderr",
     "output_type": "stream",
     "text": [
      "\rmodules retrieved:  12%|█▏        | 14/116 [00:19<02:19,  1.37s/it]"
     ]
    },
    {
     "name": "stderr",
     "output_type": "stream",
     "text": [
      "\rmodules retrieved:  13%|█▎        | 15/116 [00:20<02:16,  1.35s/it]"
     ]
    },
    {
     "name": "stderr",
     "output_type": "stream",
     "text": [
      "\rmodules retrieved:  14%|█▍        | 16/116 [00:21<02:14,  1.35s/it]"
     ]
    },
    {
     "name": "stderr",
     "output_type": "stream",
     "text": [
      "\rmodules retrieved:  15%|█▍        | 17/116 [00:22<02:13,  1.35s/it]"
     ]
    },
    {
     "name": "stderr",
     "output_type": "stream",
     "text": [
      "\rmodules retrieved:  16%|█▌        | 18/116 [00:24<02:12,  1.36s/it]"
     ]
    },
    {
     "name": "stderr",
     "output_type": "stream",
     "text": [
      "\rmodules retrieved:  16%|█▋        | 19/116 [00:25<02:11,  1.36s/it]"
     ]
    },
    {
     "name": "stderr",
     "output_type": "stream",
     "text": [
      "\rmodules retrieved:  17%|█▋        | 20/116 [00:26<02:09,  1.35s/it]"
     ]
    },
    {
     "name": "stderr",
     "output_type": "stream",
     "text": [
      "\rmodules retrieved:  18%|█▊        | 21/116 [00:27<02:04,  1.31s/it]"
     ]
    },
    {
     "name": "stderr",
     "output_type": "stream",
     "text": [
      "\rmodules retrieved:  19%|█▉        | 22/116 [00:28<02:00,  1.29s/it]"
     ]
    },
    {
     "name": "stderr",
     "output_type": "stream",
     "text": [
      "\rmodules retrieved:  20%|█▉        | 23/116 [00:29<01:57,  1.26s/it]"
     ]
    },
    {
     "name": "stderr",
     "output_type": "stream",
     "text": [
      "\rmodules retrieved:  21%|██        | 24/116 [00:31<02:00,  1.31s/it]"
     ]
    },
    {
     "name": "stderr",
     "output_type": "stream",
     "text": [
      "\rmodules retrieved:  22%|██▏       | 25/116 [00:32<01:57,  1.30s/it]"
     ]
    },
    {
     "name": "stderr",
     "output_type": "stream",
     "text": [
      "\rmodules retrieved:  22%|██▏       | 26/116 [00:33<01:55,  1.29s/it]"
     ]
    },
    {
     "name": "stderr",
     "output_type": "stream",
     "text": [
      "\rmodules retrieved:  23%|██▎       | 27/116 [00:34<01:52,  1.27s/it]"
     ]
    },
    {
     "name": "stderr",
     "output_type": "stream",
     "text": [
      "\rmodules retrieved:  24%|██▍       | 28/116 [00:34<01:49,  1.25s/it]"
     ]
    },
    {
     "name": "stderr",
     "output_type": "stream",
     "text": [
      "\rmodules retrieved:  25%|██▌       | 29/116 [00:36<01:48,  1.25s/it]"
     ]
    },
    {
     "name": "stderr",
     "output_type": "stream",
     "text": [
      "\rmodules retrieved:  26%|██▌       | 30/116 [00:36<01:45,  1.23s/it]"
     ]
    },
    {
     "name": "stderr",
     "output_type": "stream",
     "text": [
      "\rmodules retrieved:  27%|██▋       | 31/116 [00:37<01:43,  1.22s/it]"
     ]
    },
    {
     "name": "stderr",
     "output_type": "stream",
     "text": [
      "\rmodules retrieved:  28%|██▊       | 32/116 [00:38<01:40,  1.20s/it]"
     ]
    },
    {
     "name": "stderr",
     "output_type": "stream",
     "text": [
      "\rmodules retrieved:  28%|██▊       | 33/116 [00:39<01:38,  1.19s/it]"
     ]
    },
    {
     "name": "stderr",
     "output_type": "stream",
     "text": [
      "\rmodules retrieved:  29%|██▉       | 34/116 [00:40<01:36,  1.18s/it]"
     ]
    },
    {
     "name": "stderr",
     "output_type": "stream",
     "text": [
      "\rmodules retrieved:  30%|███       | 35/116 [00:40<01:34,  1.17s/it]"
     ]
    },
    {
     "name": "stderr",
     "output_type": "stream",
     "text": [
      "\rmodules retrieved:  31%|███       | 36/116 [00:41<01:32,  1.15s/it]"
     ]
    },
    {
     "name": "stderr",
     "output_type": "stream",
     "text": [
      "\rmodules retrieved:  32%|███▏      | 37/116 [00:42<01:31,  1.15s/it]"
     ]
    },
    {
     "name": "stderr",
     "output_type": "stream",
     "text": [
      "\rmodules retrieved:  33%|███▎      | 38/116 [00:43<01:29,  1.15s/it]"
     ]
    },
    {
     "name": "stderr",
     "output_type": "stream",
     "text": [
      "\rmodules retrieved:  34%|███▎      | 39/116 [00:44<01:28,  1.15s/it]"
     ]
    },
    {
     "name": "stderr",
     "output_type": "stream",
     "text": [
      "\rmodules retrieved:  34%|███▍      | 40/116 [00:45<01:26,  1.14s/it]"
     ]
    },
    {
     "name": "stderr",
     "output_type": "stream",
     "text": [
      "\rmodules retrieved:  35%|███▌      | 41/116 [00:46<01:25,  1.14s/it]"
     ]
    },
    {
     "name": "stderr",
     "output_type": "stream",
     "text": [
      "\rmodules retrieved:  36%|███▌      | 42/116 [00:47<01:23,  1.13s/it]"
     ]
    },
    {
     "name": "stderr",
     "output_type": "stream",
     "text": [
      "\rmodules retrieved:  37%|███▋      | 43/116 [00:48<01:22,  1.12s/it]"
     ]
    },
    {
     "name": "stderr",
     "output_type": "stream",
     "text": [
      "\rmodules retrieved:  38%|███▊      | 44/116 [00:49<01:20,  1.12s/it]"
     ]
    },
    {
     "name": "stderr",
     "output_type": "stream",
     "text": [
      "\rmodules retrieved:  39%|███▉      | 45/116 [00:50<01:19,  1.12s/it]"
     ]
    },
    {
     "name": "stderr",
     "output_type": "stream",
     "text": [
      "\rmodules retrieved:  40%|███▉      | 46/116 [00:51<01:17,  1.11s/it]"
     ]
    },
    {
     "name": "stderr",
     "output_type": "stream",
     "text": [
      "\rmodules retrieved:  41%|████      | 47/116 [00:52<01:16,  1.11s/it]"
     ]
    },
    {
     "name": "stderr",
     "output_type": "stream",
     "text": [
      "\rmodules retrieved:  41%|████▏     | 48/116 [00:53<01:15,  1.11s/it]"
     ]
    },
    {
     "name": "stderr",
     "output_type": "stream",
     "text": [
      "\rmodules retrieved:  42%|████▏     | 49/116 [00:53<01:13,  1.10s/it]"
     ]
    },
    {
     "name": "stderr",
     "output_type": "stream",
     "text": [
      "\rmodules retrieved:  43%|████▎     | 50/116 [00:54<01:12,  1.10s/it]"
     ]
    },
    {
     "name": "stderr",
     "output_type": "stream",
     "text": [
      "\rmodules retrieved:  44%|████▍     | 51/116 [00:55<01:10,  1.09s/it]"
     ]
    },
    {
     "name": "stderr",
     "output_type": "stream",
     "text": [
      "\rmodules retrieved:  45%|████▍     | 52/116 [00:56<01:09,  1.08s/it]"
     ]
    },
    {
     "name": "stderr",
     "output_type": "stream",
     "text": [
      "\rmodules retrieved:  46%|████▌     | 53/116 [00:57<01:07,  1.08s/it]"
     ]
    },
    {
     "name": "stderr",
     "output_type": "stream",
     "text": [
      "\rmodules retrieved:  47%|████▋     | 54/116 [00:58<01:06,  1.08s/it]"
     ]
    },
    {
     "name": "stderr",
     "output_type": "stream",
     "text": [
      "\rmodules retrieved:  47%|████▋     | 55/116 [00:58<01:05,  1.07s/it]"
     ]
    },
    {
     "name": "stderr",
     "output_type": "stream",
     "text": [
      "\rmodules retrieved:  48%|████▊     | 56/116 [00:59<01:03,  1.06s/it]"
     ]
    },
    {
     "name": "stderr",
     "output_type": "stream",
     "text": [
      "\rmodules retrieved:  49%|████▉     | 57/116 [01:00<01:02,  1.06s/it]"
     ]
    },
    {
     "name": "stderr",
     "output_type": "stream",
     "text": [
      "\rmodules retrieved:  50%|█████     | 58/116 [01:00<01:00,  1.05s/it]"
     ]
    },
    {
     "name": "stderr",
     "output_type": "stream",
     "text": [
      "\rmodules retrieved:  51%|█████     | 59/116 [01:02<00:59,  1.05s/it]"
     ]
    },
    {
     "name": "stderr",
     "output_type": "stream",
     "text": [
      "\rmodules retrieved:  52%|█████▏    | 60/116 [01:03<00:58,  1.05s/it]"
     ]
    },
    {
     "name": "stderr",
     "output_type": "stream",
     "text": [
      "\rmodules retrieved:  53%|█████▎    | 61/116 [01:03<00:57,  1.04s/it]"
     ]
    },
    {
     "name": "stderr",
     "output_type": "stream",
     "text": [
      "\rmodules retrieved:  53%|█████▎    | 62/116 [01:04<00:56,  1.05s/it]"
     ]
    },
    {
     "name": "stderr",
     "output_type": "stream",
     "text": [
      "\rmodules retrieved:  54%|█████▍    | 63/116 [01:05<00:55,  1.05s/it]"
     ]
    },
    {
     "name": "stderr",
     "output_type": "stream",
     "text": [
      "\rmodules retrieved:  55%|█████▌    | 64/116 [01:06<00:54,  1.04s/it]"
     ]
    },
    {
     "name": "stderr",
     "output_type": "stream",
     "text": [
      "\rmodules retrieved:  56%|█████▌    | 65/116 [01:07<00:53,  1.04s/it]"
     ]
    },
    {
     "name": "stderr",
     "output_type": "stream",
     "text": [
      "\rmodules retrieved:  57%|█████▋    | 66/116 [01:08<00:51,  1.04s/it]"
     ]
    },
    {
     "name": "stderr",
     "output_type": "stream",
     "text": [
      "\rmodules retrieved:  58%|█████▊    | 67/116 [01:09<00:50,  1.04s/it]"
     ]
    },
    {
     "name": "stderr",
     "output_type": "stream",
     "text": [
      "\rmodules retrieved:  59%|█████▊    | 68/116 [01:10<00:49,  1.03s/it]"
     ]
    },
    {
     "name": "stderr",
     "output_type": "stream",
     "text": [
      "\rmodules retrieved:  59%|█████▉    | 69/116 [01:11<00:48,  1.03s/it]"
     ]
    },
    {
     "name": "stderr",
     "output_type": "stream",
     "text": [
      "\rmodules retrieved:  60%|██████    | 70/116 [01:12<00:47,  1.03s/it]"
     ]
    },
    {
     "name": "stderr",
     "output_type": "stream",
     "text": [
      "\rmodules retrieved:  61%|██████    | 71/116 [01:13<00:46,  1.04s/it]"
     ]
    },
    {
     "name": "stderr",
     "output_type": "stream",
     "text": [
      "\rmodules retrieved:  62%|██████▏   | 72/116 [01:14<00:45,  1.04s/it]"
     ]
    },
    {
     "name": "stderr",
     "output_type": "stream",
     "text": [
      "\rmodules retrieved:  63%|██████▎   | 73/116 [01:15<00:44,  1.04s/it]"
     ]
    },
    {
     "name": "stderr",
     "output_type": "stream",
     "text": [
      "\rmodules retrieved:  64%|██████▍   | 74/116 [01:17<00:44,  1.05s/it]"
     ]
    },
    {
     "name": "stderr",
     "output_type": "stream",
     "text": [
      "\rmodules retrieved:  65%|██████▍   | 75/116 [01:18<00:43,  1.05s/it]"
     ]
    },
    {
     "name": "stderr",
     "output_type": "stream",
     "text": [
      "\rmodules retrieved:  66%|██████▌   | 76/116 [01:19<00:41,  1.04s/it]"
     ]
    },
    {
     "name": "stderr",
     "output_type": "stream",
     "text": [
      "\rmodules retrieved:  66%|██████▋   | 77/116 [01:20<00:40,  1.04s/it]"
     ]
    },
    {
     "name": "stderr",
     "output_type": "stream",
     "text": [
      "\rmodules retrieved:  67%|██████▋   | 78/116 [01:20<00:39,  1.04s/it]"
     ]
    },
    {
     "name": "stderr",
     "output_type": "stream",
     "text": [
      "\rmodules retrieved:  68%|██████▊   | 79/116 [01:21<00:38,  1.03s/it]"
     ]
    },
    {
     "name": "stderr",
     "output_type": "stream",
     "text": [
      "\rmodules retrieved:  69%|██████▉   | 80/116 [01:22<00:37,  1.03s/it]"
     ]
    },
    {
     "name": "stderr",
     "output_type": "stream",
     "text": [
      "\rmodules retrieved:  70%|██████▉   | 81/116 [01:22<00:35,  1.02s/it]"
     ]
    },
    {
     "name": "stderr",
     "output_type": "stream",
     "text": [
      "\rmodules retrieved:  71%|███████   | 82/116 [01:23<00:34,  1.02s/it]"
     ]
    },
    {
     "name": "stderr",
     "output_type": "stream",
     "text": [
      "\rmodules retrieved:  72%|███████▏  | 83/116 [01:24<00:33,  1.02s/it]"
     ]
    },
    {
     "name": "stderr",
     "output_type": "stream",
     "text": [
      "\rmodules retrieved:  72%|███████▏  | 84/116 [01:25<00:32,  1.02s/it]"
     ]
    },
    {
     "name": "stderr",
     "output_type": "stream",
     "text": [
      "\rmodules retrieved:  73%|███████▎  | 85/116 [01:27<00:31,  1.03s/it]"
     ]
    },
    {
     "name": "stderr",
     "output_type": "stream",
     "text": [
      "\rmodules retrieved:  74%|███████▍  | 86/116 [01:28<00:30,  1.03s/it]"
     ]
    },
    {
     "name": "stderr",
     "output_type": "stream",
     "text": [
      "\rmodules retrieved:  75%|███████▌  | 87/116 [01:29<00:29,  1.03s/it]"
     ]
    },
    {
     "name": "stderr",
     "output_type": "stream",
     "text": [
      "\rmodules retrieved:  76%|███████▌  | 88/116 [01:30<00:28,  1.03s/it]"
     ]
    },
    {
     "name": "stderr",
     "output_type": "stream",
     "text": [
      "\rmodules retrieved:  77%|███████▋  | 89/116 [01:31<00:27,  1.03s/it]"
     ]
    },
    {
     "name": "stderr",
     "output_type": "stream",
     "text": [
      "\rmodules retrieved:  78%|███████▊  | 90/116 [01:32<00:26,  1.03s/it]"
     ]
    },
    {
     "name": "stderr",
     "output_type": "stream",
     "text": [
      "\rmodules retrieved:  78%|███████▊  | 91/116 [01:33<00:25,  1.02s/it]"
     ]
    },
    {
     "name": "stderr",
     "output_type": "stream",
     "text": [
      "\rmodules retrieved:  79%|███████▉  | 92/116 [01:34<00:24,  1.02s/it]"
     ]
    },
    {
     "name": "stderr",
     "output_type": "stream",
     "text": [
      "\rmodules retrieved:  80%|████████  | 93/116 [01:35<00:23,  1.03s/it]"
     ]
    },
    {
     "name": "stderr",
     "output_type": "stream",
     "text": [
      "\rmodules retrieved:  81%|████████  | 94/116 [01:36<00:22,  1.03s/it]"
     ]
    },
    {
     "name": "stderr",
     "output_type": "stream",
     "text": [
      "\rmodules retrieved:  82%|████████▏ | 95/116 [01:38<00:21,  1.04s/it]"
     ]
    },
    {
     "name": "stderr",
     "output_type": "stream",
     "text": [
      "\rmodules retrieved:  83%|████████▎ | 96/116 [01:39<00:20,  1.03s/it]"
     ]
    },
    {
     "name": "stderr",
     "output_type": "stream",
     "text": [
      "\rmodules retrieved:  84%|████████▎ | 97/116 [01:39<00:19,  1.03s/it]"
     ]
    },
    {
     "name": "stderr",
     "output_type": "stream",
     "text": [
      "\rmodules retrieved:  84%|████████▍ | 98/116 [01:40<00:18,  1.03s/it]"
     ]
    },
    {
     "name": "stderr",
     "output_type": "stream",
     "text": [
      "\rmodules retrieved:  85%|████████▌ | 99/116 [01:41<00:17,  1.02s/it]"
     ]
    },
    {
     "name": "stderr",
     "output_type": "stream",
     "text": [
      "\rmodules retrieved:  86%|████████▌ | 100/116 [01:42<00:16,  1.02s/it]"
     ]
    },
    {
     "name": "stderr",
     "output_type": "stream",
     "text": [
      "\rmodules retrieved:  87%|████████▋ | 101/116 [01:43<00:15,  1.02s/it]"
     ]
    },
    {
     "name": "stderr",
     "output_type": "stream",
     "text": [
      "\rmodules retrieved:  88%|████████▊ | 102/116 [01:44<00:14,  1.03s/it]"
     ]
    },
    {
     "name": "stderr",
     "output_type": "stream",
     "text": [
      "\rmodules retrieved:  89%|████████▉ | 103/116 [01:46<00:13,  1.03s/it]"
     ]
    },
    {
     "name": "stderr",
     "output_type": "stream",
     "text": [
      "\rmodules retrieved:  90%|████████▉ | 104/116 [01:47<00:12,  1.03s/it]"
     ]
    },
    {
     "name": "stderr",
     "output_type": "stream",
     "text": [
      "\rmodules retrieved:  91%|█████████ | 105/116 [01:47<00:11,  1.03s/it]"
     ]
    },
    {
     "name": "stderr",
     "output_type": "stream",
     "text": [
      "\rmodules retrieved:  91%|█████████▏| 106/116 [01:49<00:10,  1.03s/it]"
     ]
    },
    {
     "name": "stderr",
     "output_type": "stream",
     "text": [
      "\rmodules retrieved:  92%|█████████▏| 107/116 [01:50<00:09,  1.03s/it]"
     ]
    },
    {
     "name": "stderr",
     "output_type": "stream",
     "text": [
      "\rmodules retrieved:  93%|█████████▎| 108/116 [01:50<00:08,  1.03s/it]"
     ]
    },
    {
     "name": "stderr",
     "output_type": "stream",
     "text": [
      "\rmodules retrieved:  94%|█████████▍| 109/116 [01:51<00:07,  1.03s/it]"
     ]
    },
    {
     "name": "stderr",
     "output_type": "stream",
     "text": [
      "\rmodules retrieved:  95%|█████████▍| 110/116 [01:52<00:06,  1.03s/it]"
     ]
    },
    {
     "name": "stderr",
     "output_type": "stream",
     "text": [
      "\rmodules retrieved:  96%|█████████▌| 111/116 [01:53<00:05,  1.03s/it]"
     ]
    },
    {
     "name": "stderr",
     "output_type": "stream",
     "text": [
      "\rmodules retrieved:  97%|█████████▋| 112/116 [01:54<00:04,  1.02s/it]"
     ]
    },
    {
     "name": "stderr",
     "output_type": "stream",
     "text": [
      "\rmodules retrieved:  97%|█████████▋| 113/116 [01:55<00:03,  1.02s/it]"
     ]
    },
    {
     "name": "stderr",
     "output_type": "stream",
     "text": [
      "\rmodules retrieved:  98%|█████████▊| 114/116 [01:56<00:02,  1.02s/it]"
     ]
    },
    {
     "name": "stderr",
     "output_type": "stream",
     "text": [
      "\rmodules retrieved:  99%|█████████▉| 115/116 [01:57<00:01,  1.02s/it]"
     ]
    },
    {
     "name": "stderr",
     "output_type": "stream",
     "text": [
      "\rmodules retrieved: 100%|██████████| 116/116 [01:58<00:00,  1.02s/it]"
     ]
    },
    {
     "name": "stdout",
     "output_type": "stream",
     "text": [
      "CPU times: user 7.33 s, sys: 308 ms, total: 7.64 s\nWall time: 2min\n"
     ]
    },
    {
     "name": "stderr",
     "output_type": "stream",
     "text": [
      "\n"
     ]
    }
   ],
   "source": [
    "\"\"\" KEGG pathways are retrieved by querying KEGG database \"\"\"\n",
    "\n",
    "%%time \n",
    "kegg_pathways_dict = {(\"-\".join(key.split('-')[:-1])):value for key, value in \n",
    "                     ontologies.query_KEGG(database=\"pathway\", organism=\"sce\").items()}\n",
    "\n",
    "with open(\"./results/kegg_pathways/modules_dict.pkl\", \"wb+\") as pickle_file:\n",
    "    pickle.dump(kegg_pathways_dict, pickle_file)\n",
    "# with open(\"./results/kegg_pathways/modules_dict.pkl\", \"rb+\") as pickle_file:\n",
    "#     kegg_pathways_dict = pickle.load(pickle_file)"
   ]
  },
  {
   "cell_type": "markdown",
   "metadata": {},
   "source": [
    "## KEGG modules"
   ]
  },
  {
   "cell_type": "code",
   "execution_count": 7,
   "metadata": {
    "collapsed": true
   },
   "outputs": [
    {
     "name": "stderr",
     "output_type": "stream",
     "text": [
      "\rmodules retrieved:   0%|          | 0/108 [00:00<?, ?it/s]"
     ]
    },
    {
     "name": "stderr",
     "output_type": "stream",
     "text": [
      "\rmodules retrieved:   1%|          | 1/108 [00:00<01:18,  1.36it/s]"
     ]
    },
    {
     "name": "stderr",
     "output_type": "stream",
     "text": [
      "\rmodules retrieved:   2%|▏         | 2/108 [00:02<02:22,  1.35s/it]"
     ]
    },
    {
     "name": "stderr",
     "output_type": "stream",
     "text": [
      "\rmodules retrieved:   3%|▎         | 3/108 [00:03<01:59,  1.14s/it]"
     ]
    },
    {
     "name": "stderr",
     "output_type": "stream",
     "text": [
      "\rmodules retrieved:   4%|▎         | 4/108 [00:04<01:48,  1.05s/it]"
     ]
    },
    {
     "name": "stderr",
     "output_type": "stream",
     "text": [
      "\rmodules retrieved:   5%|▍         | 5/108 [00:04<01:40,  1.02it/s]"
     ]
    },
    {
     "name": "stderr",
     "output_type": "stream",
     "text": [
      "\rmodules retrieved:   6%|▌         | 6/108 [00:05<01:34,  1.08it/s]"
     ]
    },
    {
     "name": "stderr",
     "output_type": "stream",
     "text": [
      "\rmodules retrieved:   6%|▋         | 7/108 [00:06<01:29,  1.12it/s]"
     ]
    },
    {
     "name": "stderr",
     "output_type": "stream",
     "text": [
      "\rmodules retrieved:   7%|▋         | 8/108 [00:06<01:26,  1.16it/s]"
     ]
    },
    {
     "name": "stderr",
     "output_type": "stream",
     "text": [
      "\rmodules retrieved:   8%|▊         | 9/108 [00:07<01:23,  1.19it/s]"
     ]
    },
    {
     "name": "stderr",
     "output_type": "stream",
     "text": [
      "\rmodules retrieved:   9%|▉         | 10/108 [00:08<01:21,  1.20it/s]"
     ]
    },
    {
     "name": "stderr",
     "output_type": "stream",
     "text": [
      "\rmodules retrieved:  10%|█         | 11/108 [00:09<01:19,  1.22it/s]"
     ]
    },
    {
     "name": "stderr",
     "output_type": "stream",
     "text": [
      "\rmodules retrieved:  11%|█         | 12/108 [00:09<01:17,  1.24it/s]"
     ]
    },
    {
     "name": "stderr",
     "output_type": "stream",
     "text": [
      "\rmodules retrieved:  12%|█▏        | 13/108 [00:10<01:15,  1.26it/s]"
     ]
    },
    {
     "name": "stderr",
     "output_type": "stream",
     "text": [
      "\rmodules retrieved:  13%|█▎        | 14/108 [00:10<01:13,  1.28it/s]"
     ]
    },
    {
     "name": "stderr",
     "output_type": "stream",
     "text": [
      "\rmodules retrieved:  14%|█▍        | 15/108 [00:11<01:13,  1.27it/s]"
     ]
    },
    {
     "name": "stderr",
     "output_type": "stream",
     "text": [
      "\rmodules retrieved:  15%|█▍        | 16/108 [00:12<01:11,  1.28it/s]"
     ]
    },
    {
     "name": "stderr",
     "output_type": "stream",
     "text": [
      "\rmodules retrieved:  16%|█▌        | 17/108 [00:13<01:11,  1.26it/s]"
     ]
    },
    {
     "name": "stderr",
     "output_type": "stream",
     "text": [
      "\rmodules retrieved:  17%|█▋        | 18/108 [00:14<01:10,  1.28it/s]"
     ]
    },
    {
     "name": "stderr",
     "output_type": "stream",
     "text": [
      "\rmodules retrieved:  18%|█▊        | 19/108 [00:14<01:09,  1.28it/s]"
     ]
    },
    {
     "name": "stderr",
     "output_type": "stream",
     "text": [
      "\rmodules retrieved:  19%|█▊        | 20/108 [00:15<01:07,  1.29it/s]"
     ]
    },
    {
     "name": "stderr",
     "output_type": "stream",
     "text": [
      "\rmodules retrieved:  19%|█▉        | 21/108 [00:16<01:06,  1.30it/s]"
     ]
    },
    {
     "name": "stderr",
     "output_type": "stream",
     "text": [
      "\rmodules retrieved:  20%|██        | 22/108 [00:16<01:05,  1.31it/s]"
     ]
    },
    {
     "name": "stderr",
     "output_type": "stream",
     "text": [
      "\rmodules retrieved:  21%|██▏       | 23/108 [00:17<01:04,  1.32it/s]"
     ]
    },
    {
     "name": "stderr",
     "output_type": "stream",
     "text": [
      "\rmodules retrieved:  22%|██▏       | 24/108 [00:18<01:03,  1.32it/s]"
     ]
    },
    {
     "name": "stderr",
     "output_type": "stream",
     "text": [
      "\rmodules retrieved:  23%|██▎       | 25/108 [00:18<01:02,  1.33it/s]"
     ]
    },
    {
     "name": "stderr",
     "output_type": "stream",
     "text": [
      "\rmodules retrieved:  24%|██▍       | 26/108 [00:19<01:01,  1.33it/s]"
     ]
    },
    {
     "name": "stderr",
     "output_type": "stream",
     "text": [
      "\rmodules retrieved:  25%|██▌       | 27/108 [00:20<01:00,  1.34it/s]"
     ]
    },
    {
     "name": "stderr",
     "output_type": "stream",
     "text": [
      "\rmodules retrieved:  26%|██▌       | 28/108 [00:20<00:59,  1.34it/s]"
     ]
    },
    {
     "name": "stderr",
     "output_type": "stream",
     "text": [
      "\rmodules retrieved:  27%|██▋       | 29/108 [00:21<00:59,  1.32it/s]"
     ]
    },
    {
     "name": "stderr",
     "output_type": "stream",
     "text": [
      "\rmodules retrieved:  28%|██▊       | 30/108 [00:22<00:59,  1.31it/s]"
     ]
    },
    {
     "name": "stderr",
     "output_type": "stream",
     "text": [
      "\rmodules retrieved:  29%|██▊       | 31/108 [00:24<00:59,  1.29it/s]"
     ]
    },
    {
     "name": "stderr",
     "output_type": "stream",
     "text": [
      "\rmodules retrieved:  30%|██▉       | 32/108 [00:27<01:05,  1.15it/s]"
     ]
    },
    {
     "name": "stderr",
     "output_type": "stream",
     "text": [
      "\rmodules retrieved:  31%|███       | 33/108 [00:28<01:04,  1.16it/s]"
     ]
    },
    {
     "name": "stderr",
     "output_type": "stream",
     "text": [
      "\rmodules retrieved:  31%|███▏      | 34/108 [00:29<01:03,  1.17it/s]"
     ]
    },
    {
     "name": "stderr",
     "output_type": "stream",
     "text": [
      "\rmodules retrieved:  32%|███▏      | 35/108 [00:29<01:02,  1.17it/s]"
     ]
    },
    {
     "name": "stderr",
     "output_type": "stream",
     "text": [
      "\rmodules retrieved:  33%|███▎      | 36/108 [00:30<01:00,  1.18it/s]"
     ]
    },
    {
     "name": "stderr",
     "output_type": "stream",
     "text": [
      "\rmodules retrieved:  34%|███▍      | 37/108 [00:31<00:59,  1.19it/s]"
     ]
    },
    {
     "name": "stderr",
     "output_type": "stream",
     "text": [
      "\rmodules retrieved:  35%|███▌      | 38/108 [00:31<00:58,  1.19it/s]"
     ]
    },
    {
     "name": "stderr",
     "output_type": "stream",
     "text": [
      "\rmodules retrieved:  36%|███▌      | 39/108 [00:32<00:57,  1.20it/s]"
     ]
    },
    {
     "name": "stderr",
     "output_type": "stream",
     "text": [
      "\rmodules retrieved:  37%|███▋      | 40/108 [00:33<00:56,  1.20it/s]"
     ]
    },
    {
     "name": "stderr",
     "output_type": "stream",
     "text": [
      "\rmodules retrieved:  38%|███▊      | 41/108 [00:33<00:55,  1.21it/s]"
     ]
    },
    {
     "name": "stderr",
     "output_type": "stream",
     "text": [
      "\rmodules retrieved:  39%|███▉      | 42/108 [00:34<00:54,  1.21it/s]"
     ]
    },
    {
     "name": "stderr",
     "output_type": "stream",
     "text": [
      "\rmodules retrieved:  40%|███▉      | 43/108 [00:35<00:53,  1.22it/s]"
     ]
    },
    {
     "name": "stderr",
     "output_type": "stream",
     "text": [
      "\rmodules retrieved:  41%|████      | 44/108 [00:36<00:52,  1.22it/s]"
     ]
    },
    {
     "name": "stderr",
     "output_type": "stream",
     "text": [
      "\rmodules retrieved:  42%|████▏     | 45/108 [00:36<00:51,  1.22it/s]"
     ]
    },
    {
     "name": "stderr",
     "output_type": "stream",
     "text": [
      "\rmodules retrieved:  43%|████▎     | 46/108 [00:37<00:50,  1.22it/s]"
     ]
    },
    {
     "name": "stderr",
     "output_type": "stream",
     "text": [
      "\rmodules retrieved:  44%|████▎     | 47/108 [00:38<00:49,  1.23it/s]"
     ]
    },
    {
     "name": "stderr",
     "output_type": "stream",
     "text": [
      "\rmodules retrieved:  44%|████▍     | 48/108 [00:39<00:48,  1.23it/s]"
     ]
    },
    {
     "name": "stderr",
     "output_type": "stream",
     "text": [
      "\rmodules retrieved:  45%|████▌     | 49/108 [00:39<00:47,  1.23it/s]"
     ]
    },
    {
     "name": "stderr",
     "output_type": "stream",
     "text": [
      "\rmodules retrieved:  46%|████▋     | 50/108 [00:40<00:46,  1.24it/s]"
     ]
    },
    {
     "name": "stderr",
     "output_type": "stream",
     "text": [
      "\rmodules retrieved:  47%|████▋     | 51/108 [00:41<00:46,  1.24it/s]"
     ]
    },
    {
     "name": "stderr",
     "output_type": "stream",
     "text": [
      "\rmodules retrieved:  48%|████▊     | 52/108 [00:41<00:45,  1.24it/s]"
     ]
    },
    {
     "name": "stderr",
     "output_type": "stream",
     "text": [
      "\rmodules retrieved:  49%|████▉     | 53/108 [00:42<00:44,  1.24it/s]"
     ]
    },
    {
     "name": "stderr",
     "output_type": "stream",
     "text": [
      "\rmodules retrieved:  50%|█████     | 54/108 [00:43<00:43,  1.25it/s]"
     ]
    },
    {
     "name": "stderr",
     "output_type": "stream",
     "text": [
      "\rmodules retrieved:  51%|█████     | 55/108 [00:44<00:43,  1.23it/s]"
     ]
    },
    {
     "name": "stderr",
     "output_type": "stream",
     "text": [
      "\rmodules retrieved:  52%|█████▏    | 56/108 [00:46<00:43,  1.19it/s]"
     ]
    },
    {
     "name": "stderr",
     "output_type": "stream",
     "text": [
      "\rmodules retrieved:  53%|█████▎    | 57/108 [00:47<00:42,  1.19it/s]"
     ]
    },
    {
     "name": "stderr",
     "output_type": "stream",
     "text": [
      "\rmodules retrieved:  54%|█████▎    | 58/108 [00:48<00:41,  1.20it/s]"
     ]
    },
    {
     "name": "stderr",
     "output_type": "stream",
     "text": [
      "\rmodules retrieved:  55%|█████▍    | 59/108 [00:49<00:40,  1.20it/s]"
     ]
    },
    {
     "name": "stderr",
     "output_type": "stream",
     "text": [
      "\rmodules retrieved:  56%|█████▌    | 60/108 [00:49<00:39,  1.20it/s]"
     ]
    },
    {
     "name": "stderr",
     "output_type": "stream",
     "text": [
      "\rmodules retrieved:  56%|█████▋    | 61/108 [00:50<00:38,  1.21it/s]"
     ]
    },
    {
     "name": "stderr",
     "output_type": "stream",
     "text": [
      "\rmodules retrieved:  57%|█████▋    | 62/108 [00:51<00:38,  1.21it/s]"
     ]
    },
    {
     "name": "stderr",
     "output_type": "stream",
     "text": [
      "\rmodules retrieved:  58%|█████▊    | 63/108 [00:51<00:37,  1.21it/s]"
     ]
    },
    {
     "name": "stderr",
     "output_type": "stream",
     "text": [
      "\rmodules retrieved:  59%|█████▉    | 64/108 [00:52<00:36,  1.21it/s]"
     ]
    },
    {
     "name": "stderr",
     "output_type": "stream",
     "text": [
      "\rmodules retrieved:  60%|██████    | 65/108 [00:53<00:35,  1.22it/s]"
     ]
    },
    {
     "name": "stderr",
     "output_type": "stream",
     "text": [
      "\rmodules retrieved:  61%|██████    | 66/108 [00:54<00:34,  1.22it/s]"
     ]
    },
    {
     "name": "stderr",
     "output_type": "stream",
     "text": [
      "\rmodules retrieved:  62%|██████▏   | 67/108 [00:54<00:33,  1.22it/s]"
     ]
    },
    {
     "name": "stderr",
     "output_type": "stream",
     "text": [
      "\rmodules retrieved:  63%|██████▎   | 68/108 [00:55<00:32,  1.23it/s]"
     ]
    },
    {
     "name": "stderr",
     "output_type": "stream",
     "text": [
      "\rmodules retrieved:  64%|██████▍   | 69/108 [00:56<00:31,  1.23it/s]"
     ]
    },
    {
     "name": "stderr",
     "output_type": "stream",
     "text": [
      "\rmodules retrieved:  65%|██████▍   | 70/108 [00:56<00:30,  1.23it/s]"
     ]
    },
    {
     "name": "stderr",
     "output_type": "stream",
     "text": [
      "\rmodules retrieved:  66%|██████▌   | 71/108 [00:57<00:30,  1.23it/s]"
     ]
    },
    {
     "name": "stderr",
     "output_type": "stream",
     "text": [
      "\rmodules retrieved:  67%|██████▋   | 72/108 [00:58<00:29,  1.23it/s]"
     ]
    },
    {
     "name": "stderr",
     "output_type": "stream",
     "text": [
      "\rmodules retrieved:  68%|██████▊   | 73/108 [00:59<00:28,  1.23it/s]"
     ]
    },
    {
     "name": "stderr",
     "output_type": "stream",
     "text": [
      "\rmodules retrieved:  69%|██████▊   | 74/108 [01:00<00:27,  1.23it/s]"
     ]
    },
    {
     "name": "stderr",
     "output_type": "stream",
     "text": [
      "\rmodules retrieved:  69%|██████▉   | 75/108 [01:00<00:26,  1.23it/s]"
     ]
    },
    {
     "name": "stderr",
     "output_type": "stream",
     "text": [
      "\rmodules retrieved:  70%|███████   | 76/108 [01:01<00:25,  1.24it/s]"
     ]
    },
    {
     "name": "stderr",
     "output_type": "stream",
     "text": [
      "\rmodules retrieved:  71%|███████▏  | 77/108 [01:02<00:25,  1.24it/s]"
     ]
    },
    {
     "name": "stderr",
     "output_type": "stream",
     "text": [
      "\rmodules retrieved:  72%|███████▏  | 78/108 [01:02<00:24,  1.24it/s]"
     ]
    },
    {
     "name": "stderr",
     "output_type": "stream",
     "text": [
      "\rmodules retrieved:  73%|███████▎  | 79/108 [01:03<00:23,  1.24it/s]"
     ]
    },
    {
     "name": "stderr",
     "output_type": "stream",
     "text": [
      "\rmodules retrieved:  74%|███████▍  | 80/108 [01:04<00:22,  1.24it/s]"
     ]
    },
    {
     "name": "stderr",
     "output_type": "stream",
     "text": [
      "\rmodules retrieved:  75%|███████▌  | 81/108 [01:05<00:21,  1.24it/s]"
     ]
    },
    {
     "name": "stderr",
     "output_type": "stream",
     "text": [
      "\rmodules retrieved:  76%|███████▌  | 82/108 [01:05<00:20,  1.25it/s]"
     ]
    },
    {
     "name": "stderr",
     "output_type": "stream",
     "text": [
      "\rmodules retrieved:  77%|███████▋  | 83/108 [01:06<00:20,  1.25it/s]"
     ]
    },
    {
     "name": "stderr",
     "output_type": "stream",
     "text": [
      "\rmodules retrieved:  78%|███████▊  | 84/108 [01:07<00:19,  1.25it/s]"
     ]
    },
    {
     "name": "stderr",
     "output_type": "stream",
     "text": [
      "\rmodules retrieved:  79%|███████▊  | 85/108 [01:07<00:18,  1.25it/s]"
     ]
    },
    {
     "name": "stderr",
     "output_type": "stream",
     "text": [
      "\rmodules retrieved:  80%|███████▉  | 86/108 [01:08<00:17,  1.26it/s]"
     ]
    },
    {
     "name": "stderr",
     "output_type": "stream",
     "text": [
      "\rmodules retrieved:  81%|████████  | 87/108 [01:09<00:16,  1.26it/s]"
     ]
    },
    {
     "name": "stderr",
     "output_type": "stream",
     "text": [
      "\rmodules retrieved:  81%|████████▏ | 88/108 [01:09<00:15,  1.26it/s]"
     ]
    },
    {
     "name": "stderr",
     "output_type": "stream",
     "text": [
      "\rmodules retrieved:  82%|████████▏ | 89/108 [01:10<00:15,  1.26it/s]"
     ]
    },
    {
     "name": "stderr",
     "output_type": "stream",
     "text": [
      "\rmodules retrieved:  83%|████████▎ | 90/108 [01:11<00:14,  1.26it/s]"
     ]
    },
    {
     "name": "stderr",
     "output_type": "stream",
     "text": [
      "\rmodules retrieved:  84%|████████▍ | 91/108 [01:11<00:13,  1.26it/s]"
     ]
    },
    {
     "name": "stderr",
     "output_type": "stream",
     "text": [
      "\rmodules retrieved:  85%|████████▌ | 92/108 [01:12<00:12,  1.27it/s]"
     ]
    },
    {
     "name": "stderr",
     "output_type": "stream",
     "text": [
      "\rmodules retrieved:  86%|████████▌ | 93/108 [01:13<00:11,  1.27it/s]"
     ]
    },
    {
     "name": "stderr",
     "output_type": "stream",
     "text": [
      "\rmodules retrieved:  87%|████████▋ | 94/108 [01:14<00:11,  1.27it/s]"
     ]
    },
    {
     "name": "stderr",
     "output_type": "stream",
     "text": [
      "\rmodules retrieved:  88%|████████▊ | 95/108 [01:14<00:10,  1.27it/s]"
     ]
    },
    {
     "name": "stderr",
     "output_type": "stream",
     "text": [
      "\rmodules retrieved:  89%|████████▉ | 96/108 [01:15<00:09,  1.27it/s]"
     ]
    },
    {
     "name": "stderr",
     "output_type": "stream",
     "text": [
      "\rmodules retrieved:  90%|████████▉ | 97/108 [01:16<00:08,  1.28it/s]"
     ]
    },
    {
     "name": "stderr",
     "output_type": "stream",
     "text": [
      "\rmodules retrieved:  91%|█████████ | 98/108 [01:16<00:07,  1.28it/s]"
     ]
    },
    {
     "name": "stderr",
     "output_type": "stream",
     "text": [
      "\rmodules retrieved:  92%|█████████▏| 99/108 [01:17<00:07,  1.28it/s]"
     ]
    },
    {
     "name": "stderr",
     "output_type": "stream",
     "text": [
      "\rmodules retrieved:  93%|█████████▎| 100/108 [01:18<00:06,  1.28it/s]"
     ]
    },
    {
     "name": "stderr",
     "output_type": "stream",
     "text": [
      "\rmodules retrieved:  94%|█████████▎| 101/108 [01:18<00:05,  1.28it/s]"
     ]
    },
    {
     "name": "stderr",
     "output_type": "stream",
     "text": [
      "\rmodules retrieved:  94%|█████████▍| 102/108 [01:19<00:04,  1.28it/s]"
     ]
    },
    {
     "name": "stderr",
     "output_type": "stream",
     "text": [
      "\rmodules retrieved:  95%|█████████▌| 103/108 [01:20<00:03,  1.28it/s]"
     ]
    },
    {
     "name": "stderr",
     "output_type": "stream",
     "text": [
      "\rmodules retrieved:  96%|█████████▋| 104/108 [01:21<00:03,  1.28it/s]"
     ]
    },
    {
     "name": "stderr",
     "output_type": "stream",
     "text": [
      "\rmodules retrieved:  97%|█████████▋| 105/108 [01:21<00:02,  1.28it/s]"
     ]
    },
    {
     "name": "stderr",
     "output_type": "stream",
     "text": [
      "\rmodules retrieved:  98%|█████████▊| 106/108 [01:22<00:01,  1.29it/s]"
     ]
    },
    {
     "name": "stderr",
     "output_type": "stream",
     "text": [
      "\rmodules retrieved:  99%|█████████▉| 107/108 [01:23<00:00,  1.29it/s]"
     ]
    },
    {
     "name": "stderr",
     "output_type": "stream",
     "text": [
      "\rmodules retrieved: 100%|██████████| 108/108 [01:23<00:00,  1.29it/s]"
     ]
    },
    {
     "name": "stdout",
     "output_type": "stream",
     "text": [
      "CPU times: user 3.08 s, sys: 148 ms, total: 3.22 s\nWall time: 1min 25s\n"
     ]
    },
    {
     "name": "stderr",
     "output_type": "stream",
     "text": [
      "\n"
     ]
    }
   ],
   "source": [
    "\"\"\" Same for KEGG modules. \"\"\"\n",
    "\n",
    "%%time\n",
    "reload(ontologies)\n",
    "\n",
    "kegg_modules_dict = {key.replace('=>', 'to'):value for key, value in \n",
    "                     ontologies.query_KEGG(database=\"module\", organism=\"sce\").items()}\n",
    "\n",
    "with open(\"./results/kegg_modules/modules_dict.pkl\", \"wb+\") as pickle_file:\n",
    "    pickle.dump(kegg_modules_dict, pickle_file)\n"
   ]
  },
  {
   "cell_type": "markdown",
   "metadata": {},
   "source": [
    "## Analyzing new data: interpolation of genotypes"
   ]
  },
  {
   "cell_type": "code",
   "execution_count": 64,
   "metadata": {},
   "outputs": [
    {
     "name": "stderr",
     "output_type": "stream",
     "text": [
      "\r  0%|          | 0/6580 [00:00<?, ?it/s]"
     ]
    },
    {
     "name": "stderr",
     "output_type": "stream",
     "text": [
      "\r  1%|          | 55/6580 [00:00<00:12, 543.64it/s]"
     ]
    },
    {
     "name": "stderr",
     "output_type": "stream",
     "text": [
      "\r  2%|▏         | 123/6580 [00:00<00:11, 577.13it/s]"
     ]
    },
    {
     "name": "stderr",
     "output_type": "stream",
     "text": [
      "\r  3%|▎         | 205/6580 [00:00<00:10, 632.47it/s]"
     ]
    },
    {
     "name": "stderr",
     "output_type": "stream",
     "text": [
      "\r  4%|▍         | 267/6580 [00:00<00:10, 628.60it/s]"
     ]
    },
    {
     "name": "stderr",
     "output_type": "stream",
     "text": [
      "\r  5%|▌         | 330/6580 [00:00<00:09, 625.97it/s]"
     ]
    },
    {
     "name": "stderr",
     "output_type": "stream",
     "text": [
      "\r  6%|▌         | 397/6580 [00:00<00:09, 636.80it/s]"
     ]
    },
    {
     "name": "stderr",
     "output_type": "stream",
     "text": [
      "\r  7%|▋         | 456/6580 [00:00<00:10, 570.52it/s]"
     ]
    },
    {
     "name": "stderr",
     "output_type": "stream",
     "text": [
      "\r  8%|▊         | 523/6580 [00:00<00:10, 595.13it/s]"
     ]
    },
    {
     "name": "stderr",
     "output_type": "stream",
     "text": [
      "\r  9%|▉         | 594/6580 [00:00<00:09, 624.91it/s]"
     ]
    },
    {
     "name": "stderr",
     "output_type": "stream",
     "text": [
      "\r 10%|█         | 659/6580 [00:01<00:09, 631.15it/s]"
     ]
    },
    {
     "name": "stderr",
     "output_type": "stream",
     "text": [
      "\r 11%|█         | 722/6580 [00:01<00:10, 566.20it/s]"
     ]
    },
    {
     "name": "stderr",
     "output_type": "stream",
     "text": [
      "\r 12%|█▏        | 780/6580 [00:01<00:11, 518.85it/s]"
     ]
    },
    {
     "name": "stderr",
     "output_type": "stream",
     "text": [
      "\r 13%|█▎        | 846/6580 [00:01<00:10, 552.68it/s]"
     ]
    },
    {
     "name": "stderr",
     "output_type": "stream",
     "text": [
      "\r 14%|█▍        | 925/6580 [00:01<00:09, 607.19it/s]"
     ]
    },
    {
     "name": "stderr",
     "output_type": "stream",
     "text": [
      "\r 15%|█▌        | 1013/6580 [00:01<00:08, 668.94it/s]"
     ]
    },
    {
     "name": "stderr",
     "output_type": "stream",
     "text": [
      "\r 17%|█▋        | 1092/6580 [00:01<00:07, 701.14it/s]"
     ]
    },
    {
     "name": "stderr",
     "output_type": "stream",
     "text": [
      "\r 18%|█▊        | 1181/6580 [00:01<00:07, 746.58it/s]"
     ]
    },
    {
     "name": "stderr",
     "output_type": "stream",
     "text": [
      "\r 19%|█▉        | 1267/6580 [00:01<00:06, 774.69it/s]"
     ]
    },
    {
     "name": "stderr",
     "output_type": "stream",
     "text": [
      "\r 21%|██        | 1351/6580 [00:02<00:06, 791.21it/s]"
     ]
    },
    {
     "name": "stderr",
     "output_type": "stream",
     "text": [
      "\r 22%|██▏       | 1437/6580 [00:02<00:06, 809.97it/s]"
     ]
    },
    {
     "name": "stderr",
     "output_type": "stream",
     "text": [
      "\r 23%|██▎       | 1520/6580 [00:02<00:06, 801.97it/s]"
     ]
    },
    {
     "name": "stderr",
     "output_type": "stream",
     "text": [
      "\r 24%|██▍       | 1606/6580 [00:02<00:06, 817.49it/s]"
     ]
    },
    {
     "name": "stderr",
     "output_type": "stream",
     "text": [
      "\r 26%|██▌       | 1693/6580 [00:02<00:05, 831.77it/s]"
     ]
    },
    {
     "name": "stderr",
     "output_type": "stream",
     "text": [
      "\r 27%|██▋       | 1777/6580 [00:02<00:05, 827.50it/s]"
     ]
    },
    {
     "name": "stderr",
     "output_type": "stream",
     "text": [
      "\r 28%|██▊       | 1865/6580 [00:02<00:05, 841.80it/s]"
     ]
    },
    {
     "name": "stderr",
     "output_type": "stream",
     "text": [
      "\r 30%|██▉       | 1950/6580 [00:02<00:05, 839.32it/s]"
     ]
    },
    {
     "name": "stderr",
     "output_type": "stream",
     "text": [
      "\r 31%|███       | 2045/6580 [00:02<00:05, 868.23it/s]"
     ]
    },
    {
     "name": "stderr",
     "output_type": "stream",
     "text": [
      "\r 32%|███▏      | 2133/6580 [00:02<00:05, 863.84it/s]"
     ]
    },
    {
     "name": "stderr",
     "output_type": "stream",
     "text": [
      "\r 34%|███▎      | 2220/6580 [00:03<00:05, 839.90it/s]"
     ]
    },
    {
     "name": "stderr",
     "output_type": "stream",
     "text": [
      "\r 35%|███▌      | 2305/6580 [00:03<00:05, 804.71it/s]"
     ]
    },
    {
     "name": "stderr",
     "output_type": "stream",
     "text": [
      "\r 36%|███▋      | 2387/6580 [00:03<00:05, 781.20it/s]"
     ]
    },
    {
     "name": "stderr",
     "output_type": "stream",
     "text": [
      "\r 38%|███▊      | 2476/6580 [00:03<00:05, 810.30it/s]"
     ]
    },
    {
     "name": "stderr",
     "output_type": "stream",
     "text": [
      "\r 39%|███▉      | 2563/6580 [00:03<00:04, 825.54it/s]"
     ]
    },
    {
     "name": "stderr",
     "output_type": "stream",
     "text": [
      "\r 40%|████      | 2656/6580 [00:03<00:04, 853.88it/s]"
     ]
    },
    {
     "name": "stderr",
     "output_type": "stream",
     "text": [
      "\r 42%|████▏     | 2751/6580 [00:03<00:04, 878.14it/s]"
     ]
    },
    {
     "name": "stderr",
     "output_type": "stream",
     "text": [
      "\r 43%|████▎     | 2840/6580 [00:03<00:04, 878.51it/s]"
     ]
    },
    {
     "name": "stderr",
     "output_type": "stream",
     "text": [
      "\r 45%|████▍     | 2933/6580 [00:03<00:04, 892.47it/s]"
     ]
    },
    {
     "name": "stderr",
     "output_type": "stream",
     "text": [
      "\r 46%|████▌     | 3023/6580 [00:03<00:04, 874.17it/s]"
     ]
    },
    {
     "name": "stderr",
     "output_type": "stream",
     "text": [
      "\r 47%|████▋     | 3115/6580 [00:04<00:03, 884.95it/s]"
     ]
    },
    {
     "name": "stderr",
     "output_type": "stream",
     "text": [
      "\r 49%|████▉     | 3208/6580 [00:04<00:03, 893.19it/s]"
     ]
    },
    {
     "name": "stderr",
     "output_type": "stream",
     "text": [
      "\r 50%|█████     | 3299/6580 [00:04<00:03, 896.58it/s]"
     ]
    },
    {
     "name": "stderr",
     "output_type": "stream",
     "text": [
      "\r 52%|█████▏    | 3389/6580 [00:04<00:03, 885.90it/s]"
     ]
    },
    {
     "name": "stderr",
     "output_type": "stream",
     "text": [
      "\r 53%|█████▎    | 3478/6580 [00:04<00:03, 877.39it/s]"
     ]
    },
    {
     "name": "stderr",
     "output_type": "stream",
     "text": [
      "\r 54%|█████▍    | 3573/6580 [00:04<00:03, 897.03it/s]"
     ]
    },
    {
     "name": "stderr",
     "output_type": "stream",
     "text": [
      "\r 56%|█████▌    | 3664/6580 [00:04<00:03, 898.37it/s]"
     ]
    },
    {
     "name": "stderr",
     "output_type": "stream",
     "text": [
      "\r 57%|█████▋    | 3754/6580 [00:04<00:03, 893.23it/s]"
     ]
    },
    {
     "name": "stderr",
     "output_type": "stream",
     "text": [
      "\r 58%|█████▊    | 3845/6580 [00:04<00:03, 895.52it/s]"
     ]
    },
    {
     "name": "stderr",
     "output_type": "stream",
     "text": [
      "\r 60%|█████▉    | 3935/6580 [00:04<00:02, 890.85it/s]"
     ]
    },
    {
     "name": "stderr",
     "output_type": "stream",
     "text": [
      "\r 61%|██████    | 4029/6580 [00:05<00:02, 902.25it/s]"
     ]
    },
    {
     "name": "stderr",
     "output_type": "stream",
     "text": [
      "\r 63%|██████▎   | 4120/6580 [00:05<00:02, 890.71it/s]"
     ]
    },
    {
     "name": "stderr",
     "output_type": "stream",
     "text": [
      "\r 64%|██████▍   | 4214/6580 [00:05<00:02, 904.81it/s]"
     ]
    },
    {
     "name": "stderr",
     "output_type": "stream",
     "text": [
      "\r 65%|██████▌   | 4306/6580 [00:05<00:02, 906.82it/s]"
     ]
    },
    {
     "name": "stderr",
     "output_type": "stream",
     "text": [
      "\r 67%|██████▋   | 4397/6580 [00:05<00:02, 890.17it/s]"
     ]
    },
    {
     "name": "stderr",
     "output_type": "stream",
     "text": [
      "\r 68%|██████▊   | 4495/6580 [00:05<00:02, 914.53it/s]"
     ]
    },
    {
     "name": "stderr",
     "output_type": "stream",
     "text": [
      "\r 70%|██████▉   | 4587/6580 [00:05<00:02, 904.61it/s]"
     ]
    },
    {
     "name": "stderr",
     "output_type": "stream",
     "text": [
      "\r 71%|███████   | 4680/6580 [00:05<00:02, 910.08it/s]"
     ]
    },
    {
     "name": "stderr",
     "output_type": "stream",
     "text": [
      "\r 73%|███████▎  | 4772/6580 [00:05<00:01, 905.36it/s]"
     ]
    },
    {
     "name": "stderr",
     "output_type": "stream",
     "text": [
      "\r 74%|███████▍  | 4863/6580 [00:06<00:01, 894.56it/s]"
     ]
    },
    {
     "name": "stderr",
     "output_type": "stream",
     "text": [
      "\r 75%|███████▌  | 4961/6580 [00:06<00:01, 917.13it/s]"
     ]
    },
    {
     "name": "stderr",
     "output_type": "stream",
     "text": [
      "\r 77%|███████▋  | 5053/6580 [00:06<00:01, 914.23it/s]"
     ]
    },
    {
     "name": "stderr",
     "output_type": "stream",
     "text": [
      "\r 78%|███████▊  | 5145/6580 [00:06<00:01, 915.21it/s]"
     ]
    },
    {
     "name": "stderr",
     "output_type": "stream",
     "text": [
      "\r 80%|███████▉  | 5237/6580 [00:06<00:01, 916.01it/s]"
     ]
    },
    {
     "name": "stderr",
     "output_type": "stream",
     "text": [
      "\r 81%|████████  | 5329/6580 [00:06<00:01, 861.18it/s]"
     ]
    },
    {
     "name": "stderr",
     "output_type": "stream",
     "text": [
      "\r 82%|████████▏ | 5416/6580 [00:06<00:01, 837.61it/s]"
     ]
    },
    {
     "name": "stderr",
     "output_type": "stream",
     "text": [
      "\r 84%|████████▎ | 5503/6580 [00:06<00:01, 846.88it/s]"
     ]
    },
    {
     "name": "stderr",
     "output_type": "stream",
     "text": [
      "\r 85%|████████▌ | 5595/6580 [00:06<00:01, 866.79it/s]"
     ]
    },
    {
     "name": "stderr",
     "output_type": "stream",
     "text": [
      "\r 86%|████████▋ | 5683/6580 [00:06<00:01, 865.01it/s]"
     ]
    },
    {
     "name": "stderr",
     "output_type": "stream",
     "text": [
      "\r 88%|████████▊ | 5781/6580 [00:07<00:00, 896.03it/s]"
     ]
    },
    {
     "name": "stderr",
     "output_type": "stream",
     "text": [
      "\r 89%|████████▉ | 5876/6580 [00:07<00:00, 910.57it/s]"
     ]
    },
    {
     "name": "stderr",
     "output_type": "stream",
     "text": [
      "\r 91%|█████████ | 5968/6580 [00:07<00:00, 900.12it/s]"
     ]
    },
    {
     "name": "stderr",
     "output_type": "stream",
     "text": [
      "\r 92%|█████████▏| 6059/6580 [00:07<00:00, 901.03it/s]"
     ]
    },
    {
     "name": "stderr",
     "output_type": "stream",
     "text": [
      "\r 93%|█████████▎| 6150/6580 [00:07<00:00, 897.15it/s]"
     ]
    },
    {
     "name": "stderr",
     "output_type": "stream",
     "text": [
      "\r 95%|█████████▍| 6246/6580 [00:07<00:00, 914.12it/s]"
     ]
    },
    {
     "name": "stderr",
     "output_type": "stream",
     "text": [
      "\r 96%|█████████▋| 6344/6580 [00:07<00:00, 930.45it/s]"
     ]
    },
    {
     "name": "stderr",
     "output_type": "stream",
     "text": [
      "\r 98%|█████████▊| 6438/6580 [00:07<00:00, 922.54it/s]"
     ]
    },
    {
     "name": "stderr",
     "output_type": "stream",
     "text": [
      "\r 99%|█████████▉| 6531/6580 [00:07<00:00, 909.88it/s]"
     ]
    },
    {
     "name": "stderr",
     "output_type": "stream",
     "text": [
      "\r100%|██████████| 6580/6580 [00:07<00:00, 828.96it/s]"
     ]
    },
    {
     "name": "stderr",
     "output_type": "stream",
     "text": [
      "\n\r  0%|          | 0/1311 [00:00<?, ?it/s]"
     ]
    },
    {
     "name": "stderr",
     "output_type": "stream",
     "text": [
      "\r 12%|█▏        | 160/1311 [00:00<00:00, 1599.08it/s]"
     ]
    },
    {
     "name": "stderr",
     "output_type": "stream",
     "text": [
      "\r 25%|██▌       | 332/1311 [00:00<00:00, 1631.82it/s]"
     ]
    },
    {
     "name": "stderr",
     "output_type": "stream",
     "text": [
      "\r 37%|███▋      | 482/1311 [00:00<00:00, 1587.99it/s]"
     ]
    },
    {
     "name": "stderr",
     "output_type": "stream",
     "text": [
      "\r 50%|████▉     | 649/1311 [00:00<00:00, 1609.43it/s]"
     ]
    },
    {
     "name": "stderr",
     "output_type": "stream",
     "text": [
      "\r 61%|██████▏   | 806/1311 [00:00<00:00, 1597.18it/s]"
     ]
    },
    {
     "name": "stderr",
     "output_type": "stream",
     "text": [
      "\r 75%|███████▍  | 978/1311 [00:00<00:00, 1631.72it/s]"
     ]
    },
    {
     "name": "stderr",
     "output_type": "stream",
     "text": [
      "\r 88%|████████▊ | 1152/1311 [00:00<00:00, 1662.38it/s]"
     ]
    },
    {
     "name": "stderr",
     "output_type": "stream",
     "text": [
      "\r100%|██████████| 1311/1311 [00:00<00:00, 1636.73it/s]"
     ]
    },
    {
     "name": "stderr",
     "output_type": "stream",
     "text": [
      "\n"
     ]
    },
    {
     "data": {
      "text/plain": [
       "defaultdict(collections.Counter,\n            {'eQTLs': Counter({False: 3884, True: 2696}),\n             'pQTLs': Counter({False: 652, True: 659})})"
      ]
     },
     "execution_count": 64,
     "metadata": {},
     "output_type": "execute_result"
    }
   ],
   "source": [
    "\"\"\" The total number of genes with linkages is calculated here. \"\"\"\n",
    "\n",
    "has_linkages = collections.defaultdict(collections.Counter)\n",
    "for qtl_type, qtl_df in [(\"eQTLs\", qtls_df[\"eQTLs_old\"]), (\"pQTLs\", qtls_df[\"pQTLs\"])]:\n",
    "    for gene_name in tqdm(expression_df[\"eQTLs_old\"][\"gene\"] if qtl_type == \"eQTLs\" else expression_df[\"pQTLs\"][\"gene\"]):\n",
    "        has_linkages[qtl_type][len(qtls.linked_markers(qtl_df, [gene_name])) > 0] += 1\n",
    "has_linkages"
   ]
  },
  {
   "cell_type": "code",
   "execution_count": 57,
   "metadata": {},
   "outputs": [
    {
     "name": "stdout",
     "output_type": "stream",
     "text": [
      "[('chrXV:9917175', 309), ('chrXI:6467627', 284), ('chrVII:3718760', 253), ('chrXII:7147844', 233), ('chrX:5764181', 208), ('chrXIII:8198821', 203), ('chrIV:1352268', 188), ('chrV:2868159', 145), ('chrVIII:4789628', 140), ('chrIX:5329884', 124)]\nCPU times: user 443 ms, sys: 4.05 ms, total: 447 ms\nWall time: 440 ms\n"
     ]
    }
   ],
   "source": [
    "%%time\n",
    "\n",
    "\"\"\" \n",
    "Full genome scan was used in the recent paper by Krulyak's lab. Using their eQTLs is ok whenever it doesn't require simultaneous analysis of pQTLs.\n",
    "To make use of all datasets that we have, we decided to interpolate inheritance patterns of the old markers by the new ones.\n",
    "The algorithm is simple: just choose the label of the nearest new marker.   \n",
    "\"\"\"\n",
    "\n",
    "old_gen_df = pd.read_table(\"./data/eQTLs/genotypes_2011.csv\")[[\"SNP\", \"chromosome\", \"position\"]]\n",
    "new_gen_df = pd.read_table(\"./data/eQTLs/genotypes_2018_filtered.csv\")\n",
    "\n",
    " # Chromosomes are enumerated in roman numerals in the new data \n",
    "roman2arabic = {\"I\":1, \"II\":2, \"III\":3, \"IV\":4, \"V\":5, \"VI\":6, \"VII\":7, \"VIII\":8, \"IX\":9, \"X\":10, \"XI\":11, \"XII\":12, \"XIII\":13, \"XIV\":14, \"XV\":15, \"XVI\":16}\n",
    "arabic2roman = {val:key for key, val in roman2arabic.items()}\n",
    "\n",
    "# Binary search \n",
    "def find_nearest(array, value):\n",
    "    idx = np.searchsorted(array, value, side=\"left\")\n",
    "    shift = idx > 0 and (idx == len(array) or np.fabs(value - array[idx-1]) < np.fabs(value - array[idx]))\n",
    "    return array[idx - shift]\n",
    "\n",
    "# Markers get grouped by chromosome. Their genetic coordinates are sorted inside each group.\n",
    "# After that, the groups are merged into one big list, that is stored on disk.\n",
    "old_chr2markpos = {n : old_gen_df.groupby(by=\"chromosome\").get_group(n).sort_values(by=\"position\") for n in range(1, 17)}\n",
    "new_chr2markpos = {n : new_gen_df.groupby(by=\"chromosome\").get_group(n).sort_values(by=\"position\") for n in range(1, 17)}\n",
    "short2full = {colname.split(\"_\")[0] : colname for colname in new_gen_df[\"SNP\"]}\n",
    "\n",
    "\n",
    "# For each of the old markers find the nearest new marker. \n",
    "old_markers2new_markers = {}\n",
    "# Remember the distance between them to analyze the distribution later.\n",
    "min_distances = []\n",
    "for n in range(1, 17):\n",
    "    for _, row in old_chr2markpos[n].iterrows():\n",
    "        nearest_position = find_nearest(new_chr2markpos[n][\"position\"].values, int(row[\"position\"]))\n",
    "        old_markers2new_markers[row[\"SNP\"]] = \"chr{}:{}\".format(arabic2roman[n], nearest_position)\n",
    "        min_distances.append(abs(int(row[\"position\"]) - nearest_position))\n",
    "# Calculate how often each of new markers turned out to be the nearest one.\n",
    "occurences = collections.Counter(old_markers2new_markers.values())\n",
    "print(\"{}\".format(occurences.most_common(10))) "
   ]
  },
  {
   "cell_type": "code",
   "execution_count": 61,
   "metadata": {
    "collapsed": true
   },
   "outputs": [
    {
     "data": {
      "image/png": "[encoded data removed]",
      "text/plain": [
       "<Figure size 1440x720 with 1 Axes>"
      ]
     },
     "metadata": {},
     "output_type": "display_data"
    },
    {
     "name": "stdout",
     "output_type": "stream",
     "text": [
      "5250077.5\n"
     ]
    }
   ],
   "source": [
    "\"\"\" How close are old markers to new ones, on average and in general? \"\"\"\n",
    "\n",
    "plt.figure(figsize=(20, 10))\n",
    "counts, bins, patches = plt.hist(min_distances, alpha=0.8, bins=util.bincount_scott(min_distances), edgecolor=\"black\", linewidth=1.2)\n",
    "plt.title(\"Distance to nearest new marker\", fontsize=30)\n",
    "plt.xticks(bins, fontsize=15, rotation=\"vertical\")\n",
    "plt.xlabel(\"Distance in genomic coordiantes\", fontsize=25)\n",
    "plt.yticks(fontsize=15)\n",
    "plt.ylabel(\"Number of markers\", fontsize=25)\n",
    "plt.savefig(\"./img/distance_to_new_markers.png\", dpi=300)\n",
    "plt.show()\n",
    "\n",
    "print(np.median(min_distances))\n",
    "\n",
    "# pd.DataFrame(list(zip(np.round(bins), counts)), columns=[\"bin_left_border\", \"num_markers\"]).to_csv(\"./img/distance_to_new_markers.csv\", sep='\\t', index=False)"
   ]
  },
  {
   "cell_type": "code",
   "execution_count": 9,
   "metadata": {},
   "outputs": [
    {
     "name": "stdout",
     "output_type": "stream",
     "text": [
      "CPU times: user 4.38 s, sys: 80 ms, total: 4.46 s\nWall time: 4.58 s\n"
     ]
    }
   ],
   "source": [
    "\"\"\" Dump the interpolated genotypes on disc. \"\"\"\n",
    "\n",
    "%%time\n",
    "\n",
    "predicted_rows = []\n",
    "for old_marker, nearest_new in old_markers2new_markers.items():\n",
    "    predicted_rows.append(np.hstack((old_marker, new_gen_df[short2full[nearest_new]].values + 1)))\n",
    "predicted_df = pd.DataFrame(predicted_rows, columns=np.hstack((\"SNP\", new_gen_df[\"strain\"])))\n",
    "predicted_df.to_csv(\"./data/eQTLs/interpolated_genotypes.csv\", sep='\\t', index=False)\n"
   ]
  },
  {
   "cell_type": "code",
   "execution_count": null,
   "metadata": {},
   "outputs": [],
   "source": []
  },
  {
   "cell_type": "markdown",
   "metadata": {},
   "source": [
    "## Analyzing new data: eQTLs"
   ]
  },
  {
   "cell_type": "code",
   "execution_count": 4,
   "metadata": {},
   "outputs": [
    {
     "data": {
      "text/plain": [
       "3672"
      ]
     },
     "execution_count": 4,
     "metadata": {},
     "output_type": "execute_result"
    }
   ],
   "source": [
    "\"\"\" How many eQTLs are in both real and interpolated data? \"\"\"\n",
    "\n",
    "len(np.intersect1d(\n",
    "    list(map(tuple, qtls_df[\"eQTLs_interpolated\"][[\"SNP\", \"gene\"]].values)), \n",
    "    list(map(tuple, qtls_df[\"eQTLs_old\"][[\"SNP\", \"gene\"]].values))\n",
    "))"
   ]
  },
  {
   "cell_type": "code",
   "execution_count": 35,
   "metadata": {
    "collapsed": false
   },
   "outputs": [
    {
     "data": {
      "image/png": "[encoded data removed]",
      "text/plain": [
       "<Figure size 2160x720 with 1 Axes>"
      ]
     },
     "metadata": {},
     "output_type": "display_data"
    },
    {
     "name": "stdout",
     "output_type": "stream",
     "text": [
      "CPU times: user 2.46 s, sys: 7.95 ms, total: 2.47 s\nWall time: 2.47 s\n"
     ]
    }
   ],
   "source": [
    "%%time\n",
    "\"\"\" Plot the distributions of each QTL dataset\"\"\"\n",
    "reload(qtls)\n",
    "\n",
    "sns.set(style=\"whitegrid\")\n",
    "\n",
    "roman2arabic = {\"I\":1, \"II\":2, \"III\":3, \"IV\":4, \"V\":5, \"VI\":6, \"VII\":7, \"VIII\":8, \"IX\":9, \"X\":10, \"XI\":11, \"XII\":12, \"XIII\":13, \"XIV\":14, \"XV\":15, \"XVI\":16}\n",
    "arabic2roman = {val:key for key, val in roman2arabic.items()}\n",
    "\n",
    "q_value_threshold = 1e-3\n",
    "with open(\"./data/genotypes/order_of_markers.pkl\", \"rb\") as pickle_file:\n",
    "    marker2location = pickle.load(pickle_file)\n",
    "with open(\"./data/genotypes/chromosome_endpoints.pkl\", \"rb\") as pickle_file:\n",
    "    chromosome_endpoints = pickle.load(pickle_file)\n",
    "\n",
    "old_eQTL_markers, old_eQTL_y = qtls.linkages2gencoords(qtls_df[\"eQTLs_old\"])\n",
    "# interpolated_eQTL_markers, interpolated_eQTL_y = qtls.linkages2gencoords(qtls_df[\"eQTLs_interpolated\"].query(\"q_value <= {}\".format(q_value_threshold)))\n",
    "# interpolated_eQTL_markers, interpolated_eQTL_y = qtls.linkages2gencoords(pd.DataFrame(np.vstack(qtl_list), columns=[\"SNP\", \"gene\"]))\n",
    "new_eQTL_markers, new_eQTL_y = qtls.linkages2gencoords(qtls_df[\"eQTLs_new\"])\n",
    "pQTL_markers, pQTL_y = qtls.linkages2gencoords(qtls_df[\"pQTLs\"])\n",
    "# recomputed_new_eQTL_markers, recomputed_new_eQTL_y = qtls.linkages2gencoords(qtls_df[\"recomputed_new_eQTLs\"][qtls_df[\"recomputed_new_eQTLs\"][\"q.value\"] <= 1e-32])\n",
    "recomputed_new_eQTL_markers, recomputed_new_eQTL_y = qtls.linkages2gencoords(pd.DataFrame(np.vstack(qtl_list), columns=[\"SNP\", \"gene\"]))\n",
    "\n",
    "old_eQTL_x = list(map(marker2location.get, old_eQTL_markers))\n",
    "# interpolated_eQTL_x = list(map(marker2location.get, interpolated_eQTL_markers))\n",
    "new_eQTL_x = list(map(marker2location.get, new_eQTL_markers))\n",
    "pQTL_x = list(map(marker2location.get, pQTL_markers))\n",
    "recomputed_new_eQTL_x = list(map(marker2location.get, recomputed_new_eQTL_markers)) \n",
    "\n",
    "colors_dict = dict(zip([\"old_eQTLs\", \"interpolated_eQTLs\", \"new_eQTLs\", \"pQTLs\", \"recomputed_new_eQTLs\"], plt.rcParams['axes.prop_cycle'].by_key()['color'][:5]))\n",
    "\n",
    "plt.figure(figsize=(30, 10))\n",
    "plt.title(\"Distribution of QTLs in the genome, q-value threshold for recomputed eQTLs — 1e-31\".format(q_value_threshold * 100.), fontsize=30)\n",
    "for n in range(1, 17):\n",
    "    plt.axvline(x=chromosome_endpoints[n-1], linestyle='--', color='grey', alpha=0.8)\n",
    "    plt.text(chromosome_endpoints[n-1], 120, arabic2roman[n], fontsize=15)\n",
    "# plt.plot(old_eQTL_x, old_eQTL_y, label=\"old_eQTLs\", color=colors_dict[\"old_eQTLs\"])\n",
    "# plt.fill_between(old_eQTL_x, 0, old_eQTL_y, alpha=0.5, color=colors_dict[\"old_eQTLs\"])\n",
    "# chunks = np.linspace(0, chromosome_endpoints[16], 100)\n",
    "# vals = np.zeros(len(chunks))\n",
    "# for i in range(len(chunks) - 1):\n",
    "#     vals[i] = sum((chunks[i] < val < chunks[i + 1] for val in interpolated_eQTL_x))\n",
    "# plt.step(chunks, -vals, label=\"markers in chunk\", color=plt.rcParams[\"axes.prop_cycle\"].by_key()[\"color\"][0])\n",
    "# plt.plot(interpolated_eQTL_x, interpolated_eQTL_y, label=\"interpolated_eQTLs\", alpha=0.7, color=colors_dict[\"interpolated_eQTLs\"])\n",
    "# plt.fill_between(interpolated_eQTL_x, 0, interpolated_eQTL_y, alpha=0.5, color=colors_dict[\"interpolated_eQTLs\"])\n",
    "# plt.plot(new_eQTL_x, -new_eQTL_y, label=\"36498 eQTLs from paper\", alpha=1, color=colors_dict[\"new_eQTLs\"])\n",
    "# plt.fill_between(new_eQTL_x, 0, -new_eQTL_y, alpha=0.7, color=colors_dict[\"new_eQTLs\"])\n",
    "plt.plot(pQTL_x, -pQTL_y, label=\"pQTLs\", alpha=0.7, color=colors_dict[\"pQTLs\"])\n",
    "plt.fill_between(pQTL_x, -pQTL_y, 0, alpha=0.5, color=colors_dict[\"pQTLs\"])\n",
    "plt.plot(recomputed_new_eQTL_x, recomputed_new_eQTL_y, label=\"36024 eQTLs computed with MatrixEQTL\", alpha=1, color=colors_dict[\"recomputed_new_eQTLs\"])\n",
    "plt.fill_between(recomputed_new_eQTL_x, 0, recomputed_new_eQTL_y, alpha=0.7, color=colors_dict[\"recomputed_new_eQTLs\"])\n",
    "plt.xlabel(\"Genomic coordinates\", fontsize=25)\n",
    "plt.ylabel(\"Number of linkages (abs. value)\", fontsize=25)\n",
    "plt.xticks(fontsize=20)\n",
    "plt.yticks(fontsize=20)\n",
    "plt.legend(fontsize=20, loc=4)\n",
    "plt.grid(linestyle=\"dotted\")\n",
    "plt.savefig(\"./img/qtl_distributions/qtls_combined.png\", dpi=300)\n",
    "plt.show()\n"
   ]
  },
  {
   "cell_type": "code",
   "execution_count": 157,
   "metadata": {
    "collapsed": true
   },
   "outputs": [
    {
     "ename": "NameError",
     "evalue": "name 'modules_dict' is not defined",
     "traceback": [
      "\u001b[0;31m---------------------------------------------------------------------------\u001b[0m",
      "\u001b[0;31mNameError\u001b[0m                                 Traceback (most recent call last)",
      "\u001b[0;32m<ipython-input-157-0dd7437016dd>\u001b[0m in \u001b[0;36m<module>\u001b[0;34m()\u001b[0m\n\u001b[0;32m----> 1\u001b[0;31m \u001b[0;32mfor\u001b[0m \u001b[0mmodule_name\u001b[0m\u001b[0;34m,\u001b[0m \u001b[0mmodule_genes\u001b[0m \u001b[0;32min\u001b[0m \u001b[0mtqdm\u001b[0m\u001b[0;34m(\u001b[0m\u001b[0mmodules_dict\u001b[0m\u001b[0;34m.\u001b[0m\u001b[0mitems\u001b[0m\u001b[0;34m(\u001b[0m\u001b[0;34m)\u001b[0m\u001b[0;34m)\u001b[0m\u001b[0;34m:\u001b[0m\u001b[0;34m\u001b[0m\u001b[0m\n\u001b[0m\u001b[1;32m      2\u001b[0m     module_graph = interactome_graph.subgraph(\n\u001b[1;32m      3\u001b[0m         \u001b[0mnp\u001b[0m\u001b[0;34m.\u001b[0m\u001b[0mintersect1d\u001b[0m\u001b[0;34m(\u001b[0m\u001b[0mmodule_genes\u001b[0m\u001b[0;34m,\u001b[0m \u001b[0minteractome_graph\u001b[0m\u001b[0;34m.\u001b[0m\u001b[0mvs\u001b[0m\u001b[0;34m[\u001b[0m\u001b[0;34m\"name\"\u001b[0m\u001b[0;34m]\u001b[0m\u001b[0;34m)\u001b[0m\u001b[0;34m\u001b[0m\u001b[0m\n\u001b[1;32m      4\u001b[0m     ).simplify()\n\u001b[1;32m      5\u001b[0m     \u001b[0mmodule_graph\u001b[0m\u001b[0;34m.\u001b[0m\u001b[0mvs\u001b[0m\u001b[0;34m.\u001b[0m\u001b[0mselect\u001b[0m\u001b[0;34m(\u001b[0m\u001b[0m_degree\u001b[0m\u001b[0;34m=\u001b[0m\u001b[0;36m0\u001b[0m\u001b[0;34m)\u001b[0m\u001b[0;34m.\u001b[0m\u001b[0mdelete\u001b[0m\u001b[0;34m(\u001b[0m\u001b[0;34m)\u001b[0m\u001b[0;34m\u001b[0m\u001b[0m\n",
      "\u001b[0;31mNameError\u001b[0m: name 'modules_dict' is not defined"
     ],
     "output_type": "error"
    }
   ],
   "source": [
    "for module_name, module_genes in tqdm(modules_dict.items()):\n",
    "    module_graph = interactome_graph.subgraph(\n",
    "        np.intersect1d(module_genes, interactome_graph.vs[\"name\"])\n",
    "    ).simplify()\n",
    "    module_graph.vs.select(_degree=0).delete()\n",
    "    if module_graph.vcount() > 0:\n",
    "        qtls.plot_module_graph(\n",
    "            destdir=\"./results/{}/new_eQTLs/\".format(modules_type), \n",
    "            module_graph=module_graph, \n",
    "            qtl_df=qtls_df[\"eQTLs_new\"], \n",
    "            filename=module_name\n",
    "        )"
   ]
  },
  {
   "cell_type": "markdown",
   "metadata": {},
   "source": [
    "## ModuleQTLs: concept introduction and rationale"
   ]
  },
  {
   "cell_type": "code",
   "execution_count": 33,
   "metadata": {},
   "outputs": [],
   "source": [
    "for modules_type in [\"geneontology\", \"kegg_modules\", \"kegg_pathways\", \"thecellmap\"]:\n",
    "    old_pred_df = pd.read_table(\"./archive/{}/eQTLs_old/pQTLs_from_eQTLs.csv\".format(modules_type)).sort_values(by=\"module_name\")\n",
    "    interpolated_pred_df = pd.read_table(\"./archive/{}/eQTLs_interpolated/pQTLs_from_eQTLs.csv\".format(modules_type)).sort_values(by=\"module_name\")\n",
    "    \n",
    "    plt.figure(figsize=(20, 10))\n",
    "    plt.title(\"{}: predicting pQTLs via eQTLs & PPIN\".format(modules_type), fontsize=25)\n",
    "    plt.plot(old_pred_df[\"overlap_ratio\"].values, label=\"old_eQTLs\")\n",
    "    plt.fill_between(range(len(old_pred_df[\"overlap_ratio\"].values)), 0, old_pred_df[\"overlap_ratio\"].values, alpha=0.3)\n",
    "    plt.plot(-interpolated_pred_df[\"overlap_ratio\"].values, label=\"interpolated_eQTLs\")\n",
    "    plt.fill_between(range(len(interpolated_pred_df[\"overlap_ratio\"].values)), -interpolated_pred_df[\"overlap_ratio\"].values, 0, alpha=0.3)\n",
    "    plt.xlabel(\"Number of functional module in sorted order\", fontsize=15)\n",
    "    plt.ylabel(\"Percentage of pQTLs predicted correctly\", fontsize=15)\n",
    "    plt.legend(fontsize=15)\n",
    "    plt.savefig(\"./img/pQTL_prediction/{}_pQTLs_prediction_old_interpolated.png\".format(modules_type), dpi=300)\n",
    "    # plt.show()\n",
    "    plt.close()\n"
   ]
  },
  {
   "cell_type": "code",
   "execution_count": 35,
   "metadata": {},
   "outputs": [],
   "source": [
    "for modules_type in [\"geneontology\", \"kegg_modules\", \"kegg_pathways\", \"thecellmap\"]:\n",
    "    old_intersection_df = pd.read_table(\"./archive/{}/eQTLs_old/eQTL_pQTL_intersection.csv\".format(modules_type))\n",
    "    interpolated_intersection_df = pd.read_table(\"./archive/{}/eQTLs_interpolated/eQTL_pQTL_intersection.csv\".format(modules_type))\n",
    "    \n",
    "    plt.figure(figsize=(20, 10))\n",
    "    plt.title(\"{}: eQTL/pQTL intersection\".format(modules_type), fontsize=25)\n",
    "    plt.plot(old_intersection_df[\"q_value_cutoff\"].values, old_intersection_df[\"real_modules\"].values, label=\"old eQTLs, real modules\")\n",
    "    # plt.fill_between(range(old_intersection_df.shape[0]), 0, old_intersection_df[\"real_modules\"].values, alpha=0.3)\n",
    "    plt.plot(old_intersection_df[\"q_value_cutoff\"].values, old_intersection_df[\"random_modules\"].values, label=\"old eQTLs, random modules\")\n",
    "    # plt.fill_between(range(old_intersection_df.shape[0]), 0, old_intersection_df[\"random_modules\"].values, alpha=0.3)\n",
    "    plt.plot(interpolated_intersection_df[\"q_value_cutoff\"].values, interpolated_intersection_df[\"real_modules\"].values, label=\"interpolated eQTLs, real modules\")\n",
    "    # plt.fill_between(range(interpolated_intersection_df.shape[0]), -interpolated_intersection_df[\"real_modules\"].values, 0, alpha=0.3)\n",
    "    plt.plot(interpolated_intersection_df[\"q_value_cutoff\"].values, interpolated_intersection_df[\"random_modules\"].values, label=\"interpolated eQTLs, random modules\")\n",
    "    # plt.fill_between(range(interpolated_intersection_df.shape[0]), -interpolated_intersection_df[\"random_modules\"].values, 0, alpha=0.3)\n",
    "    plt.xscale('log')\n",
    "    plt.xlabel(\"q-value threshold\", fontsize=15)\n",
    "    plt.ylabel(\"Jaccard coefficient\", fontsize=15)\n",
    "    plt.legend(fontsize=15)\n",
    "    plt.savefig(\"./img/eQTL_pQTL_intersection/{}.png\".format(modules_type), dpi=300)\n",
    "    # plt.show()\n",
    "    plt.close()\n"
   ]
  },
  {
   "cell_type": "code",
   "execution_count": 5,
   "metadata": {
    "collapsed": true
   },
   "outputs": [
    {
     "data": {
      "image/png": "[encoded data removed]",
      "text/plain": [
       "<Figure size 1440x720 with 1 Axes>"
      ]
     },
     "metadata": {},
     "output_type": "display_data"
    }
   ],
   "source": [
    "import seaborn as sns\n",
    "\n",
    "plt.figure(figsize=(20, 10))\n",
    "frame_start = np.random.RandomState().choice(range(1, genotypes_df[\"eQTLs_new\"].shape[1] // 2))\n",
    "frame_end = frame_start + 10\n",
    "genotype_rows = genotypes_df[\"eQTLs_new\"].iloc[:, frame_start:frame_end].values.T\n",
    "genotype_rows[genotype_rows == 2] = 1\n",
    "# genotype_rows += stats.uniform().rvs(size=genotype_rows.shape)\n",
    "sns.heatmap(genotype_rows, xticklabels=False, yticklabels=False, cbar=False, cmap=\"Greys\");\n",
    "plt.savefig(\"./img/inheritance_patterns\")\n",
    "# plt.show()\n"
   ]
  },
  {
   "cell_type": "code",
   "execution_count": 28,
   "metadata": {
    "collapsed": true
   },
   "outputs": [
    {
     "data": {
      "image/png": "[encoded data removed]",
      "text/plain": [
       "<Figure size 1440x720 with 1 Axes>"
      ]
     },
     "metadata": {},
     "output_type": "display_data"
    }
   ],
   "source": [
    "qtls_df[\"eQTLs_new_generated\"] = pd.read_table(\"./data/eQTLs/new_qtls_from_scratch.csv\")\n",
    "qtls_df[\"eQTLs_new_generated\"].columns = [\"SNP\", \"gene\", \"p_value\", \"q_value\"] \n"
   ]
  },
  {
   "cell_type": "code",
   "execution_count": 70,
   "metadata": {
    "collapsed": true
   },
   "outputs": [
    {
     "data": {
      "image/png": "[encoded data removed]",
      "text/plain": [
       "<Figure size 1440x720 with 1 Axes>"
      ]
     },
     "metadata": {},
     "output_type": "display_data"
    }
   ],
   "source": [
    "plt.figure(figsize=(20, 10))\n",
    "plt.title(\"Distribution of q-values of old eQTLs\", fontsize=25)\n",
    "plt.xscale(\"log\")\n",
    "sns.set(color_codes=True)\n",
    "sns.distplot(bins=10.**np.arange(-16, -1), a=qtls_df[\"pQTLs\"][\"q_value\"], kde=False)\n",
    "plt.xticks(fontsize=20)\n",
    "plt.yticks(fontsize=20)\n",
    "plt.savefig(\"./img/qtl_computing/pQTLs_old.png\", dpi=300)\n",
    "plt.show()\n",
    "plt.close()\n"
   ]
  },
  {
   "cell_type": "code",
   "execution_count": 96,
   "metadata": {},
   "outputs": [],
   "source": [
    "fdr_cutoffs = np.append(10. ** np.arange(-16, -1), 0.05)\n",
    "i = 0\n",
    "partial_leq = np.zeros_like(fdr_cutoffs)\n",
    "for i, q_thr in enumerate(fdr_cutoffs):\n",
    "    partial_leq[i] = len(\n",
    "        set(map(tuple, qtls_df[\"eQTLs_old\"].query(\"q_value <= {}\".format(q_thr))[[\"SNP\", \"gene\"]].values)) & \n",
    "        set(map(tuple, qtls_df[\"pQTLs\"].query(\"q_value <= {}\".format(q_thr))[[\"SNP\", \"gene\"]].values))\n",
    "    )\n",
    "partial_leq = np.cumsum(partial_leq)"
   ]
  },
  {
   "cell_type": "code",
   "execution_count": 97,
   "metadata": {
    "collapsed": true
   },
   "outputs": [
    {
     "data": {
      "text/html": [
       "<div>\n",
       "<style scoped>\n",
       "    .dataframe tbody tr th:only-of-type {\n",
       "        vertical-align: middle;\n",
       "    }\n",
       "\n",
       "    .dataframe tbody tr th {\n",
       "        vertical-align: top;\n",
       "    }\n",
       "\n",
       "    .dataframe thead th {\n",
       "        text-align: right;\n",
       "    }\n",
       "</style>\n",
       "<table border=\"1\" class=\"dataframe\">\n",
       "  <thead>\n",
       "    <tr style=\"text-align: right;\">\n",
       "      <th></th>\n",
       "      <th>q_value_threshold</th>\n",
       "      <th>linkages_below</th>\n",
       "    </tr>\n",
       "  </thead>\n",
       "  <tbody>\n",
       "    <tr>\n",
       "      <th>0</th>\n",
       "      <td>1.000000e-16</td>\n",
       "      <td>0.0</td>\n",
       "    </tr>\n",
       "    <tr>\n",
       "      <th>1</th>\n",
       "      <td>1.000000e-15</td>\n",
       "      <td>0.0</td>\n",
       "    </tr>\n",
       "    <tr>\n",
       "      <th>2</th>\n",
       "      <td>1.000000e-14</td>\n",
       "      <td>0.0</td>\n",
       "    </tr>\n",
       "    <tr>\n",
       "      <th>3</th>\n",
       "      <td>1.000000e-13</td>\n",
       "      <td>0.0</td>\n",
       "    </tr>\n",
       "    <tr>\n",
       "      <th>4</th>\n",
       "      <td>1.000000e-12</td>\n",
       "      <td>0.0</td>\n",
       "    </tr>\n",
       "    <tr>\n",
       "      <th>5</th>\n",
       "      <td>1.000000e-11</td>\n",
       "      <td>9.0</td>\n",
       "    </tr>\n",
       "    <tr>\n",
       "      <th>6</th>\n",
       "      <td>1.000000e-10</td>\n",
       "      <td>33.0</td>\n",
       "    </tr>\n",
       "    <tr>\n",
       "      <th>7</th>\n",
       "      <td>1.000000e-09</td>\n",
       "      <td>63.0</td>\n",
       "    </tr>\n",
       "    <tr>\n",
       "      <th>8</th>\n",
       "      <td>1.000000e-08</td>\n",
       "      <td>119.0</td>\n",
       "    </tr>\n",
       "    <tr>\n",
       "      <th>9</th>\n",
       "      <td>1.000000e-07</td>\n",
       "      <td>190.0</td>\n",
       "    </tr>\n",
       "    <tr>\n",
       "      <th>10</th>\n",
       "      <td>1.000000e-06</td>\n",
       "      <td>302.0</td>\n",
       "    </tr>\n",
       "    <tr>\n",
       "      <th>11</th>\n",
       "      <td>1.000000e-05</td>\n",
       "      <td>442.0</td>\n",
       "    </tr>\n",
       "    <tr>\n",
       "      <th>12</th>\n",
       "      <td>1.000000e-04</td>\n",
       "      <td>704.0</td>\n",
       "    </tr>\n",
       "    <tr>\n",
       "      <th>13</th>\n",
       "      <td>1.000000e-03</td>\n",
       "      <td>1222.0</td>\n",
       "    </tr>\n",
       "    <tr>\n",
       "      <th>14</th>\n",
       "      <td>1.000000e-02</td>\n",
       "      <td>2223.0</td>\n",
       "    </tr>\n",
       "    <tr>\n",
       "      <th>15</th>\n",
       "      <td>5.000000e-02</td>\n",
       "      <td>3697.0</td>\n",
       "    </tr>\n",
       "  </tbody>\n",
       "</table>\n",
       "</div>"
      ],
      "text/plain": [
       "<div>\n",
       "<style scoped>\n",
       "    .dataframe tbody tr th:only-of-type {\n",
       "        vertical-align: middle;\n",
       "    }\n",
       "\n",
       "    .dataframe tbody tr th {\n",
       "        vertical-align: top;\n",
       "    }\n",
       "\n",
       "    .dataframe thead th {\n",
       "        text-align: right;\n",
       "    }\n",
       "</style>\n",
       "<table border=\"1\" class=\"dataframe\">\n",
       "  <thead>\n",
       "    <tr style=\"text-align: right;\">\n",
       "      <th></th>\n",
       "      <th>q_value_threshold</th>\n",
       "      <th>linkages_below</th>\n",
       "    </tr>\n",
       "  </thead>\n",
       "  <tbody>\n",
       "    <tr>\n",
       "      <th>0</th>\n",
       "      <td>1.000000e-16</td>\n",
       "      <td>0.0</td>\n",
       "    </tr>\n",
       "    <tr>\n",
       "      <th>1</th>\n",
       "      <td>1.000000e-15</td>\n",
       "      <td>0.0</td>\n",
       "    </tr>\n",
       "    <tr>\n",
       "      <th>2</th>\n",
       "      <td>1.000000e-14</td>\n",
       "      <td>0.0</td>\n",
       "    </tr>\n",
       "    <tr>\n",
       "      <th>3</th>\n",
       "      <td>1.000000e-13</td>\n",
       "      <td>0.0</td>\n",
       "    </tr>\n",
       "    <tr>\n",
       "      <th>4</th>\n",
       "      <td>1.000000e-12</td>\n",
       "      <td>0.0</td>\n",
       "    </tr>\n",
       "    <tr>\n",
       "      <th>5</th>\n",
       "      <td>1.000000e-11</td>\n",
       "      <td>9.0</td>\n",
       "    </tr>\n",
       "    <tr>\n",
       "      <th>6</th>\n",
       "      <td>1.000000e-10</td>\n",
       "      <td>33.0</td>\n",
       "    </tr>\n",
       "    <tr>\n",
       "      <th>7</th>\n",
       "      <td>1.000000e-09</td>\n",
       "      <td>63.0</td>\n",
       "    </tr>\n",
       "    <tr>\n",
       "      <th>8</th>\n",
       "      <td>1.000000e-08</td>\n",
       "      <td>119.0</td>\n",
       "    </tr>\n",
       "    <tr>\n",
       "      <th>9</th>\n",
       "      <td>1.000000e-07</td>\n",
       "      <td>190.0</td>\n",
       "    </tr>\n",
       "    <tr>\n",
       "      <th>10</th>\n",
       "      <td>1.000000e-06</td>\n",
       "      <td>302.0</td>\n",
       "    </tr>\n",
       "    <tr>\n",
       "      <th>11</th>\n",
       "      <td>1.000000e-05</td>\n",
       "      <td>442.0</td>\n",
       "    </tr>\n",
       "    <tr>\n",
       "      <th>12</th>\n",
       "      <td>1.000000e-04</td>\n",
       "      <td>704.0</td>\n",
       "    </tr>\n",
       "    <tr>\n",
       "      <th>13</th>\n",
       "      <td>1.000000e-03</td>\n",
       "      <td>1222.0</td>\n",
       "    </tr>\n",
       "    <tr>\n",
       "      <th>14</th>\n",
       "      <td>1.000000e-02</td>\n",
       "      <td>2223.0</td>\n",
       "    </tr>\n",
       "    <tr>\n",
       "      <th>15</th>\n",
       "      <td>5.000000e-02</td>\n",
       "      <td>3697.0</td>\n",
       "    </tr>\n",
       "  </tbody>\n",
       "</table>\n",
       "</div>"
      ]
     },
     "execution_count": 97,
     "metadata": {},
     "output_type": "execute_result"
    }
   ],
   "source": [
    "pd.DataFrame(\n",
    "    np.column_stack((fdr_cutoffs, partial_leq)),\n",
    "    columns=[\"q_value_threshold\", \"linkages_below\"]\n",
    ")"
   ]
  },
  {
   "cell_type": "code",
   "execution_count": 75,
   "metadata": {
    "collapsed": false
   },
   "outputs": [
    {
     "data": {
      "image/png": "[encoded data removed]",
      "text/plain": [
       "<Figure size 1440x720 with 1 Axes>"
      ]
     },
     "metadata": {},
     "output_type": "display_data"
    }
   ],
   "source": [
    "plt.figure(figsize=(20, 10))\n",
    "plt.xscale(\"log\")\n",
    "sns.set(font_scale=2)\n",
    "sns.lineplot(fdr_cutoffs, partial_leq, label=\"linkages below threshold\")\n",
    "plt.axvline(x=1e-3, linestyle=\"--\", color=\"red\", alpha=0.8)\n",
    "plt.savefig(\"./img/qtl_computing/pQTLs_old_lineplot.png\", dpi=300)\n",
    "plt.show()\n",
    "plt.close()\n"
   ]
  },
  {
   "cell_type": "code",
   "execution_count": null,
   "metadata": {},
   "outputs": [],
   "source": [
    "\"\"\" Generating data for GFLasso \"\"\"\n",
    "\n",
    "module_genes = sorted(\n",
    "    set(modules_dict[\"Respiration, oxidative phosphorylation, mitochondrial targeting\"]) \n",
    "    & set(interactome_graph.vs[\"name\"])\n",
    "    & set(expression_df[\"eQTLs_old\"].dropna()[\"gene\"].values)\n",
    ")\n",
    "linked_markers = sorted(qtls_df[\"eQTLs_old\"][qtls_df[\"eQTLs_old\"][\"gene\"].isin(module_genes)][\"SNP\"].values)\n",
    "genotypes = genotypes_df[\"eQTLs_old\"][genotypes_df[\"eQTLs_old\"][\"SNP\"].isin(linked_markers)].sort_values(by=\"SNP\")\n",
    "genotypes.dropna(inplace=True)\n",
    "for colname in genotypes.columns[1:]:\n",
    "    genotypes[colname] = genotypes[colname] - 1\n",
    "expression = expression_df[\"eQTLs_old\"][expression_df[\"eQTLs_old\"][\"gene\"].isin(module_genes)].dropna().sort_values(by=\"gene\")\n",
    "genotypes.T.to_csv(\"./genotypes.csv\", sep='\\t', index=False)\n",
    "expression.T.to_csv(\"./expression.csv\", sep='\\t', index=False)\n",
    "\n",
    "incidence_matrix = np.zeros(shape=(len(module_genes), len(module_genes)), dtype=int)\n",
    "for i in range(incidence_matrix.shape[0]):\n",
    "    for j in range(incidence_matrix.shape[1]):\n",
    "        if i != j and interactome_graph.are_connected(module_genes[i], module_genes[j]):\n",
    "            incidence_matrix[i][j] = 1\n",
    "np.savetxt(fname=\"./incidence_matrix.txt\", X=incidence_matrix, fmt=\"%d\")"
   ]
  },
  {
   "cell_type": "code",
   "execution_count": 3,
   "metadata": {},
   "outputs": [
    {
     "name": "stderr",
     "output_type": "stream",
     "text": [
      "/home/vvi/anaconda3/lib/python3.5/importlib/_bootstrap.py:222: RuntimeWarning: numpy.dtype size changed, may indicate binary incompatibility. Expected 96, got 88\n  return f(*args, **kwds)\n/home/vvi/anaconda3/lib/python3.5/importlib/_bootstrap.py:222: RuntimeWarning: numpy.dtype size changed, may indicate binary incompatibility. Expected 96, got 88\n  return f(*args, **kwds)\n"
     ]
    },
    {
     "name": "stdout",
     "output_type": "stream",
     "text": [
      "CPU times: user 84.7 ms, sys: 17.9 ms, total: 103 ms\nWall time: 553 ms\n"
     ]
    }
   ],
   "source": [
    "%%time\n",
    "\"\"\" Reproducing QTL mapping technique from https://elifesciences.org/articles/35471 \"\"\"\n",
    "\n",
    "from sklearn import preprocessing\n",
    "import warnings\n",
    "\n",
    "random.seed(time.time())\n",
    "chromosome2markers = {i : genotypes_df[\"eQTLs_old\"].groupby(\"chromosome\").get_group(i)[\"SNP\"] for i in range(1, 17)}\n",
    "\n",
    "\n",
    "def nan_to_zero_then_scale(data, inplace=False, axis=1):\n",
    "    \"\"\"\n",
    "    :param data: numpy ndarray; numerical at best, but type-casting is taken care of\n",
    "    :param axis: integer; axis to scale along   \n",
    "    :param inplace: boolean; whether to create a copy or to modify the matrix in-place\n",
    "    :return: numerical numpy ndarray of the same shape with zero mean and unit variance along specified axis\n",
    "    \"\"\"\n",
    "    with warnings.catch_warnings():\n",
    "        warnings.simplefilter(\"ignore\")\n",
    "        return preprocessing.scale(\n",
    "            np.nan_to_num(data.astype(np.float32), copy=not inplace),\n",
    "            axis=axis, copy=not inplace\n",
    "        )\n",
    "\n",
    "\n",
    "def linkage_LOD_scores(genotypes_matrix, expression_matrix, inplace=False):\n",
    "    \"\"\"\n",
    "    LOD_score(gene, marker) = -n_strains * log(1 - r^2) / (2 log(10)),\n",
    "    where r is the Pearson correlation coefficient between vectors of\n",
    "    gene's expression values and marker's inheritance patterns among strains.\n",
    "    Exact formula for LOD score was taken from this paper: https://elifesciences.org/articles/35471  \n",
    "    \n",
    "    :param genotypes_matrix: numerical matrix, dimensions = n_markers x n_strains; \n",
    "                             we used -1 for BY allele and 1 for RM allele, but this choice \n",
    "                             of numerical representation is rather arbitrary  \n",
    "    :param expression_matrix: numerical matrix, dimensions = n_genes x n_strains\n",
    "    :param inplace_flag: boolean flag, introduces side effects, but saves memory by pre-processing matrices in-place  \n",
    "    :return: numerical n_genes x n_markers matrix; (i, j)-th entry is a LOD-score of (gene_i, marker_j) linkage.\n",
    "    \n",
    "    \"\"\"\n",
    "    # if samples X and Y are centered and scaled, their Pearson's r-coefficient\n",
    "    # is simply (their dot product) / (samples'_size - 1).\n",
    "    # Matrix multiplication can be used to speed up the computation of Pearson's r-coefficients\n",
    "    # between rows of genotypes_matrix and rows of expression matrix.\n",
    "    n_strains = genotypes_matrix.shape[1]\n",
    "    pearsonr = np.matmul(\n",
    "        nan_to_zero_then_scale(expression_matrix, inplace),\n",
    "        nan_to_zero_then_scale(genotypes_matrix, inplace).T\n",
    "    ) / (n_strains - 1)\n",
    "    return -n_strains * np.log(1 - pearsonr ** 2) / (2 * np.log(10))\n",
    "\n",
    "\n",
    "\"\"\" Finding peak LOD-score-per-chromosome markers for each gene as in https://elifesciences.org/articles/35471 \"\"\"\n",
    "\n",
    "\n",
    "def preprocessing_candidate_linkages(expression_df, genotypes_df, output_dict=None):\n",
    "    \"\"\"\n",
    "    Pretty useless function, will be removed soon.\n",
    "    :param expression_df:  \n",
    "    :param genotypes_df: \n",
    "    :param output_dict: \n",
    "    :return: dict: str —> list; mapping between genes and markers with peak LOD-scores for those genes   \n",
    "    \"\"\"\n",
    "    \n",
    "    \"\"\" \n",
    "        Нужно выбрасывать маркеры, которые уже входят в модель!\n",
    "        Хотя они, по идее, не должны снова обнаруживаться, но кто знает...\n",
    "        Эту функцию нужно либо убрать совсем, либо разбить на несколько... \n",
    "        В текущем виде её сложно переиспользовать.  \n",
    "    \"\"\"\n",
    "    \n",
    "    gene2peak_LOD_markers = collections.defaultdict(list) if output_dict is None else output_dict\n",
    "    expression_matrix = expression_df.values[:, 1:].astype(np.float32)\n",
    "    genotypes_matrix = genotypes_df.values[:, 1:-2].astype(np.float32) - 1\n",
    "    \n",
    "    LOD_scores = linkage_LOD_scores(genotypes_matrix, expression_matrix, inplace=True)\n",
    "    peak_LOD_marker_ids = np.argmax(LOD_scores, axis=1)\n",
    "    peak_LOD_values = np.max(LOD_scores, axis=1)\n",
    "\n",
    "    candidate_linkages_df = pd.DataFrame(\n",
    "        [(genotypes_df[\"SNP\"].values[peak_LOD_marker_ids[i]], gene, peak_LOD_values[i])\n",
    "         for i, gene in enumerate(expression_df[\"gene\"])],\n",
    "        columns=[\"SNP\", \"gene\", \"LOD\"]\n",
    "    )\n",
    "\n",
    "    for marker, gene in candidate_linkages_df.query(\"LOD >= 3.5\")[[\"SNP\", \"gene\"]].values:\n",
    "        if marker not in gene2peak_LOD_markers[gene]:\n",
    "            gene2peak_LOD_markers[gene].append(marker)\n",
    "    return gene2peak_LOD_markers\n",
    "\n",
    "\n",
    "import sklearn.linear_model\n",
    "def compute_residual_expression(expression_dataframe, genotypes_dataframe, gene2peak_LOD_markers):\n",
    "    \"\"\"\n",
    "    Fits a linear model: E = QG + R, \n",
    "        where E stands for expression profile of a particular gene, \n",
    "        G — for markers (one or several) with peak LOD-scores for that gene,\n",
    "        Q — for coefficients of the linear model,\n",
    "        R — for residual expression of that gene\n",
    "    :param expression_dataframe: pandas dataframe; columns — \"[\"gene\"] + phenotypes\"\n",
    "    :param genotypes_dataframe: pandas dataframe; columns — \"[\"SNP\"] + phenotypes + [\"chromosome\", \"position\"]\"\n",
    "                                -1 stands for BY allele, 1 — for RM allele, 0 — for NaN \n",
    "    :param gene2peak_LOD_markers: dict: str —> list; mapping between genes and markers with peak LOD-scores for those genes.   \n",
    "                                    Inheritance patterns of those markers are predictors in linear model. \n",
    "    :return: pandas dataframe; residual expression values for genes in initial expression dataframe\n",
    "    \"\"\"\n",
    "    expression_matrix = np.nan_to_num(expression_dataframe.values[:, 1:].astype(np.float32))\n",
    "    genotypes_matrix = np.nan_to_num(genotypes_dataframe.values[:, 1:-2].astype(np.float32) - 1)\n",
    "    \n",
    "    n_models_unchanged = 0\n",
    "    residual_expression = []\n",
    "    for gene in expression_dataframe[\"gene\"]:\n",
    "        y = expression_matrix[expression_dataframe[\"gene\"] == gene].T\n",
    "        large_effect_markers = gene2peak_LOD_markers[gene]\n",
    "        if len(large_effect_markers) == 0:\n",
    "            # If no marker has a significant effect on expression of a particular gene,\n",
    "            # then its expression profile remains untouched.\n",
    "            n_models_unchanged += 1\n",
    "            residual_expression.append(y.T)\n",
    "        else:\n",
    "            # Otherwise a linear model gets fitted.\n",
    "            lm = sklearn.linear_model.LinearRegression()\n",
    "            X = genotypes_matrix[genotypes_dataframe[\"SNP\"].isin(large_effect_markers)].T\n",
    "            lm.fit(X, y)\n",
    "            # New expression profile is a vector of residuals in the language of linear models.\n",
    "            residual_expression.append(np.ravel(y - lm.predict(X)))\n",
    "    # Dataframe with residual expression values is later used instead of the original dataframe \n",
    "    residual_expression_dataframe = pd.DataFrame(\n",
    "        np.column_stack(\n",
    "            (expression_dataframe[\"gene\"], \n",
    "             np.vstack(residual_expression))\n",
    "        ), \n",
    "        columns=expression_dataframe.columns\n",
    "    )\n",
    "    print(\"No markers added to the model for {} genes out of {}\".format(\n",
    "        n_models_unchanged, expression_dataframe.shape[0])\n",
    "    )\n",
    "    return residual_expression_dataframe"
   ]
  },
  {
   "cell_type": "code",
   "execution_count": 36,
   "metadata": {},
   "outputs": [
    {
     "name": "stdout",
     "output_type": "stream",
     "text": [
      "No markers added to the model for 5470 genes out of (6159, 113)\n"
     ]
    }
   ],
   "source": [
    "chromosome_dataframe = genotypes_dataframe.groupby(\"chromosome\").get_group(2)\n",
    "gene2peak_LOD_markers = preprocessing_candidate_linkages(expression_dataframe, chromosome_dataframe)\n",
    "residual_expression_dataframe = compute_residual_expression(expression_dataframe, chromosome_dataframe, gene2peak_LOD_markers)\n"
   ]
  },
  {
   "cell_type": "code",
   "execution_count": 68,
   "metadata": {},
   "outputs": [
    {
     "name": "stdout",
     "output_type": "stream",
     "text": [
      "Expression matrices differ in 77168 entries\n"
     ]
    },
    {
     "data": {
      "image/png": "[encoded data removed]",
      "text/plain": [
       "<Figure size 1440x720 with 1 Axes>"
      ]
     },
     "metadata": {},
     "output_type": "display_data"
    }
   ],
   "source": [
    "residual_expression_mx = np.nan_to_num(residual_expression_dataframe.values[:, 1:].astype(np.float32))\n",
    "expression_mx = np.nan_to_num(expression_dataframe.values[:, 1:].astype(np.float32))\n",
    "\n",
    "sns.set(style=\"whitegrid\", font_scale=2)\n",
    "# fig, axes = plt.subplots(1, 2, figsize=(30, 10))\n",
    "plt.figure(figsize=(20, 10))\n",
    "plt.title(\"Expression values from the old dataset that changed after the preprocessing\")\n",
    "discrepancy_mask = residual_expression_mx != expression_mx\n",
    "# residual_expression_mx[np.logical_not(discrepancy_mask)] = 0\n",
    "# expression_mx[np.logical_not(discrepancy_mask)] = 0\n",
    "print(\"Expression matrices differ in {} entries\".format(np.sum(discrepancy_mask)))\n",
    "# plt.xscale(\"log\")\n",
    "# plt.xlabel(\"number of measurements\")\n",
    "# plt.ylabel(\"expression value\")\n",
    "plt.xlim((-1.5, 1.5))\n",
    "sns.distplot(expression_mx[discrepancy_mask], label=\"original\")\n",
    "sns.distplot(residual_expression_mx[discrepancy_mask], label=\"residual\")\n",
    "# plt.axhline(y=0, color=\"red\", linestyle=\"--\", alpha=0.5)\n",
    "# plt.scatter(range(np.sum(discrepancy_mask)), residual_expression_mx[discrepancy_mask], label=\"residual\", alpha=0.5)\n",
    "# plt.scatter(range(np.sum(discrepancy_mask)), expression_mx[discrepancy_mask], label=\"initial\", alpha=0.5)\n",
    "plt.legend()\n",
    "\n",
    "# sns.heatmap(residual_expression_mx, ax=axes[0], cmap=\"Accent\")\n",
    "# sns.heatmap(expression_mx, ax=axes[1], cmap=\"Accent\")\n",
    "plt.show()\n",
    "plt.close()\n"
   ]
  },
  {
   "cell_type": "code",
   "execution_count": 62,
   "metadata": {},
   "outputs": [
    {
     "name": "stdout",
     "output_type": "stream",
     "text": [
      "0.0035883358 0.0022206435\n"
     ]
    }
   ],
   "source": [
    "print(np.mean(expression_mx), np.mean(residual_expression_mx))"
   ]
  },
  {
   "cell_type": "code",
   "execution_count": 32,
   "metadata": {
    "collapsed": false
   },
   "outputs": [
    {
     "name": "stderr",
     "output_type": "stream",
     "text": [
      "\r  0%|          | 0/16 [00:00<?, ?it/s]"
     ]
    },
    {
     "name": "stdout",
     "output_type": "stream",
     "text": [
      "Iteration 0:\n(1311, 102) (151, 104)\n"
     ]
    },
    {
     "name": "stderr",
     "output_type": "stream",
     "text": [
      "\r  6%|▋         | 1/16 [00:00<00:06,  2.22it/s]"
     ]
    },
    {
     "name": "stdout",
     "output_type": "stream",
     "text": [
      "1: Such a pity...\nIteration 0:\n(1311, 102) (188, 104)\n"
     ]
    },
    {
     "name": "stdout",
     "output_type": "stream",
     "text": [
      "1.5: 344.16 <> 581\t0.5923580034423408\n"
     ]
    },
    {
     "name": "stdout",
     "output_type": "stream",
     "text": [
      "1.55: 307.52 <> 558\t0.5511111111111111\n"
     ]
    },
    {
     "name": "stdout",
     "output_type": "stream",
     "text": [
      "1.6: 272.72 <> 522\t0.5224521072796935\n"
     ]
    },
    {
     "name": "stdout",
     "output_type": "stream",
     "text": [
      "1.65: 280.15 <> 500\t0.5602999999999999\n"
     ]
    },
    {
     "name": "stdout",
     "output_type": "stream",
     "text": [
      "1.7: 228.42 <> 476\t0.4798739495798319\n"
     ]
    },
    {
     "name": "stdout",
     "output_type": "stream",
     "text": [
      "1.75: 213.65 <> 458\t0.46648471615720527\n"
     ]
    },
    {
     "name": "stdout",
     "output_type": "stream",
     "text": [
      "1.8: 204.83 <> 428\t0.47857476635514024\n"
     ]
    },
    {
     "name": "stdout",
     "output_type": "stream",
     "text": [
      "1.85: 167.91 <> 402\t0.4176865671641791\n"
     ]
    },
    {
     "name": "stdout",
     "output_type": "stream",
     "text": [
      "1.9: 157.49 <> 386\t0.4080051813471503\n"
     ]
    },
    {
     "name": "stdout",
     "output_type": "stream",
     "text": [
      "1.95: 153.91 <> 369\t0.41710027100271\n"
     ]
    },
    {
     "name": "stdout",
     "output_type": "stream",
     "text": [
      "2.0: 129.87 <> 351\t0.37\n"
     ]
    },
    {
     "name": "stdout",
     "output_type": "stream",
     "text": [
      "2.05: 140.01 <> 333\t0.42045045045045043\n"
     ]
    },
    {
     "name": "stdout",
     "output_type": "stream",
     "text": [
      "2.1: 105.91 <> 325\t0.32587692307692306\n"
     ]
    },
    {
     "name": "stdout",
     "output_type": "stream",
     "text": [
      "2.15: 100.69 <> 305\t0.3301311475409836\n"
     ]
    },
    {
     "name": "stdout",
     "output_type": "stream",
     "text": [
      "2.2: 86.69 <> 294\t0.2948639455782313\n"
     ]
    },
    {
     "name": "stdout",
     "output_type": "stream",
     "text": [
      "2.25: 75.32 <> 280\t0.26899999999999996\n"
     ]
    },
    {
     "name": "stdout",
     "output_type": "stream",
     "text": [
      "2.3: 73.43 <> 273\t0.268974358974359\n"
     ]
    },
    {
     "name": "stdout",
     "output_type": "stream",
     "text": [
      "2.35: 58.02 <> 260\t0.22315384615384617\n"
     ]
    },
    {
     "name": "stdout",
     "output_type": "stream",
     "text": [
      "2.4: 52.74 <> 249\t0.21180722891566267\n"
     ]
    },
    {
     "name": "stdout",
     "output_type": "stream",
     "text": [
      "2.45: 46.64 <> 235\t0.19846808510638297\n"
     ]
    },
    {
     "name": "stdout",
     "output_type": "stream",
     "text": [
      "2.5: 48.42 <> 222\t0.21810810810810813\n"
     ]
    },
    {
     "name": "stdout",
     "output_type": "stream",
     "text": [
      "2.55: 42.67 <> 213\t0.2003286384976526\n"
     ]
    },
    {
     "name": "stdout",
     "output_type": "stream",
     "text": [
      "2.6: 36.96 <> 201\t0.18388059701492537\n"
     ]
    },
    {
     "name": "stdout",
     "output_type": "stream",
     "text": [
      "2.65: 31.26 <> 192\t0.1628125\n"
     ]
    },
    {
     "name": "stdout",
     "output_type": "stream",
     "text": [
      "2.7: 29.05 <> 189\t0.1537037037037037\n"
     ]
    },
    {
     "name": "stdout",
     "output_type": "stream",
     "text": [
      "2.75: 24.51 <> 183\t0.1339344262295082\n"
     ]
    },
    {
     "name": "stdout",
     "output_type": "stream",
     "text": [
      "2.8: 23.5 <> 177\t0.1327683615819209\n"
     ]
    },
    {
     "name": "stdout",
     "output_type": "stream",
     "text": [
      "2.85: 23.64 <> 174\t0.13586206896551725\n"
     ]
    },
    {
     "name": "stdout",
     "output_type": "stream",
     "text": [
      "2.9: 18.05 <> 168\t0.1074404761904762\n"
     ]
    },
    {
     "name": "stdout",
     "output_type": "stream",
     "text": [
      "2.95: 17.23 <> 162\t0.10635802469135802\n"
     ]
    },
    {
     "name": "stdout",
     "output_type": "stream",
     "text": [
      "3.0: 16.15 <> 161\t0.10031055900621118\n"
     ]
    },
    {
     "name": "stdout",
     "output_type": "stream",
     "text": [
      "3.05: 12.67 <> 153\t0.08281045751633986\n"
     ]
    },
    {
     "name": "stdout",
     "output_type": "stream",
     "text": [
      "3.1: 14.39 <> 147\t0.09789115646258503\n"
     ]
    },
    {
     "name": "stdout",
     "output_type": "stream",
     "text": [
      "3.15: 12.91 <> 142\t0.09091549295774648\n"
     ]
    },
    {
     "name": "stdout",
     "output_type": "stream",
     "text": [
      "3.2: 8.77 <> 136\t0.06448529411764706\n"
     ]
    },
    {
     "name": "stdout",
     "output_type": "stream",
     "text": [
      "3.25: 8.56 <> 130\t0.06584615384615385\n"
     ]
    },
    {
     "name": "stdout",
     "output_type": "stream",
     "text": [
      "3.3: 7.29 <> 124\t0.05879032258064516\n"
     ]
    },
    {
     "name": "stdout",
     "output_type": "stream",
     "text": [
      "3.35: 6.53 <> 120\t0.05441666666666667\n"
     ]
    },
    {
     "name": "stdout",
     "output_type": "stream",
     "text": [
      "3.4: 6.92 <> 117\t0.059145299145299146\n"
     ]
    },
    {
     "name": "stdout",
     "output_type": "stream",
     "text": [
      "3.45: 4.09 <> 117\t0.03495726495726496\nChromosome: 2\tratio: 3.5\t linkages: 117\n"
     ]
    },
    {
     "name": "stderr",
     "output_type": "stream",
     "text": [
      "\r 12%|█▎        | 2/16 [00:17<02:02,  8.73s/it]"
     ]
    },
    {
     "name": "stdout",
     "output_type": "stream",
     "text": [
      "No markers added to the model for 1194 genes out of 1311\nIteration 1:\n(117, 102) (188, 104)\n2: Such a pity...\nIteration 0:\n(1311, 102) (49, 104)\n"
     ]
    },
    {
     "name": "stdout",
     "output_type": "stream",
     "text": [
      "1.5: 147.32 <> 718\t0.20518105849582172\n"
     ]
    },
    {
     "name": "stdout",
     "output_type": "stream",
     "text": [
      "1.55: 125.73 <> 703\t0.17884779516358465\n"
     ]
    },
    {
     "name": "stdout",
     "output_type": "stream",
     "text": [
      "1.6: 123.86 <> 695\t0.1782158273381295\n"
     ]
    },
    {
     "name": "stdout",
     "output_type": "stream",
     "text": [
      "1.65: 103.59 <> 683\t0.15166910688140556\n"
     ]
    },
    {
     "name": "stdout",
     "output_type": "stream",
     "text": [
      "1.7: 102.17 <> 656\t0.1557469512195122\n"
     ]
    },
    {
     "name": "stdout",
     "output_type": "stream",
     "text": [
      "1.75: 95.38 <> 635\t0.15020472440944882\n"
     ]
    },
    {
     "name": "stdout",
     "output_type": "stream",
     "text": [
      "1.8: 71.85 <> 608\t0.11817434210526315\n"
     ]
    },
    {
     "name": "stdout",
     "output_type": "stream",
     "text": [
      "1.85: 64.31 <> 589\t0.10918505942275043\n"
     ]
    },
    {
     "name": "stdout",
     "output_type": "stream",
     "text": [
      "1.9: 54.27 <> 576\t0.09421875\n"
     ]
    },
    {
     "name": "stdout",
     "output_type": "stream",
     "text": [
      "1.95: 52.73 <> 560\t0.09416071428571428\n"
     ]
    },
    {
     "name": "stdout",
     "output_type": "stream",
     "text": [
      "2.0: 41.75 <> 550\t0.07590909090909091\n"
     ]
    },
    {
     "name": "stdout",
     "output_type": "stream",
     "text": [
      "2.05: 45.43 <> 540\t0.08412962962962962\n"
     ]
    },
    {
     "name": "stdout",
     "output_type": "stream",
     "text": [
      "2.1: 39.84 <> 525\t0.07588571428571429\n"
     ]
    },
    {
     "name": "stdout",
     "output_type": "stream",
     "text": [
      "2.15: 34.53 <> 515\t0.0670485436893204\n"
     ]
    },
    {
     "name": "stdout",
     "output_type": "stream",
     "text": [
      "2.2: 30.72 <> 501\t0.06131736526946108\n"
     ]
    },
    {
     "name": "stdout",
     "output_type": "stream",
     "text": [
      "2.25: 23.79 <> 489\t0.04865030674846626\nChromosome: 3\tratio: 2.3\t linkages: 489\n"
     ]
    },
    {
     "name": "stderr",
     "output_type": "stream",
     "text": [
      "\r 19%|█▉        | 3/16 [00:22<01:37,  7.48s/it]"
     ]
    },
    {
     "name": "stdout",
     "output_type": "stream",
     "text": [
      "No markers added to the model for 822 genes out of 1311\nIteration 1:\n(489, 102) (49, 104)\n3: Such a pity...\nIteration 0:\n(1311, 102) (223, 104)\n"
     ]
    },
    {
     "name": "stdout",
     "output_type": "stream",
     "text": [
      "1.5: 443.92 <> 561\t0.7913012477718361\n"
     ]
    },
    {
     "name": "stdout",
     "output_type": "stream",
     "text": [
      "1.55: 396.07 <> 516\t0.767577519379845\n"
     ]
    },
    {
     "name": "stdout",
     "output_type": "stream",
     "text": [
      "1.6: 339.53 <> 481\t0.7058835758835759\n"
     ]
    },
    {
     "name": "stdout",
     "output_type": "stream",
     "text": [
      "1.65: 349.31 <> 450\t0.7762444444444444\n"
     ]
    },
    {
     "name": "stdout",
     "output_type": "stream",
     "text": [
      "1.7: 299.03 <> 409\t0.731124694376528\n"
     ]
    },
    {
     "name": "stdout",
     "output_type": "stream",
     "text": [
      "1.75: 267.78 <> 381\t0.7028346456692912\n"
     ]
    },
    {
     "name": "stdout",
     "output_type": "stream",
     "text": [
      "1.8: 253.19 <> 352\t0.7192897727272727\n"
     ]
    },
    {
     "name": "stdout",
     "output_type": "stream",
     "text": [
      "1.85: 235.68 <> 327\t0.7207339449541285\n"
     ]
    },
    {
     "name": "stdout",
     "output_type": "stream",
     "text": [
      "1.9: 189.36 <> 306\t0.6188235294117648\n"
     ]
    },
    {
     "name": "stdout",
     "output_type": "stream",
     "text": [
      "1.95: 196.25 <> 281\t0.6983985765124555\n"
     ]
    },
    {
     "name": "stdout",
     "output_type": "stream",
     "text": [
      "2.0: 167.9 <> 260\t0.6457692307692308\n"
     ]
    },
    {
     "name": "stdout",
     "output_type": "stream",
     "text": [
      "2.05: 143.55 <> 243\t0.5907407407407408\n"
     ]
    },
    {
     "name": "stdout",
     "output_type": "stream",
     "text": [
      "2.1: 136.02 <> 220\t0.6182727272727273\n"
     ]
    },
    {
     "name": "stdout",
     "output_type": "stream",
     "text": [
      "2.15: 118.25 <> 201\t0.5883084577114428\n"
     ]
    },
    {
     "name": "stdout",
     "output_type": "stream",
     "text": [
      "2.2: 108.58 <> 183\t0.5933333333333334\n"
     ]
    },
    {
     "name": "stdout",
     "output_type": "stream",
     "text": [
      "2.25: 87.07 <> 168\t0.5182738095238095\n"
     ]
    },
    {
     "name": "stdout",
     "output_type": "stream",
     "text": [
      "2.3: 82.09 <> 157\t0.5228662420382166\n"
     ]
    },
    {
     "name": "stdout",
     "output_type": "stream",
     "text": [
      "2.35: 80.02 <> 139\t0.57568345323741\n"
     ]
    },
    {
     "name": "stdout",
     "output_type": "stream",
     "text": [
      "2.4: 70.55 <> 119\t0.5928571428571429\n"
     ]
    },
    {
     "name": "stdout",
     "output_type": "stream",
     "text": [
      "2.45: 63.02 <> 109\t0.5781651376146789\n"
     ]
    },
    {
     "name": "stdout",
     "output_type": "stream",
     "text": [
      "2.5: 58.72 <> 103\t0.5700970873786407\n"
     ]
    },
    {
     "name": "stdout",
     "output_type": "stream",
     "text": [
      "2.55: 44.5 <> 95\t0.46842105263157896\n"
     ]
    },
    {
     "name": "stdout",
     "output_type": "stream",
     "text": [
      "2.6: 42.94 <> 88\t0.4879545454545454\n"
     ]
    },
    {
     "name": "stdout",
     "output_type": "stream",
     "text": [
      "2.65: 37.33 <> 83\t0.4497590361445783\n"
     ]
    },
    {
     "name": "stdout",
     "output_type": "stream",
     "text": [
      "2.7: 36.1 <> 73\t0.4945205479452055\n"
     ]
    },
    {
     "name": "stdout",
     "output_type": "stream",
     "text": [
      "2.75: 30.93 <> 61\t0.5070491803278688\n"
     ]
    },
    {
     "name": "stdout",
     "output_type": "stream",
     "text": [
      "2.8: 32.21 <> 56\t0.5751785714285714\n"
     ]
    },
    {
     "name": "stdout",
     "output_type": "stream",
     "text": [
      "2.85: 27.03 <> 53\t0.51\n"
     ]
    },
    {
     "name": "stdout",
     "output_type": "stream",
     "text": [
      "2.9: 24.19 <> 45\t0.5375555555555556\n"
     ]
    },
    {
     "name": "stdout",
     "output_type": "stream",
     "text": [
      "2.95: 22.17 <> 40\t0.55425\n"
     ]
    },
    {
     "name": "stdout",
     "output_type": "stream",
     "text": [
      "3.0: 19.94 <> 36\t0.5538888888888889\n"
     ]
    },
    {
     "name": "stdout",
     "output_type": "stream",
     "text": [
      "3.05: 16.64 <> 34\t0.4894117647058824\n"
     ]
    },
    {
     "name": "stdout",
     "output_type": "stream",
     "text": [
      "3.1: 14.14 <> 31\t0.45612903225806456\n"
     ]
    },
    {
     "name": "stdout",
     "output_type": "stream",
     "text": [
      "3.15: 11.23 <> 29\t0.38724137931034486\n"
     ]
    },
    {
     "name": "stdout",
     "output_type": "stream",
     "text": [
      "3.2: 11.78 <> 25\t0.47119999999999995\n"
     ]
    },
    {
     "name": "stdout",
     "output_type": "stream",
     "text": [
      "3.25: 11.55 <> 22\t0.525\n"
     ]
    },
    {
     "name": "stdout",
     "output_type": "stream",
     "text": [
      "3.3: 10.43 <> 21\t0.49666666666666665\n"
     ]
    },
    {
     "name": "stdout",
     "output_type": "stream",
     "text": [
      "3.35: 10.39 <> 20\t0.5195000000000001\n"
     ]
    },
    {
     "name": "stdout",
     "output_type": "stream",
     "text": [
      "3.4: 8.02 <> 18\t0.44555555555555554\n"
     ]
    },
    {
     "name": "stdout",
     "output_type": "stream",
     "text": [
      "3.45: 6.3 <> 18\t0.35\n"
     ]
    },
    {
     "name": "stdout",
     "output_type": "stream",
     "text": [
      "3.5: 6.83 <> 16\t0.426875\n"
     ]
    },
    {
     "name": "stdout",
     "output_type": "stream",
     "text": [
      "3.55: 4.64 <> 14\t0.3314285714285714\n"
     ]
    },
    {
     "name": "stdout",
     "output_type": "stream",
     "text": [
      "3.6: 5.03 <> 14\t0.3592857142857143\n"
     ]
    },
    {
     "name": "stdout",
     "output_type": "stream",
     "text": [
      "3.65: 6.05 <> 13\t0.4653846153846154\n"
     ]
    },
    {
     "name": "stdout",
     "output_type": "stream",
     "text": [
      "3.7: 2.96 <> 11\t0.2690909090909091\n"
     ]
    },
    {
     "name": "stdout",
     "output_type": "stream",
     "text": [
      "3.75: 3.87 <> 11\t0.3518181818181818\n"
     ]
    },
    {
     "name": "stdout",
     "output_type": "stream",
     "text": [
      "3.8: 2.79 <> 10\t0.279\n"
     ]
    },
    {
     "name": "stdout",
     "output_type": "stream",
     "text": [
      "3.85: 3.14 <> 10\t0.314\n"
     ]
    },
    {
     "name": "stdout",
     "output_type": "stream",
     "text": [
      "3.9: 2.18 <> 9\t0.24222222222222223\n"
     ]
    },
    {
     "name": "stdout",
     "output_type": "stream",
     "text": [
      "3.95: 1.97 <> 9\t0.21888888888888888\n"
     ]
    },
    {
     "name": "stdout",
     "output_type": "stream",
     "text": [
      "4.0: 1.88 <> 9\t0.20888888888888887\n"
     ]
    },
    {
     "name": "stdout",
     "output_type": "stream",
     "text": [
      "4.05: 1.9 <> 9\t0.2111111111111111\n"
     ]
    },
    {
     "name": "stdout",
     "output_type": "stream",
     "text": [
      "4.1: 1.59 <> 8\t0.19875\n"
     ]
    },
    {
     "name": "stdout",
     "output_type": "stream",
     "text": [
      "4.15: 1.48 <> 8\t0.185\n"
     ]
    },
    {
     "name": "stdout",
     "output_type": "stream",
     "text": [
      "4.2: 1.69 <> 8\t0.21125\n"
     ]
    },
    {
     "name": "stdout",
     "output_type": "stream",
     "text": [
      "4.25: 1.13 <> 8\t0.14125\n"
     ]
    },
    {
     "name": "stdout",
     "output_type": "stream",
     "text": [
      "4.3: 1.14 <> 8\t0.1425\n"
     ]
    },
    {
     "name": "stdout",
     "output_type": "stream",
     "text": [
      "4.35: 0.9 <> 7\t0.1285714285714286\n"
     ]
    },
    {
     "name": "stdout",
     "output_type": "stream",
     "text": [
      "4.4: 0.88 <> 7\t0.12571428571428572\n"
     ]
    },
    {
     "name": "stdout",
     "output_type": "stream",
     "text": [
      "4.45: 0.69 <> 7\t0.09857142857142856\n"
     ]
    },
    {
     "name": "stdout",
     "output_type": "stream",
     "text": [
      "4.5: 0.79 <> 7\t0.11285714285714286\n"
     ]
    },
    {
     "name": "stdout",
     "output_type": "stream",
     "text": [
      "4.55: 0.72 <> 7\t0.10285714285714286\n"
     ]
    },
    {
     "name": "stdout",
     "output_type": "stream",
     "text": [
      "4.6: 0.6 <> 7\t0.08571428571428572\n"
     ]
    },
    {
     "name": "stdout",
     "output_type": "stream",
     "text": [
      "4.65: 0.65 <> 7\t0.09285714285714286\n"
     ]
    },
    {
     "name": "stdout",
     "output_type": "stream",
     "text": [
      "4.7: 0.68 <> 7\t0.09714285714285716\n"
     ]
    },
    {
     "name": "stdout",
     "output_type": "stream",
     "text": [
      "4.75: 0.37 <> 7\t0.05285714285714286\n"
     ]
    },
    {
     "name": "stdout",
     "output_type": "stream",
     "text": [
      "4.8: 0.27 <> 7\t0.038571428571428576\nChromosome: 4\tratio: 4.8\t linkages: 7\n"
     ]
    },
    {
     "name": "stderr",
     "output_type": "stream",
     "text": [
      "\r 25%|██▌       | 4/16 [00:51<02:34, 12.86s/it]"
     ]
    },
    {
     "name": "stdout",
     "output_type": "stream",
     "text": [
      "No markers added to the model for 1304 genes out of 1311\nIteration 1:\n(7, 102) (223, 104)\n4: Such a pity...\nIteration 0:\n(1311, 102) (145, 104)\n"
     ]
    },
    {
     "name": "stdout",
     "output_type": "stream",
     "text": [
      "1.5: 271.25 <> 421\t0.6442992874109263\n"
     ]
    },
    {
     "name": "stdout",
     "output_type": "stream",
     "text": [
      "1.55: 235.97 <> 402\t0.5869900497512438\n"
     ]
    },
    {
     "name": "stdout",
     "output_type": "stream",
     "text": [
      "1.6: 220.9 <> 377\t0.5859416445623342\n"
     ]
    },
    {
     "name": "stdout",
     "output_type": "stream",
     "text": [
      "1.65: 208.28 <> 352\t0.5917045454545454\n"
     ]
    },
    {
     "name": "stdout",
     "output_type": "stream",
     "text": [
      "1.7: 182.47 <> 331\t0.5512688821752266\n"
     ]
    },
    {
     "name": "stdout",
     "output_type": "stream",
     "text": [
      "1.75: 154.99 <> 304\t0.5098355263157895\n"
     ]
    },
    {
     "name": "stdout",
     "output_type": "stream",
     "text": [
      "1.8: 142.46 <> 274\t0.5199270072992701\n"
     ]
    },
    {
     "name": "stdout",
     "output_type": "stream",
     "text": [
      "1.85: 142.91 <> 259\t0.5517760617760618\n"
     ]
    },
    {
     "name": "stdout",
     "output_type": "stream",
     "text": [
      "1.9: 120.66 <> 241\t0.5006639004149377\n"
     ]
    },
    {
     "name": "stdout",
     "output_type": "stream",
     "text": [
      "1.95: 103.55 <> 221\t0.468552036199095\n"
     ]
    },
    {
     "name": "stdout",
     "output_type": "stream",
     "text": [
      "2.0: 97.06 <> 208\t0.46663461538461537\n"
     ]
    },
    {
     "name": "stdout",
     "output_type": "stream",
     "text": [
      "2.05: 82.45 <> 192\t0.42942708333333335\n"
     ]
    },
    {
     "name": "stdout",
     "output_type": "stream",
     "text": [
      "2.1: 81.99 <> 175\t0.46851428571428566\n"
     ]
    },
    {
     "name": "stdout",
     "output_type": "stream",
     "text": [
      "2.15: 61.34 <> 161\t0.3809937888198758\n"
     ]
    },
    {
     "name": "stdout",
     "output_type": "stream",
     "text": [
      "2.2: 63.48 <> 151\t0.42039735099337744\n"
     ]
    },
    {
     "name": "stdout",
     "output_type": "stream",
     "text": [
      "2.25: 55.24 <> 143\t0.3862937062937063\n"
     ]
    },
    {
     "name": "stdout",
     "output_type": "stream",
     "text": [
      "2.3: 56.58 <> 128\t0.44203125\n"
     ]
    },
    {
     "name": "stdout",
     "output_type": "stream",
     "text": [
      "2.35: 42.16 <> 118\t0.3572881355932203\n"
     ]
    },
    {
     "name": "stdout",
     "output_type": "stream",
     "text": [
      "2.4: 38.2 <> 107\t0.35700934579439253\n"
     ]
    },
    {
     "name": "stdout",
     "output_type": "stream",
     "text": [
      "2.45: 35.48 <> 98\t0.36204081632653057\n"
     ]
    },
    {
     "name": "stdout",
     "output_type": "stream",
     "text": [
      "2.5: 33.64 <> 89\t0.37797752808988766\n"
     ]
    },
    {
     "name": "stdout",
     "output_type": "stream",
     "text": [
      "2.55: 31.74 <> 78\t0.4069230769230769\n"
     ]
    },
    {
     "name": "stdout",
     "output_type": "stream",
     "text": [
      "2.6: 24.7 <> 73\t0.33835616438356164\n"
     ]
    },
    {
     "name": "stdout",
     "output_type": "stream",
     "text": [
      "2.65: 27.12 <> 69\t0.3930434782608696\n"
     ]
    },
    {
     "name": "stdout",
     "output_type": "stream",
     "text": [
      "2.7: 22.31 <> 63\t0.3541269841269841\n"
     ]
    },
    {
     "name": "stdout",
     "output_type": "stream",
     "text": [
      "2.75: 15.77 <> 58\t0.2718965517241379\n"
     ]
    },
    {
     "name": "stdout",
     "output_type": "stream",
     "text": [
      "2.8: 16.75 <> 52\t0.32211538461538464\n"
     ]
    },
    {
     "name": "stdout",
     "output_type": "stream",
     "text": [
      "2.85: 16.29 <> 49\t0.3324489795918367\n"
     ]
    },
    {
     "name": "stdout",
     "output_type": "stream",
     "text": [
      "2.9: 14.05 <> 44\t0.31931818181818183\n"
     ]
    },
    {
     "name": "stdout",
     "output_type": "stream",
     "text": [
      "2.95: 14.37 <> 40\t0.35924999999999996\n"
     ]
    },
    {
     "name": "stdout",
     "output_type": "stream",
     "text": [
      "3.0: 13.55 <> 38\t0.35657894736842105\n"
     ]
    },
    {
     "name": "stdout",
     "output_type": "stream",
     "text": [
      "3.05: 11.19 <> 36\t0.3108333333333333\n"
     ]
    },
    {
     "name": "stdout",
     "output_type": "stream",
     "text": [
      "3.1: 7.26 <> 34\t0.21352941176470588\n"
     ]
    },
    {
     "name": "stdout",
     "output_type": "stream",
     "text": [
      "3.15: 6.68 <> 34\t0.19647058823529412\n"
     ]
    },
    {
     "name": "stdout",
     "output_type": "stream",
     "text": [
      "3.2: 7.42 <> 32\t0.231875\n"
     ]
    },
    {
     "name": "stdout",
     "output_type": "stream",
     "text": [
      "3.25: 6.61 <> 29\t0.22793103448275864\n"
     ]
    },
    {
     "name": "stdout",
     "output_type": "stream",
     "text": [
      "3.3: 5.09 <> 27\t0.1885185185185185\n"
     ]
    },
    {
     "name": "stdout",
     "output_type": "stream",
     "text": [
      "3.35: 4.83 <> 26\t0.18576923076923077\n"
     ]
    },
    {
     "name": "stdout",
     "output_type": "stream",
     "text": [
      "3.4: 4.19 <> 23\t0.18217391304347827\n"
     ]
    },
    {
     "name": "stdout",
     "output_type": "stream",
     "text": [
      "3.45: 3.63 <> 23\t0.15782608695652173\n"
     ]
    },
    {
     "name": "stdout",
     "output_type": "stream",
     "text": [
      "3.5: 3.77 <> 22\t0.17136363636363636\n"
     ]
    },
    {
     "name": "stdout",
     "output_type": "stream",
     "text": [
      "3.55: 2.83 <> 22\t0.12863636363636363\n"
     ]
    },
    {
     "name": "stdout",
     "output_type": "stream",
     "text": [
      "3.6: 2.71 <> 21\t0.12904761904761905\n"
     ]
    },
    {
     "name": "stdout",
     "output_type": "stream",
     "text": [
      "3.65: 2.71 <> 20\t0.1355\n"
     ]
    },
    {
     "name": "stdout",
     "output_type": "stream",
     "text": [
      "3.7: 2.51 <> 19\t0.13210526315789473\n"
     ]
    },
    {
     "name": "stdout",
     "output_type": "stream",
     "text": [
      "3.75: 2.91 <> 19\t0.1531578947368421\n"
     ]
    },
    {
     "name": "stdout",
     "output_type": "stream",
     "text": [
      "3.8: 1.77 <> 18\t0.09833333333333333\n"
     ]
    },
    {
     "name": "stdout",
     "output_type": "stream",
     "text": [
      "3.85: 1.57 <> 18\t0.08722222222222223\n"
     ]
    },
    {
     "name": "stdout",
     "output_type": "stream",
     "text": [
      "3.9: 1.45 <> 17\t0.08529411764705883\n"
     ]
    },
    {
     "name": "stdout",
     "output_type": "stream",
     "text": [
      "3.95: 1.11 <> 15\t0.07400000000000001\n"
     ]
    },
    {
     "name": "stdout",
     "output_type": "stream",
     "text": [
      "4.0: 0.89 <> 14\t0.06357142857142857\n"
     ]
    },
    {
     "name": "stdout",
     "output_type": "stream",
     "text": [
      "4.05: 0.93 <> 14\t0.06642857142857143\n"
     ]
    },
    {
     "name": "stdout",
     "output_type": "stream",
     "text": [
      "4.1: 0.89 <> 14\t0.06357142857142857\n"
     ]
    },
    {
     "name": "stdout",
     "output_type": "stream",
     "text": [
      "4.15: 0.91 <> 13\t0.07\n"
     ]
    },
    {
     "name": "stdout",
     "output_type": "stream",
     "text": [
      "4.2: 0.71 <> 13\t0.054615384615384614\n"
     ]
    },
    {
     "name": "stdout",
     "output_type": "stream",
     "text": [
      "4.25: 0.5 <> 13\t0.038461538461538464\nChromosome: 5\tratio: 4.3\t linkages: 13\n"
     ]
    },
    {
     "name": "stderr",
     "output_type": "stream",
     "text": [
      "\r 31%|███▏      | 5/16 [01:12<02:39, 14.47s/it]"
     ]
    },
    {
     "name": "stdout",
     "output_type": "stream",
     "text": [
      "No markers added to the model for 1298 genes out of 1311\nIteration 1:\n(13, 102) (145, 104)\n5: Such a pity...\nIteration 0:\n(1311, 102) (111, 104)\n"
     ]
    },
    {
     "name": "stderr",
     "output_type": "stream",
     "text": [
      "\r 38%|███▊      | 6/16 [01:12<02:01, 12.13s/it]"
     ]
    },
    {
     "name": "stdout",
     "output_type": "stream",
     "text": [
      "6: Such a pity...\nIteration 0:\n(1311, 102) (253, 104)\n"
     ]
    },
    {
     "name": "stdout",
     "output_type": "stream",
     "text": [
      "1.5: 397.19 <> 604\t0.6575993377483443\n"
     ]
    },
    {
     "name": "stdout",
     "output_type": "stream",
     "text": [
      "1.55: 369.37 <> 567\t0.6514462081128748\n"
     ]
    },
    {
     "name": "stdout",
     "output_type": "stream",
     "text": [
      "1.6: 325.94 <> 526\t0.619657794676806\n"
     ]
    },
    {
     "name": "stdout",
     "output_type": "stream",
     "text": [
      "1.65: 309.29 <> 485\t0.6377113402061856\n"
     ]
    },
    {
     "name": "stdout",
     "output_type": "stream",
     "text": [
      "1.7: 254.97 <> 452\t0.5640929203539823\n"
     ]
    },
    {
     "name": "stdout",
     "output_type": "stream",
     "text": [
      "1.75: 232.7 <> 413\t0.5634382566585956\n"
     ]
    },
    {
     "name": "stdout",
     "output_type": "stream",
     "text": [
      "1.8: 226.95 <> 372\t0.6100806451612903\n"
     ]
    },
    {
     "name": "stdout",
     "output_type": "stream",
     "text": [
      "1.85: 199.04 <> 350\t0.5686857142857142\n"
     ]
    },
    {
     "name": "stdout",
     "output_type": "stream",
     "text": [
      "1.9: 184.28 <> 328\t0.561829268292683\n"
     ]
    },
    {
     "name": "stdout",
     "output_type": "stream",
     "text": [
      "1.95: 159.56 <> 299\t0.5336454849498328\n"
     ]
    },
    {
     "name": "stdout",
     "output_type": "stream",
     "text": [
      "2.0: 153.8 <> 273\t0.5633699633699634\n"
     ]
    },
    {
     "name": "stdout",
     "output_type": "stream",
     "text": [
      "2.05: 122.79 <> 251\t0.48920318725099604\n"
     ]
    },
    {
     "name": "stdout",
     "output_type": "stream",
     "text": [
      "2.1: 126.2 <> 226\t0.5584070796460177\n"
     ]
    },
    {
     "name": "stdout",
     "output_type": "stream",
     "text": [
      "2.15: 107.47 <> 214\t0.502196261682243\n"
     ]
    },
    {
     "name": "stdout",
     "output_type": "stream",
     "text": [
      "2.2: 98.27 <> 194\t0.5065463917525773\n"
     ]
    },
    {
     "name": "stdout",
     "output_type": "stream",
     "text": [
      "2.25: 88.46 <> 183\t0.48338797814207646\n"
     ]
    },
    {
     "name": "stdout",
     "output_type": "stream",
     "text": [
      "2.3: 79.89 <> 167\t0.47838323353293416\n"
     ]
    },
    {
     "name": "stdout",
     "output_type": "stream",
     "text": [
      "2.35: 73.01 <> 156\t0.46801282051282056\n"
     ]
    },
    {
     "name": "stdout",
     "output_type": "stream",
     "text": [
      "2.4: 65.25 <> 146\t0.4469178082191781\n"
     ]
    },
    {
     "name": "stdout",
     "output_type": "stream",
     "text": [
      "2.45: 52.07 <> 133\t0.39150375939849624\n"
     ]
    },
    {
     "name": "stdout",
     "output_type": "stream",
     "text": [
      "2.5: 54.32 <> 120\t0.45266666666666666\n"
     ]
    },
    {
     "name": "stdout",
     "output_type": "stream",
     "text": [
      "2.55: 50.8 <> 106\t0.4792452830188679\n"
     ]
    },
    {
     "name": "stdout",
     "output_type": "stream",
     "text": [
      "2.6: 41.41 <> 98\t0.4225510204081632\n"
     ]
    },
    {
     "name": "stdout",
     "output_type": "stream",
     "text": [
      "2.65: 32.88 <> 88\t0.37363636363636366\n"
     ]
    },
    {
     "name": "stdout",
     "output_type": "stream",
     "text": [
      "2.7: 35.2 <> 82\t0.4292682926829269\n"
     ]
    },
    {
     "name": "stdout",
     "output_type": "stream",
     "text": [
      "2.75: 26.37 <> 72\t0.36625\n"
     ]
    },
    {
     "name": "stdout",
     "output_type": "stream",
     "text": [
      "2.8: 25.41 <> 68\t0.3736764705882353\n"
     ]
    },
    {
     "name": "stdout",
     "output_type": "stream",
     "text": [
      "2.85: 22.54 <> 61\t0.36950819672131147\n"
     ]
    },
    {
     "name": "stdout",
     "output_type": "stream",
     "text": [
      "2.9: 21.68 <> 53\t0.4090566037735849\n"
     ]
    },
    {
     "name": "stdout",
     "output_type": "stream",
     "text": [
      "2.95: 20.66 <> 51\t0.40509803921568627\n"
     ]
    },
    {
     "name": "stdout",
     "output_type": "stream",
     "text": [
      "3.0: 15.87 <> 48\t0.330625\n"
     ]
    },
    {
     "name": "stdout",
     "output_type": "stream",
     "text": [
      "3.05: 14.47 <> 45\t0.3215555555555556\n"
     ]
    },
    {
     "name": "stdout",
     "output_type": "stream",
     "text": [
      "3.1: 13.29 <> 40\t0.33225\n"
     ]
    },
    {
     "name": "stdout",
     "output_type": "stream",
     "text": [
      "3.15: 11.5 <> 38\t0.3026315789473684\n"
     ]
    },
    {
     "name": "stdout",
     "output_type": "stream",
     "text": [
      "3.2: 9.89 <> 37\t0.2672972972972973\n"
     ]
    },
    {
     "name": "stdout",
     "output_type": "stream",
     "text": [
      "3.25: 8.33 <> 37\t0.22513513513513514\n"
     ]
    },
    {
     "name": "stdout",
     "output_type": "stream",
     "text": [
      "3.3: 7.52 <> 35\t0.21485714285714286\n"
     ]
    },
    {
     "name": "stdout",
     "output_type": "stream",
     "text": [
      "3.35: 6.78 <> 34\t0.19941176470588237\n"
     ]
    },
    {
     "name": "stdout",
     "output_type": "stream",
     "text": [
      "3.4: 7.71 <> 33\t0.23363636363636364\n"
     ]
    },
    {
     "name": "stdout",
     "output_type": "stream",
     "text": [
      "3.45: 6.96 <> 30\t0.232\n"
     ]
    },
    {
     "name": "stdout",
     "output_type": "stream",
     "text": [
      "3.5: 6.56 <> 29\t0.22620689655172413\n"
     ]
    },
    {
     "name": "stdout",
     "output_type": "stream",
     "text": [
      "3.55: 5.43 <> 26\t0.20884615384615385\n"
     ]
    },
    {
     "name": "stdout",
     "output_type": "stream",
     "text": [
      "3.6: 5.29 <> 24\t0.22041666666666668\n"
     ]
    },
    {
     "name": "stdout",
     "output_type": "stream",
     "text": [
      "3.65: 3.73 <> 23\t0.16217391304347825\n"
     ]
    },
    {
     "name": "stdout",
     "output_type": "stream",
     "text": [
      "3.7: 3.33 <> 21\t0.15857142857142859\n"
     ]
    },
    {
     "name": "stdout",
     "output_type": "stream",
     "text": [
      "3.75: 4.17 <> 21\t0.19857142857142857\n"
     ]
    },
    {
     "name": "stdout",
     "output_type": "stream",
     "text": [
      "3.8: 2.96 <> 21\t0.14095238095238094\n"
     ]
    },
    {
     "name": "stdout",
     "output_type": "stream",
     "text": [
      "3.85: 2.28 <> 21\t0.10857142857142857\n"
     ]
    },
    {
     "name": "stdout",
     "output_type": "stream",
     "text": [
      "3.9: 2.1 <> 21\t0.1\n"
     ]
    },
    {
     "name": "stdout",
     "output_type": "stream",
     "text": [
      "3.95: 2.69 <> 20\t0.1345\n"
     ]
    },
    {
     "name": "stdout",
     "output_type": "stream",
     "text": [
      "4.0: 2.7 <> 20\t0.135\n"
     ]
    },
    {
     "name": "stdout",
     "output_type": "stream",
     "text": [
      "4.05: 1.37 <> 20\t0.0685\n"
     ]
    },
    {
     "name": "stdout",
     "output_type": "stream",
     "text": [
      "4.1: 1.96 <> 20\t0.098\n"
     ]
    },
    {
     "name": "stdout",
     "output_type": "stream",
     "text": [
      "4.15: 1.08 <> 18\t0.060000000000000005\n"
     ]
    },
    {
     "name": "stdout",
     "output_type": "stream",
     "text": [
      "4.2: 1.32 <> 16\t0.0825\n"
     ]
    },
    {
     "name": "stdout",
     "output_type": "stream",
     "text": [
      "4.25: 1.37 <> 16\t0.085625\n"
     ]
    },
    {
     "name": "stdout",
     "output_type": "stream",
     "text": [
      "4.3: 0.48 <> 16\t0.03\nChromosome: 7\tratio: 4.3\t linkages: 16\n"
     ]
    },
    {
     "name": "stdout",
     "output_type": "stream",
     "text": [
      "No markers added to the model for 1295 genes out of 1311\nIteration 1:\n(16, 102) (253, 104)\n1.5: 4.78 <> 11\t0.43454545454545457\n"
     ]
    },
    {
     "name": "stdout",
     "output_type": "stream",
     "text": [
      "1.55: 3.87 <> 11\t0.3518181818181818\n1.6: 4.01 <> 11\t0.3645454545454545\n"
     ]
    },
    {
     "name": "stdout",
     "output_type": "stream",
     "text": [
      "1.65: 2.97 <> 11\t0.27\n1.7: 3.08 <> 11\t0.28\n"
     ]
    },
    {
     "name": "stdout",
     "output_type": "stream",
     "text": [
      "1.75: 2.93 <> 11\t0.26636363636363636\n1.8: 2.57 <> 9\t0.28555555555555556\n"
     ]
    },
    {
     "name": "stdout",
     "output_type": "stream",
     "text": [
      "1.85: 2.48 <> 4\t0.62\n1.9: 1.97 <> 4\t0.4925\n"
     ]
    },
    {
     "name": "stdout",
     "output_type": "stream",
     "text": [
      "1.95: 1.83 <> 4\t0.4575\n2.0: 1.8 <> 2\t0.9\n"
     ]
    },
    {
     "name": "stdout",
     "output_type": "stream",
     "text": [
      "2.05: 1.62 <> 2\t0.81\n2.1: 1.39 <> 2\t0.695\n"
     ]
    },
    {
     "name": "stdout",
     "output_type": "stream",
     "text": [
      "2.15: 1.43 <> 2\t0.715\n2.2: 0.95 <> 2\t0.475\n"
     ]
    },
    {
     "name": "stdout",
     "output_type": "stream",
     "text": [
      "2.25: 0.98 <> 2\t0.49\n2.3: 0.89 <> 2\t0.445\n"
     ]
    },
    {
     "name": "stdout",
     "output_type": "stream",
     "text": [
      "2.35: 0.82 <> 2\t0.41\n2.4: 0.72 <> 2\t0.36\n"
     ]
    },
    {
     "name": "stdout",
     "output_type": "stream",
     "text": [
      "2.45: 0.59 <> 2\t0.295\n2.5: 0.44 <> 2\t0.22\n"
     ]
    },
    {
     "name": "stdout",
     "output_type": "stream",
     "text": [
      "2.55: 0.53 <> 1\t0.53\n2.6: 0.46 <> 1\t0.46\n"
     ]
    },
    {
     "name": "stderr",
     "output_type": "stream",
     "text": [
      "\r 44%|████▍     | 7/16 [01:42<02:11, 14.60s/it]"
     ]
    },
    {
     "name": "stdout",
     "output_type": "stream",
     "text": [
      "2.65: 0.4 <> 1\t0.4\n7: Such a pity...\nIteration 0:\n(1311, 102) (140, 104)\n"
     ]
    },
    {
     "name": "stderr",
     "output_type": "stream",
     "text": [
      "\r 50%|█████     | 8/16 [01:42<01:42, 12.83s/it]"
     ]
    },
    {
     "name": "stdout",
     "output_type": "stream",
     "text": [
      "8: Such a pity...\nIteration 0:\n(1311, 102) (124, 104)\n"
     ]
    },
    {
     "name": "stderr",
     "output_type": "stream",
     "text": [
      "\r 56%|█████▋    | 9/16 [01:43<01:20, 11.45s/it]"
     ]
    },
    {
     "name": "stdout",
     "output_type": "stream",
     "text": [
      "9: Such a pity...\nIteration 0:\n(1311, 102) (208, 104)\n"
     ]
    },
    {
     "name": "stderr",
     "output_type": "stream",
     "text": [
      "\r 62%|██████▎   | 10/16 [01:43<01:02, 10.35s/it]"
     ]
    },
    {
     "name": "stdout",
     "output_type": "stream",
     "text": [
      "10: Such a pity...\nIteration 0:\n(1311, 102) (284, 104)\n"
     ]
    },
    {
     "name": "stderr",
     "output_type": "stream",
     "text": [
      "\r 69%|██████▉   | 11/16 [01:44<00:47,  9.46s/it]"
     ]
    },
    {
     "name": "stdout",
     "output_type": "stream",
     "text": [
      "11: Such a pity...\nIteration 0:\n(1311, 102) (233, 104)\n"
     ]
    },
    {
     "name": "stdout",
     "output_type": "stream",
     "text": [
      "1.5: 429.91 <> 653\t0.6583614088820827\n"
     ]
    },
    {
     "name": "stdout",
     "output_type": "stream",
     "text": [
      "1.55: 388.38 <> 609\t0.6377339901477832\n"
     ]
    },
    {
     "name": "stdout",
     "output_type": "stream",
     "text": [
      "1.6: 349.13 <> 591\t0.5907445008460237\n"
     ]
    },
    {
     "name": "stdout",
     "output_type": "stream",
     "text": [
      "1.65: 332.43 <> 554\t0.6000541516245488\n"
     ]
    },
    {
     "name": "stdout",
     "output_type": "stream",
     "text": [
      "1.7: 299.98 <> 522\t0.5746743295019158\n"
     ]
    },
    {
     "name": "stdout",
     "output_type": "stream",
     "text": [
      "1.75: 267.65 <> 496\t0.5396169354838709\n"
     ]
    },
    {
     "name": "stdout",
     "output_type": "stream",
     "text": [
      "1.8: 260.06 <> 485\t0.5362061855670103\n"
     ]
    },
    {
     "name": "stdout",
     "output_type": "stream",
     "text": [
      "1.85: 220.91 <> 461\t0.47919739696312363\n"
     ]
    },
    {
     "name": "stdout",
     "output_type": "stream",
     "text": [
      "1.9: 201.35 <> 440\t0.45761363636363633\n"
     ]
    },
    {
     "name": "stdout",
     "output_type": "stream",
     "text": [
      "1.95: 187.12 <> 425\t0.44028235294117646\n"
     ]
    },
    {
     "name": "stdout",
     "output_type": "stream",
     "text": [
      "2.0: 150.08 <> 400\t0.37520000000000003\n"
     ]
    },
    {
     "name": "stdout",
     "output_type": "stream",
     "text": [
      "2.05: 143.55 <> 372\t0.3858870967741936\n"
     ]
    },
    {
     "name": "stdout",
     "output_type": "stream",
     "text": [
      "2.1: 135.27 <> 355\t0.3810422535211268\n"
     ]
    },
    {
     "name": "stdout",
     "output_type": "stream",
     "text": [
      "2.15: 131.99 <> 341\t0.3870674486803519\n"
     ]
    },
    {
     "name": "stdout",
     "output_type": "stream",
     "text": [
      "2.2: 110.59 <> 316\t0.34996835443037977\n"
     ]
    },
    {
     "name": "stdout",
     "output_type": "stream",
     "text": [
      "2.25: 103.46 <> 297\t0.34835016835016835\n"
     ]
    },
    {
     "name": "stdout",
     "output_type": "stream",
     "text": [
      "2.3: 88.08 <> 284\t0.31014084507042256\n"
     ]
    },
    {
     "name": "stdout",
     "output_type": "stream",
     "text": [
      "2.35: 76.22 <> 271\t0.28125461254612544\n"
     ]
    },
    {
     "name": "stdout",
     "output_type": "stream",
     "text": [
      "2.4: 74.92 <> 260\t0.28815384615384615\n"
     ]
    },
    {
     "name": "stdout",
     "output_type": "stream",
     "text": [
      "2.45: 62.93 <> 250\t0.25172\n"
     ]
    },
    {
     "name": "stdout",
     "output_type": "stream",
     "text": [
      "2.5: 59.88 <> 243\t0.24641975308641975\n"
     ]
    },
    {
     "name": "stdout",
     "output_type": "stream",
     "text": [
      "2.55: 51.73 <> 226\t0.2288938053097345\n"
     ]
    },
    {
     "name": "stdout",
     "output_type": "stream",
     "text": [
      "2.6: 47.82 <> 214\t0.22345794392523366\n"
     ]
    },
    {
     "name": "stdout",
     "output_type": "stream",
     "text": [
      "2.65: 43.67 <> 203\t0.2151231527093596\n"
     ]
    },
    {
     "name": "stdout",
     "output_type": "stream",
     "text": [
      "2.7: 33.93 <> 190\t0.17857894736842106\n"
     ]
    },
    {
     "name": "stdout",
     "output_type": "stream",
     "text": [
      "2.75: 32.55 <> 182\t0.17884615384615382\n"
     ]
    },
    {
     "name": "stdout",
     "output_type": "stream",
     "text": [
      "2.8: 29.66 <> 167\t0.1776047904191617\n"
     ]
    },
    {
     "name": "stdout",
     "output_type": "stream",
     "text": [
      "2.85: 24.59 <> 159\t0.15465408805031447\n"
     ]
    },
    {
     "name": "stdout",
     "output_type": "stream",
     "text": [
      "2.9: 26.95 <> 149\t0.1808724832214765\n"
     ]
    },
    {
     "name": "stdout",
     "output_type": "stream",
     "text": [
      "2.95: 25.82 <> 140\t0.18442857142857144\n"
     ]
    },
    {
     "name": "stdout",
     "output_type": "stream",
     "text": [
      "3.0: 19.8 <> 130\t0.1523076923076923\n"
     ]
    },
    {
     "name": "stdout",
     "output_type": "stream",
     "text": [
      "3.05: 19.93 <> 118\t0.16889830508474576\n"
     ]
    },
    {
     "name": "stdout",
     "output_type": "stream",
     "text": [
      "3.1: 18.56 <> 112\t0.1657142857142857\n"
     ]
    },
    {
     "name": "stdout",
     "output_type": "stream",
     "text": [
      "3.15: 13.5 <> 109\t0.12385321100917432\n"
     ]
    },
    {
     "name": "stdout",
     "output_type": "stream",
     "text": [
      "3.2: 12.37 <> 103\t0.12009708737864076\n"
     ]
    },
    {
     "name": "stdout",
     "output_type": "stream",
     "text": [
      "3.25: 11.42 <> 100\t0.1142\n"
     ]
    },
    {
     "name": "stdout",
     "output_type": "stream",
     "text": [
      "3.3: 10.29 <> 95\t0.1083157894736842\n"
     ]
    },
    {
     "name": "stdout",
     "output_type": "stream",
     "text": [
      "3.35: 8.9 <> 91\t0.0978021978021978\n"
     ]
    },
    {
     "name": "stdout",
     "output_type": "stream",
     "text": [
      "3.4: 7.77 <> 89\t0.08730337078651684\n"
     ]
    },
    {
     "name": "stdout",
     "output_type": "stream",
     "text": [
      "3.45: 6.6 <> 83\t0.07951807228915662\n"
     ]
    },
    {
     "name": "stdout",
     "output_type": "stream",
     "text": [
      "3.5: 6.23 <> 80\t0.077875\n"
     ]
    },
    {
     "name": "stdout",
     "output_type": "stream",
     "text": [
      "3.55: 4.2 <> 76\t0.05526315789473685\n"
     ]
    },
    {
     "name": "stdout",
     "output_type": "stream",
     "text": [
      "3.6: 5.8 <> 73\t0.07945205479452054\n"
     ]
    },
    {
     "name": "stdout",
     "output_type": "stream",
     "text": [
      "3.65: 5.78 <> 68\t0.085\n"
     ]
    },
    {
     "name": "stdout",
     "output_type": "stream",
     "text": [
      "3.7: 4.78 <> 66\t0.07242424242424243\n"
     ]
    },
    {
     "name": "stdout",
     "output_type": "stream",
     "text": [
      "3.75: 4.38 <> 62\t0.07064516129032258\n"
     ]
    },
    {
     "name": "stdout",
     "output_type": "stream",
     "text": [
      "3.8: 3.43 <> 60\t0.05716666666666667\n"
     ]
    },
    {
     "name": "stdout",
     "output_type": "stream",
     "text": [
      "3.85: 3.69 <> 58\t0.06362068965517241\n"
     ]
    },
    {
     "name": "stdout",
     "output_type": "stream",
     "text": [
      "3.9: 3.7 <> 56\t0.06607142857142857\n"
     ]
    },
    {
     "name": "stdout",
     "output_type": "stream",
     "text": [
      "3.95: 2.54 <> 54\t0.04703703703703704\nChromosome: 12\tratio: 4.0\t linkages: 54\n"
     ]
    },
    {
     "name": "stdout",
     "output_type": "stream",
     "text": [
      "No markers added to the model for 1257 genes out of 1311\nIteration 1:\n(54, 102) (233, 104)\n1.5: 17.11 <> 26\t0.658076923076923\n"
     ]
    },
    {
     "name": "stdout",
     "output_type": "stream",
     "text": [
      "1.55: 15.82 <> 24\t0.6591666666666667\n1.6: 15.09 <> 23\t0.6560869565217391\n"
     ]
    },
    {
     "name": "stdout",
     "output_type": "stream",
     "text": [
      "1.65: 13.68 <> 22\t0.6218181818181818\n1.7: 12.61 <> 21\t0.6004761904761905\n"
     ]
    },
    {
     "name": "stdout",
     "output_type": "stream",
     "text": [
      "1.75: 10.93 <> 20\t0.5465\n1.8: 9.67 <> 18\t0.5372222222222223\n"
     ]
    },
    {
     "name": "stdout",
     "output_type": "stream",
     "text": [
      "1.85: 8.84 <> 17\t0.52\n1.9: 8.01 <> 16\t0.500625\n"
     ]
    },
    {
     "name": "stdout",
     "output_type": "stream",
     "text": [
      "1.95: 7.33 <> 13\t0.5638461538461539\n2.0: 7.1 <> 13\t0.5461538461538461\n"
     ]
    },
    {
     "name": "stdout",
     "output_type": "stream",
     "text": [
      "2.05: 6.32 <> 13\t0.48615384615384616\n2.1: 5.69 <> 12\t0.4741666666666667\n"
     ]
    },
    {
     "name": "stdout",
     "output_type": "stream",
     "text": [
      "2.15: 4.73 <> 12\t0.3941666666666667\n2.2: 4.7 <> 12\t0.39166666666666666\n"
     ]
    },
    {
     "name": "stdout",
     "output_type": "stream",
     "text": [
      "2.25: 3.72 <> 12\t0.31\n2.3: 3.01 <> 11\t0.2736363636363636\n"
     ]
    },
    {
     "name": "stdout",
     "output_type": "stream",
     "text": [
      "2.35: 3.13 <> 10\t0.313\n2.4: 2.83 <> 9\t0.31444444444444447\n"
     ]
    },
    {
     "name": "stdout",
     "output_type": "stream",
     "text": [
      "2.45: 2.3 <> 9\t0.25555555555555554\n2.5: 2.24 <> 8\t0.28\n"
     ]
    },
    {
     "name": "stdout",
     "output_type": "stream",
     "text": [
      "2.55: 1.88 <> 6\t0.3133333333333333\n2.6: 1.43 <> 5\t0.286\n"
     ]
    },
    {
     "name": "stdout",
     "output_type": "stream",
     "text": [
      "2.65: 1.53 <> 4\t0.3825\n2.7: 1.35 <> 4\t0.3375\n"
     ]
    },
    {
     "name": "stdout",
     "output_type": "stream",
     "text": [
      "2.75: 1.56 <> 4\t0.39\n2.8: 1.38 <> 4\t0.345\n"
     ]
    },
    {
     "name": "stdout",
     "output_type": "stream",
     "text": [
      "2.85: 1.07 <> 4\t0.2675\n2.9: 0.97 <> 4\t0.2425\n"
     ]
    },
    {
     "name": "stdout",
     "output_type": "stream",
     "text": [
      "2.95: 0.81 <> 4\t0.2025\n3.0: 0.62 <> 3\t0.20666666666666667\n"
     ]
    },
    {
     "name": "stdout",
     "output_type": "stream",
     "text": [
      "3.05: 0.61 <> 3\t0.20333333333333334\n3.1: 0.54 <> 3\t0.18000000000000002\n"
     ]
    },
    {
     "name": "stdout",
     "output_type": "stream",
     "text": [
      "3.15: 0.48 <> 3\t0.16\n3.2: 0.5 <> 3\t0.16666666666666666\n"
     ]
    },
    {
     "name": "stdout",
     "output_type": "stream",
     "text": [
      "3.25: 0.45 <> 3\t0.15\n3.3: 0.43 <> 3\t0.14333333333333334\n"
     ]
    },
    {
     "name": "stdout",
     "output_type": "stream",
     "text": [
      "3.35: 0.3 <> 3\t0.09999999999999999\n3.4: 0.39 <> 1\t0.39\n"
     ]
    },
    {
     "name": "stdout",
     "output_type": "stream",
     "text": [
      "3.45: 0.3 <> 1\t0.3\n3.5: 0.3 <> 1\t0.3\n"
     ]
    },
    {
     "name": "stdout",
     "output_type": "stream",
     "text": [
      "3.55: 0.25 <> 1\t0.25\n3.6: 0.23 <> 1\t0.23\n"
     ]
    },
    {
     "name": "stdout",
     "output_type": "stream",
     "text": [
      "3.65: 0.14 <> 1\t0.14\n3.7: 0.18 <> 1\t0.18\n"
     ]
    },
    {
     "name": "stdout",
     "output_type": "stream",
     "text": [
      "3.75: 0.13 <> 1\t0.13\n3.8: 0.13 <> 1\t0.13\n"
     ]
    },
    {
     "name": "stderr",
     "output_type": "stream",
     "text": [
      "\r 75%|███████▌  | 12/16 [02:13<00:44, 11.14s/it]"
     ]
    },
    {
     "name": "stdout",
     "output_type": "stream",
     "text": [
      "3.85: 0.13 <> 1\t0.13\n3.9: 0.13 <> 1\t0.13\n12: Such a pity...\nIteration 0:\n(1311, 102) (203, 104)\n"
     ]
    },
    {
     "name": "stdout",
     "output_type": "stream",
     "text": [
      "1.5: 340.28 <> 729\t0.4667764060356653\n"
     ]
    },
    {
     "name": "stdout",
     "output_type": "stream",
     "text": [
      "1.55: 304.82 <> 701\t0.43483594864479314\n"
     ]
    },
    {
     "name": "stdout",
     "output_type": "stream",
     "text": [
      "1.6: 299.64 <> 664\t0.45126506024096386\n"
     ]
    },
    {
     "name": "stdout",
     "output_type": "stream",
     "text": [
      "1.65: 252.05 <> 650\t0.3877692307692308\n"
     ]
    },
    {
     "name": "stdout",
     "output_type": "stream",
     "text": [
      "1.7: 234.17 <> 628\t0.3728821656050955\n"
     ]
    },
    {
     "name": "stdout",
     "output_type": "stream",
     "text": [
      "1.75: 210.61 <> 604\t0.34869205298013245\n"
     ]
    },
    {
     "name": "stdout",
     "output_type": "stream",
     "text": [
      "1.8: 180.78 <> 579\t0.3122279792746114\n"
     ]
    },
    {
     "name": "stdout",
     "output_type": "stream",
     "text": [
      "1.85: 161.86 <> 561\t0.28852049910873445\n"
     ]
    },
    {
     "name": "stdout",
     "output_type": "stream",
     "text": [
      "1.9: 162.76 <> 543\t0.29974217311233886\n"
     ]
    },
    {
     "name": "stdout",
     "output_type": "stream",
     "text": [
      "1.95: 151.8 <> 525\t0.28914285714285715\n"
     ]
    },
    {
     "name": "stdout",
     "output_type": "stream",
     "text": [
      "2.0: 123.88 <> 510\t0.24290196078431373\n"
     ]
    },
    {
     "name": "stdout",
     "output_type": "stream",
     "text": [
      "2.05: 111.53 <> 485\t0.22995876288659794\n"
     ]
    },
    {
     "name": "stdout",
     "output_type": "stream",
     "text": [
      "2.1: 101.32 <> 462\t0.21930735930735928\n"
     ]
    },
    {
     "name": "stdout",
     "output_type": "stream",
     "text": [
      "2.15: 92.2 <> 447\t0.20626398210290828\n"
     ]
    },
    {
     "name": "stdout",
     "output_type": "stream",
     "text": [
      "2.2: 91.93 <> 429\t0.2142890442890443\n"
     ]
    },
    {
     "name": "stdout",
     "output_type": "stream",
     "text": [
      "2.25: 69.74 <> 415\t0.16804819277108432\n"
     ]
    },
    {
     "name": "stdout",
     "output_type": "stream",
     "text": [
      "2.3: 60.92 <> 396\t0.15383838383838383\n"
     ]
    },
    {
     "name": "stdout",
     "output_type": "stream",
     "text": [
      "2.35: 49.54 <> 388\t0.127680412371134\n"
     ]
    },
    {
     "name": "stdout",
     "output_type": "stream",
     "text": [
      "2.4: 53.2 <> 377\t0.14111405835543767\n"
     ]
    },
    {
     "name": "stdout",
     "output_type": "stream",
     "text": [
      "2.45: 47.6 <> 366\t0.13005464480874318\n"
     ]
    },
    {
     "name": "stdout",
     "output_type": "stream",
     "text": [
      "2.5: 49.99 <> 353\t0.14161473087818696\n"
     ]
    },
    {
     "name": "stdout",
     "output_type": "stream",
     "text": [
      "2.55: 39.75 <> 346\t0.11488439306358382\n"
     ]
    },
    {
     "name": "stdout",
     "output_type": "stream",
     "text": [
      "2.6: 39.86 <> 333\t0.1196996996996997\n"
     ]
    },
    {
     "name": "stdout",
     "output_type": "stream",
     "text": [
      "2.65: 36.63 <> 323\t0.11340557275541796\n"
     ]
    },
    {
     "name": "stdout",
     "output_type": "stream",
     "text": [
      "2.7: 28.95 <> 317\t0.09132492113564669\n"
     ]
    },
    {
     "name": "stdout",
     "output_type": "stream",
     "text": [
      "2.75: 27.17 <> 308\t0.08821428571428572\n"
     ]
    },
    {
     "name": "stdout",
     "output_type": "stream",
     "text": [
      "2.8: 25.7 <> 305\t0.08426229508196721\n"
     ]
    },
    {
     "name": "stdout",
     "output_type": "stream",
     "text": [
      "2.85: 19.31 <> 300\t0.06436666666666667\n"
     ]
    },
    {
     "name": "stdout",
     "output_type": "stream",
     "text": [
      "2.9: 18.39 <> 292\t0.06297945205479452\n"
     ]
    },
    {
     "name": "stdout",
     "output_type": "stream",
     "text": [
      "2.95: 21.62 <> 283\t0.0763957597173145\n"
     ]
    },
    {
     "name": "stdout",
     "output_type": "stream",
     "text": [
      "3.0: 16.86 <> 277\t0.060866425992779784\n"
     ]
    },
    {
     "name": "stdout",
     "output_type": "stream",
     "text": [
      "3.05: 13.19 <> 267\t0.04940074906367041\nChromosome: 13\tratio: 3.1\t linkages: 267\n"
     ]
    },
    {
     "name": "stdout",
     "output_type": "stream",
     "text": [
      "No markers added to the model for 1044 genes out of 1311\nIteration 1:\n(267, 102) (203, 104)\n1.5: 69.63 <> 74\t0.9409459459459459\n"
     ]
    },
    {
     "name": "stderr",
     "output_type": "stream",
     "text": [
      "\r 81%|████████▏ | 13/16 [02:28<00:34, 11.44s/it]"
     ]
    },
    {
     "name": "stdout",
     "output_type": "stream",
     "text": [
      "1.55: 65.24 <> 67\t0.973731343283582\n13: Such a pity...\nIteration 0:\n(1311, 102) (102, 104)\n"
     ]
    },
    {
     "name": "stdout",
     "output_type": "stream",
     "text": [
      "1.5: 252.57 <> 438\t0.5766438356164384\n"
     ]
    },
    {
     "name": "stdout",
     "output_type": "stream",
     "text": [
      "1.55: 244.62 <> 400\t0.61155\n"
     ]
    },
    {
     "name": "stdout",
     "output_type": "stream",
     "text": [
      "1.6: 232.38 <> 377\t0.6163925729442971\n"
     ]
    },
    {
     "name": "stdout",
     "output_type": "stream",
     "text": [
      "1.65: 185.63 <> 346\t0.5365028901734104\n"
     ]
    },
    {
     "name": "stdout",
     "output_type": "stream",
     "text": [
      "1.7: 161.74 <> 330\t0.4901212121212121\n"
     ]
    },
    {
     "name": "stdout",
     "output_type": "stream",
     "text": [
      "1.75: 164.88 <> 310\t0.5318709677419354\n"
     ]
    },
    {
     "name": "stdout",
     "output_type": "stream",
     "text": [
      "1.8: 144.72 <> 294\t0.4922448979591837\n"
     ]
    },
    {
     "name": "stdout",
     "output_type": "stream",
     "text": [
      "1.85: 131.85 <> 280\t0.4708928571428571\n"
     ]
    },
    {
     "name": "stdout",
     "output_type": "stream",
     "text": [
      "1.9: 111.09 <> 268\t0.41451492537313434\n"
     ]
    },
    {
     "name": "stdout",
     "output_type": "stream",
     "text": [
      "1.95: 101.49 <> 257\t0.3949027237354085\n"
     ]
    },
    {
     "name": "stdout",
     "output_type": "stream",
     "text": [
      "2.0: 94.02 <> 249\t0.3775903614457831\n"
     ]
    },
    {
     "name": "stdout",
     "output_type": "stream",
     "text": [
      "2.05: 82.62 <> 226\t0.3655752212389381\n"
     ]
    },
    {
     "name": "stdout",
     "output_type": "stream",
     "text": [
      "2.1: 72.79 <> 208\t0.34995192307692313\n"
     ]
    },
    {
     "name": "stdout",
     "output_type": "stream",
     "text": [
      "2.15: 69.24 <> 201\t0.34447761194029847\n"
     ]
    },
    {
     "name": "stdout",
     "output_type": "stream",
     "text": [
      "2.2: 63.01 <> 193\t0.3264766839378238\n"
     ]
    },
    {
     "name": "stdout",
     "output_type": "stream",
     "text": [
      "2.25: 61.07 <> 182\t0.33554945054945057\n"
     ]
    },
    {
     "name": "stdout",
     "output_type": "stream",
     "text": [
      "2.3: 50.85 <> 170\t0.29911764705882354\n"
     ]
    },
    {
     "name": "stdout",
     "output_type": "stream",
     "text": [
      "2.35: 35.98 <> 162\t0.22209876543209875\n"
     ]
    },
    {
     "name": "stdout",
     "output_type": "stream",
     "text": [
      "2.4: 39.72 <> 150\t0.2648\n"
     ]
    },
    {
     "name": "stdout",
     "output_type": "stream",
     "text": [
      "2.45: 36.64 <> 140\t0.26171428571428573\n"
     ]
    },
    {
     "name": "stdout",
     "output_type": "stream",
     "text": [
      "2.5: 35.39 <> 133\t0.26609022556390977\n"
     ]
    },
    {
     "name": "stdout",
     "output_type": "stream",
     "text": [
      "2.55: 26.54 <> 123\t0.21577235772357722\n"
     ]
    },
    {
     "name": "stdout",
     "output_type": "stream",
     "text": [
      "2.6: 26.3 <> 115\t0.22869565217391305\n"
     ]
    },
    {
     "name": "stdout",
     "output_type": "stream",
     "text": [
      "2.65: 23.19 <> 110\t0.21081818181818182\n"
     ]
    },
    {
     "name": "stdout",
     "output_type": "stream",
     "text": [
      "2.7: 19.36 <> 99\t0.19555555555555554\n"
     ]
    },
    {
     "name": "stdout",
     "output_type": "stream",
     "text": [
      "2.75: 16.76 <> 93\t0.18021505376344088\n"
     ]
    },
    {
     "name": "stdout",
     "output_type": "stream",
     "text": [
      "2.8: 18.98 <> 89\t0.21325842696629213\n"
     ]
    },
    {
     "name": "stdout",
     "output_type": "stream",
     "text": [
      "2.85: 14.14 <> 87\t0.16252873563218392\n"
     ]
    },
    {
     "name": "stdout",
     "output_type": "stream",
     "text": [
      "2.9: 13.74 <> 80\t0.17175\n"
     ]
    },
    {
     "name": "stdout",
     "output_type": "stream",
     "text": [
      "2.95: 11.27 <> 79\t0.14265822784810125\n"
     ]
    },
    {
     "name": "stdout",
     "output_type": "stream",
     "text": [
      "3.0: 8.94 <> 72\t0.12416666666666666\n"
     ]
    },
    {
     "name": "stdout",
     "output_type": "stream",
     "text": [
      "3.05: 9.43 <> 67\t0.1407462686567164\n"
     ]
    },
    {
     "name": "stdout",
     "output_type": "stream",
     "text": [
      "3.1: 6.95 <> 67\t0.10373134328358209\n"
     ]
    },
    {
     "name": "stdout",
     "output_type": "stream",
     "text": [
      "3.15: 9.24 <> 64\t0.144375\n"
     ]
    },
    {
     "name": "stdout",
     "output_type": "stream",
     "text": [
      "3.2: 7.27 <> 59\t0.12322033898305083\n"
     ]
    },
    {
     "name": "stdout",
     "output_type": "stream",
     "text": [
      "3.25: 5.53 <> 56\t0.09875\n"
     ]
    },
    {
     "name": "stdout",
     "output_type": "stream",
     "text": [
      "3.3: 6.44 <> 53\t0.12150943396226416\n"
     ]
    },
    {
     "name": "stdout",
     "output_type": "stream",
     "text": [
      "3.35: 5.02 <> 51\t0.0984313725490196\n"
     ]
    },
    {
     "name": "stdout",
     "output_type": "stream",
     "text": [
      "3.4: 4.12 <> 50\t0.0824\n"
     ]
    },
    {
     "name": "stdout",
     "output_type": "stream",
     "text": [
      "3.45: 2.95 <> 49\t0.06020408163265306\n"
     ]
    },
    {
     "name": "stdout",
     "output_type": "stream",
     "text": [
      "3.5: 3.82 <> 49\t0.07795918367346938\n"
     ]
    },
    {
     "name": "stdout",
     "output_type": "stream",
     "text": [
      "3.55: 3.79 <> 47\t0.08063829787234042\n"
     ]
    },
    {
     "name": "stdout",
     "output_type": "stream",
     "text": [
      "3.6: 2.35 <> 46\t0.051086956521739134\n"
     ]
    },
    {
     "name": "stdout",
     "output_type": "stream",
     "text": [
      "3.65: 2.5 <> 43\t0.05813953488372093\n"
     ]
    },
    {
     "name": "stdout",
     "output_type": "stream",
     "text": [
      "3.7: 1.7 <> 42\t0.04047619047619048\nChromosome: 14\tratio: 3.7\t linkages: 42\n"
     ]
    },
    {
     "name": "stdout",
     "output_type": "stream",
     "text": [
      "No markers added to the model for 1269 genes out of 1311\nIteration 1:\n(42, 102) (102, 104)\n"
     ]
    },
    {
     "name": "stderr",
     "output_type": "stream",
     "text": [
      "\r 88%|████████▊ | 14/16 [02:46<00:23, 11.86s/it]"
     ]
    },
    {
     "name": "stdout",
     "output_type": "stream",
     "text": [
      "14: Such a pity...\nIteration 0:\n(1311, 102) (309, 104)\n"
     ]
    },
    {
     "name": "stdout",
     "output_type": "stream",
     "text": [
      "1.5: 390.38 <> 499\t0.7823246492985971\n"
     ]
    },
    {
     "name": "stdout",
     "output_type": "stream",
     "text": [
      "1.55: 354.98 <> 468\t0.7585042735042735\n"
     ]
    },
    {
     "name": "stdout",
     "output_type": "stream",
     "text": [
      "1.6: 327.47 <> 439\t0.7459453302961276\n"
     ]
    },
    {
     "name": "stdout",
     "output_type": "stream",
     "text": [
      "1.65: 292.51 <> 423\t0.6915130023640662\n"
     ]
    },
    {
     "name": "stdout",
     "output_type": "stream",
     "text": [
      "1.7: 278.42 <> 391\t0.712071611253197\n"
     ]
    },
    {
     "name": "stdout",
     "output_type": "stream",
     "text": [
      "1.75: 237.31 <> 362\t0.6555524861878453\n"
     ]
    },
    {
     "name": "stdout",
     "output_type": "stream",
     "text": [
      "1.8: 220.99 <> 347\t0.6368587896253602\n"
     ]
    },
    {
     "name": "stdout",
     "output_type": "stream",
     "text": [
      "1.85: 192.31 <> 328\t0.5863109756097561\n"
     ]
    },
    {
     "name": "stdout",
     "output_type": "stream",
     "text": [
      "1.9: 176.41 <> 309\t0.570906148867314\n"
     ]
    },
    {
     "name": "stdout",
     "output_type": "stream",
     "text": [
      "1.95: 157.75 <> 292\t0.5402397260273972\n"
     ]
    },
    {
     "name": "stdout",
     "output_type": "stream",
     "text": [
      "2.0: 151.68 <> 273\t0.5556043956043957\n"
     ]
    },
    {
     "name": "stdout",
     "output_type": "stream",
     "text": [
      "2.05: 128.11 <> 255\t0.5023921568627452\n"
     ]
    },
    {
     "name": "stdout",
     "output_type": "stream",
     "text": [
      "2.1: 124.24 <> 236\t0.5264406779661017\n"
     ]
    },
    {
     "name": "stdout",
     "output_type": "stream",
     "text": [
      "2.15: 105.95 <> 220\t0.4815909090909091\n"
     ]
    },
    {
     "name": "stdout",
     "output_type": "stream",
     "text": [
      "2.2: 90.19 <> 210\t0.42947619047619046\n"
     ]
    },
    {
     "name": "stdout",
     "output_type": "stream",
     "text": [
      "2.25: 91.06 <> 197\t0.46223350253807105\n"
     ]
    },
    {
     "name": "stdout",
     "output_type": "stream",
     "text": [
      "2.3: 79.21 <> 188\t0.4213297872340425\n"
     ]
    },
    {
     "name": "stdout",
     "output_type": "stream",
     "text": [
      "2.35: 63.17 <> 179\t0.3529050279329609\n"
     ]
    },
    {
     "name": "stdout",
     "output_type": "stream",
     "text": [
      "2.4: 65.4 <> 171\t0.3824561403508772\n"
     ]
    },
    {
     "name": "stdout",
     "output_type": "stream",
     "text": [
      "2.45: 52.06 <> 160\t0.325375\n"
     ]
    },
    {
     "name": "stdout",
     "output_type": "stream",
     "text": [
      "2.5: 52.16 <> 149\t0.3500671140939597\n"
     ]
    },
    {
     "name": "stdout",
     "output_type": "stream",
     "text": [
      "2.55: 45.06 <> 143\t0.31510489510489514\n"
     ]
    },
    {
     "name": "stdout",
     "output_type": "stream",
     "text": [
      "2.6: 42.27 <> 137\t0.30854014598540147\n"
     ]
    },
    {
     "name": "stdout",
     "output_type": "stream",
     "text": [
      "2.65: 40.13 <> 130\t0.3086923076923077\n"
     ]
    },
    {
     "name": "stdout",
     "output_type": "stream",
     "text": [
      "2.7: 31.38 <> 123\t0.2551219512195122\n"
     ]
    },
    {
     "name": "stdout",
     "output_type": "stream",
     "text": [
      "2.75: 31.41 <> 117\t0.2684615384615385\n"
     ]
    },
    {
     "name": "stdout",
     "output_type": "stream",
     "text": [
      "2.8: 25.75 <> 112\t0.22991071428571427\n"
     ]
    },
    {
     "name": "stdout",
     "output_type": "stream",
     "text": [
      "2.85: 24.65 <> 109\t0.2261467889908257\n"
     ]
    },
    {
     "name": "stdout",
     "output_type": "stream",
     "text": [
      "2.9: 24.0 <> 103\t0.23300970873786409\n"
     ]
    },
    {
     "name": "stdout",
     "output_type": "stream",
     "text": [
      "2.95: 19.77 <> 98\t0.20173469387755102\n"
     ]
    },
    {
     "name": "stdout",
     "output_type": "stream",
     "text": [
      "3.0: 15.76 <> 95\t0.16589473684210526\n"
     ]
    },
    {
     "name": "stdout",
     "output_type": "stream",
     "text": [
      "3.05: 14.9 <> 92\t0.16195652173913044\n"
     ]
    },
    {
     "name": "stdout",
     "output_type": "stream",
     "text": [
      "3.1: 12.89 <> 88\t0.14647727272727273\n"
     ]
    },
    {
     "name": "stdout",
     "output_type": "stream",
     "text": [
      "3.15: 15.08 <> 88\t0.17136363636363636\n"
     ]
    },
    {
     "name": "stdout",
     "output_type": "stream",
     "text": [
      "3.2: 11.66 <> 87\t0.13402298850574712\n"
     ]
    },
    {
     "name": "stdout",
     "output_type": "stream",
     "text": [
      "3.25: 11.33 <> 82\t0.13817073170731708\n"
     ]
    },
    {
     "name": "stdout",
     "output_type": "stream",
     "text": [
      "3.3: 8.83 <> 77\t0.11467532467532468\n"
     ]
    },
    {
     "name": "stdout",
     "output_type": "stream",
     "text": [
      "3.35: 9.43 <> 77\t0.12246753246753246\n"
     ]
    },
    {
     "name": "stdout",
     "output_type": "stream",
     "text": [
      "3.4: 8.8 <> 74\t0.11891891891891893\n"
     ]
    },
    {
     "name": "stdout",
     "output_type": "stream",
     "text": [
      "3.45: 7.91 <> 73\t0.10835616438356165\n"
     ]
    },
    {
     "name": "stdout",
     "output_type": "stream",
     "text": [
      "3.5: 6.09 <> 70\t0.087\n"
     ]
    },
    {
     "name": "stdout",
     "output_type": "stream",
     "text": [
      "3.55: 5.15 <> 69\t0.0746376811594203\n"
     ]
    },
    {
     "name": "stdout",
     "output_type": "stream",
     "text": [
      "3.6: 4.35 <> 68\t0.06397058823529411\n"
     ]
    },
    {
     "name": "stdout",
     "output_type": "stream",
     "text": [
      "3.65: 4.37 <> 64\t0.06828125\n"
     ]
    },
    {
     "name": "stdout",
     "output_type": "stream",
     "text": [
      "3.7: 3.58 <> 63\t0.05682539682539683\n"
     ]
    },
    {
     "name": "stdout",
     "output_type": "stream",
     "text": [
      "3.75: 4.64 <> 60\t0.07733333333333332\n"
     ]
    },
    {
     "name": "stdout",
     "output_type": "stream",
     "text": [
      "3.8: 3.47 <> 59\t0.0588135593220339\n"
     ]
    },
    {
     "name": "stdout",
     "output_type": "stream",
     "text": [
      "3.85: 3.09 <> 56\t0.055178571428571424\n"
     ]
    },
    {
     "name": "stdout",
     "output_type": "stream",
     "text": [
      "3.9: 1.47 <> 56\t0.02625\nChromosome: 15\tratio: 3.9\t linkages: 56\n"
     ]
    },
    {
     "name": "stderr",
     "output_type": "stream",
     "text": [
      "\r 94%|█████████▍| 15/16 [03:13<00:12, 12.92s/it]"
     ]
    },
    {
     "name": "stdout",
     "output_type": "stream",
     "text": [
      "No markers added to the model for 1255 genes out of 1311\nIteration 1:\n(56, 102) (309, 104)\n15: Such a pity...\nIteration 0:\n(1311, 102) (97, 104)\n"
     ]
    },
    {
     "name": "stdout",
     "output_type": "stream",
     "text": [
      "1.5: 305.05 <> 531\t0.5744821092278719\n"
     ]
    },
    {
     "name": "stdout",
     "output_type": "stream",
     "text": [
      "1.55: 279.33 <> 491\t0.5689002036659877\n"
     ]
    },
    {
     "name": "stdout",
     "output_type": "stream",
     "text": [
      "1.6: 259.02 <> 459\t0.5643137254901961\n"
     ]
    },
    {
     "name": "stdout",
     "output_type": "stream",
     "text": [
      "1.65: 223.51 <> 424\t0.5271462264150943\n"
     ]
    },
    {
     "name": "stdout",
     "output_type": "stream",
     "text": [
      "1.7: 194.37 <> 390\t0.49838461538461537\n"
     ]
    },
    {
     "name": "stdout",
     "output_type": "stream",
     "text": [
      "1.75: 171.64 <> 365\t0.4702465753424657\n"
     ]
    },
    {
     "name": "stdout",
     "output_type": "stream",
     "text": [
      "1.8: 162.31 <> 343\t0.4732069970845481\n"
     ]
    },
    {
     "name": "stdout",
     "output_type": "stream",
     "text": [
      "1.85: 144.06 <> 331\t0.435226586102719\n"
     ]
    },
    {
     "name": "stdout",
     "output_type": "stream",
     "text": [
      "1.9: 127.63 <> 314\t0.4064649681528662\n"
     ]
    },
    {
     "name": "stdout",
     "output_type": "stream",
     "text": [
      "1.95: 122.08 <> 298\t0.4096644295302013\n"
     ]
    },
    {
     "name": "stdout",
     "output_type": "stream",
     "text": [
      "2.0: 123.48 <> 275\t0.4490181818181818\n"
     ]
    },
    {
     "name": "stdout",
     "output_type": "stream",
     "text": [
      "2.05: 98.63 <> 256\t0.3852734375\n"
     ]
    },
    {
     "name": "stdout",
     "output_type": "stream",
     "text": [
      "2.1: 77.54 <> 240\t0.32308333333333333\n"
     ]
    },
    {
     "name": "stdout",
     "output_type": "stream",
     "text": [
      "2.15: 81.79 <> 222\t0.36842342342342344\n"
     ]
    },
    {
     "name": "stdout",
     "output_type": "stream",
     "text": [
      "2.2: 74.87 <> 204\t0.3670098039215686\n"
     ]
    },
    {
     "name": "stdout",
     "output_type": "stream",
     "text": [
      "2.25: 60.77 <> 182\t0.3339010989010989\n"
     ]
    },
    {
     "name": "stdout",
     "output_type": "stream",
     "text": [
      "2.3: 59.53 <> 167\t0.3564670658682635\n"
     ]
    },
    {
     "name": "stdout",
     "output_type": "stream",
     "text": [
      "2.35: 48.75 <> 154\t0.31655844155844154\n"
     ]
    },
    {
     "name": "stdout",
     "output_type": "stream",
     "text": [
      "2.4: 45.68 <> 147\t0.3107482993197279\n"
     ]
    },
    {
     "name": "stdout",
     "output_type": "stream",
     "text": [
      "2.45: 43.36 <> 144\t0.3011111111111111\n"
     ]
    },
    {
     "name": "stdout",
     "output_type": "stream",
     "text": [
      "2.5: 42.56 <> 139\t0.3061870503597122\n"
     ]
    },
    {
     "name": "stdout",
     "output_type": "stream",
     "text": [
      "2.55: 30.79 <> 132\t0.23325757575757575\n"
     ]
    },
    {
     "name": "stdout",
     "output_type": "stream",
     "text": [
      "2.6: 31.42 <> 118\t0.266271186440678\n"
     ]
    },
    {
     "name": "stdout",
     "output_type": "stream",
     "text": [
      "2.65: 27.68 <> 109\t0.25394495412844037\n"
     ]
    },
    {
     "name": "stdout",
     "output_type": "stream",
     "text": [
      "2.7: 24.65 <> 100\t0.2465\n"
     ]
    },
    {
     "name": "stdout",
     "output_type": "stream",
     "text": [
      "2.75: 20.99 <> 96\t0.21864583333333332\n"
     ]
    },
    {
     "name": "stdout",
     "output_type": "stream",
     "text": [
      "2.8: 18.46 <> 90\t0.20511111111111113\n"
     ]
    },
    {
     "name": "stdout",
     "output_type": "stream",
     "text": [
      "2.85: 16.58 <> 87\t0.19057471264367815\n"
     ]
    },
    {
     "name": "stdout",
     "output_type": "stream",
     "text": [
      "2.9: 15.53 <> 80\t0.194125\n"
     ]
    },
    {
     "name": "stdout",
     "output_type": "stream",
     "text": [
      "2.95: 13.85 <> 73\t0.18972602739726027\n"
     ]
    },
    {
     "name": "stdout",
     "output_type": "stream",
     "text": [
      "3.0: 12.59 <> 67\t0.18791044776119403\n"
     ]
    },
    {
     "name": "stdout",
     "output_type": "stream",
     "text": [
      "3.05: 12.12 <> 64\t0.189375\n"
     ]
    },
    {
     "name": "stdout",
     "output_type": "stream",
     "text": [
      "3.1: 10.46 <> 58\t0.1803448275862069\n"
     ]
    },
    {
     "name": "stdout",
     "output_type": "stream",
     "text": [
      "3.15: 6.92 <> 55\t0.12581818181818183\n"
     ]
    },
    {
     "name": "stdout",
     "output_type": "stream",
     "text": [
      "3.2: 6.68 <> 50\t0.1336\n"
     ]
    },
    {
     "name": "stdout",
     "output_type": "stream",
     "text": [
      "3.25: 6.41 <> 49\t0.13081632653061226\n"
     ]
    },
    {
     "name": "stdout",
     "output_type": "stream",
     "text": [
      "3.3: 5.68 <> 45\t0.1262222222222222\n"
     ]
    },
    {
     "name": "stdout",
     "output_type": "stream",
     "text": [
      "3.35: 5.71 <> 42\t0.13595238095238096\n"
     ]
    },
    {
     "name": "stdout",
     "output_type": "stream",
     "text": [
      "3.4: 4.92 <> 39\t0.12615384615384614\n"
     ]
    },
    {
     "name": "stdout",
     "output_type": "stream",
     "text": [
      "3.45: 5.19 <> 35\t0.1482857142857143\n"
     ]
    },
    {
     "name": "stdout",
     "output_type": "stream",
     "text": [
      "3.5: 2.5 <> 35\t0.07142857142857142\n"
     ]
    },
    {
     "name": "stdout",
     "output_type": "stream",
     "text": [
      "3.55: 3.83 <> 29\t0.13206896551724137\n"
     ]
    },
    {
     "name": "stdout",
     "output_type": "stream",
     "text": [
      "3.6: 2.84 <> 27\t0.10518518518518517\n"
     ]
    },
    {
     "name": "stdout",
     "output_type": "stream",
     "text": [
      "3.65: 2.61 <> 26\t0.10038461538461538\n"
     ]
    },
    {
     "name": "stdout",
     "output_type": "stream",
     "text": [
      "3.7: 2.26 <> 25\t0.0904\n"
     ]
    },
    {
     "name": "stdout",
     "output_type": "stream",
     "text": [
      "3.75: 2.63 <> 25\t0.1052\n"
     ]
    },
    {
     "name": "stdout",
     "output_type": "stream",
     "text": [
      "3.8: 1.72 <> 22\t0.07818181818181819\n"
     ]
    },
    {
     "name": "stdout",
     "output_type": "stream",
     "text": [
      "3.85: 2.36 <> 18\t0.1311111111111111\n"
     ]
    },
    {
     "name": "stdout",
     "output_type": "stream",
     "text": [
      "3.9: 1.6 <> 16\t0.1\n"
     ]
    },
    {
     "name": "stdout",
     "output_type": "stream",
     "text": [
      "3.95: 1.57 <> 15\t0.10466666666666667\n"
     ]
    },
    {
     "name": "stdout",
     "output_type": "stream",
     "text": [
      "4.0: 1.19 <> 15\t0.07933333333333333\n"
     ]
    },
    {
     "name": "stdout",
     "output_type": "stream",
     "text": [
      "4.05: 0.82 <> 14\t0.058571428571428566\n"
     ]
    },
    {
     "name": "stdout",
     "output_type": "stream",
     "text": [
      "4.1: 0.71 <> 14\t0.05071428571428571\n"
     ]
    },
    {
     "name": "stdout",
     "output_type": "stream",
     "text": [
      "4.15: 1.37 <> 12\t0.11416666666666668\n"
     ]
    },
    {
     "name": "stdout",
     "output_type": "stream",
     "text": [
      "4.2: 0.7 <> 12\t0.05833333333333333\n"
     ]
    },
    {
     "name": "stdout",
     "output_type": "stream",
     "text": [
      "4.25: 0.81 <> 12\t0.0675\n"
     ]
    },
    {
     "name": "stdout",
     "output_type": "stream",
     "text": [
      "4.3: 0.48 <> 12\t0.04\nChromosome: 16\tratio: 4.3\t linkages: 12\n"
     ]
    },
    {
     "name": "stderr",
     "output_type": "stream",
     "text": [
      "\r100%|██████████| 16/16 [03:34<00:00, 13.43s/it]"
     ]
    },
    {
     "name": "stdout",
     "output_type": "stream",
     "text": [
      "No markers added to the model for 1299 genes out of 1311\nIteration 1:\n(12, 102) (97, 104)\n16: Such a pity...\nCPU times: user 14min 5s, sys: 11.1 s, total: 14min 16s\nWall time: 3min 34s\n"
     ]
    },
    {
     "name": "stderr",
     "output_type": "stream",
     "text": [
      "\n"
     ]
    }
   ],
   "source": [
    "%%time\n",
    "\"\"\" Mapping eQTLs as in https://elifesciences.org/articles/35471 \"\"\"\n",
    "\n",
    "def map_qtls(expression_dataframe, genotypes_dataframe):\n",
    "    qtl_list = []\n",
    "    for chromosome_id in trange(1, 17):\n",
    "        chromosome_dataframe = genotypes_dataframe.groupby(\"chromosome\").get_group(chromosome_id)\n",
    "        # Find background QTLs (as described in the preprocessing step) and adjust expression values\n",
    "        # to cancel out their effect by adding those QTLs to linear model for expression of a gene they\n",
    "        # influence, fitting it and using residuals instead of original expression data.\n",
    "        \n",
    "        \n",
    "        residual_expression_dataframe = expression_dataframe\n",
    "        used_markers_mask = np.zeros(\n",
    "            shape=(expression_dataframe.shape[0], chromosome_dataframe.shape[0]), \n",
    "            dtype=np.bool\n",
    "        )\n",
    "        gene2rownum = {gene : i for i, gene in enumerate(expression_dataframe[\"gene\"].values)}\n",
    "        remaining_genes_mask = np.ones_like(expression_dataframe[\"gene\"].values, dtype=np.bool) \n",
    "        \n",
    "        # preprocessing_iterations = 0\n",
    "        # for i in range(preprocessing_iterations):\n",
    "        #     # On each iteration at most one marker is added to linear model.\n",
    "        #     # In the paper the process was iterated three times.\n",
    "        #     gene2peak_LOD_markers = preprocessing_candidate_linkages( \n",
    "        #         residual_expression_dataframe, chromosome_dataframe, gene2peak_LOD_markers\n",
    "        #     )\n",
    "        #     residual_expression_dataframe = residual_expression(\n",
    "        #         residual_expression_dataframe, chromosome_dataframe, gene2peak_LOD_markers\n",
    "        #     )\n",
    "    \n",
    "\n",
    "        iter_count = 0\n",
    "        finding_linkages = True\n",
    "        while(finding_linkages):\n",
    "            print(\"Iteration {}:\".format(iter_count))\n",
    "            genotypes_matrix = nan_to_zero_then_scale(chromosome_dataframe.values[:, 1:-2].astype(np.float32) - 1)\n",
    "            expression_matrix = nan_to_zero_then_scale(residual_expression_dataframe.values[:, 1:].astype(np.float32))\n",
    "\n",
    "            LOD_scores = np.ma.array(linkage_LOD_scores(genotypes_matrix, expression_matrix), mask=used_markers_mask[remaining_genes_mask, :])\n",
    "            peak_LOD_marker_ids = np.argmax(LOD_scores, axis=1)\n",
    "            peak_LOD_values = np.max(LOD_scores, axis=1)\n",
    "\n",
    "            # All (marker, gene) pairs with the highest LOD score per gene are initially considered to be QTLs \n",
    "            candidate_linkages_dataframe = pd.DataFrame(\n",
    "                [(chromosome_dataframe[\"SNP\"].values[peak_LOD_marker_ids[i]], gene, peak_LOD_values[i], peak_LOD_marker_ids[i])\n",
    "                 for i, gene in enumerate(residual_expression_dataframe[\"gene\"])],\n",
    "                columns=[\"SNP\", \"gene\", \"LOD\", \"position\"]\n",
    "            )\n",
    "            \n",
    "            # Then LOD-score significance threshold is derived using permutations test.\n",
    "            # There are 151 threshold candidates at the moment, ranging from 1.5 to 9 with step value of 0.05.\n",
    "            # There are 1000 randomization iterations for each threshold.  \n",
    "            # Phenotypes are permuted on each iteration, while the genotypes remain the same.\n",
    "            # Then LOD-scores are calculated. Markers with peak LOD-per-gene with LOD-scores higher than current threshold get counted. \n",
    "            # Average of those counts is an expected number of linkages with LOD-scores above current threshold.\n",
    "            # The lowest LOD-score threshold, such that the ratio of expected number of linkages above that threshold\n",
    "            # to the observed number of such linkages is less than 0.05, is taken as a significance threshold.\n",
    "\n",
    "            LOD_thresholds = np.arange(1.5, 9.05, 0.05)\n",
    "            significance_threshold = np.nan\n",
    "            n_permutations = 100\n",
    "            \n",
    "            print(residual_expression_dataframe.shape, chromosome_dataframe.shape)\n",
    "            \n",
    "            for fdr_cutoff in LOD_thresholds:\n",
    "                observed = candidate_linkages_dataframe.query(\"LOD >= {}\".format(fdr_cutoff)).shape[0]\n",
    "                if observed == 0:\n",
    "                    break\n",
    "                random_linkages_in_total = 0\n",
    "                for _ in range(n_permutations):\n",
    "                    column_permutation = np.random.permutation(range(expression_matrix.shape[1]))\n",
    "                    permuted_expression_matrix = expression_matrix[:, column_permutation]\n",
    "                    permuted_LOD_scores = linkage_LOD_scores(genotypes_matrix, permuted_expression_matrix)\n",
    "                    permuted_peak_LOD_values = np.max(permuted_LOD_scores, axis=1)\n",
    "                    random_linkages_in_total += np.count_nonzero(permuted_peak_LOD_values >= fdr_cutoff)\n",
    "                expected = random_linkages_in_total / n_permutations\n",
    "                if expected >= observed:\n",
    "                    break\n",
    "                print(\"{:.3}: {} <> {}\\t{}\".format(fdr_cutoff, expected, observed, expected / observed))\n",
    "                if expected / observed < 0.05:\n",
    "                    significance_threshold = fdr_cutoff\n",
    "                    break\n",
    "            if np.isnan(significance_threshold):\n",
    "                finding_linkages = False\n",
    "                print(\"{}: Such a pity...\".format(chromosome_id))\n",
    "            else:\n",
    "                candidate_linkages_dataframe = candidate_linkages_dataframe.query(\"LOD >= {}\".format(significance_threshold))\n",
    "                qtl_list.extend(candidate_linkages_dataframe[[\"SNP\", \"gene\"]].values)\n",
    "                print(\"Chromosome: {}\\tratio: {:.2}\\t linkages: {}\".format(\n",
    "                    chromosome_id,\n",
    "                    significance_threshold,\n",
    "                    candidate_linkages_dataframe.shape[0])\n",
    "                )\n",
    "                gene2peak_LOD_markers = collections.defaultdict(list)\n",
    "                for i, row in candidate_linkages_dataframe.iterrows():\n",
    "                    gene2peak_LOD_markers[row[\"gene\"]].append(row[\"SNP\"])\n",
    "                    used_markers_mask[gene2rownum[row[\"gene\"]]][row[\"position\"]] = True \n",
    "                       \n",
    "                residual_expression_dataframe = compute_residual_expression(\n",
    "                    residual_expression_dataframe, chromosome_dataframe, gene2peak_LOD_markers\n",
    "                )\n",
    "                \n",
    "                residual_expression_dataframe = residual_expression_dataframe[\n",
    "                    residual_expression_dataframe[\"gene\"].isin(\n",
    "                       [gene_name for gene_name, large_effect_markers in gene2peak_LOD_markers.items() \n",
    "                        if len(large_effect_markers) != 0]\n",
    "                    ) \n",
    "                ]\n",
    "                remaining_genes_mask.fill(False)\n",
    "                remaining_genes_mask[residual_expression_dataframe.index] = True\n",
    "                \n",
    "            iter_count += 1\n",
    "    unique_qtls_list = list(set(map(tuple, qtl_list)))\n",
    "    return np.asarray(unique_qtls_list, dtype=np.str)\n",
    "\n",
    "expression_dataframe = expression_df[\"pQTLs\"]#.drop([\"BY\", \"RM\"], axis=1)\n",
    "# expression_dataframe = expression_df[\"eQTLs_new\"]\n",
    "# gene_occurences = collections.Counter(expression_dataframe[\"gene\"].values)\n",
    "# expression_dataframe = expression_dataframe[[\n",
    "#     gene_occurences[gene] == 1 for gene in expression_dataframe[\"gene\"]\n",
    "# ]]\n",
    "# genotypes_dataframe = pd.read_table(\"./data/eQTLs/genotypes_2018_filtered.csv\")\n",
    "genotypes_dataframe = genotypes_df[\"pQTLs\"]#.drop([\"BY\", \"RM\"], axis=1)\n",
    "qtl_list = map_qtls(expression_dataframe, genotypes_dataframe) "
   ]
  },
  {
   "cell_type": "code",
   "execution_count": 151,
   "metadata": {},
   "outputs": [
    {
     "data": {
      "image/png": "[encoded data removed]",
      "text/plain": [
       "<Figure size 1440x720 with 1 Axes>"
      ]
     },
     "metadata": {},
     "output_type": "display_data"
    }
   ],
   "source": [
    "sns.set(style=\"whitegrid\", font_scale=2)\n",
    "plt.figure(figsize=(20, 10))\n",
    "plt.title(\"Expression values from the old dataset that changed after linear model fitting\")\n",
    "# discrepancy_mask = nan_to_zero_then_scale(residual_expression_dataframe.values[:, 1:].astype(np.float32)) != expression_matrix\n",
    "# print(\"Expression matrices differ in {} entries\".format(np.sum(discrepancy_mask)))\n",
    "plt.xlim((-3, 3))\n",
    "sns.distplot(np.ravel(nan_to_zero_then_scale(expression_dataframe.values[:, 1:].astype(np.float32))), label=\"original\")\n",
    "sns.distplot(np.ravel(nan_to_zero_then_scale(residual_expression_dataframe.values[:, 1:].astype(np.float32))), label=\"residual\")\n",
    "plt.legend()\n",
    "plt.show()\n",
    "plt.close()"
   ]
  },
  {
   "cell_type": "code",
   "execution_count": 17,
   "metadata": {},
   "outputs": [
    {
     "name": "stdout",
     "output_type": "stream",
     "text": [
      "(375, 3)\n"
     ]
    },
    {
     "data": {
      "image/png": "[encoded data removed]",
      "text/plain": [
       "<Figure size 1440x720 with 1 Axes>"
      ]
     },
     "metadata": {},
     "output_type": "display_data"
    }
   ],
   "source": [
    "print(qtl_list.query(\"LOD >= 3.7\").shape)\n",
    "sns.set(font_scale=2)\n",
    "plt.figure(figsize=(20, 10))\n",
    "sns.distplot(qtl_list.query(\"LOD >= 3.7\")[\"LOD\"])\n",
    "plt.show()\n",
    "plt.close()"
   ]
  },
  {
   "cell_type": "code",
   "execution_count": 33,
   "metadata": {},
   "outputs": [],
   "source": [
    "pd.DataFrame(np.vstack(qtl_list), columns=[\"SNP\", \"gene\"]).to_csv(\"./data/eQTLs/qtls_new_recomputed.csv\", sep='\\t', index=False)"
   ]
  },
  {
   "cell_type": "code",
   "execution_count": 13,
   "metadata": {},
   "outputs": [
    {
     "data": {
      "text/plain": [
       "masked_array(data=[2, 5, 9],\n             mask=[False, False, False],\n       fill_value=999999)"
      ]
     },
     "execution_count": 13,
     "metadata": {},
     "output_type": "execute_result"
    }
   ],
   "source": [
    "_mask = np.array([[0, 1, 0], [1, 1, 0], [0, 0, 1]], dtype=np.bool)\n",
    "_data = np.array([[1, 2, 3], [4, 5, 6], [7, 8, 9]])\n",
    "np.max(np.ma.array(_data, mask=np.logical_not(_mask)), axis=1)"
   ]
  },
  {
   "cell_type": "code",
   "execution_count": 34,
   "metadata": {},
   "outputs": [
    {
     "data": {
      "text/plain": [
       "(1073, 2)"
      ]
     },
     "execution_count": 34,
     "metadata": {},
     "output_type": "execute_result"
    }
   ],
   "source": [
    "qtl_list.shape"
   ]
  },
  {
   "cell_type": "code",
   "execution_count": null,
   "metadata": {},
   "outputs": [],
   "source": []
  }
 ],
 "metadata": {
  "kernelspec": {
   "display_name": "Python [conda env:idp]",
   "language": "python",
   "name": "conda-env-idp-py"
  },
  "language_info": {
   "codemirror_mode": {
    "name": "ipython",
    "version": 3
   },
   "file_extension": ".py",
   "mimetype": "text/x-python",
   "name": "python",
   "nbconvert_exporter": "python",
   "pygments_lexer": "ipython3",
   "version": "3.6.3"
  }
 },
 "nbformat": 4,
 "nbformat_minor": 2
}
