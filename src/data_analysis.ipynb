{
 "cells": [
  {
   "cell_type": "markdown",
   "metadata": {},
   "source": [
    "In this notebook the eQTLs and pQTLs indentified with statistical package MatrixEQTL are analysed with respect to the network of protein-protein interactions in yeast."
   ]
  },
  {
   "cell_type": "code",
   "execution_count": 1,
   "metadata": {
    "collapsed": false
   },
   "outputs": [
    {
     "name": "stderr",
     "output_type": "stream",
     "text": [
      "/home/vvi/anaconda3/lib/python3.5/importlib/_bootstrap.py:222: RuntimeWarning: numpy.dtype size changed, may indicate binary incompatibility. Expected 96, got 88\n  return f(*args, **kwds)\n/home/vvi/anaconda3/lib/python3.5/importlib/_bootstrap.py:222: RuntimeWarning: numpy.dtype size changed, may indicate binary incompatibility. Expected 96, got 88\n  return f(*args, **kwds)\n"
     ]
    },
    {
     "name": "stderr",
     "output_type": "stream",
     "text": [
      "/home/vvi/anaconda3/lib/python3.5/importlib/_bootstrap.py:222: RuntimeWarning: numpy.dtype size changed, may indicate binary incompatibility. Expected 96, got 88\n  return f(*args, **kwds)\n/home/vvi/anaconda3/lib/python3.5/importlib/_bootstrap.py:222: RuntimeWarning: numpy.dtype size changed, may indicate binary incompatibility. Expected 96, got 88\n  return f(*args, **kwds)\n"
     ]
    },
    {
     "name": "stdout",
     "output_type": "stream",
     "text": [
      "Autosaving every 15 seconds\n"
     ]
    }
   ],
   "source": [
    "%matplotlib inline\n",
    "\n",
    "# utilities\n",
    "import gc\n",
    "import time\n",
    "import os\n",
    "\n",
    "import collections\n",
    "import itertools\n",
    "from importlib import reload\n",
    "import pickle\n",
    "\n",
    "# data analysis tools\n",
    "import joblib\n",
    "import random\n",
    "import numpy as np\n",
    "import pandas as pd\n",
    "from scipy import stats\n",
    "import seaborn as sns\n",
    "from statsmodels.sandbox.stats.multicomp import multipletests\n",
    "from tqdm import *\n",
    "\n",
    "tqdm.monitor_interval = 0\n",
    "\n",
    "# network analysis tools\n",
    "import igraph as ig\n",
    "\n",
    "# multiprocessing tools\n",
    "import subprocess\n",
    "import multiprocessing as mp\n",
    "\n",
    "os.chdir(\"{}/Science/eQTL_analysis/\".format(os.environ[\"HOME\"]))\n",
    "\n",
    "# visualization tools\n",
    "import matplotlib.pyplot as plt\n",
    "from mpl_toolkits.mplot3d import Axes3D\n",
    "\n",
    "import networks\n",
    "import qtls\n",
    "import util\n",
    "import ontologies\n",
    "\n",
    "gc.enable()\n",
    "\n",
    "%autosave 15"
   ]
  },
  {
   "cell_type": "markdown",
   "metadata": {},
   "source": [
    "## Datasets used\n",
    "\n",
    "Take a look at readme.md in /data folder for data description. (currently unavailable)"
   ]
  },
  {
   "cell_type": "code",
   "execution_count": 2,
   "metadata": {},
   "outputs": [],
   "source": [
    "random.seed(int(time.time()))\n",
    "\n",
    "# 112 segregants genotyped by inherited marker variants\n",
    "\n",
    "''' Where possible, gene names were converted from systematic to standard notation '''\n",
    "\n",
    "expression_df, genotypes_df, qtls_df = {}, {}, {}\n",
    "\n",
    "expression_df[\"eQTLs_old\"] = pd.read_table(\"./data/eQTLs/expression_2011.csv\")\n",
    "expression_df[\"eQTLs_interpolated\"] = pd.read_table(\"./data/eQTLs/expression_2011.csv\")\n",
    "expression_df[\"eQTLs_new\"] = pd.read_table(\"./data/eQTLs/expression_2018.csv\")\n",
    "expression_df[\"pQTLs\"] = pd.read_table(\"./data/pQTLs/expression_2011.csv\")\n",
    "\n",
    "genotypes_df[\"eQTLs_old\"] = pd.read_table(\"./data/eQTLs/genotypes_2011.csv\")\n",
    "genotypes_df[\"eQTLs_new\"] = pd.read_table(\"./data/eQTLs/genotypes_2018.csv\")\n",
    "genotypes_df[\"eQTLs_interpolated\"] = pd.read_table(\"./data/eQTLs/genotypes_interpolated.csv\")\n",
    "genotypes_df[\"pQTLs\"] = pd.read_table(\"./data/pQTLs/genotypes_2011.csv\")\n",
    "\n",
    "# QTLs estimated with MatrixEQTL package for R\n",
    "qtls_df[\"eQTLs_old\"] = pd.read_table(\"./data/eQTLs/qtls_2011.csv\").query(\"q_value <= 0.05\")\n",
    "qtls_df[\"eQTLs_new\"] = pd.read_table(\"./data/eQTLs/qtls_2018.csv\")#.query(\"q_value <= 0.05\")\n",
    "# qtls_df[\"eQTLs_new_recomputed\"] = pd.read_table(\"./data/eQTLs/qtls_2018_recomputed.csv\").query(\"q_value <= 0.001\")\n",
    "qtls_df[\"eQTLs_interpolated\"] = pd.read_table(\"./data/eQTLs/qtls_interpolated.csv\")\n",
    "qtls_df[\"pQTLs\"] = pd.read_table(\"./data/pQTLs/qtls_2011.csv\").query(\"q_value <= 0.05\")\n",
    "\n",
    "# Physical and genetic interactions taken from TheBioGrid project\n",
    "full_interactome_df = pd.read_table(\"./data/interactions/yeast_interactome.csv\")\n",
    "# full_interactome_df = full_interactome_df[full_interactome_df['Publication year'] <= 2011]\n",
    "\n",
    "genetic_interaction_categories = [\n",
    "    \"additive genetic interaction defined by inequality\",\n",
    "    \"suppressive genetic interaction defined by inequality\",\n",
    "    \"synthetic genetic interaction defined by inequality\"\n",
    "]\n",
    "physical_interaction_categories = [\n",
    "    \"association\",\n",
    "    \"colocalization\",   \n",
    "    \"direct interaction\",\n",
    "    \"physical association\"\n",
    "]\n",
    "\n",
    "interaction_categories = genetic_interaction_categories + physical_interaction_categories\n",
    "interactome_df = full_interactome_df.copy()\n",
    "interactome_df.set_index('Interaction Type', inplace=True)\n",
    "genetic_interactions_df = interactome_df[\n",
    "    interactome_df.index.isin(genetic_interaction_categories)\n",
    "]\n",
    "physical_interactions_df = interactome_df[\n",
    "    interactome_df.index.isin(physical_interaction_categories)\n",
    "]\n",
    "\n",
    "def extract_interactions(interactions_df):\n",
    "    ''' Helper function to retrieve the edges of the graph of interactions '''\n",
    "    return interactions_df[[\"Interactor A\", \"Interactor B\"]].values\n",
    "\n",
    "interactome_graphs_dict = {}\n",
    "for category_name in interaction_categories + [\"all\", \"genetic\", \"physical\"]:\n",
    "    with open(\"./data/interactions/{}_interactions_graph.pkl\".format(category_name), \"rb\") as pickle_file:\n",
    "        interactome_graphs_dict[category_name] = pickle.load(pickle_file)\n",
    "interactome_graph = interactome_graphs_dict[\"physical\"]"
   ]
  },
  {
   "cell_type": "markdown",
   "metadata": {},
   "source": [
    "## Introduction and problem formulation"
   ]
  },
  {
   "cell_type": "markdown",
   "metadata": {},
   "source": [
    "It seems rational to suppose that transcription and translation levels must be controlled by similar genetic mechanisms.  \n",
    "Unfortunately, at the first sight there is no evidence to support that intuition: sets of eQTLs and pQTLs linked to given gene show no significant overlap for almost all genes. This is illustrated by the histogram below."
   ]
  },
  {
   "cell_type": "code",
   "execution_count": 83,
   "metadata": {
    "collapsed": false
   },
   "outputs": [
    {
     "data": {
      "image/png": "[encoded data removed]",
      "text/plain": [
       "<Figure size 2160x720 with 2 Axes>"
      ]
     },
     "metadata": {},
     "output_type": "display_data"
    },
    {
     "name": "stdout",
     "output_type": "stream",
     "text": [
      "CPU times: user 4.86 s, sys: 24 ms, total: 4.88 s\nWall time: 4.94 s\n"
     ]
    }
   ],
   "source": [
    "%%time\n",
    "\n",
    "reload(qtls)\n",
    "gene_pool = np.intersect1d(expression_df[\"eQTLs_old\"][\"gene\"], expression_df[\"pQTLs\"][\"gene\"])\n",
    "\n",
    "linkage_overlap_data = []\n",
    "for gene_name in gene_pool:\n",
    "    linked_eQTLs = qtls.linked_markers(qtls_df[\"eQTLs_old\"], [gene_name])\n",
    "    linked_pQTLs = qtls.linked_markers(qtls_df[\"pQTLs\"], [gene_name])\n",
    "    linkage_overlap_data.append(qtls.jaccard(set(linked_eQTLs), set(linked_pQTLs)))\n",
    "\n",
    "qtls.qtl_overlap_hist(linkage_overlap_data, \"eQTLs_pQTLs_old\")\n"
   ]
  },
  {
   "cell_type": "code",
   "execution_count": 10,
   "metadata": {},
   "outputs": [
    {
     "data": {
      "text/html": [
       "<div>\n",
       "<style scoped>\n",
       "    .dataframe tbody tr th:only-of-type {\n",
       "        vertical-align: middle;\n",
       "    }\n",
       "\n",
       "    .dataframe tbody tr th {\n",
       "        vertical-align: top;\n",
       "    }\n",
       "\n",
       "    .dataframe thead th {\n",
       "        text-align: right;\n",
       "    }\n",
       "</style>\n",
       "<table border=\"1\" class=\"dataframe\">\n",
       "  <thead>\n",
       "    <tr style=\"text-align: right;\">\n",
       "      <th></th>\n",
       "      <th>q_cutoff</th>\n",
       "      <th>real_mean</th>\n",
       "      <th>random_mean</th>\n",
       "      <th>random_median</th>\n",
       "    </tr>\n",
       "  </thead>\n",
       "  <tbody>\n",
       "    <tr>\n",
       "      <th>0</th>\n",
       "      <td>0.00001</td>\n",
       "      <td>0.037566</td>\n",
       "      <td>0.032253</td>\n",
       "      <td>0.031037</td>\n",
       "    </tr>\n",
       "    <tr>\n",
       "      <th>1</th>\n",
       "      <td>0.00010</td>\n",
       "      <td>0.030541</td>\n",
       "      <td>0.028900</td>\n",
       "      <td>0.027287</td>\n",
       "    </tr>\n",
       "    <tr>\n",
       "      <th>2</th>\n",
       "      <td>0.00100</td>\n",
       "      <td>0.038020</td>\n",
       "      <td>0.029751</td>\n",
       "      <td>0.028188</td>\n",
       "    </tr>\n",
       "    <tr>\n",
       "      <th>3</th>\n",
       "      <td>0.01000</td>\n",
       "      <td>0.027084</td>\n",
       "      <td>0.023223</td>\n",
       "      <td>0.022694</td>\n",
       "    </tr>\n",
       "  </tbody>\n",
       "</table>\n",
       "</div>"
      ],
      "text/plain": [
       "<div>\n",
       "<style scoped>\n",
       "    .dataframe tbody tr th:only-of-type {\n",
       "        vertical-align: middle;\n",
       "    }\n",
       "\n",
       "    .dataframe tbody tr th {\n",
       "        vertical-align: top;\n",
       "    }\n",
       "\n",
       "    .dataframe thead th {\n",
       "        text-align: right;\n",
       "    }\n",
       "</style>\n",
       "<table border=\"1\" class=\"dataframe\">\n",
       "  <thead>\n",
       "    <tr style=\"text-align: right;\">\n",
       "      <th></th>\n",
       "      <th>q_cutoff</th>\n",
       "      <th>real_mean</th>\n",
       "      <th>random_mean</th>\n",
       "      <th>random_median</th>\n",
       "    </tr>\n",
       "  </thead>\n",
       "  <tbody>\n",
       "    <tr>\n",
       "      <th>0</th>\n",
       "      <td>0.00001</td>\n",
       "      <td>0.037566</td>\n",
       "      <td>0.032253</td>\n",
       "      <td>0.031037</td>\n",
       "    </tr>\n",
       "    <tr>\n",
       "      <th>1</th>\n",
       "      <td>0.00010</td>\n",
       "      <td>0.030541</td>\n",
       "      <td>0.028900</td>\n",
       "      <td>0.027287</td>\n",
       "    </tr>\n",
       "    <tr>\n",
       "      <th>2</th>\n",
       "      <td>0.00100</td>\n",
       "      <td>0.038020</td>\n",
       "      <td>0.029751</td>\n",
       "      <td>0.028188</td>\n",
       "    </tr>\n",
       "    <tr>\n",
       "      <th>3</th>\n",
       "      <td>0.01000</td>\n",
       "      <td>0.027084</td>\n",
       "      <td>0.023223</td>\n",
       "      <td>0.022694</td>\n",
       "    </tr>\n",
       "  </tbody>\n",
       "</table>\n",
       "</div>"
      ]
     },
     "execution_count": 0,
     "metadata": {},
     "output_type": "execute_result"
    },
    {
     "name": "stdout",
     "output_type": "stream",
     "text": [
      "CPU times: user 26min 13s, sys: 1.25 s, total: 26min 14s\nWall time: 26min 21s\n"
     ]
    }
   ],
   "source": [
    "%%time\n",
    "\n",
    "\"\"\" Using simple PPIN-based test to assess whether interacting genes really have better eQTL/pQTL intersection \"\"\"\n",
    "\n",
    "def eQTL_pQTL_similarity_ppin_test(qtl_type2graph, interactome_graph):\n",
    "    scores = []\n",
    "    for marker in np.intersect1d(qtl_type2graph[\"eQTLs\"].vs.select(part=0)[\"name\"], \n",
    "                                 qtl_type2graph[\"pQTLs\"].vs.select(part=0)[\"name\"]):\n",
    "        linked = {}\n",
    "        for qtl_type in [\"eQTLs\", \"pQTLs\"]:\n",
    "            linked[qtl_type] = set(qtl_type2graph[qtl_type].vs[qtl_type2graph[qtl_type].neighborhood(marker, mode=\"out\")][\"name\"])\n",
    "            linked[qtl_type].remove(marker)\n",
    "        matches = len(linked[\"eQTLs\"] & linked[\"pQTLs\"])\n",
    "        tests_count = len(linked[\"eQTLs\"]) * len(linked[\"pQTLs\"])\n",
    "        for qtl_type in [\"eQTLs\", \"pQTLs\"]:\n",
    "            linked[qtl_type] &= set(interactome_graph.vs[\"name\"])\n",
    "        for eQTL_gene in linked[\"eQTLs\"]:\n",
    "            for pQTL_gene in linked[\"pQTLs\"]:\n",
    "                if eQTL_gene != pQTL_gene \\\n",
    "                        and interactome_graph.are_connected(eQTL_gene, pQTL_gene): \n",
    "                    matches += 1\n",
    "        scores.append(matches / tests_count)\n",
    "    return np.mean(scores)\n",
    "\n",
    "tuples_for_df = []\n",
    "for q_cutoff in 10. ** np.arange(-5, -1):\n",
    "    qtl_graph = {\"eQTLs\" : networks.graph_from_edges(qtls_df[\"eQTLs_old\"].query(\"q_value <= {}\".format(q_cutoff))[[\"SNP\", \"gene\"]].values, directed=True),\n",
    "                 \"pQTLs\" : networks.graph_from_edges(qtls_df[\"pQTLs\"].query(\"q_value <= {}\".format(q_cutoff))[[\"SNP\", \"gene\"]].values, directed=True)}\n",
    "    \n",
    "    real_test_results = eQTL_pQTL_similarity_ppin_test(qtl_graph, interactome_graph)\n",
    "    randomized_test_results = []\n",
    "    for i in range(1024):\n",
    "        with open(\"./data/randomized_interactome_copies/physical/{}.pkl\".format(i), \"rb\") as pickle_file:\n",
    "            randomized_interactome_graph = pickle.load(pickle_file)\n",
    "            randomized_test_results.append(\n",
    "                eQTL_pQTL_similarity_ppin_test(qtl_graph, randomized_interactome_graph)\n",
    "            )\n",
    "    tuples_for_df.append((q_cutoff, real_test_results, np.mean(randomized_test_results), np.median(randomized_test_results)))\n",
    "    \n",
    "results_df = pd.DataFrame(tuples_for_df, columns=[\"q_cutoff\", \"real_mean\", \"random_mean\", \"random_median\"])\n",
    "results_df.to_csv(\"./data/interactions/eQTL_pQTL_intersection.csv\", sep='\\t', index=False)\n",
    "display(results_df)\n",
    "\n",
    "        "
   ]
  },
  {
   "cell_type": "code",
   "execution_count": 68,
   "metadata": {},
   "outputs": [
    {
     "name": "stdout",
     "output_type": "stream",
     "text": [
      "q-value threshold: 1e-05\n"
     ]
    },
    {
     "name": "stdout",
     "output_type": "stream",
     "text": [
      "thecellmap\tJ: 0.2638\trJ: 0.2044\n"
     ]
    },
    {
     "name": "stdout",
     "output_type": "stream",
     "text": [
      "kegg_modules\tJ: 0.3941\trJ: 0.21\n"
     ]
    },
    {
     "name": "stdout",
     "output_type": "stream",
     "text": [
      "kegg_pathways\tJ: 0.3736\trJ: 0.1924\n"
     ]
    },
    {
     "name": "stdout",
     "output_type": "stream",
     "text": [
      "geneontology\tJ: 0.1954\trJ: 0.1916\n\n\nq-value threshold: 0.0001\n"
     ]
    },
    {
     "name": "stdout",
     "output_type": "stream",
     "text": [
      "thecellmap\tJ: 0.2617\trJ: 0.2339\n"
     ]
    },
    {
     "name": "stdout",
     "output_type": "stream",
     "text": [
      "kegg_modules\tJ: 0.3454\trJ: 0.2385\n"
     ]
    },
    {
     "name": "stdout",
     "output_type": "stream",
     "text": [
      "kegg_pathways\tJ: 0.3814\trJ: 0.2298\n"
     ]
    },
    {
     "name": "stdout",
     "output_type": "stream",
     "text": [
      "geneontology\tJ: 0.237\trJ: 0.2301\n\n\nq-value threshold: 0.001\n"
     ]
    },
    {
     "name": "stdout",
     "output_type": "stream",
     "text": [
      "thecellmap\tJ: 0.3116\trJ: 0.2699\n"
     ]
    },
    {
     "name": "stdout",
     "output_type": "stream",
     "text": [
      "kegg_modules\tJ: 0.2909\trJ: 0.2763\n"
     ]
    },
    {
     "name": "stdout",
     "output_type": "stream",
     "text": [
      "kegg_pathways\tJ: 0.3397\trJ: 0.2639\n"
     ]
    },
    {
     "name": "stdout",
     "output_type": "stream",
     "text": [
      "geneontology\tJ: 0.2655\trJ: 0.2634\n\n\nq-value threshold: 0.01\n"
     ]
    },
    {
     "name": "stdout",
     "output_type": "stream",
     "text": [
      "thecellmap\tJ: 0.3154\trJ: 0.324\n"
     ]
    },
    {
     "name": "stdout",
     "output_type": "stream",
     "text": [
      "kegg_modules\tJ: 0.2753\trJ: 0.3243\n"
     ]
    },
    {
     "name": "stdout",
     "output_type": "stream",
     "text": [
      "kegg_pathways\tJ: 0.3996\trJ: 0.3426\n"
     ]
    },
    {
     "name": "stdout",
     "output_type": "stream",
     "text": [
      "geneontology\tJ: 0.3491\trJ: 0.3466\n\n\nCPU times: user 5min 53s, sys: 3min 8s, total: 9min 2s\nWall time: 9min 2s\n"
     ]
    }
   ],
   "source": [
    "%%time\n",
    "\n",
    "gene_pool = np.intersect1d(expression_df[\"eQTLs_old\"][\"gene\"].values, expression_df[\"pQTLs\"][\"gene\"].values)\n",
    "for q_cutoff in 10. ** np.arange(-5, -1):\n",
    "    print(\"q-value threshold: {}\".format(q_cutoff))\n",
    "    for modules_type in [\"thecellmap\", \"kegg_modules\", \"kegg_pathways\", \"geneontology\"]:\n",
    "        qtl_graph = {\"eQTLs\" : networks.graph_from_edges(qtls_df[\"eQTLs_old\"].query(\"q_value <= {}\".format(q_cutoff))[[\"SNP\", \"gene\"]].values, directed=True),\n",
    "                     \"pQTLs\" : networks.graph_from_edges(qtls_df[\"pQTLs\"].query(\"q_value <= {}\".format(q_cutoff))[[\"SNP\", \"gene\"]].values, directed=True)}\n",
    "        with open(\"./results/{}/modules_dict.pkl\".format(modules_type), \"rb\") as pickle_file:\n",
    "            modules_dict = pickle.load(pickle_file)\n",
    "        module_genes_union = np.intersect1d(np.unique(np.hstack(modules_dict.values())), gene_pool)\n",
    "        module_qtls = {}\n",
    "        for qtl_type in [\"eQTLs\", \"pQTLs\"]:\n",
    "            genes_with_linkages = np.intersect1d(module_genes_union, qtl_graph[qtl_type].vs.select(part=1)[\"name\"])\n",
    "            induced_subgraph = qtl_graph[qtl_type].subgraph(np.unique(np.hstack(qtl_graph[qtl_type].neighborhood(genes_with_linkages))))\n",
    "            module_qtls[qtl_type] = [(marker, modules_type) for marker in induced_subgraph.vs.select(part=0)[\"name\"]]\n",
    "            \n",
    "        randomized_J_scores = []\n",
    "        for i in range(1024):\n",
    "            randomized_modules = [np.random.RandomState().choice(gene_pool, len(module_genes)) for module_genes in modules_dict.values()]\n",
    "            randomized_module_genes_union = np.unique(np.hstack(randomized_modules))\n",
    "            randomized_module_qtls = {}\n",
    "            for qtl_type in [\"eQTLs\", \"pQTLs\"]:\n",
    "                genes_with_linkages = np.intersect1d(randomized_module_genes_union, qtl_graph[qtl_type].vs.select(part=1)[\"name\"])\n",
    "                induced_subgraph = qtl_graph[qtl_type].subgraph(np.unique(np.hstack(qtl_graph[qtl_type].neighborhood(genes_with_linkages))))\n",
    "                randomized_module_qtls[qtl_type] = [(marker, modules_type) for marker in induced_subgraph.vs.select(part=0)[\"name\"]]\n",
    "            randomized_J_scores.append(qtls.jaccard(set(randomized_module_qtls[\"eQTLs\"]), set(randomized_module_qtls[\"pQTLs\"])))\n",
    "        print(\"{}\\tJ: {:.4}\\trJ: {:.4}\".format(\n",
    "            modules_type, \n",
    "            qtls.jaccard(set(module_qtls[\"eQTLs\"]), set(module_qtls[\"pQTLs\"])),\n",
    "            np.mean(randomized_J_scores)\n",
    "        ))\n",
    "    print(\"\\n\")"
   ]
  },
  {
   "cell_type": "markdown",
   "metadata": {},
   "source": [
    "Hypothesis arises: maybe not single genes, but functional modules tend to share linkages.  \n",
    "The goal of this work is to test that hypothesis using yeast interactome data."
   ]
  },
  {
   "cell_type": "markdown",
   "metadata": {},
   "source": [
    "## Module processing"
   ]
  },
  {
   "cell_type": "markdown",
   "metadata": {},
   "source": [
    "## Predicting pQTLs from eQTLs using PPI networks"
   ]
  },
  {
   "cell_type": "markdown",
   "metadata": {},
   "source": [
    "Now, when approach using interaction networks is justified, it's time to provide solid ground: if significant fraction of pQTLs can be rediscovered from eQTLs linked to genes interacting with given (including itself), it will serve as an additional evidence for hypothesis being actually true (once again, no sophisticated clustering was performed here, while it would possibly yield better results).  \n",
    "\n",
    "The main idea is not to test all (marker, gene) pairs but to filter for trusted only. In order to get rid of the pairs that will not link (or at least to dump more false than real linkages), the following approach is proposed: \n",
    "1. For each gene with measured protein abundance select its eQTL linkages as candidates into pQTLs. \n",
    "2. Extend eQTL linkages with those of the interacting genes. \n",
    "\n",
    "FDR decreases for the same q-value threshold, which results in more trustworthy observations."
   ]
  },
  {
   "cell_type": "markdown",
   "metadata": {},
   "source": [
    "Here is some statistics computed from some subgraphs of the interactome. \n",
    "\n",
    "**Physical interactions only**:   \n",
    "- Common linkages: 2021, 32.7977929243752%\n",
    "- Old linkages, total: 6162\n",
    "- New linkages, total: 4048\n",
    "- New linkages found: 2027\n",
    "\n",
    "**Full interactome**:\n",
    "- Common linkages: 3688, 59.85069782538137%\n",
    "- Old linkages, total: 6162\n",
    "- New linkages, total: 6219\n",
    "- New linkages found: 2531\n",
    "\n",
    "It becomes evident, that a significant fraction of estimated pQTLs can be reproduced using this approach.  \n",
    "**Nevertheless, many questions arise**:\n",
    "- Which fraction of trans-pQTLs is reproduced? (and is this approach capable of detecting those)\n",
    "- Are all the hotspots reproduced? If some are not, why then? It is worth mentioning, that some of those were given cryptic names which are nowhere to be found. \n",
    "- How robust the results are? So far results are not compared with those computed from simulated, perturbed graphs. "
   ]
  },
  {
   "cell_type": "code",
   "execution_count": 12,
   "metadata": {},
   "outputs": [],
   "source": [
    "modules_type = \"thecellmap\"\n",
    "with open(\"./results/{}/modules_dict.pkl\".format(modules_type), \"rb\") as pickle_file:\n",
    "    modules_dict = pickle.load(pickle_file)\n",
    "fdr_cutoffs = np.logspace(-5, -2, 10)"
   ]
  },
  {
   "cell_type": "code",
   "execution_count": 13,
   "metadata": {
    "collapsed": true
   },
   "outputs": [
    {
     "data": {
      "text/html": [
       "<div>\n",
       "<style scoped>\n",
       "    .dataframe tbody tr th:only-of-type {\n",
       "        vertical-align: middle;\n",
       "    }\n",
       "\n",
       "    .dataframe tbody tr th {\n",
       "        vertical-align: top;\n",
       "    }\n",
       "\n",
       "    .dataframe thead th {\n",
       "        text-align: right;\n",
       "    }\n",
       "</style>\n",
       "<table border=\"1\" class=\"dataframe\">\n",
       "  <thead>\n",
       "    <tr style=\"text-align: right;\">\n",
       "      <th></th>\n",
       "      <th>module_name</th>\n",
       "      <th>genes_count</th>\n",
       "      <th>genes_with_interactions</th>\n",
       "      <th>interactions_count</th>\n",
       "    </tr>\n",
       "  </thead>\n",
       "  <tbody>\n",
       "    <tr>\n",
       "      <th>6</th>\n",
       "      <td>Mitosis &amp; chromosome segregation</td>\n",
       "      <td>199</td>\n",
       "      <td>149</td>\n",
       "      <td>2478</td>\n",
       "    </tr>\n",
       "    <tr>\n",
       "      <th>12</th>\n",
       "      <td>Glycosylation, protein folding|targeting, cell...</td>\n",
       "      <td>160</td>\n",
       "      <td>140</td>\n",
       "      <td>549</td>\n",
       "    </tr>\n",
       "    <tr>\n",
       "      <th>5</th>\n",
       "      <td>Respiration, oxidative phosphorylation, mitoch...</td>\n",
       "      <td>138</td>\n",
       "      <td>135</td>\n",
       "      <td>318</td>\n",
       "    </tr>\n",
       "    <tr>\n",
       "      <th>15</th>\n",
       "      <td>Transcription &amp; chromatin organization</td>\n",
       "      <td>110</td>\n",
       "      <td>85</td>\n",
       "      <td>1575</td>\n",
       "    </tr>\n",
       "    <tr>\n",
       "      <th>3</th>\n",
       "      <td>Cell polarity &amp; morphogenesis</td>\n",
       "      <td>102</td>\n",
       "      <td>64</td>\n",
       "      <td>966</td>\n",
       "    </tr>\n",
       "    <tr>\n",
       "      <th>14</th>\n",
       "      <td>mRNA &amp; tRNA processing</td>\n",
       "      <td>96</td>\n",
       "      <td>84</td>\n",
       "      <td>1126</td>\n",
       "    </tr>\n",
       "    <tr>\n",
       "      <th>4</th>\n",
       "      <td>Vesicle traffic</td>\n",
       "      <td>95</td>\n",
       "      <td>84</td>\n",
       "      <td>770</td>\n",
       "    </tr>\n",
       "    <tr>\n",
       "      <th>7</th>\n",
       "      <td>DNA replication &amp; repair</td>\n",
       "      <td>95</td>\n",
       "      <td>75</td>\n",
       "      <td>926</td>\n",
       "    </tr>\n",
       "    <tr>\n",
       "      <th>0</th>\n",
       "      <td>rDNA &amp; ncDNA processing</td>\n",
       "      <td>90</td>\n",
       "      <td>76</td>\n",
       "      <td>1055</td>\n",
       "    </tr>\n",
       "    <tr>\n",
       "      <th>13</th>\n",
       "      <td>Ribosome biogenesis</td>\n",
       "      <td>74</td>\n",
       "      <td>70</td>\n",
       "      <td>65</td>\n",
       "    </tr>\n",
       "    <tr>\n",
       "      <th>9</th>\n",
       "      <td>Protein degradation|turnover</td>\n",
       "      <td>59</td>\n",
       "      <td>44</td>\n",
       "      <td>1310</td>\n",
       "    </tr>\n",
       "    <tr>\n",
       "      <th>1</th>\n",
       "      <td>Nuclear-cytoplasmic transport</td>\n",
       "      <td>39</td>\n",
       "      <td>35</td>\n",
       "      <td>361</td>\n",
       "    </tr>\n",
       "    <tr>\n",
       "      <th>8</th>\n",
       "      <td>Peroxisome</td>\n",
       "      <td>24</td>\n",
       "      <td>22</td>\n",
       "      <td>295</td>\n",
       "    </tr>\n",
       "    <tr>\n",
       "      <th>10</th>\n",
       "      <td>MVB sorting and pH depending signaling</td>\n",
       "      <td>21</td>\n",
       "      <td>21</td>\n",
       "      <td>155</td>\n",
       "    </tr>\n",
       "    <tr>\n",
       "      <th>2</th>\n",
       "      <td>tRNA wobble modification</td>\n",
       "      <td>16</td>\n",
       "      <td>14</td>\n",
       "      <td>249</td>\n",
       "    </tr>\n",
       "    <tr>\n",
       "      <th>11</th>\n",
       "      <td>Cytokinesis</td>\n",
       "      <td>13</td>\n",
       "      <td>4</td>\n",
       "      <td>135</td>\n",
       "    </tr>\n",
       "    <tr>\n",
       "      <th>16</th>\n",
       "      <td>Metabolism</td>\n",
       "      <td>11</td>\n",
       "      <td>11</td>\n",
       "      <td>1</td>\n",
       "    </tr>\n",
       "  </tbody>\n",
       "</table>\n",
       "</div>"
      ],
      "text/plain": [
       "<div>\n",
       "<style scoped>\n",
       "    .dataframe tbody tr th:only-of-type {\n",
       "        vertical-align: middle;\n",
       "    }\n",
       "\n",
       "    .dataframe tbody tr th {\n",
       "        vertical-align: top;\n",
       "    }\n",
       "\n",
       "    .dataframe thead th {\n",
       "        text-align: right;\n",
       "    }\n",
       "</style>\n",
       "<table border=\"1\" class=\"dataframe\">\n",
       "  <thead>\n",
       "    <tr style=\"text-align: right;\">\n",
       "      <th></th>\n",
       "      <th>module_name</th>\n",
       "      <th>genes_count</th>\n",
       "      <th>genes_with_interactions</th>\n",
       "      <th>interactions_count</th>\n",
       "    </tr>\n",
       "  </thead>\n",
       "  <tbody>\n",
       "    <tr>\n",
       "      <th>6</th>\n",
       "      <td>Mitosis &amp; chromosome segregation</td>\n",
       "      <td>199</td>\n",
       "      <td>149</td>\n",
       "      <td>2478</td>\n",
       "    </tr>\n",
       "    <tr>\n",
       "      <th>12</th>\n",
       "      <td>Glycosylation, protein folding|targeting, cell...</td>\n",
       "      <td>160</td>\n",
       "      <td>140</td>\n",
       "      <td>549</td>\n",
       "    </tr>\n",
       "    <tr>\n",
       "      <th>5</th>\n",
       "      <td>Respiration, oxidative phosphorylation, mitoch...</td>\n",
       "      <td>138</td>\n",
       "      <td>135</td>\n",
       "      <td>318</td>\n",
       "    </tr>\n",
       "    <tr>\n",
       "      <th>15</th>\n",
       "      <td>Transcription &amp; chromatin organization</td>\n",
       "      <td>110</td>\n",
       "      <td>85</td>\n",
       "      <td>1575</td>\n",
       "    </tr>\n",
       "    <tr>\n",
       "      <th>3</th>\n",
       "      <td>Cell polarity &amp; morphogenesis</td>\n",
       "      <td>102</td>\n",
       "      <td>64</td>\n",
       "      <td>966</td>\n",
       "    </tr>\n",
       "    <tr>\n",
       "      <th>14</th>\n",
       "      <td>mRNA &amp; tRNA processing</td>\n",
       "      <td>96</td>\n",
       "      <td>84</td>\n",
       "      <td>1126</td>\n",
       "    </tr>\n",
       "    <tr>\n",
       "      <th>4</th>\n",
       "      <td>Vesicle traffic</td>\n",
       "      <td>95</td>\n",
       "      <td>84</td>\n",
       "      <td>770</td>\n",
       "    </tr>\n",
       "    <tr>\n",
       "      <th>7</th>\n",
       "      <td>DNA replication &amp; repair</td>\n",
       "      <td>95</td>\n",
       "      <td>75</td>\n",
       "      <td>926</td>\n",
       "    </tr>\n",
       "    <tr>\n",
       "      <th>0</th>\n",
       "      <td>rDNA &amp; ncDNA processing</td>\n",
       "      <td>90</td>\n",
       "      <td>76</td>\n",
       "      <td>1055</td>\n",
       "    </tr>\n",
       "    <tr>\n",
       "      <th>13</th>\n",
       "      <td>Ribosome biogenesis</td>\n",
       "      <td>74</td>\n",
       "      <td>70</td>\n",
       "      <td>65</td>\n",
       "    </tr>\n",
       "    <tr>\n",
       "      <th>9</th>\n",
       "      <td>Protein degradation|turnover</td>\n",
       "      <td>59</td>\n",
       "      <td>44</td>\n",
       "      <td>1310</td>\n",
       "    </tr>\n",
       "    <tr>\n",
       "      <th>1</th>\n",
       "      <td>Nuclear-cytoplasmic transport</td>\n",
       "      <td>39</td>\n",
       "      <td>35</td>\n",
       "      <td>361</td>\n",
       "    </tr>\n",
       "    <tr>\n",
       "      <th>8</th>\n",
       "      <td>Peroxisome</td>\n",
       "      <td>24</td>\n",
       "      <td>22</td>\n",
       "      <td>295</td>\n",
       "    </tr>\n",
       "    <tr>\n",
       "      <th>10</th>\n",
       "      <td>MVB sorting and pH depending signaling</td>\n",
       "      <td>21</td>\n",
       "      <td>21</td>\n",
       "      <td>155</td>\n",
       "    </tr>\n",
       "    <tr>\n",
       "      <th>2</th>\n",
       "      <td>tRNA wobble modification</td>\n",
       "      <td>16</td>\n",
       "      <td>14</td>\n",
       "      <td>249</td>\n",
       "    </tr>\n",
       "    <tr>\n",
       "      <th>11</th>\n",
       "      <td>Cytokinesis</td>\n",
       "      <td>13</td>\n",
       "      <td>4</td>\n",
       "      <td>135</td>\n",
       "    </tr>\n",
       "    <tr>\n",
       "      <th>16</th>\n",
       "      <td>Metabolism</td>\n",
       "      <td>11</td>\n",
       "      <td>11</td>\n",
       "      <td>1</td>\n",
       "    </tr>\n",
       "  </tbody>\n",
       "</table>\n",
       "</div>"
      ]
     },
     "execution_count": 0,
     "metadata": {},
     "output_type": "execute_result"
    },
    {
     "data": {
      "text/html": [
       "<div>\n",
       "<style scoped>\n",
       "    .dataframe tbody tr th:only-of-type {\n",
       "        vertical-align: middle;\n",
       "    }\n",
       "\n",
       "    .dataframe tbody tr th {\n",
       "        vertical-align: top;\n",
       "    }\n",
       "\n",
       "    .dataframe thead th {\n",
       "        text-align: right;\n",
       "    }\n",
       "</style>\n",
       "<table border=\"1\" class=\"dataframe\">\n",
       "  <thead>\n",
       "    <tr style=\"text-align: right;\">\n",
       "      <th></th>\n",
       "      <th>module_name</th>\n",
       "      <th>genes_count</th>\n",
       "      <th>genes_with_interactions</th>\n",
       "      <th>interactions_count</th>\n",
       "    </tr>\n",
       "  </thead>\n",
       "  <tbody>\n",
       "    <tr>\n",
       "      <th>6</th>\n",
       "      <td>Mitosis &amp; chromosome segregation</td>\n",
       "      <td>199</td>\n",
       "      <td>145</td>\n",
       "      <td>667</td>\n",
       "    </tr>\n",
       "    <tr>\n",
       "      <th>12</th>\n",
       "      <td>Glycosylation, protein folding|targeting, cell...</td>\n",
       "      <td>160</td>\n",
       "      <td>96</td>\n",
       "      <td>185</td>\n",
       "    </tr>\n",
       "    <tr>\n",
       "      <th>5</th>\n",
       "      <td>Respiration, oxidative phosphorylation, mitoch...</td>\n",
       "      <td>138</td>\n",
       "      <td>88</td>\n",
       "      <td>165</td>\n",
       "    </tr>\n",
       "    <tr>\n",
       "      <th>15</th>\n",
       "      <td>Transcription &amp; chromatin organization</td>\n",
       "      <td>110</td>\n",
       "      <td>81</td>\n",
       "      <td>303</td>\n",
       "    </tr>\n",
       "    <tr>\n",
       "      <th>3</th>\n",
       "      <td>Cell polarity &amp; morphogenesis</td>\n",
       "      <td>102</td>\n",
       "      <td>60</td>\n",
       "      <td>225</td>\n",
       "    </tr>\n",
       "    <tr>\n",
       "      <th>14</th>\n",
       "      <td>mRNA &amp; tRNA processing</td>\n",
       "      <td>96</td>\n",
       "      <td>80</td>\n",
       "      <td>456</td>\n",
       "    </tr>\n",
       "    <tr>\n",
       "      <th>4</th>\n",
       "      <td>Vesicle traffic</td>\n",
       "      <td>95</td>\n",
       "      <td>73</td>\n",
       "      <td>169</td>\n",
       "    </tr>\n",
       "    <tr>\n",
       "      <th>7</th>\n",
       "      <td>DNA replication &amp; repair</td>\n",
       "      <td>95</td>\n",
       "      <td>71</td>\n",
       "      <td>183</td>\n",
       "    </tr>\n",
       "    <tr>\n",
       "      <th>0</th>\n",
       "      <td>rDNA &amp; ncDNA processing</td>\n",
       "      <td>90</td>\n",
       "      <td>68</td>\n",
       "      <td>424</td>\n",
       "    </tr>\n",
       "    <tr>\n",
       "      <th>13</th>\n",
       "      <td>Ribosome biogenesis</td>\n",
       "      <td>74</td>\n",
       "      <td>35</td>\n",
       "      <td>45</td>\n",
       "    </tr>\n",
       "    <tr>\n",
       "      <th>9</th>\n",
       "      <td>Protein degradation|turnover</td>\n",
       "      <td>59</td>\n",
       "      <td>40</td>\n",
       "      <td>253</td>\n",
       "    </tr>\n",
       "    <tr>\n",
       "      <th>1</th>\n",
       "      <td>Nuclear-cytoplasmic transport</td>\n",
       "      <td>39</td>\n",
       "      <td>32</td>\n",
       "      <td>137</td>\n",
       "    </tr>\n",
       "    <tr>\n",
       "      <th>8</th>\n",
       "      <td>Peroxisome</td>\n",
       "      <td>24</td>\n",
       "      <td>16</td>\n",
       "      <td>65</td>\n",
       "    </tr>\n",
       "    <tr>\n",
       "      <th>10</th>\n",
       "      <td>MVB sorting and pH depending signaling</td>\n",
       "      <td>21</td>\n",
       "      <td>19</td>\n",
       "      <td>32</td>\n",
       "    </tr>\n",
       "    <tr>\n",
       "      <th>2</th>\n",
       "      <td>tRNA wobble modification</td>\n",
       "      <td>16</td>\n",
       "      <td>13</td>\n",
       "      <td>33</td>\n",
       "    </tr>\n",
       "    <tr>\n",
       "      <th>11</th>\n",
       "      <td>Cytokinesis</td>\n",
       "      <td>13</td>\n",
       "      <td>4</td>\n",
       "      <td>6</td>\n",
       "    </tr>\n",
       "    <tr>\n",
       "      <th>16</th>\n",
       "      <td>Metabolism</td>\n",
       "      <td>11</td>\n",
       "      <td>0</td>\n",
       "      <td>0</td>\n",
       "    </tr>\n",
       "  </tbody>\n",
       "</table>\n",
       "</div>"
      ],
      "text/plain": [
       "<div>\n",
       "<style scoped>\n",
       "    .dataframe tbody tr th:only-of-type {\n",
       "        vertical-align: middle;\n",
       "    }\n",
       "\n",
       "    .dataframe tbody tr th {\n",
       "        vertical-align: top;\n",
       "    }\n",
       "\n",
       "    .dataframe thead th {\n",
       "        text-align: right;\n",
       "    }\n",
       "</style>\n",
       "<table border=\"1\" class=\"dataframe\">\n",
       "  <thead>\n",
       "    <tr style=\"text-align: right;\">\n",
       "      <th></th>\n",
       "      <th>module_name</th>\n",
       "      <th>genes_count</th>\n",
       "      <th>genes_with_interactions</th>\n",
       "      <th>interactions_count</th>\n",
       "    </tr>\n",
       "  </thead>\n",
       "  <tbody>\n",
       "    <tr>\n",
       "      <th>6</th>\n",
       "      <td>Mitosis &amp; chromosome segregation</td>\n",
       "      <td>199</td>\n",
       "      <td>145</td>\n",
       "      <td>667</td>\n",
       "    </tr>\n",
       "    <tr>\n",
       "      <th>12</th>\n",
       "      <td>Glycosylation, protein folding|targeting, cell...</td>\n",
       "      <td>160</td>\n",
       "      <td>96</td>\n",
       "      <td>185</td>\n",
       "    </tr>\n",
       "    <tr>\n",
       "      <th>5</th>\n",
       "      <td>Respiration, oxidative phosphorylation, mitoch...</td>\n",
       "      <td>138</td>\n",
       "      <td>88</td>\n",
       "      <td>165</td>\n",
       "    </tr>\n",
       "    <tr>\n",
       "      <th>15</th>\n",
       "      <td>Transcription &amp; chromatin organization</td>\n",
       "      <td>110</td>\n",
       "      <td>81</td>\n",
       "      <td>303</td>\n",
       "    </tr>\n",
       "    <tr>\n",
       "      <th>3</th>\n",
       "      <td>Cell polarity &amp; morphogenesis</td>\n",
       "      <td>102</td>\n",
       "      <td>60</td>\n",
       "      <td>225</td>\n",
       "    </tr>\n",
       "    <tr>\n",
       "      <th>14</th>\n",
       "      <td>mRNA &amp; tRNA processing</td>\n",
       "      <td>96</td>\n",
       "      <td>80</td>\n",
       "      <td>456</td>\n",
       "    </tr>\n",
       "    <tr>\n",
       "      <th>4</th>\n",
       "      <td>Vesicle traffic</td>\n",
       "      <td>95</td>\n",
       "      <td>73</td>\n",
       "      <td>169</td>\n",
       "    </tr>\n",
       "    <tr>\n",
       "      <th>7</th>\n",
       "      <td>DNA replication &amp; repair</td>\n",
       "      <td>95</td>\n",
       "      <td>71</td>\n",
       "      <td>183</td>\n",
       "    </tr>\n",
       "    <tr>\n",
       "      <th>0</th>\n",
       "      <td>rDNA &amp; ncDNA processing</td>\n",
       "      <td>90</td>\n",
       "      <td>68</td>\n",
       "      <td>424</td>\n",
       "    </tr>\n",
       "    <tr>\n",
       "      <th>13</th>\n",
       "      <td>Ribosome biogenesis</td>\n",
       "      <td>74</td>\n",
       "      <td>35</td>\n",
       "      <td>45</td>\n",
       "    </tr>\n",
       "    <tr>\n",
       "      <th>9</th>\n",
       "      <td>Protein degradation|turnover</td>\n",
       "      <td>59</td>\n",
       "      <td>40</td>\n",
       "      <td>253</td>\n",
       "    </tr>\n",
       "    <tr>\n",
       "      <th>1</th>\n",
       "      <td>Nuclear-cytoplasmic transport</td>\n",
       "      <td>39</td>\n",
       "      <td>32</td>\n",
       "      <td>137</td>\n",
       "    </tr>\n",
       "    <tr>\n",
       "      <th>8</th>\n",
       "      <td>Peroxisome</td>\n",
       "      <td>24</td>\n",
       "      <td>16</td>\n",
       "      <td>65</td>\n",
       "    </tr>\n",
       "    <tr>\n",
       "      <th>10</th>\n",
       "      <td>MVB sorting and pH depending signaling</td>\n",
       "      <td>21</td>\n",
       "      <td>19</td>\n",
       "      <td>32</td>\n",
       "    </tr>\n",
       "    <tr>\n",
       "      <th>2</th>\n",
       "      <td>tRNA wobble modification</td>\n",
       "      <td>16</td>\n",
       "      <td>13</td>\n",
       "      <td>33</td>\n",
       "    </tr>\n",
       "    <tr>\n",
       "      <th>11</th>\n",
       "      <td>Cytokinesis</td>\n",
       "      <td>13</td>\n",
       "      <td>4</td>\n",
       "      <td>6</td>\n",
       "    </tr>\n",
       "    <tr>\n",
       "      <th>16</th>\n",
       "      <td>Metabolism</td>\n",
       "      <td>11</td>\n",
       "      <td>0</td>\n",
       "      <td>0</td>\n",
       "    </tr>\n",
       "  </tbody>\n",
       "</table>\n",
       "</div>"
      ]
     },
     "execution_count": 0,
     "metadata": {},
     "output_type": "execute_result"
    },
    {
     "name": "stdout",
     "output_type": "stream",
     "text": [
      "CPU times: user 8.65 s, sys: 16 ms, total: 8.66 s\nWall time: 9.33 s\n"
     ]
    }
   ],
   "source": [
    "\"\"\"Basic information about the functional modules: numbers of vertices and edges for pseudo- and simple subgraphs spanned by modules' genes\"\"\"\n",
    "%%time\n",
    "\n",
    "for simplify_flag in [False, True]:\n",
    "    modules_stats = networks.basic_module_info(\n",
    "         interactome_graph=interactome_graph, \n",
    "         modules_dict=modules_dict, \n",
    "         modules_type=modules_type,\n",
    "         simplify=simplify_flag)\n",
    "    modules_stats.to_csv(\"./results/{}/\".format(modules_type) \n",
    "              + (\"simplified\" if simplify_flag else \"raw\") \n",
    "              + \"_module_stats.csv\", sep='\\t', index=False)\n",
    "    display(modules_stats.sort_values(by=\"genes_count\", ascending=False))"
   ]
  },
  {
   "cell_type": "code",
   "execution_count": 9,
   "metadata": {},
   "outputs": [],
   "source": [
    "gene_pool = np.intersect1d(expression_df[\"eQTLs_interpolated\"][\"gene\"], expression_df[\"pQTLs\"][\"gene\"])"
   ]
  },
  {
   "cell_type": "code",
   "execution_count": 18,
   "metadata": {},
   "outputs": [
    {
     "name": "stdout",
     "output_type": "stream",
     "text": [
      "CPU times: user 2.1 s, sys: 180 ms, total: 2.28 s\nWall time: 13min 5s\n"
     ]
    }
   ],
   "source": [
    "\n",
    "%%time\n",
    "reload(qtls)\n",
    "\n",
    "def calculate_eqtl_pqtl_intersection(modules_type):\n",
    "    with open(\"./results/{}/modules_dict.pkl\".format(modules_type), \"rb\") as pickle_file:\n",
    "        modules_dict = pickle.load(pickle_file)\n",
    "    for eqtls_type in [\"old\"]:\n",
    "        print(\"{}: {}\".format(modules_type, eqtls_type))\n",
    "        pd.DataFrame(\n",
    "            [\n",
    "                (q_cutoff, *qtls.qtl_overlap_test(qtls_df[\"eQTLs_{}\".format(eqtls_type)].query(\"q_value < {}\".format(q_cutoff)),\n",
    "                                                  qtls_df[\"pQTLs\"].query(\"q_value < {}\".format(q_cutoff)),\n",
    "                                                  gene_pool, modules_dict))\n",
    "                for q_cutoff in 10.**np.arange(-8, -1)\n",
    "            ],\n",
    "            columns = [\"q_value_cutoff\", \"real_modules\", \"random_modules\"],\n",
    "            dtype=np.float32\n",
    "        ).to_csv(\"./results/{}/eQTL_pQTL_intersection_{}.csv\".format(modules_type, eqtls_type), sep='\\t', index=False)\n",
    "        \n",
    "module_types = [\"geneontology\"]        \n",
    "joblib.Parallel(n_jobs=len(modules_type))(\n",
    "    joblib.delayed(calculate_eqtl_pqtl_intersection)(modules_type) \n",
    "    for modules_type in module_types\n",
    ")"
   ]
  },
  {
   "cell_type": "code",
   "execution_count": null,
   "metadata": {},
   "outputs": [],
   "source": []
  },
  {
   "cell_type": "code",
   "execution_count": 6,
   "metadata": {
    "collapsed": false
   },
   "outputs": [
    {
     "name": "stderr",
     "output_type": "stream",
     "text": [
      "\rrandom samples generated:   0%|          | 0/108 [00:00<?, ?it/s]"
     ]
    },
    {
     "name": "stderr",
     "output_type": "stream",
     "text": [
      "\rrandom samples generated:   1%|          | 1/108 [00:00<00:31,  3.38it/s]"
     ]
    },
    {
     "name": "stderr",
     "output_type": "stream",
     "text": [
      "\rrandom samples generated:   2%|▏         | 2/108 [00:00<00:30,  3.53it/s]"
     ]
    },
    {
     "name": "stderr",
     "output_type": "stream",
     "text": [
      "\rrandom samples generated:   3%|▎         | 3/108 [00:00<00:29,  3.53it/s]"
     ]
    },
    {
     "name": "stderr",
     "output_type": "stream",
     "text": [
      "\rrandom samples generated:   4%|▎         | 4/108 [00:01<00:29,  3.49it/s]"
     ]
    },
    {
     "name": "stderr",
     "output_type": "stream",
     "text": [
      "\rrandom samples generated:   5%|▍         | 5/108 [00:01<00:30,  3.34it/s]"
     ]
    },
    {
     "name": "stderr",
     "output_type": "stream",
     "text": [
      "\rrandom samples generated:   6%|▌         | 6/108 [00:01<00:31,  3.25it/s]"
     ]
    },
    {
     "name": "stderr",
     "output_type": "stream",
     "text": [
      "\rrandom samples generated:   6%|▋         | 7/108 [00:02<00:30,  3.28it/s]"
     ]
    },
    {
     "name": "stderr",
     "output_type": "stream",
     "text": [
      "\rrandom samples generated:   7%|▋         | 8/108 [00:02<00:32,  3.11it/s]"
     ]
    },
    {
     "name": "stderr",
     "output_type": "stream",
     "text": [
      "\rrandom samples generated:   8%|▊         | 9/108 [00:02<00:31,  3.14it/s]"
     ]
    },
    {
     "name": "stderr",
     "output_type": "stream",
     "text": [
      "\rrandom samples generated:   9%|▉         | 10/108 [00:03<00:30,  3.17it/s]"
     ]
    },
    {
     "name": "stderr",
     "output_type": "stream",
     "text": [
      "\rrandom samples generated:  10%|█         | 11/108 [00:03<00:30,  3.20it/s]"
     ]
    },
    {
     "name": "stderr",
     "output_type": "stream",
     "text": [
      "\rrandom samples generated:  11%|█         | 12/108 [00:03<00:30,  3.10it/s]"
     ]
    },
    {
     "name": "stderr",
     "output_type": "stream",
     "text": [
      "\rrandom samples generated:  12%|█▏        | 13/108 [00:04<00:30,  3.10it/s]"
     ]
    },
    {
     "name": "stderr",
     "output_type": "stream",
     "text": [
      "\rrandom samples generated:  13%|█▎        | 14/108 [00:04<00:30,  3.11it/s]"
     ]
    },
    {
     "name": "stderr",
     "output_type": "stream",
     "text": [
      "\rrandom samples generated:  14%|█▍        | 15/108 [00:04<00:29,  3.12it/s]"
     ]
    },
    {
     "name": "stderr",
     "output_type": "stream",
     "text": [
      "\rrandom samples generated:  15%|█▍        | 16/108 [00:05<00:29,  3.10it/s]"
     ]
    },
    {
     "name": "stderr",
     "output_type": "stream",
     "text": [
      "\rrandom samples generated:  16%|█▌        | 17/108 [00:05<00:29,  3.07it/s]"
     ]
    },
    {
     "name": "stderr",
     "output_type": "stream",
     "text": [
      "\rrandom samples generated:  17%|█▋        | 18/108 [00:05<00:28,  3.10it/s]"
     ]
    },
    {
     "name": "stderr",
     "output_type": "stream",
     "text": [
      "\rrandom samples generated:  18%|█▊        | 19/108 [00:06<00:28,  3.12it/s]"
     ]
    },
    {
     "name": "stderr",
     "output_type": "stream",
     "text": [
      "\rrandom samples generated:  19%|█▊        | 20/108 [00:06<00:27,  3.15it/s]"
     ]
    },
    {
     "name": "stderr",
     "output_type": "stream",
     "text": [
      "\rrandom samples generated:  19%|█▉        | 21/108 [00:06<00:27,  3.15it/s]"
     ]
    },
    {
     "name": "stderr",
     "output_type": "stream",
     "text": [
      "\rrandom samples generated:  20%|██        | 22/108 [00:06<00:27,  3.16it/s]"
     ]
    },
    {
     "name": "stderr",
     "output_type": "stream",
     "text": [
      "\rrandom samples generated:  21%|██▏       | 23/108 [00:07<00:26,  3.17it/s]"
     ]
    },
    {
     "name": "stderr",
     "output_type": "stream",
     "text": [
      "\rrandom samples generated:  22%|██▏       | 24/108 [00:07<00:27,  3.09it/s]"
     ]
    },
    {
     "name": "stderr",
     "output_type": "stream",
     "text": [
      "\rrandom samples generated:  23%|██▎       | 25/108 [00:08<00:27,  3.07it/s]"
     ]
    },
    {
     "name": "stderr",
     "output_type": "stream",
     "text": [
      "\rrandom samples generated:  24%|██▍       | 26/108 [00:08<00:26,  3.06it/s]"
     ]
    },
    {
     "name": "stderr",
     "output_type": "stream",
     "text": [
      "\rrandom samples generated:  25%|██▌       | 27/108 [00:08<00:26,  3.05it/s]"
     ]
    },
    {
     "name": "stderr",
     "output_type": "stream",
     "text": [
      "\rrandom samples generated:  26%|██▌       | 28/108 [00:09<00:26,  3.05it/s]"
     ]
    },
    {
     "name": "stderr",
     "output_type": "stream",
     "text": [
      "\rrandom samples generated:  27%|██▋       | 29/108 [00:09<00:25,  3.04it/s]"
     ]
    },
    {
     "name": "stderr",
     "output_type": "stream",
     "text": [
      "\rrandom samples generated:  28%|██▊       | 30/108 [00:09<00:25,  3.06it/s]"
     ]
    },
    {
     "name": "stderr",
     "output_type": "stream",
     "text": [
      "\rrandom samples generated:  29%|██▊       | 31/108 [00:10<00:25,  3.05it/s]"
     ]
    },
    {
     "name": "stderr",
     "output_type": "stream",
     "text": [
      "\rrandom samples generated:  30%|██▉       | 32/108 [00:10<00:24,  3.05it/s]"
     ]
    },
    {
     "name": "stderr",
     "output_type": "stream",
     "text": [
      "\rrandom samples generated:  31%|███       | 33/108 [00:10<00:24,  3.06it/s]"
     ]
    },
    {
     "name": "stderr",
     "output_type": "stream",
     "text": [
      "\rrandom samples generated:  31%|███▏      | 34/108 [00:11<00:24,  3.05it/s]"
     ]
    },
    {
     "name": "stderr",
     "output_type": "stream",
     "text": [
      "\rrandom samples generated:  32%|███▏      | 35/108 [00:11<00:23,  3.06it/s]"
     ]
    },
    {
     "name": "stderr",
     "output_type": "stream",
     "text": [
      "\rrandom samples generated:  33%|███▎      | 36/108 [00:11<00:23,  3.04it/s]"
     ]
    },
    {
     "name": "stderr",
     "output_type": "stream",
     "text": [
      "\rrandom samples generated:  34%|███▍      | 37/108 [00:12<00:23,  3.02it/s]"
     ]
    },
    {
     "name": "stderr",
     "output_type": "stream",
     "text": [
      "\rrandom samples generated:  35%|███▌      | 38/108 [00:12<00:23,  3.01it/s]"
     ]
    },
    {
     "name": "stderr",
     "output_type": "stream",
     "text": [
      "\rrandom samples generated:  36%|███▌      | 39/108 [00:12<00:22,  3.02it/s]"
     ]
    },
    {
     "name": "stderr",
     "output_type": "stream",
     "text": [
      "\rrandom samples generated:  37%|███▋      | 40/108 [00:13<00:22,  3.03it/s]"
     ]
    },
    {
     "name": "stderr",
     "output_type": "stream",
     "text": [
      "\rrandom samples generated:  38%|███▊      | 41/108 [00:13<00:22,  3.03it/s]"
     ]
    },
    {
     "name": "stderr",
     "output_type": "stream",
     "text": [
      "\rrandom samples generated:  39%|███▉      | 42/108 [00:13<00:21,  3.04it/s]"
     ]
    },
    {
     "name": "stderr",
     "output_type": "stream",
     "text": [
      "\rrandom samples generated:  40%|███▉      | 43/108 [00:14<00:21,  3.04it/s]"
     ]
    },
    {
     "name": "stderr",
     "output_type": "stream",
     "text": [
      "\rrandom samples generated:  41%|████      | 44/108 [00:14<00:21,  3.05it/s]"
     ]
    },
    {
     "name": "stderr",
     "output_type": "stream",
     "text": [
      "\rrandom samples generated:  42%|████▏     | 45/108 [00:14<00:20,  3.05it/s]"
     ]
    },
    {
     "name": "stderr",
     "output_type": "stream",
     "text": [
      "\rrandom samples generated:  43%|████▎     | 46/108 [00:15<00:20,  3.05it/s]"
     ]
    },
    {
     "name": "stderr",
     "output_type": "stream",
     "text": [
      "\rrandom samples generated:  44%|████▎     | 47/108 [00:15<00:20,  3.05it/s]"
     ]
    },
    {
     "name": "stderr",
     "output_type": "stream",
     "text": [
      "\rrandom samples generated:  44%|████▍     | 48/108 [00:15<00:19,  3.03it/s]"
     ]
    },
    {
     "name": "stderr",
     "output_type": "stream",
     "text": [
      "\rrandom samples generated:  45%|████▌     | 49/108 [00:16<00:19,  3.04it/s]"
     ]
    },
    {
     "name": "stderr",
     "output_type": "stream",
     "text": [
      "\rrandom samples generated:  46%|████▋     | 50/108 [00:16<00:19,  3.05it/s]"
     ]
    },
    {
     "name": "stderr",
     "output_type": "stream",
     "text": [
      "\rrandom samples generated:  47%|████▋     | 51/108 [00:16<00:18,  3.05it/s]"
     ]
    },
    {
     "name": "stderr",
     "output_type": "stream",
     "text": [
      "\rrandom samples generated:  48%|████▊     | 52/108 [00:16<00:18,  3.06it/s]"
     ]
    },
    {
     "name": "stderr",
     "output_type": "stream",
     "text": [
      "\rrandom samples generated:  49%|████▉     | 53/108 [00:17<00:17,  3.06it/s]"
     ]
    },
    {
     "name": "stderr",
     "output_type": "stream",
     "text": [
      "\rrandom samples generated:  50%|█████     | 54/108 [00:17<00:17,  3.07it/s]"
     ]
    },
    {
     "name": "stderr",
     "output_type": "stream",
     "text": [
      "\rrandom samples generated:  51%|█████     | 55/108 [00:18<00:17,  3.05it/s]"
     ]
    },
    {
     "name": "stderr",
     "output_type": "stream",
     "text": [
      "\rrandom samples generated:  52%|█████▏    | 56/108 [00:18<00:17,  3.05it/s]"
     ]
    },
    {
     "name": "stderr",
     "output_type": "stream",
     "text": [
      "\rrandom samples generated:  53%|█████▎    | 57/108 [00:18<00:16,  3.04it/s]"
     ]
    },
    {
     "name": "stderr",
     "output_type": "stream",
     "text": [
      "\rrandom samples generated:  54%|█████▎    | 58/108 [00:19<00:16,  3.04it/s]"
     ]
    },
    {
     "name": "stderr",
     "output_type": "stream",
     "text": [
      "\rrandom samples generated:  55%|█████▍    | 59/108 [00:19<00:16,  3.05it/s]"
     ]
    },
    {
     "name": "stderr",
     "output_type": "stream",
     "text": [
      "\rrandom samples generated:  56%|█████▌    | 60/108 [00:19<00:15,  3.03it/s]"
     ]
    },
    {
     "name": "stderr",
     "output_type": "stream",
     "text": [
      "\rrandom samples generated:  56%|█████▋    | 61/108 [00:20<00:15,  3.04it/s]"
     ]
    },
    {
     "name": "stderr",
     "output_type": "stream",
     "text": [
      "\rrandom samples generated:  57%|█████▋    | 62/108 [00:20<00:15,  3.04it/s]"
     ]
    },
    {
     "name": "stderr",
     "output_type": "stream",
     "text": [
      "\rrandom samples generated:  58%|█████▊    | 63/108 [00:20<00:14,  3.04it/s]"
     ]
    },
    {
     "name": "stderr",
     "output_type": "stream",
     "text": [
      "\rrandom samples generated:  59%|█████▉    | 64/108 [00:21<00:14,  3.03it/s]"
     ]
    },
    {
     "name": "stderr",
     "output_type": "stream",
     "text": [
      "\rrandom samples generated:  60%|██████    | 65/108 [00:21<00:14,  3.03it/s]"
     ]
    },
    {
     "name": "stderr",
     "output_type": "stream",
     "text": [
      "\rrandom samples generated:  61%|██████    | 66/108 [00:21<00:13,  3.04it/s]"
     ]
    },
    {
     "name": "stderr",
     "output_type": "stream",
     "text": [
      "\rrandom samples generated:  62%|██████▏   | 67/108 [00:22<00:13,  3.04it/s]"
     ]
    },
    {
     "name": "stderr",
     "output_type": "stream",
     "text": [
      "\rrandom samples generated:  63%|██████▎   | 68/108 [00:22<00:13,  3.04it/s]"
     ]
    },
    {
     "name": "stderr",
     "output_type": "stream",
     "text": [
      "\rrandom samples generated:  64%|██████▍   | 69/108 [00:22<00:12,  3.02it/s]"
     ]
    },
    {
     "name": "stderr",
     "output_type": "stream",
     "text": [
      "\rrandom samples generated:  65%|██████▍   | 70/108 [00:23<00:12,  3.02it/s]"
     ]
    },
    {
     "name": "stderr",
     "output_type": "stream",
     "text": [
      "\rrandom samples generated:  66%|██████▌   | 71/108 [00:23<00:12,  3.02it/s]"
     ]
    },
    {
     "name": "stderr",
     "output_type": "stream",
     "text": [
      "\rrandom samples generated:  67%|██████▋   | 72/108 [00:23<00:11,  3.03it/s]"
     ]
    },
    {
     "name": "stderr",
     "output_type": "stream",
     "text": [
      "\rrandom samples generated:  68%|██████▊   | 73/108 [00:24<00:11,  3.03it/s]"
     ]
    },
    {
     "name": "stderr",
     "output_type": "stream",
     "text": [
      "\rrandom samples generated:  69%|██████▊   | 74/108 [00:24<00:11,  3.04it/s]"
     ]
    },
    {
     "name": "stderr",
     "output_type": "stream",
     "text": [
      "\rrandom samples generated:  69%|██████▉   | 75/108 [00:24<00:10,  3.03it/s]"
     ]
    },
    {
     "name": "stderr",
     "output_type": "stream",
     "text": [
      "\rrandom samples generated:  70%|███████   | 76/108 [00:25<00:10,  3.03it/s]"
     ]
    },
    {
     "name": "stderr",
     "output_type": "stream",
     "text": [
      "\rrandom samples generated:  71%|███████▏  | 77/108 [00:25<00:10,  3.04it/s]"
     ]
    },
    {
     "name": "stderr",
     "output_type": "stream",
     "text": [
      "\rrandom samples generated:  72%|███████▏  | 78/108 [00:25<00:09,  3.03it/s]"
     ]
    },
    {
     "name": "stderr",
     "output_type": "stream",
     "text": [
      "\rrandom samples generated:  73%|███████▎  | 79/108 [00:26<00:09,  3.03it/s]"
     ]
    },
    {
     "name": "stderr",
     "output_type": "stream",
     "text": [
      "\rrandom samples generated:  74%|███████▍  | 80/108 [00:26<00:09,  3.04it/s]"
     ]
    },
    {
     "name": "stderr",
     "output_type": "stream",
     "text": [
      "\rrandom samples generated:  75%|███████▌  | 81/108 [00:26<00:08,  3.03it/s]"
     ]
    },
    {
     "name": "stderr",
     "output_type": "stream",
     "text": [
      "\rrandom samples generated:  76%|███████▌  | 82/108 [00:26<00:08,  3.04it/s]"
     ]
    },
    {
     "name": "stderr",
     "output_type": "stream",
     "text": [
      "\rrandom samples generated:  77%|███████▋  | 83/108 [00:27<00:08,  3.03it/s]"
     ]
    },
    {
     "name": "stderr",
     "output_type": "stream",
     "text": [
      "\rrandom samples generated:  78%|███████▊  | 84/108 [00:27<00:07,  3.03it/s]"
     ]
    },
    {
     "name": "stderr",
     "output_type": "stream",
     "text": [
      "\rrandom samples generated:  79%|███████▊  | 85/108 [00:28<00:07,  3.03it/s]"
     ]
    },
    {
     "name": "stderr",
     "output_type": "stream",
     "text": [
      "\rrandom samples generated:  80%|███████▉  | 86/108 [00:28<00:07,  3.02it/s]"
     ]
    },
    {
     "name": "stderr",
     "output_type": "stream",
     "text": [
      "\rrandom samples generated:  81%|████████  | 87/108 [00:28<00:06,  3.01it/s]"
     ]
    },
    {
     "name": "stderr",
     "output_type": "stream",
     "text": [
      "\rrandom samples generated:  81%|████████▏ | 88/108 [00:29<00:06,  3.00it/s]"
     ]
    },
    {
     "name": "stderr",
     "output_type": "stream",
     "text": [
      "\rrandom samples generated:  82%|████████▏ | 89/108 [00:29<00:06,  3.01it/s]"
     ]
    },
    {
     "name": "stderr",
     "output_type": "stream",
     "text": [
      "\rrandom samples generated:  83%|████████▎ | 90/108 [00:29<00:05,  3.01it/s]"
     ]
    },
    {
     "name": "stderr",
     "output_type": "stream",
     "text": [
      "\rrandom samples generated:  84%|████████▍ | 91/108 [00:30<00:05,  3.00it/s]"
     ]
    },
    {
     "name": "stderr",
     "output_type": "stream",
     "text": [
      "\rrandom samples generated:  85%|████████▌ | 92/108 [00:30<00:05,  3.01it/s]"
     ]
    },
    {
     "name": "stderr",
     "output_type": "stream",
     "text": [
      "\rrandom samples generated:  86%|████████▌ | 93/108 [00:30<00:04,  3.00it/s]"
     ]
    },
    {
     "name": "stderr",
     "output_type": "stream",
     "text": [
      "\rrandom samples generated:  87%|████████▋ | 94/108 [00:31<00:04,  3.00it/s]"
     ]
    },
    {
     "name": "stderr",
     "output_type": "stream",
     "text": [
      "\rrandom samples generated:  88%|████████▊ | 95/108 [00:31<00:04,  3.00it/s]"
     ]
    },
    {
     "name": "stderr",
     "output_type": "stream",
     "text": [
      "\rrandom samples generated:  89%|████████▉ | 96/108 [00:31<00:03,  3.00it/s]"
     ]
    },
    {
     "name": "stderr",
     "output_type": "stream",
     "text": [
      "\rrandom samples generated:  90%|████████▉ | 97/108 [00:32<00:03,  2.99it/s]"
     ]
    },
    {
     "name": "stderr",
     "output_type": "stream",
     "text": [
      "\rrandom samples generated:  91%|█████████ | 98/108 [00:32<00:03,  2.99it/s]"
     ]
    },
    {
     "name": "stderr",
     "output_type": "stream",
     "text": [
      "\rrandom samples generated:  92%|█████████▏| 99/108 [00:33<00:03,  2.99it/s]"
     ]
    },
    {
     "name": "stderr",
     "output_type": "stream",
     "text": [
      "\rrandom samples generated:  93%|█████████▎| 100/108 [00:33<00:02,  2.99it/s]"
     ]
    },
    {
     "name": "stderr",
     "output_type": "stream",
     "text": [
      "\rrandom samples generated:  94%|█████████▎| 101/108 [00:33<00:02,  2.99it/s]"
     ]
    },
    {
     "name": "stderr",
     "output_type": "stream",
     "text": [
      "\rrandom samples generated:  94%|█████████▍| 102/108 [00:34<00:02,  2.99it/s]"
     ]
    },
    {
     "name": "stderr",
     "output_type": "stream",
     "text": [
      "\rrandom samples generated:  95%|█████████▌| 103/108 [00:34<00:01,  2.98it/s]"
     ]
    },
    {
     "name": "stderr",
     "output_type": "stream",
     "text": [
      "\rrandom samples generated:  96%|█████████▋| 104/108 [00:34<00:01,  2.99it/s]"
     ]
    },
    {
     "name": "stderr",
     "output_type": "stream",
     "text": [
      "\rrandom samples generated:  97%|█████████▋| 105/108 [00:35<00:01,  2.99it/s]"
     ]
    },
    {
     "name": "stderr",
     "output_type": "stream",
     "text": [
      "\rrandom samples generated:  98%|█████████▊| 106/108 [00:35<00:00,  2.98it/s]"
     ]
    },
    {
     "name": "stderr",
     "output_type": "stream",
     "text": [
      "\rrandom samples generated:  99%|█████████▉| 107/108 [00:35<00:00,  2.98it/s]"
     ]
    },
    {
     "name": "stderr",
     "output_type": "stream",
     "text": [
      "\rrandom samples generated: 100%|██████████| 108/108 [00:36<00:00,  2.97it/s]"
     ]
    },
    {
     "name": "stderr",
     "output_type": "stream",
     "text": [
      "\n"
     ]
    },
    {
     "name": "stdout",
     "output_type": "stream",
     "text": [
      "CPU times: user 39.8 s, sys: 184 ms, total: 40 s\nWall time: 39.8 s\n"
     ]
    }
   ],
   "source": [
    "\"\"\" The same information, only visualized. \"\"\"\n",
    "\n",
    "%%time\n",
    "\n",
    "intersection_j, randomized_intersection_j = qtls.qtl_overlap_by_module_test(qtls_df[\"eQTLs_old\"], qtls_df[\"pQTLs\"], \n",
    "                                                                            gene_pool, modules_dict)\n",
    "\n",
    "qtls.qtl_overlap_hist(intersection_j, modules_type)\n",
    "qtls.qtl_overlap_hist(randomized_intersection_j, modules_type + \"_randomized\")"
   ]
  },
  {
   "cell_type": "code",
   "execution_count": 146,
   "metadata": {},
   "outputs": [
    {
     "data": {
      "text/html": [
       "<div>\n",
       "<style scoped>\n",
       "    .dataframe tbody tr th:only-of-type {\n",
       "        vertical-align: middle;\n",
       "    }\n",
       "\n",
       "    .dataframe tbody tr th {\n",
       "        vertical-align: top;\n",
       "    }\n",
       "\n",
       "    .dataframe thead th {\n",
       "        text-align: right;\n",
       "    }\n",
       "</style>\n",
       "<table border=\"1\" class=\"dataframe\">\n",
       "  <thead>\n",
       "    <tr style=\"text-align: right;\">\n",
       "      <th></th>\n",
       "      <th>q_value_cutoff</th>\n",
       "      <th>random_samples_of_size_10</th>\n",
       "    </tr>\n",
       "  </thead>\n",
       "  <tbody>\n",
       "    <tr>\n",
       "      <th>0</th>\n",
       "      <td>1.000000e-08</td>\n",
       "      <td>0.137914</td>\n",
       "    </tr>\n",
       "    <tr>\n",
       "      <th>1</th>\n",
       "      <td>1.000000e-07</td>\n",
       "      <td>0.159089</td>\n",
       "    </tr>\n",
       "    <tr>\n",
       "      <th>2</th>\n",
       "      <td>1.000000e-06</td>\n",
       "      <td>0.160416</td>\n",
       "    </tr>\n",
       "    <tr>\n",
       "      <th>3</th>\n",
       "      <td>1.000000e-05</td>\n",
       "      <td>0.135067</td>\n",
       "    </tr>\n",
       "    <tr>\n",
       "      <th>4</th>\n",
       "      <td>1.000000e-04</td>\n",
       "      <td>0.171282</td>\n",
       "    </tr>\n",
       "    <tr>\n",
       "      <th>5</th>\n",
       "      <td>1.000000e-03</td>\n",
       "      <td>0.156258</td>\n",
       "    </tr>\n",
       "    <tr>\n",
       "      <th>6</th>\n",
       "      <td>1.000000e-02</td>\n",
       "      <td>0.153712</td>\n",
       "    </tr>\n",
       "  </tbody>\n",
       "</table>\n",
       "</div>"
      ],
      "text/plain": [
       "<div>\n",
       "<style scoped>\n",
       "    .dataframe tbody tr th:only-of-type {\n",
       "        vertical-align: middle;\n",
       "    }\n",
       "\n",
       "    .dataframe tbody tr th {\n",
       "        vertical-align: top;\n",
       "    }\n",
       "\n",
       "    .dataframe thead th {\n",
       "        text-align: right;\n",
       "    }\n",
       "</style>\n",
       "<table border=\"1\" class=\"dataframe\">\n",
       "  <thead>\n",
       "    <tr style=\"text-align: right;\">\n",
       "      <th></th>\n",
       "      <th>q_value_cutoff</th>\n",
       "      <th>random_samples_of_size_10</th>\n",
       "    </tr>\n",
       "  </thead>\n",
       "  <tbody>\n",
       "    <tr>\n",
       "      <th>0</th>\n",
       "      <td>1.000000e-08</td>\n",
       "      <td>0.137914</td>\n",
       "    </tr>\n",
       "    <tr>\n",
       "      <th>1</th>\n",
       "      <td>1.000000e-07</td>\n",
       "      <td>0.159089</td>\n",
       "    </tr>\n",
       "    <tr>\n",
       "      <th>2</th>\n",
       "      <td>1.000000e-06</td>\n",
       "      <td>0.160416</td>\n",
       "    </tr>\n",
       "    <tr>\n",
       "      <th>3</th>\n",
       "      <td>1.000000e-05</td>\n",
       "      <td>0.135067</td>\n",
       "    </tr>\n",
       "    <tr>\n",
       "      <th>4</th>\n",
       "      <td>1.000000e-04</td>\n",
       "      <td>0.171282</td>\n",
       "    </tr>\n",
       "    <tr>\n",
       "      <th>5</th>\n",
       "      <td>1.000000e-03</td>\n",
       "      <td>0.156258</td>\n",
       "    </tr>\n",
       "    <tr>\n",
       "      <th>6</th>\n",
       "      <td>1.000000e-02</td>\n",
       "      <td>0.153712</td>\n",
       "    </tr>\n",
       "  </tbody>\n",
       "</table>\n",
       "</div>"
      ]
     },
     "execution_count": 0,
     "metadata": {},
     "output_type": "execute_result"
    }
   ],
   "source": [
    "\"\"\"\n",
    "OBSERVATION: gene pool tends to be biased towards high eQTL/pQTL overlap ration.\n",
    "Reasons and interpretations of such behaviour remain unclear.    \n",
    "\"\"\"\n",
    "\n",
    "sample_size = 10\n",
    "def randomize_and_overlap(sample_size, iter_num=200):\n",
    "    jaccard_coeffs = []\n",
    "    for i in range(iter_num):\n",
    "        gene_sample = np.random.RandomState().choice(gene_pool, sample_size, replace=False)\n",
    "        linked_eQTLs = set(qtls.linked_markers(qtls_df[\"eQTLs_old\"], gene_sample))\n",
    "        linked_pQTLs = set(qtls.linked_markers(qtls_df[\"pQTLs\"], gene_sample))\n",
    "        jaccard_coeffs.append(qtls.jaccard(linked_eQTLs, linked_pQTLs))\n",
    "    return np.mean(jaccard_coeffs)\n",
    "\n",
    "display(\n",
    "    pd.DataFrame(\n",
    "        [\n",
    "            (q_cutoff, randomize_and_overlap(sample_size))\n",
    "            for q_cutoff in 10.**np.arange(-8, -1)\n",
    "        ],\n",
    "        columns = [\"q_value_cutoff\", \"random_samples_of_size_{}\".format(sample_size)],\n",
    "        dtype=np.float32\n",
    "    )\n",
    ")"
   ]
  },
  {
   "cell_type": "code",
   "execution_count": 5,
   "metadata": {
    "collapsed": false
   },
   "outputs": [
    {
     "name": "stderr",
     "output_type": "stream",
     "text": [
      "\rsubdirectories processed:   0%|          | 0/18 [00:00<?, ?it/s]"
     ]
    },
    {
     "name": "stderr",
     "output_type": "stream",
     "text": [
      "\rsubdirectories processed:   6%|▌         | 1/18 [00:00<00:07,  2.28it/s]"
     ]
    },
    {
     "name": "stderr",
     "output_type": "stream",
     "text": [
      "\rsubdirectories processed:  11%|█         | 2/18 [00:00<00:07,  2.22it/s]"
     ]
    },
    {
     "name": "stderr",
     "output_type": "stream",
     "text": [
      "\rsubdirectories processed:  17%|█▋        | 3/18 [00:01<00:07,  2.14it/s]"
     ]
    },
    {
     "name": "stderr",
     "output_type": "stream",
     "text": [
      "\rsubdirectories processed:  33%|███▎      | 6/18 [00:01<00:03,  3.41it/s]"
     ]
    },
    {
     "name": "stderr",
     "output_type": "stream",
     "text": [
      "\rsubdirectories processed:  39%|███▉      | 7/18 [00:02<00:03,  3.30it/s]"
     ]
    },
    {
     "name": "stderr",
     "output_type": "stream",
     "text": [
      "\rsubdirectories processed:  56%|█████▌    | 10/18 [00:02<00:01,  4.04it/s]"
     ]
    },
    {
     "name": "stderr",
     "output_type": "stream",
     "text": [
      "\rsubdirectories processed:  67%|██████▋   | 12/18 [00:02<00:01,  4.23it/s]"
     ]
    },
    {
     "name": "stderr",
     "output_type": "stream",
     "text": [
      "\rsubdirectories processed:  89%|████████▉ | 16/18 [00:03<00:00,  5.00it/s]"
     ]
    },
    {
     "name": "stderr",
     "output_type": "stream",
     "text": [
      "\rsubdirectories processed:  94%|█████████▍| 17/18 [00:03<00:00,  4.77it/s]"
     ]
    },
    {
     "name": "stderr",
     "output_type": "stream",
     "text": [
      "\rsubdirectories processed: 100%|██████████| 18/18 [00:03<00:00,  4.59it/s]"
     ]
    },
    {
     "name": "stderr",
     "output_type": "stream",
     "text": [
      "\n\rgraphs and hists plotted:   0%|          | 0/10 [00:00<?, ?it/s]"
     ]
    },
    {
     "name": "stderr",
     "output_type": "stream",
     "text": [
      "\rgraphs and hists plotted:  10%|█         | 1/10 [00:00<00:03,  2.69it/s]"
     ]
    },
    {
     "name": "stderr",
     "output_type": "stream",
     "text": [
      "\rgraphs and hists plotted:  20%|██        | 2/10 [00:00<00:02,  2.71it/s]"
     ]
    },
    {
     "name": "stderr",
     "output_type": "stream",
     "text": [
      "\rgraphs and hists plotted:  30%|███       | 3/10 [00:01<00:02,  2.71it/s]"
     ]
    },
    {
     "name": "stderr",
     "output_type": "stream",
     "text": [
      "\rgraphs and hists plotted:  40%|████      | 4/10 [00:01<00:02,  2.65it/s]"
     ]
    },
    {
     "name": "stderr",
     "output_type": "stream",
     "text": [
      "\rgraphs and hists plotted:  50%|█████     | 5/10 [00:01<00:01,  2.63it/s]"
     ]
    },
    {
     "name": "stderr",
     "output_type": "stream",
     "text": [
      "\rgraphs and hists plotted:  60%|██████    | 6/10 [00:02<00:01,  2.62it/s]"
     ]
    },
    {
     "name": "stderr",
     "output_type": "stream",
     "text": [
      "\rgraphs and hists plotted:  70%|███████   | 7/10 [00:02<00:01,  2.60it/s]"
     ]
    },
    {
     "name": "stderr",
     "output_type": "stream",
     "text": [
      "\rgraphs and hists plotted:  80%|████████  | 8/10 [00:03<00:00,  2.60it/s]"
     ]
    },
    {
     "name": "stderr",
     "output_type": "stream",
     "text": [
      "\rgraphs and hists plotted:  90%|█████████ | 9/10 [00:03<00:00,  2.61it/s]"
     ]
    },
    {
     "name": "stderr",
     "output_type": "stream",
     "text": [
      "\rgraphs and hists plotted: 100%|██████████| 10/10 [00:03<00:00,  2.61it/s]"
     ]
    },
    {
     "name": "stderr",
     "output_type": "stream",
     "text": [
      "\n\rvignettes plotted:   0%|          | 0/10 [00:00<?, ?it/s]"
     ]
    },
    {
     "name": "stderr",
     "output_type": "stream",
     "text": [
      "\rvignettes plotted:  10%|█         | 1/10 [00:00<00:03,  2.57it/s]"
     ]
    },
    {
     "name": "stderr",
     "output_type": "stream",
     "text": [
      "\rvignettes plotted:  20%|██        | 2/10 [00:00<00:02,  2.93it/s]"
     ]
    },
    {
     "name": "stderr",
     "output_type": "stream",
     "text": [
      "\rvignettes plotted:  30%|███       | 3/10 [00:00<00:02,  3.09it/s]"
     ]
    },
    {
     "name": "stderr",
     "output_type": "stream",
     "text": [
      "\rvignettes plotted:  40%|████      | 4/10 [00:01<00:01,  3.17it/s]"
     ]
    },
    {
     "name": "stderr",
     "output_type": "stream",
     "text": [
      "\rvignettes plotted:  50%|█████     | 5/10 [00:01<00:01,  3.22it/s]"
     ]
    },
    {
     "name": "stderr",
     "output_type": "stream",
     "text": [
      "\rvignettes plotted:  60%|██████    | 6/10 [00:01<00:01,  3.26it/s]"
     ]
    },
    {
     "name": "stderr",
     "output_type": "stream",
     "text": [
      "\rvignettes plotted:  70%|███████   | 7/10 [00:02<00:00,  3.28it/s]"
     ]
    },
    {
     "name": "stderr",
     "output_type": "stream",
     "text": [
      "\rvignettes plotted:  80%|████████  | 8/10 [00:02<00:00,  3.31it/s]"
     ]
    },
    {
     "name": "stderr",
     "output_type": "stream",
     "text": [
      "\rvignettes plotted:  90%|█████████ | 9/10 [00:02<00:00,  3.32it/s]"
     ]
    },
    {
     "name": "stderr",
     "output_type": "stream",
     "text": [
      "\rvignettes plotted: 100%|██████████| 10/10 [00:03<00:00,  3.33it/s]"
     ]
    },
    {
     "name": "stderr",
     "output_type": "stream",
     "text": [
      "\n\rsubdirectories processed:   0%|          | 0/28 [00:00<?, ?it/s]"
     ]
    },
    {
     "name": "stderr",
     "output_type": "stream",
     "text": [
      "\rsubdirectories processed:   4%|▎         | 1/28 [00:00<00:11,  2.35it/s]"
     ]
    },
    {
     "name": "stderr",
     "output_type": "stream",
     "text": [
      "\rsubdirectories processed:  14%|█▍        | 4/28 [00:00<00:05,  4.77it/s]"
     ]
    },
    {
     "name": "stderr",
     "output_type": "stream",
     "text": [
      "\rsubdirectories processed:  18%|█▊        | 5/28 [00:01<00:05,  3.92it/s]"
     ]
    },
    {
     "name": "stderr",
     "output_type": "stream",
     "text": [
      "\rsubdirectories processed:  36%|███▌      | 10/28 [00:01<00:03,  5.89it/s]"
     ]
    },
    {
     "name": "stderr",
     "output_type": "stream",
     "text": [
      "\rsubdirectories processed:  39%|███▉      | 11/28 [00:02<00:03,  5.21it/s]"
     ]
    },
    {
     "name": "stderr",
     "output_type": "stream",
     "text": [
      "\rsubdirectories processed:  54%|█████▎    | 15/28 [00:02<00:02,  5.89it/s]"
     ]
    },
    {
     "name": "stderr",
     "output_type": "stream",
     "text": [
      "\rsubdirectories processed:  61%|██████    | 17/28 [00:02<00:01,  5.69it/s]"
     ]
    },
    {
     "name": "stderr",
     "output_type": "stream",
     "text": [
      "\rsubdirectories processed:  79%|███████▊  | 22/28 [00:03<00:00,  6.42it/s]"
     ]
    },
    {
     "name": "stderr",
     "output_type": "stream",
     "text": [
      "\rsubdirectories processed:  89%|████████▉ | 25/28 [00:03<00:00,  6.43it/s]"
     ]
    },
    {
     "name": "stderr",
     "output_type": "stream",
     "text": [
      "\rsubdirectories processed:  93%|█████████▎| 26/28 [00:04<00:00,  5.95it/s]"
     ]
    },
    {
     "name": "stderr",
     "output_type": "stream",
     "text": [
      "\rsubdirectories processed: 100%|██████████| 28/28 [00:04<00:00,  6.41it/s]"
     ]
    },
    {
     "name": "stderr",
     "output_type": "stream",
     "text": [
      "\n\rgraphs and hists plotted:   0%|          | 0/10 [00:00<?, ?it/s]"
     ]
    },
    {
     "name": "stderr",
     "output_type": "stream",
     "text": [
      "\rgraphs and hists plotted:  10%|█         | 1/10 [00:00<00:04,  2.24it/s]"
     ]
    },
    {
     "name": "stderr",
     "output_type": "stream",
     "text": [
      "\rgraphs and hists plotted:  20%|██        | 2/10 [00:00<00:03,  2.29it/s]"
     ]
    },
    {
     "name": "stderr",
     "output_type": "stream",
     "text": [
      "\rgraphs and hists plotted:  30%|███       | 3/10 [00:01<00:03,  2.31it/s]"
     ]
    },
    {
     "name": "stderr",
     "output_type": "stream",
     "text": [
      "\rgraphs and hists plotted:  40%|████      | 4/10 [00:01<00:02,  2.35it/s]"
     ]
    },
    {
     "name": "stderr",
     "output_type": "stream",
     "text": [
      "\rgraphs and hists plotted:  50%|█████     | 5/10 [00:02<00:02,  2.35it/s]"
     ]
    },
    {
     "name": "stderr",
     "output_type": "stream",
     "text": [
      "\rgraphs and hists plotted:  60%|██████    | 6/10 [00:02<00:01,  2.32it/s]"
     ]
    },
    {
     "name": "stderr",
     "output_type": "stream",
     "text": [
      "\rgraphs and hists plotted:  70%|███████   | 7/10 [00:03<00:01,  2.31it/s]"
     ]
    },
    {
     "name": "stderr",
     "output_type": "stream",
     "text": [
      "\rgraphs and hists plotted:  80%|████████  | 8/10 [00:03<00:00,  2.32it/s]"
     ]
    },
    {
     "name": "stderr",
     "output_type": "stream",
     "text": [
      "\rgraphs and hists plotted:  90%|█████████ | 9/10 [00:03<00:00,  2.32it/s]"
     ]
    },
    {
     "name": "stderr",
     "output_type": "stream",
     "text": [
      "\rgraphs and hists plotted: 100%|██████████| 10/10 [00:04<00:00,  2.32it/s]"
     ]
    },
    {
     "name": "stderr",
     "output_type": "stream",
     "text": [
      "\n\rvignettes plotted:   0%|          | 0/10 [00:00<?, ?it/s]"
     ]
    },
    {
     "name": "stderr",
     "output_type": "stream",
     "text": [
      "\rvignettes plotted:  10%|█         | 1/10 [00:00<00:04,  1.91it/s]"
     ]
    },
    {
     "name": "stderr",
     "output_type": "stream",
     "text": [
      "\rvignettes plotted:  20%|██        | 2/10 [00:01<00:04,  1.92it/s]"
     ]
    },
    {
     "name": "stderr",
     "output_type": "stream",
     "text": [
      "\rvignettes plotted:  30%|███       | 3/10 [00:01<00:03,  1.90it/s]"
     ]
    },
    {
     "name": "stderr",
     "output_type": "stream",
     "text": [
      "\rvignettes plotted:  40%|████      | 4/10 [00:02<00:03,  1.89it/s]"
     ]
    },
    {
     "name": "stderr",
     "output_type": "stream",
     "text": [
      "\rvignettes plotted:  50%|█████     | 5/10 [00:02<00:02,  1.89it/s]"
     ]
    },
    {
     "name": "stderr",
     "output_type": "stream",
     "text": [
      "\rvignettes plotted:  60%|██████    | 6/10 [00:03<00:02,  1.89it/s]"
     ]
    },
    {
     "name": "stderr",
     "output_type": "stream",
     "text": [
      "\rvignettes plotted:  70%|███████   | 7/10 [00:03<00:01,  1.89it/s]"
     ]
    },
    {
     "name": "stderr",
     "output_type": "stream",
     "text": [
      "\rvignettes plotted:  80%|████████  | 8/10 [00:04<00:01,  1.87it/s]"
     ]
    },
    {
     "name": "stderr",
     "output_type": "stream",
     "text": [
      "\rvignettes plotted:  90%|█████████ | 9/10 [00:04<00:00,  1.86it/s]"
     ]
    },
    {
     "name": "stderr",
     "output_type": "stream",
     "text": [
      "\rvignettes plotted: 100%|██████████| 10/10 [00:05<00:00,  1.87it/s]"
     ]
    },
    {
     "name": "stdout",
     "output_type": "stream",
     "text": [
      "CPU times: user 38.8 s, sys: 580 ms, total: 39.4 s\nWall time: 25 s\n"
     ]
    },
    {
     "name": "stderr",
     "output_type": "stream",
     "text": [
      "\n"
     ]
    }
   ],
   "source": [
    "\"\"\" Helper cell. Used to visualize results of full-graph test and PPIN test. \"\"\"\n",
    "\n",
    "%%time\n",
    "reload(qtls)\n",
    "for expression_df, qtl_df, qtl_type in [(expression_df[\"eQTLs_old\"], qtls_df[\"eQTLs_old\"], \"eQTLs\"),\n",
    "                                        (expression_df[\"pQTLs\"], qtls_df[\"pQTLs\"], \"pQTLs\")]:\n",
    "    qtls.plot_analysis_results(\n",
    "        expression_df=expression_df,\n",
    "        interactions_type=\"physical\",\n",
    "        interactome_graph=interactome_graph,\n",
    "        modules_dict=modules_dict,\n",
    "        modules_type=modules_type,\n",
    "        qtl_df=qtl_df,\n",
    "        qtl_type=qtl_type\n",
    "    )\n",
    "    \n"
   ]
  },
  {
   "cell_type": "code",
   "execution_count": 126,
   "metadata": {},
   "outputs": [
    {
     "name": "stdout",
     "output_type": "stream",
     "text": [
      "thecellmap\nRibosome biogenesis\n"
     ]
    },
    {
     "name": "stderr",
     "output_type": "stream",
     "text": [
      "/home/vvi/Science/eQTL_analysis/src/qtls.py:796: FutureWarning: Method .as_matrix will be removed in a future version. Use .values instead.\n  columns=pqtls_expression_df.columns[1:]\n/home/vvi/Science/eQTL_analysis/src/qtls.py:800: FutureWarning: Method .as_matrix will be removed in a future version. Use .values instead.\n  columns=pqtls_genotypes_df.columns[1:]\n"
     ]
    },
    {
     "name": "stdout",
     "output_type": "stream",
     "text": [
      "CPU times: user 2min 56s, sys: 20.3 s, total: 3min 16s\nWall time: 3min 22s\n"
     ]
    }
   ],
   "source": [
    "\"\"\" INVESTIGATION: how precisely can pQTLs be predicted from eQTLs given PPIN? \"\"\"\n",
    "\n",
    "%%time\n",
    "\n",
    "reload(qtls)\n",
    "print(modules_type)\n",
    "\n",
    "predictions_dict = {}\n",
    "for module_name, module_genes in tqdm(modules_dict.items()):\n",
    "    predictions_dict[module_name] = qtls.PqtlPredictor(\n",
    "        eqtls_df=qtls_df[\"eQTLs_old\"], pqtls_df=qtls_df[\"pQTLs\"],\n",
    "        pqtls_expression_df=expression_df[\"pQTLs\"], pqtls_genotypes_df=genotypes_df[\"pQTLs\"],\n",
    "        module_name=module_name, module_genes=module_genes,\n",
    "        interactome_graph=interactome_graph\n",
    "    ).predict()\n",
    "\n",
    "display(pd.DataFrame(\n",
    "    ((key, *values) for key, values in predictions_dict.items()),\n",
    "    columns=[\"module_name\", \"common_pQTLs\", \"overlap_ratio\", \"old_pQTLs\", \"predicted_pQTLs\", \"delta\"]\n",
    ").sort_values(by=\"overlap_ratio\", ascending=False))"
   ]
  },
  {
   "cell_type": "markdown",
   "metadata": {},
   "source": [
    "## GeneOntology"
   ]
  },
  {
   "cell_type": "code",
   "execution_count": 5,
   "metadata": {},
   "outputs": [
    {
     "name": "stdout",
     "output_type": "stream",
     "text": [
      "./data/geneontology/go-basic.obo: fmt(1.2) rel(2018-07-02) 47,231 GO Terms; optional_attrs(relationship)\n"
     ]
    },
    {
     "name": "stderr",
     "output_type": "stream",
     "text": [
      "\r  0%|          | 0/4136 [00:00<?, ?it/s]"
     ]
    },
    {
     "name": "stderr",
     "output_type": "stream",
     "text": [
      "\r 17%|█▋        | 687/4136 [00:00<00:00, 6862.20it/s]"
     ]
    },
    {
     "name": "stderr",
     "output_type": "stream",
     "text": [
      "\r 29%|██▉       | 1218/4136 [00:00<00:00, 6084.30it/s]"
     ]
    },
    {
     "name": "stderr",
     "output_type": "stream",
     "text": [
      "\r 47%|████▋     | 1960/4136 [00:00<00:00, 6528.53it/s]"
     ]
    },
    {
     "name": "stderr",
     "output_type": "stream",
     "text": [
      "\r 65%|██████▍   | 2682/4136 [00:00<00:00, 6686.99it/s]"
     ]
    },
    {
     "name": "stderr",
     "output_type": "stream",
     "text": [
      "\r 78%|███████▊  | 3226/4136 [00:00<00:00, 6437.86it/s]"
     ]
    },
    {
     "name": "stderr",
     "output_type": "stream",
     "text": [
      "\r 95%|█████████▍| 3915/4136 [00:00<00:00, 6509.87it/s]"
     ]
    },
    {
     "name": "stderr",
     "output_type": "stream",
     "text": [
      "\r100%|██████████| 4136/4136 [00:00<00:00, 6431.32it/s]"
     ]
    },
    {
     "name": "stderr",
     "output_type": "stream",
     "text": [
      "\n"
     ]
    }
   ],
   "source": [
    "\"\"\" GO terms covering 10-150 genes are extracted and used to generate functional modules.\"\"\"\n",
    "\n",
    "from goatools import obo_parser\n",
    "\n",
    "# building the GeneOntology DAG\n",
    "obodag = obo_parser.GODag(\n",
    "    \"./data/geneontology/go-basic.obo\",\n",
    "    optional_attrs=[\"relationship\"]\n",
    ")\n",
    "from Bio.UniProt.GOA import gafiterator\n",
    "\n",
    "# how many of them are present in actual yeast genome?\n",
    "yeast_gaf = './data/geneontology/goa_yeast.gaf'\n",
    "goid2genes = collections.defaultdict(list)\n",
    "with open(yeast_gaf) as handle:\n",
    "    for rec in gafiterator(handle):\n",
    "        go_term = obodag[rec[\"GO_ID\"]]\n",
    "        for par in go_term.parents:\n",
    "            goid2genes[par.id].append(rec[\"DB_Object_Symbol\"])\n",
    "            \n",
    "for key, val in goid2genes.items():\n",
    "    goid2genes[key] = np.unique(val)\n",
    "\n",
    "physically_interacting_genes = set(interactome_graphs_dict[\"physical\"].vs[\"name\"])\n",
    "geneontology_modules_dict = {\n",
    "    obodag[go_id].name.replace('/', '|') : genes \n",
    "    for go_id, genes in tqdm(goid2genes.items()) \n",
    "    if 10 <= len(interactome_graphs_dict[\"physical\"].subgraph(\n",
    "            set(genes) & physically_interacting_genes\n",
    "        ).simplify().vs.select(_degree_gt=0)) <= 150\n",
    "}\n",
    "\n",
    "with open(\"./results/geneontology/modules_dict.pkl\", \"wb+\") as pickle_file:\n",
    "    pickle.dump(geneontology_modules_dict, pickle_file)\n",
    "# with open(\"./results/geneontology/modules_dict.pkl\", \"rb+\") as pickle_file:\n",
    "#     geneontology_modules_dict = pickle.load(pickle_file)"
   ]
  },
  {
   "cell_type": "markdown",
   "metadata": {},
   "source": [
    "## KEGG pathways"
   ]
  },
  {
   "cell_type": "code",
   "execution_count": 6,
   "metadata": {
    "collapsed": false
   },
   "outputs": [
    {
     "name": "stderr",
     "output_type": "stream",
     "text": [
      "\rmodules retrieved:   0%|          | 0/116 [00:00<?, ?it/s]"
     ]
    },
    {
     "name": "stderr",
     "output_type": "stream",
     "text": [
      "\rmodules retrieved:   1%|          | 1/116 [00:01<02:12,  1.15s/it]"
     ]
    },
    {
     "name": "stderr",
     "output_type": "stream",
     "text": [
      "\rmodules retrieved:   2%|▏         | 2/116 [00:02<02:12,  1.16s/it]"
     ]
    },
    {
     "name": "stderr",
     "output_type": "stream",
     "text": [
      "\rmodules retrieved:   3%|▎         | 3/116 [00:07<04:25,  2.35s/it]"
     ]
    },
    {
     "name": "stderr",
     "output_type": "stream",
     "text": [
      "\rmodules retrieved:   3%|▎         | 4/116 [00:08<03:47,  2.03s/it]"
     ]
    },
    {
     "name": "stderr",
     "output_type": "stream",
     "text": [
      "\rmodules retrieved:   4%|▍         | 5/116 [00:09<03:27,  1.87s/it]"
     ]
    },
    {
     "name": "stderr",
     "output_type": "stream",
     "text": [
      "\rmodules retrieved:   5%|▌         | 6/116 [00:10<03:04,  1.68s/it]"
     ]
    },
    {
     "name": "stderr",
     "output_type": "stream",
     "text": [
      "\rmodules retrieved:   6%|▌         | 7/116 [00:10<02:48,  1.54s/it]"
     ]
    },
    {
     "name": "stderr",
     "output_type": "stream",
     "text": [
      "\rmodules retrieved:   7%|▋         | 8/116 [00:11<02:39,  1.48s/it]"
     ]
    },
    {
     "name": "stderr",
     "output_type": "stream",
     "text": [
      "\rmodules retrieved:   8%|▊         | 9/116 [00:12<02:29,  1.39s/it]"
     ]
    },
    {
     "name": "stderr",
     "output_type": "stream",
     "text": [
      "\rmodules retrieved:   9%|▊         | 10/116 [00:13<02:20,  1.32s/it]"
     ]
    },
    {
     "name": "stderr",
     "output_type": "stream",
     "text": [
      "\rmodules retrieved:   9%|▉         | 11/116 [00:14<02:16,  1.30s/it]"
     ]
    },
    {
     "name": "stderr",
     "output_type": "stream",
     "text": [
      "\rmodules retrieved:  10%|█         | 12/116 [00:17<02:29,  1.43s/it]"
     ]
    },
    {
     "name": "stderr",
     "output_type": "stream",
     "text": [
      "\rmodules retrieved:  11%|█         | 13/116 [00:18<02:25,  1.41s/it]"
     ]
    },
    {
     "name": "stderr",
     "output_type": "stream",
     "text": [
      "\rmodules retrieved:  12%|█▏        | 14/116 [00:19<02:19,  1.37s/it]"
     ]
    },
    {
     "name": "stderr",
     "output_type": "stream",
     "text": [
      "\rmodules retrieved:  13%|█▎        | 15/116 [00:20<02:16,  1.35s/it]"
     ]
    },
    {
     "name": "stderr",
     "output_type": "stream",
     "text": [
      "\rmodules retrieved:  14%|█▍        | 16/116 [00:21<02:14,  1.35s/it]"
     ]
    },
    {
     "name": "stderr",
     "output_type": "stream",
     "text": [
      "\rmodules retrieved:  15%|█▍        | 17/116 [00:22<02:13,  1.35s/it]"
     ]
    },
    {
     "name": "stderr",
     "output_type": "stream",
     "text": [
      "\rmodules retrieved:  16%|█▌        | 18/116 [00:24<02:12,  1.36s/it]"
     ]
    },
    {
     "name": "stderr",
     "output_type": "stream",
     "text": [
      "\rmodules retrieved:  16%|█▋        | 19/116 [00:25<02:11,  1.36s/it]"
     ]
    },
    {
     "name": "stderr",
     "output_type": "stream",
     "text": [
      "\rmodules retrieved:  17%|█▋        | 20/116 [00:26<02:09,  1.35s/it]"
     ]
    },
    {
     "name": "stderr",
     "output_type": "stream",
     "text": [
      "\rmodules retrieved:  18%|█▊        | 21/116 [00:27<02:04,  1.31s/it]"
     ]
    },
    {
     "name": "stderr",
     "output_type": "stream",
     "text": [
      "\rmodules retrieved:  19%|█▉        | 22/116 [00:28<02:00,  1.29s/it]"
     ]
    },
    {
     "name": "stderr",
     "output_type": "stream",
     "text": [
      "\rmodules retrieved:  20%|█▉        | 23/116 [00:29<01:57,  1.26s/it]"
     ]
    },
    {
     "name": "stderr",
     "output_type": "stream",
     "text": [
      "\rmodules retrieved:  21%|██        | 24/116 [00:31<02:00,  1.31s/it]"
     ]
    },
    {
     "name": "stderr",
     "output_type": "stream",
     "text": [
      "\rmodules retrieved:  22%|██▏       | 25/116 [00:32<01:57,  1.30s/it]"
     ]
    },
    {
     "name": "stderr",
     "output_type": "stream",
     "text": [
      "\rmodules retrieved:  22%|██▏       | 26/116 [00:33<01:55,  1.29s/it]"
     ]
    },
    {
     "name": "stderr",
     "output_type": "stream",
     "text": [
      "\rmodules retrieved:  23%|██▎       | 27/116 [00:34<01:52,  1.27s/it]"
     ]
    },
    {
     "name": "stderr",
     "output_type": "stream",
     "text": [
      "\rmodules retrieved:  24%|██▍       | 28/116 [00:34<01:49,  1.25s/it]"
     ]
    },
    {
     "name": "stderr",
     "output_type": "stream",
     "text": [
      "\rmodules retrieved:  25%|██▌       | 29/116 [00:36<01:48,  1.25s/it]"
     ]
    },
    {
     "name": "stderr",
     "output_type": "stream",
     "text": [
      "\rmodules retrieved:  26%|██▌       | 30/116 [00:36<01:45,  1.23s/it]"
     ]
    },
    {
     "name": "stderr",
     "output_type": "stream",
     "text": [
      "\rmodules retrieved:  27%|██▋       | 31/116 [00:37<01:43,  1.22s/it]"
     ]
    },
    {
     "name": "stderr",
     "output_type": "stream",
     "text": [
      "\rmodules retrieved:  28%|██▊       | 32/116 [00:38<01:40,  1.20s/it]"
     ]
    },
    {
     "name": "stderr",
     "output_type": "stream",
     "text": [
      "\rmodules retrieved:  28%|██▊       | 33/116 [00:39<01:38,  1.19s/it]"
     ]
    },
    {
     "name": "stderr",
     "output_type": "stream",
     "text": [
      "\rmodules retrieved:  29%|██▉       | 34/116 [00:40<01:36,  1.18s/it]"
     ]
    },
    {
     "name": "stderr",
     "output_type": "stream",
     "text": [
      "\rmodules retrieved:  30%|███       | 35/116 [00:40<01:34,  1.17s/it]"
     ]
    },
    {
     "name": "stderr",
     "output_type": "stream",
     "text": [
      "\rmodules retrieved:  31%|███       | 36/116 [00:41<01:32,  1.15s/it]"
     ]
    },
    {
     "name": "stderr",
     "output_type": "stream",
     "text": [
      "\rmodules retrieved:  32%|███▏      | 37/116 [00:42<01:31,  1.15s/it]"
     ]
    },
    {
     "name": "stderr",
     "output_type": "stream",
     "text": [
      "\rmodules retrieved:  33%|███▎      | 38/116 [00:43<01:29,  1.15s/it]"
     ]
    },
    {
     "name": "stderr",
     "output_type": "stream",
     "text": [
      "\rmodules retrieved:  34%|███▎      | 39/116 [00:44<01:28,  1.15s/it]"
     ]
    },
    {
     "name": "stderr",
     "output_type": "stream",
     "text": [
      "\rmodules retrieved:  34%|███▍      | 40/116 [00:45<01:26,  1.14s/it]"
     ]
    },
    {
     "name": "stderr",
     "output_type": "stream",
     "text": [
      "\rmodules retrieved:  35%|███▌      | 41/116 [00:46<01:25,  1.14s/it]"
     ]
    },
    {
     "name": "stderr",
     "output_type": "stream",
     "text": [
      "\rmodules retrieved:  36%|███▌      | 42/116 [00:47<01:23,  1.13s/it]"
     ]
    },
    {
     "name": "stderr",
     "output_type": "stream",
     "text": [
      "\rmodules retrieved:  37%|███▋      | 43/116 [00:48<01:22,  1.12s/it]"
     ]
    },
    {
     "name": "stderr",
     "output_type": "stream",
     "text": [
      "\rmodules retrieved:  38%|███▊      | 44/116 [00:49<01:20,  1.12s/it]"
     ]
    },
    {
     "name": "stderr",
     "output_type": "stream",
     "text": [
      "\rmodules retrieved:  39%|███▉      | 45/116 [00:50<01:19,  1.12s/it]"
     ]
    },
    {
     "name": "stderr",
     "output_type": "stream",
     "text": [
      "\rmodules retrieved:  40%|███▉      | 46/116 [00:51<01:17,  1.11s/it]"
     ]
    },
    {
     "name": "stderr",
     "output_type": "stream",
     "text": [
      "\rmodules retrieved:  41%|████      | 47/116 [00:52<01:16,  1.11s/it]"
     ]
    },
    {
     "name": "stderr",
     "output_type": "stream",
     "text": [
      "\rmodules retrieved:  41%|████▏     | 48/116 [00:53<01:15,  1.11s/it]"
     ]
    },
    {
     "name": "stderr",
     "output_type": "stream",
     "text": [
      "\rmodules retrieved:  42%|████▏     | 49/116 [00:53<01:13,  1.10s/it]"
     ]
    },
    {
     "name": "stderr",
     "output_type": "stream",
     "text": [
      "\rmodules retrieved:  43%|████▎     | 50/116 [00:54<01:12,  1.10s/it]"
     ]
    },
    {
     "name": "stderr",
     "output_type": "stream",
     "text": [
      "\rmodules retrieved:  44%|████▍     | 51/116 [00:55<01:10,  1.09s/it]"
     ]
    },
    {
     "name": "stderr",
     "output_type": "stream",
     "text": [
      "\rmodules retrieved:  45%|████▍     | 52/116 [00:56<01:09,  1.08s/it]"
     ]
    },
    {
     "name": "stderr",
     "output_type": "stream",
     "text": [
      "\rmodules retrieved:  46%|████▌     | 53/116 [00:57<01:07,  1.08s/it]"
     ]
    },
    {
     "name": "stderr",
     "output_type": "stream",
     "text": [
      "\rmodules retrieved:  47%|████▋     | 54/116 [00:58<01:06,  1.08s/it]"
     ]
    },
    {
     "name": "stderr",
     "output_type": "stream",
     "text": [
      "\rmodules retrieved:  47%|████▋     | 55/116 [00:58<01:05,  1.07s/it]"
     ]
    },
    {
     "name": "stderr",
     "output_type": "stream",
     "text": [
      "\rmodules retrieved:  48%|████▊     | 56/116 [00:59<01:03,  1.06s/it]"
     ]
    },
    {
     "name": "stderr",
     "output_type": "stream",
     "text": [
      "\rmodules retrieved:  49%|████▉     | 57/116 [01:00<01:02,  1.06s/it]"
     ]
    },
    {
     "name": "stderr",
     "output_type": "stream",
     "text": [
      "\rmodules retrieved:  50%|█████     | 58/116 [01:00<01:00,  1.05s/it]"
     ]
    },
    {
     "name": "stderr",
     "output_type": "stream",
     "text": [
      "\rmodules retrieved:  51%|█████     | 59/116 [01:02<00:59,  1.05s/it]"
     ]
    },
    {
     "name": "stderr",
     "output_type": "stream",
     "text": [
      "\rmodules retrieved:  52%|█████▏    | 60/116 [01:03<00:58,  1.05s/it]"
     ]
    },
    {
     "name": "stderr",
     "output_type": "stream",
     "text": [
      "\rmodules retrieved:  53%|█████▎    | 61/116 [01:03<00:57,  1.04s/it]"
     ]
    },
    {
     "name": "stderr",
     "output_type": "stream",
     "text": [
      "\rmodules retrieved:  53%|█████▎    | 62/116 [01:04<00:56,  1.05s/it]"
     ]
    },
    {
     "name": "stderr",
     "output_type": "stream",
     "text": [
      "\rmodules retrieved:  54%|█████▍    | 63/116 [01:05<00:55,  1.05s/it]"
     ]
    },
    {
     "name": "stderr",
     "output_type": "stream",
     "text": [
      "\rmodules retrieved:  55%|█████▌    | 64/116 [01:06<00:54,  1.04s/it]"
     ]
    },
    {
     "name": "stderr",
     "output_type": "stream",
     "text": [
      "\rmodules retrieved:  56%|█████▌    | 65/116 [01:07<00:53,  1.04s/it]"
     ]
    },
    {
     "name": "stderr",
     "output_type": "stream",
     "text": [
      "\rmodules retrieved:  57%|█████▋    | 66/116 [01:08<00:51,  1.04s/it]"
     ]
    },
    {
     "name": "stderr",
     "output_type": "stream",
     "text": [
      "\rmodules retrieved:  58%|█████▊    | 67/116 [01:09<00:50,  1.04s/it]"
     ]
    },
    {
     "name": "stderr",
     "output_type": "stream",
     "text": [
      "\rmodules retrieved:  59%|█████▊    | 68/116 [01:10<00:49,  1.03s/it]"
     ]
    },
    {
     "name": "stderr",
     "output_type": "stream",
     "text": [
      "\rmodules retrieved:  59%|█████▉    | 69/116 [01:11<00:48,  1.03s/it]"
     ]
    },
    {
     "name": "stderr",
     "output_type": "stream",
     "text": [
      "\rmodules retrieved:  60%|██████    | 70/116 [01:12<00:47,  1.03s/it]"
     ]
    },
    {
     "name": "stderr",
     "output_type": "stream",
     "text": [
      "\rmodules retrieved:  61%|██████    | 71/116 [01:13<00:46,  1.04s/it]"
     ]
    },
    {
     "name": "stderr",
     "output_type": "stream",
     "text": [
      "\rmodules retrieved:  62%|██████▏   | 72/116 [01:14<00:45,  1.04s/it]"
     ]
    },
    {
     "name": "stderr",
     "output_type": "stream",
     "text": [
      "\rmodules retrieved:  63%|██████▎   | 73/116 [01:15<00:44,  1.04s/it]"
     ]
    },
    {
     "name": "stderr",
     "output_type": "stream",
     "text": [
      "\rmodules retrieved:  64%|██████▍   | 74/116 [01:17<00:44,  1.05s/it]"
     ]
    },
    {
     "name": "stderr",
     "output_type": "stream",
     "text": [
      "\rmodules retrieved:  65%|██████▍   | 75/116 [01:18<00:43,  1.05s/it]"
     ]
    },
    {
     "name": "stderr",
     "output_type": "stream",
     "text": [
      "\rmodules retrieved:  66%|██████▌   | 76/116 [01:19<00:41,  1.04s/it]"
     ]
    },
    {
     "name": "stderr",
     "output_type": "stream",
     "text": [
      "\rmodules retrieved:  66%|██████▋   | 77/116 [01:20<00:40,  1.04s/it]"
     ]
    },
    {
     "name": "stderr",
     "output_type": "stream",
     "text": [
      "\rmodules retrieved:  67%|██████▋   | 78/116 [01:20<00:39,  1.04s/it]"
     ]
    },
    {
     "name": "stderr",
     "output_type": "stream",
     "text": [
      "\rmodules retrieved:  68%|██████▊   | 79/116 [01:21<00:38,  1.03s/it]"
     ]
    },
    {
     "name": "stderr",
     "output_type": "stream",
     "text": [
      "\rmodules retrieved:  69%|██████▉   | 80/116 [01:22<00:37,  1.03s/it]"
     ]
    },
    {
     "name": "stderr",
     "output_type": "stream",
     "text": [
      "\rmodules retrieved:  70%|██████▉   | 81/116 [01:22<00:35,  1.02s/it]"
     ]
    },
    {
     "name": "stderr",
     "output_type": "stream",
     "text": [
      "\rmodules retrieved:  71%|███████   | 82/116 [01:23<00:34,  1.02s/it]"
     ]
    },
    {
     "name": "stderr",
     "output_type": "stream",
     "text": [
      "\rmodules retrieved:  72%|███████▏  | 83/116 [01:24<00:33,  1.02s/it]"
     ]
    },
    {
     "name": "stderr",
     "output_type": "stream",
     "text": [
      "\rmodules retrieved:  72%|███████▏  | 84/116 [01:25<00:32,  1.02s/it]"
     ]
    },
    {
     "name": "stderr",
     "output_type": "stream",
     "text": [
      "\rmodules retrieved:  73%|███████▎  | 85/116 [01:27<00:31,  1.03s/it]"
     ]
    },
    {
     "name": "stderr",
     "output_type": "stream",
     "text": [
      "\rmodules retrieved:  74%|███████▍  | 86/116 [01:28<00:30,  1.03s/it]"
     ]
    },
    {
     "name": "stderr",
     "output_type": "stream",
     "text": [
      "\rmodules retrieved:  75%|███████▌  | 87/116 [01:29<00:29,  1.03s/it]"
     ]
    },
    {
     "name": "stderr",
     "output_type": "stream",
     "text": [
      "\rmodules retrieved:  76%|███████▌  | 88/116 [01:30<00:28,  1.03s/it]"
     ]
    },
    {
     "name": "stderr",
     "output_type": "stream",
     "text": [
      "\rmodules retrieved:  77%|███████▋  | 89/116 [01:31<00:27,  1.03s/it]"
     ]
    },
    {
     "name": "stderr",
     "output_type": "stream",
     "text": [
      "\rmodules retrieved:  78%|███████▊  | 90/116 [01:32<00:26,  1.03s/it]"
     ]
    },
    {
     "name": "stderr",
     "output_type": "stream",
     "text": [
      "\rmodules retrieved:  78%|███████▊  | 91/116 [01:33<00:25,  1.02s/it]"
     ]
    },
    {
     "name": "stderr",
     "output_type": "stream",
     "text": [
      "\rmodules retrieved:  79%|███████▉  | 92/116 [01:34<00:24,  1.02s/it]"
     ]
    },
    {
     "name": "stderr",
     "output_type": "stream",
     "text": [
      "\rmodules retrieved:  80%|████████  | 93/116 [01:35<00:23,  1.03s/it]"
     ]
    },
    {
     "name": "stderr",
     "output_type": "stream",
     "text": [
      "\rmodules retrieved:  81%|████████  | 94/116 [01:36<00:22,  1.03s/it]"
     ]
    },
    {
     "name": "stderr",
     "output_type": "stream",
     "text": [
      "\rmodules retrieved:  82%|████████▏ | 95/116 [01:38<00:21,  1.04s/it]"
     ]
    },
    {
     "name": "stderr",
     "output_type": "stream",
     "text": [
      "\rmodules retrieved:  83%|████████▎ | 96/116 [01:39<00:20,  1.03s/it]"
     ]
    },
    {
     "name": "stderr",
     "output_type": "stream",
     "text": [
      "\rmodules retrieved:  84%|████████▎ | 97/116 [01:39<00:19,  1.03s/it]"
     ]
    },
    {
     "name": "stderr",
     "output_type": "stream",
     "text": [
      "\rmodules retrieved:  84%|████████▍ | 98/116 [01:40<00:18,  1.03s/it]"
     ]
    },
    {
     "name": "stderr",
     "output_type": "stream",
     "text": [
      "\rmodules retrieved:  85%|████████▌ | 99/116 [01:41<00:17,  1.02s/it]"
     ]
    },
    {
     "name": "stderr",
     "output_type": "stream",
     "text": [
      "\rmodules retrieved:  86%|████████▌ | 100/116 [01:42<00:16,  1.02s/it]"
     ]
    },
    {
     "name": "stderr",
     "output_type": "stream",
     "text": [
      "\rmodules retrieved:  87%|████████▋ | 101/116 [01:43<00:15,  1.02s/it]"
     ]
    },
    {
     "name": "stderr",
     "output_type": "stream",
     "text": [
      "\rmodules retrieved:  88%|████████▊ | 102/116 [01:44<00:14,  1.03s/it]"
     ]
    },
    {
     "name": "stderr",
     "output_type": "stream",
     "text": [
      "\rmodules retrieved:  89%|████████▉ | 103/116 [01:46<00:13,  1.03s/it]"
     ]
    },
    {
     "name": "stderr",
     "output_type": "stream",
     "text": [
      "\rmodules retrieved:  90%|████████▉ | 104/116 [01:47<00:12,  1.03s/it]"
     ]
    },
    {
     "name": "stderr",
     "output_type": "stream",
     "text": [
      "\rmodules retrieved:  91%|█████████ | 105/116 [01:47<00:11,  1.03s/it]"
     ]
    },
    {
     "name": "stderr",
     "output_type": "stream",
     "text": [
      "\rmodules retrieved:  91%|█████████▏| 106/116 [01:49<00:10,  1.03s/it]"
     ]
    },
    {
     "name": "stderr",
     "output_type": "stream",
     "text": [
      "\rmodules retrieved:  92%|█████████▏| 107/116 [01:50<00:09,  1.03s/it]"
     ]
    },
    {
     "name": "stderr",
     "output_type": "stream",
     "text": [
      "\rmodules retrieved:  93%|█████████▎| 108/116 [01:50<00:08,  1.03s/it]"
     ]
    },
    {
     "name": "stderr",
     "output_type": "stream",
     "text": [
      "\rmodules retrieved:  94%|█████████▍| 109/116 [01:51<00:07,  1.03s/it]"
     ]
    },
    {
     "name": "stderr",
     "output_type": "stream",
     "text": [
      "\rmodules retrieved:  95%|█████████▍| 110/116 [01:52<00:06,  1.03s/it]"
     ]
    },
    {
     "name": "stderr",
     "output_type": "stream",
     "text": [
      "\rmodules retrieved:  96%|█████████▌| 111/116 [01:53<00:05,  1.03s/it]"
     ]
    },
    {
     "name": "stderr",
     "output_type": "stream",
     "text": [
      "\rmodules retrieved:  97%|█████████▋| 112/116 [01:54<00:04,  1.02s/it]"
     ]
    },
    {
     "name": "stderr",
     "output_type": "stream",
     "text": [
      "\rmodules retrieved:  97%|█████████▋| 113/116 [01:55<00:03,  1.02s/it]"
     ]
    },
    {
     "name": "stderr",
     "output_type": "stream",
     "text": [
      "\rmodules retrieved:  98%|█████████▊| 114/116 [01:56<00:02,  1.02s/it]"
     ]
    },
    {
     "name": "stderr",
     "output_type": "stream",
     "text": [
      "\rmodules retrieved:  99%|█████████▉| 115/116 [01:57<00:01,  1.02s/it]"
     ]
    },
    {
     "name": "stderr",
     "output_type": "stream",
     "text": [
      "\rmodules retrieved: 100%|██████████| 116/116 [01:58<00:00,  1.02s/it]"
     ]
    },
    {
     "name": "stdout",
     "output_type": "stream",
     "text": [
      "CPU times: user 7.33 s, sys: 308 ms, total: 7.64 s\nWall time: 2min\n"
     ]
    },
    {
     "name": "stderr",
     "output_type": "stream",
     "text": [
      "\n"
     ]
    }
   ],
   "source": [
    "\"\"\" KEGG pathways are retrieved by querying KEGG database \"\"\"\n",
    "\n",
    "%%time \n",
    "kegg_pathways_dict = {(\"-\".join(key.split('-')[:-1])):value for key, value in \n",
    "                     ontologies.query_KEGG(database=\"pathway\", organism=\"sce\").items()}\n",
    "\n",
    "with open(\"./results/kegg_pathways/modules_dict.pkl\", \"wb+\") as pickle_file:\n",
    "    pickle.dump(kegg_pathways_dict, pickle_file)\n",
    "# with open(\"./results/kegg_pathways/modules_dict.pkl\", \"rb+\") as pickle_file:\n",
    "#     kegg_pathways_dict = pickle.load(pickle_file)"
   ]
  },
  {
   "cell_type": "markdown",
   "metadata": {},
   "source": [
    "## KEGG modules"
   ]
  },
  {
   "cell_type": "code",
   "execution_count": 7,
   "metadata": {
    "collapsed": true
   },
   "outputs": [
    {
     "name": "stderr",
     "output_type": "stream",
     "text": [
      "\rmodules retrieved:   0%|          | 0/108 [00:00<?, ?it/s]"
     ]
    },
    {
     "name": "stderr",
     "output_type": "stream",
     "text": [
      "\rmodules retrieved:   1%|          | 1/108 [00:00<01:18,  1.36it/s]"
     ]
    },
    {
     "name": "stderr",
     "output_type": "stream",
     "text": [
      "\rmodules retrieved:   2%|▏         | 2/108 [00:02<02:22,  1.35s/it]"
     ]
    },
    {
     "name": "stderr",
     "output_type": "stream",
     "text": [
      "\rmodules retrieved:   3%|▎         | 3/108 [00:03<01:59,  1.14s/it]"
     ]
    },
    {
     "name": "stderr",
     "output_type": "stream",
     "text": [
      "\rmodules retrieved:   4%|▎         | 4/108 [00:04<01:48,  1.05s/it]"
     ]
    },
    {
     "name": "stderr",
     "output_type": "stream",
     "text": [
      "\rmodules retrieved:   5%|▍         | 5/108 [00:04<01:40,  1.02it/s]"
     ]
    },
    {
     "name": "stderr",
     "output_type": "stream",
     "text": [
      "\rmodules retrieved:   6%|▌         | 6/108 [00:05<01:34,  1.08it/s]"
     ]
    },
    {
     "name": "stderr",
     "output_type": "stream",
     "text": [
      "\rmodules retrieved:   6%|▋         | 7/108 [00:06<01:29,  1.12it/s]"
     ]
    },
    {
     "name": "stderr",
     "output_type": "stream",
     "text": [
      "\rmodules retrieved:   7%|▋         | 8/108 [00:06<01:26,  1.16it/s]"
     ]
    },
    {
     "name": "stderr",
     "output_type": "stream",
     "text": [
      "\rmodules retrieved:   8%|▊         | 9/108 [00:07<01:23,  1.19it/s]"
     ]
    },
    {
     "name": "stderr",
     "output_type": "stream",
     "text": [
      "\rmodules retrieved:   9%|▉         | 10/108 [00:08<01:21,  1.20it/s]"
     ]
    },
    {
     "name": "stderr",
     "output_type": "stream",
     "text": [
      "\rmodules retrieved:  10%|█         | 11/108 [00:09<01:19,  1.22it/s]"
     ]
    },
    {
     "name": "stderr",
     "output_type": "stream",
     "text": [
      "\rmodules retrieved:  11%|█         | 12/108 [00:09<01:17,  1.24it/s]"
     ]
    },
    {
     "name": "stderr",
     "output_type": "stream",
     "text": [
      "\rmodules retrieved:  12%|█▏        | 13/108 [00:10<01:15,  1.26it/s]"
     ]
    },
    {
     "name": "stderr",
     "output_type": "stream",
     "text": [
      "\rmodules retrieved:  13%|█▎        | 14/108 [00:10<01:13,  1.28it/s]"
     ]
    },
    {
     "name": "stderr",
     "output_type": "stream",
     "text": [
      "\rmodules retrieved:  14%|█▍        | 15/108 [00:11<01:13,  1.27it/s]"
     ]
    },
    {
     "name": "stderr",
     "output_type": "stream",
     "text": [
      "\rmodules retrieved:  15%|█▍        | 16/108 [00:12<01:11,  1.28it/s]"
     ]
    },
    {
     "name": "stderr",
     "output_type": "stream",
     "text": [
      "\rmodules retrieved:  16%|█▌        | 17/108 [00:13<01:11,  1.26it/s]"
     ]
    },
    {
     "name": "stderr",
     "output_type": "stream",
     "text": [
      "\rmodules retrieved:  17%|█▋        | 18/108 [00:14<01:10,  1.28it/s]"
     ]
    },
    {
     "name": "stderr",
     "output_type": "stream",
     "text": [
      "\rmodules retrieved:  18%|█▊        | 19/108 [00:14<01:09,  1.28it/s]"
     ]
    },
    {
     "name": "stderr",
     "output_type": "stream",
     "text": [
      "\rmodules retrieved:  19%|█▊        | 20/108 [00:15<01:07,  1.29it/s]"
     ]
    },
    {
     "name": "stderr",
     "output_type": "stream",
     "text": [
      "\rmodules retrieved:  19%|█▉        | 21/108 [00:16<01:06,  1.30it/s]"
     ]
    },
    {
     "name": "stderr",
     "output_type": "stream",
     "text": [
      "\rmodules retrieved:  20%|██        | 22/108 [00:16<01:05,  1.31it/s]"
     ]
    },
    {
     "name": "stderr",
     "output_type": "stream",
     "text": [
      "\rmodules retrieved:  21%|██▏       | 23/108 [00:17<01:04,  1.32it/s]"
     ]
    },
    {
     "name": "stderr",
     "output_type": "stream",
     "text": [
      "\rmodules retrieved:  22%|██▏       | 24/108 [00:18<01:03,  1.32it/s]"
     ]
    },
    {
     "name": "stderr",
     "output_type": "stream",
     "text": [
      "\rmodules retrieved:  23%|██▎       | 25/108 [00:18<01:02,  1.33it/s]"
     ]
    },
    {
     "name": "stderr",
     "output_type": "stream",
     "text": [
      "\rmodules retrieved:  24%|██▍       | 26/108 [00:19<01:01,  1.33it/s]"
     ]
    },
    {
     "name": "stderr",
     "output_type": "stream",
     "text": [
      "\rmodules retrieved:  25%|██▌       | 27/108 [00:20<01:00,  1.34it/s]"
     ]
    },
    {
     "name": "stderr",
     "output_type": "stream",
     "text": [
      "\rmodules retrieved:  26%|██▌       | 28/108 [00:20<00:59,  1.34it/s]"
     ]
    },
    {
     "name": "stderr",
     "output_type": "stream",
     "text": [
      "\rmodules retrieved:  27%|██▋       | 29/108 [00:21<00:59,  1.32it/s]"
     ]
    },
    {
     "name": "stderr",
     "output_type": "stream",
     "text": [
      "\rmodules retrieved:  28%|██▊       | 30/108 [00:22<00:59,  1.31it/s]"
     ]
    },
    {
     "name": "stderr",
     "output_type": "stream",
     "text": [
      "\rmodules retrieved:  29%|██▊       | 31/108 [00:24<00:59,  1.29it/s]"
     ]
    },
    {
     "name": "stderr",
     "output_type": "stream",
     "text": [
      "\rmodules retrieved:  30%|██▉       | 32/108 [00:27<01:05,  1.15it/s]"
     ]
    },
    {
     "name": "stderr",
     "output_type": "stream",
     "text": [
      "\rmodules retrieved:  31%|███       | 33/108 [00:28<01:04,  1.16it/s]"
     ]
    },
    {
     "name": "stderr",
     "output_type": "stream",
     "text": [
      "\rmodules retrieved:  31%|███▏      | 34/108 [00:29<01:03,  1.17it/s]"
     ]
    },
    {
     "name": "stderr",
     "output_type": "stream",
     "text": [
      "\rmodules retrieved:  32%|███▏      | 35/108 [00:29<01:02,  1.17it/s]"
     ]
    },
    {
     "name": "stderr",
     "output_type": "stream",
     "text": [
      "\rmodules retrieved:  33%|███▎      | 36/108 [00:30<01:00,  1.18it/s]"
     ]
    },
    {
     "name": "stderr",
     "output_type": "stream",
     "text": [
      "\rmodules retrieved:  34%|███▍      | 37/108 [00:31<00:59,  1.19it/s]"
     ]
    },
    {
     "name": "stderr",
     "output_type": "stream",
     "text": [
      "\rmodules retrieved:  35%|███▌      | 38/108 [00:31<00:58,  1.19it/s]"
     ]
    },
    {
     "name": "stderr",
     "output_type": "stream",
     "text": [
      "\rmodules retrieved:  36%|███▌      | 39/108 [00:32<00:57,  1.20it/s]"
     ]
    },
    {
     "name": "stderr",
     "output_type": "stream",
     "text": [
      "\rmodules retrieved:  37%|███▋      | 40/108 [00:33<00:56,  1.20it/s]"
     ]
    },
    {
     "name": "stderr",
     "output_type": "stream",
     "text": [
      "\rmodules retrieved:  38%|███▊      | 41/108 [00:33<00:55,  1.21it/s]"
     ]
    },
    {
     "name": "stderr",
     "output_type": "stream",
     "text": [
      "\rmodules retrieved:  39%|███▉      | 42/108 [00:34<00:54,  1.21it/s]"
     ]
    },
    {
     "name": "stderr",
     "output_type": "stream",
     "text": [
      "\rmodules retrieved:  40%|███▉      | 43/108 [00:35<00:53,  1.22it/s]"
     ]
    },
    {
     "name": "stderr",
     "output_type": "stream",
     "text": [
      "\rmodules retrieved:  41%|████      | 44/108 [00:36<00:52,  1.22it/s]"
     ]
    },
    {
     "name": "stderr",
     "output_type": "stream",
     "text": [
      "\rmodules retrieved:  42%|████▏     | 45/108 [00:36<00:51,  1.22it/s]"
     ]
    },
    {
     "name": "stderr",
     "output_type": "stream",
     "text": [
      "\rmodules retrieved:  43%|████▎     | 46/108 [00:37<00:50,  1.22it/s]"
     ]
    },
    {
     "name": "stderr",
     "output_type": "stream",
     "text": [
      "\rmodules retrieved:  44%|████▎     | 47/108 [00:38<00:49,  1.23it/s]"
     ]
    },
    {
     "name": "stderr",
     "output_type": "stream",
     "text": [
      "\rmodules retrieved:  44%|████▍     | 48/108 [00:39<00:48,  1.23it/s]"
     ]
    },
    {
     "name": "stderr",
     "output_type": "stream",
     "text": [
      "\rmodules retrieved:  45%|████▌     | 49/108 [00:39<00:47,  1.23it/s]"
     ]
    },
    {
     "name": "stderr",
     "output_type": "stream",
     "text": [
      "\rmodules retrieved:  46%|████▋     | 50/108 [00:40<00:46,  1.24it/s]"
     ]
    },
    {
     "name": "stderr",
     "output_type": "stream",
     "text": [
      "\rmodules retrieved:  47%|████▋     | 51/108 [00:41<00:46,  1.24it/s]"
     ]
    },
    {
     "name": "stderr",
     "output_type": "stream",
     "text": [
      "\rmodules retrieved:  48%|████▊     | 52/108 [00:41<00:45,  1.24it/s]"
     ]
    },
    {
     "name": "stderr",
     "output_type": "stream",
     "text": [
      "\rmodules retrieved:  49%|████▉     | 53/108 [00:42<00:44,  1.24it/s]"
     ]
    },
    {
     "name": "stderr",
     "output_type": "stream",
     "text": [
      "\rmodules retrieved:  50%|█████     | 54/108 [00:43<00:43,  1.25it/s]"
     ]
    },
    {
     "name": "stderr",
     "output_type": "stream",
     "text": [
      "\rmodules retrieved:  51%|█████     | 55/108 [00:44<00:43,  1.23it/s]"
     ]
    },
    {
     "name": "stderr",
     "output_type": "stream",
     "text": [
      "\rmodules retrieved:  52%|█████▏    | 56/108 [00:46<00:43,  1.19it/s]"
     ]
    },
    {
     "name": "stderr",
     "output_type": "stream",
     "text": [
      "\rmodules retrieved:  53%|█████▎    | 57/108 [00:47<00:42,  1.19it/s]"
     ]
    },
    {
     "name": "stderr",
     "output_type": "stream",
     "text": [
      "\rmodules retrieved:  54%|█████▎    | 58/108 [00:48<00:41,  1.20it/s]"
     ]
    },
    {
     "name": "stderr",
     "output_type": "stream",
     "text": [
      "\rmodules retrieved:  55%|█████▍    | 59/108 [00:49<00:40,  1.20it/s]"
     ]
    },
    {
     "name": "stderr",
     "output_type": "stream",
     "text": [
      "\rmodules retrieved:  56%|█████▌    | 60/108 [00:49<00:39,  1.20it/s]"
     ]
    },
    {
     "name": "stderr",
     "output_type": "stream",
     "text": [
      "\rmodules retrieved:  56%|█████▋    | 61/108 [00:50<00:38,  1.21it/s]"
     ]
    },
    {
     "name": "stderr",
     "output_type": "stream",
     "text": [
      "\rmodules retrieved:  57%|█████▋    | 62/108 [00:51<00:38,  1.21it/s]"
     ]
    },
    {
     "name": "stderr",
     "output_type": "stream",
     "text": [
      "\rmodules retrieved:  58%|█████▊    | 63/108 [00:51<00:37,  1.21it/s]"
     ]
    },
    {
     "name": "stderr",
     "output_type": "stream",
     "text": [
      "\rmodules retrieved:  59%|█████▉    | 64/108 [00:52<00:36,  1.21it/s]"
     ]
    },
    {
     "name": "stderr",
     "output_type": "stream",
     "text": [
      "\rmodules retrieved:  60%|██████    | 65/108 [00:53<00:35,  1.22it/s]"
     ]
    },
    {
     "name": "stderr",
     "output_type": "stream",
     "text": [
      "\rmodules retrieved:  61%|██████    | 66/108 [00:54<00:34,  1.22it/s]"
     ]
    },
    {
     "name": "stderr",
     "output_type": "stream",
     "text": [
      "\rmodules retrieved:  62%|██████▏   | 67/108 [00:54<00:33,  1.22it/s]"
     ]
    },
    {
     "name": "stderr",
     "output_type": "stream",
     "text": [
      "\rmodules retrieved:  63%|██████▎   | 68/108 [00:55<00:32,  1.23it/s]"
     ]
    },
    {
     "name": "stderr",
     "output_type": "stream",
     "text": [
      "\rmodules retrieved:  64%|██████▍   | 69/108 [00:56<00:31,  1.23it/s]"
     ]
    },
    {
     "name": "stderr",
     "output_type": "stream",
     "text": [
      "\rmodules retrieved:  65%|██████▍   | 70/108 [00:56<00:30,  1.23it/s]"
     ]
    },
    {
     "name": "stderr",
     "output_type": "stream",
     "text": [
      "\rmodules retrieved:  66%|██████▌   | 71/108 [00:57<00:30,  1.23it/s]"
     ]
    },
    {
     "name": "stderr",
     "output_type": "stream",
     "text": [
      "\rmodules retrieved:  67%|██████▋   | 72/108 [00:58<00:29,  1.23it/s]"
     ]
    },
    {
     "name": "stderr",
     "output_type": "stream",
     "text": [
      "\rmodules retrieved:  68%|██████▊   | 73/108 [00:59<00:28,  1.23it/s]"
     ]
    },
    {
     "name": "stderr",
     "output_type": "stream",
     "text": [
      "\rmodules retrieved:  69%|██████▊   | 74/108 [01:00<00:27,  1.23it/s]"
     ]
    },
    {
     "name": "stderr",
     "output_type": "stream",
     "text": [
      "\rmodules retrieved:  69%|██████▉   | 75/108 [01:00<00:26,  1.23it/s]"
     ]
    },
    {
     "name": "stderr",
     "output_type": "stream",
     "text": [
      "\rmodules retrieved:  70%|███████   | 76/108 [01:01<00:25,  1.24it/s]"
     ]
    },
    {
     "name": "stderr",
     "output_type": "stream",
     "text": [
      "\rmodules retrieved:  71%|███████▏  | 77/108 [01:02<00:25,  1.24it/s]"
     ]
    },
    {
     "name": "stderr",
     "output_type": "stream",
     "text": [
      "\rmodules retrieved:  72%|███████▏  | 78/108 [01:02<00:24,  1.24it/s]"
     ]
    },
    {
     "name": "stderr",
     "output_type": "stream",
     "text": [
      "\rmodules retrieved:  73%|███████▎  | 79/108 [01:03<00:23,  1.24it/s]"
     ]
    },
    {
     "name": "stderr",
     "output_type": "stream",
     "text": [
      "\rmodules retrieved:  74%|███████▍  | 80/108 [01:04<00:22,  1.24it/s]"
     ]
    },
    {
     "name": "stderr",
     "output_type": "stream",
     "text": [
      "\rmodules retrieved:  75%|███████▌  | 81/108 [01:05<00:21,  1.24it/s]"
     ]
    },
    {
     "name": "stderr",
     "output_type": "stream",
     "text": [
      "\rmodules retrieved:  76%|███████▌  | 82/108 [01:05<00:20,  1.25it/s]"
     ]
    },
    {
     "name": "stderr",
     "output_type": "stream",
     "text": [
      "\rmodules retrieved:  77%|███████▋  | 83/108 [01:06<00:20,  1.25it/s]"
     ]
    },
    {
     "name": "stderr",
     "output_type": "stream",
     "text": [
      "\rmodules retrieved:  78%|███████▊  | 84/108 [01:07<00:19,  1.25it/s]"
     ]
    },
    {
     "name": "stderr",
     "output_type": "stream",
     "text": [
      "\rmodules retrieved:  79%|███████▊  | 85/108 [01:07<00:18,  1.25it/s]"
     ]
    },
    {
     "name": "stderr",
     "output_type": "stream",
     "text": [
      "\rmodules retrieved:  80%|███████▉  | 86/108 [01:08<00:17,  1.26it/s]"
     ]
    },
    {
     "name": "stderr",
     "output_type": "stream",
     "text": [
      "\rmodules retrieved:  81%|████████  | 87/108 [01:09<00:16,  1.26it/s]"
     ]
    },
    {
     "name": "stderr",
     "output_type": "stream",
     "text": [
      "\rmodules retrieved:  81%|████████▏ | 88/108 [01:09<00:15,  1.26it/s]"
     ]
    },
    {
     "name": "stderr",
     "output_type": "stream",
     "text": [
      "\rmodules retrieved:  82%|████████▏ | 89/108 [01:10<00:15,  1.26it/s]"
     ]
    },
    {
     "name": "stderr",
     "output_type": "stream",
     "text": [
      "\rmodules retrieved:  83%|████████▎ | 90/108 [01:11<00:14,  1.26it/s]"
     ]
    },
    {
     "name": "stderr",
     "output_type": "stream",
     "text": [
      "\rmodules retrieved:  84%|████████▍ | 91/108 [01:11<00:13,  1.26it/s]"
     ]
    },
    {
     "name": "stderr",
     "output_type": "stream",
     "text": [
      "\rmodules retrieved:  85%|████████▌ | 92/108 [01:12<00:12,  1.27it/s]"
     ]
    },
    {
     "name": "stderr",
     "output_type": "stream",
     "text": [
      "\rmodules retrieved:  86%|████████▌ | 93/108 [01:13<00:11,  1.27it/s]"
     ]
    },
    {
     "name": "stderr",
     "output_type": "stream",
     "text": [
      "\rmodules retrieved:  87%|████████▋ | 94/108 [01:14<00:11,  1.27it/s]"
     ]
    },
    {
     "name": "stderr",
     "output_type": "stream",
     "text": [
      "\rmodules retrieved:  88%|████████▊ | 95/108 [01:14<00:10,  1.27it/s]"
     ]
    },
    {
     "name": "stderr",
     "output_type": "stream",
     "text": [
      "\rmodules retrieved:  89%|████████▉ | 96/108 [01:15<00:09,  1.27it/s]"
     ]
    },
    {
     "name": "stderr",
     "output_type": "stream",
     "text": [
      "\rmodules retrieved:  90%|████████▉ | 97/108 [01:16<00:08,  1.28it/s]"
     ]
    },
    {
     "name": "stderr",
     "output_type": "stream",
     "text": [
      "\rmodules retrieved:  91%|█████████ | 98/108 [01:16<00:07,  1.28it/s]"
     ]
    },
    {
     "name": "stderr",
     "output_type": "stream",
     "text": [
      "\rmodules retrieved:  92%|█████████▏| 99/108 [01:17<00:07,  1.28it/s]"
     ]
    },
    {
     "name": "stderr",
     "output_type": "stream",
     "text": [
      "\rmodules retrieved:  93%|█████████▎| 100/108 [01:18<00:06,  1.28it/s]"
     ]
    },
    {
     "name": "stderr",
     "output_type": "stream",
     "text": [
      "\rmodules retrieved:  94%|█████████▎| 101/108 [01:18<00:05,  1.28it/s]"
     ]
    },
    {
     "name": "stderr",
     "output_type": "stream",
     "text": [
      "\rmodules retrieved:  94%|█████████▍| 102/108 [01:19<00:04,  1.28it/s]"
     ]
    },
    {
     "name": "stderr",
     "output_type": "stream",
     "text": [
      "\rmodules retrieved:  95%|█████████▌| 103/108 [01:20<00:03,  1.28it/s]"
     ]
    },
    {
     "name": "stderr",
     "output_type": "stream",
     "text": [
      "\rmodules retrieved:  96%|█████████▋| 104/108 [01:21<00:03,  1.28it/s]"
     ]
    },
    {
     "name": "stderr",
     "output_type": "stream",
     "text": [
      "\rmodules retrieved:  97%|█████████▋| 105/108 [01:21<00:02,  1.28it/s]"
     ]
    },
    {
     "name": "stderr",
     "output_type": "stream",
     "text": [
      "\rmodules retrieved:  98%|█████████▊| 106/108 [01:22<00:01,  1.29it/s]"
     ]
    },
    {
     "name": "stderr",
     "output_type": "stream",
     "text": [
      "\rmodules retrieved:  99%|█████████▉| 107/108 [01:23<00:00,  1.29it/s]"
     ]
    },
    {
     "name": "stderr",
     "output_type": "stream",
     "text": [
      "\rmodules retrieved: 100%|██████████| 108/108 [01:23<00:00,  1.29it/s]"
     ]
    },
    {
     "name": "stdout",
     "output_type": "stream",
     "text": [
      "CPU times: user 3.08 s, sys: 148 ms, total: 3.22 s\nWall time: 1min 25s\n"
     ]
    },
    {
     "name": "stderr",
     "output_type": "stream",
     "text": [
      "\n"
     ]
    }
   ],
   "source": [
    "\"\"\" Same for KEGG modules. \"\"\"\n",
    "\n",
    "%%time\n",
    "reload(ontologies)\n",
    "\n",
    "kegg_modules_dict = {key.replace('=>', 'to'):value for key, value in \n",
    "                     ontologies.query_KEGG(database=\"module\", organism=\"sce\").items()}\n",
    "\n",
    "with open(\"./results/kegg_modules/modules_dict.pkl\", \"wb+\") as pickle_file:\n",
    "    pickle.dump(kegg_modules_dict, pickle_file)\n"
   ]
  },
  {
   "cell_type": "markdown",
   "metadata": {},
   "source": [
    "## Analyzing new data: interpolation of genotypes"
   ]
  },
  {
   "cell_type": "code",
   "execution_count": 24,
   "metadata": {
    "collapsed": true
   },
   "outputs": [],
   "source": [
    "\"\"\" \n",
    "Full genome scan was used in the recent paper by Krulyak's lab. Using their eQTLs is ok whenever it doesn't require simultaneous analysis of pQTLs.\n",
    "To make use of all datasets that we have, we decided to interpolate inheritance patterns of the old markers by the new ones.\n",
    "The algorithm is simple: just choose the label of the nearest new marker.   \n",
    "\"\"\"\n",
    "\n",
    "old_gen_df = pd.read_table(\"./supplementary_materials/josh_formatted_genotypes.csv\")[[\"RQTL_name\", \"name\", \"chromosome\", \"position\", \"sequence\"]]\n",
    "new_gen_df = pd.read_table(\"./data/kruglyak_2018/genotypes_2018.csv\")\n",
    "new_markers = new_gen_df.columns[1:]"
   ]
  },
  {
   "cell_type": "code",
   "execution_count": 64,
   "metadata": {},
   "outputs": [
    {
     "name": "stderr",
     "output_type": "stream",
     "text": [
      "\r  0%|          | 0/6580 [00:00<?, ?it/s]"
     ]
    },
    {
     "name": "stderr",
     "output_type": "stream",
     "text": [
      "\r  1%|          | 55/6580 [00:00<00:12, 543.64it/s]"
     ]
    },
    {
     "name": "stderr",
     "output_type": "stream",
     "text": [
      "\r  2%|▏         | 123/6580 [00:00<00:11, 577.13it/s]"
     ]
    },
    {
     "name": "stderr",
     "output_type": "stream",
     "text": [
      "\r  3%|▎         | 205/6580 [00:00<00:10, 632.47it/s]"
     ]
    },
    {
     "name": "stderr",
     "output_type": "stream",
     "text": [
      "\r  4%|▍         | 267/6580 [00:00<00:10, 628.60it/s]"
     ]
    },
    {
     "name": "stderr",
     "output_type": "stream",
     "text": [
      "\r  5%|▌         | 330/6580 [00:00<00:09, 625.97it/s]"
     ]
    },
    {
     "name": "stderr",
     "output_type": "stream",
     "text": [
      "\r  6%|▌         | 397/6580 [00:00<00:09, 636.80it/s]"
     ]
    },
    {
     "name": "stderr",
     "output_type": "stream",
     "text": [
      "\r  7%|▋         | 456/6580 [00:00<00:10, 570.52it/s]"
     ]
    },
    {
     "name": "stderr",
     "output_type": "stream",
     "text": [
      "\r  8%|▊         | 523/6580 [00:00<00:10, 595.13it/s]"
     ]
    },
    {
     "name": "stderr",
     "output_type": "stream",
     "text": [
      "\r  9%|▉         | 594/6580 [00:00<00:09, 624.91it/s]"
     ]
    },
    {
     "name": "stderr",
     "output_type": "stream",
     "text": [
      "\r 10%|█         | 659/6580 [00:01<00:09, 631.15it/s]"
     ]
    },
    {
     "name": "stderr",
     "output_type": "stream",
     "text": [
      "\r 11%|█         | 722/6580 [00:01<00:10, 566.20it/s]"
     ]
    },
    {
     "name": "stderr",
     "output_type": "stream",
     "text": [
      "\r 12%|█▏        | 780/6580 [00:01<00:11, 518.85it/s]"
     ]
    },
    {
     "name": "stderr",
     "output_type": "stream",
     "text": [
      "\r 13%|█▎        | 846/6580 [00:01<00:10, 552.68it/s]"
     ]
    },
    {
     "name": "stderr",
     "output_type": "stream",
     "text": [
      "\r 14%|█▍        | 925/6580 [00:01<00:09, 607.19it/s]"
     ]
    },
    {
     "name": "stderr",
     "output_type": "stream",
     "text": [
      "\r 15%|█▌        | 1013/6580 [00:01<00:08, 668.94it/s]"
     ]
    },
    {
     "name": "stderr",
     "output_type": "stream",
     "text": [
      "\r 17%|█▋        | 1092/6580 [00:01<00:07, 701.14it/s]"
     ]
    },
    {
     "name": "stderr",
     "output_type": "stream",
     "text": [
      "\r 18%|█▊        | 1181/6580 [00:01<00:07, 746.58it/s]"
     ]
    },
    {
     "name": "stderr",
     "output_type": "stream",
     "text": [
      "\r 19%|█▉        | 1267/6580 [00:01<00:06, 774.69it/s]"
     ]
    },
    {
     "name": "stderr",
     "output_type": "stream",
     "text": [
      "\r 21%|██        | 1351/6580 [00:02<00:06, 791.21it/s]"
     ]
    },
    {
     "name": "stderr",
     "output_type": "stream",
     "text": [
      "\r 22%|██▏       | 1437/6580 [00:02<00:06, 809.97it/s]"
     ]
    },
    {
     "name": "stderr",
     "output_type": "stream",
     "text": [
      "\r 23%|██▎       | 1520/6580 [00:02<00:06, 801.97it/s]"
     ]
    },
    {
     "name": "stderr",
     "output_type": "stream",
     "text": [
      "\r 24%|██▍       | 1606/6580 [00:02<00:06, 817.49it/s]"
     ]
    },
    {
     "name": "stderr",
     "output_type": "stream",
     "text": [
      "\r 26%|██▌       | 1693/6580 [00:02<00:05, 831.77it/s]"
     ]
    },
    {
     "name": "stderr",
     "output_type": "stream",
     "text": [
      "\r 27%|██▋       | 1777/6580 [00:02<00:05, 827.50it/s]"
     ]
    },
    {
     "name": "stderr",
     "output_type": "stream",
     "text": [
      "\r 28%|██▊       | 1865/6580 [00:02<00:05, 841.80it/s]"
     ]
    },
    {
     "name": "stderr",
     "output_type": "stream",
     "text": [
      "\r 30%|██▉       | 1950/6580 [00:02<00:05, 839.32it/s]"
     ]
    },
    {
     "name": "stderr",
     "output_type": "stream",
     "text": [
      "\r 31%|███       | 2045/6580 [00:02<00:05, 868.23it/s]"
     ]
    },
    {
     "name": "stderr",
     "output_type": "stream",
     "text": [
      "\r 32%|███▏      | 2133/6580 [00:02<00:05, 863.84it/s]"
     ]
    },
    {
     "name": "stderr",
     "output_type": "stream",
     "text": [
      "\r 34%|███▎      | 2220/6580 [00:03<00:05, 839.90it/s]"
     ]
    },
    {
     "name": "stderr",
     "output_type": "stream",
     "text": [
      "\r 35%|███▌      | 2305/6580 [00:03<00:05, 804.71it/s]"
     ]
    },
    {
     "name": "stderr",
     "output_type": "stream",
     "text": [
      "\r 36%|███▋      | 2387/6580 [00:03<00:05, 781.20it/s]"
     ]
    },
    {
     "name": "stderr",
     "output_type": "stream",
     "text": [
      "\r 38%|███▊      | 2476/6580 [00:03<00:05, 810.30it/s]"
     ]
    },
    {
     "name": "stderr",
     "output_type": "stream",
     "text": [
      "\r 39%|███▉      | 2563/6580 [00:03<00:04, 825.54it/s]"
     ]
    },
    {
     "name": "stderr",
     "output_type": "stream",
     "text": [
      "\r 40%|████      | 2656/6580 [00:03<00:04, 853.88it/s]"
     ]
    },
    {
     "name": "stderr",
     "output_type": "stream",
     "text": [
      "\r 42%|████▏     | 2751/6580 [00:03<00:04, 878.14it/s]"
     ]
    },
    {
     "name": "stderr",
     "output_type": "stream",
     "text": [
      "\r 43%|████▎     | 2840/6580 [00:03<00:04, 878.51it/s]"
     ]
    },
    {
     "name": "stderr",
     "output_type": "stream",
     "text": [
      "\r 45%|████▍     | 2933/6580 [00:03<00:04, 892.47it/s]"
     ]
    },
    {
     "name": "stderr",
     "output_type": "stream",
     "text": [
      "\r 46%|████▌     | 3023/6580 [00:03<00:04, 874.17it/s]"
     ]
    },
    {
     "name": "stderr",
     "output_type": "stream",
     "text": [
      "\r 47%|████▋     | 3115/6580 [00:04<00:03, 884.95it/s]"
     ]
    },
    {
     "name": "stderr",
     "output_type": "stream",
     "text": [
      "\r 49%|████▉     | 3208/6580 [00:04<00:03, 893.19it/s]"
     ]
    },
    {
     "name": "stderr",
     "output_type": "stream",
     "text": [
      "\r 50%|█████     | 3299/6580 [00:04<00:03, 896.58it/s]"
     ]
    },
    {
     "name": "stderr",
     "output_type": "stream",
     "text": [
      "\r 52%|█████▏    | 3389/6580 [00:04<00:03, 885.90it/s]"
     ]
    },
    {
     "name": "stderr",
     "output_type": "stream",
     "text": [
      "\r 53%|█████▎    | 3478/6580 [00:04<00:03, 877.39it/s]"
     ]
    },
    {
     "name": "stderr",
     "output_type": "stream",
     "text": [
      "\r 54%|█████▍    | 3573/6580 [00:04<00:03, 897.03it/s]"
     ]
    },
    {
     "name": "stderr",
     "output_type": "stream",
     "text": [
      "\r 56%|█████▌    | 3664/6580 [00:04<00:03, 898.37it/s]"
     ]
    },
    {
     "name": "stderr",
     "output_type": "stream",
     "text": [
      "\r 57%|█████▋    | 3754/6580 [00:04<00:03, 893.23it/s]"
     ]
    },
    {
     "name": "stderr",
     "output_type": "stream",
     "text": [
      "\r 58%|█████▊    | 3845/6580 [00:04<00:03, 895.52it/s]"
     ]
    },
    {
     "name": "stderr",
     "output_type": "stream",
     "text": [
      "\r 60%|█████▉    | 3935/6580 [00:04<00:02, 890.85it/s]"
     ]
    },
    {
     "name": "stderr",
     "output_type": "stream",
     "text": [
      "\r 61%|██████    | 4029/6580 [00:05<00:02, 902.25it/s]"
     ]
    },
    {
     "name": "stderr",
     "output_type": "stream",
     "text": [
      "\r 63%|██████▎   | 4120/6580 [00:05<00:02, 890.71it/s]"
     ]
    },
    {
     "name": "stderr",
     "output_type": "stream",
     "text": [
      "\r 64%|██████▍   | 4214/6580 [00:05<00:02, 904.81it/s]"
     ]
    },
    {
     "name": "stderr",
     "output_type": "stream",
     "text": [
      "\r 65%|██████▌   | 4306/6580 [00:05<00:02, 906.82it/s]"
     ]
    },
    {
     "name": "stderr",
     "output_type": "stream",
     "text": [
      "\r 67%|██████▋   | 4397/6580 [00:05<00:02, 890.17it/s]"
     ]
    },
    {
     "name": "stderr",
     "output_type": "stream",
     "text": [
      "\r 68%|██████▊   | 4495/6580 [00:05<00:02, 914.53it/s]"
     ]
    },
    {
     "name": "stderr",
     "output_type": "stream",
     "text": [
      "\r 70%|██████▉   | 4587/6580 [00:05<00:02, 904.61it/s]"
     ]
    },
    {
     "name": "stderr",
     "output_type": "stream",
     "text": [
      "\r 71%|███████   | 4680/6580 [00:05<00:02, 910.08it/s]"
     ]
    },
    {
     "name": "stderr",
     "output_type": "stream",
     "text": [
      "\r 73%|███████▎  | 4772/6580 [00:05<00:01, 905.36it/s]"
     ]
    },
    {
     "name": "stderr",
     "output_type": "stream",
     "text": [
      "\r 74%|███████▍  | 4863/6580 [00:06<00:01, 894.56it/s]"
     ]
    },
    {
     "name": "stderr",
     "output_type": "stream",
     "text": [
      "\r 75%|███████▌  | 4961/6580 [00:06<00:01, 917.13it/s]"
     ]
    },
    {
     "name": "stderr",
     "output_type": "stream",
     "text": [
      "\r 77%|███████▋  | 5053/6580 [00:06<00:01, 914.23it/s]"
     ]
    },
    {
     "name": "stderr",
     "output_type": "stream",
     "text": [
      "\r 78%|███████▊  | 5145/6580 [00:06<00:01, 915.21it/s]"
     ]
    },
    {
     "name": "stderr",
     "output_type": "stream",
     "text": [
      "\r 80%|███████▉  | 5237/6580 [00:06<00:01, 916.01it/s]"
     ]
    },
    {
     "name": "stderr",
     "output_type": "stream",
     "text": [
      "\r 81%|████████  | 5329/6580 [00:06<00:01, 861.18it/s]"
     ]
    },
    {
     "name": "stderr",
     "output_type": "stream",
     "text": [
      "\r 82%|████████▏ | 5416/6580 [00:06<00:01, 837.61it/s]"
     ]
    },
    {
     "name": "stderr",
     "output_type": "stream",
     "text": [
      "\r 84%|████████▎ | 5503/6580 [00:06<00:01, 846.88it/s]"
     ]
    },
    {
     "name": "stderr",
     "output_type": "stream",
     "text": [
      "\r 85%|████████▌ | 5595/6580 [00:06<00:01, 866.79it/s]"
     ]
    },
    {
     "name": "stderr",
     "output_type": "stream",
     "text": [
      "\r 86%|████████▋ | 5683/6580 [00:06<00:01, 865.01it/s]"
     ]
    },
    {
     "name": "stderr",
     "output_type": "stream",
     "text": [
      "\r 88%|████████▊ | 5781/6580 [00:07<00:00, 896.03it/s]"
     ]
    },
    {
     "name": "stderr",
     "output_type": "stream",
     "text": [
      "\r 89%|████████▉ | 5876/6580 [00:07<00:00, 910.57it/s]"
     ]
    },
    {
     "name": "stderr",
     "output_type": "stream",
     "text": [
      "\r 91%|█████████ | 5968/6580 [00:07<00:00, 900.12it/s]"
     ]
    },
    {
     "name": "stderr",
     "output_type": "stream",
     "text": [
      "\r 92%|█████████▏| 6059/6580 [00:07<00:00, 901.03it/s]"
     ]
    },
    {
     "name": "stderr",
     "output_type": "stream",
     "text": [
      "\r 93%|█████████▎| 6150/6580 [00:07<00:00, 897.15it/s]"
     ]
    },
    {
     "name": "stderr",
     "output_type": "stream",
     "text": [
      "\r 95%|█████████▍| 6246/6580 [00:07<00:00, 914.12it/s]"
     ]
    },
    {
     "name": "stderr",
     "output_type": "stream",
     "text": [
      "\r 96%|█████████▋| 6344/6580 [00:07<00:00, 930.45it/s]"
     ]
    },
    {
     "name": "stderr",
     "output_type": "stream",
     "text": [
      "\r 98%|█████████▊| 6438/6580 [00:07<00:00, 922.54it/s]"
     ]
    },
    {
     "name": "stderr",
     "output_type": "stream",
     "text": [
      "\r 99%|█████████▉| 6531/6580 [00:07<00:00, 909.88it/s]"
     ]
    },
    {
     "name": "stderr",
     "output_type": "stream",
     "text": [
      "\r100%|██████████| 6580/6580 [00:07<00:00, 828.96it/s]"
     ]
    },
    {
     "name": "stderr",
     "output_type": "stream",
     "text": [
      "\n\r  0%|          | 0/1311 [00:00<?, ?it/s]"
     ]
    },
    {
     "name": "stderr",
     "output_type": "stream",
     "text": [
      "\r 12%|█▏        | 160/1311 [00:00<00:00, 1599.08it/s]"
     ]
    },
    {
     "name": "stderr",
     "output_type": "stream",
     "text": [
      "\r 25%|██▌       | 332/1311 [00:00<00:00, 1631.82it/s]"
     ]
    },
    {
     "name": "stderr",
     "output_type": "stream",
     "text": [
      "\r 37%|███▋      | 482/1311 [00:00<00:00, 1587.99it/s]"
     ]
    },
    {
     "name": "stderr",
     "output_type": "stream",
     "text": [
      "\r 50%|████▉     | 649/1311 [00:00<00:00, 1609.43it/s]"
     ]
    },
    {
     "name": "stderr",
     "output_type": "stream",
     "text": [
      "\r 61%|██████▏   | 806/1311 [00:00<00:00, 1597.18it/s]"
     ]
    },
    {
     "name": "stderr",
     "output_type": "stream",
     "text": [
      "\r 75%|███████▍  | 978/1311 [00:00<00:00, 1631.72it/s]"
     ]
    },
    {
     "name": "stderr",
     "output_type": "stream",
     "text": [
      "\r 88%|████████▊ | 1152/1311 [00:00<00:00, 1662.38it/s]"
     ]
    },
    {
     "name": "stderr",
     "output_type": "stream",
     "text": [
      "\r100%|██████████| 1311/1311 [00:00<00:00, 1636.73it/s]"
     ]
    },
    {
     "name": "stderr",
     "output_type": "stream",
     "text": [
      "\n"
     ]
    },
    {
     "data": {
      "text/plain": [
       "defaultdict(collections.Counter,\n            {'eQTLs': Counter({False: 3884, True: 2696}),\n             'pQTLs': Counter({False: 652, True: 659})})"
      ]
     },
     "execution_count": 64,
     "metadata": {},
     "output_type": "execute_result"
    }
   ],
   "source": [
    "\"\"\" The total number of genes with linkages is calculated here. \"\"\"\n",
    "\n",
    "has_linkages = collections.defaultdict(collections.Counter)\n",
    "for qtl_type, qtl_df in [(\"eQTLs\", qtls_df[\"eQTLs_old\"]), (\"pQTLs\", qtls_df[\"pQTLs\"])]:\n",
    "    for gene_name in tqdm(expression_df[\"eQTLs_old\"][\"gene\"] if qtl_type == \"eQTLs\" else expression_df[\"pQTLs\"][\"gene\"]):\n",
    "        has_linkages[qtl_type][len(qtls.linked_markers(qtl_df, [gene_name])) > 0] += 1\n",
    "has_linkages"
   ]
  },
  {
   "cell_type": "code",
   "execution_count": 25,
   "metadata": {},
   "outputs": [
    {
     "name": "stdout",
     "output_type": "stream",
     "text": [
      "[('chrXI:644029', 123), ('chrXV:33217', 87), ('chrI:33040', 65), ('chrVIII:13065', 44), ('chrX:26108', 35), ('chrVII:25442', 29), ('chrVII:1068842', 26), ('chrIX:424980', 24), ('chrI:202663', 23), ('chrIV:527743', 16)]\nCPU times: user 1.01 s, sys: 17.3 ms, total: 1.03 s\nWall time: 974 ms\n"
     ]
    }
   ],
   "source": [
    "\n",
    "%%time\n",
    "\n",
    " # Chromosomes are enumerated in roman numerals in the new data \n",
    "roman2arabic = {\"I\":1, \"II\":2, \"III\":3, \"IV\":4, \"V\":5, \"VI\":6, \"VII\":7, \"VIII\":8, \"IX\":9, \"X\":10, \"XI\":11, \"XII\":12, \"XIII\":13, \"XIV\":14, \"XV\":15, \"XVI\":16}\n",
    "arabic2roman = {val:key for key, val in roman2arabic.items()}\n",
    "\n",
    "# Binary search \n",
    "def find_nearest(array, value):\n",
    "    idx = np.searchsorted(array, value, side=\"left\")\n",
    "    shift = idx > 0 and (idx == len(array) or np.fabs(value - array[idx-1]) < np.fabs(value - array[idx]))\n",
    "    return array[idx - shift]\n",
    "\n",
    "# Markers get grouped by chromosome. Their genetic coordinates are sorted inside each group.\n",
    "# After that, the groups are merged into one big list, that is stored on disk.\n",
    "old_chr2markpos = {n : old_gen_df.groupby(by=\"chromosome\").get_group(n) for n in range(1, 17)}\n",
    "new_chr2markpos = collections.defaultdict(list)\n",
    "for marker in new_markers:\n",
    "    position, type = marker.split('_')\n",
    "    chromosome, gencoord = position.split(\":\")\n",
    "    new_chr2markpos[roman2arabic[chromosome[3:]]].append(int(gencoord))\n",
    "short2full = {colname.split(\"_\")[0] : colname for colname in new_gen_df.columns[1:]}\n",
    "\n",
    "\n",
    "# For each of the old markers find the nearest new marker. \n",
    "old_markers2new_markers = {}\n",
    "# Remember the distance between them to analyze the distribution later.\n",
    "min_distances = []\n",
    "for n in range(1, 17):\n",
    "    new_chr2markpos[n].sort()\n",
    "    for index, row in old_chr2markpos[n].iterrows():\n",
    "        nearest_position = find_nearest(new_chr2markpos[n], int(row[\"position\"]))\n",
    "        old_markers2new_markers[row[\"RQTL_name\"]] = \"chr{}:{}\".format(arabic2roman[n], nearest_position)\n",
    "        min_distances.append(abs(int(row[\"position\"]) - nearest_position))\n",
    "# Calculate how often each of new markers turned out to be the nearest one.\n",
    "occurences = collections.Counter(old_markers2new_markers.values())\n",
    "print(\"{}\".format(occurences.most_common(10))) "
   ]
  },
  {
   "cell_type": "code",
   "execution_count": 6,
   "metadata": {
    "collapsed": true
   },
   "outputs": [
    {
     "data": {
      "image/png": "[encoded data removed]",
      "text/plain": [
       "<Figure size 1440x720 with 1 Axes>"
      ]
     },
     "metadata": {},
     "output_type": "display_data"
    }
   ],
   "source": [
    "\"\"\" How close are old markers to new ones, on average and in general? \"\"\"\n",
    "\n",
    "plt.figure(figsize=(20, 10))\n",
    "counts, bins, patches = plt.hist(min_distances, alpha=0.8, bins=util.bincount_scott(min_distances), edgecolor=\"black\", linewidth=1.2)\n",
    "plt.title(\"Distance to nearest new marker\", fontsize=30)\n",
    "plt.xticks(bins, fontsize=15, rotation=\"vertical\")\n",
    "plt.xlabel(\"Distance in genomic coordiantes\", fontsize=25)\n",
    "plt.yticks(fontsize=15)\n",
    "plt.ylabel(\"Number of markers\", fontsize=25)\n",
    "plt.savefig(\"./img/distance_to_new_markers.png\", dpi=300)\n",
    "plt.show()\n",
    "\n",
    "pd.DataFrame(list(zip(np.round(bins), counts)), columns=[\"bin_left_border\", \"num_markers\"]).to_csv(\"./img/distance_to_new_markers.csv\", sep='\\t', index=False)"
   ]
  },
  {
   "cell_type": "code",
   "execution_count": 9,
   "metadata": {},
   "outputs": [
    {
     "name": "stdout",
     "output_type": "stream",
     "text": [
      "CPU times: user 4.38 s, sys: 80 ms, total: 4.46 s\nWall time: 4.58 s\n"
     ]
    }
   ],
   "source": [
    "\"\"\" Dump the interpolated genotypes on disc. \"\"\"\n",
    "\n",
    "%%time\n",
    "\n",
    "predicted_rows = []\n",
    "for old_marker, nearest_new in old_markers2new_markers.items():\n",
    "    predicted_rows.append(np.hstack((old_marker, new_gen_df[short2full[nearest_new]].values + 1)))\n",
    "predicted_df = pd.DataFrame(predicted_rows, columns=np.hstack((\"SNP\", new_gen_df[\"strain\"])))\n",
    "predicted_df.to_csv(\"./data/eQTLs/interpolated_genotypes.csv\", sep='\\t', index=False)\n"
   ]
  },
  {
   "cell_type": "code",
   "execution_count": null,
   "metadata": {},
   "outputs": [],
   "source": []
  },
  {
   "cell_type": "markdown",
   "metadata": {},
   "source": [
    "## Analyzing new data: eQTLs"
   ]
  },
  {
   "cell_type": "code",
   "execution_count": 4,
   "metadata": {},
   "outputs": [
    {
     "data": {
      "text/plain": [
       "3672"
      ]
     },
     "execution_count": 4,
     "metadata": {},
     "output_type": "execute_result"
    }
   ],
   "source": [
    "\"\"\" How many eQTLs are in both real and interpolated data? \"\"\"\n",
    "\n",
    "len(np.intersect1d(\n",
    "    list(map(tuple, qtls_df[\"eQTLs_interpolated\"][[\"SNP\", \"gene\"]].values)), \n",
    "    list(map(tuple, qtls_df[\"eQTLs_old\"][[\"SNP\", \"gene\"]].values))\n",
    "))"
   ]
  },
  {
   "cell_type": "code",
   "execution_count": 127,
   "metadata": {
    "collapsed": false
   },
   "outputs": [
    {
     "data": {
      "image/png": "[encoded data removed]",
      "text/plain": [
       "<Figure size 2160x720 with 1 Axes>"
      ]
     },
     "metadata": {},
     "output_type": "display_data"
    },
    {
     "name": "stdout",
     "output_type": "stream",
     "text": [
      "CPU times: user 3.2 s, sys: 59.9 ms, total: 3.26 s\nWall time: 2.64 s\n"
     ]
    }
   ],
   "source": [
    "%%time\n",
    "\"\"\" Plot the distributions of each QTL dataset\"\"\"\n",
    "reload(qtls)\n",
    "\n",
    "roman2arabic = {\"I\":1, \"II\":2, \"III\":3, \"IV\":4, \"V\":5, \"VI\":6, \"VII\":7, \"VIII\":8, \"IX\":9, \"X\":10, \"XI\":11, \"XII\":12, \"XIII\":13, \"XIV\":14, \"XV\":15, \"XVI\":16}\n",
    "arabic2roman = {val:key for key, val in roman2arabic.items()}\n",
    "\n",
    "q_value_threshold = 1e-3\n",
    "with open(\"./data/genotypes/order_of_markers.pkl\", \"rb\") as pickle_file:\n",
    "    marker2location = pickle.load(pickle_file)\n",
    "with open(\"./data/genotypes/chromosome_endpoints.pkl\", \"rb\") as pickle_file:\n",
    "    chromosome_endpoints = pickle.load(pickle_file)\n",
    "\n",
    "old_eQTL_markers, old_eQTL_y = qtls.linkages2gencoords(qtls_df[\"eQTLs_old\"])\n",
    "interpolated_eQTL_markers, interpolated_eQTL_y = qtls.linkages2gencoords(qtls_df[\"eQTLs_interpolated\"].query(\"q_value <= {}\".format(q_value_threshold)))\n",
    "new_eQTL_markers, new_eQTL_y = qtls.linkages2gencoords(qtls_df[\"eQTLs_new\"])\n",
    "pQTL_markers, pQTL_y = qtls.linkages2gencoords(qtls_df[\"pQTLs\"])\n",
    "recomputed_old_pQTL_markers, recomputed_old_pQTL_y = qtls.linkages2gencoords(pd.DataFrame(np.vstack(qtl_list), columns=[\"SNP\", \"gene\"]))\n",
    "\n",
    "old_eQTL_x = list(map(marker2location.get, old_eQTL_markers))\n",
    "interpolated_eQTL_x = list(map(marker2location.get, interpolated_eQTL_markers))\n",
    "new_eQTL_x = list(map(marker2location.get, new_eQTL_markers))\n",
    "pQTL_x = list(map(marker2location.get, pQTL_markers))\n",
    "recomputed_old_pQTL_x = list(map(marker2location.get, recomputed_old_pQTL_markers)) \n",
    "\n",
    "colors_dict = dict(zip([\"old_eQTLs\", \"interpolated_eQTLs\", \"new_eQTLs\", \"pQTLs\", \"recomputed_old_pQTLs\"], plt.rcParams['axes.prop_cycle'].by_key()['color'][:5]))\n",
    "\n",
    "plt.figure(figsize=(30, 10))\n",
    "plt.title(\"Distribution of QTLs over genome\".format(q_value_threshold * 100.), fontsize=30)\n",
    "for n in range(1, 16):\n",
    "    plt.axvline(x=chromosome_endpoints[n], linestyle='--', color='grey', alpha=0.8)\n",
    "    plt.text(chromosome_endpoints[n], 200, arabic2roman[n], fontsize=15)\n",
    "# plt.plot(old_eQTL_x, old_eQTL_y, label=\"old_eQTLs\", color=colors_dict[\"old_eQTLs\"])\n",
    "# plt.fill_between(old_eQTL_x, 0, old_eQTL_y, alpha=0.5, color=colors_dict[\"old_eQTLs\"])\n",
    "# chunks = np.linspace(0, chromosome_endpoints[16], 100)\n",
    "# vals = np.zeros(len(chunks))\n",
    "# for i in range(len(chunks) - 1):\n",
    "#     vals[i] = sum((chunks[i] < val < chunks[i + 1] for val in interpolated_eQTL_x))\n",
    "# plt.step(chunks, -vals, label=\"markers in chunk\", color=plt.rcParams[\"axes.prop_cycle\"].by_key()[\"color\"][0])\n",
    "# plt.plot(interpolated_eQTL_x, -interpolated_eQTL_y, label=\"interpolated_eQTLs\", alpha=0.7, color=colors_dict[\"interpolated_eQTLs\"])\n",
    "# plt.fill_between(interpolated_eQTL_x, -interpolated_eQTL_y, 0, alpha=0.5, color=colors_dict[\"interpolated_eQTLs\"])\n",
    "# plt.plot(new_eQTL_x, -new_eQTL_y, label=\"new_eQTLs\", alpha=1, color=colors_dict[\"new_eQTLs\"])\n",
    "# plt.fill_between(new_eQTL_x, -new_eQTL_y, 0, alpha=0.7, color=colors_dict[\"new_eQTLs\"])\n",
    "plt.plot(pQTL_x, pQTL_y, label=\"pQTLs\", alpha=0.7, color=colors_dict[\"pQTLs\"])\n",
    "plt.fill_between(pQTL_x, 0, pQTL_y, alpha=0.5, color=colors_dict[\"pQTLs\"])\n",
    "plt.plot(recomputed_old_pQTL_x, -recomputed_old_pQTL_y, label=\"old_pQTLs_recomputed\", alpha=1, color=colors_dict[\"recomputed_old_pQTLs\"])\n",
    "plt.fill_between(recomputed_old_pQTL_x, -recomputed_old_pQTL_y, 0, alpha=0.7, color=colors_dict[\"recomputed_old_pQTLs\"])\n",
    "plt.xlabel(\"Genomic coordinates\", fontsize=25)\n",
    "plt.ylabel(\"Number of linkages (abs. value)\", fontsize=25)\n",
    "plt.xticks(fontsize=20)\n",
    "plt.yticks(fontsize=20)\n",
    "plt.legend(fontsize=20, loc=4)\n",
    "plt.grid(linestyle=\"dotted\")\n",
    "plt.savefig(\"./img/qtl_distributions/qtls_combined.png\", dpi=300)\n",
    "plt.show()\n"
   ]
  },
  {
   "cell_type": "code",
   "execution_count": 157,
   "metadata": {
    "collapsed": true
   },
   "outputs": [
    {
     "ename": "NameError",
     "evalue": "name 'modules_dict' is not defined",
     "traceback": [
      "\u001b[0;31m---------------------------------------------------------------------------\u001b[0m",
      "\u001b[0;31mNameError\u001b[0m                                 Traceback (most recent call last)",
      "\u001b[0;32m<ipython-input-157-0dd7437016dd>\u001b[0m in \u001b[0;36m<module>\u001b[0;34m()\u001b[0m\n\u001b[0;32m----> 1\u001b[0;31m \u001b[0;32mfor\u001b[0m \u001b[0mmodule_name\u001b[0m\u001b[0;34m,\u001b[0m \u001b[0mmodule_genes\u001b[0m \u001b[0;32min\u001b[0m \u001b[0mtqdm\u001b[0m\u001b[0;34m(\u001b[0m\u001b[0mmodules_dict\u001b[0m\u001b[0;34m.\u001b[0m\u001b[0mitems\u001b[0m\u001b[0;34m(\u001b[0m\u001b[0;34m)\u001b[0m\u001b[0;34m)\u001b[0m\u001b[0;34m:\u001b[0m\u001b[0;34m\u001b[0m\u001b[0m\n\u001b[0m\u001b[1;32m      2\u001b[0m     module_graph = interactome_graph.subgraph(\n\u001b[1;32m      3\u001b[0m         \u001b[0mnp\u001b[0m\u001b[0;34m.\u001b[0m\u001b[0mintersect1d\u001b[0m\u001b[0;34m(\u001b[0m\u001b[0mmodule_genes\u001b[0m\u001b[0;34m,\u001b[0m \u001b[0minteractome_graph\u001b[0m\u001b[0;34m.\u001b[0m\u001b[0mvs\u001b[0m\u001b[0;34m[\u001b[0m\u001b[0;34m\"name\"\u001b[0m\u001b[0;34m]\u001b[0m\u001b[0;34m)\u001b[0m\u001b[0;34m\u001b[0m\u001b[0m\n\u001b[1;32m      4\u001b[0m     ).simplify()\n\u001b[1;32m      5\u001b[0m     \u001b[0mmodule_graph\u001b[0m\u001b[0;34m.\u001b[0m\u001b[0mvs\u001b[0m\u001b[0;34m.\u001b[0m\u001b[0mselect\u001b[0m\u001b[0;34m(\u001b[0m\u001b[0m_degree\u001b[0m\u001b[0;34m=\u001b[0m\u001b[0;36m0\u001b[0m\u001b[0;34m)\u001b[0m\u001b[0;34m.\u001b[0m\u001b[0mdelete\u001b[0m\u001b[0;34m(\u001b[0m\u001b[0;34m)\u001b[0m\u001b[0;34m\u001b[0m\u001b[0m\n",
      "\u001b[0;31mNameError\u001b[0m: name 'modules_dict' is not defined"
     ],
     "output_type": "error"
    }
   ],
   "source": [
    "for module_name, module_genes in tqdm(modules_dict.items()):\n",
    "    module_graph = interactome_graph.subgraph(\n",
    "        np.intersect1d(module_genes, interactome_graph.vs[\"name\"])\n",
    "    ).simplify()\n",
    "    module_graph.vs.select(_degree=0).delete()\n",
    "    if module_graph.vcount() > 0:\n",
    "        qtls.plot_module_graph(\n",
    "            destdir=\"./results/{}/new_eQTLs/\".format(modules_type), \n",
    "            module_graph=module_graph, \n",
    "            qtl_df=qtls_df[\"eQTLs_new\"], \n",
    "            filename=module_name\n",
    "        )"
   ]
  },
  {
   "cell_type": "markdown",
   "metadata": {},
   "source": [
    "## ModuleQTLs: concept introduction and rationale"
   ]
  },
  {
   "cell_type": "code",
   "execution_count": 33,
   "metadata": {},
   "outputs": [],
   "source": [
    "for modules_type in [\"geneontology\", \"kegg_modules\", \"kegg_pathways\", \"thecellmap\"]:\n",
    "    old_pred_df = pd.read_table(\"./archive/{}/eQTLs_old/pQTLs_from_eQTLs.csv\".format(modules_type)).sort_values(by=\"module_name\")\n",
    "    interpolated_pred_df = pd.read_table(\"./archive/{}/eQTLs_interpolated/pQTLs_from_eQTLs.csv\".format(modules_type)).sort_values(by=\"module_name\")\n",
    "    \n",
    "    plt.figure(figsize=(20, 10))\n",
    "    plt.title(\"{}: predicting pQTLs via eQTLs & PPIN\".format(modules_type), fontsize=25)\n",
    "    plt.plot(old_pred_df[\"overlap_ratio\"].values, label=\"old_eQTLs\")\n",
    "    plt.fill_between(range(len(old_pred_df[\"overlap_ratio\"].values)), 0, old_pred_df[\"overlap_ratio\"].values, alpha=0.3)\n",
    "    plt.plot(-interpolated_pred_df[\"overlap_ratio\"].values, label=\"interpolated_eQTLs\")\n",
    "    plt.fill_between(range(len(interpolated_pred_df[\"overlap_ratio\"].values)), -interpolated_pred_df[\"overlap_ratio\"].values, 0, alpha=0.3)\n",
    "    plt.xlabel(\"Number of functional module in sorted order\", fontsize=15)\n",
    "    plt.ylabel(\"Percentage of pQTLs predicted correctly\", fontsize=15)\n",
    "    plt.legend(fontsize=15)\n",
    "    plt.savefig(\"./img/pQTL_prediction/{}_pQTLs_prediction_old_interpolated.png\".format(modules_type), dpi=300)\n",
    "    # plt.show()\n",
    "    plt.close()\n"
   ]
  },
  {
   "cell_type": "code",
   "execution_count": 35,
   "metadata": {},
   "outputs": [],
   "source": [
    "for modules_type in [\"geneontology\", \"kegg_modules\", \"kegg_pathways\", \"thecellmap\"]:\n",
    "    old_intersection_df = pd.read_table(\"./archive/{}/eQTLs_old/eQTL_pQTL_intersection.csv\".format(modules_type))\n",
    "    interpolated_intersection_df = pd.read_table(\"./archive/{}/eQTLs_interpolated/eQTL_pQTL_intersection.csv\".format(modules_type))\n",
    "    \n",
    "    plt.figure(figsize=(20, 10))\n",
    "    plt.title(\"{}: eQTL/pQTL intersection\".format(modules_type), fontsize=25)\n",
    "    plt.plot(old_intersection_df[\"q_value_cutoff\"].values, old_intersection_df[\"real_modules\"].values, label=\"old eQTLs, real modules\")\n",
    "    # plt.fill_between(range(old_intersection_df.shape[0]), 0, old_intersection_df[\"real_modules\"].values, alpha=0.3)\n",
    "    plt.plot(old_intersection_df[\"q_value_cutoff\"].values, old_intersection_df[\"random_modules\"].values, label=\"old eQTLs, random modules\")\n",
    "    # plt.fill_between(range(old_intersection_df.shape[0]), 0, old_intersection_df[\"random_modules\"].values, alpha=0.3)\n",
    "    plt.plot(interpolated_intersection_df[\"q_value_cutoff\"].values, interpolated_intersection_df[\"real_modules\"].values, label=\"interpolated eQTLs, real modules\")\n",
    "    # plt.fill_between(range(interpolated_intersection_df.shape[0]), -interpolated_intersection_df[\"real_modules\"].values, 0, alpha=0.3)\n",
    "    plt.plot(interpolated_intersection_df[\"q_value_cutoff\"].values, interpolated_intersection_df[\"random_modules\"].values, label=\"interpolated eQTLs, random modules\")\n",
    "    # plt.fill_between(range(interpolated_intersection_df.shape[0]), -interpolated_intersection_df[\"random_modules\"].values, 0, alpha=0.3)\n",
    "    plt.xscale('log')\n",
    "    plt.xlabel(\"q-value threshold\", fontsize=15)\n",
    "    plt.ylabel(\"Jaccard coefficient\", fontsize=15)\n",
    "    plt.legend(fontsize=15)\n",
    "    plt.savefig(\"./img/eQTL_pQTL_intersection/{}.png\".format(modules_type), dpi=300)\n",
    "    # plt.show()\n",
    "    plt.close()\n"
   ]
  },
  {
   "cell_type": "code",
   "execution_count": 5,
   "metadata": {
    "collapsed": true
   },
   "outputs": [
    {
     "data": {
      "image/png": "[encoded data removed]",
      "text/plain": [
       "<Figure size 1440x720 with 1 Axes>"
      ]
     },
     "metadata": {},
     "output_type": "display_data"
    }
   ],
   "source": [
    "import seaborn as sns\n",
    "\n",
    "plt.figure(figsize=(20, 10))\n",
    "frame_start = np.random.RandomState().choice(range(1, genotypes_df[\"eQTLs_new\"].shape[1] // 2))\n",
    "frame_end = frame_start + 10\n",
    "genotype_rows = genotypes_df[\"eQTLs_new\"].iloc[:, frame_start:frame_end].values.T\n",
    "genotype_rows[genotype_rows == 2] = 1\n",
    "# genotype_rows += stats.uniform().rvs(size=genotype_rows.shape)\n",
    "sns.heatmap(genotype_rows, xticklabels=False, yticklabels=False, cbar=False, cmap=\"Greys\");\n",
    "plt.savefig(\"./img/inheritance_patterns\")\n",
    "# plt.show()\n"
   ]
  },
  {
   "cell_type": "code",
   "execution_count": 28,
   "metadata": {
    "collapsed": true
   },
   "outputs": [
    {
     "data": {
      "image/png": "[encoded data removed]",
      "text/plain": [
       "<Figure size 1440x720 with 1 Axes>"
      ]
     },
     "metadata": {},
     "output_type": "display_data"
    }
   ],
   "source": [
    "qtls_df[\"eQTLs_new_generated\"] = pd.read_table(\"./data/eQTLs/new_qtls_from_scratch.csv\")\n",
    "qtls_df[\"eQTLs_new_generated\"].columns = [\"SNP\", \"gene\", \"p_value\", \"q_value\"] \n"
   ]
  },
  {
   "cell_type": "code",
   "execution_count": 70,
   "metadata": {
    "collapsed": true
   },
   "outputs": [
    {
     "data": {
      "image/png": "[encoded data removed]",
      "text/plain": [
       "<Figure size 1440x720 with 1 Axes>"
      ]
     },
     "metadata": {},
     "output_type": "display_data"
    }
   ],
   "source": [
    "plt.figure(figsize=(20, 10))\n",
    "plt.title(\"Distribution of q-values of old eQTLs\", fontsize=25)\n",
    "plt.xscale(\"log\")\n",
    "sns.set(color_codes=True)\n",
    "sns.distplot(bins=10.**np.arange(-16, -1), a=qtls_df[\"pQTLs\"][\"q_value\"], kde=False)\n",
    "plt.xticks(fontsize=20)\n",
    "plt.yticks(fontsize=20)\n",
    "plt.savefig(\"./img/qtl_computing/pQTLs_old.png\", dpi=300)\n",
    "plt.show()\n",
    "plt.close()\n"
   ]
  },
  {
   "cell_type": "code",
   "execution_count": 96,
   "metadata": {},
   "outputs": [],
   "source": [
    "fdr_cutoffs = np.append(10. ** np.arange(-16, -1), 0.05)\n",
    "i = 0\n",
    "partial_leq = np.zeros_like(fdr_cutoffs)\n",
    "for i, q_thr in enumerate(fdr_cutoffs):\n",
    "    partial_leq[i] = len(\n",
    "        set(map(tuple, qtls_df[\"eQTLs_old\"].query(\"q_value <= {}\".format(q_thr))[[\"SNP\", \"gene\"]].values)) & \n",
    "        set(map(tuple, qtls_df[\"pQTLs\"].query(\"q_value <= {}\".format(q_thr))[[\"SNP\", \"gene\"]].values))\n",
    "    )\n",
    "partial_leq = np.cumsum(partial_leq)"
   ]
  },
  {
   "cell_type": "code",
   "execution_count": 97,
   "metadata": {},
   "outputs": [
    {
     "data": {
      "text/html": [
       "<div>\n",
       "<style scoped>\n",
       "    .dataframe tbody tr th:only-of-type {\n",
       "        vertical-align: middle;\n",
       "    }\n",
       "\n",
       "    .dataframe tbody tr th {\n",
       "        vertical-align: top;\n",
       "    }\n",
       "\n",
       "    .dataframe thead th {\n",
       "        text-align: right;\n",
       "    }\n",
       "</style>\n",
       "<table border=\"1\" class=\"dataframe\">\n",
       "  <thead>\n",
       "    <tr style=\"text-align: right;\">\n",
       "      <th></th>\n",
       "      <th>q_value_threshold</th>\n",
       "      <th>linkages_below</th>\n",
       "    </tr>\n",
       "  </thead>\n",
       "  <tbody>\n",
       "    <tr>\n",
       "      <th>0</th>\n",
       "      <td>1.000000e-16</td>\n",
       "      <td>0.0</td>\n",
       "    </tr>\n",
       "    <tr>\n",
       "      <th>1</th>\n",
       "      <td>1.000000e-15</td>\n",
       "      <td>0.0</td>\n",
       "    </tr>\n",
       "    <tr>\n",
       "      <th>2</th>\n",
       "      <td>1.000000e-14</td>\n",
       "      <td>0.0</td>\n",
       "    </tr>\n",
       "    <tr>\n",
       "      <th>3</th>\n",
       "      <td>1.000000e-13</td>\n",
       "      <td>0.0</td>\n",
       "    </tr>\n",
       "    <tr>\n",
       "      <th>4</th>\n",
       "      <td>1.000000e-12</td>\n",
       "      <td>0.0</td>\n",
       "    </tr>\n",
       "    <tr>\n",
       "      <th>5</th>\n",
       "      <td>1.000000e-11</td>\n",
       "      <td>9.0</td>\n",
       "    </tr>\n",
       "    <tr>\n",
       "      <th>6</th>\n",
       "      <td>1.000000e-10</td>\n",
       "      <td>33.0</td>\n",
       "    </tr>\n",
       "    <tr>\n",
       "      <th>7</th>\n",
       "      <td>1.000000e-09</td>\n",
       "      <td>63.0</td>\n",
       "    </tr>\n",
       "    <tr>\n",
       "      <th>8</th>\n",
       "      <td>1.000000e-08</td>\n",
       "      <td>119.0</td>\n",
       "    </tr>\n",
       "    <tr>\n",
       "      <th>9</th>\n",
       "      <td>1.000000e-07</td>\n",
       "      <td>190.0</td>\n",
       "    </tr>\n",
       "    <tr>\n",
       "      <th>10</th>\n",
       "      <td>1.000000e-06</td>\n",
       "      <td>302.0</td>\n",
       "    </tr>\n",
       "    <tr>\n",
       "      <th>11</th>\n",
       "      <td>1.000000e-05</td>\n",
       "      <td>442.0</td>\n",
       "    </tr>\n",
       "    <tr>\n",
       "      <th>12</th>\n",
       "      <td>1.000000e-04</td>\n",
       "      <td>704.0</td>\n",
       "    </tr>\n",
       "    <tr>\n",
       "      <th>13</th>\n",
       "      <td>1.000000e-03</td>\n",
       "      <td>1222.0</td>\n",
       "    </tr>\n",
       "    <tr>\n",
       "      <th>14</th>\n",
       "      <td>1.000000e-02</td>\n",
       "      <td>2223.0</td>\n",
       "    </tr>\n",
       "    <tr>\n",
       "      <th>15</th>\n",
       "      <td>5.000000e-02</td>\n",
       "      <td>3697.0</td>\n",
       "    </tr>\n",
       "  </tbody>\n",
       "</table>\n",
       "</div>"
      ],
      "text/plain": [
       "<div>\n",
       "<style scoped>\n",
       "    .dataframe tbody tr th:only-of-type {\n",
       "        vertical-align: middle;\n",
       "    }\n",
       "\n",
       "    .dataframe tbody tr th {\n",
       "        vertical-align: top;\n",
       "    }\n",
       "\n",
       "    .dataframe thead th {\n",
       "        text-align: right;\n",
       "    }\n",
       "</style>\n",
       "<table border=\"1\" class=\"dataframe\">\n",
       "  <thead>\n",
       "    <tr style=\"text-align: right;\">\n",
       "      <th></th>\n",
       "      <th>q_value_threshold</th>\n",
       "      <th>linkages_below</th>\n",
       "    </tr>\n",
       "  </thead>\n",
       "  <tbody>\n",
       "    <tr>\n",
       "      <th>0</th>\n",
       "      <td>1.000000e-16</td>\n",
       "      <td>0.0</td>\n",
       "    </tr>\n",
       "    <tr>\n",
       "      <th>1</th>\n",
       "      <td>1.000000e-15</td>\n",
       "      <td>0.0</td>\n",
       "    </tr>\n",
       "    <tr>\n",
       "      <th>2</th>\n",
       "      <td>1.000000e-14</td>\n",
       "      <td>0.0</td>\n",
       "    </tr>\n",
       "    <tr>\n",
       "      <th>3</th>\n",
       "      <td>1.000000e-13</td>\n",
       "      <td>0.0</td>\n",
       "    </tr>\n",
       "    <tr>\n",
       "      <th>4</th>\n",
       "      <td>1.000000e-12</td>\n",
       "      <td>0.0</td>\n",
       "    </tr>\n",
       "    <tr>\n",
       "      <th>5</th>\n",
       "      <td>1.000000e-11</td>\n",
       "      <td>9.0</td>\n",
       "    </tr>\n",
       "    <tr>\n",
       "      <th>6</th>\n",
       "      <td>1.000000e-10</td>\n",
       "      <td>33.0</td>\n",
       "    </tr>\n",
       "    <tr>\n",
       "      <th>7</th>\n",
       "      <td>1.000000e-09</td>\n",
       "      <td>63.0</td>\n",
       "    </tr>\n",
       "    <tr>\n",
       "      <th>8</th>\n",
       "      <td>1.000000e-08</td>\n",
       "      <td>119.0</td>\n",
       "    </tr>\n",
       "    <tr>\n",
       "      <th>9</th>\n",
       "      <td>1.000000e-07</td>\n",
       "      <td>190.0</td>\n",
       "    </tr>\n",
       "    <tr>\n",
       "      <th>10</th>\n",
       "      <td>1.000000e-06</td>\n",
       "      <td>302.0</td>\n",
       "    </tr>\n",
       "    <tr>\n",
       "      <th>11</th>\n",
       "      <td>1.000000e-05</td>\n",
       "      <td>442.0</td>\n",
       "    </tr>\n",
       "    <tr>\n",
       "      <th>12</th>\n",
       "      <td>1.000000e-04</td>\n",
       "      <td>704.0</td>\n",
       "    </tr>\n",
       "    <tr>\n",
       "      <th>13</th>\n",
       "      <td>1.000000e-03</td>\n",
       "      <td>1222.0</td>\n",
       "    </tr>\n",
       "    <tr>\n",
       "      <th>14</th>\n",
       "      <td>1.000000e-02</td>\n",
       "      <td>2223.0</td>\n",
       "    </tr>\n",
       "    <tr>\n",
       "      <th>15</th>\n",
       "      <td>5.000000e-02</td>\n",
       "      <td>3697.0</td>\n",
       "    </tr>\n",
       "  </tbody>\n",
       "</table>\n",
       "</div>"
      ]
     },
     "execution_count": 97,
     "metadata": {},
     "output_type": "execute_result"
    }
   ],
   "source": [
    "pd.DataFrame(\n",
    "    np.column_stack((fdr_cutoffs, partial_leq)),\n",
    "    columns=[\"q_value_threshold\", \"linkages_below\"]\n",
    ")"
   ]
  },
  {
   "cell_type": "code",
   "execution_count": 75,
   "metadata": {
    "collapsed": false
   },
   "outputs": [
    {
     "data": {
      "image/png": "[encoded data removed]",
      "text/plain": [
       "<Figure size 1440x720 with 1 Axes>"
      ]
     },
     "metadata": {},
     "output_type": "display_data"
    }
   ],
   "source": [
    "plt.figure(figsize=(20, 10))\n",
    "plt.xscale(\"log\")\n",
    "sns.set(font_scale=2)\n",
    "sns.lineplot(fdr_cutoffs, partial_leq, label=\"linkages below threshold\")\n",
    "plt.axvline(x=1e-3, linestyle=\"--\", color=\"red\", alpha=0.8)\n",
    "plt.savefig(\"./img/qtl_computing/pQTLs_old_lineplot.png\", dpi=300)\n",
    "plt.show()\n",
    "plt.close()\n"
   ]
  },
  {
   "cell_type": "code",
   "execution_count": null,
   "metadata": {},
   "outputs": [],
   "source": [
    "\"\"\" Generating data for GFLasso \"\"\"\n",
    "\n",
    "module_genes = sorted(\n",
    "    set(modules_dict[\"Respiration, oxidative phosphorylation, mitochondrial targeting\"]) \n",
    "    & set(interactome_graph.vs[\"name\"])\n",
    "    & set(expression_df[\"eQTLs_old\"].dropna()[\"gene\"].values)\n",
    ")\n",
    "linked_markers = sorted(qtls_df[\"eQTLs_old\"][qtls_df[\"eQTLs_old\"][\"gene\"].isin(module_genes)][\"SNP\"].values)\n",
    "genotypes = genotypes_df[\"eQTLs_old\"][genotypes_df[\"eQTLs_old\"][\"SNP\"].isin(linked_markers)].sort_values(by=\"SNP\")\n",
    "genotypes.dropna(inplace=True)\n",
    "for colname in genotypes.columns[1:]:\n",
    "    genotypes[colname] = genotypes[colname] - 1\n",
    "expression = expression_df[\"eQTLs_old\"][expression_df[\"eQTLs_old\"][\"gene\"].isin(module_genes)].dropna().sort_values(by=\"gene\")\n",
    "genotypes.T.to_csv(\"./genotypes.csv\", sep='\\t', index=False)\n",
    "expression.T.to_csv(\"./expression.csv\", sep='\\t', index=False)\n",
    "\n",
    "incidence_matrix = np.zeros(shape=(len(module_genes), len(module_genes)), dtype=int)\n",
    "for i in range(incidence_matrix.shape[0]):\n",
    "    for j in range(incidence_matrix.shape[1]):\n",
    "        if i != j and interactome_graph.are_connected(module_genes[i], module_genes[j]):\n",
    "            incidence_matrix[i][j] = 1\n",
    "np.savetxt(fname=\"./incidence_matrix.txt\", X=incidence_matrix, fmt=\"%d\")"
   ]
  },
  {
   "cell_type": "code",
   "execution_count": 205,
   "metadata": {},
   "outputs": [
    {
     "name": "stdout",
     "output_type": "stream",
     "text": [
      "CPU times: user 33.2 ms, sys: 7.97 ms, total: 41.1 ms\nWall time: 41.1 ms\n"
     ]
    }
   ],
   "source": [
    "%%time\n",
    "\"\"\" Reproducing QTL mapping technique from https://elifesciences.org/articles/35471 \"\"\"\n",
    "\n",
    "from sklearn import preprocessing\n",
    "import warnings\n",
    "\n",
    "random.seed(time.time())\n",
    "chromosome2markers = {i : genotypes_df[\"eQTLs_old\"].groupby(\"chromosome\").get_group(i)[\"SNP\"] for i in range(1, 17)}\n",
    "\n",
    "\n",
    "def nan_to_zero_then_scale(data, inplace=False, axis=1):\n",
    "    \"\"\"\n",
    "    :param data: numpy ndarray; numerical at best, but type-casting is taken care of\n",
    "    :param axis: integer; axis to scale along   \n",
    "    :param inplace: boolean; whether to create a copy or to modify the matrix in-place\n",
    "    :return: numerical numpy ndarray of the same shape with zero mean and unit variance along specified axis\n",
    "    \"\"\"\n",
    "    with warnings.catch_warnings():\n",
    "        warnings.simplefilter(\"ignore\")\n",
    "        return preprocessing.scale(\n",
    "            np.nan_to_num(data.astype(np.float32), copy=not inplace),\n",
    "            axis=axis, copy=not inplace\n",
    "        )\n",
    "\n",
    "\n",
    "def linkage_LOD_scores(genotypes_matrix, expression_matrix, inplace=False):\n",
    "    \"\"\"\n",
    "    LOD_score(gene, marker) = -n_strains * log(1 - r^2) / (2 log(10)),\n",
    "    where r is the Pearson correlation coefficient between vectors of\n",
    "    gene's expression values and marker's inheritance patterns among strains.\n",
    "    Exact formula for LOD score was taken from this paper: https://elifesciences.org/articles/35471  \n",
    "    \n",
    "    :param genotypes_matrix: numerical matrix, dimensions = n_markers x n_strains; \n",
    "                             we used -1 for BY allele and 1 for RM allele, but this choice \n",
    "                             of numerical representation is rather arbitrary  \n",
    "    :param expression_matrix: numerical matrix, dimensions = n_genes x n_strains\n",
    "    :param inplace_flag: boolean flag, introduces side effects, but saves memory by pre-processing matrices in-place  \n",
    "    :return: numerical n_genes x n_markers matrix; (i, j)-th entry is a LOD-score of (gene_i, marker_j) linkage.\n",
    "    \n",
    "    \"\"\"\n",
    "    # if samples X and Y are centered and scaled, their Pearson's r-coefficient\n",
    "    # is simply (their dot product) / (samples'_size - 1).\n",
    "    # Matrix multiplication can be used to speed up the computation of Pearson's r-coefficients\n",
    "    # between rows of genotypes_matrix and rows of expression matrix.\n",
    "    n_strains = genotypes_matrix.shape[1]\n",
    "    pearsonr = np.matmul(\n",
    "        nan_to_zero_then_scale(expression_matrix, inplace),\n",
    "        nan_to_zero_then_scale(genotypes_matrix, inplace).T\n",
    "    ) / (n_strains - 1)\n",
    "    return -n_strains * np.log(1 - pearsonr ** 2) / (2 * np.log(10))\n",
    "\n",
    "\n",
    "\"\"\" Finding peak LOD-score-per-chromosome markers for each gene as in https://elifesciences.org/articles/35471 \"\"\"\n",
    "# expression_dataframe = expression_df[\"eQTLs_old\"].drop([\"BY\", \"RM\"], axis=1)\n",
    "expression_dataframe = expression_df[\"eQTLs_new\"]\n",
    "gene_occurences = collections.Counter(expression_dataframe[\"gene\"].values)\n",
    "expression_dataframe = expression_dataframe[[\n",
    "    gene_occurences[gene] == 1 for gene in expression_dataframe[\"gene\"]\n",
    "]]\n",
    "genotypes_dataframe = genotypes_df[\"eQTLs_new\"]\n",
    "# genotypes_dataframe = genotypes_df[\"eQTLs_old\"].drop([\"BY\", \"RM\"], axis=1)\n",
    "\n",
    "\n",
    "def preprocessing_candidate_linkages(expression_dataframe, genotypes_dataframe, output_dict=None):\n",
    "    \"\"\"\n",
    "    Pretty useless function, will be removed soon.\n",
    "    :param expression_dataframe:  \n",
    "    :param genotypes_dataframe: \n",
    "    :param output_dict: \n",
    "    :return: dict: str —> list; mapping between genes and markers with peak LOD-scores for those genes   \n",
    "    \"\"\"\n",
    "    gene2peak_LOD_markers = collections.defaultdict(list) if output_dict == None else output_dict\n",
    "    expression_matrix = expression_dataframe.values[:, 1:].astype(np.float32)\n",
    "    genotypes_matrix = genotypes_dataframe.values[:, 1:-2].astype(np.float32) - 1\n",
    "\n",
    "    LOD_scores = linkage_LOD_scores(genotypes_matrix, expression_matrix, inplace=True)\n",
    "    peak_LOD_marker_ids = np.argmax(LOD_scores, axis=1)\n",
    "    peak_LOD_values = np.max(LOD_scores, axis=1)\n",
    "\n",
    "    candidate_linkages_df = pd.DataFrame(\n",
    "        [(genotypes_dataframe[\"SNP\"].values[peak_LOD_marker_ids[i]], gene, peak_LOD_values[i])\n",
    "         for i, gene in enumerate(expression_dataframe[\"gene\"])],\n",
    "        columns=[\"SNP\", \"gene\", \"LOD\"]\n",
    "    )\n",
    "\n",
    "    for marker, gene in candidate_linkages_df.query(\"LOD >= 3.5\")[[\"SNP\", \"gene\"]].values:\n",
    "        if marker not in gene2peak_LOD_markers[gene]:\n",
    "            gene2peak_LOD_markers[gene].append(marker)\n",
    "    return gene2peak_LOD_markers\n",
    "\n",
    "\n",
    "import sklearn.linear_model\n",
    "def residual_expression(expression_dataframe, genotypes_dataframe, gene2peak_LOD_markers):\n",
    "    \"\"\"\n",
    "    Fits a linear model: E = QG + R, \n",
    "        where E stands for expression profile of a particular gene, \n",
    "        G — for markers (one or several) with peak LOD-scores for that gene,\n",
    "        Q — for coefficients of the linear model,\n",
    "        R — for residual expression of that gene\n",
    "    :param expression_dataframe: pandas dataframe; columns — \"[\"gene\"] + phenotypes\"\n",
    "    :param genotypes_dataframe: pandas dataframe; columns — \"[\"SNP\"] + phenotypes + [\"chromosome\", \"position\"]\"\n",
    "    :param gene2peak_LOD_markers: dict: str —> list; mapping between genes and markers with peak LOD-scores for those genes.   \n",
    "                                    Inheritance patterns of those markers are predictors in linear model. \n",
    "    :return: pandas dataframe; residual expression values for genes in initial expression dataframe\n",
    "    \"\"\"\n",
    "    expression_matrix = np.nan_to_num(expression_dataframe.values[:, 1:].astype(np.float32))\n",
    "    genotypes_matrix = np.nan_to_num(genotypes_dataframe.values[:, 1:-2].astype(np.float32) - 1)\n",
    "    \n",
    "    count = 0\n",
    "    residual_expression = []\n",
    "    for gene in expression_dataframe[\"gene\"]:\n",
    "        y = expression_matrix[expression_dataframe[\"gene\"] == gene].T\n",
    "        large_effect_markers = gene2peak_LOD_markers[gene]\n",
    "        if not large_effect_markers:\n",
    "            # If no marker has a significant effect on expression of a particular gene,\n",
    "            # then its expression profile remains untouched.\n",
    "            count += 1\n",
    "            residual_expression.append(y.T)\n",
    "        else:\n",
    "            # Otherwise a linear model is fitted.\n",
    "            lm = sklearn.linear_model.LinearRegression(n_jobs=min(mp.cpu_count(), len(large_effect_markers)))\n",
    "            X = genotypes_matrix[genotypes_dataframe[\"SNP\"].isin(large_effect_markers)].T\n",
    "            lm.fit(X, y)\n",
    "            # New expression profile is a vector of residuals in the language of linear models.\n",
    "            residual_expression.append(np.ravel(y - lm.predict(X)))\n",
    "    # Dataframe with residual expression values is later used instead of the original dataframe \n",
    "    residual_expression_dataframe = pd.DataFrame(\n",
    "        np.column_stack(\n",
    "            (expression_dataframe[\"gene\"], \n",
    "             np.vstack(residual_expression))\n",
    "        ), \n",
    "        columns=expression_dataframe.columns\n",
    "    )\n",
    "    print(count, expression_dataframe.shape)\n",
    "    return residual_expression_dataframe"
   ]
  },
  {
   "cell_type": "code",
   "execution_count": 150,
   "metadata": {},
   "outputs": [
    {
     "name": "stdout",
     "output_type": "stream",
     "text": [
      "5470 (6159, 113)\n"
     ]
    }
   ],
   "source": [
    "chromosome_dataframe = genotypes_dataframe.groupby(\"chromosome\").get_group(2)\n",
    "gene2peak_LOD_markers = preprocessing_candidate_linkages(expression_dataframe, chromosome_dataframe) \n",
    "residual_expression_dataframe = residual_expression(expression_dataframe, chromosome_dataframe, gene2peak_LOD_markers)"
   ]
  },
  {
   "cell_type": "code",
   "execution_count": 190,
   "metadata": {},
   "outputs": [
    {
     "name": "stdout",
     "output_type": "stream",
     "text": [
      "77168\n"
     ]
    },
    {
     "data": {
      "image/png": "[encoded data removed]",
      "text/plain": [
       "<Figure size 2160x720 with 1 Axes>"
      ]
     },
     "metadata": {},
     "output_type": "display_data"
    }
   ],
   "source": [
    "residual_expression_mx = np.nan_to_num(np.asarray(residual_expression_dataframe.values[:, 1:], dtype=np.float32))\n",
    "expression_mx = np.nan_to_num(np.asarray(expression_dataframe.values[:, 1:], dtype=np.float32))\n",
    "# fig, axes = plt.subplots(1, 2, figsize=(30, 10))\n",
    "plt.figure(figsize=(30, 10))\n",
    "discrepancy_mask = residual_expression_mx != expression_mx\n",
    "print(np.sum(discrepancy_mask))\n",
    "plt.scatter(range(np.sum(discrepancy_mask)), residual_expression_mx[discrepancy_mask], label=\"residual\", alpha=0.5)\n",
    "plt.scatter(range(np.sum(discrepancy_mask)), expression_mx[discrepancy_mask], label=\"initial\", alpha=0.5)\n",
    "plt.legend(fontsize=20)\n",
    "# sns.heatmap(np.nan_to_num(np.asarray(residual_expression_dataframe.values[:, 1:], dtype=np.float32)), ax=axes[0], cmap=\"jet\")\n",
    "# sns.heatmap(np.nan_to_num(np.asarray(expression_dataframe.values[:, 1:], dtype=np.float32)), ax=axes[1], cmap=\"jet\")\n",
    "plt.show()\n",
    "plt.close()\n"
   ]
  },
  {
   "cell_type": "code",
   "execution_count": 208,
   "metadata": {
    "collapsed": false
   },
   "outputs": [
    {
     "name": "stdout",
     "output_type": "stream",
     "text": [
      "Iteration 0:\n"
     ]
    },
    {
     "name": "stdout",
     "output_type": "stream",
     "text": [
      "1.5: 702.44 <> 1643\t0.4275349969567864\n"
     ]
    },
    {
     "name": "stdout",
     "output_type": "stream",
     "text": [
      "1.55: 666.92 <> 1537\t0.43391021470396873\n"
     ]
    },
    {
     "name": "stdout",
     "output_type": "stream",
     "text": [
      "1.6: 493.86 <> 1444\t0.3420083102493075\n"
     ]
    },
    {
     "name": "stdout",
     "output_type": "stream",
     "text": [
      "1.65: 528.89 <> 1358\t0.3894624447717231\n"
     ]
    },
    {
     "name": "stdout",
     "output_type": "stream",
     "text": [
      "1.7: 461.22 <> 1262\t0.36546751188589544\n"
     ]
    },
    {
     "name": "stdout",
     "output_type": "stream",
     "text": [
      "1.75: 417.65 <> 1190\t0.3509663865546218\n"
     ]
    },
    {
     "name": "stdout",
     "output_type": "stream",
     "text": [
      "1.8: 371.14 <> 1134\t0.32728395061728394\n"
     ]
    },
    {
     "name": "stdout",
     "output_type": "stream",
     "text": [
      "1.85: 360.71 <> 1070\t0.33711214953271024\n"
     ]
    },
    {
     "name": "stdout",
     "output_type": "stream",
     "text": [
      "1.9: 262.36 <> 1015\t0.25848275862068965\n"
     ]
    },
    {
     "name": "stdout",
     "output_type": "stream",
     "text": [
      "1.95: 293.33 <> 959\t0.30587069864442124\n"
     ]
    },
    {
     "name": "stdout",
     "output_type": "stream",
     "text": [
      "2.0: 211.54 <> 905\t0.23374585635359116\n"
     ]
    },
    {
     "name": "stdout",
     "output_type": "stream",
     "text": [
      "2.05: 181.46 <> 859\t0.2112456344586729\n"
     ]
    },
    {
     "name": "stdout",
     "output_type": "stream",
     "text": [
      "2.1: 220.53 <> 812\t0.27158866995073894\n"
     ]
    },
    {
     "name": "stdout",
     "output_type": "stream",
     "text": [
      "2.15: 159.88 <> 781\t0.20471190781049936\n"
     ]
    },
    {
     "name": "stdout",
     "output_type": "stream",
     "text": [
      "2.2: 152.12 <> 741\t0.2052901484480432\n"
     ]
    },
    {
     "name": "stdout",
     "output_type": "stream",
     "text": [
      "2.25: 119.24 <> 705\t0.16913475177304965\n"
     ]
    },
    {
     "name": "stdout",
     "output_type": "stream",
     "text": [
      "2.3: 108.12 <> 672\t0.16089285714285714\n"
     ]
    },
    {
     "name": "stdout",
     "output_type": "stream",
     "text": [
      "2.35: 90.9 <> 645\t0.14093023255813955\n"
     ]
    },
    {
     "name": "stdout",
     "output_type": "stream",
     "text": [
      "2.4: 88.39 <> 613\t0.14419249592169658\n"
     ]
    },
    {
     "name": "stdout",
     "output_type": "stream",
     "text": [
      "2.45: 85.42 <> 572\t0.14933566433566434\n"
     ]
    },
    {
     "name": "stdout",
     "output_type": "stream",
     "text": [
      "2.5: 98.26 <> 549\t0.17897996357012752\n"
     ]
    },
    {
     "name": "stdout",
     "output_type": "stream",
     "text": [
      "2.55: 72.87 <> 529\t0.13775047258979206\n"
     ]
    },
    {
     "name": "stdout",
     "output_type": "stream",
     "text": [
      "2.6: 70.32 <> 511\t0.13761252446183952\n"
     ]
    },
    {
     "name": "stdout",
     "output_type": "stream",
     "text": [
      "2.65: 57.79 <> 497\t0.11627766599597586\n"
     ]
    },
    {
     "name": "stdout",
     "output_type": "stream",
     "text": [
      "2.7: 41.87 <> 478\t0.08759414225941423\n"
     ]
    },
    {
     "name": "stdout",
     "output_type": "stream",
     "text": [
      "2.75: 51.21 <> 460\t0.11132608695652174\n"
     ]
    },
    {
     "name": "stdout",
     "output_type": "stream",
     "text": [
      "2.8: 29.46 <> 441\t0.06680272108843538\n"
     ]
    },
    {
     "name": "stdout",
     "output_type": "stream",
     "text": [
      "2.85: 36.48 <> 430\t0.08483720930232558\n"
     ]
    },
    {
     "name": "stdout",
     "output_type": "stream",
     "text": [
      "2.9: 26.0 <> 414\t0.06280193236714976\n"
     ]
    },
    {
     "name": "stdout",
     "output_type": "stream",
     "text": [
      "2.95: 26.86 <> 401\t0.06698254364089776\n"
     ]
    },
    {
     "name": "stdout",
     "output_type": "stream",
     "text": [
      "3.0: 25.48 <> 388\t0.06567010309278351\n"
     ]
    },
    {
     "name": "stdout",
     "output_type": "stream",
     "text": [
      "3.05: 25.53 <> 377\t0.0677188328912467\n"
     ]
    },
    {
     "name": "stdout",
     "output_type": "stream",
     "text": [
      "3.1: 22.51 <> 364\t0.06184065934065935\n"
     ]
    },
    {
     "name": "stdout",
     "output_type": "stream",
     "text": [
      "3.15: 11.48 <> 353\t0.032521246458923514\nChromosome: 1\tratio: 3.2\t linkages: 353\n"
     ]
    },
    {
     "name": "stdout",
     "output_type": "stream",
     "text": [
      "5367 (5720, 1013)\nIteration 1:\n"
     ]
    },
    {
     "name": "stdout",
     "output_type": "stream",
     "text": [
      "1.5: 665.78 <> 1324\t0.5028549848942598\n"
     ]
    },
    {
     "name": "stdout",
     "output_type": "stream",
     "text": [
      "1.55: 574.4 <> 1209\t0.47510339123242346\n"
     ]
    },
    {
     "name": "stdout",
     "output_type": "stream",
     "text": [
      "1.6: 576.53 <> 1113\t0.5179964061096136\n"
     ]
    },
    {
     "name": "stdout",
     "output_type": "stream",
     "text": [
      "1.65: 554.98 <> 1025\t0.5414439024390244\n"
     ]
    },
    {
     "name": "stdout",
     "output_type": "stream",
     "text": [
      "1.7: 397.26 <> 927\t0.42854368932038833\n"
     ]
    },
    {
     "name": "stdout",
     "output_type": "stream",
     "text": [
      "1.75: 422.39 <> 853\t0.49518171160609614\n"
     ]
    },
    {
     "name": "stdout",
     "output_type": "stream",
     "text": [
      "1.8: 342.35 <> 796\t0.4300879396984925\n"
     ]
    },
    {
     "name": "stdout",
     "output_type": "stream",
     "text": [
      "1.85: 296.51 <> 728\t0.407293956043956\n"
     ]
    },
    {
     "name": "stdout",
     "output_type": "stream",
     "text": [
      "1.9: 271.95 <> 673\t0.40408618127786033\n"
     ]
    },
    {
     "name": "stdout",
     "output_type": "stream",
     "text": [
      "1.95: 323.68 <> 617\t0.5246029173419773\n"
     ]
    },
    {
     "name": "stdout",
     "output_type": "stream",
     "text": [
      "2.0: 245.96 <> 563\t0.4368738898756661\n"
     ]
    },
    {
     "name": "stdout",
     "output_type": "stream",
     "text": [
      "2.05: 190.47 <> 517\t0.3684139264990329\n"
     ]
    },
    {
     "name": "stdout",
     "output_type": "stream",
     "text": [
      "2.1: 177.07 <> 470\t0.37674468085106383\n"
     ]
    },
    {
     "name": "stdout",
     "output_type": "stream",
     "text": [
      "2.15: 202.29 <> 438\t0.46184931506849314\n"
     ]
    },
    {
     "name": "stdout",
     "output_type": "stream",
     "text": [
      "2.2: 146.15 <> 398\t0.3672110552763819\n"
     ]
    },
    {
     "name": "stdout",
     "output_type": "stream",
     "text": [
      "2.25: 142.89 <> 362\t0.3947237569060773\n"
     ]
    },
    {
     "name": "stdout",
     "output_type": "stream",
     "text": [
      "2.3: 84.28 <> 329\t0.2561702127659575\n"
     ]
    },
    {
     "name": "stdout",
     "output_type": "stream",
     "text": [
      "2.35: 90.68 <> 302\t0.3002649006622517\n"
     ]
    },
    {
     "name": "stdout",
     "output_type": "stream",
     "text": [
      "2.4: 105.2 <> 270\t0.38962962962962966\n"
     ]
    },
    {
     "name": "stdout",
     "output_type": "stream",
     "text": [
      "2.45: 79.84 <> 228\t0.35017543859649125\n"
     ]
    },
    {
     "name": "stdout",
     "output_type": "stream",
     "text": [
      "2.5: 58.37 <> 205\t0.28473170731707315\n"
     ]
    },
    {
     "name": "stdout",
     "output_type": "stream",
     "text": [
      "2.55: 73.47 <> 185\t0.39713513513513515\n"
     ]
    },
    {
     "name": "stdout",
     "output_type": "stream",
     "text": [
      "2.6: 48.23 <> 166\t0.2905421686746988\n"
     ]
    },
    {
     "name": "stdout",
     "output_type": "stream",
     "text": [
      "2.65: 72.01 <> 151\t0.47688741721854305\n"
     ]
    },
    {
     "name": "stdout",
     "output_type": "stream",
     "text": [
      "2.7: 39.08 <> 132\t0.296060606060606\n"
     ]
    },
    {
     "name": "stdout",
     "output_type": "stream",
     "text": [
      "2.75: 44.01 <> 114\t0.38605263157894737\n"
     ]
    },
    {
     "name": "stdout",
     "output_type": "stream",
     "text": [
      "2.8: 26.11 <> 94\t0.2777659574468085\n"
     ]
    },
    {
     "name": "stdout",
     "output_type": "stream",
     "text": [
      "2.85: 34.92 <> 83\t0.4207228915662651\n"
     ]
    },
    {
     "name": "stdout",
     "output_type": "stream",
     "text": [
      "2.9: 23.2 <> 67\t0.3462686567164179\n"
     ]
    },
    {
     "name": "stdout",
     "output_type": "stream",
     "text": [
      "2.95: 35.21 <> 54\t0.6520370370370371\n"
     ]
    },
    {
     "name": "stdout",
     "output_type": "stream",
     "text": [
      "3.0: 28.19 <> 41\t0.6875609756097562\n"
     ]
    },
    {
     "name": "stdout",
     "output_type": "stream",
     "text": [
      "3.05: 17.9 <> 30\t0.5966666666666666\n"
     ]
    },
    {
     "name": "stdout",
     "output_type": "stream",
     "text": [
      "1: Such a pity...\nIteration 0:\n"
     ]
    },
    {
     "name": "stdout",
     "output_type": "stream",
     "text": [
      "1.5: 1675.11 <> 1988\t0.8426106639839034\n"
     ]
    },
    {
     "name": "stdout",
     "output_type": "stream",
     "text": [
      "1.55: 1555.72 <> 1885\t0.825315649867374\n"
     ]
    },
    {
     "name": "stdout",
     "output_type": "stream",
     "text": [
      "1.6: 1435.31 <> 1791\t0.8014014517029592\n"
     ]
    },
    {
     "name": "stdout",
     "output_type": "stream",
     "text": [
      "1.65: 1250.54 <> 1692\t0.7390898345153664\n"
     ]
    },
    {
     "name": "stdout",
     "output_type": "stream",
     "text": [
      "1.7: 1163.18 <> 1613\t0.721128332300062\n"
     ]
    },
    {
     "ename": "KeyboardInterrupt",
     "evalue": "",
     "traceback": [
      "\u001b[0;31m---------------------------------------------------------------------------\u001b[0m",
      "\u001b[0;31mKeyboardInterrupt\u001b[0m                         Traceback (most recent call last)",
      "\u001b[0;32m<timed exec>\u001b[0m in \u001b[0;36m<module>\u001b[0;34m()\u001b[0m\n",
      "\u001b[0;32m<timed exec>\u001b[0m in \u001b[0;36mmap_qtls\u001b[0;34m(expression_dataframe, genotypes_dataframe)\u001b[0m\n",
      "\u001b[0;32m<timed exec>\u001b[0m in \u001b[0;36mlinkage_LOD_scores\u001b[0;34m(genotypes_matrix, expression_matrix, inplace)\u001b[0m\n",
      "\u001b[0;32m<timed exec>\u001b[0m in \u001b[0;36mnan_to_zero_then_scale\u001b[0;34m(data, inplace, axis)\u001b[0m\n",
      "\u001b[0;32m~/anaconda3/lib/python3.5/site-packages/sklearn/preprocessing/data.py\u001b[0m in \u001b[0;36mscale\u001b[0;34m(X, axis, with_mean, with_std, copy)\u001b[0m\n\u001b[1;32m    131\u001b[0m     X = check_array(X, accept_sparse='csc', copy=copy, ensure_2d=False,\n\u001b[1;32m    132\u001b[0m                     \u001b[0mwarn_on_dtype\u001b[0m\u001b[0;34m=\u001b[0m\u001b[0;32mTrue\u001b[0m\u001b[0;34m,\u001b[0m \u001b[0mestimator\u001b[0m\u001b[0;34m=\u001b[0m\u001b[0;34m'the scale function'\u001b[0m\u001b[0;34m,\u001b[0m\u001b[0;34m\u001b[0m\u001b[0m\n\u001b[0;32m--> 133\u001b[0;31m                     dtype=FLOAT_DTYPES)\n\u001b[0m\u001b[1;32m    134\u001b[0m     \u001b[0;32mif\u001b[0m \u001b[0msparse\u001b[0m\u001b[0;34m.\u001b[0m\u001b[0missparse\u001b[0m\u001b[0;34m(\u001b[0m\u001b[0mX\u001b[0m\u001b[0;34m)\u001b[0m\u001b[0;34m:\u001b[0m\u001b[0;34m\u001b[0m\u001b[0m\n\u001b[1;32m    135\u001b[0m         \u001b[0;32mif\u001b[0m \u001b[0mwith_mean\u001b[0m\u001b[0;34m:\u001b[0m\u001b[0;34m\u001b[0m\u001b[0m\n",
      "\u001b[0;32m~/anaconda3/lib/python3.5/site-packages/sklearn/utils/validation.py\u001b[0m in \u001b[0;36mcheck_array\u001b[0;34m(array, accept_sparse, dtype, order, copy, force_all_finite, ensure_2d, allow_nd, ensure_min_samples, ensure_min_features, warn_on_dtype, estimator)\u001b[0m\n\u001b[1;32m    451\u001b[0m                              % (array.ndim, estimator_name))\n\u001b[1;32m    452\u001b[0m         \u001b[0;32mif\u001b[0m \u001b[0mforce_all_finite\u001b[0m\u001b[0;34m:\u001b[0m\u001b[0;34m\u001b[0m\u001b[0m\n\u001b[0;32m--> 453\u001b[0;31m             \u001b[0m_assert_all_finite\u001b[0m\u001b[0;34m(\u001b[0m\u001b[0marray\u001b[0m\u001b[0;34m)\u001b[0m\u001b[0;34m\u001b[0m\u001b[0m\n\u001b[0m\u001b[1;32m    454\u001b[0m \u001b[0;34m\u001b[0m\u001b[0m\n\u001b[1;32m    455\u001b[0m     \u001b[0mshape_repr\u001b[0m \u001b[0;34m=\u001b[0m \u001b[0m_shape_repr\u001b[0m\u001b[0;34m(\u001b[0m\u001b[0marray\u001b[0m\u001b[0;34m.\u001b[0m\u001b[0mshape\u001b[0m\u001b[0;34m)\u001b[0m\u001b[0;34m\u001b[0m\u001b[0m\n",
      "\u001b[0;32m~/anaconda3/lib/python3.5/site-packages/sklearn/utils/validation.py\u001b[0m in \u001b[0;36m_assert_all_finite\u001b[0;34m(X)\u001b[0m\n\u001b[1;32m     39\u001b[0m     \u001b[0;31m# everything is finite; fall back to O(n) space np.isfinite to prevent\u001b[0m\u001b[0;34m\u001b[0m\u001b[0;34m\u001b[0m\u001b[0m\n\u001b[1;32m     40\u001b[0m     \u001b[0;31m# false positives from overflow in sum method.\u001b[0m\u001b[0;34m\u001b[0m\u001b[0;34m\u001b[0m\u001b[0m\n\u001b[0;32m---> 41\u001b[0;31m     if (X.dtype.char in np.typecodes['AllFloat'] and not np.isfinite(X.sum())\n\u001b[0m\u001b[1;32m     42\u001b[0m             and not np.isfinite(X).all()):\n\u001b[1;32m     43\u001b[0m         raise ValueError(\"Input contains NaN, infinity\"\n",
      "\u001b[0;32m~/anaconda3/lib/python3.5/site-packages/numpy/core/_methods.py\u001b[0m in \u001b[0;36m_sum\u001b[0;34m(a, axis, dtype, out, keepdims, initial)\u001b[0m\n\u001b[1;32m     34\u001b[0m def _sum(a, axis=None, dtype=None, out=None, keepdims=False,\n\u001b[1;32m     35\u001b[0m          initial=_NoValue):\n\u001b[0;32m---> 36\u001b[0;31m     \u001b[0;32mreturn\u001b[0m \u001b[0mumr_sum\u001b[0m\u001b[0;34m(\u001b[0m\u001b[0ma\u001b[0m\u001b[0;34m,\u001b[0m \u001b[0maxis\u001b[0m\u001b[0;34m,\u001b[0m \u001b[0mdtype\u001b[0m\u001b[0;34m,\u001b[0m \u001b[0mout\u001b[0m\u001b[0;34m,\u001b[0m \u001b[0mkeepdims\u001b[0m\u001b[0;34m,\u001b[0m \u001b[0minitial\u001b[0m\u001b[0;34m)\u001b[0m\u001b[0;34m\u001b[0m\u001b[0m\n\u001b[0m\u001b[1;32m     37\u001b[0m \u001b[0;34m\u001b[0m\u001b[0m\n\u001b[1;32m     38\u001b[0m def _prod(a, axis=None, dtype=None, out=None, keepdims=False,\n",
      "\u001b[0;31mKeyboardInterrupt\u001b[0m: "
     ],
     "output_type": "error"
    }
   ],
   "source": [
    "%%time\n",
    "\"\"\" Mapping eQTLs as in https://elifesciences.org/articles/35471 \"\"\"\n",
    "\n",
    "\n",
    "def map_qtls(expression_dataframe, genotypes_dataframe):\n",
    "    qtl_list = []\n",
    "    for chromosome_id in range(1, 17):\n",
    "        chromosome_dataframe = genotypes_dataframe.groupby(\"chromosome\").get_group(chromosome_id)\n",
    "        gene2peak_LOD_markers = preprocessing_candidate_linkages(expression_dataframe, chromosome_dataframe)\n",
    "        residual_expression_dataframe = expression_dataframe\n",
    "        # preprocessing_iterations = 0\n",
    "        # for i in range(preprocessing_iterations):\n",
    "        #     residual_expression_dataframe = residual_expression(\n",
    "        #         residual_expression_dataframe, chromosome_dataframe, gene2peak_LOD_markers\n",
    "        #     )\n",
    "        #     gene2peak_LOD_markers = preprocessing_candidate_linkages( \n",
    "        #         residual_expression_dataframe, chromosome_dataframe, gene2peak_LOD_markers\n",
    "        #     )\n",
    "        # print(id(residual_expression_dataframe))\n",
    "        # print(id(residual_expression_dataframe))\n",
    "        # fig, axes = plt.subplots(1, 2, figsize=(30, 10))\n",
    "        # sns.heatmap(np.nan_to_num(np.asarray(residual_expression_dataframe.values[:, 1:], dtype=np.float32)), ax=axes[0], cmap=\"jet\")\n",
    "        # sns.heatmap(np.nan_to_num(np.asarray(expression_dataframe.values[:, 1:], dtype=np.float32)), ax=axes[1], cmap=\"jet\")\n",
    "        # plt.show()\n",
    "        # plt.close()\n",
    "\n",
    "\n",
    "        iter_count = 0\n",
    "        linkages_found = True\n",
    "        gene2peak_LOD_markers = collections.defaultdict(list)\n",
    "        while(linkages_found):\n",
    "            print(\"Iteration {}:\".format(iter_count))\n",
    "            genotypes_matrix = chromosome_dataframe.values[:, 1:-2].astype(np.float32) - 1\n",
    "            expression_matrix = residual_expression_dataframe.values[:, 1:].astype(np.float32)\n",
    "\n",
    "            LOD_scores = linkage_LOD_scores(genotypes_matrix, expression_matrix)\n",
    "            peak_LOD_marker_ids = np.argmax(LOD_scores, axis=1)\n",
    "            peak_LOD_values = np.max(LOD_scores, axis=1)\n",
    "\n",
    "            # All (marker, gene) pairs with the highest LOD score per gene are considered initially to be QTLs \n",
    "            candidate_linkages_dataframe = pd.DataFrame(\n",
    "                [(chromosome_dataframe[\"SNP\"].values[peak_LOD_marker_ids[i]], gene, peak_LOD_values[i])\n",
    "                 for i, gene in enumerate(residual_expression_dataframe[\"gene\"])],\n",
    "                columns=[\"SNP\", \"gene\", \"LOD\"]\n",
    "            )\n",
    "\n",
    "            # Then LOD-score significance threshold is derived using permutations test.\n",
    "            # There are 151 threshold candidates at the moment, ranging from 1.5 to 9 with step value of 0.05.\n",
    "            # There are 1000 randomization iterations for each threshold.  \n",
    "            # Phenotypes are permuted on each iteration, while the genotypes remain the same.\n",
    "            # Then LOD-scores are calculated. Markers with peak LOD-per-gene with LOD-scores higher than current threshold get counted. \n",
    "            # Average of those counts is an expected number of linkages with LOD-scores above current threshold.\n",
    "            # The lowest LOD-score threshold, such that the ratio of expected number of linkages above that threshold\n",
    "            # to the observed number of such linkages is less than 0.05, is taken as a significance threshold.\n",
    "\n",
    "            LOD_thresholds = np.arange(1.5, 9.05, 0.05)\n",
    "            significance_threshold = np.nan\n",
    "            n_permutations = 100\n",
    "            for fdr_cutoff in LOD_thresholds:\n",
    "                observed = candidate_linkages_dataframe.query(\"LOD >= {}\".format(fdr_cutoff)).shape[0]\n",
    "                if observed == 0:\n",
    "                    break\n",
    "                significant_linkages_count = 0\n",
    "                for iter in range(n_permutations):\n",
    "                    column_permutation = np.random.permutation(range(expression_matrix.shape[1]))\n",
    "                    permuted_expression_matrix = expression_matrix[:, column_permutation]\n",
    "                    permuted_LOD_scores = linkage_LOD_scores(genotypes_matrix, permuted_expression_matrix)\n",
    "                    permuted_peak_LOD_values = np.max(permuted_LOD_scores, axis=1)\n",
    "                    significant_linkages_count += np.sum(permuted_peak_LOD_values >= fdr_cutoff)\n",
    "                expected = significant_linkages_count / n_permutations\n",
    "                if expected >= observed:\n",
    "                    break\n",
    "                print(\"{:.3}: {} <> {}\\t{}\".format(fdr_cutoff, expected, observed, expected / observed))\n",
    "                if expected / observed < 0.05:\n",
    "                    significance_threshold = fdr_cutoff\n",
    "                    break\n",
    "            if np.isnan(significance_threshold):\n",
    "                linkages_found = False\n",
    "                print(\"{}: Such a pity...\".format(chromosome_id))\n",
    "            else:\n",
    "                candidate_linkages_dataframe = candidate_linkages_dataframe.query(\n",
    "                    \"LOD >= {}\".format(significance_threshold)\n",
    "                )\n",
    "                qtl_list.extend(candidate_linkages_dataframe[[\"SNP\", \"gene\"]].values)\n",
    "                print(\"Chromosome: {}\\tratio: {:.2}\\t linkages: {}\".format(\n",
    "                    chromosome_id,\n",
    "                    significance_threshold,\n",
    "                    candidate_linkages_dataframe.shape[0])\n",
    "                )\n",
    "                for marker, gene in candidate_linkages_dataframe[[\"SNP\", \"gene\"]].values:\n",
    "                    if marker not in gene2peak_LOD_markers[gene]:\n",
    "                        gene2peak_LOD_markers[gene].append(marker)\n",
    "                residual_expression_dataframe = residual_expression(\n",
    "                    residual_expression_dataframe, chromosome_dataframe, gene2peak_LOD_markers\n",
    "                )\n",
    "            iter_count += 1\n",
    "    unique_qtls_list = list(set(map(tuple, qtl_list)))\n",
    "    return np.asarray(unique_qtls_list, dtype=np.str)\n",
    "\n",
    "qtl_list = map_qtls(expression_dataframe, genotypes_dataframe) \n",
    "# common_strains = list(np.intersect1d(genotypes_df[\"pQTLs\"].columns[3:-2], expression_df[\"pQTLs\"].columns[3:]))\n",
    "# qtl_list = map_qtls(expression_df[\"pQTLs\"][[\"gene\"] + common_strains], \n",
    "#                     genotypes_dataframe[[\"SNP\"] + common_strains + [\"chromosome\", \"position\"]]) \n",
    "# "
   ]
  },
  {
   "cell_type": "code",
   "execution_count": 198,
   "metadata": {},
   "outputs": [],
   "source": [
    "import re\n",
    "genotypes_df[\"eQTLs_new\"][\"chromosome\"] = [roman2arabic[re.sub('[^A-Z]', '', s.split(\":\")[0])] for s in genotypes_df[\"eQTLs_new\"][\"SNP\"]]"
   ]
  },
  {
   "cell_type": "code",
   "execution_count": 200,
   "metadata": {},
   "outputs": [],
   "source": [
    "with open(\"./data/genotypes/order_of_markers.pkl\", \"rb\") as pickle_file:\n",
    "    marker2location = pickle.load(pickle_file)\n",
    "genotypes_df[\"eQTLs_new\"][\"position\"] = [marker2location[snp] for snp in genotypes_df[\"eQTLs_new\"][\"SNP\"]]"
   ]
  },
  {
   "cell_type": "code",
   "execution_count": 204,
   "metadata": {},
   "outputs": [],
   "source": [
    "genotypes_df[\"eQTLs_new\"].to_csv(\"./data/eQTLs/genotypes_2018.csv\", sep='\\t', index=False)"
   ]
  },
  {
   "cell_type": "code",
   "execution_count": null,
   "metadata": {},
   "outputs": [],
   "source": []
  }
 ],
 "metadata": {
  "kernelspec": {
   "display_name": "Python [conda env:idp]",
   "language": "python",
   "name": "conda-env-idp-py"
  },
  "language_info": {
   "codemirror_mode": {
    "name": "ipython",
    "version": 3
   },
   "file_extension": ".py",
   "mimetype": "text/x-python",
   "name": "python",
   "nbconvert_exporter": "python",
   "pygments_lexer": "ipython3",
   "version": "3.6.3"
  }
 },
 "nbformat": 4,
 "nbformat_minor": 2
}
