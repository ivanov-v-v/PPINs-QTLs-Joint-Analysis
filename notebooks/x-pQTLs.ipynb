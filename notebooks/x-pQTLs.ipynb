{
 "cells": [
  {
   "cell_type": "code",
   "execution_count": 1,
   "metadata": {
    "ExecuteTime": {
     "end_time": "2019-04-24T21:59:32.555710Z",
     "start_time": "2019-04-24T21:59:32.528378Z"
    }
   },
   "outputs": [
    {
     "data": {
      "text/html": [
       "<style>.container { width:100% !important; }</style>"
      ],
      "text/plain": [
       "<IPython.core.display.HTML object>"
      ]
     },
     "metadata": {},
     "output_type": "display_data"
    }
   ],
   "source": [
    "from IPython.core.display import display, HTML\n",
    "display(HTML(\"<style>.container { width:100% !important; }</style>\"))\n",
    "\n",
    "# neccessities for the project setup\n",
    "# this enables automatic reload of the libraries specific to this project\n",
    "%load_ext autoreload\n",
    "%autoreload 1\n",
    "\n",
    "import os\n",
    "import sys\n",
    "\n",
    "# fs_utils.py stores paths to every other directory in the projects\n",
    "# this module is located at the top level of the repository\n",
    "# jupyter can't see it unless I change the cwd manually\n",
    "# official man page tells that it's not actually possible in any other way\n",
    "sys.path.append(os.path.abspath(\"..\"))\n",
    "%aimport fs_utils\n",
    "\n",
    "# extend != append, the former appends the content while \n",
    "# the latter — the list with two elements...\n",
    "os.chdir(fs_utils.ROOT_DIR)\n",
    "sys.path.extend([fs_utils.LIB_DIR, fs_utils.ROOT_DIR, fs_utils.SRC_DIR])"
   ]
  },
  {
   "cell_type": "code",
   "execution_count": 2,
   "metadata": {
    "ExecuteTime": {
     "end_time": "2019-04-24T21:59:32.720628Z",
     "start_time": "2019-04-24T21:59:32.715802Z"
    }
   },
   "outputs": [],
   "source": [
    "# standard library\n",
    "import bisect\n",
    "import gc\n",
    "import pickle\n",
    "import multiprocessing as mp\n",
    "\n",
    "gc.enable()"
   ]
  },
  {
   "cell_type": "code",
   "execution_count": 3,
   "metadata": {
    "ExecuteTime": {
     "end_time": "2019-04-24T21:59:33.930428Z",
     "start_time": "2019-04-24T21:59:32.878835Z"
    }
   },
   "outputs": [],
   "source": [
    "# third-party modules\n",
    "from collections import defaultdict, OrderedDict\n",
    "from joblib import Parallel, delayed\n",
    "import igraph as ig\n",
    "import matplotlib.gridspec as gridspec\n",
    "import matplotlib.pyplot as plt\n",
    "%aimport matplotlib.font_manager\n",
    "import numpy as np\n",
    "import pandas as pd\n",
    "import psutil\n",
    "import scipy.stats as sps\n",
    "import seaborn as sns\n",
    "from sklearn.preprocessing import MinMaxScaler\n",
    "from statsmodels.stats.multitest import multipletests\n",
    "from tqdm import tqdm_notebook\n",
    "\n",
    "%matplotlib inline"
   ]
  },
  {
   "cell_type": "code",
   "execution_count": 4,
   "metadata": {
    "ExecuteTime": {
     "end_time": "2019-04-24T21:59:33.976878Z",
     "start_time": "2019-04-24T21:59:33.949924Z"
    }
   },
   "outputs": [
    {
     "data": {
      "application/javascript": [
       "IPython.notebook.set_autosave_interval(15000)"
      ]
     },
     "metadata": {},
     "output_type": "display_data"
    },
    {
     "name": "stdout",
     "output_type": "stream",
     "text": [
      "Autosaving every 15 seconds\n"
     ]
    }
   ],
   "source": [
    "# custom modules\n",
    "%aimport util\n",
    "%aimport qtls\n",
    "%aimport networks\n",
    "%autosave 15"
   ]
  },
  {
   "cell_type": "code",
   "execution_count": 5,
   "metadata": {
    "ExecuteTime": {
     "end_time": "2019-04-24T21:59:34.271751Z",
     "start_time": "2019-04-24T21:59:33.995306Z"
    }
   },
   "outputs": [
    {
     "data": {
      "text/html": [
       "<div>\n",
       "<style scoped>\n",
       "    .dataframe tbody tr th:only-of-type {\n",
       "        vertical-align: middle;\n",
       "    }\n",
       "\n",
       "    .dataframe tbody tr th {\n",
       "        vertical-align: top;\n",
       "    }\n",
       "\n",
       "    .dataframe thead th {\n",
       "        text-align: right;\n",
       "    }\n",
       "</style>\n",
       "<table border=\"1\" class=\"dataframe\">\n",
       "  <thead>\n",
       "    <tr style=\"text-align: right;\">\n",
       "      <th></th>\n",
       "      <th>gene</th>\n",
       "      <th>chromosome</th>\n",
       "      <th>peakPosition</th>\n",
       "      <th>LOD</th>\n",
       "      <th>2LODIntervalLeft</th>\n",
       "      <th>2LODIntervalRight</th>\n",
       "      <th>alleleFrequencyDifference</th>\n",
       "    </tr>\n",
       "  </thead>\n",
       "  <tbody>\n",
       "    <tr>\n",
       "      <th>0</th>\n",
       "      <td>YAL005C</td>\n",
       "      <td>chr01</td>\n",
       "      <td>38900</td>\n",
       "      <td>6.36</td>\n",
       "      <td>0</td>\n",
       "      <td>60900</td>\n",
       "      <td>0.109115</td>\n",
       "    </tr>\n",
       "    <tr>\n",
       "      <th>1</th>\n",
       "      <td>YAL005C</td>\n",
       "      <td>chr02</td>\n",
       "      <td>588000</td>\n",
       "      <td>4.73</td>\n",
       "      <td>524700</td>\n",
       "      <td>634000</td>\n",
       "      <td>-0.093632</td>\n",
       "    </tr>\n",
       "    <tr>\n",
       "      <th>2</th>\n",
       "      <td>YAL005C</td>\n",
       "      <td>chr04</td>\n",
       "      <td>42800</td>\n",
       "      <td>5.02</td>\n",
       "      <td>0</td>\n",
       "      <td>88700</td>\n",
       "      <td>-0.116080</td>\n",
       "    </tr>\n",
       "    <tr>\n",
       "      <th>3</th>\n",
       "      <td>YAL005C</td>\n",
       "      <td>chr04</td>\n",
       "      <td>732800</td>\n",
       "      <td>5.47</td>\n",
       "      <td>592300</td>\n",
       "      <td>817600</td>\n",
       "      <td>-0.087038</td>\n",
       "    </tr>\n",
       "    <tr>\n",
       "      <th>4</th>\n",
       "      <td>YAL005C</td>\n",
       "      <td>chr07</td>\n",
       "      <td>369700</td>\n",
       "      <td>24.57</td>\n",
       "      <td>352600</td>\n",
       "      <td>386600</td>\n",
       "      <td>0.237940</td>\n",
       "    </tr>\n",
       "  </tbody>\n",
       "</table>\n",
       "</div>"
      ],
      "text/plain": [
       "      gene chromosome  peakPosition    LOD  2LODIntervalLeft  \\\n",
       "0  YAL005C      chr01         38900   6.36                 0   \n",
       "1  YAL005C      chr02        588000   4.73            524700   \n",
       "2  YAL005C      chr04         42800   5.02                 0   \n",
       "3  YAL005C      chr04        732800   5.47            592300   \n",
       "4  YAL005C      chr07        369700  24.57            352600   \n",
       "\n",
       "   2LODIntervalRight  alleleFrequencyDifference  \n",
       "0              60900                   0.109115  \n",
       "1             634000                  -0.093632  \n",
       "2              88700                  -0.116080  \n",
       "3             817600                  -0.087038  \n",
       "4             386600                   0.237940  "
      ]
     },
     "execution_count": 5,
     "metadata": {},
     "output_type": "execute_result"
    }
   ],
   "source": [
    "qtl_df = pd.read_excel(\"data/processed/pQTLs/2018/XpQTLs.xlsx\")\n",
    "qtl_df.head()"
   ]
  },
  {
   "cell_type": "code",
   "execution_count": 6,
   "metadata": {
    "ExecuteTime": {
     "end_time": "2019-04-24T21:59:34.358278Z",
     "start_time": "2019-04-24T21:59:34.327542Z"
    }
   },
   "outputs": [
    {
     "data": {
      "text/html": [
       "<div>\n",
       "<style scoped>\n",
       "    .dataframe tbody tr th:only-of-type {\n",
       "        vertical-align: middle;\n",
       "    }\n",
       "\n",
       "    .dataframe tbody tr th {\n",
       "        vertical-align: top;\n",
       "    }\n",
       "\n",
       "    .dataframe thead th {\n",
       "        text-align: right;\n",
       "    }\n",
       "</style>\n",
       "<table border=\"1\" class=\"dataframe\">\n",
       "  <thead>\n",
       "    <tr style=\"text-align: right;\">\n",
       "      <th></th>\n",
       "      <th>peakPosition</th>\n",
       "      <th>LOD</th>\n",
       "      <th>2LODIntervalLeft</th>\n",
       "      <th>2LODIntervalRight</th>\n",
       "      <th>alleleFrequencyDifference</th>\n",
       "    </tr>\n",
       "  </thead>\n",
       "  <tbody>\n",
       "    <tr>\n",
       "      <th>count</th>\n",
       "      <td>1.025000e+03</td>\n",
       "      <td>1025.000000</td>\n",
       "      <td>1.025000e+03</td>\n",
       "      <td>1.025000e+03</td>\n",
       "      <td>1025.000000</td>\n",
       "    </tr>\n",
       "    <tr>\n",
       "      <th>mean</th>\n",
       "      <td>3.500489e+05</td>\n",
       "      <td>13.891815</td>\n",
       "      <td>3.122794e+05</td>\n",
       "      <td>3.876115e+05</td>\n",
       "      <td>0.002760</td>\n",
       "    </tr>\n",
       "    <tr>\n",
       "      <th>std</th>\n",
       "      <td>2.724686e+05</td>\n",
       "      <td>20.111925</td>\n",
       "      <td>2.716748e+05</td>\n",
       "      <td>2.738938e+05</td>\n",
       "      <td>0.176428</td>\n",
       "    </tr>\n",
       "    <tr>\n",
       "      <th>min</th>\n",
       "      <td>0.000000e+00</td>\n",
       "      <td>4.510000</td>\n",
       "      <td>0.000000e+00</td>\n",
       "      <td>3.650000e+04</td>\n",
       "      <td>-0.907393</td>\n",
       "    </tr>\n",
       "    <tr>\n",
       "      <th>25%</th>\n",
       "      <td>1.473000e+05</td>\n",
       "      <td>5.890000</td>\n",
       "      <td>1.065000e+05</td>\n",
       "      <td>1.795000e+05</td>\n",
       "      <td>-0.125956</td>\n",
       "    </tr>\n",
       "    <tr>\n",
       "      <th>50%</th>\n",
       "      <td>2.488000e+05</td>\n",
       "      <td>8.090000</td>\n",
       "      <td>2.140000e+05</td>\n",
       "      <td>2.870000e+05</td>\n",
       "      <td>0.080353</td>\n",
       "    </tr>\n",
       "    <tr>\n",
       "      <th>75%</th>\n",
       "      <td>4.863000e+05</td>\n",
       "      <td>13.090000</td>\n",
       "      <td>4.520000e+05</td>\n",
       "      <td>5.275000e+05</td>\n",
       "      <td>0.133873</td>\n",
       "    </tr>\n",
       "    <tr>\n",
       "      <th>max</th>\n",
       "      <td>1.468600e+06</td>\n",
       "      <td>222.110000</td>\n",
       "      <td>1.447700e+06</td>\n",
       "      <td>1.523200e+06</td>\n",
       "      <td>0.708913</td>\n",
       "    </tr>\n",
       "  </tbody>\n",
       "</table>\n",
       "</div>"
      ],
      "text/plain": [
       "       peakPosition          LOD  2LODIntervalLeft  2LODIntervalRight  \\\n",
       "count  1.025000e+03  1025.000000      1.025000e+03       1.025000e+03   \n",
       "mean   3.500489e+05    13.891815      3.122794e+05       3.876115e+05   \n",
       "std    2.724686e+05    20.111925      2.716748e+05       2.738938e+05   \n",
       "min    0.000000e+00     4.510000      0.000000e+00       3.650000e+04   \n",
       "25%    1.473000e+05     5.890000      1.065000e+05       1.795000e+05   \n",
       "50%    2.488000e+05     8.090000      2.140000e+05       2.870000e+05   \n",
       "75%    4.863000e+05    13.090000      4.520000e+05       5.275000e+05   \n",
       "max    1.468600e+06   222.110000      1.447700e+06       1.523200e+06   \n",
       "\n",
       "       alleleFrequencyDifference  \n",
       "count                1025.000000  \n",
       "mean                    0.002760  \n",
       "std                     0.176428  \n",
       "min                    -0.907393  \n",
       "25%                    -0.125956  \n",
       "50%                     0.080353  \n",
       "75%                     0.133873  \n",
       "max                     0.708913  "
      ]
     },
     "execution_count": 6,
     "metadata": {},
     "output_type": "execute_result"
    }
   ],
   "source": [
    "qtl_df.describe()"
   ]
  },
  {
   "cell_type": "code",
   "execution_count": 11,
   "metadata": {
    "ExecuteTime": {
     "end_time": "2019-04-24T22:00:25.160982Z",
     "start_time": "2019-04-24T22:00:25.150885Z"
    }
   },
   "outputs": [
    {
     "data": {
      "text/plain": [
       "3"
      ]
     },
     "execution_count": 11,
     "metadata": {},
     "output_type": "execute_result"
    }
   ],
   "source": [
    "qtl_df.groupby(\"peakPosition\").size().max()"
   ]
  }
 ],
 "metadata": {
  "kernelspec": {
   "display_name": "Python [conda env:anaconda3]",
   "language": "python",
   "name": "conda-env-anaconda3-py"
  },
  "language_info": {
   "codemirror_mode": {
    "name": "ipython",
    "version": 3
   },
   "file_extension": ".py",
   "mimetype": "text/x-python",
   "name": "python",
   "nbconvert_exporter": "python",
   "pygments_lexer": "ipython3",
   "version": "3.5.5"
  },
  "varInspector": {
   "cols": {
    "lenName": 16,
    "lenType": 16,
    "lenVar": 40
   },
   "kernels_config": {
    "python": {
     "delete_cmd_postfix": "",
     "delete_cmd_prefix": "del ",
     "library": "var_list.py",
     "varRefreshCmd": "print(var_dic_list())"
    },
    "r": {
     "delete_cmd_postfix": ") ",
     "delete_cmd_prefix": "rm(",
     "library": "var_list.r",
     "varRefreshCmd": "cat(var_dic_list()) "
    }
   },
   "types_to_exclude": [
    "module",
    "function",
    "builtin_function_or_method",
    "instance",
    "_Feature"
   ],
   "window_display": false
  }
 },
 "nbformat": 4,
 "nbformat_minor": 2
}
