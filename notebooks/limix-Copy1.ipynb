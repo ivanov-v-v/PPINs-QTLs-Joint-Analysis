{
 "cells": [
  {
   "cell_type": "code",
   "execution_count": 146,
   "metadata": {
    "ExecuteTime": {
     "end_time": "2019-03-29T22:17:46.748243Z",
     "start_time": "2019-03-29T22:17:46.731537Z"
    }
   },
   "outputs": [],
   "source": [
    "from collections import Counter, defaultdict\n",
    "import itertools\n",
    "\n",
    "import gc\n",
    "from joblib import Parallel, delayed\n",
    "import limix\n",
    "import matplotlib.pyplot as plt\n",
    "import matplotlib.gridspec as gridspec\n",
    "import pandas as pd\n",
    "import pickle\n",
    "import scipy.stats as sps\n",
    "import seaborn as sns\n",
    "import statsmodels.stats.multitest as multitest\n",
    "from tqdm import tqdm_notebook\n",
    "\n",
    "gc.enable()\n",
    "sns.set()\n",
    "sns.set_style({\"font.family\" : \"serif\"})\n",
    "\n",
    "%matplotlib inline"
   ]
  },
  {
   "cell_type": "code",
   "execution_count": 2,
   "metadata": {
    "ExecuteTime": {
     "end_time": "2019-03-29T16:20:42.116892Z",
     "start_time": "2019-03-29T16:20:42.061577Z"
    }
   },
   "outputs": [],
   "source": [
    "# neccessities for the project setup\n",
    "# this enables automatic reload of the libraries specific to this project\n",
    "%load_ext autoreload\n",
    "%autoreload 1\n",
    "\n",
    "import multiprocessing as mp\n",
    "import os\n",
    "import sys\n",
    "\n",
    "# fs_utils.py stores paths to every other directory in the projects\n",
    "# this module is located at the top level of the repository\n",
    "# jupyter can't see it unless I change the cwd manually\n",
    "# official man page tells that it's not actually possible in any other way\n",
    "sys.path.append(os.path.abspath(\"..\"))\n",
    "%aimport fs_utils\n",
    "\n",
    "# extend != append, the former appends the content while \n",
    "# the latter — the list with two elements...\n",
    "os.chdir(fs_utils.ROOT_DIR)\n",
    "sys.path.extend([fs_utils.LIB_DIR, fs_utils.ROOT_DIR, fs_utils.SRC_DIR])"
   ]
  },
  {
   "cell_type": "code",
   "execution_count": 6,
   "metadata": {
    "ExecuteTime": {
     "end_time": "2019-03-29T15:22:27.231796Z",
     "start_time": "2019-03-29T15:22:26.929236Z"
    }
   },
   "outputs": [],
   "source": [
    "# custom modules\n",
    "%aimport util\n",
    "%aimport qtls"
   ]
  },
  {
   "cell_type": "code",
   "execution_count": 173,
   "metadata": {
    "ExecuteTime": {
     "end_time": "2019-03-29T22:37:58.228977Z",
     "start_time": "2019-03-29T22:37:55.379208Z"
    }
   },
   "outputs": [],
   "source": [
    "expression_df = {\n",
    "    \"mRNA_2011\" : pd.read_csv(\"data/raw/eQTLs/2011/expression.csv\", sep='\\t'),\n",
    "    \"mRNA_2018\" : pd.read_csv(\"data/raw/eQTLs/2018/expression.csv\", sep='\\t'),\n",
    "    \"protein_2011\" : pd.read_csv(\"data/raw/pQTLs/2011/expression.csv\", sep='\\t')\n",
    "}\n",
    "genotypes_df = {\n",
    "    \"2011\" : pd.read_csv(\"data/raw/eQTLs/2011/genotypes.csv\", sep='\\t'),\n",
    "    \"2018\" : pd.read_csv(\"data/raw/eQTLs/2018/genotypes_filtered.csv\", sep='\\t')\n",
    "}\n",
    "covariates_df = {\"2018\" : pd.read_csv(\"data/raw/eQTLs/2018/covariates_A&B.csv\", sep='\\t')}\n",
    "qtls_df = {\n",
    "    \"eQTLs_2011\" : pd.read_csv(\"data/processed/eQTLs/2011/qtls_naive.csv\", sep='\\t'),\n",
    "    \"eQTLs_2018\" : pd.read_csv(\"data/processed/eQTLs/2018/qtls_albert&bloom_from_paper.csv\", sep='\\t'),\n",
    "    \"pQTLs_2011\" : pd.read_csv(\"data/processed/pQTLs/2011/qtls_naive.csv\", sep='\\t')\n",
    "}"
   ]
  },
  {
   "cell_type": "code",
   "execution_count": 136,
   "metadata": {
    "ExecuteTime": {
     "end_time": "2019-03-29T22:12:05.803477Z",
     "start_time": "2019-03-29T22:12:04.993109Z"
    }
   },
   "outputs": [
    {
     "name": "stderr",
     "output_type": "stream",
     "text": [
      "\n",
      "Kinship:   0%|          | 0/101 [00:00<?, ?it/s]\u001b[A\n",
      "Kinship:  16%|█▌        | 16/101 [00:00<00:00, 158.42it/s]\u001b[A\n",
      "Kinship:  38%|███▊      | 38/101 [00:00<00:00, 172.00it/s]\u001b[A\n",
      "Kinship:  60%|██████    | 61/101 [00:00<00:00, 185.26it/s]\u001b[A\n",
      "Kinship:  82%|████████▏ | 83/101 [00:00<00:00, 194.25it/s]\u001b[A\n",
      "Kinship: 100%|██████████| 101/101 [00:00<00:00, 206.87it/s]\u001b[A"
     ]
    }
   ],
   "source": [
    "G = (genotypes_df[\"2018\"].drop(columns=[\"SNP\"]).iloc[:, :-2].values).T // 2\n",
    "G[np.isnan(G)] = 2\n",
    "Y = (expression_df[\"mRNA_2018\"].drop(columns=[\"gene\"]).astype(np.float32).values).T\n",
    "Y = limix.qc.mean_impute(Y)\n",
    "C = covariates_df[\"2018\"].drop(columns=[\"segregant\"]).values\n",
    "C = np.column_stack((np.ones(C.shape[0]), C))\n",
    "K = limix.stats.linear_kinship(G)\n",
    "assert G.shape[0] == Y.shape[0] == C.shape[0]"
   ]
  },
  {
   "cell_type": "markdown",
   "metadata": {
    "ExecuteTime": {
     "end_time": "2019-03-22T14:06:23.567499Z",
     "start_time": "2019-03-22T14:06:23.558322Z"
    }
   },
   "source": [
    "I tried to use `limix.qtl.mt_scan` as prescribed in [official documentation](https://limix.readthedocs.io/en/stable/qtl.html#multi-trait-association), but it fails with cryptic warnings throwing from within `scipy.linalg`. I have no idea why this happens, I am going to submit an issue. So far I am forced to process the features one-by-one. And still, many questions arise. \n",
    "\n",
    "Nevertheless, this package works like a charm compared to the mess provided by Albert and Bloom."
   ]
  },
  {
   "cell_type": "markdown",
   "metadata": {},
   "source": [
    "## General questions\n",
    "\n",
    "* How to choose the `lik` parameter of `limix.qtl.st_scan`? It stands for the residual distribution in generalized linear model. Documentation states, that `lik` value must be set prior to the fitting of the model, but the very choice of an underlying statistical model is specified by the `lik` value... Sounds like a vicious circle. I decided to go on with the default `lik` value — _normal_, but I don't feel right for not carrying out any in-depth statistical analysis that could justify this choice.\n",
    "* Same questions about the `K` parameter. It seems to be some kind of relatedness matrix. They provide several functions for its inference, such as `limix.stats.linear_kinship` ([manual](https://limix.readthedocs.io/en/stable/stats.html?highlight=linear_kinship)), but without describing the underlying algorithm. It's worth sending them a literature request."
   ]
  },
  {
   "cell_type": "code",
   "execution_count": 227,
   "metadata": {
    "ExecuteTime": {
     "end_time": "2019-03-29T23:04:32.065593Z",
     "start_time": "2019-03-29T23:04:32.038662Z"
    }
   },
   "outputs": [],
   "source": [
    "class LimixQTLMapper():\n",
    "    def __init__(self, G, Y, # essential model parameters\n",
    "                 kind, gene_list, marker_list, # data specification\n",
    "                 M=None, K=None, lik=\"normal\", # model parameters\n",
    "                 batch_size=512, thresh=0.05): # map-reduce parameters\n",
    "        self.G = G\n",
    "        self.Y = Y\n",
    "        self.M = M\n",
    "        self.K = K\n",
    "        \n",
    "        self.gene_list = gene_list\n",
    "        self.marker_list = marker_list\n",
    "        \n",
    "        self.batch_size = batch_size\n",
    "        self.kind = kind\n",
    "        self.lik = lik\n",
    "        self.thresh = thresh\n",
    "        \n",
    "    @staticmethod\n",
    "    def _get_raw_pvalues(**st_scan_kwargs):\n",
    "        return limix.qtl.st_scan(**st_scan_kwargs).variant_pvalues\n",
    "    \n",
    "    @staticmethod\n",
    "    def _adjust_pvalues(raw_pvalues):\n",
    "        return limix.stats.multipletests(raw_pvalues, method=\"holm\")[1]\n",
    "    \n",
    "    @staticmethod\n",
    "    def _filter_significant(raw_pvalues, thresh):\n",
    "        return np.where(raw_pvalues < thresh)[0]\n",
    "    \n",
    "    def map(self):\n",
    "        n_genes = self.Y.shape[1]\n",
    "        for i in np.arange(0, n_genes, self.batch_size):\n",
    "            raw_pvalues_batch = np.vstack(\n",
    "                Parallel(n_jobs=-1)\n",
    "                (delayed(LimixQTLMapper._get_raw_pvalues)\n",
    "                 (G=self.G, y=self.Y[:, gene_idx], \n",
    "                  K=self.K, M=self.M, \n",
    "                  lik=self.lik, verbose=False)\n",
    "                 \n",
    "                 for gene_idx \n",
    "                 in tqdm_notebook(np.arange(n_genes)\n",
    "                                  [i:min(i + self.batch_size, n_genes)], \n",
    "                                  desc=(\"getting raw p-values, batch {} out of {}\"\\\n",
    "                                        .format(i // self.batch_size, \n",
    "                                                np.ceil(n_genes / self.batch_size).astype(np.int32))))\n",
    "                )\n",
    "            )\n",
    "            \n",
    "            path_to_dump = (\"data/tmp/limix/\" \n",
    "                            + self.kind\n",
    "                            + \"_p_raw_{}.pkl\".format(i))\n",
    "            \n",
    "            with open(path_to_dump, \"wb\") as outfile:\n",
    "                pickle.dump(raw_pvalues_batch, outfile)\n",
    "\n",
    "            del raw_pvalues_batch\n",
    "            gc.collect()\n",
    "            \n",
    "    def reduce(self):\n",
    "        raw_pvalues = None\n",
    "        n_genes = Y.shape[1]\n",
    "        for i in tqdm_notebook(range(0, n_genes, self.batch_size), \n",
    "                               desc=\"loading p-value batches\"):\n",
    "            \n",
    "            path_to_batch_dump = (\"data/tmp/limix/\" \n",
    "                                  + self.kind\n",
    "                                  + \"_p_raw_{}.pkl\".format(i))\n",
    "            \n",
    "            with open(path_to_batch_dump, \"rb\") as infile:\n",
    "                raw_pvalues_batch = pickle.load(infile)\n",
    "                \n",
    "            raw_pvalues = (np.vstack((raw_pvalues, raw_pvalues_batch)) \n",
    "                           if raw_pvalues is not None\n",
    "                           else raw_pvalues_batch)\n",
    "            \n",
    "        with open((\"data/tmp/limix/\" \n",
    "                   + self.kind\n",
    "                   + \"_p_raw.pkl\"), \"wb\") as outfile:\n",
    "            pickle.dump(raw_pvalues, outfile)\n",
    "            \n",
    "        adjusted_pvalues = Parallel(n_jobs=-1)(\n",
    "            delayed(LimixQTLMapper._adjust_pvalues)(row) \n",
    "            for row in tqdm_notebook(raw_pvalues, \n",
    "                                     desc=\"p-value adjustment\")\n",
    "        )\n",
    "        \n",
    "        with open((\"data/tmp/limix/\" \n",
    "                   + self.kind \n",
    "                   + \"_p_adjusted.pkl\"), \"wb\") as outfile:\n",
    "            pickle.dump(adjusted_pvalues, outfile)\n",
    "            \n",
    "        limix_qtls = Parallel(n_jobs=-1)(\n",
    "            delayed(LimixQTLMapper._filter_significant)(row, self.thresh) \n",
    "            for row in tqdm_notebook(adjusted_pvalues, \n",
    "                                     desc=\"p-value filtering\")\n",
    "        )\n",
    "        \n",
    "        indices = [(i, j) \n",
    "                   for i in range(n_genes) \n",
    "                   for j in limix_qtls[i]]\n",
    "            \n",
    "        self.limix_qtls_df = pd.DataFrame(\n",
    "            [(self.gene_list[i], \n",
    "             self.marker_list[j], \n",
    "             adjusted_pvalues[i][j])\n",
    "             for i, j in tqdm_notebook(indices, \n",
    "                                       desc=\"dataframe formation\")\n",
    "            ], columns=[\"gene\", \"SNP\", \"q_value\"])\n",
    "        \n",
    "        return self.limix_qtls_df\n",
    "    \n",
    "    def map_reduce(self):\n",
    "        self.map()\n",
    "        return self.reduce()"
   ]
  },
  {
   "cell_type": "code",
   "execution_count": 163,
   "metadata": {
    "ExecuteTime": {
     "end_time": "2019-03-29T22:32:09.512695Z",
     "start_time": "2019-03-29T22:32:05.417120Z"
    }
   },
   "outputs": [
    {
     "data": {
      "application/vnd.jupyter.widget-view+json": {
       "model_id": "cd82e6a92e0b4c92bf882dc149287eb9",
       "version_major": 2,
       "version_minor": 0
      },
      "text/plain": [
       "HBox(children=(IntProgress(value=0, description='p-value adjustment', max=1024, style=ProgressStyle(descriptio…"
      ]
     },
     "metadata": {},
     "output_type": "display_data"
    },
    {
     "data": {
      "application/vnd.jupyter.widget-view+json": {
       "model_id": "bc14c283dd2c447bb50f7414c26fdb0a",
       "version_major": 2,
       "version_minor": 0
      },
      "text/plain": [
       "HBox(children=(IntProgress(value=0, description='p-value filtering', max=5720, style=ProgressStyle(description…"
      ]
     },
     "metadata": {},
     "output_type": "display_data"
    },
    {
     "data": {
      "application/vnd.jupyter.widget-view+json": {
       "model_id": "a4cb60fa28ba448ea9dc363b58c7deb7",
       "version_major": 2,
       "version_minor": 0
      },
      "text/plain": [
       "HBox(children=(IntProgress(value=0, description='dataframe formation', max=18420, style=ProgressStyle(descript…"
      ]
     },
     "metadata": {},
     "output_type": "display_data"
    }
   ],
   "source": [
    "limix_mapper = LimixQTLMapper(\n",
    "    G=G, Y=Y, K=K, M=C, kind=\"A&B_eQTLs_2018\",\n",
    "    gene_list=expression_df[\"mRNA_2018\"][\"gene\"],\n",
    "    marker_list=genotypes_df[\"2018\"][\"SNP\"],\n",
    "    thresh=1e-3\n",
    ")\n",
    "limix_qtls_df = limix_mapper.reduce()"
   ]
  },
  {
   "cell_type": "markdown",
   "metadata": {},
   "source": [
    "## 2018, paper of Albert&Bloom"
   ]
  },
  {
   "cell_type": "code",
   "execution_count": 115,
   "metadata": {
    "ExecuteTime": {
     "end_time": "2019-03-29T19:43:36.202749Z",
     "start_time": "2019-03-29T17:40:17.990600Z"
    },
    "scrolled": false
   },
   "outputs": [
    {
     "name": "stderr",
     "output_type": "stream",
     "text": [
      "\n",
      "Kinship:   0%|          | 0/101 [00:00<?, ?it/s]\u001b[A\n",
      "Kinship:  13%|█▎        | 13/101 [00:00<00:00, 125.99it/s]\u001b[A\n",
      "Kinship:  32%|███▏      | 32/101 [00:00<00:00, 138.78it/s]\u001b[A\n",
      "Kinship:  46%|████▌     | 46/101 [00:00<00:00, 137.57it/s]\u001b[A\n",
      "Kinship:  66%|██████▋   | 67/101 [00:00<00:00, 152.44it/s]\u001b[A\n",
      "Kinship:  82%|████████▏ | 83/101 [00:00<00:00, 152.93it/s]\u001b[A\n",
      "Kinship:  96%|█████████▌| 97/101 [00:00<00:00, 145.41it/s]\u001b[A\n",
      "Kinship: 100%|██████████| 101/101 [00:00<00:00, 156.36it/s]\u001b[A"
     ]
    },
    {
     "data": {
      "application/vnd.jupyter.widget-view+json": {
       "model_id": "944736d9c320434f919dcc2ff39892e3",
       "version_major": 2,
       "version_minor": 0
      },
      "text/plain": [
       "HBox(children=(IntProgress(value=0, max=512), HTML(value='')))"
      ]
     },
     "metadata": {},
     "output_type": "display_data"
    },
    {
     "data": {
      "application/vnd.jupyter.widget-view+json": {
       "model_id": "541363b0af00425cbb793d5c4939df86",
       "version_major": 2,
       "version_minor": 0
      },
      "text/plain": [
       "HBox(children=(IntProgress(value=0, max=512), HTML(value='')))"
      ]
     },
     "metadata": {},
     "output_type": "display_data"
    },
    {
     "data": {
      "application/vnd.jupyter.widget-view+json": {
       "model_id": "c320879e4a2848a682930925fd734983",
       "version_major": 2,
       "version_minor": 0
      },
      "text/plain": [
       "HBox(children=(IntProgress(value=0, max=512), HTML(value='')))"
      ]
     },
     "metadata": {},
     "output_type": "display_data"
    },
    {
     "data": {
      "application/vnd.jupyter.widget-view+json": {
       "model_id": "01ceea3870094dfab38f19d38fb98fb3",
       "version_major": 2,
       "version_minor": 0
      },
      "text/plain": [
       "HBox(children=(IntProgress(value=0, max=512), HTML(value='')))"
      ]
     },
     "metadata": {},
     "output_type": "display_data"
    },
    {
     "data": {
      "application/vnd.jupyter.widget-view+json": {
       "model_id": "28e7a7cc7de34348875225e45738dab3",
       "version_major": 2,
       "version_minor": 0
      },
      "text/plain": [
       "HBox(children=(IntProgress(value=0, max=512), HTML(value='')))"
      ]
     },
     "metadata": {},
     "output_type": "display_data"
    },
    {
     "data": {
      "application/vnd.jupyter.widget-view+json": {
       "model_id": "5466700f89a64de9a2834cf170fc1129",
       "version_major": 2,
       "version_minor": 0
      },
      "text/plain": [
       "HBox(children=(IntProgress(value=0, max=512), HTML(value='')))"
      ]
     },
     "metadata": {},
     "output_type": "display_data"
    },
    {
     "data": {
      "application/vnd.jupyter.widget-view+json": {
       "model_id": "05a795438f0c4cad90524e31c10ee97b",
       "version_major": 2,
       "version_minor": 0
      },
      "text/plain": [
       "HBox(children=(IntProgress(value=0, max=512), HTML(value='')))"
      ]
     },
     "metadata": {},
     "output_type": "display_data"
    },
    {
     "data": {
      "application/vnd.jupyter.widget-view+json": {
       "model_id": "5fc53a9f4c7f4137b1d4d046dcb131e1",
       "version_major": 2,
       "version_minor": 0
      },
      "text/plain": [
       "HBox(children=(IntProgress(value=0, max=512), HTML(value='')))"
      ]
     },
     "metadata": {},
     "output_type": "display_data"
    },
    {
     "data": {
      "application/vnd.jupyter.widget-view+json": {
       "model_id": "f8839919407540529a4d8a0ef2d8689b",
       "version_major": 2,
       "version_minor": 0
      },
      "text/plain": [
       "HBox(children=(IntProgress(value=0, max=512), HTML(value='')))"
      ]
     },
     "metadata": {},
     "output_type": "display_data"
    },
    {
     "data": {
      "application/vnd.jupyter.widget-view+json": {
       "model_id": "ad19f99e6cf64790963ee8eddc7ea88a",
       "version_major": 2,
       "version_minor": 0
      },
      "text/plain": [
       "HBox(children=(IntProgress(value=0, max=512), HTML(value='')))"
      ]
     },
     "metadata": {},
     "output_type": "display_data"
    },
    {
     "data": {
      "application/vnd.jupyter.widget-view+json": {
       "model_id": "786bf351a9314ccaabba1c3172f729b3",
       "version_major": 2,
       "version_minor": 0
      },
      "text/plain": [
       "HBox(children=(IntProgress(value=0, max=512), HTML(value='')))"
      ]
     },
     "metadata": {},
     "output_type": "display_data"
    },
    {
     "data": {
      "application/vnd.jupyter.widget-view+json": {
       "model_id": "cf0f7f6c9922465487dc0e323ecfa1e5",
       "version_major": 2,
       "version_minor": 0
      },
      "text/plain": [
       "HBox(children=(IntProgress(value=0, max=88), HTML(value='')))"
      ]
     },
     "metadata": {},
     "output_type": "display_data"
    }
   ],
   "source": [
    "def get_raw_pvalues(**st_scan_kwargs):\n",
    "    return limix.qtl.st_scan(**st_scan_kwargs).variant_pvalues\n",
    "    \n",
    "K = limix.stats.linear_kinship(G)\n",
    "offset = 512\n",
    "for i in np.arange(0, Y.shape[1], offset):\n",
    "    raw_pvalues_batch = np.vstack(\n",
    "        Parallel(n_jobs=-1)\n",
    "        (delayed(get_raw_pvalues)(G=G, \n",
    "                                  y=Y[:, gene_idx], \n",
    "                                  K=K,\n",
    "                                  M=C, \n",
    "                                  lik=\"normal\", \n",
    "                                  verbose=False)\n",
    "         for gene_idx \n",
    "         in tqdm_notebook(np.arange(Y.shape[1])\n",
    "                          [i:min(i + offset, Y.shape[1])]))\n",
    "    )\n",
    "    \n",
    "    with open(\"data/tmp/limix/A&B_eQTLs_2018_p_raw_{}.pkl\".format(i), \"wb\") as outfile:\n",
    "        pickle.dump(raw_pvalues_batch, outfile)\n",
    "        \n",
    "    del raw_pvalues_batch\n",
    "    gc.collect()"
   ]
  },
  {
   "cell_type": "code",
   "execution_count": 116,
   "metadata": {
    "ExecuteTime": {
     "end_time": "2019-03-29T21:26:25.706856Z",
     "start_time": "2019-03-29T21:26:23.890813Z"
    }
   },
   "outputs": [],
   "source": [
    "raw_variant_pvalues = None\n",
    "for i in range(0, expression_df[\"mRNA_2018\"].shape[0], 512):\n",
    "    with open(\"data/tmp/limix/A&B_eQTLs_2018_p_adjusted_{}.pkl\".format(i), \"rb\") as infile:\n",
    "        batch = pickle.load(infile)\n",
    "        if raw_variant_pvalues is not None: \n",
    "            raw_variant_pvalues = np.vstack((raw_variant_pvalues, \n",
    "                                             batch))\n",
    "        else: \n",
    "            raw_variant_pvalues = batch"
   ]
  },
  {
   "cell_type": "code",
   "execution_count": 129,
   "metadata": {
    "ExecuteTime": {
     "end_time": "2019-03-29T21:46:10.315802Z",
     "start_time": "2019-03-29T21:46:09.905345Z"
    }
   },
   "outputs": [],
   "source": [
    "with open(\"data/tmp/limix/A&B_eQTLs_2018_p_raw.pkl\", \"wb\") as outfile:\n",
    "    pickle.dump(raw_variant_pvalues, outfile)"
   ]
  },
  {
   "cell_type": "code",
   "execution_count": 118,
   "metadata": {
    "ExecuteTime": {
     "end_time": "2019-03-29T21:40:27.743652Z",
     "start_time": "2019-03-29T21:40:08.940843Z"
    },
    "scrolled": true
   },
   "outputs": [
    {
     "data": {
      "application/vnd.jupyter.widget-view+json": {
       "model_id": "b526f6cee2d74113a74ecc521e7657a4",
       "version_major": 2,
       "version_minor": 0
      },
      "text/plain": [
       "HBox(children=(IntProgress(value=0, max=5720), HTML(value='')))"
      ]
     },
     "metadata": {},
     "output_type": "display_data"
    }
   ],
   "source": [
    "adjusted_limix_pvalues = Parallel(n_jobs=-1)(\n",
    "    delayed(lambda row: limix.stats.multipletests(row, method=\"holm\")[1])(row) \n",
    "    for row in tqdm_notebook(raw_variant_pvalues)\n",
    ")"
   ]
  },
  {
   "cell_type": "code",
   "execution_count": 130,
   "metadata": {
    "ExecuteTime": {
     "end_time": "2019-03-29T21:46:36.054949Z",
     "start_time": "2019-03-29T21:46:35.432572Z"
    }
   },
   "outputs": [],
   "source": [
    "with open(\"data/tmp/limix/A&B_eQTLs_2018_p_adjusted.pkl\", \"wb\") as outfile:\n",
    "    pickle.dump(adjusted_limix_pvalues, outfile)"
   ]
  },
  {
   "cell_type": "code",
   "execution_count": 119,
   "metadata": {
    "ExecuteTime": {
     "end_time": "2019-03-29T21:43:04.892656Z",
     "start_time": "2019-03-29T21:43:00.336022Z"
    }
   },
   "outputs": [
    {
     "data": {
      "application/vnd.jupyter.widget-view+json": {
       "model_id": "8423814587d94480bc320a194b5aeb6b",
       "version_major": 2,
       "version_minor": 0
      },
      "text/plain": [
       "HBox(children=(IntProgress(value=0, max=5720), HTML(value='')))"
      ]
     },
     "metadata": {},
     "output_type": "display_data"
    }
   ],
   "source": [
    "limix_qtls = Parallel(n_jobs=-1)(\n",
    "    delayed(lambda row: np.where(row < 1e-3)[0])(row) \n",
    "    for row in tqdm_notebook(adjusted_limix_pvalues)\n",
    ")"
   ]
  },
  {
   "cell_type": "code",
   "execution_count": 120,
   "metadata": {
    "ExecuteTime": {
     "end_time": "2019-03-29T21:43:08.157576Z",
     "start_time": "2019-03-29T21:43:08.148964Z"
    }
   },
   "outputs": [
    {
     "data": {
      "text/plain": [
       "106832"
      ]
     },
     "execution_count": 120,
     "metadata": {},
     "output_type": "execute_result"
    }
   ],
   "source": [
    "np.sum([len(x) for x in limix_qtls])"
   ]
  },
  {
   "cell_type": "code",
   "execution_count": 127,
   "metadata": {
    "ExecuteTime": {
     "end_time": "2019-03-29T21:45:13.918195Z",
     "start_time": "2019-03-29T21:45:11.153968Z"
    }
   },
   "outputs": [
    {
     "data": {
      "application/vnd.jupyter.widget-view+json": {
       "model_id": "45e72ad4402a4c02a22e728dea1d19d4",
       "version_major": 2,
       "version_minor": 0
      },
      "text/plain": [
       "HBox(children=(IntProgress(value=0, max=5720), HTML(value='')))"
      ]
     },
     "metadata": {},
     "output_type": "display_data"
    }
   ],
   "source": [
    "genes = expression_df[\"mRNA_2018\"][\"gene\"]\n",
    "markers = genotypes_df[\"2018\"][\"SNP\"]\n",
    "\n",
    "limix_qtls_df = pd.DataFrame([\n",
    "    (genes[i], \n",
    "     markers[limix_qtls[i][j]], \n",
    "     adjusted_limix_pvalues[i][limix_qtls[i][j]])\n",
    "    for i in tqdm_notebook(range(len(limix_qtls)))\n",
    "    for j in range(len(limix_qtls[i]))\n",
    "], columns=[\"gene\", \"SNP\", \"q_value\"])"
   ]
  },
  {
   "cell_type": "code",
   "execution_count": 131,
   "metadata": {
    "ExecuteTime": {
     "end_time": "2019-03-29T21:47:18.974588Z",
     "start_time": "2019-03-29T21:47:18.630974Z"
    }
   },
   "outputs": [],
   "source": [
    "limix_qtls_df.to_csv(\"data/processed/eQTLs/2018/limix.csv\", sep='\\t', index=False)"
   ]
  },
  {
   "cell_type": "code",
   "execution_count": 164,
   "metadata": {
    "ExecuteTime": {
     "end_time": "2019-03-29T22:32:18.842638Z",
     "start_time": "2019-03-29T22:32:18.024796Z"
    }
   },
   "outputs": [
    {
     "data": {
      "image/png": "[encoded data removed]",
      "text/plain": [
       "<Figure size 1008x432 with 2 Axes>"
      ]
     },
     "metadata": {
      "needs_background": "light"
     },
     "output_type": "display_data"
    }
   ],
   "source": [
    "gs = gridspec.GridSpec(1, 2)\n",
    "fig = plt.figure(figsize=(14, 6))\n",
    "fig.suptitle(\"#genes linked to marker\", fontsize=20)\n",
    "axes = [plt.subplot(gs[i]) for i in range(2)]\n",
    "\n",
    "axes[0].hist(Counter(qtls_df[\"eQTLs_2018\"][\"SNP\"]).values());\n",
    "axes[0].set_title(\"A&B 2018\", fontsize=16)\n",
    "axes[0].set_yscale(\"log\")\n",
    "\n",
    "axes[1].hist(Counter(limix_qtls_df[\"SNP\"]).values())\n",
    "axes[1].set_title(\"limix\", fontsize=16)\n",
    "axes[1].set_yscale(\"log\")"
   ]
  },
  {
   "cell_type": "code",
   "execution_count": 165,
   "metadata": {
    "ExecuteTime": {
     "end_time": "2019-03-29T22:32:21.622147Z",
     "start_time": "2019-03-29T22:32:20.929050Z"
    }
   },
   "outputs": [
    {
     "data": {
      "image/png": "[encoded data removed]",
      "text/plain": [
       "<Figure size 1008x432 with 2 Axes>"
      ]
     },
     "metadata": {
      "needs_background": "light"
     },
     "output_type": "display_data"
    }
   ],
   "source": [
    "gs = gridspec.GridSpec(1, 2)\n",
    "fig = plt.figure(figsize=(14, 6))\n",
    "fig.suptitle(\"#markers linked to gene\", fontsize=20)\n",
    "\n",
    "axes = [plt.subplot(gs[i]) for i in range(2)]\n",
    "axes[0].hist(Counter(qtls_df[\"eQTLs_2018\"][\"gene\"]).values());\n",
    "axes[0].set_title(\"A&B 2018\", fontsize=16)\n",
    "axes[0].set_yscale(\"log\")\n",
    "\n",
    "axes[1].hist(Counter(limix_qtls_df[\"gene\"]).values())\n",
    "axes[1].set_title(\"limix\", fontsize=16)\n",
    "axes[1].set_yscale(\"log\")"
   ]
  },
  {
   "cell_type": "code",
   "execution_count": 166,
   "metadata": {
    "ExecuteTime": {
     "end_time": "2019-03-29T22:32:24.489528Z",
     "start_time": "2019-03-29T22:32:24.443780Z"
    }
   },
   "outputs": [
    {
     "ename": "NameError",
     "evalue": "name 'qtls' is not defined",
     "output_type": "error",
     "traceback": [
      "\u001b[0;31m---------------------------------------------------------------------\u001b[0m",
      "\u001b[0;31mNameError\u001b[0m                           Traceback (most recent call last)",
      "\u001b[0;32m<ipython-input-166-b64acf532219>\u001b[0m in \u001b[0;36m<module>\u001b[0;34m\u001b[0m\n\u001b[1;32m     11\u001b[0m     \u001b[0mchromosome_endpoints\u001b[0m \u001b[0;34m=\u001b[0m \u001b[0mpickle\u001b[0m\u001b[0;34m.\u001b[0m\u001b[0mload\u001b[0m\u001b[0;34m(\u001b[0m\u001b[0mpickle_file\u001b[0m\u001b[0;34m)\u001b[0m\u001b[0;34m\u001b[0m\u001b[0;34m\u001b[0m\u001b[0m\n\u001b[1;32m     12\u001b[0m \u001b[0;34m\u001b[0m\u001b[0m\n\u001b[0;32m---> 13\u001b[0;31m \u001b[0mlimix_eQTL_markers\u001b[0m\u001b[0;34m,\u001b[0m \u001b[0mlimix_eQTL_y\u001b[0m \u001b[0;34m=\u001b[0m \u001b[0mqtls\u001b[0m\u001b[0;34m.\u001b[0m\u001b[0mlinkages2gencoords\u001b[0m\u001b[0;34m(\u001b[0m\u001b[0mlimix_qtls_df\u001b[0m\u001b[0;34m)\u001b[0m\u001b[0;34m\u001b[0m\u001b[0;34m\u001b[0m\u001b[0m\n\u001b[0m\u001b[1;32m     14\u001b[0m \u001b[0;31m# pQTL_markers, pQTL_y = qtls.linkages2gencoords(\u001b[0m\u001b[0;34m\u001b[0m\u001b[0;34m\u001b[0m\u001b[0;34m\u001b[0m\u001b[0m\n\u001b[1;32m     15\u001b[0m \u001b[0;31m#     pd.read_csv(\"data/processed/pQTLs/2011/qtls_naive.csv\",\u001b[0m\u001b[0;34m\u001b[0m\u001b[0;34m\u001b[0m\u001b[0;34m\u001b[0m\u001b[0m\n",
      "\u001b[0;31mNameError\u001b[0m: name 'qtls' is not defined"
     ]
    }
   ],
   "source": [
    "\"\"\" Plot the distributions of each QTL dataset\"\"\"\n",
    "\n",
    "sns.set(style=\"whitegrid\")\n",
    "\n",
    "\n",
    "q_value_threshold = 1e-3\n",
    "with open(\"./data/raw/genomic_features/order_of_markers.pkl\", \"rb\") as pickle_file:\n",
    "    marker2location = pickle.load(pickle_file)\n",
    "with open(\"./data/raw/genomic_features/chromosome_endpoints.pkl\",\n",
    "          \"rb\") as pickle_file:\n",
    "    chromosome_endpoints = pickle.load(pickle_file)\n",
    "    \n",
    "limix_eQTL_markers, limix_eQTL_y = qtls.linkages2gencoords(limix_qtls_df)\n",
    "# pQTL_markers, pQTL_y = qtls.linkages2gencoords(\n",
    "#     pd.read_csv(\"data/processed/pQTLs/2011/qtls_naive.csv\", \n",
    "#                 sep='\\t')\n",
    "# )\n",
    "# old_eQTL_markers, old_eQTL_y = qtls.linkages2gencoords(\n",
    "#     pd.read_csv(\"data/processed/eQTLs/2011/qtls_naive.csv\", \n",
    "#                 sep='\\t')\n",
    "# )\n",
    "new_eQTL_markers, new_eQTL_y = qtls.linkages2gencoords(\n",
    "    pd.read_csv(\"data/processed/eQTLs/2018/qtls_albert&bloom_from_paper.csv\", \n",
    "                sep='\\t')\n",
    ")\n",
    "\n",
    "# pQTL_x = list(map(marker2location.get, pQTL_markers))\n",
    "# old_eQTL_x = list(map(marker2location.get, old_eQTL_markers))\n",
    "new_eQTL_x = list(map(marker2location.get, new_eQTL_markers))\n",
    "limix_eQTL_x = list(map(marker2location.get, limix_eQTL_markers))\n",
    "\n",
    "colors_dict = dict(\n",
    "    zip([\n",
    "        \"eQTLs_2011\", \"eQTLs_limix\", \"eQTLs_2018\"\n",
    "    ], plt.rcParams['axes.prop_cycle'].by_key()['color'][:3]))\n",
    "\n",
    "colors_dict[\"pQTLs_2011\"] = \"black\"\n",
    "plt.figure(figsize=(30, 10))\n",
    "# plt.title(\n",
    "#     \"MatrixEQTL_ANOVA vs A&B\",\n",
    "#     fontsize=30)\n",
    "for n in range(1, 17):\n",
    "    plt.axvline(\n",
    "        x=chromosome_endpoints[n - 1], linestyle='--', color='grey', alpha=0.8)\n",
    "    plt.text(\n",
    "        chromosome_endpoints[n - 1],\n",
    "        0.8 * np.max(limix_eQTL_y),\n",
    "        util.as_roman(n),\n",
    "        fontsize=15)\n",
    "\n",
    "plt.plot(\n",
    "    limix_eQTL_x,\n",
    "    -limix_eQTL_y,\n",
    "#     label=\"36498 eQTLs, A&B (from paper)\",\n",
    "    alpha=1,\n",
    "    color=colors_dict[\"eQTLs_limix\"],\n",
    "    zorder=1)\n",
    "plt.fill_between(\n",
    "    limix_eQTL_x, \n",
    "    -limix_eQTL_y, 0, \n",
    "    alpha=0.7, \n",
    "    color=colors_dict[\"eQTLs_limix\"]\n",
    ")\n",
    "\n",
    "\n",
    "plt.plot(\n",
    "    new_eQTL_x,\n",
    "    new_eQTL_y,\n",
    "#     label=\"36498 eQTLs, A&B (from paper)\",\n",
    "    alpha=1,\n",
    "    color=colors_dict[\"eQTLs_2018\"],\n",
    "    zorder=1)\n",
    "plt.fill_between(\n",
    "    new_eQTL_x, 0, new_eQTL_y, alpha=0.7, color=colors_dict[\"eQTLs_2018\"]\n",
    ")\n",
    "\n",
    "# plt.plot(\n",
    "#     recomputed_QTL_x,\n",
    "#     recomputed_QTL_y,\n",
    "#     label=\"{} eQTLs, 2018, MatrixEQTL, q-threshold of {:.2e}\".format(QTLs_2011_experimental.shape[0], 10. ** -optimal_q_cutoff),\n",
    "#     alpha=1,\n",
    "#     color=colors_dict[\"recomputed\"],\n",
    "#     zorder=0)\n",
    "# plt.fill_between(\n",
    "#     recomputed_QTL_x,\n",
    "#     0,\n",
    "#     recomputed_QTL_y,\n",
    "#     alpha=0.2,\n",
    "#     color=colors_dict[\"recomputed\"])\n",
    "\n",
    "plt.xlabel(\"Genomic coordinates\", fontsize=25)\n",
    "plt.ylabel(\"Number of genes influenced\", fontsize=25)\n",
    "plt.xticks(fontsize=20)\n",
    "plt.yticks(fontsize=20)\n",
    "plt.legend(fontsize=20, loc=3)\n",
    "plt.grid(linestyle=\"dotted\")\n",
    "# plt.savefig(\"img/qtl_distributions/corrected_limix_vs_A&B_2018.png\", dpi=300)\n",
    "plt.show()\n",
    "plt.close()"
   ]
  },
  {
   "cell_type": "markdown",
   "metadata": {},
   "source": [
    "## 2011, our mRNA dataset"
   ]
  },
  {
   "cell_type": "code",
   "execution_count": null,
   "metadata": {},
   "outputs": [],
   "source": [
    "plt.figure(figsize=(15,10))\n",
    "sns.heatmap(np.isnan(genotypes_df[\"2011\"].values));"
   ]
  },
  {
   "cell_type": "code",
   "execution_count": 4,
   "metadata": {
    "ExecuteTime": {
     "end_time": "2019-03-29T10:49:43.294052Z",
     "start_time": "2019-03-29T10:49:08.316583Z"
    }
   },
   "outputs": [],
   "source": [
    "G = (genotypes_df[\"2011\"].drop(columns=[\"SNP\", \"chromosome\", \"position\"])).values.T // 2\n",
    "G[np.isnan(G)] = 2\n",
    "Y = (expression_df[\"mRNA_2011\"].drop(columns=[\"gene\"]).astype(np.float32).values).T\n",
    "Y = limix.qc.mean_impute(Y)\n",
    "assert G.shape[0] == Y.shape[0]"
   ]
  },
  {
   "cell_type": "code",
   "execution_count": 10,
   "metadata": {
    "ExecuteTime": {
     "end_time": "2019-03-29T10:56:15.623814Z",
     "start_time": "2019-03-29T10:56:15.613101Z"
    }
   },
   "outputs": [
    {
     "data": {
      "text/plain": [
       "0.7375886524822695"
      ]
     },
     "execution_count": 10,
     "metadata": {},
     "output_type": "execute_result"
    }
   ],
   "source": [
    "np.count_nonzero(np.sum(np.isnan(G), axis=0) > 0) / G.shape[1]"
   ]
  },
  {
   "cell_type": "code",
   "execution_count": 16,
   "metadata": {
    "ExecuteTime": {
     "end_time": "2019-03-29T12:00:57.521702Z",
     "start_time": "2019-03-29T11:50:50.487900Z"
    }
   },
   "outputs": [
    {
     "name": "stderr",
     "output_type": "stream",
     "text": [
      "\n",
      "\n",
      "Kinship:   0%|          | 0/101 [00:00<?, ?it/s]\u001b[A\u001b[A\n",
      "\n",
      "Kinship: 100%|██████████| 101/101 [00:00<00:00, 3242.69it/s]\u001b[A\u001b[A"
     ]
    },
    {
     "data": {
      "application/vnd.jupyter.widget-view+json": {
       "model_id": "78cc88a037954cbcbe95f8f323d3b98a",
       "version_major": 2,
       "version_minor": 0
      },
      "text/plain": [
       "HBox(children=(IntProgress(value=0, max=4501), HTML(value='')))"
      ]
     },
     "metadata": {},
     "output_type": "display_data"
    }
   ],
   "source": [
    "K = limix.stats.linear_kinship(G)\n",
    "raw_limix_qtls = np.vstack(\n",
    "    Parallel(n_jobs=-1)\n",
    "    (delayed(get_raw_pvalues)(G=G, \n",
    "                              Y=Y[:, gene_idx], \n",
    "                              K=K, \n",
    "                              lik=\"normal\", \n",
    "                              verbose=False) \n",
    "     for gene_idx \n",
    "     in tqdm_notebook(np.arange(Y.shape[1])))\n",
    ")"
   ]
  },
  {
   "cell_type": "code",
   "execution_count": 17,
   "metadata": {
    "ExecuteTime": {
     "end_time": "2019-03-29T12:00:58.301895Z",
     "start_time": "2019-03-29T12:00:58.131221Z"
    }
   },
   "outputs": [
    {
     "data": {
      "text/plain": [
       "27492"
      ]
     },
     "execution_count": 17,
     "metadata": {},
     "output_type": "execute_result"
    }
   ],
   "source": [
    "with open(\"data/tmp/limix/our_eQTLs_2011_p_adjusted.pkl\", \"wb\") as outfile:\n",
    "    pickle.dump(raw_limix_qtls, outfile)\n",
    "\n",
    "gc.collect()"
   ]
  },
  {
   "cell_type": "code",
   "execution_count": null,
   "metadata": {},
   "outputs": [],
   "source": [
    "adjusted_limix_pvalues = Parallel(n_jobs=-1)(\n",
    "    delayed(lambda row: limix.stats.multipletests(row, method=\"holm\")[1])(row) \n",
    "    for row in tqdm_notebook(raw_variant_pvalues)\n",
    ")"
   ]
  },
  {
   "cell_type": "code",
   "execution_count": 132,
   "metadata": {
    "ExecuteTime": {
     "end_time": "2019-03-29T21:47:46.159027Z",
     "start_time": "2019-03-29T21:47:46.067940Z"
    }
   },
   "outputs": [],
   "source": [
    "with open(\"data/tmp/limix/our_eQTLs_2011_p_adjusted.pkl\", \"rb\") as infile:\n",
    "    raw_limix_qtls = pickle.load(infile)"
   ]
  },
  {
   "cell_type": "code",
   "execution_count": 86,
   "metadata": {
    "ExecuteTime": {
     "end_time": "2019-03-29T17:04:37.295678Z",
     "start_time": "2019-03-29T17:04:37.257288Z"
    }
   },
   "outputs": [],
   "source": [
    "limix_qtls = [\n",
    "    np.where(raw_limix_qtls[i] < 0.05)[0]\n",
    "    for i in range(adjusted_limix_pvalues.shape[0])\n",
    "]"
   ]
  },
  {
   "cell_type": "code",
   "execution_count": 87,
   "metadata": {
    "ExecuteTime": {
     "end_time": "2019-03-29T17:04:39.216255Z",
     "start_time": "2019-03-29T17:04:38.976190Z"
    }
   },
   "outputs": [],
   "source": [
    "genes = expression_df[\"mRNA_2011\"][\"gene\"]\n",
    "markers = genotypes_df[\"2011\"][\"SNP\"]\n",
    "\n",
    "limix_qtls_df = pd.DataFrame([\n",
    "    (genes[i], markers[limix_qtls[i][j]])\n",
    "    for i in range(len(limix_qtls))\n",
    "    for j in range(len(limix_qtls[i]))\n",
    "], columns=[\"gene\", \"SNP\"])"
   ]
  },
  {
   "cell_type": "code",
   "execution_count": 88,
   "metadata": {
    "ExecuteTime": {
     "end_time": "2019-03-29T17:04:42.028759Z",
     "start_time": "2019-03-29T17:04:41.281118Z"
    }
   },
   "outputs": [
    {
     "data": {
      "image/png": "[encoded data removed]",
      "text/plain": [
       "<Figure size 1008x432 with 2 Axes>"
      ]
     },
     "metadata": {},
     "output_type": "display_data"
    }
   ],
   "source": [
    "gs = gridspec.GridSpec(1, 2)\n",
    "fig = plt.figure(figsize=(14, 6))\n",
    "fig.suptitle(\"#genes linked to marker, our microarray data\", fontsize=20)\n",
    "axes = [plt.subplot(gs[i]) for i in range(2)]\n",
    "axes[0].hist(Counter(qtls_df[\"eQTLs_2011\"][\"SNP\"]).values());\n",
    "axes[0].set_title(\"naive\", fontsize=16)\n",
    "axes[0].set_yscale(\"log\")\n",
    "axes[1].hist(Counter(limix_qtls_df[\"SNP\"]).values())\n",
    "axes[1].set_title(\"limix\", fontsize=16)\n",
    "axes[1].set_yscale(\"log\")"
   ]
  },
  {
   "cell_type": "code",
   "execution_count": 89,
   "metadata": {
    "ExecuteTime": {
     "end_time": "2019-03-29T17:04:45.260155Z",
     "start_time": "2019-03-29T17:04:44.496884Z"
    }
   },
   "outputs": [
    {
     "data": {
      "image/png": "[encoded data removed]",
      "text/plain": [
       "<Figure size 1008x432 with 2 Axes>"
      ]
     },
     "metadata": {},
     "output_type": "display_data"
    }
   ],
   "source": [
    "gs = gridspec.GridSpec(1, 2)\n",
    "fig = plt.figure(figsize=(14, 6))\n",
    "fig.suptitle(\"#markers linked to gene, our microarray data\", fontsize=20)\n",
    "axes = [plt.subplot(gs[i]) for i in range(2)]\n",
    "axes[0].hist(sorted(Counter(qtls_df[\"eQTLs_2011\"][\"gene\"]).values())[:-4]);\n",
    "axes[0].set_title(\"naive\", fontsize=16)\n",
    "axes[0].set_yscale(\"log\")\n",
    "axes[1].hist(Counter(limix_qtls_df[\"gene\"]).values())\n",
    "axes[1].set_title(\"limix\", fontsize=16)\n",
    "axes[1].set_yscale(\"log\")"
   ]
  },
  {
   "cell_type": "code",
   "execution_count": 12,
   "metadata": {
    "ExecuteTime": {
     "end_time": "2019-03-29T12:02:27.958322Z",
     "start_time": "2019-03-29T12:02:26.981369Z"
    },
    "scrolled": false
   },
   "outputs": [
    {
     "name": "stderr",
     "output_type": "stream",
     "text": [
      "No handles with labels found to put in legend.\n"
     ]
    },
    {
     "data": {
      "image/png": "[encoded data removed]",
      "text/plain": [
       "<Figure size 2160x720 with 1 Axes>"
      ]
     },
     "metadata": {},
     "output_type": "display_data"
    }
   ],
   "source": [
    "\"\"\" Plot the distributions of each QTL dataset\"\"\"\n",
    "\n",
    "sns.set(style=\"whitegrid\")\n",
    "\n",
    "\n",
    "q_value_threshold = 1e-3\n",
    "with open(\"./data/raw/genomic_features/order_of_markers.pkl\", \"rb\") as pickle_file:\n",
    "    marker2location = pickle.load(pickle_file)\n",
    "with open(\"./data/raw/genomic_features/chromosome_endpoints.pkl\",\n",
    "          \"rb\") as pickle_file:\n",
    "    chromosome_endpoints = pickle.load(pickle_file)\n",
    "    \n",
    "limix_eQTL_markers, limix_eQTL_y = qtls.linkages2gencoords(limix_qtls_df)\n",
    "old_eQTL_markers, old_eQTL_y = qtls.linkages2gencoords(\n",
    "    pd.read_csv(\"data/processed/eQTLs/2011/qtls_naive.csv\", \n",
    "                sep='\\t')\n",
    ")\n",
    "\n",
    "old_eQTL_x = list(map(marker2location.get, old_eQTL_markers))\n",
    "limix_eQTL_x = list(map(marker2location.get, limix_eQTL_markers))\n",
    "\n",
    "colors_dict = dict(\n",
    "    zip([\n",
    "        \"eQTLs_2011\", \"eQTLs_limix\", \"eQTLs_2018\"\n",
    "    ], plt.rcParams['axes.prop_cycle'].by_key()['color'][:3]))\n",
    "\n",
    "colors_dict[\"pQTLs_2011\"] = \"black\"\n",
    "plt.figure(figsize=(30, 10))\n",
    "# plt.title(\n",
    "#     \"MatrixEQTL_ANOVA vs A&B\",\n",
    "#     fontsize=30)\n",
    "for n in range(1, 17):\n",
    "    plt.axvline(\n",
    "        x=chromosome_endpoints[n - 1], linestyle='--', color='grey', alpha=0.8)\n",
    "    plt.text(\n",
    "        chromosome_endpoints[n - 1],\n",
    "        0.8 * np.max(limix_eQTL_y),\n",
    "        util.as_roman(n),\n",
    "        fontsize=15)\n",
    "\n",
    "plt.plot(\n",
    "    limix_eQTL_x,\n",
    "    -limix_eQTL_y,\n",
    "#     label=\"36498 eQTLs, A&B (from paper)\",\n",
    "    alpha=1,\n",
    "    color=colors_dict[\"eQTLs_limix\"],\n",
    "    zorder=1)\n",
    "plt.fill_between(\n",
    "    limix_eQTL_x, \n",
    "    -limix_eQTL_y, 0, \n",
    "    alpha=0.7, \n",
    "    color=colors_dict[\"eQTLs_limix\"]\n",
    ")\n",
    "\n",
    "\n",
    "plt.plot(\n",
    "    old_eQTL_x,\n",
    "    old_eQTL_y,\n",
    "#     label=\"36498 eQTLs, A&B (from paper)\",\n",
    "    alpha=1,\n",
    "    color=colors_dict[\"eQTLs_2011\"],\n",
    "    zorder=1)\n",
    "plt.fill_between(\n",
    "    old_eQTL_x, 0, old_eQTL_y, alpha=0.7, color=colors_dict[\"eQTLs_2011\"]\n",
    ")\n",
    "\n",
    "\n",
    "plt.xlabel(\"Genomic coordinates\", fontsize=25)\n",
    "plt.ylabel(\"Number of genes influenced\", fontsize=25)\n",
    "plt.xticks(fontsize=20)\n",
    "plt.yticks(fontsize=20)\n",
    "plt.legend(fontsize=20, loc=3)\n",
    "plt.grid(linestyle=\"dotted\")\n",
    "# plt.savefig(\"img/qtl_distributions/corrected_limix_vs_A&B_2018.png\", dpi=300)\n",
    "plt.show()\n",
    "plt.close()"
   ]
  },
  {
   "cell_type": "markdown",
   "metadata": {},
   "source": [
    "## 2011, our protein dataset"
   ]
  },
  {
   "cell_type": "code",
   "execution_count": 188,
   "metadata": {
    "ExecuteTime": {
     "end_time": "2019-03-29T22:46:13.944185Z",
     "start_time": "2019-03-29T22:46:13.883626Z"
    }
   },
   "outputs": [
    {
     "name": "stderr",
     "output_type": "stream",
     "text": [
      "\n",
      "\n",
      "\n",
      "\n",
      "\n",
      "\n",
      "Kinship:   0%|          | 0/101 [00:00<?, ?it/s]\u001b[A\u001b[A\u001b[A\u001b[A\u001b[A\u001b[A\n",
      "\n",
      "\n",
      "\n",
      "\n",
      "\n",
      "Kinship: 100%|██████████| 101/101 [00:00<00:00, 3809.54it/s]\u001b[A\u001b[A\u001b[A\u001b[A\u001b[A\u001b[A"
     ]
    }
   ],
   "source": [
    "G = (genotypes_df[\"2011\"]\\\n",
    "     .drop(columns=np.setdiff1d(genotypes_df[\"2011\"].columns, \n",
    "                                expression_df[\"protein_2011\"].columns))\\\n",
    "     .values\\\n",
    "     .T\\\n",
    "     // 2)\n",
    "\n",
    "G[np.isnan(G)] = 2\n",
    "Y = (expression_df[\"protein_2011\"].drop(columns=[\"gene\"]).astype(np.float32).values).T\n",
    "Y = limix.qc.mean_impute(Y)\n",
    "K = limix.stats.linear_kinship(G)\n",
    "assert G.shape[0] == Y.shape[0]"
   ]
  },
  {
   "cell_type": "code",
   "execution_count": 217,
   "metadata": {
    "ExecuteTime": {
     "end_time": "2019-03-29T23:03:16.973176Z",
     "start_time": "2019-03-29T23:03:11.435806Z"
    }
   },
   "outputs": [
    {
     "data": {
      "application/vnd.jupyter.widget-view+json": {
       "model_id": "ace59a6b5821439085880b61d0790722",
       "version_major": 2,
       "version_minor": 0
      },
      "text/plain": [
       "HBox(children=(IntProgress(value=0, description='loading p-value batches', max=3, style=ProgressStyle(descript…"
      ]
     },
     "metadata": {},
     "output_type": "display_data"
    },
    {
     "data": {
      "application/vnd.jupyter.widget-view+json": {
       "model_id": "3f0f9012ed0c42be92cf3ff4eabdfb79",
       "version_major": 2,
       "version_minor": 0
      },
      "text/plain": [
       "HBox(children=(IntProgress(value=0, description='p-value adjustment', max=1311, style=ProgressStyle(descriptio…"
      ]
     },
     "metadata": {},
     "output_type": "display_data"
    },
    {
     "data": {
      "application/vnd.jupyter.widget-view+json": {
       "model_id": "cdb2ec426d5c4d82b332f9b62ade56dc",
       "version_major": 2,
       "version_minor": 0
      },
      "text/plain": [
       "HBox(children=(IntProgress(value=0, description='p-value filtering', max=5720, style=ProgressStyle(description…"
      ]
     },
     "metadata": {},
     "output_type": "display_data"
    }
   ],
   "source": [
    "limix_mapper = LimixQTLMapper(\n",
    "    G=G, Y=Y, K=K, kind=\"naive_pQTLs_2011\",\n",
    "    gene_list=expression_df[\"protein_2011\"][\"gene\"],\n",
    "    marker_list=genotypes_df[\"2011\"][\"SNP\"]\n",
    ")\n",
    "limix_qtls_df = limix_mapper.reduce()"
   ]
  },
  {
   "cell_type": "code",
   "execution_count": null,
   "metadata": {
    "ExecuteTime": {
     "end_time": "2019-03-29T22:51:38.877999Z",
     "start_time": "2019-03-29T22:49:39.806Z"
    }
   },
   "outputs": [],
   "source": [
    "gs = gridspec.GridSpec(1, 2)\n",
    "fig = plt.figure(figsize=(14, 6))\n",
    "fig.suptitle(\"#genes linked to marker, our mass-spec data\", fontsize=20)\n",
    "axes = [plt.subplot(gs[i]) for i in range(2)]\n",
    "axes[0].hist(Counter(qtls_df[\"pQTLs_2011\"][\"SNP\"]).values());\n",
    "axes[0].set_title(\"naive\", fontsize=16)\n",
    "axes[0].set_yscale(\"log\")\n",
    "axes[1].hist(Counter(limix_qtls_df[\"SNP\"]).values())\n",
    "axes[1].set_title(\"limix\", fontsize=16)\n",
    "axes[1].set_yscale(\"log\")"
   ]
  },
  {
   "cell_type": "code",
   "execution_count": null,
   "metadata": {
    "ExecuteTime": {
     "end_time": "2019-03-29T22:51:38.881138Z",
     "start_time": "2019-03-29T22:49:39.972Z"
    }
   },
   "outputs": [],
   "source": [
    "gs = gridspec.GridSpec(1, 2)\n",
    "fig = plt.figure(figsize=(14, 6))\n",
    "fig.suptitle(\"#markers linked to gene, our mass-spec data\", fontsize=20)\n",
    "axes = [plt.subplot(gs[i]) for i in range(2)]\n",
    "axes[0].hist(sorted(Counter(qtls_df[\"pQTLs_2011\"][\"gene\"]).values())[:-4]);\n",
    "axes[0].set_title(\"naive\", fontsize=16)\n",
    "axes[0].set_yscale(\"log\")\n",
    "axes[1].hist(Counter(limix_qtls_df[\"gene\"]).values())\n",
    "axes[1].set_title(\"limix\", fontsize=16)\n",
    "axes[1].set_yscale(\"log\")"
   ]
  },
  {
   "cell_type": "code",
   "execution_count": null,
   "metadata": {},
   "outputs": [],
   "source": [
    "\"\"\" Plot the distributions of each QTL dataset\"\"\"\n",
    "\n",
    "sns.set(style=\"whitegrid\")\n",
    "\n",
    "\n",
    "q_value_threshold = 1e-3\n",
    "with open(\"./data/raw/genomic_features/order_of_markers.pkl\", \"rb\") as pickle_file:\n",
    "    marker2location = pickle.load(pickle_file)\n",
    "with open(\"./data/raw/genomic_features/chromosome_endpoints.pkl\",\n",
    "          \"rb\") as pickle_file:\n",
    "    chromosome_endpoints = pickle.load(pickle_file)\n",
    "    \n",
    "limix_pQTL_markers, limix_pQTL_y = qtls.linkages2gencoords(limix_qtls_df)\n",
    "old_pQTL_markers, old_pQTL_y = qtls.linkages2gencoords(qtls_df[\"pQTLs_2011\"])\n",
    "\n",
    "old_pQTL_x = list(map(marker2location.get, old_pQTL_markers))\n",
    "limix_pQTL_x = list(map(marker2location.get, limix_pQTL_markers))\n",
    "\n",
    "colors_dict = dict(\n",
    "    zip([\n",
    "        \"eQTLs_2011\", \"pQTLs_limix\", \"eQTLs_2018\"\n",
    "    ], plt.rcParams['axes.prop_cycle'].by_key()['color'][:3]))\n",
    "\n",
    "colors_dict[\"pQTLs_2011\"] = \"black\"\n",
    "plt.figure(figsize=(30, 10))\n",
    "# plt.title(\n",
    "#     \"MatrixEQTL_ANOVA vs A&B\",\n",
    "#     fontsize=30)\n",
    "for n in range(1, 17):\n",
    "    plt.axvline(\n",
    "        x=chromosome_endpoints[n - 1], linestyle='--', color='grey', alpha=0.8)\n",
    "    plt.text(\n",
    "        chromosome_endpoints[n - 1],\n",
    "        0.8 * np.max(limix_eQTL_y),\n",
    "        util.as_roman(n),\n",
    "        fontsize=15)\n",
    "\n",
    "plt.plot(\n",
    "    limix_pQTL_x,\n",
    "    -limix_pQTL_y,\n",
    "#     label=\"36498 eQTLs, A&B (from paper)\",\n",
    "    alpha=1,\n",
    "    color=colors_dict[\"pQTLs_limix\"],\n",
    "    zorder=1)\n",
    "plt.fill_between(\n",
    "    limix_pQTL_x, \n",
    "    -limix_pQTL_y, 0, \n",
    "    alpha=0.7, \n",
    "    color=colors_dict[\"pQTLs_limix\"]\n",
    ")\n",
    "\n",
    "\n",
    "plt.plot(\n",
    "    old_pQTL_x,\n",
    "    old_pQTL_y,\n",
    "#     label=\"36498 eQTLs, A&B (from paper)\",\n",
    "    alpha=1,\n",
    "    color=colors_dict[\"pQTLs_2011\"],\n",
    "    zorder=1)\n",
    "plt.fill_between(\n",
    "    old_pQTL_x, 0, \n",
    "    old_pQTL_y, alpha=0.7, \n",
    "    color=colors_dict[\"pQTLs_2011\"]\n",
    ")\n",
    "\n",
    "\n",
    "plt.xlabel(\"Genomic coordinates\", fontsize=25)\n",
    "plt.ylabel(\"Number of genes influenced\", fontsize=25)\n",
    "plt.xticks(fontsize=20)\n",
    "plt.yticks(fontsize=20)\n",
    "plt.legend(fontsize=20, loc=3)\n",
    "plt.grid(linestyle=\"dotted\")\n",
    "# plt.savefig(\"img/qtl_distributions/corrected_limix_vs_A&B_2018.png\", dpi=300)\n",
    "plt.show()\n",
    "plt.close()"
   ]
  }
 ],
 "metadata": {
  "kernelspec": {
   "display_name": "py37",
   "language": "python",
   "name": "py37"
  },
  "language_info": {
   "codemirror_mode": {
    "name": "ipython",
    "version": 3
   },
   "file_extension": ".py",
   "mimetype": "text/x-python",
   "name": "python",
   "nbconvert_exporter": "python",
   "pygments_lexer": "ipython3",
   "version": "3.7.1"
  },
  "varInspector": {
   "cols": {
    "lenName": 16,
    "lenType": 16,
    "lenVar": 40
   },
   "kernels_config": {
    "python": {
     "delete_cmd_postfix": "",
     "delete_cmd_prefix": "del ",
     "library": "var_list.py",
     "varRefreshCmd": "print(var_dic_list())"
    },
    "r": {
     "delete_cmd_postfix": ") ",
     "delete_cmd_prefix": "rm(",
     "library": "var_list.r",
     "varRefreshCmd": "cat(var_dic_list()) "
    }
   },
   "types_to_exclude": [
    "module",
    "function",
    "builtin_function_or_method",
    "instance",
    "_Feature"
   ],
   "window_display": false
  }
 },
 "nbformat": 4,
 "nbformat_minor": 2
}
