{
 "cells": [
  {
   "cell_type": "markdown",
   "metadata": {},
   "source": [
    "In this notebook the eQTLs and pQTLs indentified with statistical package MatrixEQTL are analysed with respect to the network of protein-protein interactions in yeast."
   ]
  },
  {
   "cell_type": "code",
   "execution_count": 1,
   "metadata": {
    "ExecuteTime": {
     "end_time": "2018-09-07T04:49:59.651974Z",
     "start_time": "2018-09-07T04:49:59.487514Z"
    }
   },
   "outputs": [],
   "source": [
    "%load_ext autoreload\n",
    "%autoreload 1\n",
    "%matplotlib inline\n",
    "\n",
    "# utilities\n",
    "import gc\n",
    "import time\n",
    "import os\n",
    "import sys\n",
    "\n",
    "os.chdir(os.path.abspath(os.path.join(os.getcwd(), os.path.pardir)))\n",
    "sys.path.append(os.getcwd())\n",
    "%aimport fs_utils\n",
    "\n",
    "sys.path.append(fs_utils.LIB_DIR)\n",
    "sys.path.append(fs_utils.SCRIPTS_DIR)"
   ]
  },
  {
   "cell_type": "code",
   "execution_count": 2,
   "metadata": {
    "ExecuteTime": {
     "end_time": "2018-09-07T04:50:01.368022Z",
     "start_time": "2018-09-07T04:50:00.728836Z"
    }
   },
   "outputs": [
    {
     "name": "stderr",
     "output_type": "stream",
     "text": [
      "/home/vvi/anaconda3/lib/python3.5/importlib/_bootstrap.py:222: RuntimeWarning: numpy.dtype size changed, may indicate binary incompatibility. Expected 96, got 88\n",
      "  return f(*args, **kwds)\n",
      "/home/vvi/anaconda3/lib/python3.5/importlib/_bootstrap.py:222: RuntimeWarning: numpy.dtype size changed, may indicate binary incompatibility. Expected 96, got 88\n",
      "  return f(*args, **kwds)\n"
     ]
    },
    {
     "data": {
      "application/javascript": [
       "IPython.notebook.set_autosave_interval(15000)"
      ]
     },
     "metadata": {},
     "output_type": "display_data"
    },
    {
     "name": "stdout",
     "output_type": "stream",
     "text": [
      "Autosaving every 15 seconds\n"
     ]
    }
   ],
   "source": [
    "import collections\n",
    "import itertools\n",
    "from importlib import reload\n",
    "import pickle\n",
    "\n",
    "# data analysis tools\n",
    "import joblib\n",
    "import random\n",
    "import numpy as np\n",
    "import pandas as pd\n",
    "from scipy import stats\n",
    "import seaborn as sns\n",
    "from statsmodels.sandbox.stats.multicomp import multipletests\n",
    "from tqdm import *\n",
    "import qgrid\n",
    "\n",
    "tqdm.monitor_interval = 0\n",
    "\n",
    "# network analysis tools\n",
    "import igraph as ig\n",
    "\n",
    "# multiprocessing tools\n",
    "import subprocess\n",
    "import multiprocessing as mp\n",
    "\n",
    "# visualization tools\n",
    "import matplotlib.pyplot as plt\n",
    "from mpl_toolkits.mplot3d import Axes3D\n",
    "\n",
    "%aimport networks\n",
    "%aimport qtls\n",
    "%aimport util\n",
    "%aimport ontologies\n",
    "\n",
    "gc.enable()\n",
    "\n",
    "%autosave 15\n",
    "\n",
    "INTERACTOME_RANDITER = 1024"
   ]
  },
  {
   "cell_type": "markdown",
   "metadata": {},
   "source": [
    "## Datasets used\n",
    "\n",
    "Take a look at readme.md in /data folder for data description. (currently unavailable)"
   ]
  },
  {
   "cell_type": "code",
   "execution_count": 4,
   "metadata": {
    "ExecuteTime": {
     "end_time": "2018-09-07T05:01:29.525059Z",
     "start_time": "2018-09-07T05:01:27.230508Z"
    }
   },
   "outputs": [],
   "source": [
    "random.seed(int(time.time()))\n",
    "\n",
    "# 112 segregants genotyped by inherited marker variants\n",
    "''' Where possible, gene names were converted from systematic to standard notation '''\n",
    "\n",
    "expression_df, genotypes_df, qtls_df = {}, {}, {}\n",
    "\n",
    "expression_df[\"eQTLs_2011\"] = pd.read_table(\"./data/eQTLs/2011/expression.csv\")\n",
    "# expression_df[\"eQTLs_2018\"] = pd.read_table(\"./data/eQTLs/2018/expression.csv\")\n",
    "expression_df[\"pQTLs_2011\"] = pd.read_table(\"./data/pQTLs/2011/expression.csv\")\n",
    "\n",
    "genotypes_df[\"eQTLs_2011\"] = pd.read_table(\"./data/eQTLs/2011/genotypes.csv\")\n",
    "# genotypes_df[\"eQTLs_2011_interpolated\"] = pd.read_table(\n",
    "#     \"./data/eQTLs/2011/genotypes_interpolated.csv\")\n",
    "# genotypes_df[\"eQTLs_2018_full\"] = pd.read_table(\n",
    "#     \"./data/eQTLs/2018/genotypes_full.csv\")\n",
    "# genotypes_df[\"eQTLs_2018_filtered\"] = pd.read_table(\n",
    "#     \"./data/eQTLs/2018/genotypes_filtered.csv\")\n",
    "genotypes_df[\"pQTLs_2011\"] = pd.read_table(\"./data/pQTLs/2011/genotypes.csv\")\n",
    "\n",
    "qtls_df[\"eQTLs_2011_MatrixEQTL\"] = pd.read_table(\n",
    "    \"./data/eQTLs/2011/qtls_MatrixEQTL.csv\")#.query(\"q_value <= 0.001\")\n",
    "qtls_df[\"eQTLs_2011_albert&bloom\"] = pd.read_table(\n",
    "    \"./data/eQTLs/2011/qtls_albert&bloom_script_output.csv\")\n",
    "qtls_df[\"eQTLs_2011_albert&bloom_interpolated\"] = pd.read_table(\n",
    "\"./data/eQTLs/2011/qtls_albert&bloom_interpolated.csv\")\n",
    "qtls_df[\"eQTLs_2018_albert&bloom\"] = pd.read_table(\n",
    "    \"./data/eQTLs/2018/qtls_albert&bloom_from_paper.csv\")\n",
    "# qtls_df[\"eQTLs_2018_MatrixEQTL\"] = pd.read_table(\n",
    "# \"./data/eQTLs/2018/qtls_MatrixEQTL_with_covariates_ANOVA.csv\")\n",
    "qtls_df[\"pQTLs_2011_MatrixEQTL\"] = pd.read_table(\n",
    "    \"./data/pQTLs/2011/qtls_MatrixEQTL.csv\").query(\"q_value <= 0.001\")\n",
    "qtls_df[\"pQTLs_2011_albert&bloom\"] = pd.read_table(\n",
    "    \"./data/pQTLs/2011/qtls_albert&bloom_script_output.csv\")\n",
    "\n",
    "# # Physical and genetic interactions taken from TheBioGrid project\n",
    "# full_interactome_df = pd.read_table(\n",
    "#     \"./data/interactions/yeast_interactome.csv\")\n",
    "# full_interactome_df = full_interactome_df[\n",
    "#     full_interactome_df['Publication year'] <= 2011]\n",
    "\n",
    "# genetic_interaction_categories = [\n",
    "#     \"additive genetic interaction defined by inequality\",\n",
    "#     \"suppressive genetic interaction defined by inequality\",\n",
    "#     \"synthetic genetic interaction defined by inequality\"\n",
    "# ]\n",
    "# physical_interaction_categories = [\n",
    "#     \"association\", \"colocalization\", \"direct interaction\",\n",
    "#     \"physical association\"\n",
    "# ]\n",
    "\n",
    "# interaction_categories = genetic_interaction_categories + physical_interaction_categories\n",
    "# interactome_df = full_interactome_df.copy()\n",
    "# interactome_df.set_index('Interaction Type', inplace=True)\n",
    "# genetic_interactions_df = interactome_df[interactome_df.index.isin(\n",
    "#     genetic_interaction_categories)]\n",
    "# physical_interactions_df = interactome_df[interactome_df.index.isin(\n",
    "#     physical_interaction_categories)]\n",
    "\n",
    "\n",
    "# def extract_interactions(interactions_df):\n",
    "#     ''' Helper function to retrieve the edges of the graph of interactions '''\n",
    "#     return interactions_df[[\"Interactor A\", \"Interactor B\"]].values\n",
    "\n",
    "\n",
    "# interactome_graphs_dict = {}\n",
    "# for category_name in interaction_categories + [\"all\", \"genetic\", \"physical\"]:\n",
    "#     with open(\n",
    "#             \"./data/interactions/{}_interactions_graph.pkl\".format(\n",
    "#                 category_name), \"rb\") as pickle_file:\n",
    "#         interactome_graphs_dict[category_name] = pickle.load(pickle_file)\n",
    "# interactome_graph = interactome_graphs_dict[\"physical\"]"
   ]
  },
  {
   "cell_type": "code",
   "execution_count": 6,
   "metadata": {
    "ExecuteTime": {
     "end_time": "2018-09-05T07:43:30.595393Z",
     "start_time": "2018-09-05T07:43:18.832148Z"
    },
    "code_folding": []
   },
   "outputs": [],
   "source": [
    "from functools import partial\n",
    "\n",
    "\n",
    "def calculate_p_values(genotype_matrix, expression_matrix, sample_pair):\n",
    "    marker_sample, offset = sample_pair\n",
    "    p_values = np.zeros(\n",
    "        len(marker_sample) * expression_matrix.shape[0], dtype=np.float32)\n",
    "    iter = 0\n",
    "    for marker_rownum in range(offset, len(marker_sample) + offset):\n",
    "        genotype_row = genotype_matrix[marker_rownum]\n",
    "        BY_allele_pos = (genotype_row == 0)\n",
    "        RM_allele_pos = (genotype_row == 2)\n",
    "        for expression_row in expression_matrix:\n",
    "            from_BY = expression_row[BY_allele_pos]\n",
    "            from_RM = expression_row[RM_allele_pos]\n",
    "            # CPU hog\n",
    "            statistics, p_value = stats.mannwhitneyu(\n",
    "                x=from_BY, y=from_RM, alternative=\"two-sided\")\n",
    "            p_values[iter] = p_value\n",
    "            iter += 1\n",
    "    return p_values\n",
    "\n",
    "\n",
    "def naive_QTL_mapping(genotype_df, expression_df):\n",
    "    marker_cnt = genotype_df.shape[0]\n",
    "    gene_cnt = expression_df.shape[0]\n",
    "\n",
    "    genotype_matrix = genotype_df.as_matrix(genotype_df.columns.tolist()[1:-2])\n",
    "    expression_matrix = expression_df.as_matrix(\n",
    "        expression_df.columns.tolist()[1:])\n",
    "\n",
    "    marker_list = genotype_df.iloc[:, 0].as_matrix()\n",
    "    gene_list = expression_df.iloc[:, 0].as_matrix()\n",
    "\n",
    "    CHUNKS_N = mp.cpu_count()\n",
    "    marker_chunks = np.array_split(marker_list, CHUNKS_N)\n",
    "    chunk_lens = np.roll(np.cumsum([len(chunk) for chunk in marker_chunks]), 1)\n",
    "    chunk_lens[0] = 0\n",
    "\n",
    "    marker_samples = list(zip(marker_chunks, chunk_lens))\n",
    "\n",
    "    # Current runtime — 20 minutes\n",
    "    # Goal: < 10 minutes\n",
    "\n",
    "    # Set the seed to ensure either reproducibility\n",
    "    # or randomness of the generated sample\n",
    "\n",
    "    calculate_p_values_subroutine = partial(calculate_p_values,\n",
    "                                            genotype_matrix, expression_matrix)\n",
    "\n",
    "    np.random.seed(int(time.time()))\n",
    "\n",
    "    pool = mp.Pool(processes=CHUNKS_N)\n",
    "    start_time = time.time()\n",
    "    results = pool.map(calculate_p_values_subroutine, marker_samples)\n",
    "    end_time = time.time()\n",
    "    pool.close()\n",
    "    pool.join()\n",
    "\n",
    "    p_values = np.concatenate([results[i] for i in range(CHUNKS_N)])\n",
    "\n",
    "    np.save(\"./data/pQTLs/2011/p_values_naive\", p_values, allow_pickle=True)\n",
    "    return pd.DataFrame(\n",
    "        [(*candidate_linkage, p_values[i])\n",
    "         for i, candidate_linkage in enumerate(\n",
    "             itertools.product(genotype_df[\"SNP\"].values, expression_df[\"gene\"]\n",
    "                               .values))],\n",
    "        columns=[\"SNP\", \"gene\", \"p_value\"])\n",
    "\n",
    "\n",
    "# QTLs_2011_naive = naive_QTL_mapping(genotypes_df[\"eQTLs_2011\"],\n",
    "#                                      expression_df[\"eQTLs_2011\"])\n",
    "p_values = np.load(\"./data/pQTLs/2011/p_values_naive.npy\")\n",
    "QTLs_2011_naive = pd.DataFrame(\n",
    "    [(*candidate_linkage, p_values[i]) for i, candidate_linkage in enumerate(\n",
    "        itertools.product(genotypes_df[\"pQTLs_2011\"][\"SNP\"].values,\n",
    "                          expression_df[\"pQTLs_2011\"][\"gene\"].values))],\n",
    "    columns=[\"SNP\", \"gene\", \"p_value\"])\n",
    "QTLs_2011_naive.to_csv(\"./data/pQTLs/2011/qtls_naive_raw.csv\", sep='\\t', index=False)"
   ]
  },
  {
   "cell_type": "code",
   "execution_count": 42,
   "metadata": {
    "ExecuteTime": {
     "end_time": "2018-09-05T08:14:52.788030Z",
     "start_time": "2018-09-05T08:14:50.514626Z"
    }
   },
   "outputs": [
    {
     "data": {
      "image/png": "[encoded data removed]",
      "text/plain": [
       "<Figure size 1440x720 with 1 Axes>"
      ]
     },
     "metadata": {},
     "output_type": "display_data"
    }
   ],
   "source": [
    "QTL_type = \"pQTLs\"\n",
    "p_values = np.load(\"./data/{}/2011/p_values_naive.npy\".format(QTL_type))\n",
    "\n",
    "sns.set(font_scale=2)\n",
    "plt.figure(figsize=(20, 10))\n",
    "plt.title(\"Histogram of p-values, {}, naive approach\".format(QTL_type))\n",
    "plt.xscale(\"log\")\n",
    "sns.distplot(p_values, bins=10.**-np.arange(1, 15)[::-1])\n",
    "plt.xlabel(\"p-value threshold\")\n",
    "plt.savefig(\"img/qtl_mapping/{}_2011_naive_hist.png\".format(QTL_type), dpi=300)\n",
    "plt.show()\n",
    "plt.close()"
   ]
  },
  {
   "cell_type": "code",
   "execution_count": 44,
   "metadata": {
    "ExecuteTime": {
     "end_time": "2018-09-07T05:52:08.903064Z",
     "start_time": "2018-09-07T05:52:06.543791Z"
    },
    "scrolled": true
   },
   "outputs": [
    {
     "name": "stdout",
     "output_type": "stream",
     "text": [
      "2.6360853810343308e-33 36499 36498\n"
     ]
    }
   ],
   "source": [
    "QTLs_2011_experimental = pd.read_table(\"./data/eQTLs/2018/qtls_MatrixEQTL_with_covariates_ANOVA.csv\")\n",
    "QTLs_2011_reference = qtls_df[\"eQTLs_2018_albert&bloom\"]\n",
    "\n",
    "lo, hi = 1, 50\n",
    "reference_qtls_count = QTLs_2011_reference.shape[0]\n",
    "while hi - lo > 0.01:\n",
    "    mid = (lo + hi) / 2\n",
    "    remaining_qtls_count = QTLs_2011_experimental.query(\"q_value <= {}\".format(10. ** -mid)).shape[0]\n",
    "    if remaining_qtls_count < reference_qtls_count:\n",
    "        hi = mid\n",
    "    else:\n",
    "        lo = mid\n",
    "optimal_q_cutoff = (lo + hi) / 2\n",
    "print(10 ** -optimal_q_cutoff, remaining_qtls_count, reference_qtls_count)\n",
    "\n",
    "QTLs_2011_experimental = QTLs_2011_experimental.query(\"q_value <= {}\".format(10 ** -optimal_q_cutoff))\n",
    "# [\n",
    "#     (q_cutoff, qtls_df[\"eQTLs_2011_MatrixEQTL\"].query(\"q_value <= {}\".format(q_cutoff)).shape[0])\n",
    "#     for q_cutoff in 10.**-np.arange(1, 10, 0.5)\n",
    "# ]"
   ]
  },
  {
   "cell_type": "code",
   "execution_count": 45,
   "metadata": {
    "ExecuteTime": {
     "end_time": "2018-09-07T05:52:12.749213Z",
     "start_time": "2018-09-07T05:52:12.568915Z"
    }
   },
   "outputs": [
    {
     "name": "stdout",
     "output_type": "stream",
     "text": [
      "572\t1.6% (572/36496)\t1.6% (572/36498)\t7.90e-03\n"
     ]
    }
   ],
   "source": [
    "def extract_linkages(qtls_df):\n",
    "    return list(map(tuple, qtls_df[[\"SNP\", \"gene\"]].values))\n",
    "\n",
    "common_QTLs_count = len(\n",
    "    set(extract_linkages(QTLs_2011_experimental)) & set(\n",
    "        extract_linkages(QTLs_2011_reference)))\n",
    "\n",
    "print(\"{}\\t{:.1f}% ({}/{})\\t{:.1f}% ({}/{})\\t{:.2e}\".format(\n",
    "    common_QTLs_count, \n",
    "    100 * common_QTLs_count / QTLs_2011_experimental.shape[0],\n",
    "    common_QTLs_count, QTLs_2011_experimental.shape[0],\n",
    "    100 * common_QTLs_count / QTLs_2011_reference.shape[0],\n",
    "    common_QTLs_count, QTLs_2011_reference.shape[0],\n",
    "    qtls.jaccard(\n",
    "        set(extract_linkages(QTLs_2011_experimental)), \n",
    "        set(extract_linkages(QTLs_2011_reference)\n",
    "    )))\n",
    " )"
   ]
  },
  {
   "cell_type": "code",
   "execution_count": 44,
   "metadata": {
    "ExecuteTime": {
     "end_time": "2018-09-05T08:23:09.060351Z",
     "start_time": "2018-09-05T08:23:07.321520Z"
    }
   },
   "outputs": [
    {
     "data": {
      "image/png": "[encoded data removed]",
      "text/plain": [
       "<Figure size 1440x720 with 1 Axes>"
      ]
     },
     "metadata": {},
     "output_type": "display_data"
    }
   ],
   "source": [
    "QTL_type = \"pQTLs\"\n",
    "QTLs_2011_naive = pd.read_table(\"./data/{}/2011/qtls_naive.csv\".format(QTL_type))\n",
    "\n",
    "sns.set(font_scale=2)\n",
    "q_thresholds =q_thresholds 10.**-np.arange(1, 10)\n",
    "plt.figure(figsize=(20, 10))\n",
    "plt.title(\"Number of linkages by q-value threshold, {}, naive approach\".format(QTL_type))\n",
    "plt.xscale(\"log\")\n",
    "plt.axvline(0.01, linestyle=\"--\", color=\"r\")\n",
    "sns.lineplot(x=q_thresholds, y=[\n",
    "    QTLs_2011_naive.query(\"q_value <= {}\".format(q_cutoff)).shape[0]\n",
    "    for q_cutoff in q_thresholds\n",
    "], label=\"linkages below threshold\")\n",
    "plt.ylabel(\"number of linkages\")\n",
    "plt.xlabel(\"q-value threshold\")\n",
    "plt.savefig(\"img/qtl_mapping/{}_2011_naive_lineplot.png\".format(QTL_type), dpi=300)\n",
    "plt.show()\n",
    "plt.close()"
   ]
  },
  {
   "cell_type": "markdown",
   "metadata": {},
   "source": [
    "## Introduction and problem formulation"
   ]
  },
  {
   "cell_type": "markdown",
   "metadata": {},
   "source": [
    "It seems rational to suppose that transcription and translation levels must be controlled by similar genetic mechanisms.  \n",
    "Unfortunately, at the first sight there is no evidence to support that intuition: sets of eQTLs and pQTLs linked to given gene show no significant overlap for almost all genes. This is illustrated by the histogram below."
   ]
  },
  {
   "cell_type": "code",
   "execution_count": null,
   "metadata": {
    "ExecuteTime": {
     "end_time": "2018-08-30T02:41:51.161680Z",
     "start_time": "2018-08-30T02:41:48.185417Z"
    },
    "scrolled": true
   },
   "outputs": [],
   "source": [
    "%%time\n",
    "\n",
    "reload(qtls)\n",
    "gene_pool = np.intersect1d(expression_df[\"eQTLs_2011\"][\"gene\"],\n",
    "                           expression_df[\"pQTLs_2011\"][\"gene\"])\n",
    "\n",
    "linkage_overlap_data = []\n",
    "for gene_name in gene_pool:\n",
    "    linked_eQTLs = qtls.linked_markers(qtls_df[\"eQTLs_2011_albert&bloom\"],\n",
    "                                       [gene_name])\n",
    "    linked_pQTLs = qtls.linked_markers(qtls_df[\"pQTLs_2011_albert&bloom\"],\n",
    "                                       [gene_name])\n",
    "    linkage_overlap_data.append(\n",
    "        qtls.jaccard(set(linked_eQTLs), set(linked_pQTLs)))\n",
    "\n",
    "sns.set()\n",
    "qtls.qtl_overlap_hist(linkage_overlap_data, \"eQTLs_pQTLs_old\")"
   ]
  },
  {
   "cell_type": "code",
   "execution_count": null,
   "metadata": {
    "ExecuteTime": {
     "end_time": "2018-08-30T15:53:29.067565Z",
     "start_time": "2018-08-30T15:40:33.269948Z"
    }
   },
   "outputs": [],
   "source": [
    "\"\"\" Using simple PPIN-based test to assess whether interacting genes really have better eQTL/pQTL intersection \n",
    "    TODO: вычислять доверительные интервалы\n",
    "\"\"\"\n",
    "\n",
    "print(qtls_df[\"eQTLs_2011_albert&bloom\"].shape, qtls_df[\"pQTLs_2011_albert&bloom\"].shape)\n",
    "\n",
    "def eQTL_pQTL_similarity_ppin_test(qtl_type2graph, interactome_graph):\n",
    "    scores = []\n",
    "    for marker in np.intersect1d(\n",
    "            qtl_type2graph[\"eQTLs\"].vs.select(part=0)[\"name\"],\n",
    "            qtl_type2graph[\"pQTLs\"].vs.select(part=0)[\"name\"]):\n",
    "        linked = {}\n",
    "        for qtl_type in [\"eQTLs\", \"pQTLs\"]:\n",
    "            linked[qtl_type] = set(qtl_type2graph[qtl_type].vs[qtl_type2graph[\n",
    "                qtl_type].neighborhood(marker, mode=\"out\")][\"name\"])\n",
    "            linked[qtl_type].remove(marker)\n",
    "        matches = len(linked[\"eQTLs\"] & linked[\"pQTLs\"])\n",
    "        tests_count = len(linked[\"eQTLs\"]) * len(linked[\"pQTLs\"])\n",
    "        for qtl_type in [\"eQTLs\", \"pQTLs\"]:\n",
    "            linked[qtl_type] &= set(interactome_graph.vs[\"name\"])\n",
    "        for eQTL_gene in linked[\"eQTLs\"]:\n",
    "            for pQTL_gene in linked[\"pQTLs\"]:\n",
    "                if eQTL_gene != pQTL_gene \\\n",
    "                        and interactome_graph.are_connected(eQTL_gene, pQTL_gene):\n",
    "                    matches += 1\n",
    "        scores.append(matches / tests_count)\n",
    "    return np.mean(scores)\n",
    "\n",
    "\n",
    "tuples_for_df = []\n",
    "for LOD_cutoff in tqdm_notebook(np.arange(0, 6)):  #10. ** np.arange(-5, -1):\n",
    "    qtl_graph = {\"eQTLs\" : networks.graph_from_edges(qtls_df[\"eQTLs_2011_albert&bloom\"]\\\n",
    "                                                     .query(\"LOD >= {}\".format(LOD_cutoff))\\ #.query(\"q_value <= {}\".format(q_cutoff))\n",
    "                                                     [[\"SNP\", \"gene\"]].values, directed=True),\n",
    "                 \"pQTLs\" : networks.graph_from_edges(qtls_df[\"pQTLs_2011_albert&bloom\"]\\\n",
    "                                                     .query(\"LOD >= {}\".format(LOD_cutoff))\\ #.query(\"q_value <= {}\".format(q_cutoff))\n",
    "                                                     [[\"SNP\", \"gene\"]].values, directed=True)}\n",
    "\n",
    "    real_test_results = eQTL_pQTL_similarity_ppin_test(qtl_graph,\n",
    "                                                       interactome_graph)\n",
    "    randomized_test_results = []\n",
    "    for i in range(INTERACTOME_RANDITER):\n",
    "        with open(\n",
    "                \"./data/randomized_interactome_copies/physical/{}.pkl\".format(\n",
    "                    i), \"rb\") as pickle_file:\n",
    "            randomized_interactome_graph = pickle.load(pickle_file)\n",
    "            randomized_test_results.append(\n",
    "                eQTL_pQTL_similarity_ppin_test(qtl_graph,\n",
    "                                               randomized_interactome_graph))\n",
    "    tuples_for_df.append((LOD_cutoff, real_test_results,\n",
    "                          np.mean(randomized_test_results),\n",
    "                          *util.confidence_interval(randomized_test_results)))\n",
    "\n",
    "results_df = pd.DataFrame(\n",
    "    tuples_for_df, columns=[\"LOD_cutoff\", \"real_mean\", \"random_mean\", \"CI_l\", \"CI_r\"])\n",
    "results_df.to_csv(\n",
    "    \"./data/interactions/eQTL_pQTL_intersection_albert&bloom.csv\",\n",
    "    sep='\\t',\n",
    "    index=False)\n",
    "display(results_df)"
   ]
  },
  {
   "cell_type": "code",
   "execution_count": null,
   "metadata": {
    "ExecuteTime": {
     "end_time": "2018-08-30T16:56:19.249269Z",
     "start_time": "2018-08-30T16:45:26.640754Z"
    }
   },
   "outputs": [],
   "source": [
    "\"\"\" marker-to-module test: simple test aimed to demonstrate that eQTL/pQTL intersection ratio is higher\n",
    "                            if we link markers not to genes but to functional modules they belong to\n",
    "\"\"\"\n",
    "\n",
    "gene_pool = np.intersect1d(expression_df[\"eQTLs_2011\"][\"gene\"].values,\n",
    "                           expression_df[\"pQTLs_2011\"][\"gene\"].values)\n",
    "\n",
    "for LOD_cutoff in tqdm_notebook(np.arange(3, 8)):  #10. ** np.arange(-5, -1):\n",
    "    print(\"LOD-score threshold: {}\".format(LOD_cutoff))\n",
    "    result_rows = []\n",
    "    for modules_type in [\n",
    "            \"thecellmap\", \"kegg_modules\", \"kegg_pathways\", \"geneontology\"\n",
    "    ]:\n",
    "        qtl_graph = {\"eQTLs\" : networks.graph_from_edges(qtls_df[\"eQTLs_2011_albert&bloom\"]\\\n",
    "                                                         .query(\"LOD >= {}\".format(LOD_cutoff))\\ #.query(\"q_value <= {}\".format(q_cutoff))\n",
    "                                                         [[\"SNP\", \"gene\"]].values, directed=True),\n",
    "                     \"pQTLs\" : networks.graph_from_edges(qtls_df[\"pQTLs_2011_albert&bloom\"]\\\n",
    "                                                         .query(\"LOD >= {}\".format(LOD_cutoff))\\ #.query(\"q_value <= {}\".format(q_cutoff))\n",
    "                                                         [[\"SNP\", \"gene\"]].values, directed=True)}\n",
    "\n",
    "        with open(\"./results/{}/modules_dict.pkl\".format(modules_type),\n",
    "                  \"rb\") as pickle_file:\n",
    "            modules_dict = pickle.load(pickle_file)\n",
    "\n",
    "        module_genes_union = np.intersect1d(\n",
    "            np.unique(np.hstack(modules_dict.values())), gene_pool)\n",
    "        module_qtls = {}\n",
    "        for qtl_type in [\"eQTLs\", \"pQTLs\"]:\n",
    "            genes_with_linkages = np.intersect1d(\n",
    "                module_genes_union,\n",
    "                qtl_graph[qtl_type].vs.select(part=1)[\"name\"])\n",
    "            induced_subgraph = qtl_graph[qtl_type].subgraph(\n",
    "                np.unique(\n",
    "                    np.hstack(qtl_graph[qtl_type].neighborhood(\n",
    "                        genes_with_linkages))))\n",
    "            module_qtls[qtl_type] = [\n",
    "                (marker, modules_type)\n",
    "                for marker in induced_subgraph.vs.select(part=0)[\"name\"]\n",
    "            ]\n",
    "\n",
    "        randomized_J_scores = []\n",
    "        for i in range(INTERACTOME_RANDITER):\n",
    "            randomized_modules = [\n",
    "                np.random.RandomState().choice(gene_pool, len(module_genes))\n",
    "                for module_genes in modules_dict.values()\n",
    "            ]\n",
    "            randomized_module_genes_union = np.unique(\n",
    "                np.hstack(randomized_modules))\n",
    "            randomized_module_qtls = {}\n",
    "            for qtl_type in [\"eQTLs\", \"pQTLs\"]:\n",
    "                genes_with_linkages = np.intersect1d(\n",
    "                    randomized_module_genes_union,\n",
    "                    qtl_graph[qtl_type].vs.select(part=1)[\"name\"])\n",
    "                induced_subgraph = qtl_graph[qtl_type].subgraph(\n",
    "                    np.unique(\n",
    "                        np.hstack(qtl_graph[qtl_type].neighborhood(\n",
    "                            genes_with_linkages))))\n",
    "                randomized_module_qtls[qtl_type] = [\n",
    "                    (marker, modules_type)\n",
    "                    for marker in induced_subgraph.vs.select(part=0)[\"name\"]\n",
    "                ]\n",
    "            randomized_J_scores.append(\n",
    "                qtls.jaccard(\n",
    "                    set(randomized_module_qtls[\"eQTLs\"]),\n",
    "                    set(randomized_module_qtls[\"pQTLs\"])))\n",
    "        result_rows.append((\n",
    "            modules_type,\n",
    "            qtls.jaccard(set(module_qtls[\"eQTLs\"]), set(module_qtls[\"pQTLs\"])),\n",
    "            np.mean(randomized_J_scores),\n",
    "            *util.confidence_interval(randomized_J_scores)))\n",
    "    display(\n",
    "        pd.DataFrame(\n",
    "            result_rows,\n",
    "            columns=[\n",
    "                \"modules_type\", \"jaccard\", \"avg_rand_jaccard\",\n",
    "                \"rand_CI.l\", \"rand_CI.r\"\n",
    "            ]))"
   ]
  },
  {
   "cell_type": "markdown",
   "metadata": {},
   "source": [
    "Hypothesis arises: maybe not single genes, but functional modules tend to share linkages.  \n",
    "The goal of this work is to test that hypothesis using yeast interactome data."
   ]
  },
  {
   "cell_type": "markdown",
   "metadata": {
    "heading_collapsed": true
   },
   "source": [
    "## Module processing"
   ]
  },
  {
   "cell_type": "markdown",
   "metadata": {
    "heading_collapsed": true
   },
   "source": [
    "## Predicting pQTLs from eQTLs using PPI networks"
   ]
  },
  {
   "cell_type": "markdown",
   "metadata": {
    "hidden": true
   },
   "source": [
    "Now, when approach using interaction networks is justified, it's time to provide solid ground: if significant fraction of pQTLs can be rediscovered from eQTLs linked to genes interacting with given (including itself), it will serve as an additional evidence for hypothesis being actually true (once again, no sophisticated clustering was performed here, while it would possibly yield better results).  \n",
    "\n",
    "The main idea is not to test all (marker, gene) pairs but to filter for trusted only. In order to get rid of the pairs that will not link (or at least to dump more false than real linkages), the following approach is proposed: \n",
    "1. For each gene with measured protein abundance select its eQTL linkages as candidates into pQTLs. \n",
    "2. Extend eQTL linkages with those of the interacting genes. \n",
    "\n",
    "FDR decreases for the same q-value threshold, which results in more trustworthy observations."
   ]
  },
  {
   "cell_type": "markdown",
   "metadata": {
    "hidden": true
   },
   "source": [
    "Here is some statistics computed from some subgraphs of the interactome. \n",
    "\n",
    "**Physical interactions only**:   \n",
    "- Common linkages: 2021, 32.7977929243752%\n",
    "- Old linkages, total: 6162\n",
    "- New linkages, total: 4048\n",
    "- New linkages found: 2027\n",
    "\n",
    "**Full interactome**:\n",
    "- Common linkages: 3688, 59.85069782538137%\n",
    "- Old linkages, total: 6162\n",
    "- New linkages, total: 6219\n",
    "- New linkages found: 2531\n",
    "\n",
    "It becomes evident, that a significant fraction of estimated pQTLs can be reproduced using this approach.  \n",
    "**Nevertheless, many questions arise**:\n",
    "- Which fraction of trans-pQTLs is reproduced? (and is this approach capable of detecting those)\n",
    "- Are all the hotspots reproduced? If some are not, why then? It is worth mentioning, that some of those were given cryptic names which are nowhere to be found. \n",
    "- How robust the results are? So far results are not compared with those computed from simulated, perturbed graphs. "
   ]
  },
  {
   "cell_type": "code",
   "execution_count": null,
   "metadata": {
    "hidden": true
   },
   "outputs": [],
   "source": [
    "modules_type = \"thecellmap\"\n",
    "with open(\"./results/{}/modules_dict.pkl\".format(modules_type), \"rb\") as pickle_file:\n",
    "    modules_dict = pickle.load(pickle_file)\n",
    "fdr_cutoffs = np.logspace(-5, -2, 10)"
   ]
  },
  {
   "cell_type": "code",
   "execution_count": null,
   "metadata": {
    "hidden": true
   },
   "outputs": [],
   "source": [
    "\"\"\"Basic information about the functional modules: numbers of vertices and edges for pseudo- and simple subgraphs spanned by modules' genes\"\"\"\n",
    "%%time\n",
    "\n",
    "for simplify_flag in [False, True]:\n",
    "    modules_stats = networks.basic_module_info(\n",
    "         interactome_graph=interactome_graph, \n",
    "         modules_dict=modules_dict, \n",
    "         modules_type=modules_type,\n",
    "         simplify=simplify_flag)\n",
    "    modules_stats.to_csv(\"./results/{}/\".format(modules_type) \n",
    "              + (\"simplified\" if simplify_flag else \"raw\") \n",
    "              + \"_module_stats.csv\", sep='\\t', index=False)\n",
    "    display(modules_stats.sort_values(by=\"genes_count\", ascending=False))"
   ]
  },
  {
   "cell_type": "code",
   "execution_count": null,
   "metadata": {
    "hidden": true
   },
   "outputs": [],
   "source": [
    "gene_pool = np.intersect1d(expression_df[\"eQTLs_interpolated\"][\"gene\"], expression_df[\"pQTLs\"][\"gene\"])"
   ]
  },
  {
   "cell_type": "code",
   "execution_count": null,
   "metadata": {
    "hidden": true
   },
   "outputs": [],
   "source": [
    "\n",
    "%%time\n",
    "reload(qtls)\n",
    "\n",
    "def calculate_eqtl_pqtl_intersection(modules_type):\n",
    "    with open(\"./results/{}/modules_dict.pkl\".format(modules_type), \"rb\") as pickle_file:\n",
    "        modules_dict = pickle.load(pickle_file)\n",
    "    for eqtls_type in [\"old\"]:\n",
    "        print(\"{}: {}\".format(modules_type, eqtls_type))\n",
    "        pd.DataFrame(\n",
    "            [\n",
    "                (q_cutoff, *qtls.qtl_overlap_test(qtls_df[\"eQTLs_{}\".format(eqtls_type)].query(\"q_value < {}\".format(q_cutoff)),\n",
    "                                                  qtls_df[\"pQTLs\"].query(\"q_value < {}\".format(q_cutoff)),\n",
    "                                                  gene_pool, modules_dict))\n",
    "                for q_cutoff in 10.**np.arange(-8, -1)\n",
    "            ],\n",
    "            columns = [\"q_value_cutoff\", \"real_modules\", \"random_modules\"],\n",
    "            dtype=np.float32\n",
    "        ).to_csv(\"./results/{}/eQTL_pQTL_intersection_{}.csv\".format(modules_type, eqtls_type), sep='\\t', index=False)\n",
    "        \n",
    "module_types = [\"geneontology\"]        \n",
    "joblib.Parallel(n_jobs=len(modules_type))(\n",
    "    joblib.delayed(calculate_eqtl_pqtl_intersection)(modules_type) \n",
    "    for modules_type in module_types\n",
    ")"
   ]
  },
  {
   "cell_type": "code",
   "execution_count": null,
   "metadata": {
    "hidden": true
   },
   "outputs": [],
   "source": []
  },
  {
   "cell_type": "code",
   "execution_count": null,
   "metadata": {
    "hidden": true
   },
   "outputs": [],
   "source": [
    "\"\"\" The same information, only visualized. \"\"\"\n",
    "\n",
    "%%time\n",
    "\n",
    "intersection_j, randomized_intersection_j = qtls.qtl_overlap_by_module_test(qtls_df[\"eQTLs_old\"], qtls_df[\"pQTLs\"], \n",
    "                                                                            gene_pool, modules_dict)\n",
    "\n",
    "qtls.qtl_overlap_hist(intersection_j, modules_type)\n",
    "qtls.qtl_overlap_hist(randomized_intersection_j, modules_type + \"_randomized\")"
   ]
  },
  {
   "cell_type": "code",
   "execution_count": null,
   "metadata": {
    "hidden": true
   },
   "outputs": [],
   "source": [
    "\"\"\"\n",
    "OBSERVATION: gene pool tends to be biased towards high eQTL/pQTL overlap ration.\n",
    "Reasons and interpretations of such behaviour remain unclear.    \n",
    "\"\"\"\n",
    "\n",
    "sample_size = 10\n",
    "def randomize_and_overlap(sample_size, iter_num=200):\n",
    "    jaccard_coeffs = []\n",
    "    for i in range(iter_num):\n",
    "        gene_sample = np.random.RandomState().choice(gene_pool, sample_size, replace=False)\n",
    "        linked_eQTLs = set(qtls.linked_markers(qtls_df[\"eQTLs_old\"], gene_sample))\n",
    "        linked_pQTLs = set(qtls.linked_markers(qtls_df[\"pQTLs\"], gene_sample))\n",
    "        jaccard_coeffs.append(qtls.jaccard(linked_eQTLs, linked_pQTLs))\n",
    "    return np.mean(jaccard_coeffs)\n",
    "\n",
    "display(\n",
    "    pd.DataFrame(\n",
    "        [\n",
    "            (q_cutoff, randomize_and_overlap(sample_size))\n",
    "            for q_cutoff in 10.**np.arange(-8, -1)\n",
    "        ],\n",
    "        columns = [\"q_value_cutoff\", \"random_samples_of_size_{}\".format(sample_size)],\n",
    "        dtype=np.float32\n",
    "    )\n",
    ")"
   ]
  },
  {
   "cell_type": "code",
   "execution_count": null,
   "metadata": {
    "hidden": true
   },
   "outputs": [],
   "source": [
    "\"\"\" Helper cell. Used to visualize results of full-graph test and PPIN test. \"\"\"\n",
    "\n",
    "%%time\n",
    "reload(qtls)\n",
    "for expression_df, qtl_df, qtl_type in [(expression_df[\"eQTLs_old\"], qtls_df[\"eQTLs_old\"], \"eQTLs\"),\n",
    "                                        (expression_df[\"pQTLs\"], qtls_df[\"pQTLs\"], \"pQTLs\")]:\n",
    "    qtls.plot_analysis_results(\n",
    "        expression_df=expression_df,\n",
    "        interactions_type=\"physical\",\n",
    "        interactome_graph=interactome_graph,\n",
    "        modules_dict=modules_dict,\n",
    "        modules_type=modules_type,\n",
    "        qtl_df=qtl_df,\n",
    "        qtl_type=qtl_type\n",
    "    )\n",
    "    \n"
   ]
  },
  {
   "cell_type": "code",
   "execution_count": null,
   "metadata": {
    "hidden": true
   },
   "outputs": [],
   "source": [
    "\"\"\" INVESTIGATION: how precisely can pQTLs be predicted from eQTLs given PPIN? \"\"\"\n",
    "\n",
    "%%time\n",
    "\n",
    "reload(qtls)\n",
    "print(modules_type)\n",
    "\n",
    "predictions_dict = {}\n",
    "for module_name, module_genes in tqdm(modules_dict.items()):\n",
    "    predictions_dict[module_name] = qtls.PqtlPredictor(\n",
    "        eqtls_df=qtls_df[\"eQTLs_old\"], pqtls_df=qtls_df[\"pQTLs\"],\n",
    "        pqtls_expression_df=expression_df[\"pQTLs\"], pqtls_genotypes_df=genotypes_df[\"pQTLs\"],\n",
    "        module_name=module_name, module_genes=module_genes,\n",
    "        interactome_graph=interactome_graph\n",
    "    ).predict()\n",
    "\n",
    "display(pd.DataFrame(\n",
    "    ((key, *values) for key, values in predictions_dict.items()),\n",
    "    columns=[\"module_name\", \"common_pQTLs\", \"overlap_ratio\", \"old_pQTLs\", \"predicted_pQTLs\", \"delta\"]\n",
    ").sort_values(by=\"overlap_ratio\", ascending=False))"
   ]
  },
  {
   "cell_type": "markdown",
   "metadata": {},
   "source": [
    "## GeneOntology"
   ]
  },
  {
   "cell_type": "code",
   "execution_count": null,
   "metadata": {},
   "outputs": [],
   "source": [
    "\"\"\" GO terms covering 10-150 genes are extracted and used to generate functional modules.\"\"\"\n",
    "\n",
    "from goatools import obo_parser\n",
    "\n",
    "# building the GeneOntology DAG\n",
    "obodag = obo_parser.GODag(\n",
    "    \"./data/geneontology/go-basic.obo\",\n",
    "    optional_attrs=[\"relationship\"]\n",
    ")\n",
    "from Bio.UniProt.GOA import gafiterator\n",
    "\n",
    "# how many of them are present in actual yeast genome?\n",
    "yeast_gaf = './data/geneontology/goa_yeast.gaf'\n",
    "goid2genes = collections.defaultdict(list)\n",
    "with open(yeast_gaf) as handle:\n",
    "    for rec in gafiterator(handle):\n",
    "        go_term = obodag[rec[\"GO_ID\"]]\n",
    "        for par in go_term.parents:\n",
    "            goid2genes[par.id].append(rec[\"DB_Object_Symbol\"])\n",
    "            \n",
    "for key, val in goid2genes.items():\n",
    "    goid2genes[key] = np.unique(val)\n",
    "\n",
    "physically_interacting_genes = set(interactome_graphs_dict[\"physical\"].vs[\"name\"])\n",
    "geneontology_modules_dict = {\n",
    "    obodag[go_id].name.replace('/', '|') : genes \n",
    "    for go_id, genes in tqdm(goid2genes.items()) \n",
    "    if 10 <= len(interactome_graphs_dict[\"physical\"].subgraph(\n",
    "            set(genes) & physically_interacting_genes\n",
    "        ).simplify().vs.select(_degree_gt=0)) <= 150\n",
    "}\n",
    "\n",
    "with open(\"./results/geneontology/modules_dict.pkl\", \"wb+\") as pickle_file:\n",
    "    pickle.dump(geneontology_modules_dict, pickle_file)\n",
    "# with open(\"./results/geneontology/modules_dict.pkl\", \"rb+\") as pickle_file:\n",
    "#     geneontology_modules_dict = pickle.load(pickle_file)"
   ]
  },
  {
   "cell_type": "markdown",
   "metadata": {},
   "source": [
    "## KEGG pathways"
   ]
  },
  {
   "cell_type": "code",
   "execution_count": null,
   "metadata": {},
   "outputs": [],
   "source": [
    "\"\"\" KEGG pathways are retrieved by querying KEGG database \"\"\"\n",
    "\n",
    "%%time \n",
    "kegg_pathways_dict = {(\"-\".join(key.split('-')[:-1])):value for key, value in \n",
    "                     ontologies.query_KEGG(database=\"pathway\", organism=\"sce\").items()}\n",
    "\n",
    "with open(\"./results/kegg_pathways/modules_dict.pkl\", \"wb+\") as pickle_file:\n",
    "    pickle.dump(kegg_pathways_dict, pickle_file)\n",
    "# with open(\"./results/kegg_pathways/modules_dict.pkl\", \"rb+\") as pickle_file:\n",
    "#     kegg_pathways_dict = pickle.load(pickle_file)"
   ]
  },
  {
   "cell_type": "markdown",
   "metadata": {},
   "source": [
    "## KEGG modules"
   ]
  },
  {
   "cell_type": "code",
   "execution_count": null,
   "metadata": {},
   "outputs": [],
   "source": [
    "\"\"\" Same for KEGG modules. \"\"\"\n",
    "\n",
    "kegg_modules_dict = {key.replace('=>', 'to'):value for key, value in \n",
    "                     ontologies.query_KEGG(database=\"module\", organism=\"sce\").items()}\n",
    "\n",
    "with open(\"./results/kegg_modules/modules_dict.pkl\", \"wb+\") as pickle_file:\n",
    "    pickle.dump(kegg_modules_dict, pickle_file)\n"
   ]
  },
  {
   "cell_type": "markdown",
   "metadata": {},
   "source": [
    "## Analyzing new data: interpolation of genotypes"
   ]
  },
  {
   "cell_type": "code",
   "execution_count": null,
   "metadata": {
    "ExecuteTime": {
     "end_time": "2018-08-29T16:28:32.085239Z",
     "start_time": "2018-08-29T16:28:27.163798Z"
    }
   },
   "outputs": [],
   "source": [
    "\"\"\" The total number of genes with linkages is calculated here. \"\"\"\n",
    "\n",
    "has_linkages = collections.defaultdict(collections.Counter)\n",
    "for qtl_type, qtl_df in [(\"eQTLs\", qtls_df[\"eQTLs_2011_albert&bloom\"]),\n",
    "                         (\"pQTLs\", qtls_df[\"pQTLs_2011_albert&bloom\"])]:\n",
    "    for gene_name in tqdm_notebook(expression_df[\"eQTLs_2011\"][\"gene\"]\n",
    "                                   if qtl_type == \"eQTLs\" \n",
    "                                   else expression_df[\"pQTLs_2011\"][\"gene\"]):\n",
    "        has_linkages[qtl_type][\n",
    "            len(qtls.linked_markers(qtl_df, [gene_name])) > 0] += 1\n",
    "has_linkages"
   ]
  },
  {
   "cell_type": "code",
   "execution_count": null,
   "metadata": {
    "ExecuteTime": {
     "end_time": "2018-08-29T21:58:27.330501Z",
     "start_time": "2018-08-29T21:58:26.558207Z"
    }
   },
   "outputs": [],
   "source": [
    "\"\"\" \n",
    "Full genome scan was used in the recent paper by Krulyak's lab. Using their eQTLs is ok whenever it doesn't require simultaneous analysis of pQTLs.\n",
    "To make use of all datasets that we have, we decided to interpolate inheritance patterns of the old markers by the new ones.\n",
    "The algorithm is simple: just choose the label of the nearest new marker.   \n",
    "\"\"\"\n",
    "\n",
    "old_gen_df = genotypes_df[\"eQTLs_2011\"][[\"SNP\", \"chromosome\", \"position\"]]\n",
    "new_gen_df = genotypes_df[\"eQTLs_2018_full\"]\n",
    "\n",
    "# Chromosomes are enumerated by roman numerals in the new data\n",
    "roman2arabic = {\n",
    "    \"I\": 1,\n",
    "    \"II\": 2,\n",
    "    \"III\": 3,\n",
    "    \"IV\": 4,\n",
    "    \"V\": 5,\n",
    "    \"VI\": 6,\n",
    "    \"VII\": 7,\n",
    "    \"VIII\": 8,\n",
    "    \"IX\": 9,\n",
    "    \"X\": 10,\n",
    "    \"XI\": 11,\n",
    "    \"XII\": 12,\n",
    "    \"XIII\": 13,\n",
    "    \"XIV\": 14,\n",
    "    \"XV\": 15,\n",
    "    \"XVI\": 16\n",
    "}\n",
    "arabic2roman = {val: key for key, val in roman2arabic.items()}\n",
    "\n",
    "\n",
    "# Binary search\n",
    "def find_nearest(array, value):\n",
    "    idx = np.searchsorted(array, value, side=\"left\")\n",
    "    shift = idx > 0 and (idx == len(array) or np.fabs(value - array[idx - 1]) <\n",
    "                         np.fabs(value - array[idx]))\n",
    "    return array[idx - shift]\n",
    "\n",
    "\n",
    "# Markers get grouped by chromosome. Their genetic coordinates are sorted inside each group.\n",
    "# After that, the groups are merged into one big list, that is stored on disk.\n",
    "old_chr2markers_on_it = {\n",
    "    n: old_gen_df.groupby(by=\"chromosome\").get_group(n)\n",
    "    for n in range(1, 17)\n",
    "}\n",
    "\n",
    "# new_chr2markpos = collections.defaultdict(list)\n",
    "# short2full = {colname.split(\"_\")[0] : colname for colname in new_gen_df.columns[1:]}\n",
    "# marker2chromosome = dict()\n",
    "# marker2location = dict()\n",
    "for _, row in old_gen_df.iterrows():\n",
    "#     position, type = marker.split('_')\n",
    "#     chromosome, gencoord = position.split(\":\")\n",
    "#     new_chr2markpos[util.as_arabic(chromosome[3:])].append(int(gencoord))\n",
    "    marker2location[row[\"SNP\"]] = (int(row[\"chromosome\"]), int(row[\"position\"]))\n",
    "# for n in range(1, 17):\n",
    "#     new_chr2markpos[n] = np.sort(new_chr2markpos[n])\n",
    "\n",
    "new_chr2markers_on_it = {\n",
    "    n: new_gen_df.groupby(by=\"chromosome\").get_group(n)\n",
    "    for n in range(1, 17)\n",
    "}\n",
    "short2full = {colname.split(\"_\")[0]: colname for colname in new_gen_df[\"SNP\"]}\n",
    "\n",
    "# For each of the old markers find the nearest new marker.\n",
    "old_marker2new_marker = {}\n",
    "# Remember the distance between them to analyze the distribution later.\n",
    "min_distances = []\n",
    "old_marker2distance_to_nearest_new = {}\n",
    "for n in range(1, 17):\n",
    "    for _, row in old_chr2markers_on_it[n].iterrows():\n",
    "        nearest_position = find_nearest(\n",
    "            np.sort(new_chr2markers_on_it[n][\"position\"].values.astype(\n",
    "                np.int32)), int(row[\"position\"]))\n",
    "        old_marker2new_marker[row[\"SNP\"]] = \"chr{}:{}\".format(\n",
    "            util.as_roman(n), nearest_position)\n",
    "        min_distance = abs(int(row[\"position\"]) - nearest_position)\n",
    "        min_distances.append(min_distance)\n",
    "        old_marker2distance_to_nearest_new[row[\"SNP\"]] = min_distance\n",
    "# Calculate how often each of new markers turned out to be the nearest one.\n",
    "occurences = collections.Counter(old_marker2new_marker.values())\n",
    "print(\"{}\".format(occurences.most_common(10)))"
   ]
  },
  {
   "cell_type": "code",
   "execution_count": null,
   "metadata": {
    "ExecuteTime": {
     "end_time": "2018-08-29T21:18:34.066945Z",
     "start_time": "2018-08-29T21:18:32.847116Z"
    }
   },
   "outputs": [],
   "source": [
    "\"\"\" How close are old markers to new ones, on average and in general? \"\"\"\n",
    "\n",
    "plt.figure(figsize=(20, 10))\n",
    "counts, bins, patches = plt.hist(\n",
    "    min_distances,\n",
    "    alpha=0.8,\n",
    "    bins=util.bincount_scott(min_distances),\n",
    "    edgecolor=\"black\",\n",
    "    linewidth=1.2)\n",
    "plt.title(\"Distance to nearest new marker\", fontsize=30)\n",
    "plt.xticks(bins, fontsize=15, rotation=\"vertical\")\n",
    "plt.xlabel(\"Distance in genomic coordiantes\", fontsize=25)\n",
    "plt.yticks(fontsize=15)\n",
    "plt.ylabel(\"Number of markers\", fontsize=25)\n",
    "plt.savefig(\"./img/distance_to_new_markers.png\", dpi=300)\n",
    "plt.show()\n",
    "\n",
    "print(np.median(min_distances))\n",
    "\n"
   ]
  },
  {
   "cell_type": "code",
   "execution_count": null,
   "metadata": {
    "ExecuteTime": {
     "end_time": "2018-08-29T21:58:59.431321Z",
     "start_time": "2018-08-29T21:58:33.018845Z"
    }
   },
   "outputs": [],
   "source": [
    "\"\"\" Dump the interpolated genotypes on disc. \"\"\"\n",
    "raw_new_gen_df = pd.read_table(\"data/eQTLs/2018/SI_Data_03_genotypes.csv\")\n",
    "predicted_rows = []\n",
    "for old_marker, nearest_new in old_marker2new_marker.items():\n",
    "    predicted_rows.append(\n",
    "        np.hstack((old_marker,\n",
    "                   raw_new_gen_df[short2full[nearest_new]].values + 1)))\n",
    "predicted_df = pd.DataFrame(\n",
    "    predicted_rows, columns=np.hstack((\"SNP\", raw_new_gen_df[\"strain\"])))\n",
    "predicted_df[\"distance_to_nearest_new\"] = [\n",
    "    old_marker2distance_to_nearest_new[marker]\n",
    "    for marker in predicted_df[\"SNP\"].values\n",
    "]\n",
    "predicted_df = predicted_df.query(\"distance_to_nearest_new <= {}\".format(\n",
    "    np.median(min_distances))).drop(\n",
    "        \"distance_to_nearest_new\",\n",
    "        axis=1).assign(read_index=predicted_df[\"SNP\"].apply(\n",
    "            lambda s: int(s.split(\"_\")[1]))).sort_values(\"read_index\").drop(\n",
    "                \"read_index\", axis=1)\n",
    "predicted_df[\"chromosome\"] = [\n",
    "    marker2location[marker][0] for marker in predicted_df[\"SNP\"]\n",
    "]\n",
    "predicted_df[\"position\"] = [\n",
    "    marker2location[marker][1] for marker in predicted_df[\"SNP\"]\n",
    "]\n",
    "predicted_df.to_csv(\n",
    "    \"./data/eQTLs/2011/genotypes_interpolated_new_try.csv\",\n",
    "    sep='\\t',\n",
    "    index=False)"
   ]
  },
  {
   "cell_type": "markdown",
   "metadata": {},
   "source": [
    "## Analyzing new data: eQTLs"
   ]
  },
  {
   "cell_type": "code",
   "execution_count": null,
   "metadata": {},
   "outputs": [],
   "source": [
    "\"\"\" How many eQTLs are in both real and interpolated data? \n",
    "    TODO: Collect more information: jaccard coefficient, percentage of reproduced values etc\n",
    "\"\"\"\n",
    "\n",
    "len(np.intersect1d(\n",
    "    list(map(tuple, qtls_df[\"eQTLs_interpolated\"][[\"SNP\", \"gene\"]].values)), \n",
    "    list(map(tuple, qtls_df[\"eQTLs_old\"][[\"SNP\", \"gene\"]].values))\n",
    "))"
   ]
  },
  {
   "cell_type": "code",
   "execution_count": 46,
   "metadata": {
    "ExecuteTime": {
     "end_time": "2018-09-07T05:53:15.503732Z",
     "start_time": "2018-09-07T05:53:13.341117Z"
    }
   },
   "outputs": [
    {
     "data": {
      "image/png": "[encoded data removed]",
      "text/plain": [
       "<Figure size 2160x720 with 1 Axes>"
      ]
     },
     "metadata": {},
     "output_type": "display_data"
    }
   ],
   "source": [
    "\"\"\" Plot the distributions of each QTL dataset\"\"\"\n",
    "\n",
    "sns.set(style=\"whitegrid\")\n",
    "\n",
    "\n",
    "q_value_threshold = 1e-3\n",
    "with open(\"./data/genomic_features/order_of_markers.pkl\", \"rb\") as pickle_file:\n",
    "    marker2location = pickle.load(pickle_file)\n",
    "with open(\"./data/genomic_features/chromosome_endpoints.pkl\",\n",
    "          \"rb\") as pickle_file:\n",
    "    chromosome_endpoints = pickle.load(pickle_file)\n",
    "\n",
    "old_eQTL_markers, old_eQTL_y = qtls.linkages2gencoords(QTLs_2011_reference)\n",
    "    #qtls_df[\"eQTLs_2011_MatrixEQTL\"])\n",
    "# interpolated_eQTL_markers, interpolated_eQTL_y = qtls.linkages2gencoords(\n",
    "#     qtls_df[\"eQTLs_2011_albert&bloom_interpolated\"])\n",
    "# interpolated_eQTL_markers, interpolated_eQTL_y = qtls.linkages2gencoords(pd.DataFrame(np.vstack(qtl_list), columns=[\"SNP\", \"gene\"]))\n",
    "# new_eQTL_markers, new_eQTL_y = qtls.linkages2gencoords(qtls_df[\"eQTLs_2011_albert&bloom\"])\n",
    "# pQTL_markers, pQTL_y = qtls.linkages2gencoords(\n",
    "#     qtls_df[\"pQTLs_2011_albert&bloom\"])\n",
    "# pQTL_y = pQTL_y / expression_df[\"pQTLs_2011\"].shape[0]\n",
    "# recomputed_new_eQTL_markers, recomputed_new_eQTL_y = qtls.linkages2gencoords(qtls_df[\"recomputed_new_eQTLs\"][qtls_df[\"recomputed_new_eQTLs\"][\"q.value\"] <= 1e-32])\n",
    "# recomputed_new_eQTL_markers, recomputed_new_eQTL_y = qtls.linkages2gencoords(pd.DataFrame(np.vstack(qtl_list), columns=[\"SNP\", \"gene\"]))\n",
    "# recomputed_qtls_df = pd.read_table(\"./email_to_albert&bloom/pQTLs_albert&bloom.csv\")[[\"pmarker\", \"gene\"]]\n",
    "# recomputed_qtls_df[\"pmarker\"] = recomputed_qtls_df[\"pmarker\"].apply(lambda s: s.split(\":\")[1])\n",
    "# recomputed_qtls_df.rename(columns={\"pmarker\":\"SNP\"}, inplace=True)\n",
    "# recomputed_qtls_df.drop_duplicates(inplace=True)\n",
    "# recomputed_qtls_df[\"gene\"] = recomputed_qtls_df[\"gene\"].apply(networks.convert_to_std)\n",
    "recomputed_QTL_markers, recomputed_QTL_y = qtls.linkages2gencoords(QTLs_2011_experimental)\n",
    "    #pd.read_table(\"./data/eQTLs/2011/qtls_naive.csv\").query(\"q_value <= 0.01\"))\n",
    "\n",
    "old_eQTL_x = list(map(marker2location.get, old_eQTL_markers))\n",
    "# interpolated_eQTL_x = list(map(marker2location.get, interpolated_eQTL_markers))\n",
    "# new_eQTL_x = list(map(marker2location.get, new_eQTL_markers))\n",
    "# pQTL_x = list(map(marker2location.get, pQTL_markers))\n",
    "recomputed_QTL_x = list(\n",
    "    map(marker2location.get, recomputed_QTL_markers))\n",
    "\n",
    "colors_dict = dict(\n",
    "    zip([\n",
    "        \"eQTLs_2011\", \"eQTLs_2011_interpolated\", \"eQTLs_2018\", \"pQTLs_2011\",\n",
    "        \"recomputed\"\n",
    "    ], plt.rcParams['axes.prop_cycle'].by_key()['color'][:5]))\n",
    "\n",
    "plt.figure(figsize=(30, 10))\n",
    "plt.title(\n",
    "    \"MatrixEQTL_ANOVA vs A&B\",\n",
    "    fontsize=30)\n",
    "for n in range(1, 17):\n",
    "    plt.axvline(\n",
    "        x=chromosome_endpoints[n - 1], linestyle='--', color='grey', alpha=0.8)\n",
    "    plt.text(\n",
    "        chromosome_endpoints[n - 1],\n",
    "        0.8 * np.max(recomputed_QTL_y),\n",
    "        util.as_roman(n),\n",
    "        fontsize=15)\n",
    "\n",
    "plt.plot(\n",
    "    old_eQTL_x,\n",
    "    -old_eQTL_y,\n",
    "    label=\"{} eQTLs, 2018, A&B\".format(QTLs_2011_reference.shape[0]),\n",
    "    color=colors_dict[\"eQTLs_2011\"])\n",
    "plt.fill_between(\n",
    "    old_eQTL_x, -old_eQTL_y, 0, alpha=0.5, color=colors_dict[\"eQTLs_2011\"])\n",
    "\n",
    "# chunks = np.linspace(0, chromosome_endpoints[16], 100)\n",
    "# vals = np.zeros(len(chunks))\n",
    "# for i in range(len(chunks) - 1):\n",
    "#     vals[i] = sum((chunks[i] < val < chunks[i + 1] for val in interpolated_eQTL_x))\n",
    "# plt.step(chunks, -vals, label=\"markers in chunk\", color=plt.rcParams[\"axes.prop_cycle\"].by_key()[\"color\"][0])\n",
    "\n",
    "# plt.plot(\n",
    "#     interpolated_eQTL_x,\n",
    "#     interpolated_eQTL_y,\n",
    "#     label=\"eQTLs, interpolated: old markers, new expression\",\n",
    "#     alpha=0.7,\n",
    "#     color=colors_dict[\"eQTLs_2011_interpolated\"])\n",
    "# plt.fill_between(\n",
    "#     interpolated_eQTL_x,\n",
    "#     0,\n",
    "#     interpolated_eQTL_y,\n",
    "#     alpha=0.5,\n",
    "#     color=colors_dict[\"eQTLs_2011_interpolated\"])\n",
    "\n",
    "# plt.plot(\n",
    "#     new_eQTL_x,\n",
    "#     -new_eQTL_y,\n",
    "#     label=\"36498 eQTLs, A&B (from paper)\",\n",
    "#     alpha=1,\n",
    "#     color=colors_dict[\"eQTLs_2018\"],\n",
    "#     zorder=1)\n",
    "# plt.fill_between(\n",
    "#     new_eQTL_x, -new_eQTL_y, 0, alpha=0.7, color=colors_dict[\"eQTLs_2018\"])\n",
    "\n",
    "# plt.plot(\n",
    "#     pQTL_x,\n",
    "#     -pQTL_y,\n",
    "#     label=\"pQTLs, 2011, algorithm of Albert&Bloom\",\n",
    "#     alpha=0.7,\n",
    "#     color=colors_dict[\"pQTLs_2011\"])\n",
    "# plt.fill_between(\n",
    "#     pQTL_x, -pQTL_y, 0, alpha=0.5, color=colors_dict[\"pQTLs_2011\"])\n",
    "plt.plot(\n",
    "    recomputed_QTL_x,\n",
    "    recomputed_QTL_y,\n",
    "    label=\"{} eQTLs, 2018, MatrixEQTL, q-threshold of {:.2e}\".format(QTLs_2011_experimental.shape[0], 10. ** -optimal_q_cutoff),\n",
    "    alpha=1,\n",
    "    color=colors_dict[\"recomputed\"],\n",
    "    zorder=0)\n",
    "plt.fill_between(\n",
    "    recomputed_QTL_x,\n",
    "    0,\n",
    "    recomputed_QTL_y,\n",
    "    alpha=0.2,\n",
    "    color=colors_dict[\"recomputed\"])\n",
    "\n",
    "plt.xlabel(\"Genomic coordinates\", fontsize=25)\n",
    "plt.ylabel(\"Number of genes influenced\", fontsize=25)\n",
    "plt.xticks(fontsize=20)\n",
    "plt.yticks(fontsize=20)\n",
    "plt.legend(fontsize=20, loc=3)\n",
    "plt.grid(linestyle=\"dotted\")\n",
    "plt.savefig(\"./img/qtl_distributions/eQTLs_2018_MatrixEQTL_ANOVA_vs_A&B.png\", dpi=300)\n",
    "plt.show()\n",
    "plt.close()"
   ]
  },
  {
   "cell_type": "code",
   "execution_count": null,
   "metadata": {
    "ExecuteTime": {
     "end_time": "2018-09-04T06:56:20.580886Z",
     "start_time": "2018-09-04T06:56:19.904896Z"
    }
   },
   "outputs": [],
   "source": [
    "print(qtls_df['eQTLs_2018_albert&bloom'].shape[0])\n",
    "print([(threshold, qtls_df['eQTLs_2018_MatrixEQTL'].query(\"q_value <= {}\".format(threshold)).shape[0]) \n",
    "       for threshold in 10. ** -np.arange(1, 41)])\n"
   ]
  },
  {
   "cell_type": "code",
   "execution_count": null,
   "metadata": {
    "ExecuteTime": {
     "end_time": "2018-09-04T06:43:41.762584Z",
     "start_time": "2018-09-04T06:43:41.742349Z"
    }
   },
   "outputs": [],
   "source": [
    "for module_name, module_genes in tqdm(modules_dict.items()):\n",
    "    module_graph = interactome_graph.subgraph(\n",
    "        np.intersect1d(module_genes, interactome_graph.vs[\"name\"])\n",
    "    ).simplify()\n",
    "    module_graph.vs.select(_degree=0).delete()\n",
    "    if module_graph.vcount() > 0:\n",
    "        qtls.plot_module_graph(\n",
    "            destdir=\"./results/{}/new_eQTLs/\".format(modules_type), \n",
    "            module_graph=module_graph, \n",
    "            qtl_df=qtls_df[\"eQTLs_new\"], \n",
    "            filename=module_name\n",
    "        )"
   ]
  },
  {
   "cell_type": "markdown",
   "metadata": {},
   "source": [
    "## Summarizing results"
   ]
  },
  {
   "cell_type": "code",
   "execution_count": null,
   "metadata": {},
   "outputs": [],
   "source": [
    "for modules_type in [\"geneontology\", \"kegg_modules\", \"kegg_pathways\", \"thecellmap\"]:\n",
    "    old_pred_df = pd.read_table(\"./archive/{}/eQTLs_old/pQTLs_from_eQTLs.csv\".format(modules_type)).sort_values(by=\"module_name\")\n",
    "    interpolated_pred_df = pd.read_table(\"./archive/{}/eQTLs_interpolated/pQTLs_from_eQTLs.csv\".format(modules_type)).sort_values(by=\"module_name\")\n",
    "    \n",
    "    plt.figure(figsize=(20, 10))\n",
    "    plt.title(\"{}: predicting pQTLs via eQTLs & PPIN\".format(modules_type), fontsize=25)\n",
    "    plt.plot(old_pred_df[\"overlap_ratio\"].values, label=\"old_eQTLs\")\n",
    "    plt.fill_between(range(len(old_pred_df[\"overlap_ratio\"].values)), 0, old_pred_df[\"overlap_ratio\"].values, alpha=0.3)\n",
    "    plt.plot(-interpolated_pred_df[\"overlap_ratio\"].values, label=\"interpolated_eQTLs\")\n",
    "    plt.fill_between(range(len(interpolated_pred_df[\"overlap_ratio\"].values)), -interpolated_pred_df[\"overlap_ratio\"].values, 0, alpha=0.3)\n",
    "    plt.xlabel(\"Number of functional module in sorted order\", fontsize=15)\n",
    "    plt.ylabel(\"Percentage of pQTLs predicted correctly\", fontsize=15)\n",
    "    plt.legend(fontsize=15)\n",
    "    plt.savefig(\"./img/pQTL_prediction/{}_pQTLs_prediction_old_interpolated.png\".format(modules_type), dpi=300)\n",
    "    # plt.show()\n",
    "    plt.close()\n"
   ]
  },
  {
   "cell_type": "code",
   "execution_count": null,
   "metadata": {},
   "outputs": [],
   "source": [
    "for modules_type in [\"geneontology\", \"kegg_modules\", \"kegg_pathways\", \"thecellmap\"]:\n",
    "    old_intersection_df = pd.read_table(\"./archive/{}/eQTLs_old/eQTL_pQTL_intersection.csv\".format(modules_type))\n",
    "    interpolated_intersection_df = pd.read_table(\"./archive/{}/eQTLs_interpolated/eQTL_pQTL_intersection.csv\".format(modules_type))\n",
    "    \n",
    "    plt.figure(figsize=(20, 10))\n",
    "    plt.title(\"{}: eQTL/pQTL intersection\".format(modules_type), fontsize=25)\n",
    "    plt.plot(old_intersection_df[\"q_value_cutoff\"].values, old_intersection_df[\"real_modules\"].values, label=\"old eQTLs, real modules\")\n",
    "    # plt.fill_between(range(old_intersection_df.shape[0]), 0, old_intersection_df[\"real_modules\"].values, alpha=0.3)\n",
    "    plt.plot(old_intersection_df[\"q_value_cutoff\"].values, old_intersection_df[\"random_modules\"].values, label=\"old eQTLs, random modules\")\n",
    "    # plt.fill_between(range(old_intersection_df.shape[0]), 0, old_intersection_df[\"random_modules\"].values, alpha=0.3)\n",
    "    plt.plot(interpolated_intersection_df[\"q_value_cutoff\"].values, interpolated_intersection_df[\"real_modules\"].values, label=\"interpolated eQTLs, real modules\")\n",
    "    # plt.fill_between(range(interpolated_intersection_df.shape[0]), -interpolated_intersection_df[\"real_modules\"].values, 0, alpha=0.3)\n",
    "    plt.plot(interpolated_intersection_df[\"q_value_cutoff\"].values, interpolated_intersection_df[\"random_modules\"].values, label=\"interpolated eQTLs, random modules\")\n",
    "    # plt.fill_between(range(interpolated_intersection_df.shape[0]), -interpolated_intersection_df[\"random_modules\"].values, 0, alpha=0.3)\n",
    "    plt.xscale('log')\n",
    "    plt.xlabel(\"q-value threshold\", fontsize=15)\n",
    "    plt.ylabel(\"Jaccard coefficient\", fontsize=15)\n",
    "    plt.legend(fontsize=15)\n",
    "    plt.savefig(\"./img/eQTL_pQTL_intersection/{}.png\".format(modules_type), dpi=300)\n",
    "    # plt.show()\n",
    "    plt.close()\n"
   ]
  },
  {
   "cell_type": "code",
   "execution_count": null,
   "metadata": {},
   "outputs": [],
   "source": [
    "\"\"\" Plotting matrix of genotypes \"\"\"\n",
    "import seaborn as sns\n",
    "\n",
    "plt.figure(figsize=(20, 10))\n",
    "frame_start = np.random.RandomState().choice(range(1, genotypes_df[\"eQTLs_new\"].shape[1] // 2))\n",
    "frame_end = frame_start + 10\n",
    "genotype_rows = genotypes_df[\"eQTLs_new\"].iloc[:, frame_start:frame_end].values.T\n",
    "genotype_rows[genotype_rows == 2] = 1\n",
    "# genotype_rows += stats.uniform().rvs(size=genotype_rows.shape)\n",
    "sns.heatmap(genotype_rows, xticklabels=False, yticklabels=False, cbar=False, cmap=\"Greys\");\n",
    "plt.savefig(\"./img/inheritance_patterns\")\n",
    "# plt.show()\n",
    "\"\""
   ]
  },
  {
   "cell_type": "code",
   "execution_count": null,
   "metadata": {},
   "outputs": [],
   "source": [
    "\"\"\" Choosing FDR-cutoff for detected QTLs \"\"\"\n",
    "\n",
    "plt.figure(figsize=(20, 10))\n",
    "plt.title(\"Distribution of q-values of old eQTLs\", fontsize=25)\n",
    "plt.xscale(\"log\")\n",
    "sns.set(color_codes=True)\n",
    "sns.distplot(bins=10.**np.arange(-16, -1), a=qtls_df[\"pQTLs\"][\"q_value\"], kde=False)\n",
    "plt.xticks(fontsize=20)\n",
    "plt.yticks(fontsize=20)\n",
    "plt.savefig(\"./img/qtl_computing/pQTLs_old.png\", dpi=300)\n",
    "plt.show()\n",
    "plt.close()\n"
   ]
  },
  {
   "cell_type": "code",
   "execution_count": null,
   "metadata": {},
   "outputs": [],
   "source": [
    "fdr_cutoffs = np.append(10. ** np.arange(-16, -1), 0.05)\n",
    "i = 0\n",
    "partial_leq = np.zeros_like(fdr_cutoffs)\n",
    "for i, q_thr in enumerate(fdr_cutoffs):\n",
    "    partial_leq[i] = len(\n",
    "        set(map(tuple, qtls_df[\"eQTLs_old\"].query(\"q_value <= {}\".format(q_thr))[[\"SNP\", \"gene\"]].values)) & \n",
    "        set(map(tuple, qtls_df[\"pQTLs\"].query(\"q_value <= {}\".format(q_thr))[[\"SNP\", \"gene\"]].values))\n",
    "    )\n",
    "partial_leq = np.cumsum(partial_leq)"
   ]
  },
  {
   "cell_type": "code",
   "execution_count": null,
   "metadata": {},
   "outputs": [],
   "source": [
    "pd.DataFrame(\n",
    "    np.column_stack((fdr_cutoffs, partial_leq)),\n",
    "    columns=[\"q_value_threshold\", \"linkages_below\"]\n",
    ")"
   ]
  },
  {
   "cell_type": "code",
   "execution_count": null,
   "metadata": {},
   "outputs": [],
   "source": [
    "plt.figure(figsize=(20, 10))\n",
    "plt.xscale(\"log\")\n",
    "sns.set(font_scale=2)\n",
    "sns.lineplot(fdr_cutoffs, partial_leq, label=\"linkages below threshold\")\n",
    "plt.axvline(x=1e-3, linestyle=\"--\", color=\"red\", alpha=0.8)\n",
    "plt.savefig(\"./img/qtl_computing/pQTLs_old_lineplot.png\", dpi=300)\n",
    "plt.show()\n",
    "plt.close()\n"
   ]
  },
  {
   "cell_type": "code",
   "execution_count": null,
   "metadata": {},
   "outputs": [],
   "source": [
    "\"\"\" Generating data for GFLasso \"\"\"\n",
    "\n",
    "module_genes = sorted(\n",
    "    set(modules_dict[\"Respiration, oxidative phosphorylation, mitochondrial targeting\"]) \n",
    "    & set(interactome_graph.vs[\"name\"])\n",
    "    & set(expression_df[\"eQTLs_old\"].dropna()[\"gene\"].values)\n",
    ")\n",
    "linked_markers = sorted(qtls_df[\"eQTLs_old\"][qtls_df[\"eQTLs_old\"][\"gene\"].isin(module_genes)][\"SNP\"].values)\n",
    "genotypes = genotypes_df[\"eQTLs_old\"][genotypes_df[\"eQTLs_old\"][\"SNP\"].isin(linked_markers)].sort_values(by=\"SNP\")\n",
    "genotypes.dropna(inplace=True)\n",
    "for colname in genotypes.columns[1:]:\n",
    "    genotypes[colname] = genotypes[colname] - 1\n",
    "expression = expression_df[\"eQTLs_old\"][expression_df[\"eQTLs_old\"][\"gene\"].isin(module_genes)].dropna().sort_values(by=\"gene\")\n",
    "genotypes.T.to_csv(\"./genotypes.csv\", sep='\\t', index=False)\n",
    "expression.T.to_csv(\"./expression.csv\", sep='\\t', index=False)\n",
    "\n",
    "incidence_matrix = np.zeros(shape=(len(module_genes), len(module_genes)), dtype=int)\n",
    "for i in range(incidence_matrix.shape[0]):\n",
    "    for j in range(incidence_matrix.shape[1]):\n",
    "        if i != j and interactome_graph.are_connected(module_genes[i], module_genes[j]):\n",
    "            incidence_matrix[i][j] = 1\n",
    "np.savetxt(fname=\"./incidence_matrix.txt\", X=incidence_matrix, fmt=\"%d\")\n"
   ]
  },
  {
   "cell_type": "code",
   "execution_count": null,
   "metadata": {},
   "outputs": [],
   "source": [
    "\"\"\" Reproducing QTL mapping technique from https://elifesciences.org/articles/35471 \"\"\"\n",
    "\n",
    "from sklearn import preprocessing\n",
    "import warnings\n",
    "\n",
    "random.seed(time.time())\n",
    "chromosome2markers = {i : genotypes_df[\"eQTLs_old\"].groupby(\"chromosome\").get_group(i)[\"SNP\"] for i in range(1, 17)}\n",
    "\n",
    "\n",
    "def nan_to_zero_then_scale(data, inplace=False, axis=1):\n",
    "    \"\"\"\n",
    "    :param data: numpy ndarray; numerical at best, but type-casting is taken care of\n",
    "    :param axis: integer; axis to scale along   \n",
    "    :param inplace: boolean; whether to create a copy or to modify the matrix in-place\n",
    "    :return: numerical numpy ndarray of the same shape with zero mean and unit variance along specified axis\n",
    "    \"\"\"\n",
    "    with warnings.catch_warnings():\n",
    "        warnings.simplefilter(\"ignore\")\n",
    "        return preprocessing.scale(\n",
    "            np.nan_to_num(data.astype(np.float32), copy=not inplace),\n",
    "            axis=axis, copy=not inplace\n",
    "        )\n",
    "\n",
    "\n",
    "def linkage_LOD_scores(genotypes_matrix, expression_matrix, inplace=False):\n",
    "    \"\"\"\n",
    "    LOD_score(gene, marker) = -n_strains * log(1 - r^2) / (2 log(10)),\n",
    "    where r is the Pearson correlation coefficient between vectors of\n",
    "    gene's expression values and marker's inheritance patterns among strains.\n",
    "    Exact formula for LOD score was taken from this paper: https://elifesciences.org/articles/35471  \n",
    "    \n",
    "    :param genotypes_matrix: numerical matrix, dimensions = n_markers x n_strains; \n",
    "                             we used -1 for BY allele and 1 for RM allele, but this choice \n",
    "                             of numerical representation is rather arbitrary  \n",
    "    :param expression_matrix: numerical matrix, dimensions = n_genes x n_strains\n",
    "    :param inplace_flag: boolean flag, introduces side effects, but saves memory by pre-processing matrices in-place  \n",
    "    :return: numerical n_genes x n_markers matrix; (i, j)-th entry is a LOD-score of (gene_i, marker_j) linkage.\n",
    "    \n",
    "    \"\"\"\n",
    "    # if samples X and Y are centered and scaled, their Pearson's r-coefficient\n",
    "    # is simply (their dot product) / (samples'_size - 1).\n",
    "    # Matrix multiplication can be used to speed up the computation of Pearson's r-coefficients\n",
    "    # between rows of genotypes_matrix and rows of expression matrix.\n",
    "    n_strains = genotypes_matrix.shape[1]\n",
    "    pearsonr = np.matmul(\n",
    "        nan_to_zero_then_scale(expression_matrix, inplace),\n",
    "        nan_to_zero_then_scale(genotypes_matrix, inplace).T\n",
    "    ) / (n_strains - 1)\n",
    "    return -n_strains * np.log(1 - pearsonr ** 2) / (2 * np.log(10))\n",
    "\n",
    "\n",
    "\"\"\" Finding peak LOD-score-per-chromosome markers for each gene as in https://elifesciences.org/articles/35471 \"\"\"\n",
    "\n",
    "\n",
    "import sklearn.linear_model\n",
    "def compute_residual_expression(expression_df, genotypes_df, gene2model_components, covariates_df=None):\n",
    "    \"\"\"\n",
    "    Fits a linear model: E = QG + R, \n",
    "        where E stands for expression profile of a particular gene, \n",
    "        G — for markers (one or several) with peak LOD-scores for that gene,\n",
    "        Q — for coefficients of the linear model,\n",
    "        R — for residual expression of that gene\n",
    "    :param expression_df: pandas dataframe; columns — \"[\"gene\"] + phenotypes\"\n",
    "    :param genotypes_df: pandas dataframe; columns — \"[\"SNP\"] + phenotypes + [\"chromosome\", \"position\"]\"\n",
    "                                -1 stands for BY allele, 1 — for RM allele, 0 — for NaN \n",
    "    :param gene2model_components: dict: str —> list; mapping between genes and markers with peak LOD-scores for those genes.   \n",
    "                                    Inheritance patterns of those markers are predictors in linear model. \n",
    "    :return: pandas dataframe; residual expression values for genes in initial expression dataframe\n",
    "    \"\"\"\n",
    "    \n",
    "    covariates_provided = covariates_df is not None\n",
    "    expression_matrix = np.nan_to_num(expression_df.values[:, 1:].astype(np.float32))\n",
    "    genotypes_matrix = nan_to_zero_then_scale(genotypes_df.values[:, 1:-2].astype(np.float32) - 1)\n",
    "    covariates_mx = np.matrix(nan_to_zero_then_scale(np.ravel(covariates_df[\"batch\"].values), axis=0)).T \\\n",
    "                        if covariates_provided else None\n",
    "    \n",
    "    residual_expression = []\n",
    "    for i, gene in enumerate(expression_df[\"gene\"]):\n",
    "        X = None\n",
    "        y = expression_matrix[expression_df[\"gene\"] == gene].T\n",
    "        large_effect_markers = gene2model_components[gene]\n",
    "        if len(large_effect_markers) != 0:\n",
    "            segregant_genotypes_mx = genotypes_matrix[genotypes_df[\"SNP\"].isin(large_effect_markers)].T\n",
    "            X = np.column_stack((covariates_mx, segregant_genotypes_mx)) \\\n",
    "                if covariates_provided else segregant_genotypes_mx\n",
    "        if X is None:\n",
    "            residual_expression.append(np.ravel(y))\n",
    "        else:\n",
    "            # Otherwise a linear model gets fitted.\n",
    "            lm = sklearn.linear_model.LinearRegression()\n",
    "            lm.fit(X, y)\n",
    "            # New expression profile is a vector of residuals in the language of linear models.\n",
    "            residual_expression.append(np.ravel(y - lm.predict(X)))\n",
    "            # return gene, large_effect_markers, X, y, lm, residual_expression\n",
    "    # Dataframe with residual expression values is later used instead of the original dataframe\n",
    "    residual_expression_dataframe = pd.DataFrame(\n",
    "        np.column_stack(\n",
    "            (expression_df[\"gene\"],\n",
    "             np.vstack(residual_expression))\n",
    "        ), \n",
    "        columns=expression_df.columns\n",
    "    )\n",
    "    return residual_expression_dataframe\n"
   ]
  },
  {
   "cell_type": "code",
   "execution_count": null,
   "metadata": {},
   "outputs": [],
   "source": [
    "%%time\n",
    "\"\"\" Preprocessing data as in https://elifesciences.org/articles/35471 \"\"\"\n",
    "\n",
    "# expression_dataframe = expression_df[\"pQTLs\"].drop([\"BY\", \"RM\"], axis=1)\n",
    "expression_dataframe = expression_df[\"eQTLs_new\"]\n",
    "# gene_occurences = collections.Counter(expression_dataframe[\"gene\"].values)\n",
    "# expression_dataframe = expression_dataframe[[\n",
    "#     gene_occurences[gene] == 1 for gene in expression_dataframe[\"gene\"]\n",
    "# ]]\n",
    "genotypes_dataframe = pd.read_table(\"./data/eQTLs/genotypes_2018_filtered.csv\")\n",
    "# genotypes_dataframe = genotypes_df[\"pQTLs\"].drop([\"BY\", \"RM\"], axis=1)\n",
    "covariates_dataframe = pd.read_table(\"./data/eQTLs/covariates_2018.csv\")\n"
   ]
  },
  {
   "cell_type": "code",
   "execution_count": null,
   "metadata": {},
   "outputs": [],
   "source": [
    "def adjust_expression_data(chromosome_id, expression_df, genotypes_df, covariates_df=None, verbose=False):\n",
    "    gene2rownum = {gene : i for i, gene in enumerate(expression_df[\"gene\"].values)}\n",
    "    remaining_chromosomes_df = genotypes_df.query(\"chromosome != {}\".format(chromosome_id))\n",
    "    used_markers_mask = np.zeros(\n",
    "        shape=(expression_df.shape[0], remaining_chromosomes_df.shape[0]), \n",
    "        dtype=np.bool\n",
    "    )\n",
    "    \n",
    "    preprocessing_iterations = 3\n",
    "    residual_expression_df = expression_df\n",
    "    gene2model_markers = collections.defaultdict(list)\n",
    "    for current_iter in range(preprocessing_iterations):\n",
    "        if verbose:\n",
    "            print(\"Iteration {} of preprocessing\".format(current_iter))\n",
    "        genotypes_mx = nan_to_zero_then_scale(remaining_chromosomes_df.values[:, 1:-2].astype(np.float32) - 1)\n",
    "        expression_mx = np.nan_to_num(residual_expression_df.values[:, 1:].astype(np.float32))\n",
    "\n",
    "        LOD_scores = np.ma.array(linkage_LOD_scores(genotypes_mx, expression_mx), mask=used_markers_mask)\n",
    "        peak_LOD_marker_ids = np.ma.argmax(LOD_scores, axis=1)\n",
    "        peak_LOD_values = np.ma.max(LOD_scores, axis=1)\n",
    "\n",
    "        candidate_linkages_df = pd.DataFrame(\n",
    "            [(remaining_chromosomes_df[\"SNP\"].values[peak_LOD_marker_ids[i]],\n",
    "              gene, peak_LOD_values[i], peak_LOD_marker_ids[i])\n",
    "             for i, gene in enumerate(expression_df[\"gene\"])],\n",
    "            columns=[\"SNP\", \"gene\", \"LOD\", \"marker_id\"]\n",
    "        ).query(\"LOD >= 3.5\")\n",
    "\n",
    "        for i, row in candidate_linkages_df.iterrows():\n",
    "            gene2model_markers[row[\"gene\"]].append(row[\"SNP\"])\n",
    "            used_markers_mask[gene2rownum[row[\"gene\"]]][row[\"marker_id\"]] = True\n",
    "            \n",
    "        residual_expression_df = compute_residual_expression(\n",
    "            expression_df, remaining_chromosomes_df,\n",
    "            gene2model_markers, covariates_df\n",
    "        )\n",
    "    return residual_expression_df\n"
   ]
  },
  {
   "cell_type": "code",
   "execution_count": null,
   "metadata": {},
   "outputs": [],
   "source": [
    "\n",
    "%%time\n",
    "\"\"\" Mapping eQTLs as in https://elifesciences.org/articles/35471 \"\"\"\n",
    "\n",
    "\n",
    "def map_qtls(expression_dataframe, genotypes_dataframe, covariates_dataframe=None):\n",
    "    qtl_list = []\n",
    "    for chromosome_id in range(1, 17):\n",
    "        chromosome_dataframe = genotypes_dataframe.groupby(\"chromosome\").get_group(chromosome_id)\n",
    "        \n",
    "        # Find background QTLs (as described in the preprocessing step) and adjust expression values\n",
    "        # to cancel out their effect by adding those QTLs to linear model for expression of a gene they\n",
    "        # influence, fitting it and using residuals instead of original expression data.\n",
    "\n",
    "        # residual_expression_dataframe = expression_dataframe        \n",
    "        residual_expression_dataframe = adjust_expression_data(\n",
    "            chromosome_id, \n",
    "            expression_dataframe, genotypes_dataframe, \n",
    "            covariates_dataframe,\n",
    "            verbose=True\n",
    "        )\n",
    "        \n",
    "        used_markers_mask = np.zeros(\n",
    "            shape=(expression_dataframe.shape[0], chromosome_dataframe.shape[0]), \n",
    "            dtype=np.bool\n",
    "        )\n",
    "        gene2rownum = {gene : i for i, gene in enumerate(expression_dataframe[\"gene\"].values)}\n",
    "        remaining_genes_mask = np.ones_like(expression_dataframe[\"gene\"].values, dtype=np.bool)\n",
    "        gene2model_components = collections.defaultdict(list)\n",
    "        \n",
    "        current_iter = 1\n",
    "        finding_linkages = True\n",
    "        while(finding_linkages):\n",
    "            print(\"Iteration {} of QTL mapping:\".format(current_iter))\n",
    "            genotypes_matrix = nan_to_zero_then_scale(chromosome_dataframe.values[:, 1:-2].astype(np.float32) - 1)\n",
    "            expression_matrix = np.nan_to_num(residual_expression_dataframe.values[:, 1:].astype(np.float32))\n",
    "\n",
    "            LOD_scores = np.ma.array(linkage_LOD_scores(genotypes_matrix, expression_matrix), mask=used_markers_mask[remaining_genes_mask, :])\n",
    "            peak_LOD_marker_ids = np.ma.argmax(LOD_scores, axis=1)\n",
    "            peak_LOD_values = np.ma.max(LOD_scores, axis=1)\n",
    "\n",
    "            # All (marker, gene) pairs with the highest LOD score per gene are initially considered to be QTLs \n",
    "            candidate_linkages_dataframe = pd.DataFrame(\n",
    "                [(chromosome_dataframe[\"SNP\"].values[peak_LOD_marker_ids[i]], gene, peak_LOD_values[i], peak_LOD_marker_ids[i])\n",
    "                 for i, gene in enumerate(residual_expression_dataframe[\"gene\"])],\n",
    "                columns=[\"SNP\", \"gene\", \"LOD\", \"marker_id\"]\n",
    "            )\n",
    "            \n",
    "            # Then LOD-score significance threshold is derived using permutations test.\n",
    "            # There are 151 threshold candidates at the moment, ranging from 1.5 to 9 with step value of 0.05.\n",
    "            # There are 1000 randomization iterations for each threshold.  \n",
    "            # Phenotypes are permuted on each iteration, while the genotypes remain the same.\n",
    "            # Then LOD-scores are calculated. Markers with peak LOD-per-gene with LOD-scores higher than current threshold get counted. \n",
    "            # Average of those counts is an expected number of linkages with LOD-scores above current threshold.\n",
    "            # The lowest LOD-score threshold, such that the ratio of expected number of linkages above that threshold\n",
    "            # to the observed number of such linkages is less than 0.05, is taken as a significance threshold.\n",
    "\n",
    "            LOD_thresholds = np.arange(1.5, 9.05, 0.05)\n",
    "            significance_threshold = np.nan\n",
    "            n_permutations = 100\n",
    "            \n",
    "            for fdr_cutoff in LOD_thresholds:\n",
    "                observed = candidate_linkages_dataframe.query(\"LOD >= {}\".format(fdr_cutoff)).shape[0]\n",
    "                if observed == 0:\n",
    "                    break\n",
    "                random_linkages_in_total = 0\n",
    "                for _ in range(n_permutations):\n",
    "                    column_permutation = np.random.permutation(range(expression_matrix.shape[1]))\n",
    "                    permuted_expression_matrix = expression_matrix[:, column_permutation]\n",
    "                    permuted_LOD_scores = linkage_LOD_scores(genotypes_matrix, permuted_expression_matrix)\n",
    "                    permuted_peak_LOD_values = np.max(permuted_LOD_scores, axis=1)\n",
    "                    random_linkages_in_total += np.count_nonzero(permuted_peak_LOD_values >= fdr_cutoff)\n",
    "                expected = random_linkages_in_total / n_permutations\n",
    "                if expected >= observed:\n",
    "                    break\n",
    "                print(\"{:.3}: {} <> {}\\t{}\".format(fdr_cutoff, expected, observed, expected / observed))\n",
    "                if expected / observed < 0.05:\n",
    "                    significance_threshold = fdr_cutoff\n",
    "                    break\n",
    "            if np.isnan(significance_threshold):\n",
    "                finding_linkages = False\n",
    "                print(\"Halting processing of chromosome {}\".format(chromosome_id))\n",
    "            else:\n",
    "                candidate_linkages_dataframe = candidate_linkages_dataframe.query(\"LOD >= {}\".format(significance_threshold))\n",
    "                qtl_list.extend(candidate_linkages_dataframe[[\"SNP\", \"gene\"]].values)\n",
    "                print(\"Chromosome: {}\\tratio: {:.2}\\t linkages: {}\".format(\n",
    "                    chromosome_id,\n",
    "                    significance_threshold,\n",
    "                    candidate_linkages_dataframe.shape[0])\n",
    "                )\n",
    "                for i, row in candidate_linkages_dataframe.iterrows():\n",
    "                    gene2model_components[row[\"gene\"]].append(row[\"SNP\"])\n",
    "                    used_markers_mask[gene2rownum[row[\"gene\"]]][row[\"marker_id\"]] = True \n",
    "                residual_expression_dataframe = compute_residual_expression(\n",
    "                    expression_dataframe, chromosome_dataframe, gene2model_components\n",
    "                )\n",
    "                residual_expression_dataframe = residual_expression_dataframe[\n",
    "                    residual_expression_dataframe[\"gene\"].isin(\n",
    "                       [gene_name for gene_name, large_effect_markers in gene2model_components.items() \n",
    "                        if len(large_effect_markers) == current_iter]\n",
    "                    ) \n",
    "                ]\n",
    "                print(\"Genes to test after iteration {}:\\t{}\".format(current_iter, residual_expression_dataframe.shape[0]))\n",
    "                remaining_genes_mask.fill(False)\n",
    "                remaining_genes_mask[residual_expression_dataframe.index] = True\n",
    "            current_iter += 1\n",
    "    unique_qtls_list = list(set(map(tuple, qtl_list)))\n",
    "    return np.asarray(unique_qtls_list, dtype=np.str)\n",
    "\n",
    "\n",
    "qtl_list = map_qtls(expression_dataframe, genotypes_dataframe, covariates_dataframe) \n"
   ]
  },
  {
   "cell_type": "code",
   "execution_count": null,
   "metadata": {
    "scrolled": true
   },
   "outputs": [],
   "source": [
    "len(set(map(tuple, qtls_df[\"eQTLs_new\"][[\"SNP\", \"gene\"]].values)) & set(map(tuple, recomputed_qtls_df[[\"SNP\", \"gene\"]].values))) / qtls_df[\"eQTLs_new\"].shape[0]"
   ]
  },
  {
   "cell_type": "markdown",
   "metadata": {},
   "source": [
    "## Using Albert&Bloom's approach to QTL mapping"
   ]
  },
  {
   "cell_type": "code",
   "execution_count": null,
   "metadata": {
    "ExecuteTime": {
     "end_time": "2018-08-27T23:38:54.132046Z",
     "start_time": "2018-08-27T23:38:53.167377Z"
    }
   },
   "outputs": [],
   "source": [
    "expr_for_algo = expression_df[\"eQTLs_2011\"].drop([\"BY\", \"RM\"], axis=1).fillna(0)\n",
    "expr_for_algo[\"gene\"] = [s.replace(\" \", \"_\") for s in expr_for_algo[\"gene\"]]\n",
    "expr_for_algo\\\n",
    "    .rename({\"gene\":\"strain\"}, axis=1)\\\n",
    "    .set_index(\"strain\")\\\n",
    "    .T\\\n",
    "    .to_csv(\"email_to_albert&bloom/old_eQTLs_expression.csv\", sep='\\t', index=False)"
   ]
  },
  {
   "cell_type": "code",
   "execution_count": null,
   "metadata": {
    "ExecuteTime": {
     "end_time": "2018-08-29T22:06:41.535167Z",
     "start_time": "2018-08-29T22:06:40.327068Z"
    }
   },
   "outputs": [],
   "source": [
    "gen_for_algo = genotypes_df[\"eQTLs_2011_interpolated\"]\\\n",
    "        .fillna(0)\\\n",
    "        .replace([0, 2], [-1, 1])\n",
    "#             .drop([\"BY\", \"RM\"], axis=1)\\\n",
    "gen_for_algo[\"SNP\"] = \\\n",
    "    [\"chr{}:{}\".format(\n",
    "            util.as_roman(gen_for_algo[\"chromosome\"].values[i]),\n",
    "            snp\n",
    "        ) for i, snp in enumerate(gen_for_algo[\"SNP\"])\n",
    "    ]\n",
    "gen_for_algo\\\n",
    "    .rename({\"SNP\":\"strain\"}, axis=1)\\\n",
    "    .drop([\"chromosome\", \"position\"], axis=1)\\\n",
    "    .set_index(\"strain\")\\\n",
    "    .T\\\n",
    "    .to_csv(\"email_to_albert&bloom/new_eQTLs_genotypes_interpolated.csv\", sep='\\t', index=False)"
   ]
  },
  {
   "cell_type": "code",
   "execution_count": null,
   "metadata": {
    "ExecuteTime": {
     "end_time": "2018-08-27T23:30:05.669438Z",
     "start_time": "2018-08-27T23:30:05.497774Z"
    }
   },
   "outputs": [],
   "source": [
    "qtls_for_algo = qtls_df[\"eQTLs_2011\"].rename({\"SNP\":\"pmarker\"}, axis=1)\n",
    "snp2full_name = \\\n",
    "    {snp:\"chr{}:{}\".format(\n",
    "            util.as_roman(genotypes_df[\"eQTLs_2011\"][\"chromosome\"].values[i]),\n",
    "            snp\n",
    "        ) for i, snp in enumerate(genotypes_df[\"eQTLs_2011\"][\"SNP\"])\n",
    "    }\n",
    "qtls_for_algo[\"pmarker\"] = qtls_for_algo[\"pmarker\"].apply(lambda s: snp2full_name[s])\n",
    "qtls_for_algo.to_csv(\"email_to_albert&bloom/reference_eQTLs_old.csv\", sep='\\t', index=False)"
   ]
  },
  {
   "cell_type": "code",
   "execution_count": null,
   "metadata": {
    "ExecuteTime": {
     "end_time": "2018-08-30T15:59:28.904119Z",
     "start_time": "2018-08-30T15:59:28.885249Z"
    },
    "scrolled": true
   },
   "outputs": [],
   "source": [
    "print(qtls_df[\"eQTLs_2011_albert&bloom\"].shape[0])\n",
    "print(qtls_df[\"pQTLs_2011_albert&bloom\"].shape[0])\n",
    "\n",
    "qtl_set_MatrixEQTL = set(\n",
    "    map(tuple, qtls_df[\"eQTLs_2011_albert&bloom\"][[\"SNP\", \"gene\"]].values))\n",
    "qtl_set_AB = set(\n",
    "    map(tuple, qtls_df[\"pQTLs_2011_albert&bloom\"][[\"SNP\", \"gene\"]].values))\n",
    "\n",
    "print(\n",
    "    \"Jaccard: {}\\nCommon: {}\".format(\n",
    "        qtls.jaccard(qtl_set_MatrixEQTL, qtl_set_AB),\n",
    "    len(qtl_set_MatrixEQTL & qtl_set_AB)))"
   ]
  },
  {
   "cell_type": "code",
   "execution_count": null,
   "metadata": {},
   "outputs": [],
   "source": []
  }
 ],
 "metadata": {
  "kernelspec": {
   "display_name": "Python [conda env:anaconda3]",
   "language": "python",
   "name": "conda-env-anaconda3-py"
  },
  "language_info": {
   "codemirror_mode": {
    "name": "ipython",
    "version": 3
   },
   "file_extension": ".py",
   "mimetype": "text/x-python",
   "name": "python",
   "nbconvert_exporter": "python",
   "pygments_lexer": "ipython3",
   "version": "3.5.5"
  },
  "varInspector": {
   "cols": {
    "lenName": 16,
    "lenType": 16,
    "lenVar": 40
   },
   "kernels_config": {
    "python": {
     "delete_cmd_postfix": "",
     "delete_cmd_prefix": "del ",
     "library": "var_list.py",
     "varRefreshCmd": "print(var_dic_list())"
    },
    "r": {
     "delete_cmd_postfix": ") ",
     "delete_cmd_prefix": "rm(",
     "library": "var_list.r",
     "varRefreshCmd": "cat(var_dic_list()) "
    }
   },
   "types_to_exclude": [
    "module",
    "function",
    "builtin_function_or_method",
    "instance",
    "_Feature"
   ],
   "window_display": false
  }
 },
 "nbformat": 4,
 "nbformat_minor": 2
}
